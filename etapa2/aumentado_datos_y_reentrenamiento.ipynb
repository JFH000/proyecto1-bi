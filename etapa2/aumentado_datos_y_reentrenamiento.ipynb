{
 "cells": [
  {
   "cell_type": "markdown",
   "id": "b265665c",
   "metadata": {},
   "source": [
    "# 0. Configuración de entorno"
   ]
  },
  {
   "cell_type": "code",
   "execution_count": 11,
   "id": "4b7c7944",
   "metadata": {},
   "outputs": [
    {
     "name": "stdout",
     "output_type": "stream",
     "text": [
      "Note: you may need to restart the kernel to use updated packages.\n"
     ]
    },
    {
     "name": "stderr",
     "output_type": "stream",
     "text": [
      "\n",
      "[notice] A new release of pip is available: 25.0.1 -> 25.2\n",
      "[notice] To update, run: python.exe -m pip install --upgrade pip\n"
     ]
    },
    {
     "name": "stdout",
     "output_type": "stream",
     "text": [
      "Note: you may need to restart the kernel to use updated packages.\n"
     ]
    },
    {
     "name": "stderr",
     "output_type": "stream",
     "text": [
      "\n",
      "[notice] A new release of pip is available: 25.0.1 -> 25.2\n",
      "[notice] To update, run: python.exe -m pip install --upgrade pip\n"
     ]
    },
    {
     "name": "stdout",
     "output_type": "stream",
     "text": [
      "Collecting google-generativeai\n",
      "  Using cached google_generativeai-0.8.5-py3-none-any.whl.metadata (3.9 kB)\n",
      "Collecting google-ai-generativelanguage==0.6.15 (from google-generativeai)\n",
      "  Using cached google_ai_generativelanguage-0.6.15-py3-none-any.whl.metadata (5.7 kB)\n",
      "Collecting google-api-core (from google-generativeai)\n",
      "  Downloading google_api_core-2.25.2-py3-none-any.whl.metadata (3.0 kB)\n",
      "Collecting google-api-python-client (from google-generativeai)\n",
      "  Downloading google_api_python_client-2.184.0-py3-none-any.whl.metadata (7.0 kB)\n",
      "Requirement already satisfied: google-auth>=2.15.0 in c:\\users\\juanf\\onedrive - universidad de los andes\\uni\\s6\\5. bi\\proyecto1-bi\\venv\\lib\\site-packages (from google-generativeai) (2.41.1)\n",
      "Collecting protobuf (from google-generativeai)\n",
      "  Using cached protobuf-6.32.1-cp310-abi3-win_amd64.whl.metadata (593 bytes)\n",
      "Requirement already satisfied: pydantic in c:\\users\\juanf\\onedrive - universidad de los andes\\uni\\s6\\5. bi\\proyecto1-bi\\venv\\lib\\site-packages (from google-generativeai) (2.12.0)\n",
      "Requirement already satisfied: tqdm in c:\\users\\juanf\\onedrive - universidad de los andes\\uni\\s6\\5. bi\\proyecto1-bi\\venv\\lib\\site-packages (from google-generativeai) (4.67.1)\n",
      "Requirement already satisfied: typing-extensions in c:\\users\\juanf\\onedrive - universidad de los andes\\uni\\s6\\5. bi\\proyecto1-bi\\venv\\lib\\site-packages (from google-generativeai) (4.15.0)\n",
      "Collecting proto-plus<2.0.0dev,>=1.22.3 (from google-ai-generativelanguage==0.6.15->google-generativeai)\n",
      "  Using cached proto_plus-1.26.1-py3-none-any.whl.metadata (2.2 kB)\n",
      "Collecting protobuf (from google-generativeai)\n",
      "  Using cached protobuf-5.29.5-cp310-abi3-win_amd64.whl.metadata (592 bytes)\n",
      "Collecting googleapis-common-protos<2.0.0,>=1.56.2 (from google-api-core->google-generativeai)\n",
      "  Using cached googleapis_common_protos-1.70.0-py3-none-any.whl.metadata (9.3 kB)\n",
      "Requirement already satisfied: requests<3.0.0,>=2.18.0 in c:\\users\\juanf\\onedrive - universidad de los andes\\uni\\s6\\5. bi\\proyecto1-bi\\venv\\lib\\site-packages (from google-api-core->google-generativeai) (2.32.5)\n",
      "Requirement already satisfied: cachetools<7.0,>=2.0.0 in c:\\users\\juanf\\onedrive - universidad de los andes\\uni\\s6\\5. bi\\proyecto1-bi\\venv\\lib\\site-packages (from google-auth>=2.15.0->google-generativeai) (6.2.0)\n",
      "Requirement already satisfied: pyasn1-modules>=0.2.1 in c:\\users\\juanf\\onedrive - universidad de los andes\\uni\\s6\\5. bi\\proyecto1-bi\\venv\\lib\\site-packages (from google-auth>=2.15.0->google-generativeai) (0.4.2)\n",
      "Requirement already satisfied: rsa<5,>=3.1.4 in c:\\users\\juanf\\onedrive - universidad de los andes\\uni\\s6\\5. bi\\proyecto1-bi\\venv\\lib\\site-packages (from google-auth>=2.15.0->google-generativeai) (4.9.1)\n",
      "Collecting httplib2<1.0.0,>=0.19.0 (from google-api-python-client->google-generativeai)\n",
      "  Using cached httplib2-0.31.0-py3-none-any.whl.metadata (2.2 kB)\n",
      "Collecting google-auth-httplib2<1.0.0,>=0.2.0 (from google-api-python-client->google-generativeai)\n",
      "  Using cached google_auth_httplib2-0.2.0-py2.py3-none-any.whl.metadata (2.2 kB)\n",
      "Collecting uritemplate<5,>=3.0.1 (from google-api-python-client->google-generativeai)\n",
      "  Using cached uritemplate-4.2.0-py3-none-any.whl.metadata (2.6 kB)\n",
      "Requirement already satisfied: annotated-types>=0.6.0 in c:\\users\\juanf\\onedrive - universidad de los andes\\uni\\s6\\5. bi\\proyecto1-bi\\venv\\lib\\site-packages (from pydantic->google-generativeai) (0.7.0)\n",
      "Requirement already satisfied: pydantic-core==2.41.1 in c:\\users\\juanf\\onedrive - universidad de los andes\\uni\\s6\\5. bi\\proyecto1-bi\\venv\\lib\\site-packages (from pydantic->google-generativeai) (2.41.1)\n",
      "Requirement already satisfied: typing-inspection>=0.4.2 in c:\\users\\juanf\\onedrive - universidad de los andes\\uni\\s6\\5. bi\\proyecto1-bi\\venv\\lib\\site-packages (from pydantic->google-generativeai) (0.4.2)\n",
      "Requirement already satisfied: colorama in c:\\users\\juanf\\onedrive - universidad de los andes\\uni\\s6\\5. bi\\proyecto1-bi\\venv\\lib\\site-packages (from tqdm->google-generativeai) (0.4.6)\n",
      "Collecting grpcio<2.0.0,>=1.33.2 (from google-api-core[grpc]!=2.0.*,!=2.1.*,!=2.10.*,!=2.2.*,!=2.3.*,!=2.4.*,!=2.5.*,!=2.6.*,!=2.7.*,!=2.8.*,!=2.9.*,<3.0.0dev,>=1.34.1->google-ai-generativelanguage==0.6.15->google-generativeai)\n",
      "  Downloading grpcio-1.75.1-cp312-cp312-win_amd64.whl.metadata (3.8 kB)\n",
      "Collecting grpcio-status<2.0.0,>=1.33.2 (from google-api-core[grpc]!=2.0.*,!=2.1.*,!=2.10.*,!=2.2.*,!=2.3.*,!=2.4.*,!=2.5.*,!=2.6.*,!=2.7.*,!=2.8.*,!=2.9.*,<3.0.0dev,>=1.34.1->google-ai-generativelanguage==0.6.15->google-generativeai)\n",
      "  Downloading grpcio_status-1.75.1-py3-none-any.whl.metadata (1.1 kB)\n",
      "Requirement already satisfied: pyparsing<4,>=3.0.4 in c:\\users\\juanf\\onedrive - universidad de los andes\\uni\\s6\\5. bi\\proyecto1-bi\\venv\\lib\\site-packages (from httplib2<1.0.0,>=0.19.0->google-api-python-client->google-generativeai) (3.2.5)\n",
      "Requirement already satisfied: pyasn1<0.7.0,>=0.6.1 in c:\\users\\juanf\\onedrive - universidad de los andes\\uni\\s6\\5. bi\\proyecto1-bi\\venv\\lib\\site-packages (from pyasn1-modules>=0.2.1->google-auth>=2.15.0->google-generativeai) (0.6.1)\n",
      "Requirement already satisfied: charset_normalizer<4,>=2 in c:\\users\\juanf\\onedrive - universidad de los andes\\uni\\s6\\5. bi\\proyecto1-bi\\venv\\lib\\site-packages (from requests<3.0.0,>=2.18.0->google-api-core->google-generativeai) (3.4.3)\n",
      "Requirement already satisfied: idna<4,>=2.5 in c:\\users\\juanf\\onedrive - universidad de los andes\\uni\\s6\\5. bi\\proyecto1-bi\\venv\\lib\\site-packages (from requests<3.0.0,>=2.18.0->google-api-core->google-generativeai) (3.10)\n",
      "Requirement already satisfied: urllib3<3,>=1.21.1 in c:\\users\\juanf\\onedrive - universidad de los andes\\uni\\s6\\5. bi\\proyecto1-bi\\venv\\lib\\site-packages (from requests<3.0.0,>=2.18.0->google-api-core->google-generativeai) (2.5.0)\n",
      "Requirement already satisfied: certifi>=2017.4.17 in c:\\users\\juanf\\onedrive - universidad de los andes\\uni\\s6\\5. bi\\proyecto1-bi\\venv\\lib\\site-packages (from requests<3.0.0,>=2.18.0->google-api-core->google-generativeai) (2025.10.5)\n",
      "INFO: pip is looking at multiple versions of grpcio-status to determine which version is compatible with other requirements. This could take a while.\n",
      "  Using cached grpcio_status-1.75.0-py3-none-any.whl.metadata (1.1 kB)\n",
      "  Using cached grpcio_status-1.74.0-py3-none-any.whl.metadata (1.1 kB)\n",
      "  Using cached grpcio_status-1.73.1-py3-none-any.whl.metadata (1.1 kB)\n",
      "  Using cached grpcio_status-1.73.0-py3-none-any.whl.metadata (1.1 kB)\n",
      "  Using cached grpcio_status-1.72.2-py3-none-any.whl.metadata (1.1 kB)\n",
      "  Using cached grpcio_status-1.72.1-py3-none-any.whl.metadata (1.1 kB)\n",
      "  Using cached grpcio_status-1.71.2-py3-none-any.whl.metadata (1.1 kB)\n",
      "Using cached google_generativeai-0.8.5-py3-none-any.whl (155 kB)\n",
      "Using cached google_ai_generativelanguage-0.6.15-py3-none-any.whl (1.3 MB)\n",
      "Downloading google_api_core-2.25.2-py3-none-any.whl (162 kB)\n",
      "Using cached protobuf-5.29.5-cp310-abi3-win_amd64.whl (434 kB)\n",
      "Downloading google_api_python_client-2.184.0-py3-none-any.whl (14.3 MB)\n",
      "   ---------------------------------------- 0.0/14.3 MB ? eta -:--:--\n",
      "   ---------------- ----------------------- 5.8/14.3 MB 29.4 MB/s eta 0:00:01\n",
      "   -------------------------------- ------- 11.5/14.3 MB 28.9 MB/s eta 0:00:01\n",
      "   ---------------------------------------- 14.3/14.3 MB 26.4 MB/s eta 0:00:00\n",
      "Using cached google_auth_httplib2-0.2.0-py2.py3-none-any.whl (9.3 kB)\n",
      "Using cached googleapis_common_protos-1.70.0-py3-none-any.whl (294 kB)\n",
      "Using cached httplib2-0.31.0-py3-none-any.whl (91 kB)\n",
      "Using cached proto_plus-1.26.1-py3-none-any.whl (50 kB)\n",
      "Using cached uritemplate-4.2.0-py3-none-any.whl (11 kB)\n",
      "Downloading grpcio-1.75.1-cp312-cp312-win_amd64.whl (4.6 MB)\n",
      "   ---------------------------------------- 0.0/4.6 MB ? eta -:--:--\n",
      "   ---------------------------------------- 4.6/4.6 MB 27.9 MB/s eta 0:00:00\n",
      "Using cached grpcio_status-1.71.2-py3-none-any.whl (14 kB)\n",
      "Installing collected packages: uritemplate, protobuf, httplib2, grpcio, proto-plus, googleapis-common-protos, grpcio-status, google-auth-httplib2, google-api-core, google-api-python-client, google-ai-generativelanguage, google-generativeai\n",
      "Successfully installed google-ai-generativelanguage-0.6.15 google-api-core-2.25.2 google-api-python-client-2.184.0 google-auth-httplib2-0.2.0 google-generativeai-0.8.5 googleapis-common-protos-1.70.0 grpcio-1.75.1 grpcio-status-1.71.2 httplib2-0.31.0 proto-plus-1.26.1 protobuf-5.29.5 uritemplate-4.2.0\n",
      "Note: you may need to restart the kernel to use updated packages.\n"
     ]
    },
    {
     "name": "stderr",
     "output_type": "stream",
     "text": [
      "\n",
      "[notice] A new release of pip is available: 25.0.1 -> 25.2\n",
      "[notice] To update, run: python.exe -m pip install --upgrade pip\n"
     ]
    }
   ],
   "source": [
    "%pip install pandas scikit-learn nltk matplotlib seaborn openpyxl python-dotenv -q\n",
    "%pip install -q -U google-genai \n",
    "%pip install -U google-generativeai\n"
   ]
  },
  {
   "cell_type": "code",
   "execution_count": 19,
   "id": "8384e8b1",
   "metadata": {},
   "outputs": [],
   "source": [
    "import pandas as pd\n",
    "import numpy as np\n",
    "\n",
    "import matplotlib.pyplot as plt\n",
    "\n",
    "from sklearn.model_selection import train_test_split\n",
    "from sklearn.svm import LinearSVC\n",
    "from sklearn.feature_extraction.text import TfidfVectorizer\n",
    "from sklearn.pipeline import Pipeline\n",
    "from sklearn.metrics import accuracy_score, f1_score, precision_score, recall_score, confusion_matrix, classification_report\n",
    "\n",
    "from dotenv import load_dotenv\n",
    "load_dotenv()\n",
    "\n",
    "from google import genai\n",
    "from google.genai import types\n",
    "client = genai.Client()\n",
    "\n",
    "import joblib\n",
    "import utils\n",
    "import json\n",
    "import re\n",
    "\n",
    "dict_ods = {\n",
    "    1: \"Fin de la pobreza\",\n",
    "    3: \"Salud y bienestar\",\n",
    "    4: \"Educación de calidad\",\n",
    "}"
   ]
  },
  {
   "cell_type": "code",
   "execution_count": 3,
   "id": "c4075c7a",
   "metadata": {},
   "outputs": [],
   "source": [
    "df_original = pd.read_excel('../data/Datos_proyecto.xlsx')\n",
    "df_original_clean = utils.clean_df(df_original)\n",
    "df_new = pd.read_excel('../data/Datos_etapa 2.xlsx')\n",
    "df_new_clean = utils.clean_df(df_new)\n"
   ]
  },
  {
   "cell_type": "markdown",
   "id": "bc9c85e8",
   "metadata": {},
   "source": [
    "---\n",
    "\n",
    "# 1. Procedimiento\n",
    "\n",
    "Para llevar a cabo la fase de re-entrenamiento, se analizó el requerimiento del proyecto. El enunciado indica: \"Una vez incorporados estos datos sintéticos junto con los news datos, al conjunto original, se debe reentrenar el modelo...\".\n",
    "\n",
    "Una interpretación literal de esta frase podría sugerir mezclar todos los conjuntos de datos (original, Datos_etapa_2 y los sintéticos) para el entrenamiento. Sin embargo, como equipo hemos identificado que este enfoque no se alinea con las buenas prácticas de la ciencia de datos, ya que introduciría un problema conocido como fuga de datos (data leakage).\n",
    "\n",
    "La fuga de datos ocurriría porque el conjunto `Datos_etapa_2` está explícitamente destinado a evaluar el rendimiento del modelo. Si se incluye en el entrenamiento, estaríamos evaluando el modelo con datos que ya ha \"visto\", lo que invalidaría por completo el objetivo de los resultados y generaría métricas de rendimiento artificialmente altas y poco realistas.\n",
    "\n",
    "para garantizar una evaluación rigurosa y metodológicamente correcta, se adoptó el siguiente procedimiento:\n",
    "- **Fase 1: Establecimiento de la Línea Base (Benchmark)**\n",
    "    - Cargar el mejor modelo de la etapa 1\n",
    "    - Utilizar ese modelo para realizar predicciones sobre Datos_Etapa_2\n",
    "    - Calcular y guardar métricas de rendimiento\n",
    "- **Fase 2: Aumentación de Datos y Re-entrenamiento:**\n",
    "    - Dividir el conjunto de datos originales en `train_original` y `test_original`\n",
    "    - Identificar la clase minoritaria\n",
    "    - Mediante técnicas de prompting generar datos sintéticos de alta calidad\n",
    "    - Crear el conjunto `train_final` siendo el resulatado de `train_original` unido con los datos sinteticos generados\n",
    "    - Re entrenar el modelo con los datos de `train_final`\n",
    "    - Calcular y guardar métricas de rendimiento\n",
    "- **Fase 3: Evaluación comparativa:**\n",
    "    - Evaluar al modelo re-entrenado con el conjunto `Datos_etapa_2`\n",
    "    - Comparar los resultados anteriores con los de la fase 1 para verificar si las metrica mejoraron con el prompting\n",
    "\n"
   ]
  },
  {
   "cell_type": "markdown",
   "id": "6822e644",
   "metadata": {},
   "source": [
    "---\n",
    "# Fase 1: Establecimiento de linea base (Benchmark)\n",
    "## 1.1 Cargar el mejor modelo de la etapa 1\n"
   ]
  },
  {
   "cell_type": "code",
   "execution_count": 4,
   "id": "46da4ceb",
   "metadata": {},
   "outputs": [],
   "source": [
    "best_model_etapa1 = joblib.load('../etapa1/best_model_etapa1.pkl')"
   ]
  },
  {
   "cell_type": "markdown",
   "id": "23e95a2a",
   "metadata": {},
   "source": [
    "## 1.2 Predecir los datos news"
   ]
  },
  {
   "cell_type": "code",
   "execution_count": 5,
   "id": "e1e94854",
   "metadata": {},
   "outputs": [],
   "source": [
    "X_new = df_new_clean['textos']\n",
    "y_new = df_new_clean['labels']\n",
    "y_new_pred = best_model_etapa1.predict(X_new)"
   ]
  },
  {
   "cell_type": "markdown",
   "id": "39c06a3b",
   "metadata": {},
   "source": [
    "## 1.3 Calcular métricas\n"
   ]
  },
  {
   "cell_type": "code",
   "execution_count": 6,
   "id": "8fc9f31b",
   "metadata": {},
   "outputs": [
    {
     "name": "stdout",
     "output_type": "stream",
     "text": [
      "Accuracy: 0.9292929292929293\n",
      "F1-macro: 0.9227234753550544\n",
      "Precision: 0.9430894308943089\n",
      "Recall: 0.9132521225544482\n"
     ]
    }
   ],
   "source": [
    "\n",
    "print(\"Accuracy:\", accuracy_score(y_new, y_new_pred))\n",
    "print(\"F1-macro:\", f1_score(y_new, y_new_pred, average='macro'))\n",
    "print(\"Precision:\", precision_score(y_new, y_new_pred, average='macro'))\n",
    "print(\"Recall:\", recall_score(y_new, y_new_pred, average='macro'))\n",
    "# print(\"\\nMatriz de confusión:\\n\", confusion_matrix(y_new, y_new_pred))\n",
    "# print(\"\\nReporte de clasificación:\\n\", classification_report(y_new, y_new_pred))\n"
   ]
  },
  {
   "cell_type": "markdown",
   "id": "cb281a20",
   "metadata": {},
   "source": [
    "Estos resultados muestran un claro overfiting en el modelo mostrando que este memoriza en su mayoria muy bien datos del mismo conjunto de train, pero que para datos nuevos suele fallar más."
   ]
  },
  {
   "cell_type": "markdown",
   "id": "98d3db58",
   "metadata": {},
   "source": [
    "---\n",
    "\n",
    "# Fase 2: Aumentación de Datos y Re-entrenamiento\n",
    "## 2.2 Dividir los datos del conjunto original en test y train\n"
   ]
  },
  {
   "cell_type": "code",
   "execution_count": 122,
   "id": "969446d4",
   "metadata": {},
   "outputs": [],
   "source": [
    "train_original, test_original = train_test_split(\n",
    "    df_original_clean,\n",
    "    test_size=0.30,\n",
    "    random_state=42,\n",
    "    stratify=df_original_clean[\"labels\"]  # mantiene proporciones de clase\n",
    ")\n"
   ]
  },
  {
   "cell_type": "markdown",
   "id": "658c6de3",
   "metadata": {},
   "source": [
    "## 2.3 Identificar la clase minoritarias\n"
   ]
  },
  {
   "cell_type": "code",
   "execution_count": 8,
   "id": "8173ffaf",
   "metadata": {},
   "outputs": [
    {
     "data": {
      "image/png": "[encoded data removed]",
      "text/plain": [
       "<Figure size 600x600 with 1 Axes>"
      ]
     },
     "metadata": {},
     "output_type": "display_data"
    },
    {
     "name": "stdout",
     "output_type": "stream",
     "text": [
      "Clase minoritaria: 1\n"
     ]
    }
   ],
   "source": [
    "\n",
    "minoritaria = df_original_clean['labels'].value_counts().idxmin()\n",
    "\n",
    "label_counts = df_original_clean['labels'].value_counts()\n",
    "label_counts.index = label_counts.index.map(lambda i: f\"ODS {i} - {dict_ods.get(i, 'Desconocido')}\")\n",
    "\n",
    "plt.figure(figsize=(6, 6))\n",
    "plt.pie(\n",
    "    label_counts,\n",
    "    labels=label_counts.index,\n",
    "    autopct=lambda p: f'{p:.1f}%\\n({int(p * sum(label_counts) / 100)})',\n",
    "    startangle=90,\n",
    "    colors=plt.cm.Set3.colors\n",
    ")\n",
    "\n",
    "plt.title(\"Distribución de opiniones por ODS\", fontsize=15)\n",
    "plt.axis(\"equal\")  # Mantiene el círculo perfecto\n",
    "plt.show()\n",
    "\n",
    "print(f\"Clase minoritaria: {minoritaria}\")\n"
   ]
  },
  {
   "cell_type": "markdown",
   "id": "95aa0da0",
   "metadata": {},
   "source": [
    "La clase minoritaria es el ODS 1 (Fin de la pobreza), mediante prompting se buscaria aumentar sus registros por lo menos hasta 900"
   ]
  },
  {
   "cell_type": "markdown",
   "id": "79104deb",
   "metadata": {},
   "source": [
    "## 2.4 Generar datos sintéticos con técnicas de prompting\n"
   ]
  },
  {
   "cell_type": "code",
   "execution_count": 68,
   "id": "1320f99f",
   "metadata": {},
   "outputs": [
    {
     "name": "stdout",
     "output_type": "stream",
     "text": [
      "\n",
      "Genera 200 opiniones ciudadanas breves (3-6 oraciones), en español de Colombia,\n",
      "realistas y respetuosas, sobre problemáticas locales mapeadas SOLO al ODS 1.\n",
      "Definición de cada ODS: ODS 1: Fin de la pobreza, ODS 3: Salud y Bienestar, ODS 4: Educación de calidad\n",
      "Requisitos:\n",
      "- TODAS deben corresponder al ODS 1.\n",
      "- Varía zonas (urbano/rural), actores e instituciones; evita datos personales.\n",
      "- Mantén neutralidad política y sin contenido sensible.\n",
      "- TODAS deben tener más de 350 caracteres.\n",
      "- Cada uno debe ser diferente, no pueden haber duplicados.\n",
      "- Entrega SOLO lista válida: una lista de string con las opiniones.\n",
      "\n",
      "Ejemplos de nuestro dataset (NO copiar, solo inspirarse):\n",
      "- En tres (Chile, Perú y Uruguay), el efecto de este factor se vio potenciado por una mejora en la distribución, al menos en el área de distribución cercana a la línea de pobreza. Por otro lado, la tendencia a la baja de la pobreza en Argentina y República Dominicana fue, en parte, frenada —no ayudada— por cambios en la distribución. En otro grupo de cinco países, el efecto distribución fue el principal determinante de la caída de las tasas de pobreza.\n",
      "- Por ejemplo, con el umbral de pobreza definido en el 60% de los ingresos medios de un país, en 2006, 72 millones de personas en la UE estaban en riesgo de caer en la pobreza, y en 2001, más de la mitad de todas las personas en hogares con bajos ingresos en la UE vivían con el riesgo persistente de caer en la pobreza. Además, se calcula que una de cada cinco personas en Europa vive en infraviviendas y el 10% vive en hogares en los que nadie trabaja (Comisión de las Comunidades Europeas, 2007). Durante la década de 1990, las tasas de pobreza más elevadas se registraron en Estados Unidos, el Reino Unido de Gran Bretaña e Irlanda del Norte, Irlanda, Italia y Grecia.\n",
      "- Pasar de políticas comprometidas de salario mínimo a un reparto mucho más justo de las ganancias de productividad y de los beneficios debería ser un punto de partida. Ya veremos, pero sin duda de esto tratarán la política y las luchas sociales en los próximos años. La capacidad de hacer frente a los choques adversos se ve comprometida por la falta de protección social formal, y las vulnerabilidades se agravan cuando las personas que trabajan de manera informal se enfrentan al acoso de las autoridades públicas. \n",
      "- Teniendo en cuenta que los resultados son ilustrativos de un nivel salarial específico, los trabajadores solteros a tiempo parcial pagan más impuestos de lo que reciben en prestaciones: en Eslovenia, la caída de la renta disponible sitúa a los solteros por debajo del umbral de la pobreza. En algunos países, como Irlanda, Nueva Zelanda y Japón, las parejas sin hijos pagan menos en impuestos de lo que reciben en prestaciones, pero en la mayoría de los países ocurre lo contrario, y en algunos países (Austria, Italia, Suecia y Suiza), las familias desechables ingreso cae por debajo de la línea de pobreza. En la mayoría de los países, los padres solteros que tienen dos hijos y trabajan a tiempo parcial reciben más beneficios de lo que pagan en impuestos, y en muchos de estos países el aumento resultante en el ingreso disponible lleva al hogar por encima de la línea de pobreza.\n",
      "- La segunda se centra en el análisis de la relación entre pobreza y desigualdad. El tercero abarca la literatura sobre la relación entre crecimiento económico y desigualdad de ingresos. Los resultados de estos estudios se corroboran mutuamente en la medida en que todos indican que, como señalan Araujo, Tabosa y Khan (2012), hay dos factores fundamentales en juego: la tasa media de crecimiento y el nivel inicial de desigualdad de ingresos.\n",
      "- No obstante, surgen algunas asociaciones importantes. Por ejemplo, las tasas de pobreza infantil son mayores cuando tanto el tamaño medio del hogar como la tasa de fecundidad adolescente son mayores, mientras que la proporción de la población que vive en zonas rurales se asocia negativamente con la pobreza infantil relativa. Dicho esto, solo los cambios en la tasa de fecundidad adolescente comparten una asociación negativa con las tendencias internas de los países en las tasas de pobreza infantil, lo que sugiere que la disminución de los embarazos adolescentes observada en la OCDE en las últimas décadas ha contribuido a reducir la pobreza infantil.\n",
      "- Entre 2015 y 2017, seis países muestran una reducción anual del 3% o más en las tasas de pobreza. En Chile, El Salvador, Panamá y Paraguay, más de la mitad del aumento de los ingresos de los hogares pobres provino de los ingresos laborales, mientras que en Costa Rica y Uruguay predominaron los aumentos de las transferencias contributivas y no contributivas. En algunos países, especialmente en Chile.\n",
      "- Algunos países logran menores tasas de pobreza infantil redistribuyendo las asignaciones familiares, mientras que para otros la mayor reducción de la pobreza infantil se obtiene con una redistribución de los beneficios de vivienda. Esto depende de las ganancias para las familias pobres, pero también de las posibles pérdidas para las familias que inicialmente se encuentran por encima del umbral de la pobreza pero que reciben diferentes tipos de beneficios. En el primer grupo de países, la tasa de pobreza infantil más baja se logra cuando los beneficios de vivienda se redistribuyen para cubrir a todos los niños pobres. Este escenario presenta las mayores caídas en las tasas de pobreza infantil en Dinamarca, Islandia, Irlanda y Luxemburgo.\n",
      "\n",
      "\n"
     ]
    }
   ],
   "source": [
    "semillas = (\n",
    "    df_original[df_original['labels']==minoritaria]['textos']      # filtra solo filas de la clase minoritaria y se queda con la columna de texto\n",
    "      .dropna()                          # quita textos vacíos/NaN\n",
    "      .astype(str)                       # asegura que todo sea string\n",
    "      .sample(                           # toma una muestra aleatoria\n",
    "          min(8, sum(df_original['labels']==minoritaria)),  # hasta 8 textos, pero nunca más de los que hay\n",
    "          random_state=42                      # para que la muestra sea reproducible\n",
    "      )\n",
    "      .tolist()                          # lo convierte a lista de strings\n",
    ")\n",
    "ejemplos = \"\\n\".join(f\"- {s}\" for s in semillas)\n",
    "\n",
    "prompt = f\"\"\"\n",
    "Genera 200 opiniones ciudadanas breves (3-6 oraciones), en español de Colombia,\n",
    "realistas y respetuosas, sobre problemáticas locales mapeadas SOLO al ODS {minoritaria}.\n",
    "Definición de cada ODS: ODS 1: Fin de la pobreza, ODS 3: Salud y Bienestar, ODS 4: Educación de calidad\n",
    "Requisitos:\n",
    "- TODAS deben corresponder al ODS {minoritaria}.\n",
    "- Varía zonas (urbano/rural), actores e instituciones; evita datos personales.\n",
    "- Mantén neutralidad política y sin contenido sensible.\n",
    "- TODAS deben tener más de 350 caracteres.\n",
    "- Cada uno debe ser diferente, no pueden haber duplicados.\n",
    "- Entrega SOLO lista válida: una lista de string con las opiniones.\n",
    "\n",
    "Ejemplos de nuestro dataset (NO copiar, solo inspirarse):\n",
    "{ejemplos if 'ejemplos' in globals() and ejemplos else '- (sin ejemplos de contexto)'}\n",
    "\n",
    "\"\"\"\n",
    "\n",
    "print(prompt)"
   ]
  },
  {
   "cell_type": "code",
   "execution_count": 69,
   "id": "09646e55",
   "metadata": {},
   "outputs": [
    {
     "name": "stdout",
     "output_type": "stream",
     "text": [
      "```json\n",
      "[\n",
      "  \"Es preocupante ver cómo en nuestra vereda, la falta de oportunidades de empleo digno obliga a muchas familias a vivir con lo mínimo, sin acceso a servicios básicos. Las autoridades locales deben implementar programas que impulsen la economía rural y generen ingresos estables para los campesinos. La situación actual es insostenible y afecta directamente la calidad de vida de nuestros vecinos, perpetuando un ciclo de pobreza que parece no tener fin.\",\n",
      "  \"La informalidad laboral en mi barrio es rampante y deja a muchísimas personas sin seguridad social ni ingresos fijos, lo que agrava la pobreza. Es urgente que el gobierno municipal cree incentivos para la formalización y brinde apoyo a pequeños emprendedores. La falta de acceso a un empleo estable es una barrera enorme para salir adelante y construir un futuro digno para nuestras familias.\",\n",
      "  \"En el centro de la ciudad, hay demasiada gente viviendo en situación de calle, lo cual refleja una profunda desigualdad y falta de redes de apoyo. La alcaldía debería fortalecer los programas de atención integral a esta población, ofreciéndoles vivienda, alimentación y oportunidades de reintegración social. No podemos ignorar esta realidad que afecta la dignidad humana y el tejido social de nuestra comunidad.\",\n",
      "  \"Las madres cabeza de hogar en nuestra comuna luchan a diario para alimentar a sus hijos con salarios muy bajos o trabajos intermitentes, evidenciando una pobreza multidimensional. Necesitamos políticas públicas que les den prioridad en acceso a subsidios y capacitación laboral para que puedan mejorar sus ingresos. Es fundamental reconocer y apoyar el esfuerzo de estas mujeres que son el pilar de sus familias.\",\n",
      "  \"La falta de acceso a créditos blandos para pequeños agricultores en mi región limita su capacidad de inversión y los mantiene en la pobreza. El Banco Agrario y otras entidades deberían simplificar los trámites y ofrecer tasas de interés más justas. Un apoyo financiero adecuado podría transformar la productividad del campo y mejorar significativamente la calidad de vida de nuestros campesinos.\",\n",
      "  \"Observo con tristeza cómo la escasez de alimentos nutritivos a precios asequibles en los barrios más vulnerables de la capital afecta la salud de los niños. Es crucial que el gobierno local y las organizaciones implementen programas de seguridad alimentaria y huertas comunitarias. La malnutrición infantil es un problema grave que hipoteca el futuro de nuestra sociedad y debe ser abordado con urgencia.\",\n",
      "  \"La ausencia de infraestructura básica como agua potable y saneamiento en muchas zonas rurales profundiza la pobreza y la desigualdad. Es responsabilidad de las empresas de servicios públicos y el gobierno departamental llevar estas soluciones a todas las comunidades. Sin estos servicios esenciales, es imposible garantizar una vida digna y un desarrollo sostenible para nuestros campesinos.\",\n",
      "  \"El costo elevado del transporte público impacta severamente el presupuesto de las familias de bajos ingresos, quienes deben destinar gran parte de su sueldo a movilizarse. La administración municipal debería subsidiar una parte del pasaje o buscar alternativas más económicas. Esta carga económica dificulta el acceso a oportunidades laborales y educativas, perpetuando la pobreza en nuestros hogares.\",\n",
      "  \"La escasa oferta de vivienda digna y asequible obliga a muchas familias a vivir en condiciones precarias y hacinamiento en las periferias de la ciudad. El gobierno nacional y las constructoras deben priorizar proyectos de interés social con facilidades de pago. Es un derecho fundamental tener un techo seguro y adecuado, y la falta de este derecho condena a la pobreza a miles de ciudadanos.\",\n",
      "  \"La falta de oportunidades para los jóvenes en mi pueblo, especialmente los que no tienen acceso a educación superior, los condena a la pobreza y al desempleo. Las entidades educativas y el Sena deberían ampliar su oferta de programas técnicos y de formación para el trabajo. Invertir en la juventud es invertir en el futuro de nuestra comunidad y romper el ciclo de la pobreza.\",\n",
      "  \"La desigualdad en el acceso a la tierra en zonas rurales concentra la riqueza en pocas manos y empobrece a los pequeños productores. Es fundamental que las autoridades agrarias implementen políticas de reforma agraria y titulación de tierras. Una distribución más equitativa de la tierra permitiría a más familias campesinas generar ingresos y vivir dignamente de su trabajo.\",\n",
      "  \"La burocracia excesiva para acceder a programas sociales y subsidios desanima a las personas más necesitadas, quienes terminan sin recibir el apoyo vital. El Departamento de Prosperidad Social y las alcaldías deben simplificar los trámites y hacerlos más accesibles. La eficiencia en la entrega de estos apoyos es crucial para combatir la pobreza y llegar a quienes realmente lo necesitan.\",\n",
      "  \"La falta de acceso a servicios financieros inclusivos, como microcréditos para emprendedores, impide el crecimiento de pequeños negocios en mi comuna. Las cooperativas y bancos deberían ofrecer productos adaptados a las necesidades de esta población. Un mayor acceso a capital semilla podría transformar la economía local y sacar a muchas familias de la pobreza.\",\n",
      "  \"La discriminación laboral por edad o género es una barrera para la inclusión de grupos vulnerables, manteniéndolos en la pobreza. Las empresas y el Ministerio del Trabajo deben promover políticas de equidad y diversidad. Es inaceptable que el talento y la experiencia de muchas personas sean ignorados por prejuicios, lo cual agrava la pobreza en nuestra sociedad.\",\n",
      "  \"Los desastres naturales recurrentes en nuestra región, como las inundaciones, destruyen cultivos y viviendas, sumiendo a las comunidades rurales en la pobreza. Es urgente que la Unidad Nacional para la Gestión del Riesgo implemente planes de prevención y reconstrucción efectivos. La resiliencia de nuestras comunidades depende de un apoyo oportuno y sostenible para recuperarse de estas tragedias.\",\n",
      "  \"La ausencia de un salario mínimo vital que realmente cubra las necesidades básicas de una familia es un factor determinante de la pobreza en Colombia. El gobierno y los gremios deben revisar y ajustar este valor de manera justa y periódica. Es imperativo que el trabajo digno se traduzca en una vida digna para todos los ciudadanos.\",\n",
      "  \"La explotación laboral en algunos sectores informales, con jornadas extensas y pagos ínfimos, es una forma de esclavitud moderna que perpetúa la pobreza. El Ministerio del Trabajo y los sindicatos deben intensificar las inspecciones y sanciones. No podemos permitir que la necesidad de las personas sea aprovechada para su detrimento y para mantenerlos en la miseria.\",\n",
      "  \"La falta de programas de educación financiera para la población de bajos ingresos los hace vulnerables a deudas y estafas, profundizando su pobreza. Las entidades bancarias y el gobierno deberían ofrecer capacitaciones gratuitas y accesibles. Aprender a administrar el dinero es una herramienta poderosa para mejorar la calidad de vida y evitar caer en trampas financieras.\",\n",
      "  \"El abandono estatal de las comunidades indígenas y afrodescendientes en mi departamento se traduce en pobreza extrema y falta de oportunidades. El gobierno nacional debe cumplir sus compromisos de inversión y garantizar sus derechos ancestrales. Estas comunidades, ricas en cultura y conocimiento, merecen vivir con dignidad y acceder a los mismos servicios que el resto del país.\",\n",
      "  \"La corrupción en la administración de recursos públicos destinados a programas sociales desvía fondos que podrían aliviar la pobreza. La Contraloría y la Fiscalía deben ser más rigurosas en la vigilancia y sanción de estos actos. Cada peso robado es un golpe directo a las esperanzas de las personas más necesitadas y perpetúa la desigualdad.\",\n",
      "  \"La dificultad para acceder a un sistema de pensiones digno deja a muchos adultos mayores en la pobreza y la desprotección. Colpensiones y el gobierno deben buscar soluciones para ampliar la cobertura y garantizar una vejez tranquila. Nuestros mayores han trabajado toda su vida y merecen un retiro con dignidad, sin preocupaciones económicas.\",\n",
      "  \"La falta de oportunidades para personas con discapacidad los excluye del mercado laboral y los condena a la pobreza. Las empresas y el Estado deben implementar políticas de inclusión laboral y adaptación de espacios. Es un deber de la sociedad garantizar que todas las personas, sin importar sus capacidades, tengan la oportunidad de ser productivas y autónomas.\",\n",
      "  \"Los altos costos de los medicamentos y tratamientos médicos son una causa de empobrecimiento para muchas familias que enfrentan enfermedades crónicas. El Ministerio de Salud y las EPS deben asegurar el acceso a medicinas esenciales y reducir sus precios. La salud no debería ser un lujo, sino un derecho universal que no lleve a la ruina a nadie.\",\n",
      "  \"La carencia de espacios seguros y accesibles para la recreación y el deporte en barrios vulnerables afecta el bienestar y la salud mental, lo cual es un aspecto de la pobreza social. Las alcaldías deben invertir en la creación y mantenimiento de estos lugares. La recreación es fundamental para el desarrollo integral de las personas y para construir comunidades más fuertes.\",\n",
      "  \"El acceso limitado a tecnologías de la información y la comunicación (TIC) en zonas rurales y de bajos ingresos amplía la brecha digital y limita las oportunidades económicas. El Ministerio de Tecnologías de la Información y las Comunicaciones debe expandir la conectividad y ofrecer capacitaciones. La inclusión digital es clave para el desarrollo y para que nadie se quede atrás en la era actual.\",\n",
      "  \"La violencia intrafamiliar y el abuso de menores, además de ser crímenes atroces, generan un ciclo de pobreza y exclusión en las víctimas. Las instituciones de protección familiar y la Policía deben fortalecer sus mecanismos de denuncia y atención. Es fundamental romper estos ciclos de violencia para que las nuevas generaciones puedan crecer en un ambiente seguro y sin pobreza.\",\n",
      "  \"La falta de una política agraria integral que apoye la comercialización de productos campesinos los deja a merced de intermediarios, empobreciéndolos. El Ministerio de Agricultura y las asociaciones de productores deben crear canales de venta justos. Un comercio equitativo es esencial para que el trabajo del campo sea rentable y sostenible, y para que los campesinos no vivan en la pobreza.\",\n",
      "  \"Los programas de transferencia monetaria condicionada, aunque útiles, a menudo no son suficientes para sacar a las familias de la pobreza extrema, requiriendo un enfoque más integral. El gobierno debe revisar sus montos y complementarlos con capacitación y empleo. Es necesario un apoyo más robusto y duradero para que estas familias logren la autonomía económica y la dignidad.\",\n",
      "  \"La escasez de guarderías y centros de cuidado infantil asequibles dificulta la participación laboral de muchas madres, especialmente las de bajos ingresos. Las alcaldías y el ICBF deben ampliar la oferta de estos servicios. El cuidado infantil es una inversión social que permite a las mujeres trabajar y contribuir al ingreso familiar, rompiendo el ciclo de la pobreza.\",\n",
      "  \"El estigma social asociado a la pobreza y a los programas de asistencia desanima a muchas personas a buscar ayuda, perpetuando su situación. Es fundamental cambiar la narrativa y promover la empatía y la solidaridad en la sociedad. Debemos entender que la pobreza no es una elección, sino el resultado de múltiples factores, y que todos merecemos una oportunidad.\",\n",
      "  \"La deficiente calidad del sistema de salud en las zonas rurales, con pocos médicos y equipos, afecta directamente la productividad y empobrece a las familias. El Ministerio de Salud debe priorizar la inversión en infraestructura y personal médico en estas áreas. La salud es un pilar fundamental para el desarrollo y para que las comunidades rurales salgan de la pobreza.\",\n",
      "  \"La falta de acceso a una educación superior de calidad para jóvenes de bajos recursos limita sus oportunidades de ascenso social y los condena a la pobreza. El Icetex y las universidades deben ampliar las becas y los créditos condonables. La educación es la herramienta más poderosa para transformar vidas y romper el ciclo generacional de la pobreza.\",\n",
      "  \"La deforestación y la degradación ambiental en mi región afectan los medios de subsistencia de las comunidades, que dependen de los recursos naturales. Las corporaciones autónomas regionales y el Ministerio de Ambiente deben implementar programas de desarrollo sostenible. La protección del medio ambiente es crucial para garantizar la seguridad alimentaria y económica de estas poblaciones.\",\n",
      "  \"La carencia de títulos de propiedad de la tierra para muchos campesinos genera incertidumbre y dificulta el acceso a créditos y proyectos productivos. La Agencia Nacional de Tierras debe agilizar los procesos de formalización y titulación. La seguridad jurídica sobre la tierra es fundamental para que los campesinos inviertan y generen riqueza, superando la pobreza.\",\n",
      "  \"El alto costo de los servicios públicos domiciliarios (luz, agua, gas) en estratos bajos consume una parte considerable de sus ingresos, manteniendo a las familias en la pobreza. Las empresas de servicios y la Comisión de Regulación de Energía y Gas deben revisar las tarifas y subsidios. Es un derecho básico acceder a estos servicios sin que representen una carga insostenible.\",\n",
      "  \"La falta de inversión en vías terciarias en zonas rurales aísla a los productores, dificulta el transporte de sus productos y reduce sus ingresos, perpetuando la pobreza. El Invías y las gobernaciones deben priorizar la construcción y mantenimiento de estas carreteras. Una buena infraestructura es clave para la competitividad del campo y el bienestar de sus habitantes.\",\n",
      "  \"Los programas de emprendimiento a menudo no llegan a las poblaciones más vulnerables, que carecen de la capacitación y el capital inicial para iniciar un negocio. El Sena y las cámaras de comercio deben diseñar programas más inclusivos y con acompañamiento personalizado. Fomentar el autoempleo es una estrategia efectiva para combatir la pobreza y generar desarrollo local.\",\n",
      "  \"La presencia de minería ilegal en nuestra zona no solo destruye el medio ambiente, sino que también genera conflictos y empobrece a las comunidades locales, que quedan sin recursos. Las autoridades ambientales y de seguridad deben actuar con contundencia para erradicar esta actividad. Proteger nuestros recursos naturales es proteger el futuro y la dignidad de nuestras gentes.\",\n",
      "  \"La falta de acceso a un seguro de desempleo o a programas de reentrenamiento laboral deja a las personas sin sustento cuando pierden su trabajo, sumiéndolas en la pobreza. El gobierno y los gremios deben crear mecanismos de protección más robustos. Es fundamental brindar un colchón de seguridad para que la pérdida de un empleo no signifique la caída en la miseria.\",\n",
      "  \"La brecha salarial entre hombres y mujeres en trabajos similares contribuye a la pobreza femenina y a la desigualdad de género. El Ministerio del Trabajo y las empresas deben garantizar la igualdad de remuneración por igual trabajo. La justicia salarial es un paso fundamental para empoderar a las mujeres y reducir la pobreza en los hogares.\",\n",
      "  \"La falta de programas de reinserción social para personas desmovilizadas o exconvictas dificulta su reintegración y las condena a la pobreza y la reincidencia. El gobierno y las ONG deben fortalecer estos programas con oportunidades laborales y apoyo psicosocial. Brindar segundas oportunidades es clave para construir una sociedad más justa y segura, y reducir la pobreza.\",\n",
      "  \"El acaparamiento de tierras por parte de grandes empresas o individuos reduce la disponibilidad de terrenos para pequeños agricultores, limitando sus oportunidades y empobreciéndolos. Las autoridades agrarias deben regular el uso de la tierra y promover su distribución equitativa. Es esencial proteger a los pequeños productores y garantizar su acceso a la tierra para su sustento.\",\n",
      "  \"La falta de acceso a servicios bancarios básicos, como cuentas de ahorro o microcréditos, en zonas rurales, mantiene a la población en la informalidad y la pobreza. Los bancos y el gobierno deben expandir la bancarización y la educación financiera en estas áreas. La inclusión financiera es una herramienta poderosa para el desarrollo económico y la superación de la pobreza.\",\n",
      "  \"La ausencia de políticas públicas que fomenten la asociatividad entre pequeños productores los deja vulnerables frente a los grandes mercados, disminuyendo sus ganancias. El Ministerio de Agricultura y las Cámaras de Comercio deben apoyar la creación de cooperativas y asociaciones. La unión hace la fuerza y permite a los campesinos obtener mejores precios por sus productos.\",\n",
      "  \"La deficiente infraestructura de salud en mi municipio, con pocos centros de atención y especialistas, obliga a las familias a viajar lejos y gastar mucho, lo que agrava su pobreza. La Secretaría de Salud departamental debe invertir en la mejora de estos servicios. El acceso a la salud es un derecho que no debería ser una carga económica para nadie.\",\n",
      "  \"La falta de programas de apoyo psicológico y de salud mental accesibles en comunidades vulnerables agrava los problemas sociales y económicos. La Secretaría de Salud y las ONG deben expandir estos servicios. La salud mental es tan importante como la física para el bienestar general y para que las personas puedan salir de la pobreza.\",\n",
      "  \"El alto costo de los útiles escolares y la matrícula en colegios privados es una barrera para la educación de calidad de muchos niños, perpetuando la pobreza. El gobierno debe fortalecer la educación pública y ofrecer subsidios para materiales educativos. La educación es la base para el desarrollo y para romper el ciclo de la pobreza en las familias.\",\n",
      "  \"La informalidad en la venta ambulante, aunque genera ingresos, expone a los trabajadores a condiciones precarias y sin seguridad social. La alcaldía debe buscar estrategias para formalizar estas actividades y proteger a los vendedores. Es fundamental dignificar el trabajo y garantizar que todos tengan acceso a condiciones laborales justas, superando la pobreza.\",\n",
      "  \"La escasez de fuentes de empleo alternativas a la agricultura tradicional en mi región, hace que muchas familias dependan de cultivos de bajo rendimiento, manteniéndolas en la pobreza. Las agencias de desarrollo regional deben promover la diversificación económica. Es crucial generar nuevas oportunidades para que las comunidades rurales prosperen y mejoren su calidad de vida.\",\n",
      "  \"La falta de acceso a servicios de cuidado para adultos mayores en comunidades de bajos ingresos obliga a las familias a destinar tiempo y recursos, lo que afecta su productividad. El ICBF y las alcaldías deben crear más centros de atención y apoyo. Nuestros mayores merecen un cuidado digno y sus familias no deberían empobrecerse por ello.\",\n",
      "  \"La deficiente gestión de residuos sólidos en barrios marginales genera problemas de salud y medio ambiente, afectando la calidad de vida de sus habitantes y profundizando la pobreza. Las empresas de aseo y las alcaldías deben invertir en infraestructura y programas de reciclaje. Un entorno limpio y sano es un derecho fundamental para todos los ciudadanos.\",\n",
      "  \"La falta de acceso a internet de calidad en zonas rurales limita el acceso a la educación virtual y a oportunidades laborales, ampliando la brecha de desigualdad. El Ministerio de Tecnologías de la Información y las Comunicaciones debe implementar planes de expansión de cobertura. La conectividad es una herramienta esencial para el desarrollo y para superar la pobreza en el campo.\",\n",
      "  \"La criminalidad y la inseguridad en mi barrio no solo generan miedo, sino que también ahuyentan la inversión y las oportunidades laborales, perpetuando la pobreza. La Policía y la alcaldía deben trabajar de la mano con la comunidad para fortalecer la seguridad. Un entorno seguro es fundamental para el desarrollo económico y social de cualquier comunidad.\",\n",
      "  \"La ausencia de un sistema de transporte público eficiente y accesible en las afueras de la ciudad dificulta el acceso al trabajo y a los servicios, lo que empobrece a las familias. La alcaldía y las empresas de transporte deben mejorar la cobertura y las frecuencias. Un transporte digno es un factor clave para la movilidad social y económica de los ciudadanos.\",\n",
      "  \"La falta de programas de reforestación y recuperación de suelos degradados afecta la productividad agrícola y empobrece a las comunidades campesinas. Las corporaciones autónomas regionales y el Ministerio de Ambiente deben invertir en estos proyectos. Proteger y restaurar nuestros ecosistemas es esencial para garantizar la seguridad alimentaria y el bienestar de las generaciones futuras.\",\n",
      "  \"Los altos intereses de los 'gota a gota' sumen a muchas familias en un ciclo de endeudamiento y pobreza del que es muy difícil salir. Las autoridades y las cooperativas de crédito deben ofrecer alternativas financieras legales y accesibles. Es crucial proteger a la población de estas prácticas usureras que solo generan miseria.\",\n",
      "  \"La falta de acceso a agua potable segura y constante en muchas veredas obliga a las familias a comprar agua o a consumir fuentes contaminadas, afectando su salud y economía. Las empresas de servicios públicos y las alcaldías deben priorizar la inversión en acueductos rurales. El agua es un derecho fundamental y su escasez agrava la pobreza.\",\n",
      "  \"La carencia de programas de capacitación para el empleo en sectores emergentes deja a muchos trabajadores sin las habilidades necesarias para acceder a mejores trabajos. El Sena y las empresas deben actualizar su oferta educativa. La formación continua es clave para la empleabilidad y para que las personas puedan mejorar sus ingresos y salir de la pobreza.\",\n",
      "  \"La informalidad en el sector de la construcción, con bajos salarios y sin seguridad laboral, expone a los trabajadores a la pobreza y a condiciones de riesgo. El Ministerio del Trabajo y los sindicatos deben fiscalizar este sector y promover la formalización. Es fundamental garantizar derechos laborales y seguridad para todos los trabajadores, sin importar su oficio.\",\n",
      "  \"La falta de acceso a servicios de salud mental en las zonas rurales, donde la depresión y la ansiedad son comunes, agrava la situación de pobreza. Las secretarías de salud deben llevar especialistas y programas de atención a estas comunidades. El bienestar emocional es crucial para que las personas puedan enfrentar los desafíos de la vida y prosperar.\",\n",
      "  \"El escaso apoyo a las economías locales y a los pequeños comercios frente a las grandes cadenas empobrece a los emprendedores y a la comunidad. Las alcaldías deben implementar políticas de fomento al consumo local y programas de apoyo a PYMES. Fortalecer el comercio de barrio es fundamental para generar empleo y riqueza en nuestras comunidades.\",\n",
      "  \"La falta de programas de prevención y atención a la drogadicción, especialmente en jóvenes, destruye familias y profundiza la pobreza. El gobierno y las ONG deben invertir en campañas de prevención y centros de rehabilitación. Abordar este problema es clave para la salud pública y para que las nuevas generaciones tengan un futuro sin pobreza.\",\n",
      "  \"El difícil acceso a la justicia para las personas de bajos recursos perpetúa la impunidad y la desigualdad, lo que es un factor más de pobreza social. La Defensoría del Pueblo y las casas de justicia deben fortalecer la asesoría legal gratuita. La justicia debe ser accesible para todos, sin importar su condición económica.\",\n",
      "  \"La ausencia de un sistema de alcantarillado adecuado en muchos barrios periféricos genera problemas sanitarios y ambientales, afectando la calidad de vida y empobreciendo a sus habitantes. Las empresas de servicios públicos y las alcaldías deben priorizar la inversión en estas infraestructuras. Un saneamiento básico es un derecho fundamental para una vida digna.\",\n",
      "  \"La falta de programas de educación sexual integral y acceso a métodos anticonceptivos en zonas vulnerables contribuye a embarazos adolescentes, lo que perpetúa la pobreza. El Ministerio de Salud y las instituciones educativas deben fortalecer estos programas. La planificación familiar es crucial para que las jóvenes puedan construir un futuro y evitar la pobreza.\",\n",
      "  \"La escasez de bibliotecas públicas y centros culturales en barrios de bajos recursos limita el acceso al conocimiento y a la recreación, lo cual es un aspecto de la pobreza cultural. Las alcaldías y las secretarías de cultura deben invertir en la creación y dotación de estos espacios. Fomentar la lectura y la cultura es fundamental para el desarrollo integral de las personas.\",\n",
      "  \"La deficiente calidad de los materiales de construcción de viviendas de interés social las hace vulnerables y efímeras, obligando a las familias a gastar más en reparaciones. El Ministerio de Vivienda debe fiscalizar la calidad de estas construcciones. Las familias de bajos recursos merecen casas dignas y duraderas que no los lleven a la pobreza.\",\n",
      "  \"La falta de apoyo a la pequeña minería artesanal en mi región, con falta de capacitación y formalización, los mantiene en la ilegalidad y la pobreza. El Ministerio de Minas y Energía debe diseñar programas que los incluyan y los ayuden a operar de manera sostenible. Es posible una minería responsable que genere riqueza para las comunidades.\",\n",
      "  \"La carencia de programas de apoyo a personas con enfermedades crónicas, como la diabetes o la hipertensión, sin recursos para tratamientos, los condena a la pobreza. El Ministerio de Salud y las EPS deben asegurar el acceso a medicinas y seguimiento médico. La salud es un derecho fundamental que no debería depender de la capacidad económica.\",\n",
      "  \"La ausencia de servicios de salud preventiva en comunidades rurales, como vacunación y controles de crecimiento, genera enfermedades que empobrecen a las familias. Las secretarías de salud deben fortalecer las brigadas médicas y los programas de atención primaria. La prevención es clave para evitar costos mayores y mejorar la calidad de vida.\",\n",
      "  \"El alto índice de deserción escolar en zonas rurales, por necesidad de trabajar o falta de recursos, perpetúa el ciclo de pobreza. El Ministerio de Educación y las gobernaciones deben ofrecer incentivos y transporte escolar. La educación es la base para el desarrollo y para que los niños del campo tengan un futuro mejor.\",\n",
      "  \"La falta de acceso a servicios bancarios en zonas de conflicto armado o alejadas, impide a las comunidades manejar su dinero de forma segura y acceder a créditos, manteniéndolas en la pobreza. La Superintendencia Financiera y los bancos deben buscar estrategias de inclusión. La bancarización es una herramienta de empoderamiento económico y paz.\",\n",
      "  \"La deficiente infraestructura de mercados campesinos y plazas de mercado en las ciudades, dificulta la comercialización directa de productos, empobreciendo a los agricultores. Las alcaldías deben invertir en la adecuación y promoción de estos espacios. Apoyar a los campesinos es fundamental para la seguridad alimentaria y para reducir la pobreza en el campo.\",\n",
      "  \"La falta de acceso a internet en las cárceles limita las oportunidades de resocialización y capacitación de los internos, dificultando su reintegración y empobreciéndolos. El Ministerio de Justicia y las instituciones penitenciarias deben implementar programas de alfabetización digital. Brindar herramientas para el futuro es clave para reducir la reincidencia y la pobreza.\",\n",
      "  \"La escasez de programas de apoyo a mujeres víctimas de violencia, con refugios y asesoría legal, las deja en situación de vulnerabilidad y pobreza. Las alcaldías y las secretarías de la mujer deben fortalecer estos servicios. Proteger a las mujeres y garantizar su autonomía es fundamental para construir una sociedad más justa y equitativa.\",\n",
      "  \"La falta de conocimiento sobre derechos laborales en los sectores informales, hace que muchos trabajadores sean explotados y vivan en la pobreza. El Ministerio del Trabajo y las organizaciones sindicales deben realizar campañas de sensibilización y asesoría legal. La educación sobre derechos es una herramienta poderosa para empoderar a los trabajadores.\",\n",
      "  \"La carencia de programas de apoyo a pequeños pescadores artesanales, con acceso a mercados y tecnología, los mantiene en la subsistencia y la pobreza. El Ministerio de Agricultura y Pesca debe implementar políticas que fortalezcan este sector. Es fundamental reconocer la labor de estos hombres y mujeres y garantizar su sustento.\",\n",
      "  \"La contaminación de fuentes hídricas por actividades ilegales o industriales afecta la salud y los medios de vida de las comunidades, empobreciéndolas. Las autoridades ambientales y de salud deben imponer sanciones y promover la recuperación de estos ecosistemas. El agua limpia es esencial para la vida y para el desarrollo sostenible.\",\n",
      "  \"La ausencia de una política de precios justos para los productos agrícolas deja a los campesinos a merced de la especulación, empobreciéndolos. El Ministerio de Agricultura debe crear mecanismos que garanticen una remuneración digna por su trabajo. Proteger a los productores es proteger la seguridad alimentaria del país.\",\n",
      "  \"La falta de acceso a servicios de cuidado infantil nocturno o flexible dificulta que las madres trabajen en horarios no convencionales, limitando sus ingresos. Las alcaldías y el ICBF deben ampliar la oferta de estos servicios. Es fundamental adaptar los programas a las realidades laborales de las familias para combatir la pobreza.\",\n",
      "  \"La deficiente infraestructura de saneamiento básico en zonas costeras y ribereñas, con vertimiento de aguas residuales, afecta la salud y el turismo, empobreciendo a las comunidades. Las empresas de servicios públicos y las alcaldías deben invertir en plantas de tratamiento. El saneamiento ambiental es clave para el bienestar y el desarrollo económico.\",\n",
      "  \"La falta de programas de apoyo a personas con enfermedades mentales graves, con vivienda y acompañamiento, los condena a la calle y a la pobreza. El Ministerio de Salud y las secretarías deben fortalecer la red de atención. Es un deber de la sociedad cuidar a los más vulnerables y garantizar su dignidad.\",\n",
      "  \"La escasez de oportunidades laborales para migrantes y refugiados los empuja a la informalidad y a la pobreza extrema. El gobierno y las ONG deben facilitar su integración laboral y social. Brindarles una oportunidad es un acto humanitario y una inversión en el desarrollo del país.\",\n",
      "  \"La falta de acceso a servicios de energía eléctrica en zonas rurales y apartadas limita el desarrollo productivo y empobrece a las familias. El Ministerio de Minas y Energía y las empresas de energía deben expandir la cobertura. La energía es un motor de progreso y un derecho fundamental para todos.\",\n",
      "  \"La carencia de programas de apoyo a jóvenes en riesgo de reclutamiento forzado, con alternativas educativas y laborales, los condena a un futuro incierto y a la pobreza. El gobierno y las ONG deben fortalecer estos programas en las zonas de conflicto. Proteger a la juventud es construir paz y un futuro sin pobreza.\",\n",
      "  \"La ausencia de un sistema de alerta temprana y evacuación en zonas de alto riesgo natural agrava las consecuencias de los desastres y empobrece a las comunidades. La Unidad Nacional para la Gestión del Riesgo debe invertir en estas herramientas. La prevención es clave para salvar vidas y proteger los medios de vida.\",\n",
      "  \"La falta de acceso a servicios de rehabilitación para personas con adicciones, con programas integrales y apoyo familiar, los mantiene en la pobreza y la exclusión. El Ministerio de Salud y las secretarías deben ampliar la oferta de estos servicios. La recuperación es posible con el apoyo adecuado.\",\n",
      "  \"El alto costo de las tarifas de internet y telefonía móvil en zonas de bajos ingresos limita el acceso a la información y a oportunidades, ampliando la brecha digital. El Ministerio de Tecnologías de la Información y las Comunicaciones debe regular los precios y promover planes accesibles. La conectividad es un derecho en la era actual.\",\n",
      "  \"La carencia de programas de formación técnica y tecnológica adaptados a las necesidades del mercado laboral local, deja a muchos jóvenes sin empleo y en la pobreza. El Sena y las instituciones educativas deben actualizar sus currículos. La pertinencia de la educación es clave para la empleabilidad y el desarrollo.\",\n",
      "  \"La falta de acceso a servicios de salud sexual y reproductiva para adolescentes en zonas rurales contribuye a embarazos no deseados y a la pobreza. El Ministerio de Salud y las secretarías deben llevar estos servicios a todas las comunidades. La información y el acceso son derechos fundamentales para la juventud.\",\n",
      "  \"La ausencia de un sistema de transporte fluvial adecuado en regiones amazónicas y del Pacífico aísla a las comunidades y dificulta el comercio, perpetuando la pobreza. El Ministerio de Transporte y las gobernaciones deben invertir en infraestructura y rutas. La conectividad es vital para el desarrollo de estas regiones.\",\n",
      "  \"La falta de acceso a programas de vivienda rural digna y adaptada a las necesidades de los campesinos los mantiene en condiciones precarias. El Ministerio de Vivienda y las gobernaciones deben priorizar estos proyectos. Un hogar seguro y confortable es un derecho fundamental para todos.\",\n",
      "  \"La escasez de oportunidades laborales para adultos mayores con experiencia, los condena a la inactividad y a la pobreza. El Ministerio del Trabajo y las empresas deben promover la inclusión de esta población. La experiencia de nuestros mayores es un valor que no deberíamos desperdiciar.\",\n",
      "  \"La falta de acceso a servicios de atención a la primera infancia en zonas de conflicto o vulnerables, afecta el desarrollo de los niños y perpetúa la pobreza. El ICBF y las alcaldías deben ampliar la cobertura de estos programas. Invertir en la primera infancia es invertir en el futuro del país.\",\n",
      "  \"La ausencia de programas de apoyo a pequeños comerciantes afectados por la pandemia o crisis económicas, los lleva a la quiebra y a la pobreza. Las alcaldías y las cámaras de comercio deben ofrecer subsidios y créditos blandos. La resiliencia de nuestro tejido empresarial depende de este apoyo.\",\n",
      "  \"La falta de acceso a servicios de salud para personas con VIH/SIDA, con tratamientos y apoyo psicosocial, los condena a la exclusión y a la pobreza. El Ministerio de Salud y las EPS deben garantizar la atención integral. La dignidad y el derecho a la salud son inalienables.\",\n",
      "  \"La carencia de programas de apoyo a familias desplazadas por la violencia, con vivienda, empleo y atención psicosocial, los mantiene en la vulnerabilidad y la pobreza. El gobierno y las ONG deben fortalecer estos programas. Es un deber de la sociedad apoyar a quienes han perdido todo por el conflicto.\",\n",
      "  \"La falta de acceso a servicios de salud oral y visual básicos en comunidades de bajos recursos afecta su calidad de vida y su capacidad de trabajar. El Ministerio de Salud y las EPS deben ampliar la cobertura de estos servicios. La salud integral es fundamental para el bienestar y la productividad.\",\n",
      "  \"La ausencia de un sistema de gestión de riesgos para pequeños productores agrícolas frente a plagas y enfermedades, los deja sin sustento y en la pobreza. El ICA y el Ministerio de Agricultura deben fortalecer estos programas. La protección de los cultivos es clave para la seguridad alimentaria.\",\n",
      "  \"La falta de acceso a energía solar o fuentes de energía renovable en zonas no interconectadas, limita el desarrollo y perpetúa la pobreza energética. El Ministerio de Minas y Energía y las empresas deben invertir en estas tecnologías. La energía limpia es el futuro y un derecho para todos.\",\n",
      "  \"La carencia de programas de apoyo a personas con enfermedades raras, con acceso a tratamientos costosos y acompañamiento, los condena a la pobreza. El Ministerio de Salud y las EPS deben garantizar la atención integral. Es un deber de la sociedad brindar esperanza a quienes más lo necesitan.\",\n",
      "  \"La falta de acceso a servicios de salud para personas en condición de discapacidad mental, con terapias y apoyo familiar, los mantiene en la exclusión y la pobreza. El Ministerio de Salud y las secretarías deben ampliar la oferta de estos servicios. La inclusión es un derecho para todos.\",\n",
      "  \"La ausencia de programas de apoyo a jóvenes con talento artístico o deportivo, pero sin recursos, los condena a la falta de oportunidades y a la pobreza. El Ministerio de Cultura y el de Deporte deben crear becas y espacios de formación. Invertir en el talento es invertir en el futuro del país.\",\n",
      "  \"La falta de acceso a servicios de cuidado para personas con alzheimer u otras demencias, con centros especializados y apoyo a cuidadores, empobrece a las familias. El Ministerio de Salud y las alcaldías deben fortalecer estos programas. La dignidad de nuestros mayores es una prioridad.\",\n",
      "  \"La carencia de programas de apoyo a comunidades afectadas por el extractivismo, con reparación ambiental y oportunidades económicas, los mantiene en la pobreza. El Ministerio de Ambiente y las empresas deben cumplir con sus responsabilidades sociales y ambientales. El desarrollo debe ser sostenible e inclusivo.\",\n",
      "  \"La falta de acceso a servicios de salud para personas en condición de calle, con atención integral y seguimiento, los condena a la enfermedad y a la pobreza extrema. Las secretarías de salud y las ONG deben fortalecer estos programas. Es un deber de la sociedad cuidar a los más vulnerables.\",\n",
      "  \"La ausencia de programas de apoyo a pequeños artesanos, con capacitación, acceso a mercados y financiación, los mantiene en la subsistencia y la pobreza. El Ministerio de Cultura y las cámaras de comercio deben impulsar este sector. La riqueza cultural de nuestro país merece ser valorada.\",\n",
      "  \"La falta de acceso a servicios de salud para personas con enfermedades crónicas no transmisibles, con tratamientos y seguimiento, los condena a la pobreza. El Ministerio de Salud y las EPS deben garantizar la atención integral. La prevención y el control son claves para la calidad de vida.\",\n",
      "  \"La carencia de programas de apoyo a jóvenes desescolarizados, con oportunidades educativas y laborales, los condena a la inactividad y a la pobreza. El Ministerio de Educación y el Sena deben fortalecer estos programas. La educación es la base para un futuro sin pobreza.\",\n",
      "  \"La ausencia de programas de apoyo a madres adolescentes, con educación, cuidado infantil y oportunidades laborales, las condena a la pobreza. El ICBF y las alcaldías deben fortalecer estos programas. La prevención y el apoyo son claves para romper el ciclo de la pobreza.\",\n",
      "  \"La falta de acceso a servicios de salud para personas con discapacidad física, con terapias y ayudas técnicas, los mantiene en la exclusión y la pobreza. El Ministerio de Salud y las EPS deben ampliar la oferta de estos servicios. La inclusión es un derecho para todos.\",\n",
      "  \"La carencia de programas de apoyo a pequeños ganaderos, con acceso a tecnología, mercados y financiación, los mantiene en la subsistencia y la pobreza. El Ministerio de Agricultura y las asociaciones deben impulsar este sector. La ganadería sostenible es clave para el desarrollo rural.\",\n",
      "  \"La ausencia de programas de apoyo a personas con enfermedades mentales leves, con acceso a terapias y consejería, los mantiene en la exclusión y la pobreza. El Ministerio de Salud y las secretarías deben ampliar la oferta de estos servicios. La salud mental es un derecho fundamental.\",\n",
      "  \"La falta de acceso a servicios de salud para personas con enfermedades terminales, con cuidados paliativos y apoyo familiar, los condena a la pobreza. El Ministerio de Salud y las EPS deben garantizar la atención integral. La dignidad hasta el final de la vida es un derecho.\",\n",
      "  \"La carencia de programas de apoyo a pequeños mineros informales, con capacitación, formalización y acceso a mercados justos, los mantiene en la ilegalidad y la pobreza. El Ministerio de Minas y Energía debe buscar soluciones inclusivas. Es posible una minería responsable y digna.\",\n",
      "  \"La ausencia de programas de apoyo a jóvenes en riesgo de delincuencia, con alternativas educativas y laborales, los condena a un futuro incierto y a la pobreza. El gobierno y las ONG deben fortalecer estos programas en las zonas vulnerables. La prevención es clave para construir paz.\",\n",
      "  \"La falta de acceso a servicios de salud para personas con discapacidad sensorial, con ayudas técnicas y terapias, los mantiene en la exclusión y la pobreza. El Ministerio de Salud y las EPS deben ampliar la oferta de estos servicios. La inclusión es un derecho para todos.\",\n",
      "  \"La carencia de programas de apoyo a pequeños emprendedores rurales, con capacitación, financiación y acceso a mercados, los mantiene en la subsistencia y la pobreza. El Ministerio de Agricultura y las cámaras de comercio deben impulsar este sector. El emprendimiento rural es clave para el desarrollo.\",\n",
      "  \"La ausencia de programas de apoyo a personas con VIH/SIDA en zonas rurales, con acceso a tratamientos y acompañamiento, los mantiene en la exclusión y la pobreza. El Ministerio de Salud y las secretarías deben llevar estos servicios a todas las comunidades. La dignidad es un derecho fundamental.\",\n",
      "  \"La falta de acceso a servicios de salud para personas con enfermedades infecciosas, con tratamientos y prevención, los condena a la pobreza y a la exclusión. El Ministerio de Salud y las EPS deben garantizar la atención integral. La salud pública es una prioridad para todos.\",\n",
      "  \"La carencia de programas de apoyo a jóvenes con talento científico o tecnológico, pero sin recursos, los condena a la falta de oportunidades y a la pobreza. El Ministerio de Ciencia y el de Educación deben crear becas y espacios de formación. Invertir en la ciencia es invertir en el futuro.\",\n",
      "  \"La ausencia de programas de apoyo a personas con discapacidad intelectual, con educación, empleo y acompañamiento, los mantiene en la exclusión y la pobreza. El Ministerio de Educación y el de Trabajo deben fortalecer estos programas. La inclusión es un derecho para todos.\",\n",
      "  \"La falta de acceso a servicios de salud para personas con trastornos alimenticios, con terapias y acompañamiento, los condena a la pobreza y a la exclusión. El Ministerio de Salud y las secretarías deben ampliar la oferta de estos servicios. La salud mental es un derecho fundamental.\",\n",
      "  \"La carencia de programas de apoyo a pequeños productores agroecológicos, con acceso a mercados justos y financiación, los mantiene en la subsistencia y la pobreza. El Ministerio de Agricultura y las asociaciones deben impulsar este sector. La agricultura sostenible es clave para el futuro.\",\n",
      "  \"La ausencia de programas de apoyo a personas con enfermedades neurodegenerativas, con tratamientos y cuidados especializados, los condena a la pobreza. El Ministerio de Salud y las EPS deben garantizar la atención integral. La dignidad en la enfermedad es un derecho fundamental.\",\n",
      "  \"La falta de acceso a servicios de salud para personas con discapacidad múltiple, con terapias y ayudas técnicas, los mantiene en la exclusión y la pobreza. El Ministerio de Salud y las EPS deben ampliar la oferta de estos servicios. La inclusión es un derecho para todos.\",\n",
      "  \"La carencia de programas de apoyo a jóvenes en situación de calle, con vivienda, educación y oportunidades laborales, los condena a un futuro incierto y a la pobreza. El gobierno y las ONG deben fortalecer estos programas. La esperanza es un derecho para todos.\",\n",
      "  \"La ausencia de programas de apoyo a personas con enfermedades raras en zonas rurales, con acceso a tratamientos y acompañamiento, los mantiene en la exclusión y la pobreza. El Ministerio de Salud y las secretarías deben llevar estos servicios a todas las comunidades. La dignidad es un derecho fundamental.\",\n",
      "  \"La falta de acceso a servicios de salud para personas con trastornos de ansiedad y depresión, con terapias y apoyo psicológico, los condena a la pobreza. El Ministerio de Salud y las secretarías deben ampliar la oferta de estos servicios. La salud mental es un derecho fundamental.\",\n",
      "  \"La carencia de programas de apoyo a pequeños productores de café, con acceso a mercados justos y financiación, los mantiene en la subsistencia y la pobreza. El Ministerio de Agricultura y la Federación de Cafeteros deben impulsar este sector. El café es un símbolo de nuestro país.\",\n",
      "  \"La ausencia de programas de apoyo a personas con discapacidad psicosocial, con educación, empleo y acompañamiento, los mantiene en la exclusión y la pobreza. El Ministerio de Educación y el de Trabajo deben fortalecer estos programas. La inclusión es un derecho para todos.\",\n",
      "  \"La falta de acceso a servicios de salud para personas con enfermedades crónicas en zonas rurales, con tratamientos y seguimiento, los condena a la pobreza. El Ministerio de Salud y las secretarías deben llevar estos servicios a todas las comunidades. La salud es un derecho fundamental.\",\n",
      "  \"La carencia de programas de apoyo a jóvenes con talento en emprendimiento, pero sin recursos, los condena a la falta de oportunidades y a la pobreza. El Sena y las cámaras de comercio deben crear becas y espacios de formación. Invertir en el emprendimiento es invertir en el futuro.\",\n",
      "  \"La ausencia de programas de apoyo a personas con discapacidad auditiva, con educación, empleo y ayudas técnicas, los mantiene en la exclusión y la pobreza. El Ministerio de Educación y el de Trabajo deben fortalecer estos programas. La inclusión es un derecho para todos.\",\n",
      "  \"La falta de acceso a servicios de salud para personas con cáncer, con tratamientos y apoyo psicológico, los condena a la pobreza y a la exclusión. El Ministerio de Salud y las EPS deben garantizar la atención integral. La esperanza es un derecho fundamental.\",\n",
      "  \"La carencia de programas de apoyo a pequeños productores de panela, con acceso a mercados justos y financiación, los mantiene en la subsistencia y la pobreza. El Ministerio de Agricultura y las asociaciones deben impulsar este sector. La panela es un alimento tradicional.\",\n",
      "  \"La ausencia de programas de apoyo a personas con discapacidad visual, con educación, empleo y ayudas técnicas, los mantiene en la exclusión y la pobreza. El Ministerio de Educación y el de Trabajo deben fortalecer estos programas. La inclusión es un derecho para todos.\",\n",
      "  \"La falta de acceso a servicios de salud para personas con enfermedades autoinmunes, con tratamientos y seguimiento, los condena a la pobreza. El Ministerio de Salud y las EPS deben garantizar la atención integral. La investigación es clave para estas enfermedades.\",\n",
      "  \"La carencia de programas de apoyo a jóvenes en zonas de conflicto, con alternativas educativas y laborales, los condena a la falta de oportunidades y a la pobreza. El gobierno y las ONG deben fortalecer estos programas. La paz es un derecho para todos.\",\n",
      "  \"La ausencia de programas de apoyo a personas con discapacidad física en zonas rurales, con terapias y ayudas técnicas, los mantiene en la exclusión y la pobreza. El Ministerio de Salud y las secretarías deben llevar estos servicios a todas las comunidades. La inclusión es un derecho fundamental.\",\n",
      "  \"La falta de acceso a servicios de salud para personas con enfermedades cardiovasculares, con tratamientos y prevención, los condena a la pobreza. El Ministerio de Salud y las EPS deben garantizar la atención integral. La prevención es clave para la salud pública.\",\n",
      "  \"La carencia de programas de apoyo a pequeños productores de cacao, con acceso a mercados justos y financiación, los mantiene en la subsistencia y la pobreza. El Ministerio de Agricultura y las asociaciones deben impulsar este sector. El cacao es un producto de exportación.\",\n",
      "  \"La ausencia de programas de apoyo a personas con discapacidad intelectual en zonas rurales, con educación, empleo y acompañamiento, los mantiene en la exclusión y la pobreza. El Ministerio de Educación y las secretarías deben llevar estos servicios a todas las comunidades. La inclusión es un derecho fundamental.\",\n",
      "  \"La falta de acceso a servicios de salud para personas con diabetes, con tratamientos y seguimiento, los condena a la pobreza. El Ministerio de Salud y las EPS deben garantizar la atención integral. La prevención y el control son claves para la calidad de vida.\",\n",
      "  \"La carencia de programas de apoyo a jóvenes desvinculados de grupos armados, con educación, empleo y atención psicosocial, los condena a la falta de oportunidades y a la pobreza. El gobierno y las ONG deben fortalecer estos programas. La reinserción es clave para la paz.\",\n",
      "  \"La ausencia de programas de apoyo a personas con discapacidad auditiva en zonas rurales, con educación, empleo y ayudas técnicas, los mantiene en la exclusión y la pobreza. El Ministerio de Educación y las secretarías deben llevar estos servicios a todas las comunidades. La inclusión es un derecho fundamental.\",\n",
      "  \"La falta de acceso a servicios de salud para personas con hipertensión, con tratamientos y prevención, los condena a la pobreza. El Ministerio de Salud y las EPS deben garantizar la atención integral. La prevención es clave para la salud pública.\",\n",
      "  \"La carencia de programas de apoyo a pequeños productores de frutas, con acceso a mercados justos y financiación, los mantiene en la subsistencia y la pobreza. El Ministerio de Agricultura y las asociaciones deben impulsar este sector. Las frutas son un alimento saludable.\",\n",
      "  \"La ausencia de programas de apoyo a personas con discapacidad visual en zonas rurales, con educación, empleo y ayudas técnicas, los mantiene en la exclusión y la pobreza. El Ministerio de Educación y las secretarías deben llevar estos servicios a todas las comunidades. La inclusión es un derecho fundamental.\",\n",
      "  \"La falta de acceso a servicios de salud para personas con enfermedades renales, con tratamientos y apoyo, los condena a la pobreza. El Ministerio de Salud y las EPS deben garantizar la atención integral. La prevención es clave para la salud pública.\",\n",
      "  \"La carencia de programas de apoyo a jóvenes con talentos artísticos en zonas rurales, pero sin recursos, los condena a la falta de oportunidades y a la pobreza. El Ministerio de Cultura y las secretarías deben crear becas y espacios de formación. Invertir en el arte es invertir en el futuro.\",\n",
      "  \"La ausencia de programas de apoyo a personas con discapacidad psicosocial en zonas rurales, con educación, empleo y acompañamiento, los mantiene en la exclusión y la pobreza. El Ministerio de Educación y las secretarías deben llevar estos servicios a todas las comunidades. La inclusión es un derecho fundamental.\",\n",
      "  \"La falta de acceso a servicios de salud para personas con enfermedades respiratorias crónicas, con tratamientos y prevención, los condena a la pobreza. El Ministerio de Salud y las EPS deben garantizar la atención integral. La prevención es clave para la salud pública.\",\n",
      "  \"La carencia de programas de apoyo a pequeños productores de hortalizas, con acceso a mercados justos y financiación, los mantiene en la subsistencia y la pobreza. El Ministerio de Agricultura y las asociaciones deben impulsar este sector. Las hortalizas son un alimento esencial.\",\n",
      "  \"La ausencia de programas de apoyo a personas con discapacidad múltiple en zonas rurales, con terapias y ayudas técnicas, los mantiene en la exclusión y la pobreza. El Ministerio de Salud y las secretarías deben llevar estos servicios a todas las comunidades. La inclusión es un derecho fundamental.\",\n",
      "  \"La falta de acceso a servicios de salud para personas con enfermedades digestivas crónicas, con tratamientos y prevención, los condena a la pobreza. El Ministerio de Salud y las EPS deben garantizar la atención integral. La prevención es clave para la salud pública.\",\n",
      "  \"La carencia de programas de apoyo a jóvenes con talentos deportivos en zonas rurales, pero sin recursos, los condena a la falta de oportunidades y a la pobreza. El Ministerio de Deporte y las secretarías deben crear becas y espacios de formación. Invertir en el deporte es invertir en el futuro.\",\n",
      "  \"La ausencia de programas de apoyo a personas con discapacidad psicosocial en zonas urbanas, con educación, empleo y acompañamiento, los mantiene en la exclusión y la pobreza. El Ministerio de Educación y el de Trabajo deben fortalecer estos programas. La inclusión es un derecho para todos.\",\n",
      "  \"La falta de acceso a servicios de salud para personas con enfermedades de la piel crónicas, con tratamientos y prevención, los condena a la pobreza. El Ministerio de Salud y las EPS deben garantizar la atención integral. La prevención es clave para la salud pública.\",\n",
      "  \"La carencia de programas de apoyo a pequeños productores de lácteos, con acceso a mercados justos y financiación, los mantiene en la subsistencia y la pobreza. El Ministerio de Agricultura y las asociaciones deben impulsar este sector. Los lácteos son un alimento básico.\",\n",
      "  \"La ausencia de programas de apoyo a personas con discapacidad física en zonas urbanas, con terapias y ayudas técnicas, los mantiene en la exclusión y la pobreza. El Ministerio de Salud y las secretarías deben llevar estos servicios a todas las comunidades. La inclusión es un derecho fundamental.\",\n",
      "  \"La falta de acceso a servicios de salud para personas con enfermedades musculoesqueléticas crónicas, con tratamientos y prevención, los condena a la pobreza. El Ministerio de Salud y las EPS deben garantizar la atención integral. La prevención es clave para la salud pública.\",\n",
      "  \"La carencia de programas de apoyo a jóvenes en situación de vulnerabilidad social, con educación, empleo y atención psicosocial, los condena a la falta de oportunidades y a la pobreza. El gobierno y las ONG deben fortalecer estos programas. La prevención es clave para el futuro.\",\n",
      "  \"La ausencia de programas de apoyo a personas con discapacidad intelectual en zonas urbanas, con educación, empleo y acompañamiento, los mantiene en la exclusión y la pobreza. El Ministerio de Educación y el de Trabajo deben fortalecer estos programas. La inclusión es un derecho fundamental.\",\n",
      "  \"La falta de acceso a servicios de salud para personas con enfermedades neurológicas crónicas, con tratamientos y prevención, los condena a la pobreza. El Ministerio de Salud y las EPS deben garantizar la atención integral. La investigación es clave para estas enfermedades.\",\n",
      "  \"La carencia de programas de apoyo a pequeños productores de huevos, con acceso a mercados justos y financiación, los mantiene en la subsistencia y la pobreza. El Ministerio de Agricultura y las asociaciones deben impulsar este sector. Los huevos son un alimento nutritivo.\",\n",
      "  \"La ausencia de programas de apoyo a personas con discapacidad auditiva en zonas urbanas, con educación, empleo y ayudas técnicas, los mantiene en la exclusión y la pobreza. El Ministerio de Educación y el de Trabajo deben fortalecer estos programas. La inclusión es un derecho fundamental.\",\n",
      "  \"La falta de acceso a servicios de salud para personas con enfermedades psiquiátricas crónicas, con tratamientos y apoyo, los condena a la pobreza. El Ministerio de Salud y las EPS deben garantizar la atención integral. La salud mental es un derecho fundamental.\",\n",
      "  \"La carencia de programas de apoyo a jóvenes con talentos científicos en zonas urbanas, pero sin recursos, los condena a la falta de oportunidades y a la pobreza. El Ministerio de Ciencia y las secretarías deben crear becas y espacios de formación. Invertir en la ciencia es invertir en el futuro.\",\n",
      "  \"La ausencia de programas de apoyo a personas con discapacidad visual en zonas urbanas, con educación, empleo y ayudas técnicas, los mantiene en la exclusión y la pobreza. El Ministerio de Educación y el de Trabajo deben fortalecer estos programas. La inclusión es un derecho fundamental.\",\n",
      "  \"La falta de acceso a servicios de salud para personas con enfermedades endocrinas crónicas, con tratamientos y prevención, los condena a la pobreza. El Ministerio de Salud y las EPS deben garantizar la atención integral. La prevención es clave para la salud pública.\",\n",
      "  \"La carencia de programas de apoyo a pequeños productores de carne, con acceso a mercados justos y financiación, los mantiene en la subsistencia y la pobreza. El Ministerio de Agricultura y las asociaciones deben impulsar este sector. La carne es un alimento importante.\",\n",
      "  \"La ausencia de programas de apoyo a personas con discapacidad múltiple en zonas urbanas, con terapias y ayudas técnicas, los mantiene en la exclusión y la pobreza. El Ministerio de Salud y las secretarías deben llevar estos servicios a todas las comunidades. La inclusión es un derecho fundamental.\",\n",
      "  \"La falta de acceso a servicios de salud para personas con enfermedades del sistema inmunitario crónicas, con tratamientos y prevención, los condena a la pobreza. El Ministerio de Salud y las EPS deben garantizar la atención integral. La investigación es clave para estas enfermedades.\",\n",
      "  \"La carencia de programas de apoyo a jóvenes con talentos tecnológicos en zonas urbanas, pero sin recursos, los condena a la falta de oportunidades y a la pobreza. El Ministerio de Tecnologías de la Información y las Comunicaciones y las secretarías deben crear becas y espacios de formación. Invertir en la tecnología es invertir en el futuro.\",\n",
      "  \"La ausencia de programas de apoyo a personas con discapacidad psicosocial en zonas rurales, con educación, empleo y acompañamiento, los mantiene en la exclusión y la pobreza. Es crucial que el gobierno y las instituciones pertinentes trabajen en la inclusión social y laboral para que estas personas puedan desarrollar su potencial y contribuir a la sociedad.\",\n",
      "  \"La falta de acceso a servicios de salud para personas con enfermedades hematológicas crónicas, con tratamientos y prevención, los condena a la pobreza. Las entidades de salud deben garantizar que los pacientes reciban la atención necesaria sin que su situación económica sea un impedimento. Es un derecho fundamental tener acceso a una salud de calidad.\",\n",
      "  \"La carencia de programas de apoyo a pequeños productores de lácteos en zonas rurales, con acceso a mercados justos y financiación, los mantiene en la subsistencia y la pobreza. El gobierno y las asociaciones deben fortalecer estos sectores para asegurar la rentabilidad de su trabajo y mejorar sus condiciones de vida.\",\n",
      "  \"La ausencia de programas de apoyo a personas con discapacidad física en zonas rurales, con terapias y ayudas técnicas, los mantiene en la exclusión y la pobreza. Es vital que las secretarías de salud y las organizaciones no gubernamentales amplíen la cobertura de estos servicios, facilitando su movilidad y autonomía.\",\n",
      "  \"La falta de acceso a servicios de salud para personas con enfermedades gastrointestinales crónicas, con tratamientos y prevención, los condena a la pobreza. El sistema de salud debe garantizar la disponibilidad de medicamentos y especialistas para que la enfermedad no se convierta en una carga financiera insostenible para las familias.\",\n",
      "  \"La carencia de programas de apoyo a jóvenes en situación de vulnerabilidad social en zonas rurales, con educación, empleo y atención psicosocial, los condena a la falta de oportunidades y a la pobreza. Es fundamental que las instituciones educativas y el gobierno lleguen a estas comunidades con programas adaptados a sus necesidades.\",\n",
      "  \"La ausencia de programas de apoyo a personas con discapacidad intelectual en zonas rurales, con educación, empleo y acompañamiento, los mantiene en la exclusión y la pobreza. Se requiere una mayor inversión en centros de formación y empleo inclusivo para que estas personas puedan tener una vida digna y productiva.\",\n",
      "  \"La falta de acceso a servicios de salud para personas con enfermedades óseas crónicas, con tratamientos y prevención, los condena a la pobreza. Es esencial que los hospitales y centros de salud rurales cuenten con los recursos y el personal especializado para atender estas condiciones, evitando el desplazamiento y los costos asociados para las familias.\",\n",
      "  \"La carencia de programas de apoyo a pequeños productores de café en zonas de conflicto, con acceso a mercados justos y financiación, los mantiene en la subsistencia y la pobreza. El gobierno debe proteger y fortalecer estas economías locales, brindando seguridad y oportunidades de desarrollo sostenible para las comunidades cafeteras.\",\n",
      "  \"La ausencia de programas de apoyo a personas con discapacidad auditiva en zonas rurales, con educación, empleo y ayudas técnicas, los mantiene en la exclusión y la pobreza. Las organizaciones de derechos humanos y el Estado deben trabajar juntos para garantizar la plena inclusión de estas personas en la sociedad.\",\n",
      "  \"La falta de acceso a servicios de salud para personas con enfermedades de la piel crónicas, con tratamientos y prevención, los condena a la pobreza. Es necesario que los programas de salud pública incluyan atención dermatológica especializada y que los medicamentos sean accesibles para todos los estratos socioeconómicos.\",\n",
      "  \"La carencia de programas de apoyo a jóvenes con talentos artísticos en zonas urbanas marginales, pero sin recursos, los condena a la falta de oportunidades y a la pobreza. Es fundamental que las secretarías de cultura y las fundaciones inviertan en la creación de escuelas de arte y becas para fomentar el desarrollo de estos talentos.\",\n",
      "  \"La ausencia de programas de apoyo a personas con discapacidad visual en zonas rurales, con educación, empleo y ayudas técnicas, los mantiene en la exclusión y la pobreza. Las instituciones educativas y el Ministerio de Trabajo deben adaptar sus programas para garantizar la inclusión laboral y académica de estas personas.\",\n",
      "  \"La falta de acceso a servicios de salud para personas con enfermedades del sistema nervioso crónicas, con tratamientos y prevención, los condena a la pobreza. Es vital que el sistema de salud garantice el acceso a terapias y medicamentos especializados, sin que la capacidad económica sea una barrera para la atención.\",\n",
      "  \"La carencia de programas de apoyo a pequeños productores de cacao en zonas rurales, con acceso a mercados justos y financiación, los mantiene en la subsistencia y la pobreza. Las políticas agrarias deben enfocarse en fortalecer la cadena de valor del cacao y en brindar asistencia técnica para mejorar la productividad y la calidad del producto.\",\n",
      "  \"La ausencia de programas de apoyo a personas con discapacidad múltiple en zonas rurales, con terapias y ayudas técnicas, los mantiene en la exclusión y la pobreza. Se requiere una mayor inversión en rehabilitación y en la adaptación de entornos para que estas personas puedan tener una vida plena y participar activamente en la comunidad.\",\n",
      "  \"La falta de acceso a servicios de salud para personas con enfermedades del sistema respiratorio crónicas, con tratamientos y prevención, los condena a la pobreza. Es crucial que los centros de salud cuenten con equipos y especialistas para atender estas enfermedades, reduciendo la carga económica para las familias afectadas.\",\n",
      "  \"La carencia de programas de apoyo a jóvenes con talentos deportivos en zonas urbanas marginales, pero sin recursos, los condena a la falta de oportunidades y a la pobreza. Es fundamental que el gobierno y el sector privado inviertan en la creación de escuelas deportivas y becas para impulsar el talento y ofrecer alternativas de vida.\",\n",
      "  \"La ausencia de programas de apoyo a personas con discapacidad psicosocial en zonas urbanas, con educación, empleo y acompañamiento, los mantiene en la exclusión y la pobreza. Se necesita una mayor sensibilización y programas de inclusión laboral para que estas personas puedan tener acceso a un trabajo digno y contribuir a la sociedad.\",\n",
      "  \"La falta de acceso a servicios de salud para personas con enfermedades del sistema circulatorio crónicas, con tratamientos y prevención, los condena a la pobreza. Es vital que el sistema de salud garantice el acceso a medicamentos y cirugías especializadas, sin que la capacidad económica sea un obstáculo para la atención.\",\n",
      "  \"La carencia de programas de apoyo a pequeños productores de panela en zonas rurales, con acceso a mercados justos y financiación, los mantiene en la subsistencia y la pobreza. Las asociaciones de productores y el gobierno deben trabajar juntos para mejorar la comercialización y la tecnificación de la producción de panela.\",\n",
      "  \"La ausencia de programas de apoyo a personas con discapacidad física en zonas urbanas, con terapias y ayudas técnicas, los mantiene en la exclusión y la pobreza. Es importante que las ciudades sean más accesibles y que se invierta en centros de rehabilitación para mejorar la calidad de vida de estas personas.\",\n",
      "  \"La falta de acceso a servicios de salud para personas con enfermedades del sistema urinario crónicas, con tratamientos y prevención, los condena a la pobreza. El sistema de salud debe asegurar que los pacientes reciban la atención especializada y los medicamentos necesarios para el manejo de estas condiciones, sin que esto implique una ruina económica.\",\n",
      "  \"La carencia de programas de apoyo a jóvenes en situación de vulnerabilidad social en zonas urbanas, con educación, empleo y atención psicosocial, los condena a la falta de oportunidades y a la pobreza. Las alcaldías y las organizaciones sociales deben fortalecer la red de apoyo para que estos jóvenes puedan construir un futuro digno.\",\n",
      "  \"La ausencia de programas de apoyo a personas con discapacidad intelectual en zonas urbanas, con educación, empleo y acompañamiento, los mantiene en la exclusión y la pobreza. Se requiere una mayor inversión en programas de inclusión laboral y en la creación de entornos de aprendizaje adaptados para estas personas.\",\n",
      "  \"La falta de acceso a servicios de salud para personas con enfermedades del sistema reproductivo crónicas, con tratamientos y prevención, los condena a la pobreza. Es fundamental que el sistema de salud garantice el acceso a especialistas y a procedimientos médicos necesarios, sin que la condición económica sea una barrera para la atención.\",\n",
      "  \"La carencia de programas de apoyo a pequeños productores de frutas en zonas rurales, con acceso a mercados justos y financiación, los mantiene en la subsistencia y la pobreza. El Ministerio de Agricultura debe impulsar la creación de cooperativas y el acceso a tecnologías que mejoren la productividad y la comercialización de sus productos.\",\n",
      "  \"La ausencia de programas de apoyo a personas con discapacidad auditiva en zonas urbanas, con educación, empleo y ayudas técnicas, los mantiene en la exclusión y la pobreza. Las instituciones educativas y las empresas deben adaptar sus espacios y procesos para garantizar la plena inclusión de estas personas en el ámbito laboral y social.\",\n",
      "  \"La falta de acceso a servicios de salud para personas con enfermedades del sistema endocrino crónicas, con tratamientos y prevención, los condena a la pobreza. Es vital que los programas de salud pública incluyan atención especializada y que los medicamentos sean asequibles, para que la enfermedad no se convierta en una carga económica insostenible.\",\n",
      "  \"La carencia de programas de apoyo a jóvenes con talentos científicos en zonas rurales, pero sin recursos, los condena a la falta de oportunidades y a la pobreza. Las secretarías de educación y las universidades deben crear programas de mentoría y becas para fomentar el interés en la ciencia y ofrecer un camino para el desarrollo profesional.\",\n",
      "  \"La ausencia de programas de apoyo a personas con discapacidad visual en zonas urbanas, con educación, empleo y ayudas técnicas, los mantiene en la exclusión y la pobreza. Las bibliotecas y los centros de formación deben ofrecer recursos adaptados y las empresas deben promover la inclusión laboral para estas personas.\",\n",
      "  \"La falta de acceso a servicios de salud para personas con enfermedades del sistema inmunitario crónicas, con tratamientos y prevención, los condena a la pobreza. El sistema de salud debe garantizar la disponibilidad de tratamientos innovadores y el acceso a especialistas, sin que la situación económica sea un impedimento para la atención.\",\n",
      "  \"La carencia de programas de apoyo a pequeños productores de carne en zonas rurales, con acceso a mercados justos y financiación, los mantiene en la subsistencia y la pobreza. El gobierno y las asociaciones deben trabajar en la tecnificación de la ganadería y en la creación de canales de comercialización que beneficien directamente a los productores.\",\n",
      "  \"La ausencia de programas de apoyo a personas con discapacidad múltiple en zonas urbanas, con terapias y ayudas técnicas, los mantiene en la exclusión y la pobreza. Se requiere una mayor inversión en centros de rehabilitación y en la adaptación de espacios públicos para garantizar la plena participación de estas personas en la vida social y económica.\",\n",
      "  \"La falta de acceso a servicios de salud para personas con enfermedades del sistema nervioso crónicas, con tratamientos y prevención, los condena a la pobreza. Es fundamental que los programas de salud incluyan atención neurológica especializada y que los medicamentos sean accesibles para todos los estratos socioeconómicos, evitando el empobrecimiento de las familias.\",\n",
      "  \"La carencia de programas de apoyo a jóvenes con talentos tecnológicos en zonas rurales, pero sin recursos, los condena a la falta de oportunidades y a la pobreza. Las instituciones educativas y el Ministerio de Tecnologías de la Información y las Comunicaciones deben llevar la conectividad y la capacitación a estas comunidades, impulsando el desarrollo de talentos digitales.\",\n",
      "  \"La ausencia de programas de apoyo a personas con discapacidad psicosocial en zonas rurales, con educación, empleo y acompañamiento, los mantiene en la exclusión y la pobreza. Las secretarías de salud y las organizaciones no gubernamentales deben ampliar la cobertura de estos servicios, facilitando su integración social y laboral.\",\n",
      "  \"La falta de acceso a servicios de salud para personas con enfermedades hematológicas crónicas, con tratamientos y prevención, los condena a la pobreza. Es crucial que los hospitales rurales cuenten con los recursos y el personal especializado para atender estas condiciones, evitando el desplazamiento y los costos asociados para las familias.\",\n",
      "  \"La carencia de programas de apoyo a pequeños productores de lácteos en zonas de conflicto, con acceso a mercados justos y financiación, los mantiene en la subsistencia y la pobreza. El gobierno debe proteger y fortalecer estas economías locales, brindando seguridad y oportunidades de desarrollo sostenible para las comunidades ganaderas.\",\n",
      "  \"La ausencia de programas de apoyo a personas con discapacidad física en zonas de conflicto, con terapias y ayudas técnicas, los mantiene en la exclusión y la pobreza. Es vital que las secretarías de salud y las organizaciones no gubernamentales amplíen la cobertura de estos servicios, facilitando su movilidad y autonomía en estas zonas afectadas.\",\n",
      "  \"La falta de acceso a servicios de salud para personas con enfermedades gastrointestinales crónicas, con tratamientos y prevención, los condena a la pobreza. El sistema de salud debe garantizar la disponibilidad de medicamentos y especialistas para que la enfermedad no se convierta en una carga financiera insostenible para las familias en zonas de conflicto.\",\n",
      "  \"La carencia de programas de apoyo a jóvenes en situación de vulnerabilidad social en zonas de conflicto, con educación, empleo y atención psicosocial, los condena a la falta de oportunidades y a la pobreza. Es fundamental que las instituciones educativas y el gobierno lleguen a estas comunidades con programas adaptados a sus necesidades y a la realidad del conflicto.\",\n",
      "  \"La ausencia de programas de apoyo a personas con discapacidad intelectual en zonas de conflicto, con educación, empleo y acompañamiento, los mantiene en la exclusión y la pobreza. Se requiere una mayor inversión en centros de formación y empleo inclusivo para que estas personas puedan tener una vida digna y productiva en medio de la adversidad.\",\n",
      "  \"La falta de acceso a servicios de salud para personas con enfermedades óseas crónicas en zonas de conflicto, con tratamientos y prevención, los condena a la pobreza. Es esencial que los hospitales y centros de salud en estas áreas cuenten con los recursos y el personal especializado para atender estas condiciones, evitando el desplazamiento y los costos asociados para las familias.\",\n",
      "  \"La carencia de programas de apoyo a pequeños productores de café en zonas de riesgo climático, con acceso a mercados justos y financiación, los mantiene en la subsistencia y la pobreza. El gobierno debe proteger y fortalecer estas economías locales, brindando seguridad y oportunidades de desarrollo sostenible para las comunidades cafeteras afectadas por el cambio climático.\",\n",
      "  \"La ausencia de programas de apoyo a personas con discapacidad auditiva en zonas de conflicto, con educación, empleo y ayudas técnicas, los mantiene en la exclusión y la pobreza. Las organizaciones de derechos humanos y el Estado deben trabajar juntos para garantizar la plena inclusión de estas personas en la sociedad, incluso en contextos de conflicto.\",\n",
      "  \"La falta de acceso a servicios de salud para personas con enfermedades de la piel crónicas en zonas de conflicto, con tratamientos y prevención, los condena a la pobreza. Es necesario que los programas de salud pública incluyan atención dermatológica especializada y que los medicamentos sean accesibles para todos los estratos socioeconómicos, especialmente en estas zonas vulnerables.\",\n",
      "  \"La carencia de programas de apoyo a jóvenes con talentos artísticos en zonas de conflicto, pero sin recursos, los condena a la falta de oportunidades y a la pobreza. Es fundamental que las secretarías de cultura y las fundaciones inviertan en la creación de escuelas de arte y becas para fomentar el desarrollo de estos talentos, ofreciendo una vía de escape y esperanza.\",\n",
      "  \"La ausencia de programas de apoyo a personas con discapacidad visual en zonas de conflicto, con educación, empleo y ayudas técnicas, los mantiene en la exclusión y la pobreza. Las instituciones educativas y el Ministerio de Trabajo deben adaptar sus programas para garantizar la inclusión laboral y académica de estas personas, incluso en medio de la violencia.\",\n",
      "  \"La falta de acceso a servicios de salud para personas con enfermedades del sistema nervioso crónicas en zonas de conflicto, con tratamientos y prevención, los condena a la pobreza. Es vital que el sistema de salud garantice el acceso a terapias y medicamentos especializados, sin que la capacidad económica sea una barrera para la atención, especialmente en estas zonas.\",\n",
      "  \"La carencia de programas de apoyo a pequeños productores de cacao en zonas de riesgo de plagas, con acceso a mercados justos y financiación, los mantiene en la subsistencia y la pobreza. Las políticas agrarias deben enfocarse en fortalecer la cadena de valor del cacao y en brindar asistencia técnica para mejorar la productividad y la calidad del producto, protegiéndolo de las plagas.\",\n",
      "  \"La ausencia de programas de apoyo a personas con discapacidad múltiple en zonas de conflicto, con terapias y ayudas técnicas, los mantiene en la exclusión y la pobreza. Se requiere una mayor inversión en rehabilitación y en la adaptación de entornos para que estas personas puedan tener una vida plena y participar activamente en la comunidad, a pesar de la violencia.\",\n",
      "  \"La falta de acceso a servicios de salud para personas con enfermedades del sistema respiratorio crónicas en zonas de conflicto, con tratamientos y prevención, los condena a la pobreza. Es crucial que los centros de salud cuenten con equipos y especialistas para atender estas enfermedades, reduciendo la carga económica para las familias afectadas en estas zonas.\",\n",
      "  \"La carencia de programas de apoyo a jóvenes con talentos deportivos en zonas de conflicto, pero sin recursos, los condena a la falta de oportunidades y a la pobreza. Es fundamental que el gobierno y el sector privado inviertan en la creación de escuelas deportivas y becas para impulsar el talento y ofrecer alternativas de vida, lejos de la violencia.\",\n",
      "  \"La ausencia de programas de apoyo a personas con discapacidad psicosocial en zonas urbanas marginales, con educación, empleo y acompañamiento, los mantiene en la exclusión y la pobreza. Se necesita una mayor sensibilización y programas de inclusión laboral para que estas personas puedan tener acceso a un trabajo digno y contribuir a la sociedad, en estas zonas difíciles.\",\n",
      "  \"La falta de acceso a servicios de salud para personas con enfermedades del sistema circulatorio crónicas en zonas urbanas marginales, con tratamientos y prevención, los condena a la pobreza. Es vital que el sistema de salud garantice el acceso a medicamentos y cirugías especializadas, sin que la capacidad económica sea un obstáculo para la atención, en estas zonas desfavorecidas.\",\n",
      "  \"La carencia de programas de apoyo a pequeños productores de panela en zonas urbanas marginales, con acceso a mercados justos y financiación, los mantiene en la subsistencia y la pobreza. Las asociaciones de productores y el gobierno deben trabajar juntos para mejorar la comercialización y la tecnificación de la producción de panela, incluso en estas zonas complicadas.\",\n",
      "  \"La ausencia de programas de apoyo a personas con discapacidad física en zonas urbanas marginales, con terapias y ayudas técnicas, los mantiene en la exclusión y la pobreza. Es importante que las ciudades sean más accesibles y que se invierta en centros de rehabilitación para mejorar la calidad de vida de estas personas, incluso en estas zonas desfavorecidas.\",\n",
      "  \"La falta de acceso a servicios de salud para personas con enfermedades del sistema urinario crónicas en zonas urbanas marginales, con tratamientos y prevención, los condena a la pobreza. El sistema de salud debe asegurar que los pacientes reciban la atención especializada y los medicamentos necesarios para el manejo de estas condiciones, sin que esto implique una ruina económica, en estas zonas.\",\n",
      "  \"La carencia de programas de apoyo a jóvenes en situación de vulnerabilidad social en zonas urbanas marginales, con educación, empleo y atención psicosocial, los condena a la falta de oportunidades y a la pobreza. Las alcaldías y las organizaciones sociales deben fortalecer la red de apoyo para que estos jóvenes puedan construir un futuro digno, incluso en estas zonas.\",\n",
      "  \"La ausencia de programas de apoyo a personas con discapacidad intelectual en zonas urbanas marginales, con educación, empleo y acompañamiento, los mantiene en la exclusión y la pobreza. Se requiere una mayor inversión en programas de inclusión laboral y en la creación de entornos de aprendizaje adaptados para estas personas, incluso en estas zonas.\",\n",
      "  \"La falta de acceso a servicios de salud para personas con enfermedades del sistema reproductivo crónicas en zonas urbanas marginales, con tratamientos y prevención, los condena a la pobreza. Es fundamental que el sistema de salud garantice el acceso a especialistas y a procedimientos médicos necesarios, sin que la condición económica sea una barrera para la atención, en estas zonas.\",\n",
      "  \"La carencia de programas de apoyo a pequeños productores de frutas en zonas urbanas marginales, con acceso a mercados justos y financiación, los mantiene en la subsistencia y la pobreza. El Ministerio de Agricultura debe impulsar la creación de cooperativas y el acceso a tecnologías que mejoren la productividad y la comercialización de sus productos, incluso en estas zonas.\",\n",
      "  \"La ausencia de programas de apoyo a personas con discapacidad auditiva en zonas urbanas marginales, con educación, empleo y ayudas técnicas, los mantiene en la exclusión y la pobreza. Las instituciones educativas y las empresas deben adaptar sus espacios y procesos para garantizar la plena inclusión de estas personas en el ámbito laboral y social, incluso en estas zonas.\",\n",
      "  \"La falta de acceso a servicios de salud para personas con enfermedades del sistema endocrino crónicas en zonas urbanas marginales, con tratamientos y prevención, los condena a la pobreza. Es vital que los programas de salud pública incluyan atención especializada y que los medicamentos sean asequibles, para que la enfermedad no se convierta en una carga económica insostenible, en estas zonas.\",\n",
      "  \"La carencia de programas de apoyo a jóvenes con talentos científicos en zonas urbanas marginales, pero sin recursos, los condena a la falta de oportunidades y a la pobreza. Las secretarías de educación y las universidades deben crear programas de mentoría y becas para fomentar el interés en la ciencia y ofrecer un camino para el desarrollo profesional, incluso en estas zonas.\",\n",
      "  \"La ausencia de programas de apoyo a personas con discapacidad visual en zonas urbanas marginales, con educación, empleo y ayudas técnicas, los mantiene en la exclusión y la pobreza. Las bibliotecas y los centros de formación deben ofrecer recursos adaptados y las empresas deben promover la inclusión laboral para estas personas, incluso en estas zonas.\",\n",
      "  \"La falta de acceso a servicios de salud para personas con enfermedades del sistema inmunitario crónicas en zonas urbanas marginales, con tratamientos y prevención, los condena a la pobreza. El sistema de salud debe garantizar la disponibilidad de tratamientos innovadores y el acceso a especialistas, sin que la situación económica sea un impedimento para la atención, en estas zonas.\",\n",
      "  \"La carencia de programas de apoyo a pequeños productores de carne en zonas urbanas marginales, con acceso a mercados justos y financiación, los mantiene en la subsistencia y la pobreza. El gobierno y las asociaciones deben trabajar en la tecnificación de la ganadería y en la creación de canales de comercialización que beneficien directamente a los productores, incluso en estas zonas.\",\n",
      "  \"La ausencia de programas de apoyo a personas con discapacidad múltiple en zonas urbanas marginales, con terapias y ayudas técnicas, los mantiene en la exclusión y la pobreza. Se requiere una mayor inversión en centros de rehabilitación y en la adaptación de espacios públicos para garantizar la plena participación de estas personas en la vida social y económica, incluso en estas zonas.\"\n",
      "]\n",
      "```\n"
     ]
    }
   ],
   "source": [
    "response2 = client.models.generate_content(\n",
    "    model=\"gemini-2.5-flash\",\n",
    "    contents=prompt,\n",
    "    config=types.GenerateContentConfig(\n",
    "        system_instruction=\"Eres un generador de datos sintéticos.\",\n",
    "        temperature=0.8,\n",
    "        thinking_config=types.ThinkingConfig(thinking_budget=0)\n",
    "    )\n",
    ")\n",
    "\n",
    "print(response2.text)"
   ]
  },
  {
   "cell_type": "code",
   "execution_count": 71,
   "id": "32fac579",
   "metadata": {},
   "outputs": [
    {
     "data": {
      "text/plain": [
       "GenerateContentResponseUsageMetadata(\n",
       "  candidates_token_count=16475,\n",
       "  prompt_token_count=1214,\n",
       "  prompt_tokens_details=[\n",
       "    ModalityTokenCount(\n",
       "      modality=<MediaModality.TEXT: 'TEXT'>,\n",
       "      token_count=1214\n",
       "    ),\n",
       "  ],\n",
       "  total_token_count=17689\n",
       ")"
      ]
     },
     "metadata": {},
     "output_type": "display_data"
    }
   ],
   "source": [
    "display(response2.usage_metadata)"
   ]
  },
  {
   "cell_type": "code",
   "execution_count": 74,
   "id": "5e25da24",
   "metadata": {},
   "outputs": [
    {
     "data": {
      "text/plain": [
       "'```json\\n[\\n  \"Es preocupante ver cómo en nuestra vereda, la falta de oportunidades de empleo digno obliga a muchas familias a vivir con lo mínimo, sin acceso a servicios básicos. Las autoridades locales deben implementar programas que impulsen la economía rural y generen ingresos estables para los campesinos. La situación actual es insostenible y afecta directamente la calidad de vida de nuestros vecinos, perpetuando un ciclo de pobreza que parece no tener fin.\",\\n  \"La informalidad laboral en mi barrio es rampante y deja a muchísimas personas sin seguridad social ni ingresos fijos, lo que agrava la pobreza. Es urgente que el gobierno municipal cree incentivos para la formalización y brinde apoyo a pequeños emprendedores. La falta de acceso a un empleo estable es una barrera enorme para salir adelante y construir un futuro digno para nuestras familias.\",\\n  \"En el centro de la ciudad, hay demasiada gente viviendo en situación de calle, lo cual refleja una profunda desigualdad y falta de redes de apoyo. La alcaldía debería fortalecer los programas de atención integral a esta población, ofreciéndoles vivienda, alimentación y oportunidades de reintegración social. No podemos ignorar esta realidad que afecta la dignidad humana y el tejido social de nuestra comunidad.\",\\n  \"Las madres cabeza de hogar en nuestra comuna luchan a diario para alimentar a sus hijos con salarios muy bajos o trabajos intermitentes, evidenciando una pobreza multidimensional. Necesitamos políticas públicas que les den prioridad en acceso a subsidios y capacitación laboral para que puedan mejorar sus ingresos. Es fundamental reconocer y apoyar el esfuerzo de estas mujeres que son el pilar de sus familias.\",\\n  \"La falta de acceso a créditos blandos para pequeños agricultores en mi región limita su capacidad de inversión y los mantiene en la pobreza. El Banco Agrario y otras entidades deberían simplificar los trámites y ofrecer tasas de interés más justas. Un apoyo financiero adecuado podría transformar la productividad del campo y mejorar significativamente la calidad de vida de nuestros campesinos.\",\\n  \"Observo con tristeza cómo la escasez de alimentos nutritivos a precios asequibles en los barrios más vulnerables de la capital afecta la salud de los niños. Es crucial que el gobierno local y las organizaciones implementen programas de seguridad alimentaria y huertas comunitarias. La malnutrición infantil es un problema grave que hipoteca el futuro de nuestra sociedad y debe ser abordado con urgencia.\",\\n  \"La ausencia de infraestructura básica como agua potable y saneamiento en muchas zonas rurales profundiza la pobreza y la desigualdad. Es responsabilidad de las empresas de servicios públicos y el gobierno departamental llevar estas soluciones a todas las comunidades. Sin estos servicios esenciales, es imposible garantizar una vida digna y un desarrollo sostenible para nuestros campesinos.\",\\n  \"El costo elevado del transporte público impacta severamente el presupuesto de las familias de bajos ingresos, quienes deben destinar gran parte de su sueldo a movilizarse. La administración municipal debería subsidiar una parte del pasaje o buscar alternativas más económicas. Esta carga económica dificulta el acceso a oportunidades laborales y educativas, perpetuando la pobreza en nuestros hogares.\",\\n  \"La escasa oferta de vivienda digna y asequible obliga a muchas familias a vivir en condiciones precarias y hacinamiento en las periferias de la ciudad. El gobierno nacional y las constructoras deben priorizar proyectos de interés social con facilidades de pago. Es un derecho fundamental tener un techo seguro y adecuado, y la falta de este derecho condena a la pobreza a miles de ciudadanos.\",\\n  \"La falta de oportunidades para los jóvenes en mi pueblo, especialmente los que no tienen acceso a educación superior, los condena a la pobreza y al desempleo. Las entidades educativas y el Sena deberían ampliar su oferta de programas técnicos y de formación para el trabajo. Invertir en la juventud es invertir en el futuro de nuestra comunidad y romper el ciclo de la pobreza.\",\\n  \"La desigualdad en el acceso a la tierra en zonas rurales concentra la riqueza en pocas manos y empobrece a los pequeños productores. Es fundamental que las autoridades agrarias implementen políticas de reforma agraria y titulación de tierras. Una distribución más equitativa de la tierra permitiría a más familias campesinas generar ingresos y vivir dignamente de su trabajo.\",\\n  \"La burocracia excesiva para acceder a programas sociales y subsidios desanima a las personas más necesitadas, quienes terminan sin recibir el apoyo vital. El Departamento de Prosperidad Social y las alcaldías deben simplificar los trámites y hacerlos más accesibles. La eficiencia en la entrega de estos apoyos es crucial para combatir la pobreza y llegar a quienes realmente lo necesitan.\",\\n  \"La falta de acceso a servicios financieros inclusivos, como microcréditos para emprendedores, impide el crecimiento de pequeños negocios en mi comuna. Las cooperativas y bancos deberían ofrecer productos adaptados a las necesidades de esta población. Un mayor acceso a capital semilla podría transformar la economía local y sacar a muchas familias de la pobreza.\",\\n  \"La discriminación laboral por edad o género es una barrera para la inclusión de grupos vulnerables, manteniéndolos en la pobreza. Las empresas y el Ministerio del Trabajo deben promover políticas de equidad y diversidad. Es inaceptable que el talento y la experiencia de muchas personas sean ignorados por prejuicios, lo cual agrava la pobreza en nuestra sociedad.\",\\n  \"Los desastres naturales recurrentes en nuestra región, como las inundaciones, destruyen cultivos y viviendas, sumiendo a las comunidades rurales en la pobreza. Es urgente que la Unidad Nacional para la Gestión del Riesgo implemente planes de prevención y reconstrucción efectivos. La resiliencia de nuestras comunidades depende de un apoyo oportuno y sostenible para recuperarse de estas tragedias.\",\\n  \"La ausencia de un salario mínimo vital que realmente cubra las necesidades básicas de una familia es un factor determinante de la pobreza en Colombia. El gobierno y los gremios deben revisar y ajustar este valor de manera justa y periódica. Es imperativo que el trabajo digno se traduzca en una vida digna para todos los ciudadanos.\",\\n  \"La explotación laboral en algunos sectores informales, con jornadas extensas y pagos ínfimos, es una forma de esclavitud moderna que perpetúa la pobreza. El Ministerio del Trabajo y los sindicatos deben intensificar las inspecciones y sanciones. No podemos permitir que la necesidad de las personas sea aprovechada para su detrimento y para mantenerlos en la miseria.\",\\n  \"La falta de programas de educación financiera para la población de bajos ingresos los hace vulnerables a deudas y estafas, profundizando su pobreza. Las entidades bancarias y el gobierno deberían ofrecer capacitaciones gratuitas y accesibles. Aprender a administrar el dinero es una herramienta poderosa para mejorar la calidad de vida y evitar caer en trampas financieras.\",\\n  \"El abandono estatal de las comunidades indígenas y afrodescendientes en mi departamento se traduce en pobreza extrema y falta de oportunidades. El gobierno nacional debe cumplir sus compromisos de inversión y garantizar sus derechos ancestrales. Estas comunidades, ricas en cultura y conocimiento, merecen vivir con dignidad y acceder a los mismos servicios que el resto del país.\",\\n  \"La corrupción en la administración de recursos públicos destinados a programas sociales desvía fondos que podrían aliviar la pobreza. La Contraloría y la Fiscalía deben ser más rigurosas en la vigilancia y sanción de estos actos. Cada peso robado es un golpe directo a las esperanzas de las personas más necesitadas y perpetúa la desigualdad.\",\\n  \"La dificultad para acceder a un sistema de pensiones digno deja a muchos adultos mayores en la pobreza y la desprotección. Colpensiones y el gobierno deben buscar soluciones para ampliar la cobertura y garantizar una vejez tranquila. Nuestros mayores han trabajado toda su vida y merecen un retiro con dignidad, sin preocupaciones económicas.\",\\n  \"La falta de oportunidades para personas con discapacidad los excluye del mercado laboral y los condena a la pobreza. Las empresas y el Estado deben implementar políticas de inclusión laboral y adaptación de espacios. Es un deber de la sociedad garantizar que todas las personas, sin importar sus capacidades, tengan la oportunidad de ser productivas y autónomas.\",\\n  \"Los altos costos de los medicamentos y tratamientos médicos son una causa de empobrecimiento para muchas familias que enfrentan enfermedades crónicas. El Ministerio de Salud y las EPS deben asegurar el acceso a medicinas esenciales y reducir sus precios. La salud no debería ser un lujo, sino un derecho universal que no lleve a la ruina a nadie.\",\\n  \"La carencia de espacios seguros y accesibles para la recreación y el deporte en barrios vulnerables afecta el bienestar y la salud mental, lo cual es un aspecto de la pobreza social. Las alcaldías deben invertir en la creación y mantenimiento de estos lugares. La recreación es fundamental para el desarrollo integral de las personas y para construir comunidades más fuertes.\",\\n  \"El acceso limitado a tecnologías de la información y la comunicación (TIC) en zonas rurales y de bajos ingresos amplía la brecha digital y limita las oportunidades económicas. El Ministerio de Tecnologías de la Información y las Comunicaciones debe expandir la conectividad y ofrecer capacitaciones. La inclusión digital es clave para el desarrollo y para que nadie se quede atrás en la era actual.\",\\n  \"La violencia intrafamiliar y el abuso de menores, además de ser crímenes atroces, generan un ciclo de pobreza y exclusión en las víctimas. Las instituciones de protección familiar y la Policía deben fortalecer sus mecanismos de denuncia y atención. Es fundamental romper estos ciclos de violencia para que las nuevas generaciones puedan crecer en un ambiente seguro y sin pobreza.\",\\n  \"La falta de una política agraria integral que apoye la comercialización de productos campesinos los deja a merced de intermediarios, empobreciéndolos. El Ministerio de Agricultura y las asociaciones de productores deben crear canales de venta justos. Un comercio equitativo es esencial para que el trabajo del campo sea rentable y sostenible, y para que los campesinos no vivan en la pobreza.\",\\n  \"Los programas de transferencia monetaria condicionada, aunque útiles, a menudo no son suficientes para sacar a las familias de la pobreza extrema, requiriendo un enfoque más integral. El gobierno debe revisar sus montos y complementarlos con capacitación y empleo. Es necesario un apoyo más robusto y duradero para que estas familias logren la autonomía económica y la dignidad.\",\\n  \"La escasez de guarderías y centros de cuidado infantil asequibles dificulta la participación laboral de muchas madres, especialmente las de bajos ingresos. Las alcaldías y el ICBF deben ampliar la oferta de estos servicios. El cuidado infantil es una inversión social que permite a las mujeres trabajar y contribuir al ingreso familiar, rompiendo el ciclo de la pobreza.\",\\n  \"El estigma social asociado a la pobreza y a los programas de asistencia desanima a muchas personas a buscar ayuda, perpetuando su situación. Es fundamental cambiar la narrativa y promover la empatía y la solidaridad en la sociedad. Debemos entender que la pobreza no es una elección, sino el resultado de múltiples factores, y que todos merecemos una oportunidad.\",\\n  \"La deficiente calidad del sistema de salud en las zonas rurales, con pocos médicos y equipos, afecta directamente la productividad y empobrece a las familias. El Ministerio de Salud debe priorizar la inversión en infraestructura y personal médico en estas áreas. La salud es un pilar fundamental para el desarrollo y para que las comunidades rurales salgan de la pobreza.\",\\n  \"La falta de acceso a una educación superior de calidad para jóvenes de bajos recursos limita sus oportunidades de ascenso social y los condena a la pobreza. El Icetex y las universidades deben ampliar las becas y los créditos condonables. La educación es la herramienta más poderosa para transformar vidas y romper el ciclo generacional de la pobreza.\",\\n  \"La deforestación y la degradación ambiental en mi región afectan los medios de subsistencia de las comunidades, que dependen de los recursos naturales. Las corporaciones autónomas regionales y el Ministerio de Ambiente deben implementar programas de desarrollo sostenible. La protección del medio ambiente es crucial para garantizar la seguridad alimentaria y económica de estas poblaciones.\",\\n  \"La carencia de títulos de propiedad de la tierra para muchos campesinos genera incertidumbre y dificulta el acceso a créditos y proyectos productivos. La Agencia Nacional de Tierras debe agilizar los procesos de formalización y titulación. La seguridad jurídica sobre la tierra es fundamental para que los campesinos inviertan y generen riqueza, superando la pobreza.\",\\n  \"El alto costo de los servicios públicos domiciliarios (luz, agua, gas) en estratos bajos consume una parte considerable de sus ingresos, manteniendo a las familias en la pobreza. Las empresas de servicios y la Comisión de Regulación de Energía y Gas deben revisar las tarifas y subsidios. Es un derecho básico acceder a estos servicios sin que representen una carga insostenible.\",\\n  \"La falta de inversión en vías terciarias en zonas rurales aísla a los productores, dificulta el transporte de sus productos y reduce sus ingresos, perpetuando la pobreza. El Invías y las gobernaciones deben priorizar la construcción y mantenimiento de estas carreteras. Una buena infraestructura es clave para la competitividad del campo y el bienestar de sus habitantes.\",\\n  \"Los programas de emprendimiento a menudo no llegan a las poblaciones más vulnerables, que carecen de la capacitación y el capital inicial para iniciar un negocio. El Sena y las cámaras de comercio deben diseñar programas más inclusivos y con acompañamiento personalizado. Fomentar el autoempleo es una estrategia efectiva para combatir la pobreza y generar desarrollo local.\",\\n  \"La presencia de minería ilegal en nuestra zona no solo destruye el medio ambiente, sino que también genera conflictos y empobrece a las comunidades locales, que quedan sin recursos. Las autoridades ambientales y de seguridad deben actuar con contundencia para erradicar esta actividad. Proteger nuestros recursos naturales es proteger el futuro y la dignidad de nuestras gentes.\",\\n  \"La falta de acceso a un seguro de desempleo o a programas de reentrenamiento laboral deja a las personas sin sustento cuando pierden su trabajo, sumiéndolas en la pobreza. El gobierno y los gremios deben crear mecanismos de protección más robustos. Es fundamental brindar un colchón de seguridad para que la pérdida de un empleo no signifique la caída en la miseria.\",\\n  \"La brecha salarial entre hombres y mujeres en trabajos similares contribuye a la pobreza femenina y a la desigualdad de género. El Ministerio del Trabajo y las empresas deben garantizar la igualdad de remuneración por igual trabajo. La justicia salarial es un paso fundamental para empoderar a las mujeres y reducir la pobreza en los hogares.\",\\n  \"La falta de programas de reinserción social para personas desmovilizadas o exconvictas dificulta su reintegración y las condena a la pobreza y la reincidencia. El gobierno y las ONG deben fortalecer estos programas con oportunidades laborales y apoyo psicosocial. Brindar segundas oportunidades es clave para construir una sociedad más justa y segura, y reducir la pobreza.\",\\n  \"El acaparamiento de tierras por parte de grandes empresas o individuos reduce la disponibilidad de terrenos para pequeños agricultores, limitando sus oportunidades y empobreciéndolos. Las autoridades agrarias deben regular el uso de la tierra y promover su distribución equitativa. Es esencial proteger a los pequeños productores y garantizar su acceso a la tierra para su sustento.\",\\n  \"La falta de acceso a servicios bancarios básicos, como cuentas de ahorro o microcréditos, en zonas rurales, mantiene a la población en la informalidad y la pobreza. Los bancos y el gobierno deben expandir la bancarización y la educación financiera en estas áreas. La inclusión financiera es una herramienta poderosa para el desarrollo económico y la superación de la pobreza.\",\\n  \"La ausencia de políticas públicas que fomenten la asociatividad entre pequeños productores los deja vulnerables frente a los grandes mercados, disminuyendo sus ganancias. El Ministerio de Agricultura y las Cámaras de Comercio deben apoyar la creación de cooperativas y asociaciones. La unión hace la fuerza y permite a los campesinos obtener mejores precios por sus productos.\",\\n  \"La deficiente infraestructura de salud en mi municipio, con pocos centros de atención y especialistas, obliga a las familias a viajar lejos y gastar mucho, lo que agrava su pobreza. La Secretaría de Salud departamental debe invertir en la mejora de estos servicios. El acceso a la salud es un derecho que no debería ser una carga económica para nadie.\",\\n  \"La falta de programas de apoyo psicológico y de salud mental accesibles en comunidades vulnerables agrava los problemas sociales y económicos. La Secretaría de Salud y las ONG deben expandir estos servicios. La salud mental es tan importante como la física para el bienestar general y para que las personas puedan salir de la pobreza.\",\\n  \"El alto costo de los útiles escolares y la matrícula en colegios privados es una barrera para la educación de calidad de muchos niños, perpetuando la pobreza. El gobierno debe fortalecer la educación pública y ofrecer subsidios para materiales educativos. La educación es la base para el desarrollo y para romper el ciclo de la pobreza en las familias.\",\\n  \"La informalidad en la venta ambulante, aunque genera ingresos, expone a los trabajadores a condiciones precarias y sin seguridad social. La alcaldía debe buscar estrategias para formalizar estas actividades y proteger a los vendedores. Es fundamental dignificar el trabajo y garantizar que todos tengan acceso a condiciones laborales justas, superando la pobreza.\",\\n  \"La escasez de fuentes de empleo alternativas a la agricultura tradicional en mi región, hace que muchas familias dependan de cultivos de bajo rendimiento, manteniéndolas en la pobreza. Las agencias de desarrollo regional deben promover la diversificación económica. Es crucial generar nuevas oportunidades para que las comunidades rurales prosperen y mejoren su calidad de vida.\",\\n  \"La falta de acceso a servicios de cuidado para adultos mayores en comunidades de bajos ingresos obliga a las familias a destinar tiempo y recursos, lo que afecta su productividad. El ICBF y las alcaldías deben crear más centros de atención y apoyo. Nuestros mayores merecen un cuidado digno y sus familias no deberían empobrecerse por ello.\",\\n  \"La deficiente gestión de residuos sólidos en barrios marginales genera problemas de salud y medio ambiente, afectando la calidad de vida de sus habitantes y profundizando la pobreza. Las empresas de aseo y las alcaldías deben invertir en infraestructura y programas de reciclaje. Un entorno limpio y sano es un derecho fundamental para todos los ciudadanos.\",\\n  \"La falta de acceso a internet de calidad en zonas rurales limita el acceso a la educación virtual y a oportunidades laborales, ampliando la brecha de desigualdad. El Ministerio de Tecnologías de la Información y las Comunicaciones debe implementar planes de expansión de cobertura. La conectividad es una herramienta esencial para el desarrollo y para superar la pobreza en el campo.\",\\n  \"La criminalidad y la inseguridad en mi barrio no solo generan miedo, sino que también ahuyentan la inversión y las oportunidades laborales, perpetuando la pobreza. La Policía y la alcaldía deben trabajar de la mano con la comunidad para fortalecer la seguridad. Un entorno seguro es fundamental para el desarrollo económico y social de cualquier comunidad.\",\\n  \"La ausencia de un sistema de transporte público eficiente y accesible en las afueras de la ciudad dificulta el acceso al trabajo y a los servicios, lo que empobrece a las familias. La alcaldía y las empresas de transporte deben mejorar la cobertura y las frecuencias. Un transporte digno es un factor clave para la movilidad social y económica de los ciudadanos.\",\\n  \"La falta de programas de reforestación y recuperación de suelos degradados afecta la productividad agrícola y empobrece a las comunidades campesinas. Las corporaciones autónomas regionales y el Ministerio de Ambiente deben invertir en estos proyectos. Proteger y restaurar nuestros ecosistemas es esencial para garantizar la seguridad alimentaria y el bienestar de las generaciones futuras.\",\\n  \"Los altos intereses de los \\'gota a gota\\' sumen a muchas familias en un ciclo de endeudamiento y pobreza del que es muy difícil salir. Las autoridades y las cooperativas de crédito deben ofrecer alternativas financieras legales y accesibles. Es crucial proteger a la población de estas prácticas usureras que solo generan miseria.\",\\n  \"La falta de acceso a agua potable segura y constante en muchas veredas obliga a las familias a comprar agua o a consumir fuentes contaminadas, afectando su salud y economía. Las empresas de servicios públicos y las alcaldías deben priorizar la inversión en acueductos rurales. El agua es un derecho fundamental y su escasez agrava la pobreza.\",\\n  \"La carencia de programas de capacitación para el empleo en sectores emergentes deja a muchos trabajadores sin las habilidades necesarias para acceder a mejores trabajos. El Sena y las empresas deben actualizar su oferta educativa. La formación continua es clave para la empleabilidad y para que las personas puedan mejorar sus ingresos y salir de la pobreza.\",\\n  \"La informalidad en el sector de la construcción, con bajos salarios y sin seguridad laboral, expone a los trabajadores a la pobreza y a condiciones de riesgo. El Ministerio del Trabajo y los sindicatos deben fiscalizar este sector y promover la formalización. Es fundamental garantizar derechos laborales y seguridad para todos los trabajadores, sin importar su oficio.\",\\n  \"La falta de acceso a servicios de salud mental en las zonas rurales, donde la depresión y la ansiedad son comunes, agrava la situación de pobreza. Las secretarías de salud deben llevar especialistas y programas de atención a estas comunidades. El bienestar emocional es crucial para que las personas puedan enfrentar los desafíos de la vida y prosperar.\",\\n  \"El escaso apoyo a las economías locales y a los pequeños comercios frente a las grandes cadenas empobrece a los emprendedores y a la comunidad. Las alcaldías deben implementar políticas de fomento al consumo local y programas de apoyo a PYMES. Fortalecer el comercio de barrio es fundamental para generar empleo y riqueza en nuestras comunidades.\",\\n  \"La falta de programas de prevención y atención a la drogadicción, especialmente en jóvenes, destruye familias y profundiza la pobreza. El gobierno y las ONG deben invertir en campañas de prevención y centros de rehabilitación. Abordar este problema es clave para la salud pública y para que las nuevas generaciones tengan un futuro sin pobreza.\",\\n  \"El difícil acceso a la justicia para las personas de bajos recursos perpetúa la impunidad y la desigualdad, lo que es un factor más de pobreza social. La Defensoría del Pueblo y las casas de justicia deben fortalecer la asesoría legal gratuita. La justicia debe ser accesible para todos, sin importar su condición económica.\",\\n  \"La ausencia de un sistema de alcantarillado adecuado en muchos barrios periféricos genera problemas sanitarios y ambientales, afectando la calidad de vida y empobreciendo a sus habitantes. Las empresas de servicios públicos y las alcaldías deben priorizar la inversión en estas infraestructuras. Un saneamiento básico es un derecho fundamental para una vida digna.\",\\n  \"La falta de programas de educación sexual integral y acceso a métodos anticonceptivos en zonas vulnerables contribuye a embarazos adolescentes, lo que perpetúa la pobreza. El Ministerio de Salud y las instituciones educativas deben fortalecer estos programas. La planificación familiar es crucial para que las jóvenes puedan construir un futuro y evitar la pobreza.\",\\n  \"La escasez de bibliotecas públicas y centros culturales en barrios de bajos recursos limita el acceso al conocimiento y a la recreación, lo cual es un aspecto de la pobreza cultural. Las alcaldías y las secretarías de cultura deben invertir en la creación y dotación de estos espacios. Fomentar la lectura y la cultura es fundamental para el desarrollo integral de las personas.\",\\n  \"La deficiente calidad de los materiales de construcción de viviendas de interés social las hace vulnerables y efímeras, obligando a las familias a gastar más en reparaciones. El Ministerio de Vivienda debe fiscalizar la calidad de estas construcciones. Las familias de bajos recursos merecen casas dignas y duraderas que no los lleven a la pobreza.\",\\n  \"La falta de apoyo a la pequeña minería artesanal en mi región, con falta de capacitación y formalización, los mantiene en la ilegalidad y la pobreza. El Ministerio de Minas y Energía debe diseñar programas que los incluyan y los ayuden a operar de manera sostenible. Es posible una minería responsable que genere riqueza para las comunidades.\",\\n  \"La carencia de programas de apoyo a personas con enfermedades crónicas, como la diabetes o la hipertensión, sin recursos para tratamientos, los condena a la pobreza. El Ministerio de Salud y las EPS deben asegurar el acceso a medicinas y seguimiento médico. La salud es un derecho fundamental que no debería depender de la capacidad económica.\",\\n  \"La ausencia de servicios de salud preventiva en comunidades rurales, como vacunación y controles de crecimiento, genera enfermedades que empobrecen a las familias. Las secretarías de salud deben fortalecer las brigadas médicas y los programas de atención primaria. La prevención es clave para evitar costos mayores y mejorar la calidad de vida.\",\\n  \"El alto índice de deserción escolar en zonas rurales, por necesidad de trabajar o falta de recursos, perpetúa el ciclo de pobreza. El Ministerio de Educación y las gobernaciones deben ofrecer incentivos y transporte escolar. La educación es la base para el desarrollo y para que los niños del campo tengan un futuro mejor.\",\\n  \"La falta de acceso a servicios bancarios en zonas de conflicto armado o alejadas, impide a las comunidades manejar su dinero de forma segura y acceder a créditos, manteniéndolas en la pobreza. La Superintendencia Financiera y los bancos deben buscar estrategias de inclusión. La bancarización es una herramienta de empoderamiento económico y paz.\",\\n  \"La deficiente infraestructura de mercados campesinos y plazas de mercado en las ciudades, dificulta la comercialización directa de productos, empobreciendo a los agricultores. Las alcaldías deben invertir en la adecuación y promoción de estos espacios. Apoyar a los campesinos es fundamental para la seguridad alimentaria y para reducir la pobreza en el campo.\",\\n  \"La falta de acceso a internet en las cárceles limita las oportunidades de resocialización y capacitación de los internos, dificultando su reintegración y empobreciéndolos. El Ministerio de Justicia y las instituciones penitenciarias deben implementar programas de alfabetización digital. Brindar herramientas para el futuro es clave para reducir la reincidencia y la pobreza.\",\\n  \"La escasez de programas de apoyo a mujeres víctimas de violencia, con refugios y asesoría legal, las deja en situación de vulnerabilidad y pobreza. Las alcaldías y las secretarías de la mujer deben fortalecer estos servicios. Proteger a las mujeres y garantizar su autonomía es fundamental para construir una sociedad más justa y equitativa.\",\\n  \"La falta de conocimiento sobre derechos laborales en los sectores informales, hace que muchos trabajadores sean explotados y vivan en la pobreza. El Ministerio del Trabajo y las organizaciones sindicales deben realizar campañas de sensibilización y asesoría legal. La educación sobre derechos es una herramienta poderosa para empoderar a los trabajadores.\",\\n  \"La carencia de programas de apoyo a pequeños pescadores artesanales, con acceso a mercados y tecnología, los mantiene en la subsistencia y la pobreza. El Ministerio de Agricultura y Pesca debe implementar políticas que fortalezcan este sector. Es fundamental reconocer la labor de estos hombres y mujeres y garantizar su sustento.\",\\n  \"La contaminación de fuentes hídricas por actividades ilegales o industriales afecta la salud y los medios de vida de las comunidades, empobreciéndolas. Las autoridades ambientales y de salud deben imponer sanciones y promover la recuperación de estos ecosistemas. El agua limpia es esencial para la vida y para el desarrollo sostenible.\",\\n  \"La ausencia de una política de precios justos para los productos agrícolas deja a los campesinos a merced de la especulación, empobreciéndolos. El Ministerio de Agricultura debe crear mecanismos que garanticen una remuneración digna por su trabajo. Proteger a los productores es proteger la seguridad alimentaria del país.\",\\n  \"La falta de acceso a servicios de cuidado infantil nocturno o flexible dificulta que las madres trabajen en horarios no convencionales, limitando sus ingresos. Las alcaldías y el ICBF deben ampliar la oferta de estos servicios. Es fundamental adaptar los programas a las realidades laborales de las familias para combatir la pobreza.\",\\n  \"La deficiente infraestructura de saneamiento básico en zonas costeras y ribereñas, con vertimiento de aguas residuales, afecta la salud y el turismo, empobreciendo a las comunidades. Las empresas de servicios públicos y las alcaldías deben invertir en plantas de tratamiento. El saneamiento ambiental es clave para el bienestar y el desarrollo económico.\",\\n  \"La falta de programas de apoyo a personas con enfermedades mentales graves, con vivienda y acompañamiento, los condena a la calle y a la pobreza. El Ministerio de Salud y las secretarías deben fortalecer la red de atención. Es un deber de la sociedad cuidar a los más vulnerables y garantizar su dignidad.\",\\n  \"La escasez de oportunidades laborales para migrantes y refugiados los empuja a la informalidad y a la pobreza extrema. El gobierno y las ONG deben facilitar su integración laboral y social. Brindarles una oportunidad es un acto humanitario y una inversión en el desarrollo del país.\",\\n  \"La falta de acceso a servicios de energía eléctrica en zonas rurales y apartadas limita el desarrollo productivo y empobrece a las familias. El Ministerio de Minas y Energía y las empresas de energía deben expandir la cobertura. La energía es un motor de progreso y un derecho fundamental para todos.\",\\n  \"La carencia de programas de apoyo a jóvenes en riesgo de reclutamiento forzado, con alternativas educativas y laborales, los condena a un futuro incierto y a la pobreza. El gobierno y las ONG deben fortalecer estos programas en las zonas de conflicto. Proteger a la juventud es construir paz y un futuro sin pobreza.\",\\n  \"La ausencia de un sistema de alerta temprana y evacuación en zonas de alto riesgo natural agrava las consecuencias de los desastres y empobrece a las comunidades. La Unidad Nacional para la Gestión del Riesgo debe invertir en estas herramientas. La prevención es clave para salvar vidas y proteger los medios de vida.\",\\n  \"La falta de acceso a servicios de rehabilitación para personas con adicciones, con programas integrales y apoyo familiar, los mantiene en la pobreza y la exclusión. El Ministerio de Salud y las secretarías deben ampliar la oferta de estos servicios. La recuperación es posible con el apoyo adecuado.\",\\n  \"El alto costo de las tarifas de internet y telefonía móvil en zonas de bajos ingresos limita el acceso a la información y a oportunidades, ampliando la brecha digital. El Ministerio de Tecnologías de la Información y las Comunicaciones debe regular los precios y promover planes accesibles. La conectividad es un derecho en la era actual.\",\\n  \"La carencia de programas de formación técnica y tecnológica adaptados a las necesidades del mercado laboral local, deja a muchos jóvenes sin empleo y en la pobreza. El Sena y las instituciones educativas deben actualizar sus currículos. La pertinencia de la educación es clave para la empleabilidad y el desarrollo.\",\\n  \"La falta de acceso a servicios de salud sexual y reproductiva para adolescentes en zonas rurales contribuye a embarazos no deseados y a la pobreza. El Ministerio de Salud y las secretarías deben llevar estos servicios a todas las comunidades. La información y el acceso son derechos fundamentales para la juventud.\",\\n  \"La ausencia de un sistema de transporte fluvial adecuado en regiones amazónicas y del Pacífico aísla a las comunidades y dificulta el comercio, perpetuando la pobreza. El Ministerio de Transporte y las gobernaciones deben invertir en infraestructura y rutas. La conectividad es vital para el desarrollo de estas regiones.\",\\n  \"La falta de acceso a programas de vivienda rural digna y adaptada a las necesidades de los campesinos los mantiene en condiciones precarias. El Ministerio de Vivienda y las gobernaciones deben priorizar estos proyectos. Un hogar seguro y confortable es un derecho fundamental para todos.\",\\n  \"La escasez de oportunidades laborales para adultos mayores con experiencia, los condena a la inactividad y a la pobreza. El Ministerio del Trabajo y las empresas deben promover la inclusión de esta población. La experiencia de nuestros mayores es un valor que no deberíamos desperdiciar.\",\\n  \"La falta de acceso a servicios de atención a la primera infancia en zonas de conflicto o vulnerables, afecta el desarrollo de los niños y perpetúa la pobreza. El ICBF y las alcaldías deben ampliar la cobertura de estos programas. Invertir en la primera infancia es invertir en el futuro del país.\",\\n  \"La ausencia de programas de apoyo a pequeños comerciantes afectados por la pandemia o crisis económicas, los lleva a la quiebra y a la pobreza. Las alcaldías y las cámaras de comercio deben ofrecer subsidios y créditos blandos. La resiliencia de nuestro tejido empresarial depende de este apoyo.\",\\n  \"La falta de acceso a servicios de salud para personas con VIH/SIDA, con tratamientos y apoyo psicosocial, los condena a la exclusión y a la pobreza. El Ministerio de Salud y las EPS deben garantizar la atención integral. La dignidad y el derecho a la salud son inalienables.\",\\n  \"La carencia de programas de apoyo a familias desplazadas por la violencia, con vivienda, empleo y atención psicosocial, los mantiene en la vulnerabilidad y la pobreza. El gobierno y las ONG deben fortalecer estos programas. Es un deber de la sociedad apoyar a quienes han perdido todo por el conflicto.\",\\n  \"La falta de acceso a servicios de salud oral y visual básicos en comunidades de bajos recursos afecta su calidad de vida y su capacidad de trabajar. El Ministerio de Salud y las EPS deben ampliar la cobertura de estos servicios. La salud integral es fundamental para el bienestar y la productividad.\",\\n  \"La ausencia de un sistema de gestión de riesgos para pequeños productores agrícolas frente a plagas y enfermedades, los deja sin sustento y en la pobreza. El ICA y el Ministerio de Agricultura deben fortalecer estos programas. La protección de los cultivos es clave para la seguridad alimentaria.\",\\n  \"La falta de acceso a energía solar o fuentes de energía renovable en zonas no interconectadas, limita el desarrollo y perpetúa la pobreza energética. El Ministerio de Minas y Energía y las empresas deben invertir en estas tecnologías. La energía limpia es el futuro y un derecho para todos.\",\\n  \"La carencia de programas de apoyo a personas con enfermedades raras, con acceso a tratamientos costosos y acompañamiento, los condena a la pobreza. El Ministerio de Salud y las EPS deben garantizar la atención integral. Es un deber de la sociedad brindar esperanza a quienes más lo necesitan.\",\\n  \"La falta de acceso a servicios de salud para personas en condición de discapacidad mental, con terapias y apoyo familiar, los mantiene en la exclusión y la pobreza. El Ministerio de Salud y las secretarías deben ampliar la oferta de estos servicios. La inclusión es un derecho para todos.\",\\n  \"La ausencia de programas de apoyo a jóvenes con talento artístico o deportivo, pero sin recursos, los condena a la falta de oportunidades y a la pobreza. El Ministerio de Cultura y el de Deporte deben crear becas y espacios de formación. Invertir en el talento es invertir en el futuro del país.\",\\n  \"La falta de acceso a servicios de cuidado para personas con alzheimer u otras demencias, con centros especializados y apoyo a cuidadores, empobrece a las familias. El Ministerio de Salud y las alcaldías deben fortalecer estos programas. La dignidad de nuestros mayores es una prioridad.\",\\n  \"La carencia de programas de apoyo a comunidades afectadas por el extractivismo, con reparación ambiental y oportunidades económicas, los mantiene en la pobreza. El Ministerio de Ambiente y las empresas deben cumplir con sus responsabilidades sociales y ambientales. El desarrollo debe ser sostenible e inclusivo.\",\\n  \"La falta de acceso a servicios de salud para personas en condición de calle, con atención integral y seguimiento, los condena a la enfermedad y a la pobreza extrema. Las secretarías de salud y las ONG deben fortalecer estos programas. Es un deber de la sociedad cuidar a los más vulnerables.\",\\n  \"La ausencia de programas de apoyo a pequeños artesanos, con capacitación, acceso a mercados y financiación, los mantiene en la subsistencia y la pobreza. El Ministerio de Cultura y las cámaras de comercio deben impulsar este sector. La riqueza cultural de nuestro país merece ser valorada.\",\\n  \"La falta de acceso a servicios de salud para personas con enfermedades crónicas no transmisibles, con tratamientos y seguimiento, los condena a la pobreza. El Ministerio de Salud y las EPS deben garantizar la atención integral. La prevención y el control son claves para la calidad de vida.\",\\n  \"La carencia de programas de apoyo a jóvenes desescolarizados, con oportunidades educativas y laborales, los condena a la inactividad y a la pobreza. El Ministerio de Educación y el Sena deben fortalecer estos programas. La educación es la base para un futuro sin pobreza.\",\\n  \"La ausencia de programas de apoyo a madres adolescentes, con educación, cuidado infantil y oportunidades laborales, las condena a la pobreza. El ICBF y las alcaldías deben fortalecer estos programas. La prevención y el apoyo son claves para romper el ciclo de la pobreza.\",\\n  \"La falta de acceso a servicios de salud para personas con discapacidad física, con terapias y ayudas técnicas, los mantiene en la exclusión y la pobreza. El Ministerio de Salud y las EPS deben ampliar la oferta de estos servicios. La inclusión es un derecho para todos.\",\\n  \"La carencia de programas de apoyo a pequeños ganaderos, con acceso a tecnología, mercados y financiación, los mantiene en la subsistencia y la pobreza. El Ministerio de Agricultura y las asociaciones deben impulsar este sector. La ganadería sostenible es clave para el desarrollo rural.\",\\n  \"La ausencia de programas de apoyo a personas con enfermedades mentales leves, con acceso a terapias y consejería, los mantiene en la exclusión y la pobreza. El Ministerio de Salud y las secretarías deben ampliar la oferta de estos servicios. La salud mental es un derecho fundamental.\",\\n  \"La falta de acceso a servicios de salud para personas con enfermedades terminales, con cuidados paliativos y apoyo familiar, los condena a la pobreza. El Ministerio de Salud y las EPS deben garantizar la atención integral. La dignidad hasta el final de la vida es un derecho.\",\\n  \"La carencia de programas de apoyo a pequeños mineros informales, con capacitación, formalización y acceso a mercados justos, los mantiene en la ilegalidad y la pobreza. El Ministerio de Minas y Energía debe buscar soluciones inclusivas. Es posible una minería responsable y digna.\",\\n  \"La ausencia de programas de apoyo a jóvenes en riesgo de delincuencia, con alternativas educativas y laborales, los condena a un futuro incierto y a la pobreza. El gobierno y las ONG deben fortalecer estos programas en las zonas vulnerables. La prevención es clave para construir paz.\",\\n  \"La falta de acceso a servicios de salud para personas con discapacidad sensorial, con ayudas técnicas y terapias, los mantiene en la exclusión y la pobreza. El Ministerio de Salud y las EPS deben ampliar la oferta de estos servicios. La inclusión es un derecho para todos.\",\\n  \"La carencia de programas de apoyo a pequeños emprendedores rurales, con capacitación, financiación y acceso a mercados, los mantiene en la subsistencia y la pobreza. El Ministerio de Agricultura y las cámaras de comercio deben impulsar este sector. El emprendimiento rural es clave para el desarrollo.\",\\n  \"La ausencia de programas de apoyo a personas con VIH/SIDA en zonas rurales, con acceso a tratamientos y acompañamiento, los mantiene en la exclusión y la pobreza. El Ministerio de Salud y las secretarías deben llevar estos servicios a todas las comunidades. La dignidad es un derecho fundamental.\",\\n  \"La falta de acceso a servicios de salud para personas con enfermedades infecciosas, con tratamientos y prevención, los condena a la pobreza y a la exclusión. El Ministerio de Salud y las EPS deben garantizar la atención integral. La salud pública es una prioridad para todos.\",\\n  \"La carencia de programas de apoyo a jóvenes con talento científico o tecnológico, pero sin recursos, los condena a la falta de oportunidades y a la pobreza. El Ministerio de Ciencia y el de Educación deben crear becas y espacios de formación. Invertir en la ciencia es invertir en el futuro.\",\\n  \"La ausencia de programas de apoyo a personas con discapacidad intelectual, con educación, empleo y acompañamiento, los mantiene en la exclusión y la pobreza. El Ministerio de Educación y el de Trabajo deben fortalecer estos programas. La inclusión es un derecho para todos.\",\\n  \"La falta de acceso a servicios de salud para personas con trastornos alimenticios, con terapias y acompañamiento, los condena a la pobreza y a la exclusión. El Ministerio de Salud y las secretarías deben ampliar la oferta de estos servicios. La salud mental es un derecho fundamental.\",\\n  \"La carencia de programas de apoyo a pequeños productores agroecológicos, con acceso a mercados justos y financiación, los mantiene en la subsistencia y la pobreza. El Ministerio de Agricultura y las asociaciones deben impulsar este sector. La agricultura sostenible es clave para el futuro.\",\\n  \"La ausencia de programas de apoyo a personas con enfermedades neurodegenerativas, con tratamientos y cuidados especializados, los condena a la pobreza. El Ministerio de Salud y las EPS deben garantizar la atención integral. La dignidad en la enfermedad es un derecho fundamental.\",\\n  \"La falta de acceso a servicios de salud para personas con discapacidad múltiple, con terapias y ayudas técnicas, los mantiene en la exclusión y la pobreza. El Ministerio de Salud y las EPS deben ampliar la oferta de estos servicios. La inclusión es un derecho para todos.\",\\n  \"La carencia de programas de apoyo a jóvenes en situación de calle, con vivienda, educación y oportunidades laborales, los condena a un futuro incierto y a la pobreza. El gobierno y las ONG deben fortalecer estos programas. La esperanza es un derecho para todos.\",\\n  \"La ausencia de programas de apoyo a personas con enfermedades raras en zonas rurales, con acceso a tratamientos y acompañamiento, los mantiene en la exclusión y la pobreza. El Ministerio de Salud y las secretarías deben llevar estos servicios a todas las comunidades. La dignidad es un derecho fundamental.\",\\n  \"La falta de acceso a servicios de salud para personas con trastornos de ansiedad y depresión, con terapias y apoyo psicológico, los condena a la pobreza. El Ministerio de Salud y las secretarías deben ampliar la oferta de estos servicios. La salud mental es un derecho fundamental.\",\\n  \"La carencia de programas de apoyo a pequeños productores de café, con acceso a mercados justos y financiación, los mantiene en la subsistencia y la pobreza. El Ministerio de Agricultura y la Federación de Cafeteros deben impulsar este sector. El café es un símbolo de nuestro país.\",\\n  \"La ausencia de programas de apoyo a personas con discapacidad psicosocial, con educación, empleo y acompañamiento, los mantiene en la exclusión y la pobreza. El Ministerio de Educación y el de Trabajo deben fortalecer estos programas. La inclusión es un derecho para todos.\",\\n  \"La falta de acceso a servicios de salud para personas con enfermedades crónicas en zonas rurales, con tratamientos y seguimiento, los condena a la pobreza. El Ministerio de Salud y las secretarías deben llevar estos servicios a todas las comunidades. La salud es un derecho fundamental.\",\\n  \"La carencia de programas de apoyo a jóvenes con talento en emprendimiento, pero sin recursos, los condena a la falta de oportunidades y a la pobreza. El Sena y las cámaras de comercio deben crear becas y espacios de formación. Invertir en el emprendimiento es invertir en el futuro.\",\\n  \"La ausencia de programas de apoyo a personas con discapacidad auditiva, con educación, empleo y ayudas técnicas, los mantiene en la exclusión y la pobreza. El Ministerio de Educación y el de Trabajo deben fortalecer estos programas. La inclusión es un derecho para todos.\",\\n  \"La falta de acceso a servicios de salud para personas con cáncer, con tratamientos y apoyo psicológico, los condena a la pobreza y a la exclusión. El Ministerio de Salud y las EPS deben garantizar la atención integral. La esperanza es un derecho fundamental.\",\\n  \"La carencia de programas de apoyo a pequeños productores de panela, con acceso a mercados justos y financiación, los mantiene en la subsistencia y la pobreza. El Ministerio de Agricultura y las asociaciones deben impulsar este sector. La panela es un alimento tradicional.\",\\n  \"La ausencia de programas de apoyo a personas con discapacidad visual, con educación, empleo y ayudas técnicas, los mantiene en la exclusión y la pobreza. El Ministerio de Educación y el de Trabajo deben fortalecer estos programas. La inclusión es un derecho para todos.\",\\n  \"La falta de acceso a servicios de salud para personas con enfermedades autoinmunes, con tratamientos y seguimiento, los condena a la pobreza. El Ministerio de Salud y las EPS deben garantizar la atención integral. La investigación es clave para estas enfermedades.\",\\n  \"La carencia de programas de apoyo a jóvenes en zonas de conflicto, con alternativas educativas y laborales, los condena a la falta de oportunidades y a la pobreza. El gobierno y las ONG deben fortalecer estos programas. La paz es un derecho para todos.\",\\n  \"La ausencia de programas de apoyo a personas con discapacidad física en zonas rurales, con terapias y ayudas técnicas, los mantiene en la exclusión y la pobreza. El Ministerio de Salud y las secretarías deben llevar estos servicios a todas las comunidades. La inclusión es un derecho fundamental.\",\\n  \"La falta de acceso a servicios de salud para personas con enfermedades cardiovasculares, con tratamientos y prevención, los condena a la pobreza. El Ministerio de Salud y las EPS deben garantizar la atención integral. La prevención es clave para la salud pública.\",\\n  \"La carencia de programas de apoyo a pequeños productores de cacao, con acceso a mercados justos y financiación, los mantiene en la subsistencia y la pobreza. El Ministerio de Agricultura y las asociaciones deben impulsar este sector. El cacao es un producto de exportación.\",\\n  \"La ausencia de programas de apoyo a personas con discapacidad intelectual en zonas rurales, con educación, empleo y acompañamiento, los mantiene en la exclusión y la pobreza. El Ministerio de Educación y las secretarías deben llevar estos servicios a todas las comunidades. La inclusión es un derecho fundamental.\",\\n  \"La falta de acceso a servicios de salud para personas con diabetes, con tratamientos y seguimiento, los condena a la pobreza. El Ministerio de Salud y las EPS deben garantizar la atención integral. La prevención y el control son claves para la calidad de vida.\",\\n  \"La carencia de programas de apoyo a jóvenes desvinculados de grupos armados, con educación, empleo y atención psicosocial, los condena a la falta de oportunidades y a la pobreza. El gobierno y las ONG deben fortalecer estos programas. La reinserción es clave para la paz.\",\\n  \"La ausencia de programas de apoyo a personas con discapacidad auditiva en zonas rurales, con educación, empleo y ayudas técnicas, los mantiene en la exclusión y la pobreza. El Ministerio de Educación y las secretarías deben llevar estos servicios a todas las comunidades. La inclusión es un derecho fundamental.\",\\n  \"La falta de acceso a servicios de salud para personas con hipertensión, con tratamientos y prevención, los condena a la pobreza. El Ministerio de Salud y las EPS deben garantizar la atención integral. La prevención es clave para la salud pública.\",\\n  \"La carencia de programas de apoyo a pequeños productores de frutas, con acceso a mercados justos y financiación, los mantiene en la subsistencia y la pobreza. El Ministerio de Agricultura y las asociaciones deben impulsar este sector. Las frutas son un alimento saludable.\",\\n  \"La ausencia de programas de apoyo a personas con discapacidad visual en zonas rurales, con educación, empleo y ayudas técnicas, los mantiene en la exclusión y la pobreza. El Ministerio de Educación y las secretarías deben llevar estos servicios a todas las comunidades. La inclusión es un derecho fundamental.\",\\n  \"La falta de acceso a servicios de salud para personas con enfermedades renales, con tratamientos y apoyo, los condena a la pobreza. El Ministerio de Salud y las EPS deben garantizar la atención integral. La prevención es clave para la salud pública.\",\\n  \"La carencia de programas de apoyo a jóvenes con talentos artísticos en zonas rurales, pero sin recursos, los condena a la falta de oportunidades y a la pobreza. El Ministerio de Cultura y las secretarías deben crear becas y espacios de formación. Invertir en el arte es invertir en el futuro.\",\\n  \"La ausencia de programas de apoyo a personas con discapacidad psicosocial en zonas rurales, con educación, empleo y acompañamiento, los mantiene en la exclusión y la pobreza. El Ministerio de Educación y las secretarías deben llevar estos servicios a todas las comunidades. La inclusión es un derecho fundamental.\",\\n  \"La falta de acceso a servicios de salud para personas con enfermedades respiratorias crónicas, con tratamientos y prevención, los condena a la pobreza. El Ministerio de Salud y las EPS deben garantizar la atención integral. La prevención es clave para la salud pública.\",\\n  \"La carencia de programas de apoyo a pequeños productores de hortalizas, con acceso a mercados justos y financiación, los mantiene en la subsistencia y la pobreza. El Ministerio de Agricultura y las asociaciones deben impulsar este sector. Las hortalizas son un alimento esencial.\",\\n  \"La ausencia de programas de apoyo a personas con discapacidad múltiple en zonas rurales, con terapias y ayudas técnicas, los mantiene en la exclusión y la pobreza. El Ministerio de Salud y las secretarías deben llevar estos servicios a todas las comunidades. La inclusión es un derecho fundamental.\",\\n  \"La falta de acceso a servicios de salud para personas con enfermedades digestivas crónicas, con tratamientos y prevención, los condena a la pobreza. El Ministerio de Salud y las EPS deben garantizar la atención integral. La prevención es clave para la salud pública.\",\\n  \"La carencia de programas de apoyo a jóvenes con talentos deportivos en zonas rurales, pero sin recursos, los condena a la falta de oportunidades y a la pobreza. El Ministerio de Deporte y las secretarías deben crear becas y espacios de formación. Invertir en el deporte es invertir en el futuro.\",\\n  \"La ausencia de programas de apoyo a personas con discapacidad psicosocial en zonas urbanas, con educación, empleo y acompañamiento, los mantiene en la exclusión y la pobreza. El Ministerio de Educación y el de Trabajo deben fortalecer estos programas. La inclusión es un derecho para todos.\",\\n  \"La falta de acceso a servicios de salud para personas con enfermedades de la piel crónicas, con tratamientos y prevención, los condena a la pobreza. El Ministerio de Salud y las EPS deben garantizar la atención integral. La prevención es clave para la salud pública.\",\\n  \"La carencia de programas de apoyo a pequeños productores de lácteos, con acceso a mercados justos y financiación, los mantiene en la subsistencia y la pobreza. El Ministerio de Agricultura y las asociaciones deben impulsar este sector. Los lácteos son un alimento básico.\",\\n  \"La ausencia de programas de apoyo a personas con discapacidad física en zonas urbanas, con terapias y ayudas técnicas, los mantiene en la exclusión y la pobreza. El Ministerio de Salud y las secretarías deben llevar estos servicios a todas las comunidades. La inclusión es un derecho fundamental.\",\\n  \"La falta de acceso a servicios de salud para personas con enfermedades musculoesqueléticas crónicas, con tratamientos y prevención, los condena a la pobreza. El Ministerio de Salud y las EPS deben garantizar la atención integral. La prevención es clave para la salud pública.\",\\n  \"La carencia de programas de apoyo a jóvenes en situación de vulnerabilidad social, con educación, empleo y atención psicosocial, los condena a la falta de oportunidades y a la pobreza. El gobierno y las ONG deben fortalecer estos programas. La prevención es clave para el futuro.\",\\n  \"La ausencia de programas de apoyo a personas con discapacidad intelectual en zonas urbanas, con educación, empleo y acompañamiento, los mantiene en la exclusión y la pobreza. El Ministerio de Educación y el de Trabajo deben fortalecer estos programas. La inclusión es un derecho fundamental.\",\\n  \"La falta de acceso a servicios de salud para personas con enfermedades neurológicas crónicas, con tratamientos y prevención, los condena a la pobreza. El Ministerio de Salud y las EPS deben garantizar la atención integral. La investigación es clave para estas enfermedades.\",\\n  \"La carencia de programas de apoyo a pequeños productores de huevos, con acceso a mercados justos y financiación, los mantiene en la subsistencia y la pobreza. El Ministerio de Agricultura y las asociaciones deben impulsar este sector. Los huevos son un alimento nutritivo.\",\\n  \"La ausencia de programas de apoyo a personas con discapacidad auditiva en zonas urbanas, con educación, empleo y ayudas técnicas, los mantiene en la exclusión y la pobreza. El Ministerio de Educación y el de Trabajo deben fortalecer estos programas. La inclusión es un derecho fundamental.\",\\n  \"La falta de acceso a servicios de salud para personas con enfermedades psiquiátricas crónicas, con tratamientos y apoyo, los condena a la pobreza. El Ministerio de Salud y las EPS deben garantizar la atención integral. La salud mental es un derecho fundamental.\",\\n  \"La carencia de programas de apoyo a jóvenes con talentos científicos en zonas urbanas, pero sin recursos, los condena a la falta de oportunidades y a la pobreza. El Ministerio de Ciencia y las secretarías deben crear becas y espacios de formación. Invertir en la ciencia es invertir en el futuro.\",\\n  \"La ausencia de programas de apoyo a personas con discapacidad visual en zonas urbanas, con educación, empleo y ayudas técnicas, los mantiene en la exclusión y la pobreza. El Ministerio de Educación y el de Trabajo deben fortalecer estos programas. La inclusión es un derecho fundamental.\",\\n  \"La falta de acceso a servicios de salud para personas con enfermedades endocrinas crónicas, con tratamientos y prevención, los condena a la pobreza. El Ministerio de Salud y las EPS deben garantizar la atención integral. La prevención es clave para la salud pública.\",\\n  \"La carencia de programas de apoyo a pequeños productores de carne, con acceso a mercados justos y financiación, los mantiene en la subsistencia y la pobreza. El Ministerio de Agricultura y las asociaciones deben impulsar este sector. La carne es un alimento importante.\",\\n  \"La ausencia de programas de apoyo a personas con discapacidad múltiple en zonas urbanas, con terapias y ayudas técnicas, los mantiene en la exclusión y la pobreza. El Ministerio de Salud y las secretarías deben llevar estos servicios a todas las comunidades. La inclusión es un derecho fundamental.\",\\n  \"La falta de acceso a servicios de salud para personas con enfermedades del sistema inmunitario crónicas, con tratamientos y prevención, los condena a la pobreza. El Ministerio de Salud y las EPS deben garantizar la atención integral. La investigación es clave para estas enfermedades.\",\\n  \"La carencia de programas de apoyo a jóvenes con talentos tecnológicos en zonas urbanas, pero sin recursos, los condena a la falta de oportunidades y a la pobreza. El Ministerio de Tecnologías de la Información y las Comunicaciones y las secretarías deben crear becas y espacios de formación. Invertir en la tecnología es invertir en el futuro.\",\\n  \"La ausencia de programas de apoyo a personas con discapacidad psicosocial en zonas rurales, con educación, empleo y acompañamiento, los mantiene en la exclusión y la pobreza. Es crucial que el gobierno y las instituciones pertinentes trabajen en la inclusión social y laboral para que estas personas puedan desarrollar su potencial y contribuir a la sociedad.\",\\n  \"La falta de acceso a servicios de salud para personas con enfermedades hematológicas crónicas, con tratamientos y prevención, los condena a la pobreza. Las entidades de salud deben garantizar que los pacientes reciban la atención necesaria sin que su situación económica sea un impedimento. Es un derecho fundamental tener acceso a una salud de calidad.\",\\n  \"La carencia de programas de apoyo a pequeños productores de lácteos en zonas rurales, con acceso a mercados justos y financiación, los mantiene en la subsistencia y la pobreza. El gobierno y las asociaciones deben fortalecer estos sectores para asegurar la rentabilidad de su trabajo y mejorar sus condiciones de vida.\",\\n  \"La ausencia de programas de apoyo a personas con discapacidad física en zonas rurales, con terapias y ayudas técnicas, los mantiene en la exclusión y la pobreza. Es vital que las secretarías de salud y las organizaciones no gubernamentales amplíen la cobertura de estos servicios, facilitando su movilidad y autonomía.\",\\n  \"La falta de acceso a servicios de salud para personas con enfermedades gastrointestinales crónicas, con tratamientos y prevención, los condena a la pobreza. El sistema de salud debe garantizar la disponibilidad de medicamentos y especialistas para que la enfermedad no se convierta en una carga financiera insostenible para las familias.\",\\n  \"La carencia de programas de apoyo a jóvenes en situación de vulnerabilidad social en zonas rurales, con educación, empleo y atención psicosocial, los condena a la falta de oportunidades y a la pobreza. Es fundamental que las instituciones educativas y el gobierno lleguen a estas comunidades con programas adaptados a sus necesidades.\",\\n  \"La ausencia de programas de apoyo a personas con discapacidad intelectual en zonas rurales, con educación, empleo y acompañamiento, los mantiene en la exclusión y la pobreza. Se requiere una mayor inversión en centros de formación y empleo inclusivo para que estas personas puedan tener una vida digna y productiva.\",\\n  \"La falta de acceso a servicios de salud para personas con enfermedades óseas crónicas, con tratamientos y prevención, los condena a la pobreza. Es esencial que los hospitales y centros de salud rurales cuenten con los recursos y el personal especializado para atender estas condiciones, evitando el desplazamiento y los costos asociados para las familias.\",\\n  \"La carencia de programas de apoyo a pequeños productores de café en zonas de conflicto, con acceso a mercados justos y financiación, los mantiene en la subsistencia y la pobreza. El gobierno debe proteger y fortalecer estas economías locales, brindando seguridad y oportunidades de desarrollo sostenible para las comunidades cafeteras.\",\\n  \"La ausencia de programas de apoyo a personas con discapacidad auditiva en zonas rurales, con educación, empleo y ayudas técnicas, los mantiene en la exclusión y la pobreza. Las organizaciones de derechos humanos y el Estado deben trabajar juntos para garantizar la plena inclusión de estas personas en la sociedad.\",\\n  \"La falta de acceso a servicios de salud para personas con enfermedades de la piel crónicas, con tratamientos y prevención, los condena a la pobreza. Es necesario que los programas de salud pública incluyan atención dermatológica especializada y que los medicamentos sean accesibles para todos los estratos socioeconómicos.\",\\n  \"La carencia de programas de apoyo a jóvenes con talentos artísticos en zonas urbanas marginales, pero sin recursos, los condena a la falta de oportunidades y a la pobreza. Es fundamental que las secretarías de cultura y las fundaciones inviertan en la creación de escuelas de arte y becas para fomentar el desarrollo de estos talentos.\",\\n  \"La ausencia de programas de apoyo a personas con discapacidad visual en zonas rurales, con educación, empleo y ayudas técnicas, los mantiene en la exclusión y la pobreza. Las instituciones educativas y el Ministerio de Trabajo deben adaptar sus programas para garantizar la inclusión laboral y académica de estas personas.\",\\n  \"La falta de acceso a servicios de salud para personas con enfermedades del sistema nervioso crónicas, con tratamientos y prevención, los condena a la pobreza. Es vital que el sistema de salud garantice el acceso a terapias y medicamentos especializados, sin que la capacidad económica sea una barrera para la atención.\",\\n  \"La carencia de programas de apoyo a pequeños productores de cacao en zonas rurales, con acceso a mercados justos y financiación, los mantiene en la subsistencia y la pobreza. Las políticas agrarias deben enfocarse en fortalecer la cadena de valor del cacao y en brindar asistencia técnica para mejorar la productividad y la calidad del producto.\",\\n  \"La ausencia de programas de apoyo a personas con discapacidad múltiple en zonas rurales, con terapias y ayudas técnicas, los mantiene en la exclusión y la pobreza. Se requiere una mayor inversión en rehabilitación y en la adaptación de entornos para que estas personas puedan tener una vida plena y participar activamente en la comunidad.\",\\n  \"La falta de acceso a servicios de salud para personas con enfermedades del sistema respiratorio crónicas, con tratamientos y prevención, los condena a la pobreza. Es crucial que los centros de salud cuenten con equipos y especialistas para atender estas enfermedades, reduciendo la carga económica para las familias afectadas.\",\\n  \"La carencia de programas de apoyo a jóvenes con talentos deportivos en zonas urbanas marginales, pero sin recursos, los condena a la falta de oportunidades y a la pobreza. Es fundamental que el gobierno y el sector privado inviertan en la creación de escuelas deportivas y becas para impulsar el talento y ofrecer alternativas de vida.\",\\n  \"La ausencia de programas de apoyo a personas con discapacidad psicosocial en zonas urbanas, con educación, empleo y acompañamiento, los mantiene en la exclusión y la pobreza. Se necesita una mayor sensibilización y programas de inclusión laboral para que estas personas puedan tener acceso a un trabajo digno y contribuir a la sociedad.\",\\n  \"La falta de acceso a servicios de salud para personas con enfermedades del sistema circulatorio crónicas, con tratamientos y prevención, los condena a la pobreza. Es vital que el sistema de salud garantice el acceso a medicamentos y cirugías especializadas, sin que la capacidad económica sea un obstáculo para la atención.\",\\n  \"La carencia de programas de apoyo a pequeños productores de panela en zonas rurales, con acceso a mercados justos y financiación, los mantiene en la subsistencia y la pobreza. Las asociaciones de productores y el gobierno deben trabajar juntos para mejorar la comercialización y la tecnificación de la producción de panela.\",\\n  \"La ausencia de programas de apoyo a personas con discapacidad física en zonas urbanas, con terapias y ayudas técnicas, los mantiene en la exclusión y la pobreza. Es importante que las ciudades sean más accesibles y que se invierta en centros de rehabilitación para mejorar la calidad de vida de estas personas.\",\\n  \"La falta de acceso a servicios de salud para personas con enfermedades del sistema urinario crónicas, con tratamientos y prevención, los condena a la pobreza. El sistema de salud debe asegurar que los pacientes reciban la atención especializada y los medicamentos necesarios para el manejo de estas condiciones, sin que esto implique una ruina económica.\",\\n  \"La carencia de programas de apoyo a jóvenes en situación de vulnerabilidad social en zonas urbanas, con educación, empleo y atención psicosocial, los condena a la falta de oportunidades y a la pobreza. Las alcaldías y las organizaciones sociales deben fortalecer la red de apoyo para que estos jóvenes puedan construir un futuro digno.\",\\n  \"La ausencia de programas de apoyo a personas con discapacidad intelectual en zonas urbanas, con educación, empleo y acompañamiento, los mantiene en la exclusión y la pobreza. Se requiere una mayor inversión en programas de inclusión laboral y en la creación de entornos de aprendizaje adaptados para estas personas.\",\\n  \"La falta de acceso a servicios de salud para personas con enfermedades del sistema reproductivo crónicas, con tratamientos y prevención, los condena a la pobreza. Es fundamental que el sistema de salud garantice el acceso a especialistas y a procedimientos médicos necesarios, sin que la condición económica sea una barrera para la atención.\",\\n  \"La carencia de programas de apoyo a pequeños productores de frutas en zonas rurales, con acceso a mercados justos y financiación, los mantiene en la subsistencia y la pobreza. El Ministerio de Agricultura debe impulsar la creación de cooperativas y el acceso a tecnologías que mejoren la productividad y la comercialización de sus productos.\",\\n  \"La ausencia de programas de apoyo a personas con discapacidad auditiva en zonas urbanas, con educación, empleo y ayudas técnicas, los mantiene en la exclusión y la pobreza. Las instituciones educativas y las empresas deben adaptar sus espacios y procesos para garantizar la plena inclusión de estas personas en el ámbito laboral y social.\",\\n  \"La falta de acceso a servicios de salud para personas con enfermedades del sistema endocrino crónicas, con tratamientos y prevención, los condena a la pobreza. Es vital que los programas de salud pública incluyan atención especializada y que los medicamentos sean asequibles, para que la enfermedad no se convierta en una carga económica insostenible.\",\\n  \"La carencia de programas de apoyo a jóvenes con talentos científicos en zonas rurales, pero sin recursos, los condena a la falta de oportunidades y a la pobreza. Las secretarías de educación y las universidades deben crear programas de mentoría y becas para fomentar el interés en la ciencia y ofrecer un camino para el desarrollo profesional.\",\\n  \"La ausencia de programas de apoyo a personas con discapacidad visual en zonas urbanas, con educación, empleo y ayudas técnicas, los mantiene en la exclusión y la pobreza. Las bibliotecas y los centros de formación deben ofrecer recursos adaptados y las empresas deben promover la inclusión laboral para estas personas.\",\\n  \"La falta de acceso a servicios de salud para personas con enfermedades del sistema inmunitario crónicas, con tratamientos y prevención, los condena a la pobreza. El sistema de salud debe garantizar la disponibilidad de tratamientos innovadores y el acceso a especialistas, sin que la situación económica sea un impedimento para la atención.\",\\n  \"La carencia de programas de apoyo a pequeños productores de carne en zonas rurales, con acceso a mercados justos y financiación, los mantiene en la subsistencia y la pobreza. El gobierno y las asociaciones deben trabajar en la tecnificación de la ganadería y en la creación de canales de comercialización que beneficien directamente a los productores.\",\\n  \"La ausencia de programas de apoyo a personas con discapacidad múltiple en zonas urbanas, con terapias y ayudas técnicas, los mantiene en la exclusión y la pobreza. Se requiere una mayor inversión en centros de rehabilitación y en la adaptación de espacios públicos para garantizar la plena participación de estas personas en la vida social y económica.\",\\n  \"La falta de acceso a servicios de salud para personas con enfermedades del sistema nervioso crónicas, con tratamientos y prevención, los condena a la pobreza. Es fundamental que los programas de salud incluyan atención neurológica especializada y que los medicamentos sean accesibles para todos los estratos socioeconómicos, evitando el empobrecimiento de las familias.\",\\n  \"La carencia de programas de apoyo a jóvenes con talentos tecnológicos en zonas rurales, pero sin recursos, los condena a la falta de oportunidades y a la pobreza. Las instituciones educativas y el Ministerio de Tecnologías de la Información y las Comunicaciones deben llevar la conectividad y la capacitación a estas comunidades, impulsando el desarrollo de talentos digitales.\",\\n  \"La ausencia de programas de apoyo a personas con discapacidad psicosocial en zonas rurales, con educación, empleo y acompañamiento, los mantiene en la exclusión y la pobreza. Las secretarías de salud y las organizaciones no gubernamentales deben ampliar la cobertura de estos servicios, facilitando su integración social y laboral.\",\\n  \"La falta de acceso a servicios de salud para personas con enfermedades hematológicas crónicas, con tratamientos y prevención, los condena a la pobreza. Es crucial que los hospitales rurales cuenten con los recursos y el personal especializado para atender estas condiciones, evitando el desplazamiento y los costos asociados para las familias.\",\\n  \"La carencia de programas de apoyo a pequeños productores de lácteos en zonas de conflicto, con acceso a mercados justos y financiación, los mantiene en la subsistencia y la pobreza. El gobierno debe proteger y fortalecer estas economías locales, brindando seguridad y oportunidades de desarrollo sostenible para las comunidades ganaderas.\",\\n  \"La ausencia de programas de apoyo a personas con discapacidad física en zonas de conflicto, con terapias y ayudas técnicas, los mantiene en la exclusión y la pobreza. Es vital que las secretarías de salud y las organizaciones no gubernamentales amplíen la cobertura de estos servicios, facilitando su movilidad y autonomía en estas zonas afectadas.\",\\n  \"La falta de acceso a servicios de salud para personas con enfermedades gastrointestinales crónicas, con tratamientos y prevención, los condena a la pobreza. El sistema de salud debe garantizar la disponibilidad de medicamentos y especialistas para que la enfermedad no se convierta en una carga financiera insostenible para las familias en zonas de conflicto.\",\\n  \"La carencia de programas de apoyo a jóvenes en situación de vulnerabilidad social en zonas de conflicto, con educación, empleo y atención psicosocial, los condena a la falta de oportunidades y a la pobreza. Es fundamental que las instituciones educativas y el gobierno lleguen a estas comunidades con programas adaptados a sus necesidades y a la realidad del conflicto.\",\\n  \"La ausencia de programas de apoyo a personas con discapacidad intelectual en zonas de conflicto, con educación, empleo y acompañamiento, los mantiene en la exclusión y la pobreza. Se requiere una mayor inversión en centros de formación y empleo inclusivo para que estas personas puedan tener una vida digna y productiva en medio de la adversidad.\",\\n  \"La falta de acceso a servicios de salud para personas con enfermedades óseas crónicas en zonas de conflicto, con tratamientos y prevención, los condena a la pobreza. Es esencial que los hospitales y centros de salud en estas áreas cuenten con los recursos y el personal especializado para atender estas condiciones, evitando el desplazamiento y los costos asociados para las familias.\",\\n  \"La carencia de programas de apoyo a pequeños productores de café en zonas de riesgo climático, con acceso a mercados justos y financiación, los mantiene en la subsistencia y la pobreza. El gobierno debe proteger y fortalecer estas economías locales, brindando seguridad y oportunidades de desarrollo sostenible para las comunidades cafeteras afectadas por el cambio climático.\",\\n  \"La ausencia de programas de apoyo a personas con discapacidad auditiva en zonas de conflicto, con educación, empleo y ayudas técnicas, los mantiene en la exclusión y la pobreza. Las organizaciones de derechos humanos y el Estado deben trabajar juntos para garantizar la plena inclusión de estas personas en la sociedad, incluso en contextos de conflicto.\",\\n  \"La falta de acceso a servicios de salud para personas con enfermedades de la piel crónicas en zonas de conflicto, con tratamientos y prevención, los condena a la pobreza. Es necesario que los programas de salud pública incluyan atención dermatológica especializada y que los medicamentos sean accesibles para todos los estratos socioeconómicos, especialmente en estas zonas vulnerables.\",\\n  \"La carencia de programas de apoyo a jóvenes con talentos artísticos en zonas de conflicto, pero sin recursos, los condena a la falta de oportunidades y a la pobreza. Es fundamental que las secretarías de cultura y las fundaciones inviertan en la creación de escuelas de arte y becas para fomentar el desarrollo de estos talentos, ofreciendo una vía de escape y esperanza.\",\\n  \"La ausencia de programas de apoyo a personas con discapacidad visual en zonas de conflicto, con educación, empleo y ayudas técnicas, los mantiene en la exclusión y la pobreza. Las instituciones educativas y el Ministerio de Trabajo deben adaptar sus programas para garantizar la inclusión laboral y académica de estas personas, incluso en medio de la violencia.\",\\n  \"La falta de acceso a servicios de salud para personas con enfermedades del sistema nervioso crónicas en zonas de conflicto, con tratamientos y prevención, los condena a la pobreza. Es vital que el sistema de salud garantice el acceso a terapias y medicamentos especializados, sin que la capacidad económica sea una barrera para la atención, especialmente en estas zonas.\",\\n  \"La carencia de programas de apoyo a pequeños productores de cacao en zonas de riesgo de plagas, con acceso a mercados justos y financiación, los mantiene en la subsistencia y la pobreza. Las políticas agrarias deben enfocarse en fortalecer la cadena de valor del cacao y en brindar asistencia técnica para mejorar la productividad y la calidad del producto, protegiéndolo de las plagas.\",\\n  \"La ausencia de programas de apoyo a personas con discapacidad múltiple en zonas de conflicto, con terapias y ayudas técnicas, los mantiene en la exclusión y la pobreza. Se requiere una mayor inversión en rehabilitación y en la adaptación de entornos para que estas personas puedan tener una vida plena y participar activamente en la comunidad, a pesar de la violencia.\",\\n  \"La falta de acceso a servicios de salud para personas con enfermedades del sistema respiratorio crónicas en zonas de conflicto, con tratamientos y prevención, los condena a la pobreza. Es crucial que los centros de salud cuenten con equipos y especialistas para atender estas enfermedades, reduciendo la carga económica para las familias afectadas en estas zonas.\",\\n  \"La carencia de programas de apoyo a jóvenes con talentos deportivos en zonas de conflicto, pero sin recursos, los condena a la falta de oportunidades y a la pobreza. Es fundamental que el gobierno y el sector privado inviertan en la creación de escuelas deportivas y becas para impulsar el talento y ofrecer alternativas de vida, lejos de la violencia.\",\\n  \"La ausencia de programas de apoyo a personas con discapacidad psicosocial en zonas urbanas marginales, con educación, empleo y acompañamiento, los mantiene en la exclusión y la pobreza. Se necesita una mayor sensibilización y programas de inclusión laboral para que estas personas puedan tener acceso a un trabajo digno y contribuir a la sociedad, en estas zonas difíciles.\",\\n  \"La falta de acceso a servicios de salud para personas con enfermedades del sistema circulatorio crónicas en zonas urbanas marginales, con tratamientos y prevención, los condena a la pobreza. Es vital que el sistema de salud garantice el acceso a medicamentos y cirugías especializadas, sin que la capacidad económica sea un obstáculo para la atención, en estas zonas desfavorecidas.\",\\n  \"La carencia de programas de apoyo a pequeños productores de panela en zonas urbanas marginales, con acceso a mercados justos y financiación, los mantiene en la subsistencia y la pobreza. Las asociaciones de productores y el gobierno deben trabajar juntos para mejorar la comercialización y la tecnificación de la producción de panela, incluso en estas zonas complicadas.\",\\n  \"La ausencia de programas de apoyo a personas con discapacidad física en zonas urbanas marginales, con terapias y ayudas técnicas, los mantiene en la exclusión y la pobreza. Es importante que las ciudades sean más accesibles y que se invierta en centros de rehabilitación para mejorar la calidad de vida de estas personas, incluso en estas zonas desfavorecidas.\",\\n  \"La falta de acceso a servicios de salud para personas con enfermedades del sistema urinario crónicas en zonas urbanas marginales, con tratamientos y prevención, los condena a la pobreza. El sistema de salud debe asegurar que los pacientes reciban la atención especializada y los medicamentos necesarios para el manejo de estas condiciones, sin que esto implique una ruina económica, en estas zonas.\",\\n  \"La carencia de programas de apoyo a jóvenes en situación de vulnerabilidad social en zonas urbanas marginales, con educación, empleo y atención psicosocial, los condena a la falta de oportunidades y a la pobreza. Las alcaldías y las organizaciones sociales deben fortalecer la red de apoyo para que estos jóvenes puedan construir un futuro digno, incluso en estas zonas.\",\\n  \"La ausencia de programas de apoyo a personas con discapacidad intelectual en zonas urbanas marginales, con educación, empleo y acompañamiento, los mantiene en la exclusión y la pobreza. Se requiere una mayor inversión en programas de inclusión laboral y en la creación de entornos de aprendizaje adaptados para estas personas, incluso en estas zonas.\",\\n  \"La falta de acceso a servicios de salud para personas con enfermedades del sistema reproductivo crónicas en zonas urbanas marginales, con tratamientos y prevención, los condena a la pobreza. Es fundamental que el sistema de salud garantice el acceso a especialistas y a procedimientos médicos necesarios, sin que la condición económica sea una barrera para la atención, en estas zonas.\",\\n  \"La carencia de programas de apoyo a pequeños productores de frutas en zonas urbanas marginales, con acceso a mercados justos y financiación, los mantiene en la subsistencia y la pobreza. El Ministerio de Agricultura debe impulsar la creación de cooperativas y el acceso a tecnologías que mejoren la productividad y la comercialización de sus productos, incluso en estas zonas.\",\\n  \"La ausencia de programas de apoyo a personas con discapacidad auditiva en zonas urbanas marginales, con educación, empleo y ayudas técnicas, los mantiene en la exclusión y la pobreza. Las instituciones educativas y las empresas deben adaptar sus espacios y procesos para garantizar la plena inclusión de estas personas en el ámbito laboral y social, incluso en estas zonas.\",\\n  \"La falta de acceso a servicios de salud para personas con enfermedades del sistema endocrino crónicas en zonas urbanas marginales, con tratamientos y prevención, los condena a la pobreza. Es vital que los programas de salud pública incluyan atención especializada y que los medicamentos sean asequibles, para que la enfermedad no se convierta en una carga económica insostenible, en estas zonas.\",\\n  \"La carencia de programas de apoyo a jóvenes con talentos científicos en zonas urbanas marginales, pero sin recursos, los condena a la falta de oportunidades y a la pobreza. Las secretarías de educación y las universidades deben crear programas de mentoría y becas para fomentar el interés en la ciencia y ofrecer un camino para el desarrollo profesional, incluso en estas zonas.\",\\n  \"La ausencia de programas de apoyo a personas con discapacidad visual en zonas urbanas marginales, con educación, empleo y ayudas técnicas, los mantiene en la exclusión y la pobreza. Las bibliotecas y los centros de formación deben ofrecer recursos adaptados y las empresas deben promover la inclusión laboral para estas personas, incluso en estas zonas.\",\\n  \"La falta de acceso a servicios de salud para personas con enfermedades del sistema inmunitario crónicas en zonas urbanas marginales, con tratamientos y prevención, los condena a la pobreza. El sistema de salud debe garantizar la disponibilidad de tratamientos innovadores y el acceso a especialistas, sin que la situación económica sea un impedimento para la atención, en estas zonas.\",\\n  \"La carencia de programas de apoyo a pequeños productores de carne en zonas urbanas marginales, con acceso a mercados justos y financiación, los mantiene en la subsistencia y la pobreza. El gobierno y las asociaciones deben trabajar en la tecnificación de la ganadería y en la creación de canales de comercialización que beneficien directamente a los productores, incluso en estas zonas.\",\\n  \"La ausencia de programas de apoyo a personas con discapacidad múltiple en zonas urbanas marginales, con terapias y ayudas técnicas, los mantiene en la exclusión y la pobreza. Se requiere una mayor inversión en centros de rehabilitación y en la adaptación de espacios públicos para garantizar la plena participación de estas personas en la vida social y económica, incluso en estas zonas.\"\\n]\\n```'"
      ]
     },
     "execution_count": 74,
     "metadata": {},
     "output_type": "execute_result"
    }
   ],
   "source": [
    "response2.text"
   ]
  },
  {
   "cell_type": "code",
   "execution_count": 78,
   "id": "c077da63",
   "metadata": {},
   "outputs": [
    {
     "data": {
      "text/plain": [
       "['Es preocupante ver cómo en nuestra vereda, la falta de oportunidades de empleo digno obliga a muchas familias a vivir con lo mínimo, sin acceso a servicios básicos. Las autoridades locales deben implementar programas que impulsen la economía rural y generen ingresos estables para los campesinos. La situación actual es insostenible y afecta directamente la calidad de vida de nuestros vecinos, perpetuando un ciclo de pobreza que parece no tener fin.',\n",
       " 'La informalidad laboral en mi barrio es rampante y deja a muchísimas personas sin seguridad social ni ingresos fijos, lo que agrava la pobreza. Es urgente que el gobierno municipal cree incentivos para la formalización y brinde apoyo a pequeños emprendedores. La falta de acceso a un empleo estable es una barrera enorme para salir adelante y construir un futuro digno para nuestras familias.',\n",
       " 'En el centro de la ciudad, hay demasiada gente viviendo en situación de calle, lo cual refleja una profunda desigualdad y falta de redes de apoyo. La alcaldía debería fortalecer los programas de atención integral a esta población, ofreciéndoles vivienda, alimentación y oportunidades de reintegración social. No podemos ignorar esta realidad que afecta la dignidad humana y el tejido social de nuestra comunidad.',\n",
       " 'Las madres cabeza de hogar en nuestra comuna luchan a diario para alimentar a sus hijos con salarios muy bajos o trabajos intermitentes, evidenciando una pobreza multidimensional. Necesitamos políticas públicas que les den prioridad en acceso a subsidios y capacitación laboral para que puedan mejorar sus ingresos. Es fundamental reconocer y apoyar el esfuerzo de estas mujeres que son el pilar de sus familias.',\n",
       " 'La falta de acceso a créditos blandos para pequeños agricultores en mi región limita su capacidad de inversión y los mantiene en la pobreza. El Banco Agrario y otras entidades deberían simplificar los trámites y ofrecer tasas de interés más justas. Un apoyo financiero adecuado podría transformar la productividad del campo y mejorar significativamente la calidad de vida de nuestros campesinos.',\n",
       " 'Observo con tristeza cómo la escasez de alimentos nutritivos a precios asequibles en los barrios más vulnerables de la capital afecta la salud de los niños. Es crucial que el gobierno local y las organizaciones implementen programas de seguridad alimentaria y huertas comunitarias. La malnutrición infantil es un problema grave que hipoteca el futuro de nuestra sociedad y debe ser abordado con urgencia.',\n",
       " 'La ausencia de infraestructura básica como agua potable y saneamiento en muchas zonas rurales profundiza la pobreza y la desigualdad. Es responsabilidad de las empresas de servicios públicos y el gobierno departamental llevar estas soluciones a todas las comunidades. Sin estos servicios esenciales, es imposible garantizar una vida digna y un desarrollo sostenible para nuestros campesinos.',\n",
       " 'El costo elevado del transporte público impacta severamente el presupuesto de las familias de bajos ingresos, quienes deben destinar gran parte de su sueldo a movilizarse. La administración municipal debería subsidiar una parte del pasaje o buscar alternativas más económicas. Esta carga económica dificulta el acceso a oportunidades laborales y educativas, perpetuando la pobreza en nuestros hogares.',\n",
       " 'La escasa oferta de vivienda digna y asequible obliga a muchas familias a vivir en condiciones precarias y hacinamiento en las periferias de la ciudad. El gobierno nacional y las constructoras deben priorizar proyectos de interés social con facilidades de pago. Es un derecho fundamental tener un techo seguro y adecuado, y la falta de este derecho condena a la pobreza a miles de ciudadanos.',\n",
       " 'La falta de oportunidades para los jóvenes en mi pueblo, especialmente los que no tienen acceso a educación superior, los condena a la pobreza y al desempleo. Las entidades educativas y el Sena deberían ampliar su oferta de programas técnicos y de formación para el trabajo. Invertir en la juventud es invertir en el futuro de nuestra comunidad y romper el ciclo de la pobreza.',\n",
       " 'La desigualdad en el acceso a la tierra en zonas rurales concentra la riqueza en pocas manos y empobrece a los pequeños productores. Es fundamental que las autoridades agrarias implementen políticas de reforma agraria y titulación de tierras. Una distribución más equitativa de la tierra permitiría a más familias campesinas generar ingresos y vivir dignamente de su trabajo.',\n",
       " 'La burocracia excesiva para acceder a programas sociales y subsidios desanima a las personas más necesitadas, quienes terminan sin recibir el apoyo vital. El Departamento de Prosperidad Social y las alcaldías deben simplificar los trámites y hacerlos más accesibles. La eficiencia en la entrega de estos apoyos es crucial para combatir la pobreza y llegar a quienes realmente lo necesitan.',\n",
       " 'La falta de acceso a servicios financieros inclusivos, como microcréditos para emprendedores, impide el crecimiento de pequeños negocios en mi comuna. Las cooperativas y bancos deberían ofrecer productos adaptados a las necesidades de esta población. Un mayor acceso a capital semilla podría transformar la economía local y sacar a muchas familias de la pobreza.',\n",
       " 'La discriminación laboral por edad o género es una barrera para la inclusión de grupos vulnerables, manteniéndolos en la pobreza. Las empresas y el Ministerio del Trabajo deben promover políticas de equidad y diversidad. Es inaceptable que el talento y la experiencia de muchas personas sean ignorados por prejuicios, lo cual agrava la pobreza en nuestra sociedad.',\n",
       " 'Los desastres naturales recurrentes en nuestra región, como las inundaciones, destruyen cultivos y viviendas, sumiendo a las comunidades rurales en la pobreza. Es urgente que la Unidad Nacional para la Gestión del Riesgo implemente planes de prevención y reconstrucción efectivos. La resiliencia de nuestras comunidades depende de un apoyo oportuno y sostenible para recuperarse de estas tragedias.',\n",
       " 'La ausencia de un salario mínimo vital que realmente cubra las necesidades básicas de una familia es un factor determinante de la pobreza en Colombia. El gobierno y los gremios deben revisar y ajustar este valor de manera justa y periódica. Es imperativo que el trabajo digno se traduzca en una vida digna para todos los ciudadanos.',\n",
       " 'La explotación laboral en algunos sectores informales, con jornadas extensas y pagos ínfimos, es una forma de esclavitud moderna que perpetúa la pobreza. El Ministerio del Trabajo y los sindicatos deben intensificar las inspecciones y sanciones. No podemos permitir que la necesidad de las personas sea aprovechada para su detrimento y para mantenerlos en la miseria.',\n",
       " 'La falta de programas de educación financiera para la población de bajos ingresos los hace vulnerables a deudas y estafas, profundizando su pobreza. Las entidades bancarias y el gobierno deberían ofrecer capacitaciones gratuitas y accesibles. Aprender a administrar el dinero es una herramienta poderosa para mejorar la calidad de vida y evitar caer en trampas financieras.',\n",
       " 'El abandono estatal de las comunidades indígenas y afrodescendientes en mi departamento se traduce en pobreza extrema y falta de oportunidades. El gobierno nacional debe cumplir sus compromisos de inversión y garantizar sus derechos ancestrales. Estas comunidades, ricas en cultura y conocimiento, merecen vivir con dignidad y acceder a los mismos servicios que el resto del país.',\n",
       " 'La corrupción en la administración de recursos públicos destinados a programas sociales desvía fondos que podrían aliviar la pobreza. La Contraloría y la Fiscalía deben ser más rigurosas en la vigilancia y sanción de estos actos. Cada peso robado es un golpe directo a las esperanzas de las personas más necesitadas y perpetúa la desigualdad.',\n",
       " 'La dificultad para acceder a un sistema de pensiones digno deja a muchos adultos mayores en la pobreza y la desprotección. Colpensiones y el gobierno deben buscar soluciones para ampliar la cobertura y garantizar una vejez tranquila. Nuestros mayores han trabajado toda su vida y merecen un retiro con dignidad, sin preocupaciones económicas.',\n",
       " 'La falta de oportunidades para personas con discapacidad los excluye del mercado laboral y los condena a la pobreza. Las empresas y el Estado deben implementar políticas de inclusión laboral y adaptación de espacios. Es un deber de la sociedad garantizar que todas las personas, sin importar sus capacidades, tengan la oportunidad de ser productivas y autónomas.',\n",
       " 'Los altos costos de los medicamentos y tratamientos médicos son una causa de empobrecimiento para muchas familias que enfrentan enfermedades crónicas. El Ministerio de Salud y las EPS deben asegurar el acceso a medicinas esenciales y reducir sus precios. La salud no debería ser un lujo, sino un derecho universal que no lleve a la ruina a nadie.',\n",
       " 'La carencia de espacios seguros y accesibles para la recreación y el deporte en barrios vulnerables afecta el bienestar y la salud mental, lo cual es un aspecto de la pobreza social. Las alcaldías deben invertir en la creación y mantenimiento de estos lugares. La recreación es fundamental para el desarrollo integral de las personas y para construir comunidades más fuertes.',\n",
       " 'El acceso limitado a tecnologías de la información y la comunicación (TIC) en zonas rurales y de bajos ingresos amplía la brecha digital y limita las oportunidades económicas. El Ministerio de Tecnologías de la Información y las Comunicaciones debe expandir la conectividad y ofrecer capacitaciones. La inclusión digital es clave para el desarrollo y para que nadie se quede atrás en la era actual.',\n",
       " 'La violencia intrafamiliar y el abuso de menores, además de ser crímenes atroces, generan un ciclo de pobreza y exclusión en las víctimas. Las instituciones de protección familiar y la Policía deben fortalecer sus mecanismos de denuncia y atención. Es fundamental romper estos ciclos de violencia para que las nuevas generaciones puedan crecer en un ambiente seguro y sin pobreza.',\n",
       " 'La falta de una política agraria integral que apoye la comercialización de productos campesinos los deja a merced de intermediarios, empobreciéndolos. El Ministerio de Agricultura y las asociaciones de productores deben crear canales de venta justos. Un comercio equitativo es esencial para que el trabajo del campo sea rentable y sostenible, y para que los campesinos no vivan en la pobreza.',\n",
       " 'Los programas de transferencia monetaria condicionada, aunque útiles, a menudo no son suficientes para sacar a las familias de la pobreza extrema, requiriendo un enfoque más integral. El gobierno debe revisar sus montos y complementarlos con capacitación y empleo. Es necesario un apoyo más robusto y duradero para que estas familias logren la autonomía económica y la dignidad.',\n",
       " 'La escasez de guarderías y centros de cuidado infantil asequibles dificulta la participación laboral de muchas madres, especialmente las de bajos ingresos. Las alcaldías y el ICBF deben ampliar la oferta de estos servicios. El cuidado infantil es una inversión social que permite a las mujeres trabajar y contribuir al ingreso familiar, rompiendo el ciclo de la pobreza.',\n",
       " 'El estigma social asociado a la pobreza y a los programas de asistencia desanima a muchas personas a buscar ayuda, perpetuando su situación. Es fundamental cambiar la narrativa y promover la empatía y la solidaridad en la sociedad. Debemos entender que la pobreza no es una elección, sino el resultado de múltiples factores, y que todos merecemos una oportunidad.',\n",
       " 'La deficiente calidad del sistema de salud en las zonas rurales, con pocos médicos y equipos, afecta directamente la productividad y empobrece a las familias. El Ministerio de Salud debe priorizar la inversión en infraestructura y personal médico en estas áreas. La salud es un pilar fundamental para el desarrollo y para que las comunidades rurales salgan de la pobreza.',\n",
       " 'La falta de acceso a una educación superior de calidad para jóvenes de bajos recursos limita sus oportunidades de ascenso social y los condena a la pobreza. El Icetex y las universidades deben ampliar las becas y los créditos condonables. La educación es la herramienta más poderosa para transformar vidas y romper el ciclo generacional de la pobreza.',\n",
       " 'La deforestación y la degradación ambiental en mi región afectan los medios de subsistencia de las comunidades, que dependen de los recursos naturales. Las corporaciones autónomas regionales y el Ministerio de Ambiente deben implementar programas de desarrollo sostenible. La protección del medio ambiente es crucial para garantizar la seguridad alimentaria y económica de estas poblaciones.',\n",
       " 'La carencia de títulos de propiedad de la tierra para muchos campesinos genera incertidumbre y dificulta el acceso a créditos y proyectos productivos. La Agencia Nacional de Tierras debe agilizar los procesos de formalización y titulación. La seguridad jurídica sobre la tierra es fundamental para que los campesinos inviertan y generen riqueza, superando la pobreza.',\n",
       " 'El alto costo de los servicios públicos domiciliarios (luz, agua, gas) en estratos bajos consume una parte considerable de sus ingresos, manteniendo a las familias en la pobreza. Las empresas de servicios y la Comisión de Regulación de Energía y Gas deben revisar las tarifas y subsidios. Es un derecho básico acceder a estos servicios sin que representen una carga insostenible.',\n",
       " 'La falta de inversión en vías terciarias en zonas rurales aísla a los productores, dificulta el transporte de sus productos y reduce sus ingresos, perpetuando la pobreza. El Invías y las gobernaciones deben priorizar la construcción y mantenimiento de estas carreteras. Una buena infraestructura es clave para la competitividad del campo y el bienestar de sus habitantes.',\n",
       " 'Los programas de emprendimiento a menudo no llegan a las poblaciones más vulnerables, que carecen de la capacitación y el capital inicial para iniciar un negocio. El Sena y las cámaras de comercio deben diseñar programas más inclusivos y con acompañamiento personalizado. Fomentar el autoempleo es una estrategia efectiva para combatir la pobreza y generar desarrollo local.',\n",
       " 'La presencia de minería ilegal en nuestra zona no solo destruye el medio ambiente, sino que también genera conflictos y empobrece a las comunidades locales, que quedan sin recursos. Las autoridades ambientales y de seguridad deben actuar con contundencia para erradicar esta actividad. Proteger nuestros recursos naturales es proteger el futuro y la dignidad de nuestras gentes.',\n",
       " 'La falta de acceso a un seguro de desempleo o a programas de reentrenamiento laboral deja a las personas sin sustento cuando pierden su trabajo, sumiéndolas en la pobreza. El gobierno y los gremios deben crear mecanismos de protección más robustos. Es fundamental brindar un colchón de seguridad para que la pérdida de un empleo no signifique la caída en la miseria.',\n",
       " 'La brecha salarial entre hombres y mujeres en trabajos similares contribuye a la pobreza femenina y a la desigualdad de género. El Ministerio del Trabajo y las empresas deben garantizar la igualdad de remuneración por igual trabajo. La justicia salarial es un paso fundamental para empoderar a las mujeres y reducir la pobreza en los hogares.',\n",
       " 'La falta de programas de reinserción social para personas desmovilizadas o exconvictas dificulta su reintegración y las condena a la pobreza y la reincidencia. El gobierno y las ONG deben fortalecer estos programas con oportunidades laborales y apoyo psicosocial. Brindar segundas oportunidades es clave para construir una sociedad más justa y segura, y reducir la pobreza.',\n",
       " 'El acaparamiento de tierras por parte de grandes empresas o individuos reduce la disponibilidad de terrenos para pequeños agricultores, limitando sus oportunidades y empobreciéndolos. Las autoridades agrarias deben regular el uso de la tierra y promover su distribución equitativa. Es esencial proteger a los pequeños productores y garantizar su acceso a la tierra para su sustento.',\n",
       " 'La falta de acceso a servicios bancarios básicos, como cuentas de ahorro o microcréditos, en zonas rurales, mantiene a la población en la informalidad y la pobreza. Los bancos y el gobierno deben expandir la bancarización y la educación financiera en estas áreas. La inclusión financiera es una herramienta poderosa para el desarrollo económico y la superación de la pobreza.',\n",
       " 'La ausencia de políticas públicas que fomenten la asociatividad entre pequeños productores los deja vulnerables frente a los grandes mercados, disminuyendo sus ganancias. El Ministerio de Agricultura y las Cámaras de Comercio deben apoyar la creación de cooperativas y asociaciones. La unión hace la fuerza y permite a los campesinos obtener mejores precios por sus productos.',\n",
       " 'La deficiente infraestructura de salud en mi municipio, con pocos centros de atención y especialistas, obliga a las familias a viajar lejos y gastar mucho, lo que agrava su pobreza. La Secretaría de Salud departamental debe invertir en la mejora de estos servicios. El acceso a la salud es un derecho que no debería ser una carga económica para nadie.',\n",
       " 'La falta de programas de apoyo psicológico y de salud mental accesibles en comunidades vulnerables agrava los problemas sociales y económicos. La Secretaría de Salud y las ONG deben expandir estos servicios. La salud mental es tan importante como la física para el bienestar general y para que las personas puedan salir de la pobreza.',\n",
       " 'El alto costo de los útiles escolares y la matrícula en colegios privados es una barrera para la educación de calidad de muchos niños, perpetuando la pobreza. El gobierno debe fortalecer la educación pública y ofrecer subsidios para materiales educativos. La educación es la base para el desarrollo y para romper el ciclo de la pobreza en las familias.',\n",
       " 'La informalidad en la venta ambulante, aunque genera ingresos, expone a los trabajadores a condiciones precarias y sin seguridad social. La alcaldía debe buscar estrategias para formalizar estas actividades y proteger a los vendedores. Es fundamental dignificar el trabajo y garantizar que todos tengan acceso a condiciones laborales justas, superando la pobreza.',\n",
       " 'La escasez de fuentes de empleo alternativas a la agricultura tradicional en mi región, hace que muchas familias dependan de cultivos de bajo rendimiento, manteniéndolas en la pobreza. Las agencias de desarrollo regional deben promover la diversificación económica. Es crucial generar nuevas oportunidades para que las comunidades rurales prosperen y mejoren su calidad de vida.',\n",
       " 'La falta de acceso a servicios de cuidado para adultos mayores en comunidades de bajos ingresos obliga a las familias a destinar tiempo y recursos, lo que afecta su productividad. El ICBF y las alcaldías deben crear más centros de atención y apoyo. Nuestros mayores merecen un cuidado digno y sus familias no deberían empobrecerse por ello.',\n",
       " 'La deficiente gestión de residuos sólidos en barrios marginales genera problemas de salud y medio ambiente, afectando la calidad de vida de sus habitantes y profundizando la pobreza. Las empresas de aseo y las alcaldías deben invertir en infraestructura y programas de reciclaje. Un entorno limpio y sano es un derecho fundamental para todos los ciudadanos.',\n",
       " 'La falta de acceso a internet de calidad en zonas rurales limita el acceso a la educación virtual y a oportunidades laborales, ampliando la brecha de desigualdad. El Ministerio de Tecnologías de la Información y las Comunicaciones debe implementar planes de expansión de cobertura. La conectividad es una herramienta esencial para el desarrollo y para superar la pobreza en el campo.',\n",
       " 'La criminalidad y la inseguridad en mi barrio no solo generan miedo, sino que también ahuyentan la inversión y las oportunidades laborales, perpetuando la pobreza. La Policía y la alcaldía deben trabajar de la mano con la comunidad para fortalecer la seguridad. Un entorno seguro es fundamental para el desarrollo económico y social de cualquier comunidad.',\n",
       " 'La ausencia de un sistema de transporte público eficiente y accesible en las afueras de la ciudad dificulta el acceso al trabajo y a los servicios, lo que empobrece a las familias. La alcaldía y las empresas de transporte deben mejorar la cobertura y las frecuencias. Un transporte digno es un factor clave para la movilidad social y económica de los ciudadanos.',\n",
       " 'La falta de programas de reforestación y recuperación de suelos degradados afecta la productividad agrícola y empobrece a las comunidades campesinas. Las corporaciones autónomas regionales y el Ministerio de Ambiente deben invertir en estos proyectos. Proteger y restaurar nuestros ecosistemas es esencial para garantizar la seguridad alimentaria y el bienestar de las generaciones futuras.',\n",
       " \"Los altos intereses de los 'gota a gota' sumen a muchas familias en un ciclo de endeudamiento y pobreza del que es muy difícil salir. Las autoridades y las cooperativas de crédito deben ofrecer alternativas financieras legales y accesibles. Es crucial proteger a la población de estas prácticas usureras que solo generan miseria.\",\n",
       " 'La falta de acceso a agua potable segura y constante en muchas veredas obliga a las familias a comprar agua o a consumir fuentes contaminadas, afectando su salud y economía. Las empresas de servicios públicos y las alcaldías deben priorizar la inversión en acueductos rurales. El agua es un derecho fundamental y su escasez agrava la pobreza.',\n",
       " 'La carencia de programas de capacitación para el empleo en sectores emergentes deja a muchos trabajadores sin las habilidades necesarias para acceder a mejores trabajos. El Sena y las empresas deben actualizar su oferta educativa. La formación continua es clave para la empleabilidad y para que las personas puedan mejorar sus ingresos y salir de la pobreza.',\n",
       " 'La informalidad en el sector de la construcción, con bajos salarios y sin seguridad laboral, expone a los trabajadores a la pobreza y a condiciones de riesgo. El Ministerio del Trabajo y los sindicatos deben fiscalizar este sector y promover la formalización. Es fundamental garantizar derechos laborales y seguridad para todos los trabajadores, sin importar su oficio.',\n",
       " 'La falta de acceso a servicios de salud mental en las zonas rurales, donde la depresión y la ansiedad son comunes, agrava la situación de pobreza. Las secretarías de salud deben llevar especialistas y programas de atención a estas comunidades. El bienestar emocional es crucial para que las personas puedan enfrentar los desafíos de la vida y prosperar.',\n",
       " 'El escaso apoyo a las economías locales y a los pequeños comercios frente a las grandes cadenas empobrece a los emprendedores y a la comunidad. Las alcaldías deben implementar políticas de fomento al consumo local y programas de apoyo a PYMES. Fortalecer el comercio de barrio es fundamental para generar empleo y riqueza en nuestras comunidades.',\n",
       " 'La falta de programas de prevención y atención a la drogadicción, especialmente en jóvenes, destruye familias y profundiza la pobreza. El gobierno y las ONG deben invertir en campañas de prevención y centros de rehabilitación. Abordar este problema es clave para la salud pública y para que las nuevas generaciones tengan un futuro sin pobreza.',\n",
       " 'El difícil acceso a la justicia para las personas de bajos recursos perpetúa la impunidad y la desigualdad, lo que es un factor más de pobreza social. La Defensoría del Pueblo y las casas de justicia deben fortalecer la asesoría legal gratuita. La justicia debe ser accesible para todos, sin importar su condición económica.',\n",
       " 'La ausencia de un sistema de alcantarillado adecuado en muchos barrios periféricos genera problemas sanitarios y ambientales, afectando la calidad de vida y empobreciendo a sus habitantes. Las empresas de servicios públicos y las alcaldías deben priorizar la inversión en estas infraestructuras. Un saneamiento básico es un derecho fundamental para una vida digna.',\n",
       " 'La falta de programas de educación sexual integral y acceso a métodos anticonceptivos en zonas vulnerables contribuye a embarazos adolescentes, lo que perpetúa la pobreza. El Ministerio de Salud y las instituciones educativas deben fortalecer estos programas. La planificación familiar es crucial para que las jóvenes puedan construir un futuro y evitar la pobreza.',\n",
       " 'La escasez de bibliotecas públicas y centros culturales en barrios de bajos recursos limita el acceso al conocimiento y a la recreación, lo cual es un aspecto de la pobreza cultural. Las alcaldías y las secretarías de cultura deben invertir en la creación y dotación de estos espacios. Fomentar la lectura y la cultura es fundamental para el desarrollo integral de las personas.',\n",
       " 'La deficiente calidad de los materiales de construcción de viviendas de interés social las hace vulnerables y efímeras, obligando a las familias a gastar más en reparaciones. El Ministerio de Vivienda debe fiscalizar la calidad de estas construcciones. Las familias de bajos recursos merecen casas dignas y duraderas que no los lleven a la pobreza.',\n",
       " 'La falta de apoyo a la pequeña minería artesanal en mi región, con falta de capacitación y formalización, los mantiene en la ilegalidad y la pobreza. El Ministerio de Minas y Energía debe diseñar programas que los incluyan y los ayuden a operar de manera sostenible. Es posible una minería responsable que genere riqueza para las comunidades.',\n",
       " 'La carencia de programas de apoyo a personas con enfermedades crónicas, como la diabetes o la hipertensión, sin recursos para tratamientos, los condena a la pobreza. El Ministerio de Salud y las EPS deben asegurar el acceso a medicinas y seguimiento médico. La salud es un derecho fundamental que no debería depender de la capacidad económica.',\n",
       " 'La ausencia de servicios de salud preventiva en comunidades rurales, como vacunación y controles de crecimiento, genera enfermedades que empobrecen a las familias. Las secretarías de salud deben fortalecer las brigadas médicas y los programas de atención primaria. La prevención es clave para evitar costos mayores y mejorar la calidad de vida.',\n",
       " 'El alto índice de deserción escolar en zonas rurales, por necesidad de trabajar o falta de recursos, perpetúa el ciclo de pobreza. El Ministerio de Educación y las gobernaciones deben ofrecer incentivos y transporte escolar. La educación es la base para el desarrollo y para que los niños del campo tengan un futuro mejor.',\n",
       " 'La falta de acceso a servicios bancarios en zonas de conflicto armado o alejadas, impide a las comunidades manejar su dinero de forma segura y acceder a créditos, manteniéndolas en la pobreza. La Superintendencia Financiera y los bancos deben buscar estrategias de inclusión. La bancarización es una herramienta de empoderamiento económico y paz.',\n",
       " 'La deficiente infraestructura de mercados campesinos y plazas de mercado en las ciudades, dificulta la comercialización directa de productos, empobreciendo a los agricultores. Las alcaldías deben invertir en la adecuación y promoción de estos espacios. Apoyar a los campesinos es fundamental para la seguridad alimentaria y para reducir la pobreza en el campo.',\n",
       " 'La falta de acceso a internet en las cárceles limita las oportunidades de resocialización y capacitación de los internos, dificultando su reintegración y empobreciéndolos. El Ministerio de Justicia y las instituciones penitenciarias deben implementar programas de alfabetización digital. Brindar herramientas para el futuro es clave para reducir la reincidencia y la pobreza.',\n",
       " 'La escasez de programas de apoyo a mujeres víctimas de violencia, con refugios y asesoría legal, las deja en situación de vulnerabilidad y pobreza. Las alcaldías y las secretarías de la mujer deben fortalecer estos servicios. Proteger a las mujeres y garantizar su autonomía es fundamental para construir una sociedad más justa y equitativa.',\n",
       " 'La falta de conocimiento sobre derechos laborales en los sectores informales, hace que muchos trabajadores sean explotados y vivan en la pobreza. El Ministerio del Trabajo y las organizaciones sindicales deben realizar campañas de sensibilización y asesoría legal. La educación sobre derechos es una herramienta poderosa para empoderar a los trabajadores.',\n",
       " 'La carencia de programas de apoyo a pequeños pescadores artesanales, con acceso a mercados y tecnología, los mantiene en la subsistencia y la pobreza. El Ministerio de Agricultura y Pesca debe implementar políticas que fortalezcan este sector. Es fundamental reconocer la labor de estos hombres y mujeres y garantizar su sustento.',\n",
       " 'La contaminación de fuentes hídricas por actividades ilegales o industriales afecta la salud y los medios de vida de las comunidades, empobreciéndolas. Las autoridades ambientales y de salud deben imponer sanciones y promover la recuperación de estos ecosistemas. El agua limpia es esencial para la vida y para el desarrollo sostenible.',\n",
       " 'La ausencia de una política de precios justos para los productos agrícolas deja a los campesinos a merced de la especulación, empobreciéndolos. El Ministerio de Agricultura debe crear mecanismos que garanticen una remuneración digna por su trabajo. Proteger a los productores es proteger la seguridad alimentaria del país.',\n",
       " 'La falta de acceso a servicios de cuidado infantil nocturno o flexible dificulta que las madres trabajen en horarios no convencionales, limitando sus ingresos. Las alcaldías y el ICBF deben ampliar la oferta de estos servicios. Es fundamental adaptar los programas a las realidades laborales de las familias para combatir la pobreza.',\n",
       " 'La deficiente infraestructura de saneamiento básico en zonas costeras y ribereñas, con vertimiento de aguas residuales, afecta la salud y el turismo, empobreciendo a las comunidades. Las empresas de servicios públicos y las alcaldías deben invertir en plantas de tratamiento. El saneamiento ambiental es clave para el bienestar y el desarrollo económico.',\n",
       " 'La falta de programas de apoyo a personas con enfermedades mentales graves, con vivienda y acompañamiento, los condena a la calle y a la pobreza. El Ministerio de Salud y las secretarías deben fortalecer la red de atención. Es un deber de la sociedad cuidar a los más vulnerables y garantizar su dignidad.',\n",
       " 'La escasez de oportunidades laborales para migrantes y refugiados los empuja a la informalidad y a la pobreza extrema. El gobierno y las ONG deben facilitar su integración laboral y social. Brindarles una oportunidad es un acto humanitario y una inversión en el desarrollo del país.',\n",
       " 'La falta de acceso a servicios de energía eléctrica en zonas rurales y apartadas limita el desarrollo productivo y empobrece a las familias. El Ministerio de Minas y Energía y las empresas de energía deben expandir la cobertura. La energía es un motor de progreso y un derecho fundamental para todos.',\n",
       " 'La carencia de programas de apoyo a jóvenes en riesgo de reclutamiento forzado, con alternativas educativas y laborales, los condena a un futuro incierto y a la pobreza. El gobierno y las ONG deben fortalecer estos programas en las zonas de conflicto. Proteger a la juventud es construir paz y un futuro sin pobreza.',\n",
       " 'La ausencia de un sistema de alerta temprana y evacuación en zonas de alto riesgo natural agrava las consecuencias de los desastres y empobrece a las comunidades. La Unidad Nacional para la Gestión del Riesgo debe invertir en estas herramientas. La prevención es clave para salvar vidas y proteger los medios de vida.',\n",
       " 'La falta de acceso a servicios de rehabilitación para personas con adicciones, con programas integrales y apoyo familiar, los mantiene en la pobreza y la exclusión. El Ministerio de Salud y las secretarías deben ampliar la oferta de estos servicios. La recuperación es posible con el apoyo adecuado.',\n",
       " 'El alto costo de las tarifas de internet y telefonía móvil en zonas de bajos ingresos limita el acceso a la información y a oportunidades, ampliando la brecha digital. El Ministerio de Tecnologías de la Información y las Comunicaciones debe regular los precios y promover planes accesibles. La conectividad es un derecho en la era actual.',\n",
       " 'La carencia de programas de formación técnica y tecnológica adaptados a las necesidades del mercado laboral local, deja a muchos jóvenes sin empleo y en la pobreza. El Sena y las instituciones educativas deben actualizar sus currículos. La pertinencia de la educación es clave para la empleabilidad y el desarrollo.',\n",
       " 'La falta de acceso a servicios de salud sexual y reproductiva para adolescentes en zonas rurales contribuye a embarazos no deseados y a la pobreza. El Ministerio de Salud y las secretarías deben llevar estos servicios a todas las comunidades. La información y el acceso son derechos fundamentales para la juventud.',\n",
       " 'La ausencia de un sistema de transporte fluvial adecuado en regiones amazónicas y del Pacífico aísla a las comunidades y dificulta el comercio, perpetuando la pobreza. El Ministerio de Transporte y las gobernaciones deben invertir en infraestructura y rutas. La conectividad es vital para el desarrollo de estas regiones.',\n",
       " 'La falta de acceso a programas de vivienda rural digna y adaptada a las necesidades de los campesinos los mantiene en condiciones precarias. El Ministerio de Vivienda y las gobernaciones deben priorizar estos proyectos. Un hogar seguro y confortable es un derecho fundamental para todos.',\n",
       " 'La escasez de oportunidades laborales para adultos mayores con experiencia, los condena a la inactividad y a la pobreza. El Ministerio del Trabajo y las empresas deben promover la inclusión de esta población. La experiencia de nuestros mayores es un valor que no deberíamos desperdiciar.',\n",
       " 'La falta de acceso a servicios de atención a la primera infancia en zonas de conflicto o vulnerables, afecta el desarrollo de los niños y perpetúa la pobreza. El ICBF y las alcaldías deben ampliar la cobertura de estos programas. Invertir en la primera infancia es invertir en el futuro del país.',\n",
       " 'La ausencia de programas de apoyo a pequeños comerciantes afectados por la pandemia o crisis económicas, los lleva a la quiebra y a la pobreza. Las alcaldías y las cámaras de comercio deben ofrecer subsidios y créditos blandos. La resiliencia de nuestro tejido empresarial depende de este apoyo.',\n",
       " 'La falta de acceso a servicios de salud para personas con VIH/SIDA, con tratamientos y apoyo psicosocial, los condena a la exclusión y a la pobreza. El Ministerio de Salud y las EPS deben garantizar la atención integral. La dignidad y el derecho a la salud son inalienables.',\n",
       " 'La carencia de programas de apoyo a familias desplazadas por la violencia, con vivienda, empleo y atención psicosocial, los mantiene en la vulnerabilidad y la pobreza. El gobierno y las ONG deben fortalecer estos programas. Es un deber de la sociedad apoyar a quienes han perdido todo por el conflicto.',\n",
       " 'La falta de acceso a servicios de salud oral y visual básicos en comunidades de bajos recursos afecta su calidad de vida y su capacidad de trabajar. El Ministerio de Salud y las EPS deben ampliar la cobertura de estos servicios. La salud integral es fundamental para el bienestar y la productividad.',\n",
       " 'La ausencia de un sistema de gestión de riesgos para pequeños productores agrícolas frente a plagas y enfermedades, los deja sin sustento y en la pobreza. El ICA y el Ministerio de Agricultura deben fortalecer estos programas. La protección de los cultivos es clave para la seguridad alimentaria.',\n",
       " 'La falta de acceso a energía solar o fuentes de energía renovable en zonas no interconectadas, limita el desarrollo y perpetúa la pobreza energética. El Ministerio de Minas y Energía y las empresas deben invertir en estas tecnologías. La energía limpia es el futuro y un derecho para todos.',\n",
       " 'La carencia de programas de apoyo a personas con enfermedades raras, con acceso a tratamientos costosos y acompañamiento, los condena a la pobreza. El Ministerio de Salud y las EPS deben garantizar la atención integral. Es un deber de la sociedad brindar esperanza a quienes más lo necesitan.',\n",
       " 'La falta de acceso a servicios de salud para personas en condición de discapacidad mental, con terapias y apoyo familiar, los mantiene en la exclusión y la pobreza. El Ministerio de Salud y las secretarías deben ampliar la oferta de estos servicios. La inclusión es un derecho para todos.',\n",
       " 'La ausencia de programas de apoyo a jóvenes con talento artístico o deportivo, pero sin recursos, los condena a la falta de oportunidades y a la pobreza. El Ministerio de Cultura y el de Deporte deben crear becas y espacios de formación. Invertir en el talento es invertir en el futuro del país.',\n",
       " 'La falta de acceso a servicios de cuidado para personas con alzheimer u otras demencias, con centros especializados y apoyo a cuidadores, empobrece a las familias. El Ministerio de Salud y las alcaldías deben fortalecer estos programas. La dignidad de nuestros mayores es una prioridad.',\n",
       " 'La carencia de programas de apoyo a comunidades afectadas por el extractivismo, con reparación ambiental y oportunidades económicas, los mantiene en la pobreza. El Ministerio de Ambiente y las empresas deben cumplir con sus responsabilidades sociales y ambientales. El desarrollo debe ser sostenible e inclusivo.',\n",
       " 'La falta de acceso a servicios de salud para personas en condición de calle, con atención integral y seguimiento, los condena a la enfermedad y a la pobreza extrema. Las secretarías de salud y las ONG deben fortalecer estos programas. Es un deber de la sociedad cuidar a los más vulnerables.',\n",
       " 'La ausencia de programas de apoyo a pequeños artesanos, con capacitación, acceso a mercados y financiación, los mantiene en la subsistencia y la pobreza. El Ministerio de Cultura y las cámaras de comercio deben impulsar este sector. La riqueza cultural de nuestro país merece ser valorada.',\n",
       " 'La falta de acceso a servicios de salud para personas con enfermedades crónicas no transmisibles, con tratamientos y seguimiento, los condena a la pobreza. El Ministerio de Salud y las EPS deben garantizar la atención integral. La prevención y el control son claves para la calidad de vida.',\n",
       " 'La carencia de programas de apoyo a jóvenes desescolarizados, con oportunidades educativas y laborales, los condena a la inactividad y a la pobreza. El Ministerio de Educación y el Sena deben fortalecer estos programas. La educación es la base para un futuro sin pobreza.',\n",
       " 'La ausencia de programas de apoyo a madres adolescentes, con educación, cuidado infantil y oportunidades laborales, las condena a la pobreza. El ICBF y las alcaldías deben fortalecer estos programas. La prevención y el apoyo son claves para romper el ciclo de la pobreza.',\n",
       " 'La falta de acceso a servicios de salud para personas con discapacidad física, con terapias y ayudas técnicas, los mantiene en la exclusión y la pobreza. El Ministerio de Salud y las EPS deben ampliar la oferta de estos servicios. La inclusión es un derecho para todos.',\n",
       " 'La carencia de programas de apoyo a pequeños ganaderos, con acceso a tecnología, mercados y financiación, los mantiene en la subsistencia y la pobreza. El Ministerio de Agricultura y las asociaciones deben impulsar este sector. La ganadería sostenible es clave para el desarrollo rural.',\n",
       " 'La ausencia de programas de apoyo a personas con enfermedades mentales leves, con acceso a terapias y consejería, los mantiene en la exclusión y la pobreza. El Ministerio de Salud y las secretarías deben ampliar la oferta de estos servicios. La salud mental es un derecho fundamental.',\n",
       " 'La falta de acceso a servicios de salud para personas con enfermedades terminales, con cuidados paliativos y apoyo familiar, los condena a la pobreza. El Ministerio de Salud y las EPS deben garantizar la atención integral. La dignidad hasta el final de la vida es un derecho.',\n",
       " 'La carencia de programas de apoyo a pequeños mineros informales, con capacitación, formalización y acceso a mercados justos, los mantiene en la ilegalidad y la pobreza. El Ministerio de Minas y Energía debe buscar soluciones inclusivas. Es posible una minería responsable y digna.',\n",
       " 'La ausencia de programas de apoyo a jóvenes en riesgo de delincuencia, con alternativas educativas y laborales, los condena a un futuro incierto y a la pobreza. El gobierno y las ONG deben fortalecer estos programas en las zonas vulnerables. La prevención es clave para construir paz.',\n",
       " 'La falta de acceso a servicios de salud para personas con discapacidad sensorial, con ayudas técnicas y terapias, los mantiene en la exclusión y la pobreza. El Ministerio de Salud y las EPS deben ampliar la oferta de estos servicios. La inclusión es un derecho para todos.',\n",
       " 'La carencia de programas de apoyo a pequeños emprendedores rurales, con capacitación, financiación y acceso a mercados, los mantiene en la subsistencia y la pobreza. El Ministerio de Agricultura y las cámaras de comercio deben impulsar este sector. El emprendimiento rural es clave para el desarrollo.',\n",
       " 'La ausencia de programas de apoyo a personas con VIH/SIDA en zonas rurales, con acceso a tratamientos y acompañamiento, los mantiene en la exclusión y la pobreza. El Ministerio de Salud y las secretarías deben llevar estos servicios a todas las comunidades. La dignidad es un derecho fundamental.',\n",
       " 'La falta de acceso a servicios de salud para personas con enfermedades infecciosas, con tratamientos y prevención, los condena a la pobreza y a la exclusión. El Ministerio de Salud y las EPS deben garantizar la atención integral. La salud pública es una prioridad para todos.',\n",
       " 'La carencia de programas de apoyo a jóvenes con talento científico o tecnológico, pero sin recursos, los condena a la falta de oportunidades y a la pobreza. El Ministerio de Ciencia y el de Educación deben crear becas y espacios de formación. Invertir en la ciencia es invertir en el futuro.',\n",
       " 'La ausencia de programas de apoyo a personas con discapacidad intelectual, con educación, empleo y acompañamiento, los mantiene en la exclusión y la pobreza. El Ministerio de Educación y el de Trabajo deben fortalecer estos programas. La inclusión es un derecho para todos.',\n",
       " 'La falta de acceso a servicios de salud para personas con trastornos alimenticios, con terapias y acompañamiento, los condena a la pobreza y a la exclusión. El Ministerio de Salud y las secretarías deben ampliar la oferta de estos servicios. La salud mental es un derecho fundamental.',\n",
       " 'La carencia de programas de apoyo a pequeños productores agroecológicos, con acceso a mercados justos y financiación, los mantiene en la subsistencia y la pobreza. El Ministerio de Agricultura y las asociaciones deben impulsar este sector. La agricultura sostenible es clave para el futuro.',\n",
       " 'La ausencia de programas de apoyo a personas con enfermedades neurodegenerativas, con tratamientos y cuidados especializados, los condena a la pobreza. El Ministerio de Salud y las EPS deben garantizar la atención integral. La dignidad en la enfermedad es un derecho fundamental.',\n",
       " 'La falta de acceso a servicios de salud para personas con discapacidad múltiple, con terapias y ayudas técnicas, los mantiene en la exclusión y la pobreza. El Ministerio de Salud y las EPS deben ampliar la oferta de estos servicios. La inclusión es un derecho para todos.',\n",
       " 'La carencia de programas de apoyo a jóvenes en situación de calle, con vivienda, educación y oportunidades laborales, los condena a un futuro incierto y a la pobreza. El gobierno y las ONG deben fortalecer estos programas. La esperanza es un derecho para todos.',\n",
       " 'La ausencia de programas de apoyo a personas con enfermedades raras en zonas rurales, con acceso a tratamientos y acompañamiento, los mantiene en la exclusión y la pobreza. El Ministerio de Salud y las secretarías deben llevar estos servicios a todas las comunidades. La dignidad es un derecho fundamental.',\n",
       " 'La falta de acceso a servicios de salud para personas con trastornos de ansiedad y depresión, con terapias y apoyo psicológico, los condena a la pobreza. El Ministerio de Salud y las secretarías deben ampliar la oferta de estos servicios. La salud mental es un derecho fundamental.',\n",
       " 'La carencia de programas de apoyo a pequeños productores de café, con acceso a mercados justos y financiación, los mantiene en la subsistencia y la pobreza. El Ministerio de Agricultura y la Federación de Cafeteros deben impulsar este sector. El café es un símbolo de nuestro país.',\n",
       " 'La ausencia de programas de apoyo a personas con discapacidad psicosocial, con educación, empleo y acompañamiento, los mantiene en la exclusión y la pobreza. El Ministerio de Educación y el de Trabajo deben fortalecer estos programas. La inclusión es un derecho para todos.',\n",
       " 'La falta de acceso a servicios de salud para personas con enfermedades crónicas en zonas rurales, con tratamientos y seguimiento, los condena a la pobreza. El Ministerio de Salud y las secretarías deben llevar estos servicios a todas las comunidades. La salud es un derecho fundamental.',\n",
       " 'La carencia de programas de apoyo a jóvenes con talento en emprendimiento, pero sin recursos, los condena a la falta de oportunidades y a la pobreza. El Sena y las cámaras de comercio deben crear becas y espacios de formación. Invertir en el emprendimiento es invertir en el futuro.',\n",
       " 'La ausencia de programas de apoyo a personas con discapacidad auditiva, con educación, empleo y ayudas técnicas, los mantiene en la exclusión y la pobreza. El Ministerio de Educación y el de Trabajo deben fortalecer estos programas. La inclusión es un derecho para todos.',\n",
       " 'La falta de acceso a servicios de salud para personas con cáncer, con tratamientos y apoyo psicológico, los condena a la pobreza y a la exclusión. El Ministerio de Salud y las EPS deben garantizar la atención integral. La esperanza es un derecho fundamental.',\n",
       " 'La carencia de programas de apoyo a pequeños productores de panela, con acceso a mercados justos y financiación, los mantiene en la subsistencia y la pobreza. El Ministerio de Agricultura y las asociaciones deben impulsar este sector. La panela es un alimento tradicional.',\n",
       " 'La ausencia de programas de apoyo a personas con discapacidad visual, con educación, empleo y ayudas técnicas, los mantiene en la exclusión y la pobreza. El Ministerio de Educación y el de Trabajo deben fortalecer estos programas. La inclusión es un derecho para todos.',\n",
       " 'La falta de acceso a servicios de salud para personas con enfermedades autoinmunes, con tratamientos y seguimiento, los condena a la pobreza. El Ministerio de Salud y las EPS deben garantizar la atención integral. La investigación es clave para estas enfermedades.',\n",
       " 'La carencia de programas de apoyo a jóvenes en zonas de conflicto, con alternativas educativas y laborales, los condena a la falta de oportunidades y a la pobreza. El gobierno y las ONG deben fortalecer estos programas. La paz es un derecho para todos.',\n",
       " 'La ausencia de programas de apoyo a personas con discapacidad física en zonas rurales, con terapias y ayudas técnicas, los mantiene en la exclusión y la pobreza. El Ministerio de Salud y las secretarías deben llevar estos servicios a todas las comunidades. La inclusión es un derecho fundamental.',\n",
       " 'La falta de acceso a servicios de salud para personas con enfermedades cardiovasculares, con tratamientos y prevención, los condena a la pobreza. El Ministerio de Salud y las EPS deben garantizar la atención integral. La prevención es clave para la salud pública.',\n",
       " 'La carencia de programas de apoyo a pequeños productores de cacao, con acceso a mercados justos y financiación, los mantiene en la subsistencia y la pobreza. El Ministerio de Agricultura y las asociaciones deben impulsar este sector. El cacao es un producto de exportación.',\n",
       " 'La ausencia de programas de apoyo a personas con discapacidad intelectual en zonas rurales, con educación, empleo y acompañamiento, los mantiene en la exclusión y la pobreza. El Ministerio de Educación y las secretarías deben llevar estos servicios a todas las comunidades. La inclusión es un derecho fundamental.',\n",
       " 'La falta de acceso a servicios de salud para personas con diabetes, con tratamientos y seguimiento, los condena a la pobreza. El Ministerio de Salud y las EPS deben garantizar la atención integral. La prevención y el control son claves para la calidad de vida.',\n",
       " 'La carencia de programas de apoyo a jóvenes desvinculados de grupos armados, con educación, empleo y atención psicosocial, los condena a la falta de oportunidades y a la pobreza. El gobierno y las ONG deben fortalecer estos programas. La reinserción es clave para la paz.',\n",
       " 'La ausencia de programas de apoyo a personas con discapacidad auditiva en zonas rurales, con educación, empleo y ayudas técnicas, los mantiene en la exclusión y la pobreza. El Ministerio de Educación y las secretarías deben llevar estos servicios a todas las comunidades. La inclusión es un derecho fundamental.',\n",
       " 'La falta de acceso a servicios de salud para personas con hipertensión, con tratamientos y prevención, los condena a la pobreza. El Ministerio de Salud y las EPS deben garantizar la atención integral. La prevención es clave para la salud pública.',\n",
       " 'La carencia de programas de apoyo a pequeños productores de frutas, con acceso a mercados justos y financiación, los mantiene en la subsistencia y la pobreza. El Ministerio de Agricultura y las asociaciones deben impulsar este sector. Las frutas son un alimento saludable.',\n",
       " 'La ausencia de programas de apoyo a personas con discapacidad visual en zonas rurales, con educación, empleo y ayudas técnicas, los mantiene en la exclusión y la pobreza. El Ministerio de Educación y las secretarías deben llevar estos servicios a todas las comunidades. La inclusión es un derecho fundamental.',\n",
       " 'La falta de acceso a servicios de salud para personas con enfermedades renales, con tratamientos y apoyo, los condena a la pobreza. El Ministerio de Salud y las EPS deben garantizar la atención integral. La prevención es clave para la salud pública.',\n",
       " 'La carencia de programas de apoyo a jóvenes con talentos artísticos en zonas rurales, pero sin recursos, los condena a la falta de oportunidades y a la pobreza. El Ministerio de Cultura y las secretarías deben crear becas y espacios de formación. Invertir en el arte es invertir en el futuro.',\n",
       " 'La ausencia de programas de apoyo a personas con discapacidad psicosocial en zonas rurales, con educación, empleo y acompañamiento, los mantiene en la exclusión y la pobreza. El Ministerio de Educación y las secretarías deben llevar estos servicios a todas las comunidades. La inclusión es un derecho fundamental.',\n",
       " 'La falta de acceso a servicios de salud para personas con enfermedades respiratorias crónicas, con tratamientos y prevención, los condena a la pobreza. El Ministerio de Salud y las EPS deben garantizar la atención integral. La prevención es clave para la salud pública.',\n",
       " 'La carencia de programas de apoyo a pequeños productores de hortalizas, con acceso a mercados justos y financiación, los mantiene en la subsistencia y la pobreza. El Ministerio de Agricultura y las asociaciones deben impulsar este sector. Las hortalizas son un alimento esencial.',\n",
       " 'La ausencia de programas de apoyo a personas con discapacidad múltiple en zonas rurales, con terapias y ayudas técnicas, los mantiene en la exclusión y la pobreza. El Ministerio de Salud y las secretarías deben llevar estos servicios a todas las comunidades. La inclusión es un derecho fundamental.',\n",
       " 'La falta de acceso a servicios de salud para personas con enfermedades digestivas crónicas, con tratamientos y prevención, los condena a la pobreza. El Ministerio de Salud y las EPS deben garantizar la atención integral. La prevención es clave para la salud pública.',\n",
       " 'La carencia de programas de apoyo a jóvenes con talentos deportivos en zonas rurales, pero sin recursos, los condena a la falta de oportunidades y a la pobreza. El Ministerio de Deporte y las secretarías deben crear becas y espacios de formación. Invertir en el deporte es invertir en el futuro.',\n",
       " 'La ausencia de programas de apoyo a personas con discapacidad psicosocial en zonas urbanas, con educación, empleo y acompañamiento, los mantiene en la exclusión y la pobreza. El Ministerio de Educación y el de Trabajo deben fortalecer estos programas. La inclusión es un derecho para todos.',\n",
       " 'La falta de acceso a servicios de salud para personas con enfermedades de la piel crónicas, con tratamientos y prevención, los condena a la pobreza. El Ministerio de Salud y las EPS deben garantizar la atención integral. La prevención es clave para la salud pública.',\n",
       " 'La carencia de programas de apoyo a pequeños productores de lácteos, con acceso a mercados justos y financiación, los mantiene en la subsistencia y la pobreza. El Ministerio de Agricultura y las asociaciones deben impulsar este sector. Los lácteos son un alimento básico.',\n",
       " 'La ausencia de programas de apoyo a personas con discapacidad física en zonas urbanas, con terapias y ayudas técnicas, los mantiene en la exclusión y la pobreza. El Ministerio de Salud y las secretarías deben llevar estos servicios a todas las comunidades. La inclusión es un derecho fundamental.',\n",
       " 'La falta de acceso a servicios de salud para personas con enfermedades musculoesqueléticas crónicas, con tratamientos y prevención, los condena a la pobreza. El Ministerio de Salud y las EPS deben garantizar la atención integral. La prevención es clave para la salud pública.',\n",
       " 'La carencia de programas de apoyo a jóvenes en situación de vulnerabilidad social, con educación, empleo y atención psicosocial, los condena a la falta de oportunidades y a la pobreza. El gobierno y las ONG deben fortalecer estos programas. La prevención es clave para el futuro.',\n",
       " 'La ausencia de programas de apoyo a personas con discapacidad intelectual en zonas urbanas, con educación, empleo y acompañamiento, los mantiene en la exclusión y la pobreza. El Ministerio de Educación y el de Trabajo deben fortalecer estos programas. La inclusión es un derecho fundamental.',\n",
       " 'La falta de acceso a servicios de salud para personas con enfermedades neurológicas crónicas, con tratamientos y prevención, los condena a la pobreza. El Ministerio de Salud y las EPS deben garantizar la atención integral. La investigación es clave para estas enfermedades.',\n",
       " 'La carencia de programas de apoyo a pequeños productores de huevos, con acceso a mercados justos y financiación, los mantiene en la subsistencia y la pobreza. El Ministerio de Agricultura y las asociaciones deben impulsar este sector. Los huevos son un alimento nutritivo.',\n",
       " 'La ausencia de programas de apoyo a personas con discapacidad auditiva en zonas urbanas, con educación, empleo y ayudas técnicas, los mantiene en la exclusión y la pobreza. El Ministerio de Educación y el de Trabajo deben fortalecer estos programas. La inclusión es un derecho fundamental.',\n",
       " 'La falta de acceso a servicios de salud para personas con enfermedades psiquiátricas crónicas, con tratamientos y apoyo, los condena a la pobreza. El Ministerio de Salud y las EPS deben garantizar la atención integral. La salud mental es un derecho fundamental.',\n",
       " 'La carencia de programas de apoyo a jóvenes con talentos científicos en zonas urbanas, pero sin recursos, los condena a la falta de oportunidades y a la pobreza. El Ministerio de Ciencia y las secretarías deben crear becas y espacios de formación. Invertir en la ciencia es invertir en el futuro.',\n",
       " 'La ausencia de programas de apoyo a personas con discapacidad visual en zonas urbanas, con educación, empleo y ayudas técnicas, los mantiene en la exclusión y la pobreza. El Ministerio de Educación y el de Trabajo deben fortalecer estos programas. La inclusión es un derecho fundamental.',\n",
       " 'La falta de acceso a servicios de salud para personas con enfermedades endocrinas crónicas, con tratamientos y prevención, los condena a la pobreza. El Ministerio de Salud y las EPS deben garantizar la atención integral. La prevención es clave para la salud pública.',\n",
       " 'La carencia de programas de apoyo a pequeños productores de carne, con acceso a mercados justos y financiación, los mantiene en la subsistencia y la pobreza. El Ministerio de Agricultura y las asociaciones deben impulsar este sector. La carne es un alimento importante.',\n",
       " 'La ausencia de programas de apoyo a personas con discapacidad múltiple en zonas urbanas, con terapias y ayudas técnicas, los mantiene en la exclusión y la pobreza. El Ministerio de Salud y las secretarías deben llevar estos servicios a todas las comunidades. La inclusión es un derecho fundamental.',\n",
       " 'La falta de acceso a servicios de salud para personas con enfermedades del sistema inmunitario crónicas, con tratamientos y prevención, los condena a la pobreza. El Ministerio de Salud y las EPS deben garantizar la atención integral. La investigación es clave para estas enfermedades.',\n",
       " 'La carencia de programas de apoyo a jóvenes con talentos tecnológicos en zonas urbanas, pero sin recursos, los condena a la falta de oportunidades y a la pobreza. El Ministerio de Tecnologías de la Información y las Comunicaciones y las secretarías deben crear becas y espacios de formación. Invertir en la tecnología es invertir en el futuro.',\n",
       " 'La ausencia de programas de apoyo a personas con discapacidad psicosocial en zonas rurales, con educación, empleo y acompañamiento, los mantiene en la exclusión y la pobreza. Es crucial que el gobierno y las instituciones pertinentes trabajen en la inclusión social y laboral para que estas personas puedan desarrollar su potencial y contribuir a la sociedad.',\n",
       " 'La falta de acceso a servicios de salud para personas con enfermedades hematológicas crónicas, con tratamientos y prevención, los condena a la pobreza. Las entidades de salud deben garantizar que los pacientes reciban la atención necesaria sin que su situación económica sea un impedimento. Es un derecho fundamental tener acceso a una salud de calidad.',\n",
       " 'La carencia de programas de apoyo a pequeños productores de lácteos en zonas rurales, con acceso a mercados justos y financiación, los mantiene en la subsistencia y la pobreza. El gobierno y las asociaciones deben fortalecer estos sectores para asegurar la rentabilidad de su trabajo y mejorar sus condiciones de vida.',\n",
       " 'La ausencia de programas de apoyo a personas con discapacidad física en zonas rurales, con terapias y ayudas técnicas, los mantiene en la exclusión y la pobreza. Es vital que las secretarías de salud y las organizaciones no gubernamentales amplíen la cobertura de estos servicios, facilitando su movilidad y autonomía.',\n",
       " 'La falta de acceso a servicios de salud para personas con enfermedades gastrointestinales crónicas, con tratamientos y prevención, los condena a la pobreza. El sistema de salud debe garantizar la disponibilidad de medicamentos y especialistas para que la enfermedad no se convierta en una carga financiera insostenible para las familias.',\n",
       " 'La carencia de programas de apoyo a jóvenes en situación de vulnerabilidad social en zonas rurales, con educación, empleo y atención psicosocial, los condena a la falta de oportunidades y a la pobreza. Es fundamental que las instituciones educativas y el gobierno lleguen a estas comunidades con programas adaptados a sus necesidades.',\n",
       " 'La ausencia de programas de apoyo a personas con discapacidad intelectual en zonas rurales, con educación, empleo y acompañamiento, los mantiene en la exclusión y la pobreza. Se requiere una mayor inversión en centros de formación y empleo inclusivo para que estas personas puedan tener una vida digna y productiva.',\n",
       " 'La falta de acceso a servicios de salud para personas con enfermedades óseas crónicas, con tratamientos y prevención, los condena a la pobreza. Es esencial que los hospitales y centros de salud rurales cuenten con los recursos y el personal especializado para atender estas condiciones, evitando el desplazamiento y los costos asociados para las familias.',\n",
       " 'La carencia de programas de apoyo a pequeños productores de café en zonas de conflicto, con acceso a mercados justos y financiación, los mantiene en la subsistencia y la pobreza. El gobierno debe proteger y fortalecer estas economías locales, brindando seguridad y oportunidades de desarrollo sostenible para las comunidades cafeteras.',\n",
       " 'La ausencia de programas de apoyo a personas con discapacidad auditiva en zonas rurales, con educación, empleo y ayudas técnicas, los mantiene en la exclusión y la pobreza. Las organizaciones de derechos humanos y el Estado deben trabajar juntos para garantizar la plena inclusión de estas personas en la sociedad.',\n",
       " 'La falta de acceso a servicios de salud para personas con enfermedades de la piel crónicas, con tratamientos y prevención, los condena a la pobreza. Es necesario que los programas de salud pública incluyan atención dermatológica especializada y que los medicamentos sean accesibles para todos los estratos socioeconómicos.',\n",
       " 'La carencia de programas de apoyo a jóvenes con talentos artísticos en zonas urbanas marginales, pero sin recursos, los condena a la falta de oportunidades y a la pobreza. Es fundamental que las secretarías de cultura y las fundaciones inviertan en la creación de escuelas de arte y becas para fomentar el desarrollo de estos talentos.',\n",
       " 'La ausencia de programas de apoyo a personas con discapacidad visual en zonas rurales, con educación, empleo y ayudas técnicas, los mantiene en la exclusión y la pobreza. Las instituciones educativas y el Ministerio de Trabajo deben adaptar sus programas para garantizar la inclusión laboral y académica de estas personas.',\n",
       " 'La falta de acceso a servicios de salud para personas con enfermedades del sistema nervioso crónicas, con tratamientos y prevención, los condena a la pobreza. Es vital que el sistema de salud garantice el acceso a terapias y medicamentos especializados, sin que la capacidad económica sea una barrera para la atención.',\n",
       " 'La carencia de programas de apoyo a pequeños productores de cacao en zonas rurales, con acceso a mercados justos y financiación, los mantiene en la subsistencia y la pobreza. Las políticas agrarias deben enfocarse en fortalecer la cadena de valor del cacao y en brindar asistencia técnica para mejorar la productividad y la calidad del producto.',\n",
       " 'La ausencia de programas de apoyo a personas con discapacidad múltiple en zonas rurales, con terapias y ayudas técnicas, los mantiene en la exclusión y la pobreza. Se requiere una mayor inversión en rehabilitación y en la adaptación de entornos para que estas personas puedan tener una vida plena y participar activamente en la comunidad.',\n",
       " 'La falta de acceso a servicios de salud para personas con enfermedades del sistema respiratorio crónicas, con tratamientos y prevención, los condena a la pobreza. Es crucial que los centros de salud cuenten con equipos y especialistas para atender estas enfermedades, reduciendo la carga económica para las familias afectadas.',\n",
       " 'La carencia de programas de apoyo a jóvenes con talentos deportivos en zonas urbanas marginales, pero sin recursos, los condena a la falta de oportunidades y a la pobreza. Es fundamental que el gobierno y el sector privado inviertan en la creación de escuelas deportivas y becas para impulsar el talento y ofrecer alternativas de vida.',\n",
       " 'La ausencia de programas de apoyo a personas con discapacidad psicosocial en zonas urbanas, con educación, empleo y acompañamiento, los mantiene en la exclusión y la pobreza. Se necesita una mayor sensibilización y programas de inclusión laboral para que estas personas puedan tener acceso a un trabajo digno y contribuir a la sociedad.',\n",
       " 'La falta de acceso a servicios de salud para personas con enfermedades del sistema circulatorio crónicas, con tratamientos y prevención, los condena a la pobreza. Es vital que el sistema de salud garantice el acceso a medicamentos y cirugías especializadas, sin que la capacidad económica sea un obstáculo para la atención.',\n",
       " 'La carencia de programas de apoyo a pequeños productores de panela en zonas rurales, con acceso a mercados justos y financiación, los mantiene en la subsistencia y la pobreza. Las asociaciones de productores y el gobierno deben trabajar juntos para mejorar la comercialización y la tecnificación de la producción de panela.',\n",
       " 'La ausencia de programas de apoyo a personas con discapacidad física en zonas urbanas, con terapias y ayudas técnicas, los mantiene en la exclusión y la pobreza. Es importante que las ciudades sean más accesibles y que se invierta en centros de rehabilitación para mejorar la calidad de vida de estas personas.',\n",
       " 'La falta de acceso a servicios de salud para personas con enfermedades del sistema urinario crónicas, con tratamientos y prevención, los condena a la pobreza. El sistema de salud debe asegurar que los pacientes reciban la atención especializada y los medicamentos necesarios para el manejo de estas condiciones, sin que esto implique una ruina económica.',\n",
       " 'La carencia de programas de apoyo a jóvenes en situación de vulnerabilidad social en zonas urbanas, con educación, empleo y atención psicosocial, los condena a la falta de oportunidades y a la pobreza. Las alcaldías y las organizaciones sociales deben fortalecer la red de apoyo para que estos jóvenes puedan construir un futuro digno.',\n",
       " 'La ausencia de programas de apoyo a personas con discapacidad intelectual en zonas urbanas, con educación, empleo y acompañamiento, los mantiene en la exclusión y la pobreza. Se requiere una mayor inversión en programas de inclusión laboral y en la creación de entornos de aprendizaje adaptados para estas personas.',\n",
       " 'La falta de acceso a servicios de salud para personas con enfermedades del sistema reproductivo crónicas, con tratamientos y prevención, los condena a la pobreza. Es fundamental que el sistema de salud garantice el acceso a especialistas y a procedimientos médicos necesarios, sin que la condición económica sea una barrera para la atención.',\n",
       " 'La carencia de programas de apoyo a pequeños productores de frutas en zonas rurales, con acceso a mercados justos y financiación, los mantiene en la subsistencia y la pobreza. El Ministerio de Agricultura debe impulsar la creación de cooperativas y el acceso a tecnologías que mejoren la productividad y la comercialización de sus productos.',\n",
       " 'La ausencia de programas de apoyo a personas con discapacidad auditiva en zonas urbanas, con educación, empleo y ayudas técnicas, los mantiene en la exclusión y la pobreza. Las instituciones educativas y las empresas deben adaptar sus espacios y procesos para garantizar la plena inclusión de estas personas en el ámbito laboral y social.',\n",
       " 'La falta de acceso a servicios de salud para personas con enfermedades del sistema endocrino crónicas, con tratamientos y prevención, los condena a la pobreza. Es vital que los programas de salud pública incluyan atención especializada y que los medicamentos sean asequibles, para que la enfermedad no se convierta en una carga económica insostenible.',\n",
       " 'La carencia de programas de apoyo a jóvenes con talentos científicos en zonas rurales, pero sin recursos, los condena a la falta de oportunidades y a la pobreza. Las secretarías de educación y las universidades deben crear programas de mentoría y becas para fomentar el interés en la ciencia y ofrecer un camino para el desarrollo profesional.',\n",
       " 'La ausencia de programas de apoyo a personas con discapacidad visual en zonas urbanas, con educación, empleo y ayudas técnicas, los mantiene en la exclusión y la pobreza. Las bibliotecas y los centros de formación deben ofrecer recursos adaptados y las empresas deben promover la inclusión laboral para estas personas.',\n",
       " 'La falta de acceso a servicios de salud para personas con enfermedades del sistema inmunitario crónicas, con tratamientos y prevención, los condena a la pobreza. El sistema de salud debe garantizar la disponibilidad de tratamientos innovadores y el acceso a especialistas, sin que la situación económica sea un impedimento para la atención.',\n",
       " 'La carencia de programas de apoyo a pequeños productores de carne en zonas rurales, con acceso a mercados justos y financiación, los mantiene en la subsistencia y la pobreza. El gobierno y las asociaciones deben trabajar en la tecnificación de la ganadería y en la creación de canales de comercialización que beneficien directamente a los productores.',\n",
       " 'La ausencia de programas de apoyo a personas con discapacidad múltiple en zonas urbanas, con terapias y ayudas técnicas, los mantiene en la exclusión y la pobreza. Se requiere una mayor inversión en centros de rehabilitación y en la adaptación de espacios públicos para garantizar la plena participación de estas personas en la vida social y económica.',\n",
       " 'La falta de acceso a servicios de salud para personas con enfermedades del sistema nervioso crónicas, con tratamientos y prevención, los condena a la pobreza. Es fundamental que los programas de salud incluyan atención neurológica especializada y que los medicamentos sean accesibles para todos los estratos socioeconómicos, evitando el empobrecimiento de las familias.',\n",
       " 'La carencia de programas de apoyo a jóvenes con talentos tecnológicos en zonas rurales, pero sin recursos, los condena a la falta de oportunidades y a la pobreza. Las instituciones educativas y el Ministerio de Tecnologías de la Información y las Comunicaciones deben llevar la conectividad y la capacitación a estas comunidades, impulsando el desarrollo de talentos digitales.',\n",
       " 'La ausencia de programas de apoyo a personas con discapacidad psicosocial en zonas rurales, con educación, empleo y acompañamiento, los mantiene en la exclusión y la pobreza. Las secretarías de salud y las organizaciones no gubernamentales deben ampliar la cobertura de estos servicios, facilitando su integración social y laboral.',\n",
       " 'La falta de acceso a servicios de salud para personas con enfermedades hematológicas crónicas, con tratamientos y prevención, los condena a la pobreza. Es crucial que los hospitales rurales cuenten con los recursos y el personal especializado para atender estas condiciones, evitando el desplazamiento y los costos asociados para las familias.',\n",
       " 'La carencia de programas de apoyo a pequeños productores de lácteos en zonas de conflicto, con acceso a mercados justos y financiación, los mantiene en la subsistencia y la pobreza. El gobierno debe proteger y fortalecer estas economías locales, brindando seguridad y oportunidades de desarrollo sostenible para las comunidades ganaderas.',\n",
       " 'La ausencia de programas de apoyo a personas con discapacidad física en zonas de conflicto, con terapias y ayudas técnicas, los mantiene en la exclusión y la pobreza. Es vital que las secretarías de salud y las organizaciones no gubernamentales amplíen la cobertura de estos servicios, facilitando su movilidad y autonomía en estas zonas afectadas.',\n",
       " 'La falta de acceso a servicios de salud para personas con enfermedades gastrointestinales crónicas, con tratamientos y prevención, los condena a la pobreza. El sistema de salud debe garantizar la disponibilidad de medicamentos y especialistas para que la enfermedad no se convierta en una carga financiera insostenible para las familias en zonas de conflicto.',\n",
       " 'La carencia de programas de apoyo a jóvenes en situación de vulnerabilidad social en zonas de conflicto, con educación, empleo y atención psicosocial, los condena a la falta de oportunidades y a la pobreza. Es fundamental que las instituciones educativas y el gobierno lleguen a estas comunidades con programas adaptados a sus necesidades y a la realidad del conflicto.',\n",
       " 'La ausencia de programas de apoyo a personas con discapacidad intelectual en zonas de conflicto, con educación, empleo y acompañamiento, los mantiene en la exclusión y la pobreza. Se requiere una mayor inversión en centros de formación y empleo inclusivo para que estas personas puedan tener una vida digna y productiva en medio de la adversidad.',\n",
       " 'La falta de acceso a servicios de salud para personas con enfermedades óseas crónicas en zonas de conflicto, con tratamientos y prevención, los condena a la pobreza. Es esencial que los hospitales y centros de salud en estas áreas cuenten con los recursos y el personal especializado para atender estas condiciones, evitando el desplazamiento y los costos asociados para las familias.',\n",
       " 'La carencia de programas de apoyo a pequeños productores de café en zonas de riesgo climático, con acceso a mercados justos y financiación, los mantiene en la subsistencia y la pobreza. El gobierno debe proteger y fortalecer estas economías locales, brindando seguridad y oportunidades de desarrollo sostenible para las comunidades cafeteras afectadas por el cambio climático.',\n",
       " 'La ausencia de programas de apoyo a personas con discapacidad auditiva en zonas de conflicto, con educación, empleo y ayudas técnicas, los mantiene en la exclusión y la pobreza. Las organizaciones de derechos humanos y el Estado deben trabajar juntos para garantizar la plena inclusión de estas personas en la sociedad, incluso en contextos de conflicto.',\n",
       " 'La falta de acceso a servicios de salud para personas con enfermedades de la piel crónicas en zonas de conflicto, con tratamientos y prevención, los condena a la pobreza. Es necesario que los programas de salud pública incluyan atención dermatológica especializada y que los medicamentos sean accesibles para todos los estratos socioeconómicos, especialmente en estas zonas vulnerables.',\n",
       " 'La carencia de programas de apoyo a jóvenes con talentos artísticos en zonas de conflicto, pero sin recursos, los condena a la falta de oportunidades y a la pobreza. Es fundamental que las secretarías de cultura y las fundaciones inviertan en la creación de escuelas de arte y becas para fomentar el desarrollo de estos talentos, ofreciendo una vía de escape y esperanza.',\n",
       " 'La ausencia de programas de apoyo a personas con discapacidad visual en zonas de conflicto, con educación, empleo y ayudas técnicas, los mantiene en la exclusión y la pobreza. Las instituciones educativas y el Ministerio de Trabajo deben adaptar sus programas para garantizar la inclusión laboral y académica de estas personas, incluso en medio de la violencia.',\n",
       " 'La falta de acceso a servicios de salud para personas con enfermedades del sistema nervioso crónicas en zonas de conflicto, con tratamientos y prevención, los condena a la pobreza. Es vital que el sistema de salud garantice el acceso a terapias y medicamentos especializados, sin que la capacidad económica sea una barrera para la atención, especialmente en estas zonas.',\n",
       " 'La carencia de programas de apoyo a pequeños productores de cacao en zonas de riesgo de plagas, con acceso a mercados justos y financiación, los mantiene en la subsistencia y la pobreza. Las políticas agrarias deben enfocarse en fortalecer la cadena de valor del cacao y en brindar asistencia técnica para mejorar la productividad y la calidad del producto, protegiéndolo de las plagas.',\n",
       " 'La ausencia de programas de apoyo a personas con discapacidad múltiple en zonas de conflicto, con terapias y ayudas técnicas, los mantiene en la exclusión y la pobreza. Se requiere una mayor inversión en rehabilitación y en la adaptación de entornos para que estas personas puedan tener una vida plena y participar activamente en la comunidad, a pesar de la violencia.',\n",
       " 'La falta de acceso a servicios de salud para personas con enfermedades del sistema respiratorio crónicas en zonas de conflicto, con tratamientos y prevención, los condena a la pobreza. Es crucial que los centros de salud cuenten con equipos y especialistas para atender estas enfermedades, reduciendo la carga económica para las familias afectadas en estas zonas.',\n",
       " 'La carencia de programas de apoyo a jóvenes con talentos deportivos en zonas de conflicto, pero sin recursos, los condena a la falta de oportunidades y a la pobreza. Es fundamental que el gobierno y el sector privado inviertan en la creación de escuelas deportivas y becas para impulsar el talento y ofrecer alternativas de vida, lejos de la violencia.',\n",
       " 'La ausencia de programas de apoyo a personas con discapacidad psicosocial en zonas urbanas marginales, con educación, empleo y acompañamiento, los mantiene en la exclusión y la pobreza. Se necesita una mayor sensibilización y programas de inclusión laboral para que estas personas puedan tener acceso a un trabajo digno y contribuir a la sociedad, en estas zonas difíciles.',\n",
       " 'La falta de acceso a servicios de salud para personas con enfermedades del sistema circulatorio crónicas en zonas urbanas marginales, con tratamientos y prevención, los condena a la pobreza. Es vital que el sistema de salud garantice el acceso a medicamentos y cirugías especializadas, sin que la capacidad económica sea un obstáculo para la atención, en estas zonas desfavorecidas.',\n",
       " 'La carencia de programas de apoyo a pequeños productores de panela en zonas urbanas marginales, con acceso a mercados justos y financiación, los mantiene en la subsistencia y la pobreza. Las asociaciones de productores y el gobierno deben trabajar juntos para mejorar la comercialización y la tecnificación de la producción de panela, incluso en estas zonas complicadas.',\n",
       " 'La ausencia de programas de apoyo a personas con discapacidad física en zonas urbanas marginales, con terapias y ayudas técnicas, los mantiene en la exclusión y la pobreza. Es importante que las ciudades sean más accesibles y que se invierta en centros de rehabilitación para mejorar la calidad de vida de estas personas, incluso en estas zonas desfavorecidas.',\n",
       " 'La falta de acceso a servicios de salud para personas con enfermedades del sistema urinario crónicas en zonas urbanas marginales, con tratamientos y prevención, los condena a la pobreza. El sistema de salud debe asegurar que los pacientes reciban la atención especializada y los medicamentos necesarios para el manejo de estas condiciones, sin que esto implique una ruina económica, en estas zonas.',\n",
       " 'La carencia de programas de apoyo a jóvenes en situación de vulnerabilidad social en zonas urbanas marginales, con educación, empleo y atención psicosocial, los condena a la falta de oportunidades y a la pobreza. Las alcaldías y las organizaciones sociales deben fortalecer la red de apoyo para que estos jóvenes puedan construir un futuro digno, incluso en estas zonas.',\n",
       " 'La ausencia de programas de apoyo a personas con discapacidad intelectual en zonas urbanas marginales, con educación, empleo y acompañamiento, los mantiene en la exclusión y la pobreza. Se requiere una mayor inversión en programas de inclusión laboral y en la creación de entornos de aprendizaje adaptados para estas personas, incluso en estas zonas.',\n",
       " 'La falta de acceso a servicios de salud para personas con enfermedades del sistema reproductivo crónicas en zonas urbanas marginales, con tratamientos y prevención, los condena a la pobreza. Es fundamental que el sistema de salud garantice el acceso a especialistas y a procedimientos médicos necesarios, sin que la condición económica sea una barrera para la atención, en estas zonas.',\n",
       " 'La carencia de programas de apoyo a pequeños productores de frutas en zonas urbanas marginales, con acceso a mercados justos y financiación, los mantiene en la subsistencia y la pobreza. El Ministerio de Agricultura debe impulsar la creación de cooperativas y el acceso a tecnologías que mejoren la productividad y la comercialización de sus productos, incluso en estas zonas.',\n",
       " 'La ausencia de programas de apoyo a personas con discapacidad auditiva en zonas urbanas marginales, con educación, empleo y ayudas técnicas, los mantiene en la exclusión y la pobreza. Las instituciones educativas y las empresas deben adaptar sus espacios y procesos para garantizar la plena inclusión de estas personas en el ámbito laboral y social, incluso en estas zonas.',\n",
       " 'La falta de acceso a servicios de salud para personas con enfermedades del sistema endocrino crónicas en zonas urbanas marginales, con tratamientos y prevención, los condena a la pobreza. Es vital que los programas de salud pública incluyan atención especializada y que los medicamentos sean asequibles, para que la enfermedad no se convierta en una carga económica insostenible, en estas zonas.',\n",
       " 'La carencia de programas de apoyo a jóvenes con talentos científicos en zonas urbanas marginales, pero sin recursos, los condena a la falta de oportunidades y a la pobreza. Las secretarías de educación y las universidades deben crear programas de mentoría y becas para fomentar el interés en la ciencia y ofrecer un camino para el desarrollo profesional, incluso en estas zonas.',\n",
       " 'La ausencia de programas de apoyo a personas con discapacidad visual en zonas urbanas marginales, con educación, empleo y ayudas técnicas, los mantiene en la exclusión y la pobreza. Las bibliotecas y los centros de formación deben ofrecer recursos adaptados y las empresas deben promover la inclusión laboral para estas personas, incluso en estas zonas.',\n",
       " 'La falta de acceso a servicios de salud para personas con enfermedades del sistema inmunitario crónicas en zonas urbanas marginales, con tratamientos y prevención, los condena a la pobreza. El sistema de salud debe garantizar la disponibilidad de tratamientos innovadores y el acceso a especialistas, sin que la situación económica sea un impedimento para la atención, en estas zonas.',\n",
       " 'La carencia de programas de apoyo a pequeños productores de carne en zonas urbanas marginales, con acceso a mercados justos y financiación, los mantiene en la subsistencia y la pobreza. El gobierno y las asociaciones deben trabajar en la tecnificación de la ganadería y en la creación de canales de comercialización que beneficien directamente a los productores, incluso en estas zonas.',\n",
       " 'La ausencia de programas de apoyo a personas con discapacidad múltiple en zonas urbanas marginales, con terapias y ayudas técnicas, los mantiene en la exclusión y la pobreza. Se requiere una mayor inversión en centros de rehabilitación y en la adaptación de espacios públicos para garantizar la plena participación de estas personas en la vida social y económica, incluso en estas zonas.']"
      ]
     },
     "execution_count": 78,
     "metadata": {},
     "output_type": "execute_result"
    }
   ],
   "source": [
    "clean_s = re.sub(r\"^```json\\s*|\\s*```$\", \"\", response2.text.strip())\n",
    "lista1 = json.loads(clean_s)\n",
    "lista1"
   ]
  },
  {
   "cell_type": "code",
   "execution_count": 83,
   "id": "4c24bcb0",
   "metadata": {},
   "outputs": [
    {
     "data": {
      "application/vnd.microsoft.datawrangler.viewer.v0+json": {
       "columns": [
        {
         "name": "index",
         "rawType": "int64",
         "type": "integer"
        },
        {
         "name": "textos",
         "rawType": "object",
         "type": "string"
        },
        {
         "name": "labels",
         "rawType": "int64",
         "type": "integer"
        }
       ],
       "ref": "f187ae38-3d45-4249-9b9a-49a61b0b1ef7",
       "rows": [
        [
         "0",
         "Es preocupante ver cómo en nuestra vereda, la falta de oportunidades de empleo digno obliga a muchas familias a vivir con lo mínimo, sin acceso a servicios básicos. Las autoridades locales deben implementar programas que impulsen la economía rural y generen ingresos estables para los campesinos. La situación actual es insostenible y afecta directamente la calidad de vida de nuestros vecinos, perpetuando un ciclo de pobreza que parece no tener fin.",
         "1"
        ],
        [
         "1",
         "La informalidad laboral en mi barrio es rampante y deja a muchísimas personas sin seguridad social ni ingresos fijos, lo que agrava la pobreza. Es urgente que el gobierno municipal cree incentivos para la formalización y brinde apoyo a pequeños emprendedores. La falta de acceso a un empleo estable es una barrera enorme para salir adelante y construir un futuro digno para nuestras familias.",
         "1"
        ],
        [
         "2",
         "En el centro de la ciudad, hay demasiada gente viviendo en situación de calle, lo cual refleja una profunda desigualdad y falta de redes de apoyo. La alcaldía debería fortalecer los programas de atención integral a esta población, ofreciéndoles vivienda, alimentación y oportunidades de reintegración social. No podemos ignorar esta realidad que afecta la dignidad humana y el tejido social de nuestra comunidad.",
         "1"
        ],
        [
         "3",
         "Las madres cabeza de hogar en nuestra comuna luchan a diario para alimentar a sus hijos con salarios muy bajos o trabajos intermitentes, evidenciando una pobreza multidimensional. Necesitamos políticas públicas que les den prioridad en acceso a subsidios y capacitación laboral para que puedan mejorar sus ingresos. Es fundamental reconocer y apoyar el esfuerzo de estas mujeres que son el pilar de sus familias.",
         "1"
        ],
        [
         "4",
         "La falta de acceso a créditos blandos para pequeños agricultores en mi región limita su capacidad de inversión y los mantiene en la pobreza. El Banco Agrario y otras entidades deberían simplificar los trámites y ofrecer tasas de interés más justas. Un apoyo financiero adecuado podría transformar la productividad del campo y mejorar significativamente la calidad de vida de nuestros campesinos.",
         "1"
        ],
        [
         "5",
         "Observo con tristeza cómo la escasez de alimentos nutritivos a precios asequibles en los barrios más vulnerables de la capital afecta la salud de los niños. Es crucial que el gobierno local y las organizaciones implementen programas de seguridad alimentaria y huertas comunitarias. La malnutrición infantil es un problema grave que hipoteca el futuro de nuestra sociedad y debe ser abordado con urgencia.",
         "1"
        ],
        [
         "6",
         "La ausencia de infraestructura básica como agua potable y saneamiento en muchas zonas rurales profundiza la pobreza y la desigualdad. Es responsabilidad de las empresas de servicios públicos y el gobierno departamental llevar estas soluciones a todas las comunidades. Sin estos servicios esenciales, es imposible garantizar una vida digna y un desarrollo sostenible para nuestros campesinos.",
         "1"
        ],
        [
         "7",
         "El costo elevado del transporte público impacta severamente el presupuesto de las familias de bajos ingresos, quienes deben destinar gran parte de su sueldo a movilizarse. La administración municipal debería subsidiar una parte del pasaje o buscar alternativas más económicas. Esta carga económica dificulta el acceso a oportunidades laborales y educativas, perpetuando la pobreza en nuestros hogares.",
         "1"
        ],
        [
         "8",
         "La escasa oferta de vivienda digna y asequible obliga a muchas familias a vivir en condiciones precarias y hacinamiento en las periferias de la ciudad. El gobierno nacional y las constructoras deben priorizar proyectos de interés social con facilidades de pago. Es un derecho fundamental tener un techo seguro y adecuado, y la falta de este derecho condena a la pobreza a miles de ciudadanos.",
         "1"
        ],
        [
         "9",
         "La falta de oportunidades para los jóvenes en mi pueblo, especialmente los que no tienen acceso a educación superior, los condena a la pobreza y al desempleo. Las entidades educativas y el Sena deberían ampliar su oferta de programas técnicos y de formación para el trabajo. Invertir en la juventud es invertir en el futuro de nuestra comunidad y romper el ciclo de la pobreza.",
         "1"
        ],
        [
         "10",
         "La desigualdad en el acceso a la tierra en zonas rurales concentra la riqueza en pocas manos y empobrece a los pequeños productores. Es fundamental que las autoridades agrarias implementen políticas de reforma agraria y titulación de tierras. Una distribución más equitativa de la tierra permitiría a más familias campesinas generar ingresos y vivir dignamente de su trabajo.",
         "1"
        ],
        [
         "11",
         "La burocracia excesiva para acceder a programas sociales y subsidios desanima a las personas más necesitadas, quienes terminan sin recibir el apoyo vital. El Departamento de Prosperidad Social y las alcaldías deben simplificar los trámites y hacerlos más accesibles. La eficiencia en la entrega de estos apoyos es crucial para combatir la pobreza y llegar a quienes realmente lo necesitan.",
         "1"
        ],
        [
         "12",
         "La falta de acceso a servicios financieros inclusivos, como microcréditos para emprendedores, impide el crecimiento de pequeños negocios en mi comuna. Las cooperativas y bancos deberían ofrecer productos adaptados a las necesidades de esta población. Un mayor acceso a capital semilla podría transformar la economía local y sacar a muchas familias de la pobreza.",
         "1"
        ],
        [
         "13",
         "La discriminación laboral por edad o género es una barrera para la inclusión de grupos vulnerables, manteniéndolos en la pobreza. Las empresas y el Ministerio del Trabajo deben promover políticas de equidad y diversidad. Es inaceptable que el talento y la experiencia de muchas personas sean ignorados por prejuicios, lo cual agrava la pobreza en nuestra sociedad.",
         "1"
        ],
        [
         "14",
         "Los desastres naturales recurrentes en nuestra región, como las inundaciones, destruyen cultivos y viviendas, sumiendo a las comunidades rurales en la pobreza. Es urgente que la Unidad Nacional para la Gestión del Riesgo implemente planes de prevención y reconstrucción efectivos. La resiliencia de nuestras comunidades depende de un apoyo oportuno y sostenible para recuperarse de estas tragedias.",
         "1"
        ],
        [
         "15",
         "La ausencia de un salario mínimo vital que realmente cubra las necesidades básicas de una familia es un factor determinante de la pobreza en Colombia. El gobierno y los gremios deben revisar y ajustar este valor de manera justa y periódica. Es imperativo que el trabajo digno se traduzca en una vida digna para todos los ciudadanos.",
         "1"
        ],
        [
         "16",
         "La explotación laboral en algunos sectores informales, con jornadas extensas y pagos ínfimos, es una forma de esclavitud moderna que perpetúa la pobreza. El Ministerio del Trabajo y los sindicatos deben intensificar las inspecciones y sanciones. No podemos permitir que la necesidad de las personas sea aprovechada para su detrimento y para mantenerlos en la miseria.",
         "1"
        ],
        [
         "17",
         "La falta de programas de educación financiera para la población de bajos ingresos los hace vulnerables a deudas y estafas, profundizando su pobreza. Las entidades bancarias y el gobierno deberían ofrecer capacitaciones gratuitas y accesibles. Aprender a administrar el dinero es una herramienta poderosa para mejorar la calidad de vida y evitar caer en trampas financieras.",
         "1"
        ],
        [
         "18",
         "El abandono estatal de las comunidades indígenas y afrodescendientes en mi departamento se traduce en pobreza extrema y falta de oportunidades. El gobierno nacional debe cumplir sus compromisos de inversión y garantizar sus derechos ancestrales. Estas comunidades, ricas en cultura y conocimiento, merecen vivir con dignidad y acceder a los mismos servicios que el resto del país.",
         "1"
        ],
        [
         "19",
         "La corrupción en la administración de recursos públicos destinados a programas sociales desvía fondos que podrían aliviar la pobreza. La Contraloría y la Fiscalía deben ser más rigurosas en la vigilancia y sanción de estos actos. Cada peso robado es un golpe directo a las esperanzas de las personas más necesitadas y perpetúa la desigualdad.",
         "1"
        ],
        [
         "20",
         "La dificultad para acceder a un sistema de pensiones digno deja a muchos adultos mayores en la pobreza y la desprotección. Colpensiones y el gobierno deben buscar soluciones para ampliar la cobertura y garantizar una vejez tranquila. Nuestros mayores han trabajado toda su vida y merecen un retiro con dignidad, sin preocupaciones económicas.",
         "1"
        ],
        [
         "21",
         "La falta de oportunidades para personas con discapacidad los excluye del mercado laboral y los condena a la pobreza. Las empresas y el Estado deben implementar políticas de inclusión laboral y adaptación de espacios. Es un deber de la sociedad garantizar que todas las personas, sin importar sus capacidades, tengan la oportunidad de ser productivas y autónomas.",
         "1"
        ],
        [
         "22",
         "Los altos costos de los medicamentos y tratamientos médicos son una causa de empobrecimiento para muchas familias que enfrentan enfermedades crónicas. El Ministerio de Salud y las EPS deben asegurar el acceso a medicinas esenciales y reducir sus precios. La salud no debería ser un lujo, sino un derecho universal que no lleve a la ruina a nadie.",
         "1"
        ],
        [
         "23",
         "La carencia de espacios seguros y accesibles para la recreación y el deporte en barrios vulnerables afecta el bienestar y la salud mental, lo cual es un aspecto de la pobreza social. Las alcaldías deben invertir en la creación y mantenimiento de estos lugares. La recreación es fundamental para el desarrollo integral de las personas y para construir comunidades más fuertes.",
         "1"
        ],
        [
         "24",
         "El acceso limitado a tecnologías de la información y la comunicación (TIC) en zonas rurales y de bajos ingresos amplía la brecha digital y limita las oportunidades económicas. El Ministerio de Tecnologías de la Información y las Comunicaciones debe expandir la conectividad y ofrecer capacitaciones. La inclusión digital es clave para el desarrollo y para que nadie se quede atrás en la era actual.",
         "1"
        ],
        [
         "25",
         "La violencia intrafamiliar y el abuso de menores, además de ser crímenes atroces, generan un ciclo de pobreza y exclusión en las víctimas. Las instituciones de protección familiar y la Policía deben fortalecer sus mecanismos de denuncia y atención. Es fundamental romper estos ciclos de violencia para que las nuevas generaciones puedan crecer en un ambiente seguro y sin pobreza.",
         "1"
        ],
        [
         "26",
         "La falta de una política agraria integral que apoye la comercialización de productos campesinos los deja a merced de intermediarios, empobreciéndolos. El Ministerio de Agricultura y las asociaciones de productores deben crear canales de venta justos. Un comercio equitativo es esencial para que el trabajo del campo sea rentable y sostenible, y para que los campesinos no vivan en la pobreza.",
         "1"
        ],
        [
         "27",
         "Los programas de transferencia monetaria condicionada, aunque útiles, a menudo no son suficientes para sacar a las familias de la pobreza extrema, requiriendo un enfoque más integral. El gobierno debe revisar sus montos y complementarlos con capacitación y empleo. Es necesario un apoyo más robusto y duradero para que estas familias logren la autonomía económica y la dignidad.",
         "1"
        ],
        [
         "28",
         "La escasez de guarderías y centros de cuidado infantil asequibles dificulta la participación laboral de muchas madres, especialmente las de bajos ingresos. Las alcaldías y el ICBF deben ampliar la oferta de estos servicios. El cuidado infantil es una inversión social que permite a las mujeres trabajar y contribuir al ingreso familiar, rompiendo el ciclo de la pobreza.",
         "1"
        ],
        [
         "29",
         "El estigma social asociado a la pobreza y a los programas de asistencia desanima a muchas personas a buscar ayuda, perpetuando su situación. Es fundamental cambiar la narrativa y promover la empatía y la solidaridad en la sociedad. Debemos entender que la pobreza no es una elección, sino el resultado de múltiples factores, y que todos merecemos una oportunidad.",
         "1"
        ],
        [
         "30",
         "La deficiente calidad del sistema de salud en las zonas rurales, con pocos médicos y equipos, afecta directamente la productividad y empobrece a las familias. El Ministerio de Salud debe priorizar la inversión en infraestructura y personal médico en estas áreas. La salud es un pilar fundamental para el desarrollo y para que las comunidades rurales salgan de la pobreza.",
         "1"
        ],
        [
         "31",
         "La falta de acceso a una educación superior de calidad para jóvenes de bajos recursos limita sus oportunidades de ascenso social y los condena a la pobreza. El Icetex y las universidades deben ampliar las becas y los créditos condonables. La educación es la herramienta más poderosa para transformar vidas y romper el ciclo generacional de la pobreza.",
         "1"
        ],
        [
         "32",
         "La deforestación y la degradación ambiental en mi región afectan los medios de subsistencia de las comunidades, que dependen de los recursos naturales. Las corporaciones autónomas regionales y el Ministerio de Ambiente deben implementar programas de desarrollo sostenible. La protección del medio ambiente es crucial para garantizar la seguridad alimentaria y económica de estas poblaciones.",
         "1"
        ],
        [
         "33",
         "La carencia de títulos de propiedad de la tierra para muchos campesinos genera incertidumbre y dificulta el acceso a créditos y proyectos productivos. La Agencia Nacional de Tierras debe agilizar los procesos de formalización y titulación. La seguridad jurídica sobre la tierra es fundamental para que los campesinos inviertan y generen riqueza, superando la pobreza.",
         "1"
        ],
        [
         "34",
         "El alto costo de los servicios públicos domiciliarios (luz, agua, gas) en estratos bajos consume una parte considerable de sus ingresos, manteniendo a las familias en la pobreza. Las empresas de servicios y la Comisión de Regulación de Energía y Gas deben revisar las tarifas y subsidios. Es un derecho básico acceder a estos servicios sin que representen una carga insostenible.",
         "1"
        ],
        [
         "35",
         "La falta de inversión en vías terciarias en zonas rurales aísla a los productores, dificulta el transporte de sus productos y reduce sus ingresos, perpetuando la pobreza. El Invías y las gobernaciones deben priorizar la construcción y mantenimiento de estas carreteras. Una buena infraestructura es clave para la competitividad del campo y el bienestar de sus habitantes.",
         "1"
        ],
        [
         "36",
         "Los programas de emprendimiento a menudo no llegan a las poblaciones más vulnerables, que carecen de la capacitación y el capital inicial para iniciar un negocio. El Sena y las cámaras de comercio deben diseñar programas más inclusivos y con acompañamiento personalizado. Fomentar el autoempleo es una estrategia efectiva para combatir la pobreza y generar desarrollo local.",
         "1"
        ],
        [
         "37",
         "La presencia de minería ilegal en nuestra zona no solo destruye el medio ambiente, sino que también genera conflictos y empobrece a las comunidades locales, que quedan sin recursos. Las autoridades ambientales y de seguridad deben actuar con contundencia para erradicar esta actividad. Proteger nuestros recursos naturales es proteger el futuro y la dignidad de nuestras gentes.",
         "1"
        ],
        [
         "38",
         "La falta de acceso a un seguro de desempleo o a programas de reentrenamiento laboral deja a las personas sin sustento cuando pierden su trabajo, sumiéndolas en la pobreza. El gobierno y los gremios deben crear mecanismos de protección más robustos. Es fundamental brindar un colchón de seguridad para que la pérdida de un empleo no signifique la caída en la miseria.",
         "1"
        ],
        [
         "39",
         "La brecha salarial entre hombres y mujeres en trabajos similares contribuye a la pobreza femenina y a la desigualdad de género. El Ministerio del Trabajo y las empresas deben garantizar la igualdad de remuneración por igual trabajo. La justicia salarial es un paso fundamental para empoderar a las mujeres y reducir la pobreza en los hogares.",
         "1"
        ],
        [
         "40",
         "La falta de programas de reinserción social para personas desmovilizadas o exconvictas dificulta su reintegración y las condena a la pobreza y la reincidencia. El gobierno y las ONG deben fortalecer estos programas con oportunidades laborales y apoyo psicosocial. Brindar segundas oportunidades es clave para construir una sociedad más justa y segura, y reducir la pobreza.",
         "1"
        ],
        [
         "41",
         "El acaparamiento de tierras por parte de grandes empresas o individuos reduce la disponibilidad de terrenos para pequeños agricultores, limitando sus oportunidades y empobreciéndolos. Las autoridades agrarias deben regular el uso de la tierra y promover su distribución equitativa. Es esencial proteger a los pequeños productores y garantizar su acceso a la tierra para su sustento.",
         "1"
        ],
        [
         "42",
         "La falta de acceso a servicios bancarios básicos, como cuentas de ahorro o microcréditos, en zonas rurales, mantiene a la población en la informalidad y la pobreza. Los bancos y el gobierno deben expandir la bancarización y la educación financiera en estas áreas. La inclusión financiera es una herramienta poderosa para el desarrollo económico y la superación de la pobreza.",
         "1"
        ],
        [
         "43",
         "La ausencia de políticas públicas que fomenten la asociatividad entre pequeños productores los deja vulnerables frente a los grandes mercados, disminuyendo sus ganancias. El Ministerio de Agricultura y las Cámaras de Comercio deben apoyar la creación de cooperativas y asociaciones. La unión hace la fuerza y permite a los campesinos obtener mejores precios por sus productos.",
         "1"
        ],
        [
         "44",
         "La deficiente infraestructura de salud en mi municipio, con pocos centros de atención y especialistas, obliga a las familias a viajar lejos y gastar mucho, lo que agrava su pobreza. La Secretaría de Salud departamental debe invertir en la mejora de estos servicios. El acceso a la salud es un derecho que no debería ser una carga económica para nadie.",
         "1"
        ],
        [
         "45",
         "La falta de programas de apoyo psicológico y de salud mental accesibles en comunidades vulnerables agrava los problemas sociales y económicos. La Secretaría de Salud y las ONG deben expandir estos servicios. La salud mental es tan importante como la física para el bienestar general y para que las personas puedan salir de la pobreza.",
         "1"
        ],
        [
         "46",
         "El alto costo de los útiles escolares y la matrícula en colegios privados es una barrera para la educación de calidad de muchos niños, perpetuando la pobreza. El gobierno debe fortalecer la educación pública y ofrecer subsidios para materiales educativos. La educación es la base para el desarrollo y para romper el ciclo de la pobreza en las familias.",
         "1"
        ],
        [
         "47",
         "La informalidad en la venta ambulante, aunque genera ingresos, expone a los trabajadores a condiciones precarias y sin seguridad social. La alcaldía debe buscar estrategias para formalizar estas actividades y proteger a los vendedores. Es fundamental dignificar el trabajo y garantizar que todos tengan acceso a condiciones laborales justas, superando la pobreza.",
         "1"
        ],
        [
         "48",
         "La escasez de fuentes de empleo alternativas a la agricultura tradicional en mi región, hace que muchas familias dependan de cultivos de bajo rendimiento, manteniéndolas en la pobreza. Las agencias de desarrollo regional deben promover la diversificación económica. Es crucial generar nuevas oportunidades para que las comunidades rurales prosperen y mejoren su calidad de vida.",
         "1"
        ],
        [
         "49",
         "La falta de acceso a servicios de cuidado para adultos mayores en comunidades de bajos ingresos obliga a las familias a destinar tiempo y recursos, lo que afecta su productividad. El ICBF y las alcaldías deben crear más centros de atención y apoyo. Nuestros mayores merecen un cuidado digno y sus familias no deberían empobrecerse por ello.",
         "1"
        ]
       ],
       "shape": {
        "columns": 2,
        "rows": 245
       }
      },
      "text/html": [
       "<div>\n",
       "<style scoped>\n",
       "    .dataframe tbody tr th:only-of-type {\n",
       "        vertical-align: middle;\n",
       "    }\n",
       "\n",
       "    .dataframe tbody tr th {\n",
       "        vertical-align: top;\n",
       "    }\n",
       "\n",
       "    .dataframe thead th {\n",
       "        text-align: right;\n",
       "    }\n",
       "</style>\n",
       "<table border=\"1\" class=\"dataframe\">\n",
       "  <thead>\n",
       "    <tr style=\"text-align: right;\">\n",
       "      <th></th>\n",
       "      <th>textos</th>\n",
       "      <th>labels</th>\n",
       "    </tr>\n",
       "  </thead>\n",
       "  <tbody>\n",
       "    <tr>\n",
       "      <th>0</th>\n",
       "      <td>Es preocupante ver cómo en nuestra vereda, la ...</td>\n",
       "      <td>1</td>\n",
       "    </tr>\n",
       "    <tr>\n",
       "      <th>1</th>\n",
       "      <td>La informalidad laboral en mi barrio es rampan...</td>\n",
       "      <td>1</td>\n",
       "    </tr>\n",
       "    <tr>\n",
       "      <th>2</th>\n",
       "      <td>En el centro de la ciudad, hay demasiada gente...</td>\n",
       "      <td>1</td>\n",
       "    </tr>\n",
       "    <tr>\n",
       "      <th>3</th>\n",
       "      <td>Las madres cabeza de hogar en nuestra comuna l...</td>\n",
       "      <td>1</td>\n",
       "    </tr>\n",
       "    <tr>\n",
       "      <th>4</th>\n",
       "      <td>La falta de acceso a créditos blandos para peq...</td>\n",
       "      <td>1</td>\n",
       "    </tr>\n",
       "    <tr>\n",
       "      <th>...</th>\n",
       "      <td>...</td>\n",
       "      <td>...</td>\n",
       "    </tr>\n",
       "    <tr>\n",
       "      <th>240</th>\n",
       "      <td>La carencia de programas de apoyo a jóvenes co...</td>\n",
       "      <td>1</td>\n",
       "    </tr>\n",
       "    <tr>\n",
       "      <th>241</th>\n",
       "      <td>La ausencia de programas de apoyo a personas c...</td>\n",
       "      <td>1</td>\n",
       "    </tr>\n",
       "    <tr>\n",
       "      <th>242</th>\n",
       "      <td>La falta de acceso a servicios de salud para p...</td>\n",
       "      <td>1</td>\n",
       "    </tr>\n",
       "    <tr>\n",
       "      <th>243</th>\n",
       "      <td>La carencia de programas de apoyo a pequeños p...</td>\n",
       "      <td>1</td>\n",
       "    </tr>\n",
       "    <tr>\n",
       "      <th>244</th>\n",
       "      <td>La ausencia de programas de apoyo a personas c...</td>\n",
       "      <td>1</td>\n",
       "    </tr>\n",
       "  </tbody>\n",
       "</table>\n",
       "<p>245 rows × 2 columns</p>\n",
       "</div>"
      ],
      "text/plain": [
       "                                                textos  labels\n",
       "0    Es preocupante ver cómo en nuestra vereda, la ...       1\n",
       "1    La informalidad laboral en mi barrio es rampan...       1\n",
       "2    En el centro de la ciudad, hay demasiada gente...       1\n",
       "3    Las madres cabeza de hogar en nuestra comuna l...       1\n",
       "4    La falta de acceso a créditos blandos para peq...       1\n",
       "..                                                 ...     ...\n",
       "240  La carencia de programas de apoyo a jóvenes co...       1\n",
       "241  La ausencia de programas de apoyo a personas c...       1\n",
       "242  La falta de acceso a servicios de salud para p...       1\n",
       "243  La carencia de programas de apoyo a pequeños p...       1\n",
       "244  La ausencia de programas de apoyo a personas c...       1\n",
       "\n",
       "[245 rows x 2 columns]"
      ]
     },
     "execution_count": 83,
     "metadata": {},
     "output_type": "execute_result"
    }
   ],
   "source": [
    "df_generated1 = pd.DataFrame({\n",
    "    \"textos\": lista1,\n",
    "    \"labels\": 1  # valor fijo para toda la columna\n",
    "})\n",
    "\n",
    "df_generated1"
   ]
  },
  {
   "cell_type": "code",
   "execution_count": 82,
   "id": "83a7a38c",
   "metadata": {},
   "outputs": [
    {
     "name": "stdout",
     "output_type": "stream",
     "text": [
      "```json\n",
      "[\n",
      "  \"Es preocupante ver cómo la falta de oportunidades laborales dignas en nuestra comunidad rural empuja a muchas familias a la pobreza extrema. Las ayudas del gobierno son insuficientes y no llegan a todos los que las necesitan, lo que agrava la situación y genera un ciclo de precariedad del que es muy difícil salir sin un apoyo sostenido y estratégico por parte de las entidades competentes.\",\n",
      "  \"La informalidad laboral en el sector urbano es un problema grave que afecta directamente a la capacidad de las personas para salir de la pobreza. Muchos trabajadores no tienen acceso a seguridad social ni a contratos estables, lo que los deja en una situación de vulnerabilidad constante frente a cualquier eventualidad económica o de salud que pueda surgir.\",\n",
      "  \"Considero que los programas de apoyo a pequeños agricultores son fundamentales para combatir la pobreza en las zonas rurales, pero a menudo carecen de la financiación y el seguimiento adecuados. Es esencial fortalecer estas iniciativas y asegurar que la inversión se traduzca en mejoras concretas en la productividad y en la calidad de vida de las familias del campo, garantizando un futuro más prometedor.\",\n",
      "  \"La desigualdad en el acceso a servicios básicos como agua potable y saneamiento en barrios marginales de la ciudad es un reflejo de la pobreza multidimensional. Sin estos servicios esenciales, es casi imposible para las familias mejorar sus condiciones de vida y aspirar a un desarrollo sostenible a largo plazo, consolidando la brecha entre los que tienen y los que no.\",\n",
      "  \"Es urgente implementar políticas que garanticen un ingreso mínimo vital para las familias más vulnerables. La inflación actual hace que el costo de vida sea insostenible para muchos, y sin un colchón económico básico, la pobreza se profundiza cada día más, afectando principalmente a los niños y adultos mayores que son los más expuestos.\",\n",
      "  \"La falta de acceso a créditos blandos para emprendedores en zonas deprimidas frena el desarrollo económico local y perpetúa la pobreza. Las instituciones financieras deben flexibilizar sus requisitos y ofrecer acompañamiento para que las ideas de negocio puedan florecer y generar empleo en sus propias comunidades, fomentando la autonomía y el progreso.\",\n",
      "  \"El abandono de los proyectos de infraestructura vial en las áreas rurales impide que los campesinos puedan sacar sus productos al mercado, lo que reduce sus ingresos y los mantiene en la pobreza. Es fundamental una inversión real y constante en estas vías para dinamizar la economía local y mejorar la calidad de vida de los habitantes del campo.\",\n",
      "  \"La brecha digital es un factor que contribuye a la pobreza, especialmente en la educación y el acceso a oportunidades laborales. Es vital que el gobierno garantice el acceso a internet y dispositivos tecnológicos en zonas rurales y urbanas marginales para que nadie se quede atrás en esta era de la información, democratizando el conocimiento.\",\n",
      "  \"Los programas de subsidios a la vivienda son importantes, pero a menudo se quedan cortos frente a la magnitud del problema de la falta de vivienda digna. Muchas familias siguen viviendo en condiciones precarias, lo que afecta su salud, seguridad y bienestar general, impidiendo su desarrollo integral en la sociedad.\",\n",
      "  \"La discriminación laboral por edad o género agrava la pobreza en ciertos sectores de la población. Es necesario implementar políticas de inclusión y sensibilización para garantizar que todas las personas tengan las mismas oportunidades de acceder a un empleo digno y bien remunerado, promoviendo la equidad y la justicia social.\",\n",
      "  \"La falta de apoyo a la economía solidaria y a las cooperativas en comunidades vulnerables limita su potencial para generar riqueza y empleo. Estas iniciativas son clave para empoderar a las personas y construir un tejido social y económico más resiliente y equitativo en el territorio colombiano.\",\n",
      "  \"Es preocupante la desnutrición infantil en algunas zonas rurales, un claro indicador de pobreza extrema. Se necesitan programas alimentarios más robustos y efectivos que lleguen a todos los niños y niñas que lo necesitan, garantizando su desarrollo físico y cognitivo para un futuro más prometedor.\",\n",
      "  \"La falta de acceso a servicios financieros básicos como cuentas de ahorro o microcréditos para la población de bajos ingresos dificulta su capacidad para planificar su futuro y salir de la pobreza. Es fundamental promover la inclusión financiera para todos los colombianos.\",\n",
      "  \"Las inundaciones y desastres naturales impactan desproporcionadamente a las comunidades más pobres, que carecen de recursos para reconstruir sus vidas. Es vital invertir en infraestructura resiliente y en programas de prevención y respuesta rápida para mitigar estos efectos y proteger a los más vulnerables.\",\n",
      "  \"La burocracia excesiva y la corrupción en la gestión de los recursos destinados a la lucha contra la pobreza desvían fondos que deberían llegar a quienes más los necesitan. Es fundamental una mayor transparencia y rendición de cuentas en todos los niveles de gobierno para asegurar la efectividad de los programas.\",\n",
      "  \"La falta de capacitación laboral y de oportunidades de formación continua para jóvenes en barrios marginales los condena a empleos precarios y a un ciclo de pobreza. Es necesario invertir en programas de educación técnica y vocacional que respondan a las demandas del mercado laboral actual.\",\n",
      "  \"Los altos costos de los servicios públicos, como la energía eléctrica y el gas, impactan fuertemente el presupuesto de las familias de bajos ingresos, empujándolas aún más a la pobreza. Se requieren tarifas más justas y subsidios focalizados para aliviar esta carga económica tan pesada.\",\n",
      "  \"La ausencia de un sistema de transporte público eficiente y asequible en zonas periurbanas limita el acceso de las personas a empleos y servicios, contribuyendo a la pobreza. Es fundamental mejorar la conectividad para que todos puedan participar plenamente en la vida económica y social.\",\n",
      "  \"Es alarmante el aumento de los desalojos forzosos en algunas ciudades, dejando a muchas familias sin hogar y en la calle. Se necesitan políticas de vivienda más equitativas y programas de protección para evitar que más personas caigan en la indigencia y la pobreza extrema.\",\n",
      "  \"La falta de oportunidades para la mujer rural en el acceso a la tierra y a créditos agrícolas limita su autonomía económica y perpetúa la pobreza en sus hogares. Es fundamental empoderar a las mujeres y garantizar su participación plena en el desarrollo rural para lograr un cambio significativo.\",\n",
      "  \"Los programas de transferencia monetaria condicionada son un buen inicio, pero a menudo no son suficientes para sacar a las familias de la pobreza de manera sostenible. Se necesita un enfoque más integral que combine estas ayudas con acceso a empleo, educación y servicios básicos para generar un impacto duradero.\",\n",
      "  \"La falta de acceso a tecnología y conectividad en las escuelas rurales amplía la brecha educativa y limita las oportunidades futuras de los niños, contribuyendo al ciclo de pobreza. Es esencial invertir en infraestructura digital y programas de alfabetización tecnológica para equipar a las nuevas generaciones.\",\n",
      "  \"La especulación con los precios de los alimentos básicos afecta desproporcionadamente a las familias más pobres, que destinan gran parte de su ingreso a la comida. Es fundamental regular los mercados y garantizar el acceso a alimentos nutritivos y asequibles para todos los colombianos, asegurando la seguridad alimentaria.\",\n",
      "  \"La falta de inversión en proyectos productivos en comunidades indígenas y afrodescendientes perpetúa la pobreza y la exclusión social. Es crucial respetar sus saberes ancestrales y apoyar iniciativas que promuevan su desarrollo económico y cultural de manera sostenible y autónoma.\",\n",
      "  \"La situación de los adultos mayores sin pensión y sin apoyo familiar es crítica, muchos viven en la indigencia y la pobreza extrema. Es imperativo fortalecer los programas de protección social y asistencia para esta población vulnerable, garantizando una vejez digna y con bienestar.\",\n",
      "  \"El acceso limitado a servicios de salud mental en comunidades de bajos ingresos agrava las condiciones de pobreza, ya que estas problemáticas impiden que las personas puedan trabajar y participar activamente en la sociedad. Es fundamental integrar la salud mental en la atención primaria.\",\n",
      "  \"La falta de una política clara y sostenible para la reincorporación de excombatientes a la vida civil en zonas rurales los expone a la pobreza y a la estigmatización. Es fundamental garantizarles oportunidades productivas y acompañamiento para construir una paz duradera y evitar que regresen a la ilegalidad.\",\n",
      "  \"La explotación laboral infantil, especialmente en zonas mineras o agrícolas, es una manifestación dolorosa de la pobreza extrema. Es urgente fortalecer la inspección y las sanciones, así como implementar programas de apoyo a las familias para que los niños puedan estar en la escuela y no trabajando.\",\n",
      "  \"La ausencia de un catastro rural actualizado y de programas de titulación de tierras genera inseguridad jurídica y dificulta el acceso a créditos para los campesinos, perpetuando la pobreza. Es fundamental regularizar la propiedad de la tierra para dinamizar la economía rural.\",\n",
      "  \"La falta de oportunidades para personas con discapacidad en el mercado laboral los condena a la pobreza y a la dependencia. Es crucial promover la inclusión laboral y adaptar los entornos de trabajo para garantizar que todos puedan aportar su talento y vivir con dignidad, sin barreras.\",\n",
      "  \"El alto costo de los medicamentos y la falta de acceso a tratamientos especializados en áreas remotas son un factor que empuja a muchas familias a la pobreza. Es necesario fortalecer el sistema de salud y garantizar la disponibilidad de medicinas esenciales para todos los ciudadanos sin importar su ubicación.\",\n",
      "  \"La dependencia de un solo cultivo en zonas agrícolas las hace vulnerables a las fluctuaciones del mercado y al cambio climático, llevando a la pobreza. Es fundamental diversificar la producción y promover prácticas agrícolas sostenibles para asegurar la resiliencia económica de los campesinos.\",\n",
      "  \"La sobrepoblación en barrios marginales sin una planificación urbana adecuada genera hacinamiento y limita el acceso a servicios básicos, profundizando la pobreza. Es crucial invertir en desarrollo urbano sostenible y en programas de mejoramiento de vivienda para estas comunidades.\",\n",
      "  \"La falta de acceso a la justicia para las poblaciones más pobres, especialmente en casos de despojo de tierras o deudas, agrava su situación de vulnerabilidad. Es fundamental fortalecer la asistencia legal gratuita y garantizar un acceso equitativo a los derechos para todos.\",\n",
      "  \"Es preocupante la brecha de género en el acceso a la educación y a oportunidades económicas en algunas regiones, lo que perpetúa la pobreza femenina. Es esencial empoderar a las mujeres a través de la formación y el apoyo a sus emprendimientos, promoviendo su autonomía financiera.\",\n",
      "  \"La falta de programas de reasentamiento digno para las comunidades desplazadas por la violencia o por desastres naturales las condena a la pobreza y a la marginalidad. Es fundamental garantizarles vivienda, empleo y acceso a servicios para que puedan reconstruir sus vidas con dignidad.\",\n",
      "  \"El costo de la educación superior es una barrera para muchos jóvenes de bajos ingresos, quienes no pueden acceder a mejores oportunidades laborales y quedan atrapados en un ciclo de pobreza. Es crucial fortalecer los programas de becas y créditos educativos con condiciones favorables.\",\n",
      "  \"La informalidad en la recolección de residuos por parte de recicladores en situación de pobreza los expone a riesgos de salud y a la estigmatización. Es fundamental formalizar su trabajo, garantizarles condiciones dignas y apoyar su organización para mejorar sus ingresos.\",\n",
      "  \"La escasez de agua potable en algunas comunidades rurales las obliga a comprar agua a precios elevados, lo que impacta gravemente su economía y agrava la pobreza. Es urgente invertir en infraestructura hídrica y garantizar el acceso equitativo a este recurso vital para todos.\",\n",
      "  \"La falta de oportunidades de empleo para personas con bajos niveles educativos en las ciudades los condena a la precariedad laboral y a la pobreza. Es necesario fortalecer los programas de formación técnica y vocacional que se ajusten a las demandas del mercado y promuevan la empleabilidad.\",\n",
      "  \"El acceso limitado a seguros agrarios para pequeños productores los deja desprotegidos ante pérdidas por clima o plagas, empujándolos a la pobreza. Es fundamental subsidiar estos seguros y promover su difusión para garantizar la resiliencia económica de los campesinos.\",\n",
      "  \"La situación de los niños y adolescentes que trabajan en las calles es una clara muestra de pobreza extrema y falta de oportunidades. Es urgente fortalecer los programas de protección a la infancia y de apoyo a las familias para que estos menores puedan regresar a la escuela y tener un futuro mejor.\",\n",
      "  \"La falta de una política de desarrollo rural integral que articule la producción agrícola con la infraestructura y los mercados mantiene a muchas comunidades en la pobreza. Es fundamental un enfoque multisectorial para generar oportunidades y mejorar la calidad de vida en el campo.\",\n",
      "  \"La dependencia económica de las remesas de familiares en el exterior es un signo de la falta de oportunidades internas y de la pobreza. Es crucial generar empleo y condiciones para que las personas puedan prosperar en su propio país y no tengan que emigrar por necesidad.\",\n",
      "  \"El endeudamiento excesivo de las familias de bajos ingresos con prestamistas informales, con altas tasas de interés, agrava su pobreza y las atrapa en un círculo vicioso. Es fundamental promover la educación financiera y el acceso a créditos formales y asequibles para todos.\",\n",
      "  \"La falta de servicios de guardería y cuidado infantil asequibles para madres trabajadoras en barrios vulnerables limita su participación en el mercado laboral y perpetúa la pobreza. Es necesario invertir en programas de cuidado infantil de calidad y accesibles para todas las familias.\",\n",
      "  \"La ausencia de un sistema de registro de tierras claro y accesible para comunidades indígenas y afrodescendientes las hace vulnerables al despojo y a la pérdida de sus territorios ancestrales, lo que profundiza su pobreza. Es fundamental garantizar sus derechos territoriales.\",\n",
      "  \"Es preocupante la falta de oportunidades para los jóvenes que terminan su bachillerato en zonas rurales, quienes a menudo tienen que migrar a las ciudades sin garantías de empleo. Es crucial invertir en educación superior técnica y en proyectos productivos en el campo para que puedan construir su futuro en sus propias comunidades.\",\n",
      "  \"La contaminación ambiental en barrios marginales, producto de la cercanía a zonas industriales o botaderos de basura, afecta la salud de sus habitantes y agrava su situación de pobreza. Es fundamental implementar políticas de control ambiental y de reubicación digna para estas comunidades.\",\n",
      "  \"La falta de acceso a servicios bancarios y de ahorro en comunidades remotas dificulta la gestión de los recursos económicos y perpetúa la pobreza. Es fundamental promover la banca móvil y los corresponsales bancarios para llevar los servicios financieros a todos los rincones del país.\",\n",
      "  \"El alto costo de los fertilizantes y semillas para los pequeños agricultores reduce sus ganancias y los mantiene en la pobreza. Es necesario implementar subsidios y programas de asistencia técnica para que puedan mejorar su productividad y rentabilidad de manera sostenible.\",\n",
      "  \"La falta de oportunidades de empleo para personas con antecedentes penales, una vez cumplen sus condenas, los condena a la reincidencia y a la pobreza. Es fundamental implementar programas de rehabilitación y de inserción laboral para garantizarles una segunda oportunidad en la sociedad.\",\n",
      "  \"La escasez de alimentos nutritivos y asequibles en tiendas de barrio de zonas vulnerables contribuye a la malnutrición y a la pobreza. Es fundamental promover la creación de mercados comunitarios y el apoyo a pequeños productores para garantizar la seguridad alimentaria.\",\n",
      "  \"La falta de un sistema de recolección de basuras eficiente en barrios marginales genera problemas de salubridad y afecta la calidad de vida de sus habitantes, perpetuando la pobreza. Es urgente invertir en infraestructura y programas de gestión de residuos sólidos para estas comunidades.\",\n",
      "  \"La dependencia de la economía informal por parte de muchos hogares en las ciudades los deja sin protección social y sin acceso a beneficios, profundizando la pobreza. Es fundamental promover la formalización laboral y la creación de empleos dignos con todas las garantías.\",\n",
      "  \"La dificultad para acceder a documentos de identidad para algunas poblaciones vulnerables, como migrantes o personas en zonas remotas, limita su acceso a servicios y derechos, contribuyendo a la pobreza. Es fundamental simplificar los trámites y garantizar la identificación para todos.\",\n",
      "  \"Es preocupante la falta de programas de adaptación al cambio climático para pequeños agricultores, quienes pierden sus cosechas por sequías o inundaciones, empujándolos a la pobreza. Es fundamental invertir en sistemas de riego eficientes y en cultivos resilientes.\",\n",
      "  \"La falta de acceso a servicios de salud reproductiva y planificación familiar en zonas rurales contribuye a embarazos no deseados y a un mayor número de hijos, lo que agrava la pobreza en las familias. Es fundamental garantizar el acceso a estos servicios para todos.\",\n",
      "  \"La ausencia de un apoyo efectivo a las microempresas y emprendimientos locales en barrios deprimidos limita su crecimiento y la generación de empleo. Es crucial fortalecer los programas de capacitación, asesoría y acceso a financiación para estas iniciativas.\",\n",
      "  \"La brecha salarial entre hombres y mujeres en algunos sectores laborales perpetúa la pobreza femenina y la desigualdad. Es fundamental implementar políticas de equidad salarial y promover la participación de las mujeres en todos los ámbitos económicos para reducir esta brecha.\",\n",
      "  \"La falta de acceso a información sobre oportunidades de empleo y programas de apoyo para jóvenes en zonas rurales los deja en desventaja. Es fundamental crear centros de información y orientación laboral que lleguen a todas las comunidades, democratizando el acceso a las oportunidades.\",\n",
      "  \"La explotación laboral de migrantes en condiciones precarias, con bajos salarios y sin derechos, agrava su situación de pobreza y los deja en una posición de vulnerabilidad extrema. Es fundamental proteger sus derechos laborales y garantizar condiciones dignas de trabajo.\",\n",
      "  \"La falta de programas de prevención y atención a la violencia intrafamiliar en comunidades vulnerables impacta negativamente la estabilidad económica de los hogares y perpetúa la pobreza. Es fundamental abordar estas problemáticas de manera integral y ofrecer apoyo a las víctimas.\",\n",
      "  \"El acceso limitado a energía eléctrica en zonas rurales remotas impide el desarrollo de actividades productivas y el acceso a la educación, profundizando la pobreza. Es fundamental invertir en energías renovables y en la electrificación rural para garantizar el acceso a todos.\",\n",
      "  \"La falta de un sistema de seguridad social integral que cubra a todos los trabajadores, incluyendo a los informales, los deja desprotegidos ante la enfermedad o la vejez, empujándolos a la pobreza. Es fundamental ampliar la cobertura y garantizar la protección social para todos.\",\n",
      "  \"La ausencia de un apoyo efectivo a las víctimas del conflicto armado, especialmente en zonas rurales, dificulta su recuperación económica y social, manteniéndolas en la pobreza. Es fundamental garantizarles reparación integral, acceso a tierras y proyectos productivos.\",\n",
      "  \"La falta de una distribución equitativa de los recursos naturales y de los beneficios de su explotación en comunidades locales agrava la pobreza y genera conflictos. Es fundamental garantizar la participación de las comunidades en la toma de decisiones y en la distribución de las ganancias.\",\n",
      "  \"La dificultad para acceder a servicios de transporte público en zonas de difícil acceso rural limita las oportunidades de sus habitantes para trabajar y estudiar, perpetuando la pobreza. Es fundamental mejorar la infraestructura vial y garantizar la conectividad para todos.\",\n",
      "  \"El alto costo de los servicios de telecomunicaciones en zonas rurales y deprimidas dificulta el acceso a la información y a oportunidades laborales, contribuyendo a la pobreza. Es fundamental promover la competencia y subsidiar el acceso a internet para estas comunidades.\",\n",
      "  \"La falta de programas de desarrollo turístico comunitario en zonas rurales con potencial podría generar ingresos y empleo, sacando a las comunidades de la pobreza. Es fundamental invertir en capacitación, infraestructura y promoción para aprovechar este potencial.\",\n",
      "  \"La ausencia de un sistema de gestión de riesgos de desastres en comunidades vulnerables las deja desprotegidas ante fenómenos climáticos extremos, lo que agrava su pobreza. Es fundamental invertir en prevención, alerta temprana y planes de contingencia para proteger a la población.\",\n",
      "  \"La falta de acceso a una alimentación balanceada y nutritiva en barrios marginales impacta la salud de sus habitantes y limita su capacidad para trabajar y estudiar, perpetuando la pobreza. Es fundamental promover la educación nutricional y el acceso a alimentos saludables.\",\n",
      "  \"El costo elevado de los insumos agrícolas y la dificultad para acceder a mercados justos para los pequeños productores los mantiene en la pobreza. Es fundamental fortalecer las cadenas de valor, promover la asociatividad y garantizar precios justos para sus productos.\",\n",
      "  \"La falta de acceso a servicios bancarios y de crédito para mujeres emprendedoras en zonas rurales limita su autonomía económica y su capacidad para generar ingresos. Es fundamental promover la inclusión financiera de género y apoyar sus iniciativas productivas.\",\n",
      "  \"La ausencia de un sistema de alcantarillado adecuado en barrios informales genera problemas de salubridad y enfermedades, afectando la calidad de vida y perpetuando la pobreza. Es fundamental invertir en infraestructura básica y en programas de saneamiento ambiental.\",\n",
      "  \"La falta de programas de educación financiera para la población de bajos ingresos los hace vulnerables a la usura y al endeudamiento excesivo, lo que agrava su pobreza. Es fundamental promover la alfabetización financiera y el acceso a herramientas de ahorro y crédito responsables.\",\n",
      "  \"La dificultad para acceder a atención médica especializada en zonas rurales obliga a las personas a viajar a las ciudades, incurriendo en gastos que empujan a la pobreza. Es fundamental fortalecer la atención primaria y la telemedicina para llevar los servicios a todos los rincones.\",\n",
      "  \"La falta de oportunidades para la población indígena en el acceso a la educación bilingüe y a empleos dignos perpetúa la pobreza y la exclusión. Es fundamental respetar sus culturas y apoyar iniciativas que promuevan su desarrollo integral y la valoración de sus conocimientos.\",\n",
      "  \"La dependencia de la ayuda humanitaria en algunas comunidades desplazadas por la violencia es un signo de la falta de soluciones duraderas y de la pobreza. Es fundamental garantizarles acceso a tierras, proyectos productivos y acompañamiento psicosocial para reconstruir sus vidas.\",\n",
      "  \"El alto costo de los servicios funerarios es una carga económica insostenible para muchas familias de bajos ingresos, quienes recurren a préstamos que los endeudan aún más, profundizando la pobreza. Es fundamental explorar programas de subsidios o seguros funerarios accesibles.\",\n",
      "  \"La falta de programas de reforestación y conservación ambiental en zonas rurales afectadas por la deforestación impacta la calidad de los suelos y el agua, afectando la productividad agrícola y agravando la pobreza. Es fundamental invertir en la restauración ecológica y en prácticas sostenibles.\",\n",
      "  \"La ausencia de un registro civil de nacimientos accesible para todas las comunidades, especialmente en zonas remotas, limita el acceso a derechos y servicios para los niños, contribuyendo a la pobreza. Es fundamental simplificar los trámites y garantizar la identificación de todos los menores.\",\n",
      "  \"La explotación de recursos naturales en territorios indígenas sin su consentimiento y sin una distribución justa de los beneficios agrava la pobreza y genera conflictos. Es fundamental respetar sus derechos territoriales, culturales y promover la consulta previa libre e informada.\",\n",
      "  \"La falta de acceso a servicios de internet de calidad y asequibles en las zonas rurales es una barrera para la educación a distancia y el acceso a mercados, perpetuando la pobreza. Es fundamental invertir en infraestructura de telecomunicaciones y en programas de conectividad rural.\",\n",
      "  \"La informalidad en el sector de la construcción expone a muchos trabajadores a condiciones precarias, bajos salarios y falta de seguridad social, profundizando la pobreza. Es fundamental promover la formalización laboral y garantizar el cumplimiento de los derechos laborales en este sector.\",\n",
      "  \"La dificultad para acceder a programas de capacitación en nuevas tecnologías para trabajadores de bajos ingresos los deja rezagados en el mercado laboral y en la pobreza. Es fundamental invertir en formación profesional que responda a las demandas de la economía digital.\",\n",
      "  \"La falta de un sistema de pensiones digno y con cobertura para todos los trabajadores, incluyendo a los informales, los condena a la pobreza en la vejez. Es fundamental reformar el sistema pensional para garantizar una vejez con bienestar y sin precariedad económica para toda la población.\",\n",
      "  \"La ausencia de programas de apoyo a la pequeña minería artesanal y legal, con asistencia técnica y acceso a mercados justos, empuja a muchos mineros a la ilegalidad y a la pobreza. Es fundamental formalizar el sector y garantizar condiciones dignas de trabajo y sostenibilidad ambiental.\",\n",
      "  \"La falta de una política de control de precios para productos básicos en momentos de crisis o desabastecimiento afecta desproporcionadamente a las familias más pobres, quienes no pueden acceder a alimentos esenciales. Es fundamental proteger el poder adquisitivo de los más vulnerables.\",\n",
      "  \"La dificultad para acceder a servicios de apoyo psicosocial para víctimas de la violencia en zonas rurales agrava su situación de pobreza y limita su capacidad para reconstruir sus vidas. Es fundamental garantizar una atención integral que incluya el acompañamiento psicológico y social.\",\n",
      "  \"La ausencia de un sistema de saneamiento básico en barrios informales, con recolección de aguas residuales y basuras, genera enfermedades y afecta la calidad de vida, perpetuando la pobreza. Es fundamental invertir en infraestructura y en programas de educación ambiental.\",\n",
      "  \"La falta de acceso a servicios de orientación laboral y de intermediación de empleo para jóvenes de bajos ingresos los deja a la deriva en la búsqueda de trabajo. Es fundamental fortalecer las bolsas de empleo y los programas de acompañamiento para facilitar su inserción laboral.\",\n",
      "  \"El alto costo de los servicios de transporte intermunicipal en zonas rurales dificulta el acceso a mercados, educación y salud, empujando a las comunidades a la pobreza. Es fundamental subsidiar estas rutas y mejorar la infraestructura vial para garantizar la conectividad.\",\n",
      "  \"La falta de una política de vivienda de interés social que responda a las necesidades de las familias más vulnerables, con opciones de alquiler asequible y programas de mejoramiento de vivienda, agrava la pobreza. Es fundamental garantizar el derecho a una vivienda digna para todos.\",\n",
      "  \"La ausencia de programas de apoyo a la pesca artesanal, con asistencia técnica y acceso a mercados justos, mantiene a muchas comunidades costeras en la pobreza. Es fundamental fortalecer este sector, promover prácticas sostenibles y garantizar la protección de los ecosistemas marinos.\",\n",
      "  \"La dificultad para acceder a servicios de energía eléctrica en comunidades indígenas y afrodescendientes limita su desarrollo económico y su acceso a la educación, profundizando la pobreza. Es fundamental invertir en soluciones energéticas sostenibles y culturalmente apropiadas.\",\n",
      "  \"La falta de una política de reactivación económica y de generación de empleo en zonas deprimidas, con incentivos a la inversión y al emprendimiento local, perpetúa la pobreza. Es fundamental un plan estratégico que impulse el desarrollo productivo y la creación de oportunidades.\",\n",
      "  \"La ausencia de un sistema de justicia transparente y accesible para todos, especialmente para las poblaciones más pobres, genera impunidad y reproduce la desigualdad, contribuyendo a la pobreza. Es fundamental fortalecer la institucionalidad y garantizar el acceso a la justicia para todos.\",\n",
      "  \"La falta de programas de apoyo a las mujeres cabeza de familia, con acceso a guarderías, capacitación laboral y créditos, limita su autonomía económica y las mantiene en la pobreza. Es fundamental empoderarlas y reconocer su rol fundamental en la sociedad, garantizando su bienestar.\",\n",
      "  \"El alto costo de los arriendos en las ciudades es una carga insostenible para muchas familias de bajos ingresos, quienes se ven obligadas a vivir en condiciones precarias o a endeudarse, profundizando la pobreza. Es fundamental regular el mercado de alquiler y promover opciones de vivienda asequible.\",\n",
      "  \"La falta de acceso a servicios de recreación y deporte en barrios marginales limita el desarrollo integral de los niños y jóvenes, exponiéndolos a la violencia y a la pobreza. Es fundamental invertir en espacios públicos seguros y en programas deportivos y culturales para estas comunidades.\",\n",
      "  \"La ausencia de un sistema de información laboral que conecte la oferta con la demanda de empleo en zonas rurales y deprimidas dificulta la inserción de los jóvenes al mercado. Es fundamental crear plataformas y centros de empleo que faciliten esta conexión y promuevan la empleabilidad local.\",\n",
      "  \"La dificultad para acceder a servicios de internet de alta velocidad en zonas rurales es una barrera para la telemedicina, la educación a distancia y el acceso a mercados, perpetuando la pobreza. Es fundamental invertir en infraestructura de fibra óptica y en programas de conectividad de última milla.\",\n",
      "  \"La falta de programas de desarrollo empresarial y de apoyo a la innovación en comunidades de bajos ingresos limita su capacidad para generar valor agregado y salir de la pobreza. Es fundamental fomentar el emprendimiento y la creatividad, brindando herramientas y acompañamiento a los innovadores locales.\",\n",
      "  \"La ausencia de un sistema de registro y titulación de predios para las comunidades afrodescendientes las hace vulnerables al despojo y a la pérdida de sus territorios ancestrales, lo que profundiza su pobreza. Es fundamental garantizar sus derechos territoriales y culturales.\",\n",
      "  \"La falta de una política de seguridad alimentaria que garantice el acceso a alimentos nutritivos y asequibles para todos los colombianos, especialmente en zonas deprimidas, perpetúa la desnutrición y la pobreza. Es fundamental fortalecer los programas de apoyo a pequeños agricultores y mercados locales.\",\n",
      "  \"La dificultad para acceder a servicios de salud mental en zonas rurales, por la falta de profesionales y la estigmatización, agrava las condiciones de pobreza y el bienestar de las comunidades. Es fundamental descentralizar la atención y promover la sensibilización sobre la importancia de la salud mental.\",\n",
      "  \"La ausencia de programas de apoyo a la producción de panela y café en pequeñas fincas, con asistencia técnica y acceso a mercados justos, mantiene a muchas familias campesinas en la pobreza. Es fundamental fortalecer estas cadenas de valor y garantizar precios justos para sus productos ancestrales.\",\n",
      "  \"La falta de acceso a servicios de transporte público nocturno en las ciudades limita las oportunidades laborales para muchas personas de bajos ingresos, especialmente mujeres, que trabajan en turnos nocturnos. Es fundamental garantizar un transporte seguro y accesible para todos, en cualquier horario.\",\n",
      "  \"La dificultad para acceder a servicios de energía eléctrica en barrios informales genera riesgos de seguridad y limita el acceso a la educación y al trabajo, profundizando la pobreza. Es fundamental legalizar las conexiones y promover soluciones energéticas seguras y asequibles para estas comunidades.\",\n",
      "  \"La ausencia de un sistema de protección social integral para los trabajadores de la economía digital, como domiciliarios o conductores de plataformas, los deja sin seguridad social ni beneficios, contribuyendo a la pobreza. Es fundamental regularizar esta modalidad de empleo y garantizar sus derechos.\",\n",
      "  \"La falta de programas de apoyo a la producción de artesanías y a la comercialización justa de productos locales en comunidades indígenas y afrodescendientes limita su desarrollo económico y perpetúa la pobreza. Es fundamental valorar sus saberes ancestrales y promover mercados éticos.\",\n",
      "  \"La dificultad para acceder a servicios de internet en las cárceles limita las oportunidades de rehabilitación y de acceso a la educación para los reclusos, lo que agrava su situación de pobreza una vez salen en libertad. Es fundamental invertir en programas de resocialización digital.\",\n",
      "  \"La ausencia de programas de atención y prevención del trabajo infantil en zonas urbanas marginales, donde muchos niños venden dulces o limpian carros, perpetúa la pobreza y vulnera sus derechos. Es fundamental fortalecer las redes de protección y el apoyo a las familias.\",\n",
      "  \"La falta de acceso a servicios de agua potable y saneamiento en zonas de alto riesgo por deslizamientos o inundaciones agrava la pobreza y la vulnerabilidad de las comunidades. Es fundamental reubicar dignamente a estas poblaciones y garantizarles servicios básicos de calidad.\",\n",
      "  \"La dificultad para acceder a servicios de salud sexual y reproductiva para adolescentes en zonas rurales contribuye a embarazos tempranos y a la perpetuación de la pobreza. Es fundamental promover la educación sexual integral y el acceso a métodos anticonceptivos para los jóvenes.\",\n",
      "  \"La ausencia de programas de apoyo a la reincorporación de víctimas de minas antipersona y municiones sin explotar, con acceso a prótesis, rehabilitación y proyectos productivos, agrava su pobreza y la exclusión. Es fundamental garantizarles una atención integral y un futuro digno.\",\n",
      "  \"La falta de una política de desarrollo rural que promueva la diversificación económica y el valor agregado de los productos agrícolas mantiene a muchas comunidades en la pobreza. Es fundamental invertir en agroindustria y en la transformación de materias primas para generar mayores ingresos.\",\n",
      "  \"La dificultad para acceder a servicios de transporte público en zonas periurbanas de crecimiento rápido limita las oportunidades de sus habitantes para trabajar y estudiar, perpetuando la pobreza. Es fundamental planificar el transporte de manera integral y garantizar la conectividad para todos.\",\n",
      "  \"La ausencia de programas de apoyo a la economía campesina y a la producción de alimentos orgánicos, con asistencia técnica y acceso a mercados justos, mantiene a muchas familias en la pobreza. Es fundamental promover la agricultura sostenible y garantizar la seguridad alimentaria local.\",\n",
      "  \"La falta de acceso a servicios de justicia restaurativa y de mediación para conflictos comunitarios en barrios vulnerables perpetúa la violencia y la desconfianza, afectando la convivencia y la capacidad de progreso, profundizando la pobreza. Es fundamental promover mecanismos alternativos de resolución de conflictos.\",\n",
      "  \"La dificultad para acceder a servicios de salud para migrantes irregulares los deja en una situación de extrema vulnerabilidad y agrava su pobreza. Es fundamental garantizar el acceso a la atención médica básica para todos, sin importar su estatus migratorio, por razones humanitarias.\",\n",
      "  \"La ausencia de programas de apoyo a la producción de miel y otros productos apícolas en zonas rurales, con asistencia técnica y acceso a mercados justos, limita el desarrollo económico y mantiene a muchas familias en la pobreza. Es fundamental fortalecer este sector y promover la conservación de las abejas.\",\n",
      "  \"La falta de acceso a servicios de educación ambiental y de conciencia sobre el cambio climático en comunidades vulnerables limita su capacidad para adaptarse a los impactos y agrava su pobreza. Es fundamental promover la educación para la sostenibilidad y la participación ciudadana en la gestión ambiental.\",\n",
      "  \"La dificultad para acceder a servicios de transporte público en zonas de ladera o de difícil acceso en las ciudades limita las oportunidades de sus habitantes para trabajar y estudiar, perpetuando la pobreza. Es fundamental invertir en sistemas de transporte alternativos y en infraestructura accesible.\",\n",
      "  \"La ausencia de un sistema de alertas tempranas para desastres naturales en comunidades vulnerables las deja desprotegidas y expuestas a pérdidas materiales y humanas, lo que agrava su pobreza. Es fundamental fortalecer la capacidad de respuesta y la resiliencia de estas poblaciones.\",\n",
      "  \"La falta de acceso a servicios de banca móvil y corresponsales bancarios en zonas rurales remotas dificulta la gestión de los recursos económicos y perpetúa la pobreza. Es fundamental promover la inclusión financiera digital y llevar los servicios bancarios a todos los rincones del país.\",\n",
      "  \"La dificultad para acceder a servicios de salud para personas con enfermedades crónicas en zonas rurales, por la falta de especialistas y medicamentos, agrava su situación de pobreza y su calidad de vida. Es fundamental fortalecer la red de atención y garantizar la disponibilidad de tratamientos.\",\n",
      "  \"La ausencia de programas de apoyo a la producción de cacao y otros cultivos de economía lícita en zonas antes afectadas por cultivos ilícitos, con asistencia técnica y acceso a mercados justos, mantiene a muchas familias en la pobreza. Es fundamental fortalecer estas alternativas productivas y promover la paz territorial.\",\n",
      "  \"La falta de acceso a servicios de internet en las bibliotecas públicas de barrios marginales limita las oportunidades de acceso a la información y a la educación para los niños y jóvenes, contribuyendo a la pobreza. Es fundamental invertir en la digitalización de estos espacios.\",\n",
      "  \"La dificultad para acceder a servicios de transporte público adaptado para personas con discapacidad en las ciudades limita su autonomía y su acceso a oportunidades laborales, contribuyendo a la pobreza. Es fundamental garantizar un transporte inclusivo y accesible para todos.\",\n",
      "  \"La ausencia de programas de apoyo a la producción de lácteos y cárnicos en pequeñas fincas, con asistencia técnica y acceso a mercados justos, mantiene a muchas familias campesinas en la pobreza. Es fundamental fortalecer estas cadenas de valor y garantizar precios justos para sus productos.\",\n",
      "  \"La falta de acceso a servicios de educación sexual y reproductiva para jóvenes en barrios marginales contribuye a embarazos adolescentes y a la perpetuación de la pobreza. Es fundamental promover la educación integral y el acceso a información y métodos de planificación familiar.\",\n",
      "  \"La dificultad para acceder a servicios de salud mental para la población migrante, por la barrera del idioma y la estigmatización, agrava su situación de pobreza y su bienestar. Es fundamental adaptar los servicios y promover la inclusión cultural en la atención a la salud mental.\",\n",
      "  \"La ausencia de programas de apoyo a la producción de frutas y verduras en huertas caseras y comunitarias en barrios vulnerables, con asistencia técnica y acceso a mercados locales, contribuye a la seguridad alimentaria y a la reducción de la pobreza. Es fundamental fomentar estas iniciativas.\",\n",
      "  \"La falta de acceso a servicios de internet de calidad en los parques y espacios públicos de barrios marginales limita las oportunidades de acceso a la información y a la educación para los niños y jóvenes, contribuyendo a la pobreza. Es fundamental invertir en la conectividad de estos espacios.\",\n",
      "  \"La dificultad para acceder a servicios de transporte público para personas mayores en zonas rurales limita su autonomía y su acceso a servicios de salud y bienestar, contribuyendo a la pobreza. Es fundamental garantizar un transporte accesible y con tarifas preferenciales para esta población.\",\n",
      "  \"La ausencia de programas de apoyo a la producción de quinua y otros cultivos andinos ancestrales en comunidades indígenas, con asistencia técnica y acceso a mercados justos, limita su desarrollo económico y perpetúa la pobreza. Es fundamental valorar sus saberes y promover la agricultura sostenible.\",\n",
      "  \"La falta de acceso a servicios de educación vial y de seguridad para motociclistas en zonas rurales, donde este es el principal medio de transporte, contribuye a accidentes y a la pobreza por gastos médicos. Es fundamental promover la educación y la seguridad vial para todos los usuarios de la vía.\",\n",
      "  \"La dificultad para acceder a servicios de internet en los centros comunitarios de barrios marginales limita las oportunidades de acceso a la información y a la educación para los adultos, contribuyendo a la pobreza. Es fundamental invertir en la digitalización de estos espacios.\",\n",
      "  \"La ausencia de programas de apoyo a la producción de cacao fino de aroma y otros productos de nicho en zonas rurales, con asistencia técnica y acceso a mercados especializados, limita el desarrollo económico y mantiene a muchas familias en la pobreza. Es fundamental fortalecer estas cadenas de valor.\",\n",
      "  \"La falta de acceso a servicios de educación para adultos y de alfabetización en zonas rurales y deprimidas perpetúa la pobreza y limita las oportunidades de progreso. Es fundamental invertir en programas de educación para toda la vida y en la alfabetización de adultos.\",\n",
      "  \"La dificultad para acceder a servicios de transporte público en zonas de alto riesgo por violencia o conflicto limita las oportunidades de sus habitantes para trabajar y estudiar, perpetuando la pobreza. Es fundamental garantizar un transporte seguro y accesible para todos, incluso en estas zonas.\",\n",
      "  \"La ausencia de programas de apoyo a la producción de artesanías en materiales reciclados y a la comercialización justa en comunidades vulnerables, con asistencia técnica y acceso a mercados éticos, contribuye a la reducción de la pobreza y a la sostenibilidad ambiental. Es fundamental fomentar estas iniciativas.\",\n",
      "  \"La falta de acceso a servicios de internet de calidad en los hospitales y centros de salud de zonas rurales limita el acceso a la telemedicina y a la información médica para los pacientes, lo que agrava su situación de pobreza. Es fundamental invertir en la conectividad de estos espacios.\",\n",
      "  \"La dificultad para acceder a servicios de transporte público en zonas de difícil acceso montañoso limita las oportunidades de sus habitantes para trabajar y estudiar, perpetuando la pobreza. Es fundamental invertir en infraestructura vial y en soluciones de transporte adaptadas a estas condiciones.\",\n",
      "  \"La ausencia de programas de apoyo a la producción de café especial y de alta calidad en pequeñas fincas, con asistencia técnica y acceso a mercados justos, mantiene a muchas familias campesinas en la pobreza. Es fundamental fortalecer estas cadenas de valor y garantizar precios justos para sus productos.\",\n",
      "  \"La falta de acceso a servicios de educación para la paz y la reconciliación en zonas afectadas por el conflicto limita la construcción de un futuro con oportunidades y perpetúa la pobreza. Es fundamental invertir en programas que promuevan la convivencia pacífica y la superación de las heridas del pasado.\",\n",
      "  \"La dificultad para acceder a servicios de internet en los centros educativos de zonas rurales limita las oportunidades de acceso a la información y a la educación para los niños y jóvenes, contribuyendo a la pobreza. Es fundamental invertir en la conectividad de estos espacios y en la formación de docentes.\",\n",
      "  \"La ausencia de programas de apoyo a la producción de aceites esenciales y otros productos derivados de plantas medicinales en comunidades indígenas, con asistencia técnica y acceso a mercados justos, limita su desarrollo económico y perpetúa la pobreza. Es fundamental valorar sus saberes ancestrales.\",\n",
      "  \"La falta de acceso a servicios de información sobre derechos laborales y protección social para trabajadores informales los deja en una situación de vulnerabilidad y agrava su pobreza. Es fundamental promover la difusión de esta información y el acceso a asesoría legal gratuita.\",\n",
      "  \"La dificultad para acceder a servicios de transporte público en zonas de expansión urbana sin planificación limita las oportunidades de sus habitantes para trabajar y estudiar, perpetuando la pobreza. Es fundamental planificar el transporte de manera integral y garantizar la conectividad para todos.\",\n",
      "  \"La ausencia de programas de apoyo a la producción de trucha y otros productos piscícolas en zonas rurales, con asistencia técnica y acceso a mercados justos, limita el desarrollo económico y mantiene a muchas familias en la pobreza. Es fundamental fortalecer este sector y promover prácticas sostenibles.\",\n",
      "  \"La falta de acceso a servicios de educación financiera para jóvenes emprendedores en barrios marginales limita su capacidad para gestionar sus negocios y salir de la pobreza. Es fundamental promover la alfabetización financiera y el acceso a herramientas de crédito y ahorro para este sector.\",\n",
      "  \"La dificultad para acceder a servicios de internet de calidad y asequibles en las veredas más remotas del país es una barrera para el desarrollo económico y la educación, perpetuando la pobreza. Es fundamental invertir en infraestructura de telecomunicaciones y en programas de conectividad rural.\",\n",
      "  \"La ausencia de programas de apoyo a la producción de flores exóticas y otros productos de exportación en zonas rurales, con asistencia técnica y acceso a mercados especializados, limita el desarrollo económico y mantiene a muchas familias en la pobreza. Es fundamental fortalecer estas cadenas de valor.\",\n",
      "  \"La falta de acceso a servicios de orientación vocacional y de empleo para personas mayores en las ciudades los deja en desventaja en el mercado laboral y en la pobreza. Es fundamental promover la inclusión laboral de la tercera edad y adaptar los entornos de trabajo para ellos.\",\n",
      "  \"La dificultad para acceder a servicios de transporte público en zonas costeras sin infraestructura vial adecuada limita las oportunidades de sus habitantes para trabajar y estudiar, perpetuando la pobreza. Es fundamental invertir en infraestructura y en soluciones de transporte adaptadas a estas condiciones geográficas.\",\n",
      "  \"La ausencia de programas de apoyo a la producción de textiles y artesanías en lana de oveja en comunidades rurales, con asistencia técnica y acceso a mercados justos, limita el desarrollo económico y mantiene a muchas familias en la pobreza. Es fundamental valorar sus saberes ancestrales y promover mercados éticos.\",\n",
      "  \"La falta de acceso a servicios de educación para la primera infancia de calidad y asequibles en barrios marginales limita el desarrollo cognitivo y social de los niños, perpetuando la pobreza. Es fundamental invertir en jardines infantiles y en programas de atención integral para la primera infancia.\",\n",
      "  \"La dificultad para acceder a servicios de internet en los puntos de atención al ciudadano de zonas rurales limita las oportunidades de acceso a trámites y servicios para la población, contribuyendo a la pobreza. Es fundamental invertir en la conectividad de estos espacios y en la formación de los funcionarios.\",\n",
      "  \"La ausencia de programas de apoyo a la producción de quesos artesanales y otros productos lácteos en pequeñas fincas, con asistencia técnica y acceso a mercados justos, mantiene a muchas familias campesinas en la pobreza. Es fundamental fortalecer estas cadenas de valor y garantizar precios justos para sus productos.\",\n",
      "  \"La falta de acceso a servicios de educación sexual y reproductiva para hombres jóvenes en barrios marginales contribuye a la irresponsabilidad paterna y a la perpetuación de la pobreza. Es fundamental promover la educación integral y el acceso a información y métodos de planificación familiar para todos.\",\n",
      "  \"La dificultad para acceder a servicios de salud mental para personas desplazadas por la violencia, por el trauma y la estigmatización, agrava su situación de pobreza y su bienestar. Es fundamental adaptar los servicios y promover la inclusión cultural en la atención a la salud mental para esta población.\",\n",
      "  \"La ausencia de programas de apoyo a la producción de panela granulada y otros productos agroindustriales en zonas rurales, con asistencia técnica y acceso a mercados justos, limita el desarrollo económico y mantiene a muchas familias en la pobreza. Es fundamental fortalecer estas cadenas de valor y promover la innovación.\",\n",
      "  \"La falta de acceso a servicios de internet de calidad en los centros de salud de zonas rurales limita el acceso a la telemedicina y a la información médica para los pacientes, lo que agrava su situación de pobreza. Es fundamental invertir en la conectividad de estos espacios y en la formación de los profesionales.\",\n",
      "  \"La dificultad para acceder a servicios de transporte público en zonas de difícil acceso por inundaciones recurrentes limita las oportunidades de sus habitantes para trabajar y estudiar, perpetuando la pobreza. Es fundamental invertir en infraestructura resiliente y en soluciones de transporte adaptadas a estas condiciones climáticas.\",\n",
      "  \"La ausencia de programas de apoyo a la producción de cacao y sus derivados en comunidades indígenas, con asistencia técnica y acceso a mercados justos, limita su desarrollo económico y perpetúa la pobreza. Es fundamental valorar sus saberes ancestrales y promover la producción sostenible y diferenciada.\",\n",
      "  \"La falta de acceso a servicios de educación para la inclusión y la diversidad en las escuelas de barrios marginales limita el desarrollo integral de los niños y jóvenes, exponiéndolos a la discriminación y a la pobreza. Es fundamental invertir en programas que promuevan el respeto y la valoración de las diferencias.\",\n",
      "  \"La dificultad para acceder a servicios de internet en las alcaldías locales de zonas rurales limita las oportunidades de acceso a trámites y servicios para la población, contribuyendo a la pobreza. Es fundamental invertir en la conectividad de estos espacios y en la formación de los funcionarios públicos.\",\n",
      "  \"La ausencia de programas de apoyo a la producción de café orgánico y de comercio justo en pequeñas fincas, con asistencia técnica y acceso a mercados especializados, limita el desarrollo económico y mantiene a muchas familias campesinas en la pobreza. Es fundamental fortalecer estas cadenas de valor y garantizar precios justos.\",\n",
      "  \"La falta de acceso a servicios de educación vial y de seguridad para ciclistas y peatones en las ciudades, especialmente en barrios marginales, contribuye a accidentes y a la pobreza por gastos médicos. Es fundamental promover la educación y la seguridad vial para todos los usuarios de la vía, sin excepción.\",\n",
      "  \"La dificultad para acceder a servicios de internet de calidad en los mercados campesinos de zonas rurales limita las oportunidades de acceso a información sobre precios y demandas para los productores, lo que agrava su situación de pobreza. Es fundamental invertir en la conectividad de estos espacios y en la formación de los agricultores.\",\n",
      "  \"La ausencia de programas de apoyo a la producción de frutas exóticas y otros productos de alto valor en zonas rurales, con asistencia técnica y acceso a mercados gourmet, limita el desarrollo económico y mantiene a muchas familias en la pobreza. Es fundamental fortalecer estas cadenas de valor y promover la innovación en el campo.\",\n",
      "  \"La falta de acceso a servicios de orientación vocacional y de empleo para personas con discapacidad en las ciudades los deja en desventaja en el mercado laboral y en la pobreza. Es fundamental promover la inclusión laboral de este sector y adaptar los entornos de trabajo para ellos, con todo el acompañamiento necesario.\",\n",
      "  \"La dificultad para acceder a servicios de transporte público en zonas fronterizas sin infraestructura vial adecuada limita las oportunidades de sus habitantes para trabajar y estudiar, perpetuando la pobreza. Es fundamental invertir en infraestructura y en soluciones de transporte adaptadas a estas condiciones geográficas y políticas.\",\n",
      "  \"La ausencia de programas de apoyo a la producción de artesanías en materiales naturales y a la comercialización justa en comunidades indígenas, con asistencia técnica y acceso a mercados éticos, limita su desarrollo económico y perpetúa la pobreza. Es fundamental valorar sus saberes ancestrales y promover su autonomía económica.\",\n",
      "  \"La falta de acceso a servicios de educación para la resiliencia y la adaptación al cambio climático en comunidades vulnerables limita su capacidad para enfrentar los impactos y agrava su pobreza. Es fundamental invertir en programas que promuevan la conciencia ambiental y la preparación para eventos extremos.\",\n",
      "  \"La dificultad para acceder a servicios de internet en las emisoras comunitarias de zonas rurales limita las oportunidades de acceso a la información y a la comunicación para la población, contribuyendo a la pobreza. Es fundamental invertir en la conectividad de estos espacios y en la formación de los comunicadores locales.\",\n",
      "  \"La ausencia de programas de apoyo a la producción de plantas ornamentales y flores de corte en pequeñas fincas, con asistencia técnica y acceso a mercados especializados, limita el desarrollo económico y mantiene a muchas familias campesinas en la pobreza. Es fundamental fortalecer estas cadenas de valor y promover la innovación en el sector floricultor.\",\n",
      "  \"La falta de acceso a servicios de educación sexual y reproductiva para padres y madres en barrios marginales contribuye a la falta de planificación familiar y a la perpetuación de la pobreza. Es fundamental promover la educación integral y el acceso a información y métodos de planificación familiar para todos los adultos.\",\n",
      "  \"La dificultad para acceder a servicios de salud mental para personas con enfermedades crónicas en zonas urbanas marginales, por la falta de especialistas y la estigmatización, agrava su situación de pobreza y su bienestar. Es fundamental integrar la atención y promover la sensibilización sobre la importancia de la salud mental en estas comunidades.\",\n",
      "  \"La ausencia de programas de apoyo a la producción de productos lácteos con valor agregado, como yogures y quesos madurados, en zonas rurales, con asistencia técnica y acceso a mercados justos, limita el desarrollo económico y mantiene a muchas familias en la pobreza. Es fundamental fortalecer estas cadenas de valor y promover la diferenciación de productos.\",\n",
      "  \"La falta de acceso a servicios de internet de calidad en los puestos de votación de zonas rurales limita las oportunidades de acceso a la información electoral y a la participación ciudadana para la población, contribuyendo a la pobreza. Es fundamental invertir en la conectividad de estos espacios y en la educación cívica.\",\n",
      "  \"La dificultad para acceder a servicios de transporte público en zonas de difícil acceso por derrumbes recurrentes limita las oportunidades de sus habitantes para trabajar y estudiar, perpetuando la pobreza. Es fundamental invertir en infraestructura vial resiliente y en soluciones de transporte adaptadas a estas condiciones geológicas.\",\n",
      "  \"La ausencia de programas de apoyo a la producción de alimentos orgánicos y de agricultura sostenible en comunidades indígenas, con asistencia técnica y acceso a mercados justos, limita su desarrollo económico y perpetúa la pobreza. Es fundamental valorar sus saberes ancestrales y promover la soberanía alimentaria.\",\n",
      "  \"La falta de acceso a servicios de educación para la ciudadanía y la participación democrática en las escuelas de barrios marginales limita el desarrollo integral de los niños y jóvenes, exponiéndolos a la manipulación y a la pobreza. Es fundamental invertir en programas que promuevan el pensamiento crítico y la participación activa.\",\n",
      "  \"La dificultad para acceder a servicios de internet en los centros culturales de zonas rurales limita las oportunidades de acceso a la información y a la expresión artística para la población, contribuyendo a la pobreza. Es fundamental invertir en la conectividad de estos espacios y en la formación de los gestores culturales locales.\",\n",
      "  \"La ausencia de programas de apoyo a la producción de huevos criollos y otros productos avícolas en pequeñas fincas, con asistencia técnica y acceso a mercados justos, mantiene a muchas familias campesinas en la pobreza. Es fundamental fortalecer estas cadenas de valor y garantizar precios justos para sus productos.\",\n",
      "  \"La falta de acceso a servicios de educación sexual y reproductiva para personas con discapacidad en las ciudades contribuye a la falta de autonomía y a la perpetuación de la pobreza. Es fundamental promover la educación integral y el acceso a información y métodos de planificación familiar adaptados a sus necesidades.\",\n",
      "  \"La dificultad para acceder a servicios de salud mental para personas LGTBIQ+ en zonas urbanas marginales, por la estigmatización y la discriminación, agrava su situación de pobreza y su bienestar. Es fundamental adaptar los servicios y promover la inclusión y el respeto en la atención a la salud mental para esta población.\",\n",
      "  \"La ausencia de programas de apoyo a la producción de cervezas artesanales y otros productos fermentados en zonas rurales, con asistencia técnica y acceso a mercados justos, limita el desarrollo económico y mantiene a muchas familias en la pobreza. Es fundamental fortalecer estas cadenas de valor y promover la innovación en el sector agroindustrial.\",\n",
      "  \"La falta de acceso a servicios de internet de calidad en los parques naturales de zonas rurales limita las oportunidades de acceso a la información turística y a la educación ambiental para los visitantes, lo que agrava la pobreza en las comunidades aledañas. Es fundamental invertir en la conectividad de estos espacios y en la promoción del ecoturismo.\",\n",
      "  \"La dificultad para acceder a servicios de transporte público en zonas de difícil acceso por inundaciones estacionales limita las oportunidades de sus habitantes para trabajar y estudiar, perpetuando la pobreza. Es fundamental invertir en infraestructura resiliente y en soluciones de transporte adaptadas a estas condiciones climáticas cambiantes.\",\n",
      "  \"La ausencia de programas de apoyo a la producción de miel de abejas nativas y otros productos forestales no maderables en comunidades indígenas, con asistencia técnica y acceso a mercados justos, limita su desarrollo económico y perpetúa la pobreza. Es fundamental valorar sus saberes ancestrales y promover la conservación de la biodiversidad.\",\n",
      "  \"La falta de acceso a servicios de educación para la prevención de desastres y la gestión del riesgo en las escuelas de barrios marginales limita el desarrollo integral de los niños y jóvenes, exponiéndolos a la vulnerabilidad y a la pobreza. Es fundamental invertir en programas que promuevan la cultura de la prevención y la resiliencia comunitaria.\",\n",
      "  \"La dificultad para acceder a servicios de internet en los puestos de salud de zonas rurales limita las oportunidades de acceso a la telemedicina y a la información médica para la población, contribuyendo a la pobreza. Es fundamental invertir en la conectividad de estos espacios y en la formación de los profesionales de la salud.\",\n",
      "  \"La ausencia de programas de apoyo a la producción de productos lácteos con denominación de origen y otros productos diferenciados en zonas rurales, con asistencia técnica y acceso a mercados especializados, limita el desarrollo económico y mantiene a muchas familias en la pobreza. Es fundamental fortalecer estas cadenas de valor y promover la protección de la propiedad intelectual.\",\n",
      "  \"La falta de acceso a servicios de educación sexual y reproductiva para personas privadas de la libertad contribuye a la falta de planificación familiar y a la perpetuación de la pobreza en sus familias. Es fundamental promover la educación integral y el acceso a información y métodos de planificación familiar en los centros penitenciarios.\",\n",
      "  \"La dificultad para acceder a servicios de salud mental para personas con problemas de adicción en zonas urbanas marginales, por la falta de especialistas y la estigmatización, agrava su situación de pobreza y su bienestar. Es fundamental integrar la atención y promover la sensibilización sobre la importancia de la salud mental y la rehabilitación en estas comunidades.\",\n",
      "  \"La ausencia de programas de apoyo a la producción de vinos artesanales y otros productos vitivinícolas en zonas rurales, con asistencia técnica y acceso a mercados justos, limita el desarrollo económico y mantiene a muchas familias en la pobreza. Es fundamental fortalecer estas cadenas de valor y promover la innovación en el sector vitivinícola.\",\n",
      "  \"La falta de acceso a servicios de internet de calidad en los centros deportivos de zonas rurales limita las oportunidades de acceso a la información sobre entrenamientos y competencias para los atletas, lo que agrava la pobreza en las comunidades aledañas. Es fundamental invertir en la conectividad de estos espacios y en la promoción del deporte.\",\n",
      "  \"La dificultad para acceder a servicios de transporte público en zonas de difícil acceso por deslizamientos de tierra limita las oportunidades de sus habitantes para trabajar y estudiar, perpetuando la pobreza. Es fundamental invertir en infraestructura vial resiliente y en soluciones de transporte adaptadas a estas condiciones geológicas inestables.\",\n",
      "  \"La ausencia de programas de apoyo a la producción de artesanías en barro y cerámica en comunidades indígenas, con asistencia técnica y acceso a mercados justos, limita su desarrollo económico y perpetúa la pobreza. Es fundamental valorar sus saberes ancestrales y promover la comercialización ética de sus productos.\",\n",
      "  \"La falta de acceso a servicios de educación para el emprendimiento y la innovación en las escuelas de barrios marginales limita el desarrollo integral de los niños y jóvenes, exponiéndolos a la dependencia y a la pobreza. Es fundamental invertir en programas que promuevan la creatividad y el espíritu empresarial desde temprana edad.\",\n",
      "  \"La dificultad para acceder a servicios de internet en las tiendas comunitarias de zonas rurales limita las oportunidades de acceso a la información sobre precios y productos para los consumidores, contribuyendo a la pobreza. Es fundamental invertir en la conectividad de estos espacios y en la formación de los tenderos locales.\",\n",
      "  \"La ausencia de programas de apoyo a la producción de quesos de cabra y otros productos caprinos en pequeñas fincas, con asistencia técnica y acceso a mercados justos, mantiene a muchas familias campesinas en la pobreza. Es fundamental fortalecer estas cadenas de valor y garantizar precios justos para sus productos artesanales.\",\n",
      "  \"La falta de acceso a servicios de educación sexual y reproductiva para personas en situación de calle contribuye a la falta de planificación familiar y a la perpetuación de la pobreza. Es fundamental promover la educación integral y el acceso a información y métodos de planificación familiar adaptados a sus necesidades y condiciones de vida.\",\n",
      "  \"La dificultad para acceder a servicios de salud mental para personas con trastornos alimenticios en zonas urbanas marginales, por la falta de especialistas y la estigmatización, agrava su situación de pobreza y su bienestar. Es fundamental integrar la atención y promover la sensibilización sobre la importancia de la salud mental y la alimentación saludable en estas comunidades.\",\n",
      "  \"La ausencia de programas de apoyo a la producción de miel de caña y otros productos derivados de la caña de azúcar en zonas rurales, con asistencia técnica y acceso a mercados justos, limita el desarrollo económico y mantiene a muchas familias en la pobreza. Es fundamental fortalecer estas cadenas de valor y promover la innovación en el sector panelero.\",\n",
      "  \"La falta de acceso a servicios de internet de calidad en los centros de justicia de zonas rurales limita las oportunidades de acceso a la información legal y a la justicia para la población, lo que agrava la pobreza en las comunidades aledañas. Es fundamental invertir en la conectividad de estos espacios y en la formación de los funcionarios judiciales.\",\n",
      "  \"La dificultad para acceder a servicios de transporte público en zonas de difícil acceso por la presencia de grupos armados limita las oportunidades de sus habitantes para trabajar y estudiar, perpetuando la pobreza. Es fundamental garantizar un transporte seguro y accesible para todos, incluso en estas zonas de conflicto, con el apoyo de las fuerzas del orden.\",\n",
      "  \"La ausencia de programas de apoyo a la producción de tejidos y prendas de vestir con diseños ancestrales en comunidades indígenas, con asistencia técnica y acceso a mercados justos, limita su desarrollo económico y perpetúa la pobreza. Es fundamental valorar sus saberes ancestrales y promover la comercialización ética de sus productos textiles.\",\n",
      "  \"La falta de acceso a servicios de educación para la prevención del bullying y la violencia escolar en las escuelas de barrios marginales limita el desarrollo integral de los niños y jóvenes, exponiéndolos a la discriminación y a la pobreza. Es fundamental invertir en programas que promuevan el respeto y la convivencia pacífica en el entorno educativo.\",\n",
      "  \"La dificultad para acceder a servicios de internet en los centros de atención a la primera infancia de zonas rurales limita las oportunidades de acceso a la información y a la educación para los niños y sus cuidadores, contribuyendo a la pobreza. Es fundamental invertir en la conectividad de estos espacios y en la formación del personal educativo.\",\n",
      "  \"La ausencia de programas de apoyo a la producción de productos lácteos frescos, como leche y cuajada, en pequeñas fincas, con asistencia técnica y acceso a mercados locales, mantiene a muchas familias campesinas en la pobreza. Es fundamental fortalecer estas cadenas de valor y garantizar precios justos para sus productos de consumo diario.\",\n",
      "  \"La falta de acceso a servicios de educación sexual y reproductiva para personas con VIH/SIDA en las ciudades contribuye a la falta de planificación familiar y a la perpetuación de la pobreza. Es fundamental promover la educación integral y el acceso a información y métodos de planificación familiar adaptados a sus necesidades y condiciones de salud.\",\n",
      "  \"La dificultad para acceder a servicios de salud mental para personas con trastornos de ansiedad y depresión en zonas urbanas marginales, por la falta de especialistas y la estigmatización, agrava su situación de pobreza y su bienestar. Es fundamental integrar la atención y promover la sensibilización sobre la importancia de la salud mental y el bienestar emocional en estas comunidades.\",\n",
      "  \"La ausencia de programas de apoyo a la producción de panela pulverizada y otros productos derivados de la caña de azúcar en zonas rurales, con asistencia técnica y acceso a mercados especializados, limita el desarrollo económico y mantiene a muchas familias en la pobreza. Es fundamental fortalecer estas cadenas de valor y promover la innovación en el sector agroindustrial, buscando nuevos nichos de mercado.\",\n",
      "  \"La falta de acceso a servicios de internet de calidad en los centros de investigación de zonas rurales limita las oportunidades de acceso a la información científica y a la innovación para los agricultores, lo que agrava la pobreza en las comunidades aledañas. Es fundamental invertir en la conectividad de estos espacios y en la formación de los investigadores locales, fomentando la transferencia de conocimiento.\",\n",
      "  \"La dificultad para acceder a servicios de transporte público en zonas de difícil acceso por la presencia de cultivos ilícitos limita las oportunidades de sus habitantes para trabajar y estudiar, perpetuando la pobreza. Es fundamental garantizar un transporte seguro y accesible para todos, incluso en estas zonas, con el apoyo de las autoridades y programas de sustitución de cultivos.\",\n",
      "  \"La ausencia de programas de apoyo a la producción de artesanías en madera y cestería en comunidades indígenas, con asistencia técnica y acceso a mercados justos, limita su desarrollo económico y perpetúa la pobreza. Es fundamental valorar sus saberes ancestrales y promover la comercialización ética de sus productos, respetando su cultura y tradiciones artísticas.\",\n",
      "  \"La falta de acceso a servicios de educación para la prevención de la drogadicción y el alcoholismo en las escuelas de barrios marginales limita el desarrollo integral de los niños y jóvenes, exponiéndolos a la adicción y a la pobreza. Es fundamental invertir en programas que promuevan estilos de vida saludables y la toma de decisiones informadas.\",\n",
      "  \"La dificultad para acceder a servicios de internet en los centros de desarrollo empresarial de zonas rurales limita las oportunidades de acceso a la información y a la capacitación para los emprendedores, contribuyendo a la pobreza. Es fundamental invertir en la conectividad de estos espacios y en la formación de los asesores empresariales locales, impulsando el crecimiento económico.\",\n",
      "  \"La ausencia de programas de apoyo a la producción de café con valor agregado, como café tostado y molido, en pequeñas fincas, con asistencia técnica y acceso a mercados especializados, mantiene a muchas familias campesinas en la pobreza. Es fundamental fortalecer estas cadenas de valor y garantizar precios justos para sus productos, promoviendo la marca local.\",\n",
      "  \"La falta de acceso a servicios de educación sexual y reproductiva para personas reinsertadas a la vida civil contribuye a la falta de planificación familiar y a la perpetuación de la pobreza. Es fundamental promover la educación integral y el acceso a información y métodos de planificación familiar adaptados a sus necesidades y condiciones de vida, fomentando su autonomía.\",\n",
      "  \"La dificultad para acceder a servicios de salud mental para personas con trastornos de personalidad en zonas urbanas marginales, por la falta de especialistas y la estigmatización, agrava su situación de pobreza y su bienestar. Es fundamental integrar la atención y promover la sensibilización sobre la importancia de la salud mental y el apoyo social en estas comunidades, reduciendo el estigma.\",\n",
      "  \"La ausencia de programas de apoyo a la producción de cacao orgánico y de comercio justo en comunidades afrodescendientes, con asistencia técnica y acceso a mercados especializados, limita su desarrollo económico y perpetúa la pobreza. Es fundamental valorar sus saberes ancestrales y promover la producción sostenible y diferenciada, garantizando precios justos y equitativos.\",\n",
      "  \"La falta de acceso a servicios de internet de calidad en los centros de formación técnica de zonas rurales limita las oportunidades de acceso a la información y a la capacitación para los jóvenes, lo que agrava la pobreza en las comunidades aledañas. Es fundamental invertir en la conectividad de estos espacios y en la formación de los instructores locales, fomentando el desarrollo de habilidades.\",\n",
      "  \"La dificultad para acceder a servicios de transporte público en zonas de difícil acceso por la presencia de minería ilegal limita las oportunidades de sus habitantes para trabajar y estudiar, perpetuando la pobreza. Es fundamental garantizar un transporte seguro y accesible para todos, incluso en estas zonas, con el apoyo de las autoridades y programas de formalización minera.\",\n",
      "  \"La ausencia de programas de apoyo a la producción de artesanías en fibras naturales y tejidos en comunidades afrodescendientes, con asistencia técnica y acceso a mercados justos, limita su desarrollo económico y perpetúa la pobreza. Es fundamental valorar sus saberes ancestrales y promover la comercialización ética de sus productos, respetando su cultura y tradiciones.\",\n",
      "  \"La falta de acceso a servicios de educación para la prevención de la violencia de género en las escuelas de barrios marginales limita el desarrollo integral de las niñas y jóvenes, exponiéndolas a la discriminación y a la pobreza. Es fundamental invertir en programas que promuevan el respeto, la equidad y la prevención de la violencia en el entorno educativo y familiar.\",\n",
      "  \"La dificultad para acceder a servicios de internet en los puestos de control migratorio de zonas fronterizas limita las oportunidades de acceso a la información y a los trámites para los migrantes, contribuyendo a la pobreza. Es fundamental invertir en la conectividad de estos espacios y en la formación de los funcionarios para una atención humanitaria y eficiente.\",\n",
      "  \"La ausencia de programas de apoyo a la producción de café con certificaciones especiales y de trazabilidad en pequeñas fincas, con asistencia técnica y acceso a mercados de nicho, mantiene a muchas familias campesinas en la pobreza. Es fundamental fortalecer estas cadenas de valor y garantizar precios justos para sus productos, promoviendo la calidad y la diferenciación en el mercado internacional.\",\n",
      "  \"La falta de acceso a servicios de educación sexual y reproductiva para personas con discapacidad intelectual en las ciudades contribuye a la falta de autonomía y a la perpetuación de la pobreza. Es fundamental promover la educación integral y el acceso a información y métodos de planificación familiar adaptados a sus necesidades y capacidades, con el apoyo de sus familias y cuidadores.\",\n",
      "  \"La dificultad para acceder a servicios de salud mental para personas con esquizofrenia y otros trastornos psicóticos en zonas urbanas marginales, por la falta de especialistas y la estigmatización, agrava su situación de pobreza y su bienestar. Es fundamental integrar la atención y promover la sensibilización sobre la importancia de la salud mental y el apoyo social en estas comunidades, reduciendo el estigma y fomentando la inclusión.\",\n",
      "  \"La ausencia de programas de apoyo a la producción de panela con valor agregado, como panela saborizada y productos derivados, en zonas rurales, con asistencia técnica y acceso a mercados especializados, limita el desarrollo económico y mantiene a muchas familias en la pobreza. Es fundamental fortalecer estas cadenas de valor y promover la innovación en el sector agroindustrial, buscando nuevos segmentos de mercado y aumentando la rentabilidad de los productores.\",\n",
      "  \"La falta de acceso a servicios de internet de calidad en los centros de emprendimiento de zonas rurales limita las oportunidades de acceso a la información y a la capacitación para los innovadores, lo que agrava la pobreza en las comunidades aledañas. Es fundamental invertir en la conectividad de estos espacios y en la formación de los mentores locales, impulsando el ecosistema emprendedor.\",\n",
      "  \"La dificultad para acceder a servicios de transporte público en zonas de difícil acceso por la presencia de cultivos de uso ilícito limita las oportunidades de sus habitantes para trabajar y estudiar, perpetuando la pobreza. Es fundamental garantizar un transporte seguro y accesible para todos, incluso en estas zonas, con el apoyo de las autoridades y programas de desarrollo alternativo.\",\n",
      "  \"La ausencia de programas de apoyo a la producción de artesanías en totumo y calabaza en comunidades indígenas, con asistencia técnica y acceso a mercados justos, limita su desarrollo económico y perpetúa la pobreza. Es fundamental valorar sus saberes ancestrales y promover la comercialización ética de sus productos, respetando su cultura y las tradiciones artísticas de estas comunidades.\",\n",
      "  \"La falta de acceso a servicios de educación para la prevención del acoso escolar y el ciberacoso en las escuelas de barrios marginales limita el desarrollo integral de los niños y jóvenes, exponiéndolos a la violencia y a la pobreza. Es fundamental invertir en programas que promuevan el respeto, la empatía y la seguridad en el entorno digital y educativo.\",\n",
      "  \"La dificultad para acceder a servicios de internet en los centros de desarrollo comunitario de zonas rurales limita las oportunidades de acceso a la información y a la capacitación para los líderes comunitarios, contribuyendo a la pobreza. Es fundamental invertir en la conectividad de estos espacios y en la formación de los líderes locales, fortaleciendo el tejido social.\",\n",
      "  \"La ausencia de programas de apoyo a la producción de café con denominación de origen y otros productos diferenciados en pequeñas fincas, con asistencia técnica y acceso a mercados especializados, mantiene a muchas familias campesinas en la pobreza. Es fundamental fortalecer estas cadenas de valor y garantizar precios justos para sus productos, promoviendo la calidad y la autenticidad en el mercado global, y protegiendo el patrimonio cultural.\",\n",
      "  \"La falta de acceso a servicios de educación sexual y reproductiva para personas en situación de desplazamiento forzado contribuye a la falta de planificación familiar y a la perpetuación de la pobreza. Es fundamental promover la educación integral y el acceso a información y métodos de planificación familiar adaptados a sus necesidades y condiciones de vida, brindando apoyo psicosocial y legal.\"\n",
      "]\n",
      "```\n"
     ]
    }
   ],
   "source": [
    "# Generamos otros 200 para completar los 400\n",
    "response3 = client.models.generate_content(\n",
    "    model=\"gemini-2.5-flash\",\n",
    "    contents=prompt,\n",
    "    config=types.GenerateContentConfig(\n",
    "        system_instruction=\"Eres un generador de datos sintéticos.\",\n",
    "        temperature=0.8,\n",
    "        thinking_config=types.ThinkingConfig(thinking_budget=0)\n",
    "    )\n",
    ")\n",
    "\n",
    "print(response3.text)"
   ]
  },
  {
   "cell_type": "code",
   "execution_count": 84,
   "id": "7dc5d43b",
   "metadata": {},
   "outputs": [
    {
     "data": {
      "text/plain": [
       "GenerateContentResponseUsageMetadata(\n",
       "  candidates_token_count=14978,\n",
       "  prompt_token_count=1214,\n",
       "  prompt_tokens_details=[\n",
       "    ModalityTokenCount(\n",
       "      modality=<MediaModality.TEXT: 'TEXT'>,\n",
       "      token_count=1214\n",
       "    ),\n",
       "  ],\n",
       "  total_token_count=16192\n",
       ")"
      ]
     },
     "metadata": {},
     "output_type": "display_data"
    }
   ],
   "source": [
    "display(response3.usage_metadata)"
   ]
  },
  {
   "cell_type": "code",
   "execution_count": 85,
   "id": "315c4a07",
   "metadata": {},
   "outputs": [
    {
     "data": {
      "text/plain": [
       "['Es preocupante ver cómo la falta de oportunidades laborales dignas en nuestra comunidad rural empuja a muchas familias a la pobreza extrema. Las ayudas del gobierno son insuficientes y no llegan a todos los que las necesitan, lo que agrava la situación y genera un ciclo de precariedad del que es muy difícil salir sin un apoyo sostenido y estratégico por parte de las entidades competentes.',\n",
       " 'La informalidad laboral en el sector urbano es un problema grave que afecta directamente a la capacidad de las personas para salir de la pobreza. Muchos trabajadores no tienen acceso a seguridad social ni a contratos estables, lo que los deja en una situación de vulnerabilidad constante frente a cualquier eventualidad económica o de salud que pueda surgir.',\n",
       " 'Considero que los programas de apoyo a pequeños agricultores son fundamentales para combatir la pobreza en las zonas rurales, pero a menudo carecen de la financiación y el seguimiento adecuados. Es esencial fortalecer estas iniciativas y asegurar que la inversión se traduzca en mejoras concretas en la productividad y en la calidad de vida de las familias del campo, garantizando un futuro más prometedor.',\n",
       " 'La desigualdad en el acceso a servicios básicos como agua potable y saneamiento en barrios marginales de la ciudad es un reflejo de la pobreza multidimensional. Sin estos servicios esenciales, es casi imposible para las familias mejorar sus condiciones de vida y aspirar a un desarrollo sostenible a largo plazo, consolidando la brecha entre los que tienen y los que no.',\n",
       " 'Es urgente implementar políticas que garanticen un ingreso mínimo vital para las familias más vulnerables. La inflación actual hace que el costo de vida sea insostenible para muchos, y sin un colchón económico básico, la pobreza se profundiza cada día más, afectando principalmente a los niños y adultos mayores que son los más expuestos.',\n",
       " 'La falta de acceso a créditos blandos para emprendedores en zonas deprimidas frena el desarrollo económico local y perpetúa la pobreza. Las instituciones financieras deben flexibilizar sus requisitos y ofrecer acompañamiento para que las ideas de negocio puedan florecer y generar empleo en sus propias comunidades, fomentando la autonomía y el progreso.',\n",
       " 'El abandono de los proyectos de infraestructura vial en las áreas rurales impide que los campesinos puedan sacar sus productos al mercado, lo que reduce sus ingresos y los mantiene en la pobreza. Es fundamental una inversión real y constante en estas vías para dinamizar la economía local y mejorar la calidad de vida de los habitantes del campo.',\n",
       " 'La brecha digital es un factor que contribuye a la pobreza, especialmente en la educación y el acceso a oportunidades laborales. Es vital que el gobierno garantice el acceso a internet y dispositivos tecnológicos en zonas rurales y urbanas marginales para que nadie se quede atrás en esta era de la información, democratizando el conocimiento.',\n",
       " 'Los programas de subsidios a la vivienda son importantes, pero a menudo se quedan cortos frente a la magnitud del problema de la falta de vivienda digna. Muchas familias siguen viviendo en condiciones precarias, lo que afecta su salud, seguridad y bienestar general, impidiendo su desarrollo integral en la sociedad.',\n",
       " 'La discriminación laboral por edad o género agrava la pobreza en ciertos sectores de la población. Es necesario implementar políticas de inclusión y sensibilización para garantizar que todas las personas tengan las mismas oportunidades de acceder a un empleo digno y bien remunerado, promoviendo la equidad y la justicia social.',\n",
       " 'La falta de apoyo a la economía solidaria y a las cooperativas en comunidades vulnerables limita su potencial para generar riqueza y empleo. Estas iniciativas son clave para empoderar a las personas y construir un tejido social y económico más resiliente y equitativo en el territorio colombiano.',\n",
       " 'Es preocupante la desnutrición infantil en algunas zonas rurales, un claro indicador de pobreza extrema. Se necesitan programas alimentarios más robustos y efectivos que lleguen a todos los niños y niñas que lo necesitan, garantizando su desarrollo físico y cognitivo para un futuro más prometedor.',\n",
       " 'La falta de acceso a servicios financieros básicos como cuentas de ahorro o microcréditos para la población de bajos ingresos dificulta su capacidad para planificar su futuro y salir de la pobreza. Es fundamental promover la inclusión financiera para todos los colombianos.',\n",
       " 'Las inundaciones y desastres naturales impactan desproporcionadamente a las comunidades más pobres, que carecen de recursos para reconstruir sus vidas. Es vital invertir en infraestructura resiliente y en programas de prevención y respuesta rápida para mitigar estos efectos y proteger a los más vulnerables.',\n",
       " 'La burocracia excesiva y la corrupción en la gestión de los recursos destinados a la lucha contra la pobreza desvían fondos que deberían llegar a quienes más los necesitan. Es fundamental una mayor transparencia y rendición de cuentas en todos los niveles de gobierno para asegurar la efectividad de los programas.',\n",
       " 'La falta de capacitación laboral y de oportunidades de formación continua para jóvenes en barrios marginales los condena a empleos precarios y a un ciclo de pobreza. Es necesario invertir en programas de educación técnica y vocacional que respondan a las demandas del mercado laboral actual.',\n",
       " 'Los altos costos de los servicios públicos, como la energía eléctrica y el gas, impactan fuertemente el presupuesto de las familias de bajos ingresos, empujándolas aún más a la pobreza. Se requieren tarifas más justas y subsidios focalizados para aliviar esta carga económica tan pesada.',\n",
       " 'La ausencia de un sistema de transporte público eficiente y asequible en zonas periurbanas limita el acceso de las personas a empleos y servicios, contribuyendo a la pobreza. Es fundamental mejorar la conectividad para que todos puedan participar plenamente en la vida económica y social.',\n",
       " 'Es alarmante el aumento de los desalojos forzosos en algunas ciudades, dejando a muchas familias sin hogar y en la calle. Se necesitan políticas de vivienda más equitativas y programas de protección para evitar que más personas caigan en la indigencia y la pobreza extrema.',\n",
       " 'La falta de oportunidades para la mujer rural en el acceso a la tierra y a créditos agrícolas limita su autonomía económica y perpetúa la pobreza en sus hogares. Es fundamental empoderar a las mujeres y garantizar su participación plena en el desarrollo rural para lograr un cambio significativo.',\n",
       " 'Los programas de transferencia monetaria condicionada son un buen inicio, pero a menudo no son suficientes para sacar a las familias de la pobreza de manera sostenible. Se necesita un enfoque más integral que combine estas ayudas con acceso a empleo, educación y servicios básicos para generar un impacto duradero.',\n",
       " 'La falta de acceso a tecnología y conectividad en las escuelas rurales amplía la brecha educativa y limita las oportunidades futuras de los niños, contribuyendo al ciclo de pobreza. Es esencial invertir en infraestructura digital y programas de alfabetización tecnológica para equipar a las nuevas generaciones.',\n",
       " 'La especulación con los precios de los alimentos básicos afecta desproporcionadamente a las familias más pobres, que destinan gran parte de su ingreso a la comida. Es fundamental regular los mercados y garantizar el acceso a alimentos nutritivos y asequibles para todos los colombianos, asegurando la seguridad alimentaria.',\n",
       " 'La falta de inversión en proyectos productivos en comunidades indígenas y afrodescendientes perpetúa la pobreza y la exclusión social. Es crucial respetar sus saberes ancestrales y apoyar iniciativas que promuevan su desarrollo económico y cultural de manera sostenible y autónoma.',\n",
       " 'La situación de los adultos mayores sin pensión y sin apoyo familiar es crítica, muchos viven en la indigencia y la pobreza extrema. Es imperativo fortalecer los programas de protección social y asistencia para esta población vulnerable, garantizando una vejez digna y con bienestar.',\n",
       " 'El acceso limitado a servicios de salud mental en comunidades de bajos ingresos agrava las condiciones de pobreza, ya que estas problemáticas impiden que las personas puedan trabajar y participar activamente en la sociedad. Es fundamental integrar la salud mental en la atención primaria.',\n",
       " 'La falta de una política clara y sostenible para la reincorporación de excombatientes a la vida civil en zonas rurales los expone a la pobreza y a la estigmatización. Es fundamental garantizarles oportunidades productivas y acompañamiento para construir una paz duradera y evitar que regresen a la ilegalidad.',\n",
       " 'La explotación laboral infantil, especialmente en zonas mineras o agrícolas, es una manifestación dolorosa de la pobreza extrema. Es urgente fortalecer la inspección y las sanciones, así como implementar programas de apoyo a las familias para que los niños puedan estar en la escuela y no trabajando.',\n",
       " 'La ausencia de un catastro rural actualizado y de programas de titulación de tierras genera inseguridad jurídica y dificulta el acceso a créditos para los campesinos, perpetuando la pobreza. Es fundamental regularizar la propiedad de la tierra para dinamizar la economía rural.',\n",
       " 'La falta de oportunidades para personas con discapacidad en el mercado laboral los condena a la pobreza y a la dependencia. Es crucial promover la inclusión laboral y adaptar los entornos de trabajo para garantizar que todos puedan aportar su talento y vivir con dignidad, sin barreras.',\n",
       " 'El alto costo de los medicamentos y la falta de acceso a tratamientos especializados en áreas remotas son un factor que empuja a muchas familias a la pobreza. Es necesario fortalecer el sistema de salud y garantizar la disponibilidad de medicinas esenciales para todos los ciudadanos sin importar su ubicación.',\n",
       " 'La dependencia de un solo cultivo en zonas agrícolas las hace vulnerables a las fluctuaciones del mercado y al cambio climático, llevando a la pobreza. Es fundamental diversificar la producción y promover prácticas agrícolas sostenibles para asegurar la resiliencia económica de los campesinos.',\n",
       " 'La sobrepoblación en barrios marginales sin una planificación urbana adecuada genera hacinamiento y limita el acceso a servicios básicos, profundizando la pobreza. Es crucial invertir en desarrollo urbano sostenible y en programas de mejoramiento de vivienda para estas comunidades.',\n",
       " 'La falta de acceso a la justicia para las poblaciones más pobres, especialmente en casos de despojo de tierras o deudas, agrava su situación de vulnerabilidad. Es fundamental fortalecer la asistencia legal gratuita y garantizar un acceso equitativo a los derechos para todos.',\n",
       " 'Es preocupante la brecha de género en el acceso a la educación y a oportunidades económicas en algunas regiones, lo que perpetúa la pobreza femenina. Es esencial empoderar a las mujeres a través de la formación y el apoyo a sus emprendimientos, promoviendo su autonomía financiera.',\n",
       " 'La falta de programas de reasentamiento digno para las comunidades desplazadas por la violencia o por desastres naturales las condena a la pobreza y a la marginalidad. Es fundamental garantizarles vivienda, empleo y acceso a servicios para que puedan reconstruir sus vidas con dignidad.',\n",
       " 'El costo de la educación superior es una barrera para muchos jóvenes de bajos ingresos, quienes no pueden acceder a mejores oportunidades laborales y quedan atrapados en un ciclo de pobreza. Es crucial fortalecer los programas de becas y créditos educativos con condiciones favorables.',\n",
       " 'La informalidad en la recolección de residuos por parte de recicladores en situación de pobreza los expone a riesgos de salud y a la estigmatización. Es fundamental formalizar su trabajo, garantizarles condiciones dignas y apoyar su organización para mejorar sus ingresos.',\n",
       " 'La escasez de agua potable en algunas comunidades rurales las obliga a comprar agua a precios elevados, lo que impacta gravemente su economía y agrava la pobreza. Es urgente invertir en infraestructura hídrica y garantizar el acceso equitativo a este recurso vital para todos.',\n",
       " 'La falta de oportunidades de empleo para personas con bajos niveles educativos en las ciudades los condena a la precariedad laboral y a la pobreza. Es necesario fortalecer los programas de formación técnica y vocacional que se ajusten a las demandas del mercado y promuevan la empleabilidad.',\n",
       " 'El acceso limitado a seguros agrarios para pequeños productores los deja desprotegidos ante pérdidas por clima o plagas, empujándolos a la pobreza. Es fundamental subsidiar estos seguros y promover su difusión para garantizar la resiliencia económica de los campesinos.',\n",
       " 'La situación de los niños y adolescentes que trabajan en las calles es una clara muestra de pobreza extrema y falta de oportunidades. Es urgente fortalecer los programas de protección a la infancia y de apoyo a las familias para que estos menores puedan regresar a la escuela y tener un futuro mejor.',\n",
       " 'La falta de una política de desarrollo rural integral que articule la producción agrícola con la infraestructura y los mercados mantiene a muchas comunidades en la pobreza. Es fundamental un enfoque multisectorial para generar oportunidades y mejorar la calidad de vida en el campo.',\n",
       " 'La dependencia económica de las remesas de familiares en el exterior es un signo de la falta de oportunidades internas y de la pobreza. Es crucial generar empleo y condiciones para que las personas puedan prosperar en su propio país y no tengan que emigrar por necesidad.',\n",
       " 'El endeudamiento excesivo de las familias de bajos ingresos con prestamistas informales, con altas tasas de interés, agrava su pobreza y las atrapa en un círculo vicioso. Es fundamental promover la educación financiera y el acceso a créditos formales y asequibles para todos.',\n",
       " 'La falta de servicios de guardería y cuidado infantil asequibles para madres trabajadoras en barrios vulnerables limita su participación en el mercado laboral y perpetúa la pobreza. Es necesario invertir en programas de cuidado infantil de calidad y accesibles para todas las familias.',\n",
       " 'La ausencia de un sistema de registro de tierras claro y accesible para comunidades indígenas y afrodescendientes las hace vulnerables al despojo y a la pérdida de sus territorios ancestrales, lo que profundiza su pobreza. Es fundamental garantizar sus derechos territoriales.',\n",
       " 'Es preocupante la falta de oportunidades para los jóvenes que terminan su bachillerato en zonas rurales, quienes a menudo tienen que migrar a las ciudades sin garantías de empleo. Es crucial invertir en educación superior técnica y en proyectos productivos en el campo para que puedan construir su futuro en sus propias comunidades.',\n",
       " 'La contaminación ambiental en barrios marginales, producto de la cercanía a zonas industriales o botaderos de basura, afecta la salud de sus habitantes y agrava su situación de pobreza. Es fundamental implementar políticas de control ambiental y de reubicación digna para estas comunidades.',\n",
       " 'La falta de acceso a servicios bancarios y de ahorro en comunidades remotas dificulta la gestión de los recursos económicos y perpetúa la pobreza. Es fundamental promover la banca móvil y los corresponsales bancarios para llevar los servicios financieros a todos los rincones del país.',\n",
       " 'El alto costo de los fertilizantes y semillas para los pequeños agricultores reduce sus ganancias y los mantiene en la pobreza. Es necesario implementar subsidios y programas de asistencia técnica para que puedan mejorar su productividad y rentabilidad de manera sostenible.',\n",
       " 'La falta de oportunidades de empleo para personas con antecedentes penales, una vez cumplen sus condenas, los condena a la reincidencia y a la pobreza. Es fundamental implementar programas de rehabilitación y de inserción laboral para garantizarles una segunda oportunidad en la sociedad.',\n",
       " 'La escasez de alimentos nutritivos y asequibles en tiendas de barrio de zonas vulnerables contribuye a la malnutrición y a la pobreza. Es fundamental promover la creación de mercados comunitarios y el apoyo a pequeños productores para garantizar la seguridad alimentaria.',\n",
       " 'La falta de un sistema de recolección de basuras eficiente en barrios marginales genera problemas de salubridad y afecta la calidad de vida de sus habitantes, perpetuando la pobreza. Es urgente invertir en infraestructura y programas de gestión de residuos sólidos para estas comunidades.',\n",
       " 'La dependencia de la economía informal por parte de muchos hogares en las ciudades los deja sin protección social y sin acceso a beneficios, profundizando la pobreza. Es fundamental promover la formalización laboral y la creación de empleos dignos con todas las garantías.',\n",
       " 'La dificultad para acceder a documentos de identidad para algunas poblaciones vulnerables, como migrantes o personas en zonas remotas, limita su acceso a servicios y derechos, contribuyendo a la pobreza. Es fundamental simplificar los trámites y garantizar la identificación para todos.',\n",
       " 'Es preocupante la falta de programas de adaptación al cambio climático para pequeños agricultores, quienes pierden sus cosechas por sequías o inundaciones, empujándolos a la pobreza. Es fundamental invertir en sistemas de riego eficientes y en cultivos resilientes.',\n",
       " 'La falta de acceso a servicios de salud reproductiva y planificación familiar en zonas rurales contribuye a embarazos no deseados y a un mayor número de hijos, lo que agrava la pobreza en las familias. Es fundamental garantizar el acceso a estos servicios para todos.',\n",
       " 'La ausencia de un apoyo efectivo a las microempresas y emprendimientos locales en barrios deprimidos limita su crecimiento y la generación de empleo. Es crucial fortalecer los programas de capacitación, asesoría y acceso a financiación para estas iniciativas.',\n",
       " 'La brecha salarial entre hombres y mujeres en algunos sectores laborales perpetúa la pobreza femenina y la desigualdad. Es fundamental implementar políticas de equidad salarial y promover la participación de las mujeres en todos los ámbitos económicos para reducir esta brecha.',\n",
       " 'La falta de acceso a información sobre oportunidades de empleo y programas de apoyo para jóvenes en zonas rurales los deja en desventaja. Es fundamental crear centros de información y orientación laboral que lleguen a todas las comunidades, democratizando el acceso a las oportunidades.',\n",
       " 'La explotación laboral de migrantes en condiciones precarias, con bajos salarios y sin derechos, agrava su situación de pobreza y los deja en una posición de vulnerabilidad extrema. Es fundamental proteger sus derechos laborales y garantizar condiciones dignas de trabajo.',\n",
       " 'La falta de programas de prevención y atención a la violencia intrafamiliar en comunidades vulnerables impacta negativamente la estabilidad económica de los hogares y perpetúa la pobreza. Es fundamental abordar estas problemáticas de manera integral y ofrecer apoyo a las víctimas.',\n",
       " 'El acceso limitado a energía eléctrica en zonas rurales remotas impide el desarrollo de actividades productivas y el acceso a la educación, profundizando la pobreza. Es fundamental invertir en energías renovables y en la electrificación rural para garantizar el acceso a todos.',\n",
       " 'La falta de un sistema de seguridad social integral que cubra a todos los trabajadores, incluyendo a los informales, los deja desprotegidos ante la enfermedad o la vejez, empujándolos a la pobreza. Es fundamental ampliar la cobertura y garantizar la protección social para todos.',\n",
       " 'La ausencia de un apoyo efectivo a las víctimas del conflicto armado, especialmente en zonas rurales, dificulta su recuperación económica y social, manteniéndolas en la pobreza. Es fundamental garantizarles reparación integral, acceso a tierras y proyectos productivos.',\n",
       " 'La falta de una distribución equitativa de los recursos naturales y de los beneficios de su explotación en comunidades locales agrava la pobreza y genera conflictos. Es fundamental garantizar la participación de las comunidades en la toma de decisiones y en la distribución de las ganancias.',\n",
       " 'La dificultad para acceder a servicios de transporte público en zonas de difícil acceso rural limita las oportunidades de sus habitantes para trabajar y estudiar, perpetuando la pobreza. Es fundamental mejorar la infraestructura vial y garantizar la conectividad para todos.',\n",
       " 'El alto costo de los servicios de telecomunicaciones en zonas rurales y deprimidas dificulta el acceso a la información y a oportunidades laborales, contribuyendo a la pobreza. Es fundamental promover la competencia y subsidiar el acceso a internet para estas comunidades.',\n",
       " 'La falta de programas de desarrollo turístico comunitario en zonas rurales con potencial podría generar ingresos y empleo, sacando a las comunidades de la pobreza. Es fundamental invertir en capacitación, infraestructura y promoción para aprovechar este potencial.',\n",
       " 'La ausencia de un sistema de gestión de riesgos de desastres en comunidades vulnerables las deja desprotegidas ante fenómenos climáticos extremos, lo que agrava su pobreza. Es fundamental invertir en prevención, alerta temprana y planes de contingencia para proteger a la población.',\n",
       " 'La falta de acceso a una alimentación balanceada y nutritiva en barrios marginales impacta la salud de sus habitantes y limita su capacidad para trabajar y estudiar, perpetuando la pobreza. Es fundamental promover la educación nutricional y el acceso a alimentos saludables.',\n",
       " 'El costo elevado de los insumos agrícolas y la dificultad para acceder a mercados justos para los pequeños productores los mantiene en la pobreza. Es fundamental fortalecer las cadenas de valor, promover la asociatividad y garantizar precios justos para sus productos.',\n",
       " 'La falta de acceso a servicios bancarios y de crédito para mujeres emprendedoras en zonas rurales limita su autonomía económica y su capacidad para generar ingresos. Es fundamental promover la inclusión financiera de género y apoyar sus iniciativas productivas.',\n",
       " 'La ausencia de un sistema de alcantarillado adecuado en barrios informales genera problemas de salubridad y enfermedades, afectando la calidad de vida y perpetuando la pobreza. Es fundamental invertir en infraestructura básica y en programas de saneamiento ambiental.',\n",
       " 'La falta de programas de educación financiera para la población de bajos ingresos los hace vulnerables a la usura y al endeudamiento excesivo, lo que agrava su pobreza. Es fundamental promover la alfabetización financiera y el acceso a herramientas de ahorro y crédito responsables.',\n",
       " 'La dificultad para acceder a atención médica especializada en zonas rurales obliga a las personas a viajar a las ciudades, incurriendo en gastos que empujan a la pobreza. Es fundamental fortalecer la atención primaria y la telemedicina para llevar los servicios a todos los rincones.',\n",
       " 'La falta de oportunidades para la población indígena en el acceso a la educación bilingüe y a empleos dignos perpetúa la pobreza y la exclusión. Es fundamental respetar sus culturas y apoyar iniciativas que promuevan su desarrollo integral y la valoración de sus conocimientos.',\n",
       " 'La dependencia de la ayuda humanitaria en algunas comunidades desplazadas por la violencia es un signo de la falta de soluciones duraderas y de la pobreza. Es fundamental garantizarles acceso a tierras, proyectos productivos y acompañamiento psicosocial para reconstruir sus vidas.',\n",
       " 'El alto costo de los servicios funerarios es una carga económica insostenible para muchas familias de bajos ingresos, quienes recurren a préstamos que los endeudan aún más, profundizando la pobreza. Es fundamental explorar programas de subsidios o seguros funerarios accesibles.',\n",
       " 'La falta de programas de reforestación y conservación ambiental en zonas rurales afectadas por la deforestación impacta la calidad de los suelos y el agua, afectando la productividad agrícola y agravando la pobreza. Es fundamental invertir en la restauración ecológica y en prácticas sostenibles.',\n",
       " 'La ausencia de un registro civil de nacimientos accesible para todas las comunidades, especialmente en zonas remotas, limita el acceso a derechos y servicios para los niños, contribuyendo a la pobreza. Es fundamental simplificar los trámites y garantizar la identificación de todos los menores.',\n",
       " 'La explotación de recursos naturales en territorios indígenas sin su consentimiento y sin una distribución justa de los beneficios agrava la pobreza y genera conflictos. Es fundamental respetar sus derechos territoriales, culturales y promover la consulta previa libre e informada.',\n",
       " 'La falta de acceso a servicios de internet de calidad y asequibles en las zonas rurales es una barrera para la educación a distancia y el acceso a mercados, perpetuando la pobreza. Es fundamental invertir en infraestructura de telecomunicaciones y en programas de conectividad rural.',\n",
       " 'La informalidad en el sector de la construcción expone a muchos trabajadores a condiciones precarias, bajos salarios y falta de seguridad social, profundizando la pobreza. Es fundamental promover la formalización laboral y garantizar el cumplimiento de los derechos laborales en este sector.',\n",
       " 'La dificultad para acceder a programas de capacitación en nuevas tecnologías para trabajadores de bajos ingresos los deja rezagados en el mercado laboral y en la pobreza. Es fundamental invertir en formación profesional que responda a las demandas de la economía digital.',\n",
       " 'La falta de un sistema de pensiones digno y con cobertura para todos los trabajadores, incluyendo a los informales, los condena a la pobreza en la vejez. Es fundamental reformar el sistema pensional para garantizar una vejez con bienestar y sin precariedad económica para toda la población.',\n",
       " 'La ausencia de programas de apoyo a la pequeña minería artesanal y legal, con asistencia técnica y acceso a mercados justos, empuja a muchos mineros a la ilegalidad y a la pobreza. Es fundamental formalizar el sector y garantizar condiciones dignas de trabajo y sostenibilidad ambiental.',\n",
       " 'La falta de una política de control de precios para productos básicos en momentos de crisis o desabastecimiento afecta desproporcionadamente a las familias más pobres, quienes no pueden acceder a alimentos esenciales. Es fundamental proteger el poder adquisitivo de los más vulnerables.',\n",
       " 'La dificultad para acceder a servicios de apoyo psicosocial para víctimas de la violencia en zonas rurales agrava su situación de pobreza y limita su capacidad para reconstruir sus vidas. Es fundamental garantizar una atención integral que incluya el acompañamiento psicológico y social.',\n",
       " 'La ausencia de un sistema de saneamiento básico en barrios informales, con recolección de aguas residuales y basuras, genera enfermedades y afecta la calidad de vida, perpetuando la pobreza. Es fundamental invertir en infraestructura y en programas de educación ambiental.',\n",
       " 'La falta de acceso a servicios de orientación laboral y de intermediación de empleo para jóvenes de bajos ingresos los deja a la deriva en la búsqueda de trabajo. Es fundamental fortalecer las bolsas de empleo y los programas de acompañamiento para facilitar su inserción laboral.',\n",
       " 'El alto costo de los servicios de transporte intermunicipal en zonas rurales dificulta el acceso a mercados, educación y salud, empujando a las comunidades a la pobreza. Es fundamental subsidiar estas rutas y mejorar la infraestructura vial para garantizar la conectividad.',\n",
       " 'La falta de una política de vivienda de interés social que responda a las necesidades de las familias más vulnerables, con opciones de alquiler asequible y programas de mejoramiento de vivienda, agrava la pobreza. Es fundamental garantizar el derecho a una vivienda digna para todos.',\n",
       " 'La ausencia de programas de apoyo a la pesca artesanal, con asistencia técnica y acceso a mercados justos, mantiene a muchas comunidades costeras en la pobreza. Es fundamental fortalecer este sector, promover prácticas sostenibles y garantizar la protección de los ecosistemas marinos.',\n",
       " 'La dificultad para acceder a servicios de energía eléctrica en comunidades indígenas y afrodescendientes limita su desarrollo económico y su acceso a la educación, profundizando la pobreza. Es fundamental invertir en soluciones energéticas sostenibles y culturalmente apropiadas.',\n",
       " 'La falta de una política de reactivación económica y de generación de empleo en zonas deprimidas, con incentivos a la inversión y al emprendimiento local, perpetúa la pobreza. Es fundamental un plan estratégico que impulse el desarrollo productivo y la creación de oportunidades.',\n",
       " 'La ausencia de un sistema de justicia transparente y accesible para todos, especialmente para las poblaciones más pobres, genera impunidad y reproduce la desigualdad, contribuyendo a la pobreza. Es fundamental fortalecer la institucionalidad y garantizar el acceso a la justicia para todos.',\n",
       " 'La falta de programas de apoyo a las mujeres cabeza de familia, con acceso a guarderías, capacitación laboral y créditos, limita su autonomía económica y las mantiene en la pobreza. Es fundamental empoderarlas y reconocer su rol fundamental en la sociedad, garantizando su bienestar.',\n",
       " 'El alto costo de los arriendos en las ciudades es una carga insostenible para muchas familias de bajos ingresos, quienes se ven obligadas a vivir en condiciones precarias o a endeudarse, profundizando la pobreza. Es fundamental regular el mercado de alquiler y promover opciones de vivienda asequible.',\n",
       " 'La falta de acceso a servicios de recreación y deporte en barrios marginales limita el desarrollo integral de los niños y jóvenes, exponiéndolos a la violencia y a la pobreza. Es fundamental invertir en espacios públicos seguros y en programas deportivos y culturales para estas comunidades.',\n",
       " 'La ausencia de un sistema de información laboral que conecte la oferta con la demanda de empleo en zonas rurales y deprimidas dificulta la inserción de los jóvenes al mercado. Es fundamental crear plataformas y centros de empleo que faciliten esta conexión y promuevan la empleabilidad local.',\n",
       " 'La dificultad para acceder a servicios de internet de alta velocidad en zonas rurales es una barrera para la telemedicina, la educación a distancia y el acceso a mercados, perpetuando la pobreza. Es fundamental invertir en infraestructura de fibra óptica y en programas de conectividad de última milla.',\n",
       " 'La falta de programas de desarrollo empresarial y de apoyo a la innovación en comunidades de bajos ingresos limita su capacidad para generar valor agregado y salir de la pobreza. Es fundamental fomentar el emprendimiento y la creatividad, brindando herramientas y acompañamiento a los innovadores locales.',\n",
       " 'La ausencia de un sistema de registro y titulación de predios para las comunidades afrodescendientes las hace vulnerables al despojo y a la pérdida de sus territorios ancestrales, lo que profundiza su pobreza. Es fundamental garantizar sus derechos territoriales y culturales.',\n",
       " 'La falta de una política de seguridad alimentaria que garantice el acceso a alimentos nutritivos y asequibles para todos los colombianos, especialmente en zonas deprimidas, perpetúa la desnutrición y la pobreza. Es fundamental fortalecer los programas de apoyo a pequeños agricultores y mercados locales.',\n",
       " 'La dificultad para acceder a servicios de salud mental en zonas rurales, por la falta de profesionales y la estigmatización, agrava las condiciones de pobreza y el bienestar de las comunidades. Es fundamental descentralizar la atención y promover la sensibilización sobre la importancia de la salud mental.',\n",
       " 'La ausencia de programas de apoyo a la producción de panela y café en pequeñas fincas, con asistencia técnica y acceso a mercados justos, mantiene a muchas familias campesinas en la pobreza. Es fundamental fortalecer estas cadenas de valor y garantizar precios justos para sus productos ancestrales.',\n",
       " 'La falta de acceso a servicios de transporte público nocturno en las ciudades limita las oportunidades laborales para muchas personas de bajos ingresos, especialmente mujeres, que trabajan en turnos nocturnos. Es fundamental garantizar un transporte seguro y accesible para todos, en cualquier horario.',\n",
       " 'La dificultad para acceder a servicios de energía eléctrica en barrios informales genera riesgos de seguridad y limita el acceso a la educación y al trabajo, profundizando la pobreza. Es fundamental legalizar las conexiones y promover soluciones energéticas seguras y asequibles para estas comunidades.',\n",
       " 'La ausencia de un sistema de protección social integral para los trabajadores de la economía digital, como domiciliarios o conductores de plataformas, los deja sin seguridad social ni beneficios, contribuyendo a la pobreza. Es fundamental regularizar esta modalidad de empleo y garantizar sus derechos.',\n",
       " 'La falta de programas de apoyo a la producción de artesanías y a la comercialización justa de productos locales en comunidades indígenas y afrodescendientes limita su desarrollo económico y perpetúa la pobreza. Es fundamental valorar sus saberes ancestrales y promover mercados éticos.',\n",
       " 'La dificultad para acceder a servicios de internet en las cárceles limita las oportunidades de rehabilitación y de acceso a la educación para los reclusos, lo que agrava su situación de pobreza una vez salen en libertad. Es fundamental invertir en programas de resocialización digital.',\n",
       " 'La ausencia de programas de atención y prevención del trabajo infantil en zonas urbanas marginales, donde muchos niños venden dulces o limpian carros, perpetúa la pobreza y vulnera sus derechos. Es fundamental fortalecer las redes de protección y el apoyo a las familias.',\n",
       " 'La falta de acceso a servicios de agua potable y saneamiento en zonas de alto riesgo por deslizamientos o inundaciones agrava la pobreza y la vulnerabilidad de las comunidades. Es fundamental reubicar dignamente a estas poblaciones y garantizarles servicios básicos de calidad.',\n",
       " 'La dificultad para acceder a servicios de salud sexual y reproductiva para adolescentes en zonas rurales contribuye a embarazos tempranos y a la perpetuación de la pobreza. Es fundamental promover la educación sexual integral y el acceso a métodos anticonceptivos para los jóvenes.',\n",
       " 'La ausencia de programas de apoyo a la reincorporación de víctimas de minas antipersona y municiones sin explotar, con acceso a prótesis, rehabilitación y proyectos productivos, agrava su pobreza y la exclusión. Es fundamental garantizarles una atención integral y un futuro digno.',\n",
       " 'La falta de una política de desarrollo rural que promueva la diversificación económica y el valor agregado de los productos agrícolas mantiene a muchas comunidades en la pobreza. Es fundamental invertir en agroindustria y en la transformación de materias primas para generar mayores ingresos.',\n",
       " 'La dificultad para acceder a servicios de transporte público en zonas periurbanas de crecimiento rápido limita las oportunidades de sus habitantes para trabajar y estudiar, perpetuando la pobreza. Es fundamental planificar el transporte de manera integral y garantizar la conectividad para todos.',\n",
       " 'La ausencia de programas de apoyo a la economía campesina y a la producción de alimentos orgánicos, con asistencia técnica y acceso a mercados justos, mantiene a muchas familias en la pobreza. Es fundamental promover la agricultura sostenible y garantizar la seguridad alimentaria local.',\n",
       " 'La falta de acceso a servicios de justicia restaurativa y de mediación para conflictos comunitarios en barrios vulnerables perpetúa la violencia y la desconfianza, afectando la convivencia y la capacidad de progreso, profundizando la pobreza. Es fundamental promover mecanismos alternativos de resolución de conflictos.',\n",
       " 'La dificultad para acceder a servicios de salud para migrantes irregulares los deja en una situación de extrema vulnerabilidad y agrava su pobreza. Es fundamental garantizar el acceso a la atención médica básica para todos, sin importar su estatus migratorio, por razones humanitarias.',\n",
       " 'La ausencia de programas de apoyo a la producción de miel y otros productos apícolas en zonas rurales, con asistencia técnica y acceso a mercados justos, limita el desarrollo económico y mantiene a muchas familias en la pobreza. Es fundamental fortalecer este sector y promover la conservación de las abejas.',\n",
       " 'La falta de acceso a servicios de educación ambiental y de conciencia sobre el cambio climático en comunidades vulnerables limita su capacidad para adaptarse a los impactos y agrava su pobreza. Es fundamental promover la educación para la sostenibilidad y la participación ciudadana en la gestión ambiental.',\n",
       " 'La dificultad para acceder a servicios de transporte público en zonas de ladera o de difícil acceso en las ciudades limita las oportunidades de sus habitantes para trabajar y estudiar, perpetuando la pobreza. Es fundamental invertir en sistemas de transporte alternativos y en infraestructura accesible.',\n",
       " 'La ausencia de un sistema de alertas tempranas para desastres naturales en comunidades vulnerables las deja desprotegidas y expuestas a pérdidas materiales y humanas, lo que agrava su pobreza. Es fundamental fortalecer la capacidad de respuesta y la resiliencia de estas poblaciones.',\n",
       " 'La falta de acceso a servicios de banca móvil y corresponsales bancarios en zonas rurales remotas dificulta la gestión de los recursos económicos y perpetúa la pobreza. Es fundamental promover la inclusión financiera digital y llevar los servicios bancarios a todos los rincones del país.',\n",
       " 'La dificultad para acceder a servicios de salud para personas con enfermedades crónicas en zonas rurales, por la falta de especialistas y medicamentos, agrava su situación de pobreza y su calidad de vida. Es fundamental fortalecer la red de atención y garantizar la disponibilidad de tratamientos.',\n",
       " 'La ausencia de programas de apoyo a la producción de cacao y otros cultivos de economía lícita en zonas antes afectadas por cultivos ilícitos, con asistencia técnica y acceso a mercados justos, mantiene a muchas familias en la pobreza. Es fundamental fortalecer estas alternativas productivas y promover la paz territorial.',\n",
       " 'La falta de acceso a servicios de internet en las bibliotecas públicas de barrios marginales limita las oportunidades de acceso a la información y a la educación para los niños y jóvenes, contribuyendo a la pobreza. Es fundamental invertir en la digitalización de estos espacios.',\n",
       " 'La dificultad para acceder a servicios de transporte público adaptado para personas con discapacidad en las ciudades limita su autonomía y su acceso a oportunidades laborales, contribuyendo a la pobreza. Es fundamental garantizar un transporte inclusivo y accesible para todos.',\n",
       " 'La ausencia de programas de apoyo a la producción de lácteos y cárnicos en pequeñas fincas, con asistencia técnica y acceso a mercados justos, mantiene a muchas familias campesinas en la pobreza. Es fundamental fortalecer estas cadenas de valor y garantizar precios justos para sus productos.',\n",
       " 'La falta de acceso a servicios de educación sexual y reproductiva para jóvenes en barrios marginales contribuye a embarazos adolescentes y a la perpetuación de la pobreza. Es fundamental promover la educación integral y el acceso a información y métodos de planificación familiar.',\n",
       " 'La dificultad para acceder a servicios de salud mental para la población migrante, por la barrera del idioma y la estigmatización, agrava su situación de pobreza y su bienestar. Es fundamental adaptar los servicios y promover la inclusión cultural en la atención a la salud mental.',\n",
       " 'La ausencia de programas de apoyo a la producción de frutas y verduras en huertas caseras y comunitarias en barrios vulnerables, con asistencia técnica y acceso a mercados locales, contribuye a la seguridad alimentaria y a la reducción de la pobreza. Es fundamental fomentar estas iniciativas.',\n",
       " 'La falta de acceso a servicios de internet de calidad en los parques y espacios públicos de barrios marginales limita las oportunidades de acceso a la información y a la educación para los niños y jóvenes, contribuyendo a la pobreza. Es fundamental invertir en la conectividad de estos espacios.',\n",
       " 'La dificultad para acceder a servicios de transporte público para personas mayores en zonas rurales limita su autonomía y su acceso a servicios de salud y bienestar, contribuyendo a la pobreza. Es fundamental garantizar un transporte accesible y con tarifas preferenciales para esta población.',\n",
       " 'La ausencia de programas de apoyo a la producción de quinua y otros cultivos andinos ancestrales en comunidades indígenas, con asistencia técnica y acceso a mercados justos, limita su desarrollo económico y perpetúa la pobreza. Es fundamental valorar sus saberes y promover la agricultura sostenible.',\n",
       " 'La falta de acceso a servicios de educación vial y de seguridad para motociclistas en zonas rurales, donde este es el principal medio de transporte, contribuye a accidentes y a la pobreza por gastos médicos. Es fundamental promover la educación y la seguridad vial para todos los usuarios de la vía.',\n",
       " 'La dificultad para acceder a servicios de internet en los centros comunitarios de barrios marginales limita las oportunidades de acceso a la información y a la educación para los adultos, contribuyendo a la pobreza. Es fundamental invertir en la digitalización de estos espacios.',\n",
       " 'La ausencia de programas de apoyo a la producción de cacao fino de aroma y otros productos de nicho en zonas rurales, con asistencia técnica y acceso a mercados especializados, limita el desarrollo económico y mantiene a muchas familias en la pobreza. Es fundamental fortalecer estas cadenas de valor.',\n",
       " 'La falta de acceso a servicios de educación para adultos y de alfabetización en zonas rurales y deprimidas perpetúa la pobreza y limita las oportunidades de progreso. Es fundamental invertir en programas de educación para toda la vida y en la alfabetización de adultos.',\n",
       " 'La dificultad para acceder a servicios de transporte público en zonas de alto riesgo por violencia o conflicto limita las oportunidades de sus habitantes para trabajar y estudiar, perpetuando la pobreza. Es fundamental garantizar un transporte seguro y accesible para todos, incluso en estas zonas.',\n",
       " 'La ausencia de programas de apoyo a la producción de artesanías en materiales reciclados y a la comercialización justa en comunidades vulnerables, con asistencia técnica y acceso a mercados éticos, contribuye a la reducción de la pobreza y a la sostenibilidad ambiental. Es fundamental fomentar estas iniciativas.',\n",
       " 'La falta de acceso a servicios de internet de calidad en los hospitales y centros de salud de zonas rurales limita el acceso a la telemedicina y a la información médica para los pacientes, lo que agrava su situación de pobreza. Es fundamental invertir en la conectividad de estos espacios.',\n",
       " 'La dificultad para acceder a servicios de transporte público en zonas de difícil acceso montañoso limita las oportunidades de sus habitantes para trabajar y estudiar, perpetuando la pobreza. Es fundamental invertir en infraestructura vial y en soluciones de transporte adaptadas a estas condiciones.',\n",
       " 'La ausencia de programas de apoyo a la producción de café especial y de alta calidad en pequeñas fincas, con asistencia técnica y acceso a mercados justos, mantiene a muchas familias campesinas en la pobreza. Es fundamental fortalecer estas cadenas de valor y garantizar precios justos para sus productos.',\n",
       " 'La falta de acceso a servicios de educación para la paz y la reconciliación en zonas afectadas por el conflicto limita la construcción de un futuro con oportunidades y perpetúa la pobreza. Es fundamental invertir en programas que promuevan la convivencia pacífica y la superación de las heridas del pasado.',\n",
       " 'La dificultad para acceder a servicios de internet en los centros educativos de zonas rurales limita las oportunidades de acceso a la información y a la educación para los niños y jóvenes, contribuyendo a la pobreza. Es fundamental invertir en la conectividad de estos espacios y en la formación de docentes.',\n",
       " 'La ausencia de programas de apoyo a la producción de aceites esenciales y otros productos derivados de plantas medicinales en comunidades indígenas, con asistencia técnica y acceso a mercados justos, limita su desarrollo económico y perpetúa la pobreza. Es fundamental valorar sus saberes ancestrales.',\n",
       " 'La falta de acceso a servicios de información sobre derechos laborales y protección social para trabajadores informales los deja en una situación de vulnerabilidad y agrava su pobreza. Es fundamental promover la difusión de esta información y el acceso a asesoría legal gratuita.',\n",
       " 'La dificultad para acceder a servicios de transporte público en zonas de expansión urbana sin planificación limita las oportunidades de sus habitantes para trabajar y estudiar, perpetuando la pobreza. Es fundamental planificar el transporte de manera integral y garantizar la conectividad para todos.',\n",
       " 'La ausencia de programas de apoyo a la producción de trucha y otros productos piscícolas en zonas rurales, con asistencia técnica y acceso a mercados justos, limita el desarrollo económico y mantiene a muchas familias en la pobreza. Es fundamental fortalecer este sector y promover prácticas sostenibles.',\n",
       " 'La falta de acceso a servicios de educación financiera para jóvenes emprendedores en barrios marginales limita su capacidad para gestionar sus negocios y salir de la pobreza. Es fundamental promover la alfabetización financiera y el acceso a herramientas de crédito y ahorro para este sector.',\n",
       " 'La dificultad para acceder a servicios de internet de calidad y asequibles en las veredas más remotas del país es una barrera para el desarrollo económico y la educación, perpetuando la pobreza. Es fundamental invertir en infraestructura de telecomunicaciones y en programas de conectividad rural.',\n",
       " 'La ausencia de programas de apoyo a la producción de flores exóticas y otros productos de exportación en zonas rurales, con asistencia técnica y acceso a mercados especializados, limita el desarrollo económico y mantiene a muchas familias en la pobreza. Es fundamental fortalecer estas cadenas de valor.',\n",
       " 'La falta de acceso a servicios de orientación vocacional y de empleo para personas mayores en las ciudades los deja en desventaja en el mercado laboral y en la pobreza. Es fundamental promover la inclusión laboral de la tercera edad y adaptar los entornos de trabajo para ellos.',\n",
       " 'La dificultad para acceder a servicios de transporte público en zonas costeras sin infraestructura vial adecuada limita las oportunidades de sus habitantes para trabajar y estudiar, perpetuando la pobreza. Es fundamental invertir en infraestructura y en soluciones de transporte adaptadas a estas condiciones geográficas.',\n",
       " 'La ausencia de programas de apoyo a la producción de textiles y artesanías en lana de oveja en comunidades rurales, con asistencia técnica y acceso a mercados justos, limita el desarrollo económico y mantiene a muchas familias en la pobreza. Es fundamental valorar sus saberes ancestrales y promover mercados éticos.',\n",
       " 'La falta de acceso a servicios de educación para la primera infancia de calidad y asequibles en barrios marginales limita el desarrollo cognitivo y social de los niños, perpetuando la pobreza. Es fundamental invertir en jardines infantiles y en programas de atención integral para la primera infancia.',\n",
       " 'La dificultad para acceder a servicios de internet en los puntos de atención al ciudadano de zonas rurales limita las oportunidades de acceso a trámites y servicios para la población, contribuyendo a la pobreza. Es fundamental invertir en la conectividad de estos espacios y en la formación de los funcionarios.',\n",
       " 'La ausencia de programas de apoyo a la producción de quesos artesanales y otros productos lácteos en pequeñas fincas, con asistencia técnica y acceso a mercados justos, mantiene a muchas familias campesinas en la pobreza. Es fundamental fortalecer estas cadenas de valor y garantizar precios justos para sus productos.',\n",
       " 'La falta de acceso a servicios de educación sexual y reproductiva para hombres jóvenes en barrios marginales contribuye a la irresponsabilidad paterna y a la perpetuación de la pobreza. Es fundamental promover la educación integral y el acceso a información y métodos de planificación familiar para todos.',\n",
       " 'La dificultad para acceder a servicios de salud mental para personas desplazadas por la violencia, por el trauma y la estigmatización, agrava su situación de pobreza y su bienestar. Es fundamental adaptar los servicios y promover la inclusión cultural en la atención a la salud mental para esta población.',\n",
       " 'La ausencia de programas de apoyo a la producción de panela granulada y otros productos agroindustriales en zonas rurales, con asistencia técnica y acceso a mercados justos, limita el desarrollo económico y mantiene a muchas familias en la pobreza. Es fundamental fortalecer estas cadenas de valor y promover la innovación.',\n",
       " 'La falta de acceso a servicios de internet de calidad en los centros de salud de zonas rurales limita el acceso a la telemedicina y a la información médica para los pacientes, lo que agrava su situación de pobreza. Es fundamental invertir en la conectividad de estos espacios y en la formación de los profesionales.',\n",
       " 'La dificultad para acceder a servicios de transporte público en zonas de difícil acceso por inundaciones recurrentes limita las oportunidades de sus habitantes para trabajar y estudiar, perpetuando la pobreza. Es fundamental invertir en infraestructura resiliente y en soluciones de transporte adaptadas a estas condiciones climáticas.',\n",
       " 'La ausencia de programas de apoyo a la producción de cacao y sus derivados en comunidades indígenas, con asistencia técnica y acceso a mercados justos, limita su desarrollo económico y perpetúa la pobreza. Es fundamental valorar sus saberes ancestrales y promover la producción sostenible y diferenciada.',\n",
       " 'La falta de acceso a servicios de educación para la inclusión y la diversidad en las escuelas de barrios marginales limita el desarrollo integral de los niños y jóvenes, exponiéndolos a la discriminación y a la pobreza. Es fundamental invertir en programas que promuevan el respeto y la valoración de las diferencias.',\n",
       " 'La dificultad para acceder a servicios de internet en las alcaldías locales de zonas rurales limita las oportunidades de acceso a trámites y servicios para la población, contribuyendo a la pobreza. Es fundamental invertir en la conectividad de estos espacios y en la formación de los funcionarios públicos.',\n",
       " 'La ausencia de programas de apoyo a la producción de café orgánico y de comercio justo en pequeñas fincas, con asistencia técnica y acceso a mercados especializados, limita el desarrollo económico y mantiene a muchas familias campesinas en la pobreza. Es fundamental fortalecer estas cadenas de valor y garantizar precios justos.',\n",
       " 'La falta de acceso a servicios de educación vial y de seguridad para ciclistas y peatones en las ciudades, especialmente en barrios marginales, contribuye a accidentes y a la pobreza por gastos médicos. Es fundamental promover la educación y la seguridad vial para todos los usuarios de la vía, sin excepción.',\n",
       " 'La dificultad para acceder a servicios de internet de calidad en los mercados campesinos de zonas rurales limita las oportunidades de acceso a información sobre precios y demandas para los productores, lo que agrava su situación de pobreza. Es fundamental invertir en la conectividad de estos espacios y en la formación de los agricultores.',\n",
       " 'La ausencia de programas de apoyo a la producción de frutas exóticas y otros productos de alto valor en zonas rurales, con asistencia técnica y acceso a mercados gourmet, limita el desarrollo económico y mantiene a muchas familias en la pobreza. Es fundamental fortalecer estas cadenas de valor y promover la innovación en el campo.',\n",
       " 'La falta de acceso a servicios de orientación vocacional y de empleo para personas con discapacidad en las ciudades los deja en desventaja en el mercado laboral y en la pobreza. Es fundamental promover la inclusión laboral de este sector y adaptar los entornos de trabajo para ellos, con todo el acompañamiento necesario.',\n",
       " 'La dificultad para acceder a servicios de transporte público en zonas fronterizas sin infraestructura vial adecuada limita las oportunidades de sus habitantes para trabajar y estudiar, perpetuando la pobreza. Es fundamental invertir en infraestructura y en soluciones de transporte adaptadas a estas condiciones geográficas y políticas.',\n",
       " 'La ausencia de programas de apoyo a la producción de artesanías en materiales naturales y a la comercialización justa en comunidades indígenas, con asistencia técnica y acceso a mercados éticos, limita su desarrollo económico y perpetúa la pobreza. Es fundamental valorar sus saberes ancestrales y promover su autonomía económica.',\n",
       " 'La falta de acceso a servicios de educación para la resiliencia y la adaptación al cambio climático en comunidades vulnerables limita su capacidad para enfrentar los impactos y agrava su pobreza. Es fundamental invertir en programas que promuevan la conciencia ambiental y la preparación para eventos extremos.',\n",
       " 'La dificultad para acceder a servicios de internet en las emisoras comunitarias de zonas rurales limita las oportunidades de acceso a la información y a la comunicación para la población, contribuyendo a la pobreza. Es fundamental invertir en la conectividad de estos espacios y en la formación de los comunicadores locales.',\n",
       " 'La ausencia de programas de apoyo a la producción de plantas ornamentales y flores de corte en pequeñas fincas, con asistencia técnica y acceso a mercados especializados, limita el desarrollo económico y mantiene a muchas familias campesinas en la pobreza. Es fundamental fortalecer estas cadenas de valor y promover la innovación en el sector floricultor.',\n",
       " 'La falta de acceso a servicios de educación sexual y reproductiva para padres y madres en barrios marginales contribuye a la falta de planificación familiar y a la perpetuación de la pobreza. Es fundamental promover la educación integral y el acceso a información y métodos de planificación familiar para todos los adultos.',\n",
       " 'La dificultad para acceder a servicios de salud mental para personas con enfermedades crónicas en zonas urbanas marginales, por la falta de especialistas y la estigmatización, agrava su situación de pobreza y su bienestar. Es fundamental integrar la atención y promover la sensibilización sobre la importancia de la salud mental en estas comunidades.',\n",
       " 'La ausencia de programas de apoyo a la producción de productos lácteos con valor agregado, como yogures y quesos madurados, en zonas rurales, con asistencia técnica y acceso a mercados justos, limita el desarrollo económico y mantiene a muchas familias en la pobreza. Es fundamental fortalecer estas cadenas de valor y promover la diferenciación de productos.',\n",
       " 'La falta de acceso a servicios de internet de calidad en los puestos de votación de zonas rurales limita las oportunidades de acceso a la información electoral y a la participación ciudadana para la población, contribuyendo a la pobreza. Es fundamental invertir en la conectividad de estos espacios y en la educación cívica.',\n",
       " 'La dificultad para acceder a servicios de transporte público en zonas de difícil acceso por derrumbes recurrentes limita las oportunidades de sus habitantes para trabajar y estudiar, perpetuando la pobreza. Es fundamental invertir en infraestructura vial resiliente y en soluciones de transporte adaptadas a estas condiciones geológicas.',\n",
       " 'La ausencia de programas de apoyo a la producción de alimentos orgánicos y de agricultura sostenible en comunidades indígenas, con asistencia técnica y acceso a mercados justos, limita su desarrollo económico y perpetúa la pobreza. Es fundamental valorar sus saberes ancestrales y promover la soberanía alimentaria.',\n",
       " 'La falta de acceso a servicios de educación para la ciudadanía y la participación democrática en las escuelas de barrios marginales limita el desarrollo integral de los niños y jóvenes, exponiéndolos a la manipulación y a la pobreza. Es fundamental invertir en programas que promuevan el pensamiento crítico y la participación activa.',\n",
       " 'La dificultad para acceder a servicios de internet en los centros culturales de zonas rurales limita las oportunidades de acceso a la información y a la expresión artística para la población, contribuyendo a la pobreza. Es fundamental invertir en la conectividad de estos espacios y en la formación de los gestores culturales locales.',\n",
       " 'La ausencia de programas de apoyo a la producción de huevos criollos y otros productos avícolas en pequeñas fincas, con asistencia técnica y acceso a mercados justos, mantiene a muchas familias campesinas en la pobreza. Es fundamental fortalecer estas cadenas de valor y garantizar precios justos para sus productos.',\n",
       " 'La falta de acceso a servicios de educación sexual y reproductiva para personas con discapacidad en las ciudades contribuye a la falta de autonomía y a la perpetuación de la pobreza. Es fundamental promover la educación integral y el acceso a información y métodos de planificación familiar adaptados a sus necesidades.',\n",
       " 'La dificultad para acceder a servicios de salud mental para personas LGTBIQ+ en zonas urbanas marginales, por la estigmatización y la discriminación, agrava su situación de pobreza y su bienestar. Es fundamental adaptar los servicios y promover la inclusión y el respeto en la atención a la salud mental para esta población.',\n",
       " 'La ausencia de programas de apoyo a la producción de cervezas artesanales y otros productos fermentados en zonas rurales, con asistencia técnica y acceso a mercados justos, limita el desarrollo económico y mantiene a muchas familias en la pobreza. Es fundamental fortalecer estas cadenas de valor y promover la innovación en el sector agroindustrial.',\n",
       " 'La falta de acceso a servicios de internet de calidad en los parques naturales de zonas rurales limita las oportunidades de acceso a la información turística y a la educación ambiental para los visitantes, lo que agrava la pobreza en las comunidades aledañas. Es fundamental invertir en la conectividad de estos espacios y en la promoción del ecoturismo.',\n",
       " 'La dificultad para acceder a servicios de transporte público en zonas de difícil acceso por inundaciones estacionales limita las oportunidades de sus habitantes para trabajar y estudiar, perpetuando la pobreza. Es fundamental invertir en infraestructura resiliente y en soluciones de transporte adaptadas a estas condiciones climáticas cambiantes.',\n",
       " 'La ausencia de programas de apoyo a la producción de miel de abejas nativas y otros productos forestales no maderables en comunidades indígenas, con asistencia técnica y acceso a mercados justos, limita su desarrollo económico y perpetúa la pobreza. Es fundamental valorar sus saberes ancestrales y promover la conservación de la biodiversidad.',\n",
       " 'La falta de acceso a servicios de educación para la prevención de desastres y la gestión del riesgo en las escuelas de barrios marginales limita el desarrollo integral de los niños y jóvenes, exponiéndolos a la vulnerabilidad y a la pobreza. Es fundamental invertir en programas que promuevan la cultura de la prevención y la resiliencia comunitaria.',\n",
       " 'La dificultad para acceder a servicios de internet en los puestos de salud de zonas rurales limita las oportunidades de acceso a la telemedicina y a la información médica para la población, contribuyendo a la pobreza. Es fundamental invertir en la conectividad de estos espacios y en la formación de los profesionales de la salud.',\n",
       " 'La ausencia de programas de apoyo a la producción de productos lácteos con denominación de origen y otros productos diferenciados en zonas rurales, con asistencia técnica y acceso a mercados especializados, limita el desarrollo económico y mantiene a muchas familias en la pobreza. Es fundamental fortalecer estas cadenas de valor y promover la protección de la propiedad intelectual.',\n",
       " 'La falta de acceso a servicios de educación sexual y reproductiva para personas privadas de la libertad contribuye a la falta de planificación familiar y a la perpetuación de la pobreza en sus familias. Es fundamental promover la educación integral y el acceso a información y métodos de planificación familiar en los centros penitenciarios.',\n",
       " 'La dificultad para acceder a servicios de salud mental para personas con problemas de adicción en zonas urbanas marginales, por la falta de especialistas y la estigmatización, agrava su situación de pobreza y su bienestar. Es fundamental integrar la atención y promover la sensibilización sobre la importancia de la salud mental y la rehabilitación en estas comunidades.',\n",
       " 'La ausencia de programas de apoyo a la producción de vinos artesanales y otros productos vitivinícolas en zonas rurales, con asistencia técnica y acceso a mercados justos, limita el desarrollo económico y mantiene a muchas familias en la pobreza. Es fundamental fortalecer estas cadenas de valor y promover la innovación en el sector vitivinícola.',\n",
       " 'La falta de acceso a servicios de internet de calidad en los centros deportivos de zonas rurales limita las oportunidades de acceso a la información sobre entrenamientos y competencias para los atletas, lo que agrava la pobreza en las comunidades aledañas. Es fundamental invertir en la conectividad de estos espacios y en la promoción del deporte.',\n",
       " 'La dificultad para acceder a servicios de transporte público en zonas de difícil acceso por deslizamientos de tierra limita las oportunidades de sus habitantes para trabajar y estudiar, perpetuando la pobreza. Es fundamental invertir en infraestructura vial resiliente y en soluciones de transporte adaptadas a estas condiciones geológicas inestables.',\n",
       " 'La ausencia de programas de apoyo a la producción de artesanías en barro y cerámica en comunidades indígenas, con asistencia técnica y acceso a mercados justos, limita su desarrollo económico y perpetúa la pobreza. Es fundamental valorar sus saberes ancestrales y promover la comercialización ética de sus productos.',\n",
       " 'La falta de acceso a servicios de educación para el emprendimiento y la innovación en las escuelas de barrios marginales limita el desarrollo integral de los niños y jóvenes, exponiéndolos a la dependencia y a la pobreza. Es fundamental invertir en programas que promuevan la creatividad y el espíritu empresarial desde temprana edad.',\n",
       " 'La dificultad para acceder a servicios de internet en las tiendas comunitarias de zonas rurales limita las oportunidades de acceso a la información sobre precios y productos para los consumidores, contribuyendo a la pobreza. Es fundamental invertir en la conectividad de estos espacios y en la formación de los tenderos locales.',\n",
       " 'La ausencia de programas de apoyo a la producción de quesos de cabra y otros productos caprinos en pequeñas fincas, con asistencia técnica y acceso a mercados justos, mantiene a muchas familias campesinas en la pobreza. Es fundamental fortalecer estas cadenas de valor y garantizar precios justos para sus productos artesanales.',\n",
       " 'La falta de acceso a servicios de educación sexual y reproductiva para personas en situación de calle contribuye a la falta de planificación familiar y a la perpetuación de la pobreza. Es fundamental promover la educación integral y el acceso a información y métodos de planificación familiar adaptados a sus necesidades y condiciones de vida.',\n",
       " 'La dificultad para acceder a servicios de salud mental para personas con trastornos alimenticios en zonas urbanas marginales, por la falta de especialistas y la estigmatización, agrava su situación de pobreza y su bienestar. Es fundamental integrar la atención y promover la sensibilización sobre la importancia de la salud mental y la alimentación saludable en estas comunidades.',\n",
       " 'La ausencia de programas de apoyo a la producción de miel de caña y otros productos derivados de la caña de azúcar en zonas rurales, con asistencia técnica y acceso a mercados justos, limita el desarrollo económico y mantiene a muchas familias en la pobreza. Es fundamental fortalecer estas cadenas de valor y promover la innovación en el sector panelero.',\n",
       " 'La falta de acceso a servicios de internet de calidad en los centros de justicia de zonas rurales limita las oportunidades de acceso a la información legal y a la justicia para la población, lo que agrava la pobreza en las comunidades aledañas. Es fundamental invertir en la conectividad de estos espacios y en la formación de los funcionarios judiciales.',\n",
       " 'La dificultad para acceder a servicios de transporte público en zonas de difícil acceso por la presencia de grupos armados limita las oportunidades de sus habitantes para trabajar y estudiar, perpetuando la pobreza. Es fundamental garantizar un transporte seguro y accesible para todos, incluso en estas zonas de conflicto, con el apoyo de las fuerzas del orden.',\n",
       " 'La ausencia de programas de apoyo a la producción de tejidos y prendas de vestir con diseños ancestrales en comunidades indígenas, con asistencia técnica y acceso a mercados justos, limita su desarrollo económico y perpetúa la pobreza. Es fundamental valorar sus saberes ancestrales y promover la comercialización ética de sus productos textiles.',\n",
       " 'La falta de acceso a servicios de educación para la prevención del bullying y la violencia escolar en las escuelas de barrios marginales limita el desarrollo integral de los niños y jóvenes, exponiéndolos a la discriminación y a la pobreza. Es fundamental invertir en programas que promuevan el respeto y la convivencia pacífica en el entorno educativo.',\n",
       " 'La dificultad para acceder a servicios de internet en los centros de atención a la primera infancia de zonas rurales limita las oportunidades de acceso a la información y a la educación para los niños y sus cuidadores, contribuyendo a la pobreza. Es fundamental invertir en la conectividad de estos espacios y en la formación del personal educativo.',\n",
       " 'La ausencia de programas de apoyo a la producción de productos lácteos frescos, como leche y cuajada, en pequeñas fincas, con asistencia técnica y acceso a mercados locales, mantiene a muchas familias campesinas en la pobreza. Es fundamental fortalecer estas cadenas de valor y garantizar precios justos para sus productos de consumo diario.',\n",
       " 'La falta de acceso a servicios de educación sexual y reproductiva para personas con VIH/SIDA en las ciudades contribuye a la falta de planificación familiar y a la perpetuación de la pobreza. Es fundamental promover la educación integral y el acceso a información y métodos de planificación familiar adaptados a sus necesidades y condiciones de salud.',\n",
       " 'La dificultad para acceder a servicios de salud mental para personas con trastornos de ansiedad y depresión en zonas urbanas marginales, por la falta de especialistas y la estigmatización, agrava su situación de pobreza y su bienestar. Es fundamental integrar la atención y promover la sensibilización sobre la importancia de la salud mental y el bienestar emocional en estas comunidades.',\n",
       " 'La ausencia de programas de apoyo a la producción de panela pulverizada y otros productos derivados de la caña de azúcar en zonas rurales, con asistencia técnica y acceso a mercados especializados, limita el desarrollo económico y mantiene a muchas familias en la pobreza. Es fundamental fortalecer estas cadenas de valor y promover la innovación en el sector agroindustrial, buscando nuevos nichos de mercado.',\n",
       " 'La falta de acceso a servicios de internet de calidad en los centros de investigación de zonas rurales limita las oportunidades de acceso a la información científica y a la innovación para los agricultores, lo que agrava la pobreza en las comunidades aledañas. Es fundamental invertir en la conectividad de estos espacios y en la formación de los investigadores locales, fomentando la transferencia de conocimiento.',\n",
       " 'La dificultad para acceder a servicios de transporte público en zonas de difícil acceso por la presencia de cultivos ilícitos limita las oportunidades de sus habitantes para trabajar y estudiar, perpetuando la pobreza. Es fundamental garantizar un transporte seguro y accesible para todos, incluso en estas zonas, con el apoyo de las autoridades y programas de sustitución de cultivos.',\n",
       " 'La ausencia de programas de apoyo a la producción de artesanías en madera y cestería en comunidades indígenas, con asistencia técnica y acceso a mercados justos, limita su desarrollo económico y perpetúa la pobreza. Es fundamental valorar sus saberes ancestrales y promover la comercialización ética de sus productos, respetando su cultura y tradiciones artísticas.',\n",
       " 'La falta de acceso a servicios de educación para la prevención de la drogadicción y el alcoholismo en las escuelas de barrios marginales limita el desarrollo integral de los niños y jóvenes, exponiéndolos a la adicción y a la pobreza. Es fundamental invertir en programas que promuevan estilos de vida saludables y la toma de decisiones informadas.',\n",
       " 'La dificultad para acceder a servicios de internet en los centros de desarrollo empresarial de zonas rurales limita las oportunidades de acceso a la información y a la capacitación para los emprendedores, contribuyendo a la pobreza. Es fundamental invertir en la conectividad de estos espacios y en la formación de los asesores empresariales locales, impulsando el crecimiento económico.',\n",
       " 'La ausencia de programas de apoyo a la producción de café con valor agregado, como café tostado y molido, en pequeñas fincas, con asistencia técnica y acceso a mercados especializados, mantiene a muchas familias campesinas en la pobreza. Es fundamental fortalecer estas cadenas de valor y garantizar precios justos para sus productos, promoviendo la marca local.',\n",
       " 'La falta de acceso a servicios de educación sexual y reproductiva para personas reinsertadas a la vida civil contribuye a la falta de planificación familiar y a la perpetuación de la pobreza. Es fundamental promover la educación integral y el acceso a información y métodos de planificación familiar adaptados a sus necesidades y condiciones de vida, fomentando su autonomía.',\n",
       " 'La dificultad para acceder a servicios de salud mental para personas con trastornos de personalidad en zonas urbanas marginales, por la falta de especialistas y la estigmatización, agrava su situación de pobreza y su bienestar. Es fundamental integrar la atención y promover la sensibilización sobre la importancia de la salud mental y el apoyo social en estas comunidades, reduciendo el estigma.',\n",
       " 'La ausencia de programas de apoyo a la producción de cacao orgánico y de comercio justo en comunidades afrodescendientes, con asistencia técnica y acceso a mercados especializados, limita su desarrollo económico y perpetúa la pobreza. Es fundamental valorar sus saberes ancestrales y promover la producción sostenible y diferenciada, garantizando precios justos y equitativos.',\n",
       " 'La falta de acceso a servicios de internet de calidad en los centros de formación técnica de zonas rurales limita las oportunidades de acceso a la información y a la capacitación para los jóvenes, lo que agrava la pobreza en las comunidades aledañas. Es fundamental invertir en la conectividad de estos espacios y en la formación de los instructores locales, fomentando el desarrollo de habilidades.',\n",
       " 'La dificultad para acceder a servicios de transporte público en zonas de difícil acceso por la presencia de minería ilegal limita las oportunidades de sus habitantes para trabajar y estudiar, perpetuando la pobreza. Es fundamental garantizar un transporte seguro y accesible para todos, incluso en estas zonas, con el apoyo de las autoridades y programas de formalización minera.',\n",
       " 'La ausencia de programas de apoyo a la producción de artesanías en fibras naturales y tejidos en comunidades afrodescendientes, con asistencia técnica y acceso a mercados justos, limita su desarrollo económico y perpetúa la pobreza. Es fundamental valorar sus saberes ancestrales y promover la comercialización ética de sus productos, respetando su cultura y tradiciones.',\n",
       " 'La falta de acceso a servicios de educación para la prevención de la violencia de género en las escuelas de barrios marginales limita el desarrollo integral de las niñas y jóvenes, exponiéndolas a la discriminación y a la pobreza. Es fundamental invertir en programas que promuevan el respeto, la equidad y la prevención de la violencia en el entorno educativo y familiar.',\n",
       " 'La dificultad para acceder a servicios de internet en los puestos de control migratorio de zonas fronterizas limita las oportunidades de acceso a la información y a los trámites para los migrantes, contribuyendo a la pobreza. Es fundamental invertir en la conectividad de estos espacios y en la formación de los funcionarios para una atención humanitaria y eficiente.',\n",
       " 'La ausencia de programas de apoyo a la producción de café con certificaciones especiales y de trazabilidad en pequeñas fincas, con asistencia técnica y acceso a mercados de nicho, mantiene a muchas familias campesinas en la pobreza. Es fundamental fortalecer estas cadenas de valor y garantizar precios justos para sus productos, promoviendo la calidad y la diferenciación en el mercado internacional.',\n",
       " 'La falta de acceso a servicios de educación sexual y reproductiva para personas con discapacidad intelectual en las ciudades contribuye a la falta de autonomía y a la perpetuación de la pobreza. Es fundamental promover la educación integral y el acceso a información y métodos de planificación familiar adaptados a sus necesidades y capacidades, con el apoyo de sus familias y cuidadores.',\n",
       " 'La dificultad para acceder a servicios de salud mental para personas con esquizofrenia y otros trastornos psicóticos en zonas urbanas marginales, por la falta de especialistas y la estigmatización, agrava su situación de pobreza y su bienestar. Es fundamental integrar la atención y promover la sensibilización sobre la importancia de la salud mental y el apoyo social en estas comunidades, reduciendo el estigma y fomentando la inclusión.',\n",
       " 'La ausencia de programas de apoyo a la producción de panela con valor agregado, como panela saborizada y productos derivados, en zonas rurales, con asistencia técnica y acceso a mercados especializados, limita el desarrollo económico y mantiene a muchas familias en la pobreza. Es fundamental fortalecer estas cadenas de valor y promover la innovación en el sector agroindustrial, buscando nuevos segmentos de mercado y aumentando la rentabilidad de los productores.',\n",
       " 'La falta de acceso a servicios de internet de calidad en los centros de emprendimiento de zonas rurales limita las oportunidades de acceso a la información y a la capacitación para los innovadores, lo que agrava la pobreza en las comunidades aledañas. Es fundamental invertir en la conectividad de estos espacios y en la formación de los mentores locales, impulsando el ecosistema emprendedor.',\n",
       " 'La dificultad para acceder a servicios de transporte público en zonas de difícil acceso por la presencia de cultivos de uso ilícito limita las oportunidades de sus habitantes para trabajar y estudiar, perpetuando la pobreza. Es fundamental garantizar un transporte seguro y accesible para todos, incluso en estas zonas, con el apoyo de las autoridades y programas de desarrollo alternativo.',\n",
       " 'La ausencia de programas de apoyo a la producción de artesanías en totumo y calabaza en comunidades indígenas, con asistencia técnica y acceso a mercados justos, limita su desarrollo económico y perpetúa la pobreza. Es fundamental valorar sus saberes ancestrales y promover la comercialización ética de sus productos, respetando su cultura y las tradiciones artísticas de estas comunidades.',\n",
       " 'La falta de acceso a servicios de educación para la prevención del acoso escolar y el ciberacoso en las escuelas de barrios marginales limita el desarrollo integral de los niños y jóvenes, exponiéndolos a la violencia y a la pobreza. Es fundamental invertir en programas que promuevan el respeto, la empatía y la seguridad en el entorno digital y educativo.',\n",
       " 'La dificultad para acceder a servicios de internet en los centros de desarrollo comunitario de zonas rurales limita las oportunidades de acceso a la información y a la capacitación para los líderes comunitarios, contribuyendo a la pobreza. Es fundamental invertir en la conectividad de estos espacios y en la formación de los líderes locales, fortaleciendo el tejido social.',\n",
       " 'La ausencia de programas de apoyo a la producción de café con denominación de origen y otros productos diferenciados en pequeñas fincas, con asistencia técnica y acceso a mercados especializados, mantiene a muchas familias campesinas en la pobreza. Es fundamental fortalecer estas cadenas de valor y garantizar precios justos para sus productos, promoviendo la calidad y la autenticidad en el mercado global, y protegiendo el patrimonio cultural.',\n",
       " 'La falta de acceso a servicios de educación sexual y reproductiva para personas en situación de desplazamiento forzado contribuye a la falta de planificación familiar y a la perpetuación de la pobreza. Es fundamental promover la educación integral y el acceso a información y métodos de planificación familiar adaptados a sus necesidades y condiciones de vida, brindando apoyo psicosocial y legal.']"
      ]
     },
     "execution_count": 85,
     "metadata": {},
     "output_type": "execute_result"
    }
   ],
   "source": [
    "clean_s = re.sub(r\"^```json\\s*|\\s*```$\", \"\", response3.text.strip())\n",
    "lista2 = json.loads(clean_s)\n",
    "lista2"
   ]
  },
  {
   "cell_type": "code",
   "execution_count": 86,
   "id": "7a6fc2cf",
   "metadata": {},
   "outputs": [
    {
     "data": {
      "application/vnd.microsoft.datawrangler.viewer.v0+json": {
       "columns": [
        {
         "name": "index",
         "rawType": "int64",
         "type": "integer"
        },
        {
         "name": "textos",
         "rawType": "object",
         "type": "string"
        },
        {
         "name": "labels",
         "rawType": "int64",
         "type": "integer"
        }
       ],
       "ref": "7e7c0c09-882b-4eee-966c-a9d9fd7f6a42",
       "rows": [
        [
         "0",
         "Es preocupante ver cómo la falta de oportunidades laborales dignas en nuestra comunidad rural empuja a muchas familias a la pobreza extrema. Las ayudas del gobierno son insuficientes y no llegan a todos los que las necesitan, lo que agrava la situación y genera un ciclo de precariedad del que es muy difícil salir sin un apoyo sostenido y estratégico por parte de las entidades competentes.",
         "1"
        ],
        [
         "1",
         "La informalidad laboral en el sector urbano es un problema grave que afecta directamente a la capacidad de las personas para salir de la pobreza. Muchos trabajadores no tienen acceso a seguridad social ni a contratos estables, lo que los deja en una situación de vulnerabilidad constante frente a cualquier eventualidad económica o de salud que pueda surgir.",
         "1"
        ],
        [
         "2",
         "Considero que los programas de apoyo a pequeños agricultores son fundamentales para combatir la pobreza en las zonas rurales, pero a menudo carecen de la financiación y el seguimiento adecuados. Es esencial fortalecer estas iniciativas y asegurar que la inversión se traduzca en mejoras concretas en la productividad y en la calidad de vida de las familias del campo, garantizando un futuro más prometedor.",
         "1"
        ],
        [
         "3",
         "La desigualdad en el acceso a servicios básicos como agua potable y saneamiento en barrios marginales de la ciudad es un reflejo de la pobreza multidimensional. Sin estos servicios esenciales, es casi imposible para las familias mejorar sus condiciones de vida y aspirar a un desarrollo sostenible a largo plazo, consolidando la brecha entre los que tienen y los que no.",
         "1"
        ],
        [
         "4",
         "Es urgente implementar políticas que garanticen un ingreso mínimo vital para las familias más vulnerables. La inflación actual hace que el costo de vida sea insostenible para muchos, y sin un colchón económico básico, la pobreza se profundiza cada día más, afectando principalmente a los niños y adultos mayores que son los más expuestos.",
         "1"
        ],
        [
         "5",
         "La falta de acceso a créditos blandos para emprendedores en zonas deprimidas frena el desarrollo económico local y perpetúa la pobreza. Las instituciones financieras deben flexibilizar sus requisitos y ofrecer acompañamiento para que las ideas de negocio puedan florecer y generar empleo en sus propias comunidades, fomentando la autonomía y el progreso.",
         "1"
        ],
        [
         "6",
         "El abandono de los proyectos de infraestructura vial en las áreas rurales impide que los campesinos puedan sacar sus productos al mercado, lo que reduce sus ingresos y los mantiene en la pobreza. Es fundamental una inversión real y constante en estas vías para dinamizar la economía local y mejorar la calidad de vida de los habitantes del campo.",
         "1"
        ],
        [
         "7",
         "La brecha digital es un factor que contribuye a la pobreza, especialmente en la educación y el acceso a oportunidades laborales. Es vital que el gobierno garantice el acceso a internet y dispositivos tecnológicos en zonas rurales y urbanas marginales para que nadie se quede atrás en esta era de la información, democratizando el conocimiento.",
         "1"
        ],
        [
         "8",
         "Los programas de subsidios a la vivienda son importantes, pero a menudo se quedan cortos frente a la magnitud del problema de la falta de vivienda digna. Muchas familias siguen viviendo en condiciones precarias, lo que afecta su salud, seguridad y bienestar general, impidiendo su desarrollo integral en la sociedad.",
         "1"
        ],
        [
         "9",
         "La discriminación laboral por edad o género agrava la pobreza en ciertos sectores de la población. Es necesario implementar políticas de inclusión y sensibilización para garantizar que todas las personas tengan las mismas oportunidades de acceder a un empleo digno y bien remunerado, promoviendo la equidad y la justicia social.",
         "1"
        ],
        [
         "10",
         "La falta de apoyo a la economía solidaria y a las cooperativas en comunidades vulnerables limita su potencial para generar riqueza y empleo. Estas iniciativas son clave para empoderar a las personas y construir un tejido social y económico más resiliente y equitativo en el territorio colombiano.",
         "1"
        ],
        [
         "11",
         "Es preocupante la desnutrición infantil en algunas zonas rurales, un claro indicador de pobreza extrema. Se necesitan programas alimentarios más robustos y efectivos que lleguen a todos los niños y niñas que lo necesitan, garantizando su desarrollo físico y cognitivo para un futuro más prometedor.",
         "1"
        ],
        [
         "12",
         "La falta de acceso a servicios financieros básicos como cuentas de ahorro o microcréditos para la población de bajos ingresos dificulta su capacidad para planificar su futuro y salir de la pobreza. Es fundamental promover la inclusión financiera para todos los colombianos.",
         "1"
        ],
        [
         "13",
         "Las inundaciones y desastres naturales impactan desproporcionadamente a las comunidades más pobres, que carecen de recursos para reconstruir sus vidas. Es vital invertir en infraestructura resiliente y en programas de prevención y respuesta rápida para mitigar estos efectos y proteger a los más vulnerables.",
         "1"
        ],
        [
         "14",
         "La burocracia excesiva y la corrupción en la gestión de los recursos destinados a la lucha contra la pobreza desvían fondos que deberían llegar a quienes más los necesitan. Es fundamental una mayor transparencia y rendición de cuentas en todos los niveles de gobierno para asegurar la efectividad de los programas.",
         "1"
        ],
        [
         "15",
         "La falta de capacitación laboral y de oportunidades de formación continua para jóvenes en barrios marginales los condena a empleos precarios y a un ciclo de pobreza. Es necesario invertir en programas de educación técnica y vocacional que respondan a las demandas del mercado laboral actual.",
         "1"
        ],
        [
         "16",
         "Los altos costos de los servicios públicos, como la energía eléctrica y el gas, impactan fuertemente el presupuesto de las familias de bajos ingresos, empujándolas aún más a la pobreza. Se requieren tarifas más justas y subsidios focalizados para aliviar esta carga económica tan pesada.",
         "1"
        ],
        [
         "17",
         "La ausencia de un sistema de transporte público eficiente y asequible en zonas periurbanas limita el acceso de las personas a empleos y servicios, contribuyendo a la pobreza. Es fundamental mejorar la conectividad para que todos puedan participar plenamente en la vida económica y social.",
         "1"
        ],
        [
         "18",
         "Es alarmante el aumento de los desalojos forzosos en algunas ciudades, dejando a muchas familias sin hogar y en la calle. Se necesitan políticas de vivienda más equitativas y programas de protección para evitar que más personas caigan en la indigencia y la pobreza extrema.",
         "1"
        ],
        [
         "19",
         "La falta de oportunidades para la mujer rural en el acceso a la tierra y a créditos agrícolas limita su autonomía económica y perpetúa la pobreza en sus hogares. Es fundamental empoderar a las mujeres y garantizar su participación plena en el desarrollo rural para lograr un cambio significativo.",
         "1"
        ],
        [
         "20",
         "Los programas de transferencia monetaria condicionada son un buen inicio, pero a menudo no son suficientes para sacar a las familias de la pobreza de manera sostenible. Se necesita un enfoque más integral que combine estas ayudas con acceso a empleo, educación y servicios básicos para generar un impacto duradero.",
         "1"
        ],
        [
         "21",
         "La falta de acceso a tecnología y conectividad en las escuelas rurales amplía la brecha educativa y limita las oportunidades futuras de los niños, contribuyendo al ciclo de pobreza. Es esencial invertir en infraestructura digital y programas de alfabetización tecnológica para equipar a las nuevas generaciones.",
         "1"
        ],
        [
         "22",
         "La especulación con los precios de los alimentos básicos afecta desproporcionadamente a las familias más pobres, que destinan gran parte de su ingreso a la comida. Es fundamental regular los mercados y garantizar el acceso a alimentos nutritivos y asequibles para todos los colombianos, asegurando la seguridad alimentaria.",
         "1"
        ],
        [
         "23",
         "La falta de inversión en proyectos productivos en comunidades indígenas y afrodescendientes perpetúa la pobreza y la exclusión social. Es crucial respetar sus saberes ancestrales y apoyar iniciativas que promuevan su desarrollo económico y cultural de manera sostenible y autónoma.",
         "1"
        ],
        [
         "24",
         "La situación de los adultos mayores sin pensión y sin apoyo familiar es crítica, muchos viven en la indigencia y la pobreza extrema. Es imperativo fortalecer los programas de protección social y asistencia para esta población vulnerable, garantizando una vejez digna y con bienestar.",
         "1"
        ],
        [
         "25",
         "El acceso limitado a servicios de salud mental en comunidades de bajos ingresos agrava las condiciones de pobreza, ya que estas problemáticas impiden que las personas puedan trabajar y participar activamente en la sociedad. Es fundamental integrar la salud mental en la atención primaria.",
         "1"
        ],
        [
         "26",
         "La falta de una política clara y sostenible para la reincorporación de excombatientes a la vida civil en zonas rurales los expone a la pobreza y a la estigmatización. Es fundamental garantizarles oportunidades productivas y acompañamiento para construir una paz duradera y evitar que regresen a la ilegalidad.",
         "1"
        ],
        [
         "27",
         "La explotación laboral infantil, especialmente en zonas mineras o agrícolas, es una manifestación dolorosa de la pobreza extrema. Es urgente fortalecer la inspección y las sanciones, así como implementar programas de apoyo a las familias para que los niños puedan estar en la escuela y no trabajando.",
         "1"
        ],
        [
         "28",
         "La ausencia de un catastro rural actualizado y de programas de titulación de tierras genera inseguridad jurídica y dificulta el acceso a créditos para los campesinos, perpetuando la pobreza. Es fundamental regularizar la propiedad de la tierra para dinamizar la economía rural.",
         "1"
        ],
        [
         "29",
         "La falta de oportunidades para personas con discapacidad en el mercado laboral los condena a la pobreza y a la dependencia. Es crucial promover la inclusión laboral y adaptar los entornos de trabajo para garantizar que todos puedan aportar su talento y vivir con dignidad, sin barreras.",
         "1"
        ],
        [
         "30",
         "El alto costo de los medicamentos y la falta de acceso a tratamientos especializados en áreas remotas son un factor que empuja a muchas familias a la pobreza. Es necesario fortalecer el sistema de salud y garantizar la disponibilidad de medicinas esenciales para todos los ciudadanos sin importar su ubicación.",
         "1"
        ],
        [
         "31",
         "La dependencia de un solo cultivo en zonas agrícolas las hace vulnerables a las fluctuaciones del mercado y al cambio climático, llevando a la pobreza. Es fundamental diversificar la producción y promover prácticas agrícolas sostenibles para asegurar la resiliencia económica de los campesinos.",
         "1"
        ],
        [
         "32",
         "La sobrepoblación en barrios marginales sin una planificación urbana adecuada genera hacinamiento y limita el acceso a servicios básicos, profundizando la pobreza. Es crucial invertir en desarrollo urbano sostenible y en programas de mejoramiento de vivienda para estas comunidades.",
         "1"
        ],
        [
         "33",
         "La falta de acceso a la justicia para las poblaciones más pobres, especialmente en casos de despojo de tierras o deudas, agrava su situación de vulnerabilidad. Es fundamental fortalecer la asistencia legal gratuita y garantizar un acceso equitativo a los derechos para todos.",
         "1"
        ],
        [
         "34",
         "Es preocupante la brecha de género en el acceso a la educación y a oportunidades económicas en algunas regiones, lo que perpetúa la pobreza femenina. Es esencial empoderar a las mujeres a través de la formación y el apoyo a sus emprendimientos, promoviendo su autonomía financiera.",
         "1"
        ],
        [
         "35",
         "La falta de programas de reasentamiento digno para las comunidades desplazadas por la violencia o por desastres naturales las condena a la pobreza y a la marginalidad. Es fundamental garantizarles vivienda, empleo y acceso a servicios para que puedan reconstruir sus vidas con dignidad.",
         "1"
        ],
        [
         "36",
         "El costo de la educación superior es una barrera para muchos jóvenes de bajos ingresos, quienes no pueden acceder a mejores oportunidades laborales y quedan atrapados en un ciclo de pobreza. Es crucial fortalecer los programas de becas y créditos educativos con condiciones favorables.",
         "1"
        ],
        [
         "37",
         "La informalidad en la recolección de residuos por parte de recicladores en situación de pobreza los expone a riesgos de salud y a la estigmatización. Es fundamental formalizar su trabajo, garantizarles condiciones dignas y apoyar su organización para mejorar sus ingresos.",
         "1"
        ],
        [
         "38",
         "La escasez de agua potable en algunas comunidades rurales las obliga a comprar agua a precios elevados, lo que impacta gravemente su economía y agrava la pobreza. Es urgente invertir en infraestructura hídrica y garantizar el acceso equitativo a este recurso vital para todos.",
         "1"
        ],
        [
         "39",
         "La falta de oportunidades de empleo para personas con bajos niveles educativos en las ciudades los condena a la precariedad laboral y a la pobreza. Es necesario fortalecer los programas de formación técnica y vocacional que se ajusten a las demandas del mercado y promuevan la empleabilidad.",
         "1"
        ],
        [
         "40",
         "El acceso limitado a seguros agrarios para pequeños productores los deja desprotegidos ante pérdidas por clima o plagas, empujándolos a la pobreza. Es fundamental subsidiar estos seguros y promover su difusión para garantizar la resiliencia económica de los campesinos.",
         "1"
        ],
        [
         "41",
         "La situación de los niños y adolescentes que trabajan en las calles es una clara muestra de pobreza extrema y falta de oportunidades. Es urgente fortalecer los programas de protección a la infancia y de apoyo a las familias para que estos menores puedan regresar a la escuela y tener un futuro mejor.",
         "1"
        ],
        [
         "42",
         "La falta de una política de desarrollo rural integral que articule la producción agrícola con la infraestructura y los mercados mantiene a muchas comunidades en la pobreza. Es fundamental un enfoque multisectorial para generar oportunidades y mejorar la calidad de vida en el campo.",
         "1"
        ],
        [
         "43",
         "La dependencia económica de las remesas de familiares en el exterior es un signo de la falta de oportunidades internas y de la pobreza. Es crucial generar empleo y condiciones para que las personas puedan prosperar en su propio país y no tengan que emigrar por necesidad.",
         "1"
        ],
        [
         "44",
         "El endeudamiento excesivo de las familias de bajos ingresos con prestamistas informales, con altas tasas de interés, agrava su pobreza y las atrapa en un círculo vicioso. Es fundamental promover la educación financiera y el acceso a créditos formales y asequibles para todos.",
         "1"
        ],
        [
         "45",
         "La falta de servicios de guardería y cuidado infantil asequibles para madres trabajadoras en barrios vulnerables limita su participación en el mercado laboral y perpetúa la pobreza. Es necesario invertir en programas de cuidado infantil de calidad y accesibles para todas las familias.",
         "1"
        ],
        [
         "46",
         "La ausencia de un sistema de registro de tierras claro y accesible para comunidades indígenas y afrodescendientes las hace vulnerables al despojo y a la pérdida de sus territorios ancestrales, lo que profundiza su pobreza. Es fundamental garantizar sus derechos territoriales.",
         "1"
        ],
        [
         "47",
         "Es preocupante la falta de oportunidades para los jóvenes que terminan su bachillerato en zonas rurales, quienes a menudo tienen que migrar a las ciudades sin garantías de empleo. Es crucial invertir en educación superior técnica y en proyectos productivos en el campo para que puedan construir su futuro en sus propias comunidades.",
         "1"
        ],
        [
         "48",
         "La contaminación ambiental en barrios marginales, producto de la cercanía a zonas industriales o botaderos de basura, afecta la salud de sus habitantes y agrava su situación de pobreza. Es fundamental implementar políticas de control ambiental y de reubicación digna para estas comunidades.",
         "1"
        ],
        [
         "49",
         "La falta de acceso a servicios bancarios y de ahorro en comunidades remotas dificulta la gestión de los recursos económicos y perpetúa la pobreza. Es fundamental promover la banca móvil y los corresponsales bancarios para llevar los servicios financieros a todos los rincones del país.",
         "1"
        ]
       ],
       "shape": {
        "columns": 2,
        "rows": 244
       }
      },
      "text/html": [
       "<div>\n",
       "<style scoped>\n",
       "    .dataframe tbody tr th:only-of-type {\n",
       "        vertical-align: middle;\n",
       "    }\n",
       "\n",
       "    .dataframe tbody tr th {\n",
       "        vertical-align: top;\n",
       "    }\n",
       "\n",
       "    .dataframe thead th {\n",
       "        text-align: right;\n",
       "    }\n",
       "</style>\n",
       "<table border=\"1\" class=\"dataframe\">\n",
       "  <thead>\n",
       "    <tr style=\"text-align: right;\">\n",
       "      <th></th>\n",
       "      <th>textos</th>\n",
       "      <th>labels</th>\n",
       "    </tr>\n",
       "  </thead>\n",
       "  <tbody>\n",
       "    <tr>\n",
       "      <th>0</th>\n",
       "      <td>Es preocupante ver cómo la falta de oportunida...</td>\n",
       "      <td>1</td>\n",
       "    </tr>\n",
       "    <tr>\n",
       "      <th>1</th>\n",
       "      <td>La informalidad laboral en el sector urbano es...</td>\n",
       "      <td>1</td>\n",
       "    </tr>\n",
       "    <tr>\n",
       "      <th>2</th>\n",
       "      <td>Considero que los programas de apoyo a pequeño...</td>\n",
       "      <td>1</td>\n",
       "    </tr>\n",
       "    <tr>\n",
       "      <th>3</th>\n",
       "      <td>La desigualdad en el acceso a servicios básico...</td>\n",
       "      <td>1</td>\n",
       "    </tr>\n",
       "    <tr>\n",
       "      <th>4</th>\n",
       "      <td>Es urgente implementar políticas que garantice...</td>\n",
       "      <td>1</td>\n",
       "    </tr>\n",
       "    <tr>\n",
       "      <th>...</th>\n",
       "      <td>...</td>\n",
       "      <td>...</td>\n",
       "    </tr>\n",
       "    <tr>\n",
       "      <th>239</th>\n",
       "      <td>La ausencia de programas de apoyo a la producc...</td>\n",
       "      <td>1</td>\n",
       "    </tr>\n",
       "    <tr>\n",
       "      <th>240</th>\n",
       "      <td>La falta de acceso a servicios de educación pa...</td>\n",
       "      <td>1</td>\n",
       "    </tr>\n",
       "    <tr>\n",
       "      <th>241</th>\n",
       "      <td>La dificultad para acceder a servicios de inte...</td>\n",
       "      <td>1</td>\n",
       "    </tr>\n",
       "    <tr>\n",
       "      <th>242</th>\n",
       "      <td>La ausencia de programas de apoyo a la producc...</td>\n",
       "      <td>1</td>\n",
       "    </tr>\n",
       "    <tr>\n",
       "      <th>243</th>\n",
       "      <td>La falta de acceso a servicios de educación se...</td>\n",
       "      <td>1</td>\n",
       "    </tr>\n",
       "  </tbody>\n",
       "</table>\n",
       "<p>244 rows × 2 columns</p>\n",
       "</div>"
      ],
      "text/plain": [
       "                                                textos  labels\n",
       "0    Es preocupante ver cómo la falta de oportunida...       1\n",
       "1    La informalidad laboral en el sector urbano es...       1\n",
       "2    Considero que los programas de apoyo a pequeño...       1\n",
       "3    La desigualdad en el acceso a servicios básico...       1\n",
       "4    Es urgente implementar políticas que garantice...       1\n",
       "..                                                 ...     ...\n",
       "239  La ausencia de programas de apoyo a la producc...       1\n",
       "240  La falta de acceso a servicios de educación pa...       1\n",
       "241  La dificultad para acceder a servicios de inte...       1\n",
       "242  La ausencia de programas de apoyo a la producc...       1\n",
       "243  La falta de acceso a servicios de educación se...       1\n",
       "\n",
       "[244 rows x 2 columns]"
      ]
     },
     "execution_count": 86,
     "metadata": {},
     "output_type": "execute_result"
    }
   ],
   "source": [
    "df_generated2 = pd.DataFrame({\n",
    "    \"textos\": lista2,\n",
    "    \"labels\": 1  # valor fijo para toda la columna\n",
    "})\n",
    "df_generated2"
   ]
  },
  {
   "cell_type": "code",
   "execution_count": 87,
   "id": "05be8391",
   "metadata": {},
   "outputs": [
    {
     "data": {
      "application/vnd.microsoft.datawrangler.viewer.v0+json": {
       "columns": [
        {
         "name": "index",
         "rawType": "int64",
         "type": "integer"
        },
        {
         "name": "textos",
         "rawType": "object",
         "type": "string"
        },
        {
         "name": "labels",
         "rawType": "int64",
         "type": "integer"
        }
       ],
       "ref": "ce5e0317-9747-4616-a8a6-1334bf6a682d",
       "rows": [
        [
         "0",
         "Es preocupante ver cómo en nuestra vereda, la falta de oportunidades de empleo digno obliga a muchas familias a vivir con lo mínimo, sin acceso a servicios básicos. Las autoridades locales deben implementar programas que impulsen la economía rural y generen ingresos estables para los campesinos. La situación actual es insostenible y afecta directamente la calidad de vida de nuestros vecinos, perpetuando un ciclo de pobreza que parece no tener fin.",
         "1"
        ],
        [
         "1",
         "La informalidad laboral en mi barrio es rampante y deja a muchísimas personas sin seguridad social ni ingresos fijos, lo que agrava la pobreza. Es urgente que el gobierno municipal cree incentivos para la formalización y brinde apoyo a pequeños emprendedores. La falta de acceso a un empleo estable es una barrera enorme para salir adelante y construir un futuro digno para nuestras familias.",
         "1"
        ],
        [
         "2",
         "En el centro de la ciudad, hay demasiada gente viviendo en situación de calle, lo cual refleja una profunda desigualdad y falta de redes de apoyo. La alcaldía debería fortalecer los programas de atención integral a esta población, ofreciéndoles vivienda, alimentación y oportunidades de reintegración social. No podemos ignorar esta realidad que afecta la dignidad humana y el tejido social de nuestra comunidad.",
         "1"
        ],
        [
         "3",
         "Las madres cabeza de hogar en nuestra comuna luchan a diario para alimentar a sus hijos con salarios muy bajos o trabajos intermitentes, evidenciando una pobreza multidimensional. Necesitamos políticas públicas que les den prioridad en acceso a subsidios y capacitación laboral para que puedan mejorar sus ingresos. Es fundamental reconocer y apoyar el esfuerzo de estas mujeres que son el pilar de sus familias.",
         "1"
        ],
        [
         "4",
         "La falta de acceso a créditos blandos para pequeños agricultores en mi región limita su capacidad de inversión y los mantiene en la pobreza. El Banco Agrario y otras entidades deberían simplificar los trámites y ofrecer tasas de interés más justas. Un apoyo financiero adecuado podría transformar la productividad del campo y mejorar significativamente la calidad de vida de nuestros campesinos.",
         "1"
        ],
        [
         "5",
         "Observo con tristeza cómo la escasez de alimentos nutritivos a precios asequibles en los barrios más vulnerables de la capital afecta la salud de los niños. Es crucial que el gobierno local y las organizaciones implementen programas de seguridad alimentaria y huertas comunitarias. La malnutrición infantil es un problema grave que hipoteca el futuro de nuestra sociedad y debe ser abordado con urgencia.",
         "1"
        ],
        [
         "6",
         "La ausencia de infraestructura básica como agua potable y saneamiento en muchas zonas rurales profundiza la pobreza y la desigualdad. Es responsabilidad de las empresas de servicios públicos y el gobierno departamental llevar estas soluciones a todas las comunidades. Sin estos servicios esenciales, es imposible garantizar una vida digna y un desarrollo sostenible para nuestros campesinos.",
         "1"
        ],
        [
         "7",
         "El costo elevado del transporte público impacta severamente el presupuesto de las familias de bajos ingresos, quienes deben destinar gran parte de su sueldo a movilizarse. La administración municipal debería subsidiar una parte del pasaje o buscar alternativas más económicas. Esta carga económica dificulta el acceso a oportunidades laborales y educativas, perpetuando la pobreza en nuestros hogares.",
         "1"
        ],
        [
         "8",
         "La escasa oferta de vivienda digna y asequible obliga a muchas familias a vivir en condiciones precarias y hacinamiento en las periferias de la ciudad. El gobierno nacional y las constructoras deben priorizar proyectos de interés social con facilidades de pago. Es un derecho fundamental tener un techo seguro y adecuado, y la falta de este derecho condena a la pobreza a miles de ciudadanos.",
         "1"
        ],
        [
         "9",
         "La falta de oportunidades para los jóvenes en mi pueblo, especialmente los que no tienen acceso a educación superior, los condena a la pobreza y al desempleo. Las entidades educativas y el Sena deberían ampliar su oferta de programas técnicos y de formación para el trabajo. Invertir en la juventud es invertir en el futuro de nuestra comunidad y romper el ciclo de la pobreza.",
         "1"
        ],
        [
         "10",
         "La desigualdad en el acceso a la tierra en zonas rurales concentra la riqueza en pocas manos y empobrece a los pequeños productores. Es fundamental que las autoridades agrarias implementen políticas de reforma agraria y titulación de tierras. Una distribución más equitativa de la tierra permitiría a más familias campesinas generar ingresos y vivir dignamente de su trabajo.",
         "1"
        ],
        [
         "11",
         "La burocracia excesiva para acceder a programas sociales y subsidios desanima a las personas más necesitadas, quienes terminan sin recibir el apoyo vital. El Departamento de Prosperidad Social y las alcaldías deben simplificar los trámites y hacerlos más accesibles. La eficiencia en la entrega de estos apoyos es crucial para combatir la pobreza y llegar a quienes realmente lo necesitan.",
         "1"
        ],
        [
         "12",
         "La falta de acceso a servicios financieros inclusivos, como microcréditos para emprendedores, impide el crecimiento de pequeños negocios en mi comuna. Las cooperativas y bancos deberían ofrecer productos adaptados a las necesidades de esta población. Un mayor acceso a capital semilla podría transformar la economía local y sacar a muchas familias de la pobreza.",
         "1"
        ],
        [
         "13",
         "La discriminación laboral por edad o género es una barrera para la inclusión de grupos vulnerables, manteniéndolos en la pobreza. Las empresas y el Ministerio del Trabajo deben promover políticas de equidad y diversidad. Es inaceptable que el talento y la experiencia de muchas personas sean ignorados por prejuicios, lo cual agrava la pobreza en nuestra sociedad.",
         "1"
        ],
        [
         "14",
         "Los desastres naturales recurrentes en nuestra región, como las inundaciones, destruyen cultivos y viviendas, sumiendo a las comunidades rurales en la pobreza. Es urgente que la Unidad Nacional para la Gestión del Riesgo implemente planes de prevención y reconstrucción efectivos. La resiliencia de nuestras comunidades depende de un apoyo oportuno y sostenible para recuperarse de estas tragedias.",
         "1"
        ],
        [
         "15",
         "La ausencia de un salario mínimo vital que realmente cubra las necesidades básicas de una familia es un factor determinante de la pobreza en Colombia. El gobierno y los gremios deben revisar y ajustar este valor de manera justa y periódica. Es imperativo que el trabajo digno se traduzca en una vida digna para todos los ciudadanos.",
         "1"
        ],
        [
         "16",
         "La explotación laboral en algunos sectores informales, con jornadas extensas y pagos ínfimos, es una forma de esclavitud moderna que perpetúa la pobreza. El Ministerio del Trabajo y los sindicatos deben intensificar las inspecciones y sanciones. No podemos permitir que la necesidad de las personas sea aprovechada para su detrimento y para mantenerlos en la miseria.",
         "1"
        ],
        [
         "17",
         "La falta de programas de educación financiera para la población de bajos ingresos los hace vulnerables a deudas y estafas, profundizando su pobreza. Las entidades bancarias y el gobierno deberían ofrecer capacitaciones gratuitas y accesibles. Aprender a administrar el dinero es una herramienta poderosa para mejorar la calidad de vida y evitar caer en trampas financieras.",
         "1"
        ],
        [
         "18",
         "El abandono estatal de las comunidades indígenas y afrodescendientes en mi departamento se traduce en pobreza extrema y falta de oportunidades. El gobierno nacional debe cumplir sus compromisos de inversión y garantizar sus derechos ancestrales. Estas comunidades, ricas en cultura y conocimiento, merecen vivir con dignidad y acceder a los mismos servicios que el resto del país.",
         "1"
        ],
        [
         "19",
         "La corrupción en la administración de recursos públicos destinados a programas sociales desvía fondos que podrían aliviar la pobreza. La Contraloría y la Fiscalía deben ser más rigurosas en la vigilancia y sanción de estos actos. Cada peso robado es un golpe directo a las esperanzas de las personas más necesitadas y perpetúa la desigualdad.",
         "1"
        ],
        [
         "20",
         "La dificultad para acceder a un sistema de pensiones digno deja a muchos adultos mayores en la pobreza y la desprotección. Colpensiones y el gobierno deben buscar soluciones para ampliar la cobertura y garantizar una vejez tranquila. Nuestros mayores han trabajado toda su vida y merecen un retiro con dignidad, sin preocupaciones económicas.",
         "1"
        ],
        [
         "21",
         "La falta de oportunidades para personas con discapacidad los excluye del mercado laboral y los condena a la pobreza. Las empresas y el Estado deben implementar políticas de inclusión laboral y adaptación de espacios. Es un deber de la sociedad garantizar que todas las personas, sin importar sus capacidades, tengan la oportunidad de ser productivas y autónomas.",
         "1"
        ],
        [
         "22",
         "Los altos costos de los medicamentos y tratamientos médicos son una causa de empobrecimiento para muchas familias que enfrentan enfermedades crónicas. El Ministerio de Salud y las EPS deben asegurar el acceso a medicinas esenciales y reducir sus precios. La salud no debería ser un lujo, sino un derecho universal que no lleve a la ruina a nadie.",
         "1"
        ],
        [
         "23",
         "La carencia de espacios seguros y accesibles para la recreación y el deporte en barrios vulnerables afecta el bienestar y la salud mental, lo cual es un aspecto de la pobreza social. Las alcaldías deben invertir en la creación y mantenimiento de estos lugares. La recreación es fundamental para el desarrollo integral de las personas y para construir comunidades más fuertes.",
         "1"
        ],
        [
         "24",
         "El acceso limitado a tecnologías de la información y la comunicación (TIC) en zonas rurales y de bajos ingresos amplía la brecha digital y limita las oportunidades económicas. El Ministerio de Tecnologías de la Información y las Comunicaciones debe expandir la conectividad y ofrecer capacitaciones. La inclusión digital es clave para el desarrollo y para que nadie se quede atrás en la era actual.",
         "1"
        ],
        [
         "25",
         "La violencia intrafamiliar y el abuso de menores, además de ser crímenes atroces, generan un ciclo de pobreza y exclusión en las víctimas. Las instituciones de protección familiar y la Policía deben fortalecer sus mecanismos de denuncia y atención. Es fundamental romper estos ciclos de violencia para que las nuevas generaciones puedan crecer en un ambiente seguro y sin pobreza.",
         "1"
        ],
        [
         "26",
         "La falta de una política agraria integral que apoye la comercialización de productos campesinos los deja a merced de intermediarios, empobreciéndolos. El Ministerio de Agricultura y las asociaciones de productores deben crear canales de venta justos. Un comercio equitativo es esencial para que el trabajo del campo sea rentable y sostenible, y para que los campesinos no vivan en la pobreza.",
         "1"
        ],
        [
         "27",
         "Los programas de transferencia monetaria condicionada, aunque útiles, a menudo no son suficientes para sacar a las familias de la pobreza extrema, requiriendo un enfoque más integral. El gobierno debe revisar sus montos y complementarlos con capacitación y empleo. Es necesario un apoyo más robusto y duradero para que estas familias logren la autonomía económica y la dignidad.",
         "1"
        ],
        [
         "28",
         "La escasez de guarderías y centros de cuidado infantil asequibles dificulta la participación laboral de muchas madres, especialmente las de bajos ingresos. Las alcaldías y el ICBF deben ampliar la oferta de estos servicios. El cuidado infantil es una inversión social que permite a las mujeres trabajar y contribuir al ingreso familiar, rompiendo el ciclo de la pobreza.",
         "1"
        ],
        [
         "29",
         "El estigma social asociado a la pobreza y a los programas de asistencia desanima a muchas personas a buscar ayuda, perpetuando su situación. Es fundamental cambiar la narrativa y promover la empatía y la solidaridad en la sociedad. Debemos entender que la pobreza no es una elección, sino el resultado de múltiples factores, y que todos merecemos una oportunidad.",
         "1"
        ],
        [
         "30",
         "La deficiente calidad del sistema de salud en las zonas rurales, con pocos médicos y equipos, afecta directamente la productividad y empobrece a las familias. El Ministerio de Salud debe priorizar la inversión en infraestructura y personal médico en estas áreas. La salud es un pilar fundamental para el desarrollo y para que las comunidades rurales salgan de la pobreza.",
         "1"
        ],
        [
         "31",
         "La falta de acceso a una educación superior de calidad para jóvenes de bajos recursos limita sus oportunidades de ascenso social y los condena a la pobreza. El Icetex y las universidades deben ampliar las becas y los créditos condonables. La educación es la herramienta más poderosa para transformar vidas y romper el ciclo generacional de la pobreza.",
         "1"
        ],
        [
         "32",
         "La deforestación y la degradación ambiental en mi región afectan los medios de subsistencia de las comunidades, que dependen de los recursos naturales. Las corporaciones autónomas regionales y el Ministerio de Ambiente deben implementar programas de desarrollo sostenible. La protección del medio ambiente es crucial para garantizar la seguridad alimentaria y económica de estas poblaciones.",
         "1"
        ],
        [
         "33",
         "La carencia de títulos de propiedad de la tierra para muchos campesinos genera incertidumbre y dificulta el acceso a créditos y proyectos productivos. La Agencia Nacional de Tierras debe agilizar los procesos de formalización y titulación. La seguridad jurídica sobre la tierra es fundamental para que los campesinos inviertan y generen riqueza, superando la pobreza.",
         "1"
        ],
        [
         "34",
         "El alto costo de los servicios públicos domiciliarios (luz, agua, gas) en estratos bajos consume una parte considerable de sus ingresos, manteniendo a las familias en la pobreza. Las empresas de servicios y la Comisión de Regulación de Energía y Gas deben revisar las tarifas y subsidios. Es un derecho básico acceder a estos servicios sin que representen una carga insostenible.",
         "1"
        ],
        [
         "35",
         "La falta de inversión en vías terciarias en zonas rurales aísla a los productores, dificulta el transporte de sus productos y reduce sus ingresos, perpetuando la pobreza. El Invías y las gobernaciones deben priorizar la construcción y mantenimiento de estas carreteras. Una buena infraestructura es clave para la competitividad del campo y el bienestar de sus habitantes.",
         "1"
        ],
        [
         "36",
         "Los programas de emprendimiento a menudo no llegan a las poblaciones más vulnerables, que carecen de la capacitación y el capital inicial para iniciar un negocio. El Sena y las cámaras de comercio deben diseñar programas más inclusivos y con acompañamiento personalizado. Fomentar el autoempleo es una estrategia efectiva para combatir la pobreza y generar desarrollo local.",
         "1"
        ],
        [
         "37",
         "La presencia de minería ilegal en nuestra zona no solo destruye el medio ambiente, sino que también genera conflictos y empobrece a las comunidades locales, que quedan sin recursos. Las autoridades ambientales y de seguridad deben actuar con contundencia para erradicar esta actividad. Proteger nuestros recursos naturales es proteger el futuro y la dignidad de nuestras gentes.",
         "1"
        ],
        [
         "38",
         "La falta de acceso a un seguro de desempleo o a programas de reentrenamiento laboral deja a las personas sin sustento cuando pierden su trabajo, sumiéndolas en la pobreza. El gobierno y los gremios deben crear mecanismos de protección más robustos. Es fundamental brindar un colchón de seguridad para que la pérdida de un empleo no signifique la caída en la miseria.",
         "1"
        ],
        [
         "39",
         "La brecha salarial entre hombres y mujeres en trabajos similares contribuye a la pobreza femenina y a la desigualdad de género. El Ministerio del Trabajo y las empresas deben garantizar la igualdad de remuneración por igual trabajo. La justicia salarial es un paso fundamental para empoderar a las mujeres y reducir la pobreza en los hogares.",
         "1"
        ],
        [
         "40",
         "La falta de programas de reinserción social para personas desmovilizadas o exconvictas dificulta su reintegración y las condena a la pobreza y la reincidencia. El gobierno y las ONG deben fortalecer estos programas con oportunidades laborales y apoyo psicosocial. Brindar segundas oportunidades es clave para construir una sociedad más justa y segura, y reducir la pobreza.",
         "1"
        ],
        [
         "41",
         "El acaparamiento de tierras por parte de grandes empresas o individuos reduce la disponibilidad de terrenos para pequeños agricultores, limitando sus oportunidades y empobreciéndolos. Las autoridades agrarias deben regular el uso de la tierra y promover su distribución equitativa. Es esencial proteger a los pequeños productores y garantizar su acceso a la tierra para su sustento.",
         "1"
        ],
        [
         "42",
         "La falta de acceso a servicios bancarios básicos, como cuentas de ahorro o microcréditos, en zonas rurales, mantiene a la población en la informalidad y la pobreza. Los bancos y el gobierno deben expandir la bancarización y la educación financiera en estas áreas. La inclusión financiera es una herramienta poderosa para el desarrollo económico y la superación de la pobreza.",
         "1"
        ],
        [
         "43",
         "La ausencia de políticas públicas que fomenten la asociatividad entre pequeños productores los deja vulnerables frente a los grandes mercados, disminuyendo sus ganancias. El Ministerio de Agricultura y las Cámaras de Comercio deben apoyar la creación de cooperativas y asociaciones. La unión hace la fuerza y permite a los campesinos obtener mejores precios por sus productos.",
         "1"
        ],
        [
         "44",
         "La deficiente infraestructura de salud en mi municipio, con pocos centros de atención y especialistas, obliga a las familias a viajar lejos y gastar mucho, lo que agrava su pobreza. La Secretaría de Salud departamental debe invertir en la mejora de estos servicios. El acceso a la salud es un derecho que no debería ser una carga económica para nadie.",
         "1"
        ],
        [
         "45",
         "La falta de programas de apoyo psicológico y de salud mental accesibles en comunidades vulnerables agrava los problemas sociales y económicos. La Secretaría de Salud y las ONG deben expandir estos servicios. La salud mental es tan importante como la física para el bienestar general y para que las personas puedan salir de la pobreza.",
         "1"
        ],
        [
         "46",
         "El alto costo de los útiles escolares y la matrícula en colegios privados es una barrera para la educación de calidad de muchos niños, perpetuando la pobreza. El gobierno debe fortalecer la educación pública y ofrecer subsidios para materiales educativos. La educación es la base para el desarrollo y para romper el ciclo de la pobreza en las familias.",
         "1"
        ],
        [
         "47",
         "La informalidad en la venta ambulante, aunque genera ingresos, expone a los trabajadores a condiciones precarias y sin seguridad social. La alcaldía debe buscar estrategias para formalizar estas actividades y proteger a los vendedores. Es fundamental dignificar el trabajo y garantizar que todos tengan acceso a condiciones laborales justas, superando la pobreza.",
         "1"
        ],
        [
         "48",
         "La escasez de fuentes de empleo alternativas a la agricultura tradicional en mi región, hace que muchas familias dependan de cultivos de bajo rendimiento, manteniéndolas en la pobreza. Las agencias de desarrollo regional deben promover la diversificación económica. Es crucial generar nuevas oportunidades para que las comunidades rurales prosperen y mejoren su calidad de vida.",
         "1"
        ],
        [
         "49",
         "La falta de acceso a servicios de cuidado para adultos mayores en comunidades de bajos ingresos obliga a las familias a destinar tiempo y recursos, lo que afecta su productividad. El ICBF y las alcaldías deben crear más centros de atención y apoyo. Nuestros mayores merecen un cuidado digno y sus familias no deberían empobrecerse por ello.",
         "1"
        ]
       ],
       "shape": {
        "columns": 2,
        "rows": 489
       }
      },
      "text/html": [
       "<div>\n",
       "<style scoped>\n",
       "    .dataframe tbody tr th:only-of-type {\n",
       "        vertical-align: middle;\n",
       "    }\n",
       "\n",
       "    .dataframe tbody tr th {\n",
       "        vertical-align: top;\n",
       "    }\n",
       "\n",
       "    .dataframe thead th {\n",
       "        text-align: right;\n",
       "    }\n",
       "</style>\n",
       "<table border=\"1\" class=\"dataframe\">\n",
       "  <thead>\n",
       "    <tr style=\"text-align: right;\">\n",
       "      <th></th>\n",
       "      <th>textos</th>\n",
       "      <th>labels</th>\n",
       "    </tr>\n",
       "  </thead>\n",
       "  <tbody>\n",
       "    <tr>\n",
       "      <th>0</th>\n",
       "      <td>Es preocupante ver cómo en nuestra vereda, la ...</td>\n",
       "      <td>1</td>\n",
       "    </tr>\n",
       "    <tr>\n",
       "      <th>1</th>\n",
       "      <td>La informalidad laboral en mi barrio es rampan...</td>\n",
       "      <td>1</td>\n",
       "    </tr>\n",
       "    <tr>\n",
       "      <th>2</th>\n",
       "      <td>En el centro de la ciudad, hay demasiada gente...</td>\n",
       "      <td>1</td>\n",
       "    </tr>\n",
       "    <tr>\n",
       "      <th>3</th>\n",
       "      <td>Las madres cabeza de hogar en nuestra comuna l...</td>\n",
       "      <td>1</td>\n",
       "    </tr>\n",
       "    <tr>\n",
       "      <th>4</th>\n",
       "      <td>La falta de acceso a créditos blandos para peq...</td>\n",
       "      <td>1</td>\n",
       "    </tr>\n",
       "    <tr>\n",
       "      <th>...</th>\n",
       "      <td>...</td>\n",
       "      <td>...</td>\n",
       "    </tr>\n",
       "    <tr>\n",
       "      <th>484</th>\n",
       "      <td>La ausencia de programas de apoyo a la producc...</td>\n",
       "      <td>1</td>\n",
       "    </tr>\n",
       "    <tr>\n",
       "      <th>485</th>\n",
       "      <td>La falta de acceso a servicios de educación pa...</td>\n",
       "      <td>1</td>\n",
       "    </tr>\n",
       "    <tr>\n",
       "      <th>486</th>\n",
       "      <td>La dificultad para acceder a servicios de inte...</td>\n",
       "      <td>1</td>\n",
       "    </tr>\n",
       "    <tr>\n",
       "      <th>487</th>\n",
       "      <td>La ausencia de programas de apoyo a la producc...</td>\n",
       "      <td>1</td>\n",
       "    </tr>\n",
       "    <tr>\n",
       "      <th>488</th>\n",
       "      <td>La falta de acceso a servicios de educación se...</td>\n",
       "      <td>1</td>\n",
       "    </tr>\n",
       "  </tbody>\n",
       "</table>\n",
       "<p>489 rows × 2 columns</p>\n",
       "</div>"
      ],
      "text/plain": [
       "                                                textos  labels\n",
       "0    Es preocupante ver cómo en nuestra vereda, la ...       1\n",
       "1    La informalidad laboral en mi barrio es rampan...       1\n",
       "2    En el centro de la ciudad, hay demasiada gente...       1\n",
       "3    Las madres cabeza de hogar en nuestra comuna l...       1\n",
       "4    La falta de acceso a créditos blandos para peq...       1\n",
       "..                                                 ...     ...\n",
       "484  La ausencia de programas de apoyo a la producc...       1\n",
       "485  La falta de acceso a servicios de educación pa...       1\n",
       "486  La dificultad para acceder a servicios de inte...       1\n",
       "487  La ausencia de programas de apoyo a la producc...       1\n",
       "488  La falta de acceso a servicios de educación se...       1\n",
       "\n",
       "[489 rows x 2 columns]"
      ]
     },
     "execution_count": 87,
     "metadata": {},
     "output_type": "execute_result"
    }
   ],
   "source": [
    "df_generated = pd.concat([df_generated1, df_generated2], ignore_index=True)\n",
    "df_generated"
   ]
  },
  {
   "cell_type": "code",
   "execution_count": 88,
   "id": "1a7e2818",
   "metadata": {},
   "outputs": [
    {
     "name": "stdout",
     "output_type": "stream",
     "text": [
      "Hay 191 textos cortos (< 300 caracteres)\n",
      "Textos cortos eliminados\n"
     ]
    }
   ],
   "source": [
    "df_generated_clean = utils.clean_df(df_generated)"
   ]
  },
  {
   "cell_type": "code",
   "execution_count": 89,
   "id": "87827c81",
   "metadata": {},
   "outputs": [
    {
     "name": "stdout",
     "output_type": "stream",
     "text": [
      "```json\n",
      "[\n",
      "  \"En mi vereda, la falta de oportunidades laborales dignas es un desafío constante. Muchos jóvenes terminan el colegio y no encuentran cómo seguir adelante, lo que los empuja a buscar el sustento en actividades informales que no garantizan estabilidad ni un futuro prometedor. Es fundamental que las autoridades locales y nacionales trabajen en conjunto para atraer inversión y generar empleos formales en nuestras comunidades rurales. La gente quiere trabajar, pero necesita las condiciones para hacerlo de manera decente y segura.\",\n",
      "  \"La situación de los pequeños agricultores en nuestra región es preocupante. Los precios de los insumos están por las nubes, y cuando llega el momento de vender nuestros productos, los intermediarios se llevan la mayor parte de las ganancias. Esto nos deja con muy poco margen para vivir y reinvertir en nuestras tierras. Necesitamos un apoyo más decidido del gobierno para asegurar precios justos para nuestros cultivos y facilitar el acceso a mercados directos, eliminando la cadena de intermediarios que nos explota.\",\n",
      "  \"En el barrio donde vivo, la pobreza se ve reflejada en la precariedad de las viviendas y la falta de servicios básicos. Muchas familias viven en condiciones insalubres, sin acceso a agua potable constante ni a un sistema de alcantarillado adecuado. Esto no solo afecta la dignidad de las personas, sino también su salud y bienestar. Es urgente que las administraciones municipales inviertan en infraestructura para garantizar condiciones de vida dignas para todos los ciudadanos, sin importar su estrato socioeconómico.\",\n",
      "  \"La informalidad laboral es un problema enorme en nuestra ciudad. Demasiadas personas, especialmente mujeres cabeza de familia, subsisten con trabajos esporádicos que no ofrecen seguridad social ni prestaciones. Esto las deja en una situación de vulnerabilidad extrema ante cualquier enfermedad o emergencia. Se necesita una política pública que fomente la formalización de estas actividades, brindando capacitación, acompañamiento y facilidades para que los emprendimientos informales puedan crecer y ofrecer condiciones dignas a sus trabajadores.\",\n",
      "  \"La falta de acceso a créditos blandos para pequeños emprendedores es una barrera significativa para salir de la pobreza. Muchas personas tienen ideas innovadoras y el deseo de crear su propio negocio, pero no tienen el capital inicial ni la posibilidad de acceder a préstamos bancarios por los altos requisitos y las tasas de interés. Es fundamental que las entidades financieras, con el apoyo del Estado, diseñen líneas de crédito específicas para la población vulnerable, con requisitos flexibles y tasas accesibles, para impulsar la economía local y la generación de empleo.\",\n",
      "  \"En algunas zonas rurales, la carencia de vías de acceso adecuadas dificulta el transporte de productos agrícolas y el acceso a servicios esenciales. Esto aísla a las comunidades y perpetúa la pobreza. Los campesinos no pueden sacar sus cosechas a los mercados urbanos de manera eficiente, lo que reduce sus ingresos y aumenta las pérdidas. Es imperativo que el gobierno invierta en la mejora de la infraestructura vial, priorizando estas zonas olvidadas, para integrar a estas comunidades a la economía nacional.\",\n",
      "  \"La situación de los adultos mayores en condiciones de pobreza es desgarradora. Muchos de ellos no tienen una pensión y dependen de la caridad o de la ayuda de sus hijos, quienes a menudo también luchan por sobrevivir. Se necesita ampliar la cobertura de programas de asistencia social para esta población vulnerable, garantizando un ingreso mínimo que les permita vivir con dignidad y acceder a servicios básicos como la salud. No podemos olvidar a quienes han construido nuestro país.\",\n",
      "  \"La desigualdad en el acceso a la tecnología es otro factor que profundiza la brecha de la pobreza. Mientras en las ciudades la conectividad es una realidad, en muchas zonas rurales el internet es un lujo inalcanzable. Esto limita el acceso a la información, la educación y las oportunidades laborales, dejando a estas comunidades rezagadas. Es crucial que se impulsen programas de conectividad universal, subsidiando el acceso a internet y dispositivos tecnológicos para las familias de bajos recursos.\",\n",
      "  \"La falta de un sistema de protección social robusto deja a muchas familias en la indigencia ante cualquier eventualidad. Una enfermedad grave, un despido inesperado o un desastre natural pueden empujar a la pobreza extrema a quienes ya viven al límite. Se necesita fortalecer y ampliar la cobertura de los programas de seguridad social, incluyendo seguros de desempleo y subsidios para la salud, para ofrecer una red de contención que proteja a los ciudadanos de las calamidades económicas.\",\n",
      "  \"La discriminación y la exclusión social son barreras invisibles pero muy reales que impiden a muchas personas salir de la pobreza. Grupos étnicos, personas con discapacidad o migrantes a menudo enfrentan dificultades adicionales para acceder a un empleo digno o a servicios básicos. Es fundamental que se implementen políticas de inclusión que garanticen la igualdad de oportunidades para todos, combatiendo los prejuicios y promoviendo el respeto a la diversidad en todos los ámbitos de la sociedad.\",\n",
      "  \"En mi municipio, la falta de vivienda digna es una preocupación constante. Muchas familias viven en asentamientos informales, expuestas a riesgos naturales y sin seguridad jurídica sobre sus propiedades. Es vital que las autoridades municipales diseñen programas de vivienda de interés social que sean accesibles para la población de bajos ingresos, ofreciendo soluciones habitacionales seguras y con todos los servicios básicos. Una vivienda digna es el pilar para el desarrollo de cualquier familia.\",\n",
      "  \"Los altos costos de los servicios públicos son una carga insostenible para las familias más vulnerables. Las facturas de luz, agua y gas consumen una parte significativa de sus ya escasos ingresos, obligándolos a elegir entre pagar los servicios o comprar alimentos. Se necesita una revisión de las tarifas y la implementación de subsidios más equitativos que realmente beneficien a quienes más lo necesitan, garantizando el acceso a estos servicios esenciales sin comprometer la seguridad alimentaria.\",\n",
      "  \"La desnutrición infantil sigue siendo una triste realidad en algunas comunidades, especialmente en zonas apartadas. La falta de acceso a alimentos nutritivos y asequibles afecta el desarrollo físico y cognitivo de nuestros niños, hipotecando su futuro. Es urgente que se fortalezcan los programas de seguridad alimentaria, con énfasis en la distribución de alimentos fortificados y el fomento de prácticas de agricultura sostenible a pequeña escala para asegurar la disponibilidad de alimentos frescos y saludables.\",\n",
      "  \"La violencia y la inseguridad en algunos barrios empujan a las familias a la pobreza. El miedo constante y la presencia de grupos al margen de la ley limitan las oportunidades de trabajo, el acceso a la educación y la inversión en la comunidad. Se necesita una estrategia integral de seguridad que no solo se enfoque en la represión, sino también en la inversión social, la generación de oportunidades y la reconstrucción del tejido social para devolver la tranquilidad y el progreso a estas zonas.\",\n",
      "  \"La falta de capacitación laboral pertinente es un obstáculo para que muchas personas accedan a empleos mejor remunerados. La oferta educativa no siempre se alinea con las demandas del mercado laboral, dejando a muchos jóvenes sin las habilidades necesarias para competir. Es crucial que se establezcan programas de formación técnica y tecnológica, en alianza con el sector productivo, que respondan a las necesidades actuales y futuras de la economía, facilitando la inserción laboral y el desarrollo de carreras.\",\n",
      "  \"La burocracia excesiva y la corrupción en algunas instituciones públicas dificultan el acceso de la población vulnerable a los programas de asistencia social. Los trámites son complejos, y a menudo se exige documentación que las personas no tienen, o se desvían los recursos que deberían llegar a quienes más lo necesitan. Se requiere una simplificación de los procesos y una mayor transparencia en la gestión de los recursos públicos, garantizando que la ayuda llegue de manera eficiente a sus beneficiarios.\",\n",
      "  \"El cambio climático está afectando duramente a nuestras comunidades rurales, especialmente a los agricultores de bajos recursos. Las sequías prolongadas o las inundaciones repentinas destruyen cosechas y ganado, empujando a las familias a la pobreza extrema. Es vital que el gobierno implemente programas de adaptación al cambio climático, ofreciendo apoyo técnico, semillas resistentes y seguros agrícolas asequibles para proteger los medios de vida de estas poblaciones vulnerables.\",\n",
      "  \"La falta de participación ciudadana en la toma de decisiones sobre políticas de desarrollo local es un problema. A menudo, las soluciones se diseñan desde los escritorios sin tener en cuenta las necesidades y realidades de la gente que vive la pobreza a diario. Es fundamental que se creen espacios de diálogo y consulta donde las comunidades puedan expresar sus ideas y prioridades, contribuyendo activamente a la construcción de soluciones más efectivas y sostenibles para combatir la pobreza.\",\n",
      "  \"La migración interna, impulsada por la falta de oportunidades en las zonas rurales, está generando cinturones de miseria en las grandes ciudades. Las personas llegan buscando un futuro mejor, pero a menudo se encuentran con la informalidad, la precariedad y la exclusión. Es necesario un enfoque integral que impulse el desarrollo rural, generando oportunidades en origen, y al mismo tiempo, que las ciudades preparen sus infraestructuras y servicios para acoger dignamente a los migrantes.\",\n",
      "  \"La explotación laboral, especialmente en sectores informales o en trabajos agrícolas, es una realidad que perpetúa la pobreza. Muchos trabajadores son sometidos a jornadas extenuantes por salarios ínfimos, sin ningún tipo de protección social. Es fundamental que las autoridades laborales fortalezcan la inspección y el control, sancionando a los empleadores abusivos y garantizando el cumplimiento de los derechos laborales para todos los trabajadores, sin excepción.\",\n",
      "  \"En mi comunidad, la falta de acceso a tierras productivas es una barrera para el desarrollo económico de muchas familias campesinas. Las tierras están concentradas en pocas manos, o son de difícil acceso para quienes quieren cultivarlas. Se necesita una política de acceso a la tierra más equitativa, que impulse la formalización de la propiedad y facilite el arrendamiento o la compra de terrenos para pequeños agricultores, promoviendo la producción local y la seguridad alimentaria.\",\n",
      "  \"La inequidad en la distribución de los recursos públicos es evidente en nuestro municipio. Mientras algunas zonas reciben inversiones significativas, otras, donde reside la población más vulnerable, son sistemáticamente olvidadas. Esto perpetúa la brecha de la pobreza y genera resentimiento. Es crucial que se implementen criterios de equidad y transparencia en la asignación del presupuesto, priorizando las necesidades de las comunidades más desfavorecidas para garantizar un desarrollo equilibrado.\",\n",
      "  \"La falta de un sistema de transporte público eficiente y asequible afecta el acceso al trabajo y a los servicios básicos de las personas de bajos recursos. Los costos de transporte pueden ser prohibitivos, o las rutas no cubren sus necesidades, limitando sus oportunidades. Es fundamental que las administraciones municipales inviertan en la mejora y expansión del transporte público, garantizando que sea accesible en términos de costo y cobertura para todos los ciudadanos.\",\n",
      "  \"La dependencia de las ayudas estatales, aunque necesarias en momentos de crisis, no es una solución sostenible para la pobreza a largo plazo. Se necesita una estrategia que vaya más allá de los subsidios, enfocándose en la generación de oportunidades y la autonomía económica de las familias. Es crucial que los programas de asistencia social estén articulados con iniciativas de capacitación, emprendimiento y acceso al empleo para romper el círculo de la dependencia.\",\n",
      "  \"La falta de oportunidades para las mujeres rurales es un factor clave en la perpetuación de la pobreza en estas zonas. A menudo, las mujeres tienen un rol central en el hogar y en la producción agrícola, pero no tienen acceso a la tierra, al crédito o a la capacitación. Es fundamental que se impulsen programas específicos para el empoderamiento económico de las mujeres rurales, reconociendo su invaluable contribución y brindándoles las herramientas para su desarrollo.\",\n",
      "  \"La ausencia de servicios bancarios en muchas zonas rurales es una barrera para el desarrollo económico. Las personas no pueden acceder a créditos, ni realizar transacciones financieras de manera segura, lo que las obliga a depender de sistemas informales que a menudo son abusivos. Se necesita que las entidades financieras, con el apoyo del Estado, amplíen su cobertura, ofreciendo servicios adaptados a las necesidades de estas comunidades y fomentando la inclusión financiera.\",\n",
      "  \"La persistencia del trabajo infantil en algunas regiones es una manifestación dolorosa de la pobreza extrema. Los niños se ven obligados a trabajar para contribuir al sustento familiar, abandonando la escuela y perdiendo su infancia. Es fundamental que se fortalezcan las políticas de protección a la infancia, garantizando el acceso a la educación y a programas de apoyo familiar que permitan a los padres generar ingresos suficientes para no depender del trabajo de sus hijos.\",\n",
      "  \"La falta de una pensión digna para muchos trabajadores informales es una preocupación creciente. Después de una vida de esfuerzo, estas personas llegan a la vejez sin un sustento económico, lo que los condena a la pobreza. Se necesita una reforma del sistema pensional que contemple la realidad de la informalidad laboral, diseñando mecanismos que permitan a estos trabajadores cotizar de manera flexible y asegurar una vejez digna, sin caer en la miseria.\",\n",
      "  \"La informalidad en la tenencia de la tierra en algunas zonas rurales genera inseguridad y limita las inversiones. Los campesinos no tienen certeza sobre sus propiedades, lo que les impide acceder a créditos o planificar a largo plazo. Es fundamental que se impulse un proceso de formalización de la propiedad de la tierra, brindando seguridad jurídica a los pequeños propietarios y facilitando el acceso a instrumentos financieros que les permitan desarrollar sus proyectos productivos.\",\n",
      "  \"La falta de oportunidades para los jóvenes en zonas vulnerables los empuja a la delincuencia y a la marginalidad. Sin acceso a educación de calidad ni a empleos dignos, muchos ven en las actividades ilícitas una salida a su situación de pobreza. Es crucial que se invierta en programas de prevención del delito, que ofrezcan alternativas de vida a los jóvenes, a través de la formación, el empleo y el fomento del deporte y la cultura como herramientas de transformación social.\",\n",
      "  \"La brecha salarial entre hombres y mujeres sigue siendo una realidad en muchos sectores, lo que profundiza la pobreza de los hogares encabezados por mujeres. A igual trabajo, las mujeres a menudo reciben un salario menor, lo que limita su capacidad de ahorro y su autonomía económica. Es fundamental que se implementen políticas que garanticen la igualdad salarial y promuevan la equidad de género en el ámbito laboral, reconociendo el valor del trabajo de las mujeres.\",\n",
      "  \"La falta de infraestructura básica en algunos barrios urbanos es un claro reflejo de la pobreza. Calles sin pavimentar, alumbrado público deficiente y ausencia de parques o espacios de recreación afectan la calidad de vida de los residentes. Es vital que las administraciones municipales inviertan en la mejora de estos servicios, transformando estos barrios en lugares dignos para vivir y fomentando el desarrollo social y económico de sus habitantes.\",\n",
      "  \"Los altos costos de la canasta básica familiar son un desafío para las familias de bajos ingresos. El dinero no alcanza para cubrir las necesidades alimentarias, lo que se traduce en desnutrición y problemas de salud. Es fundamental que se implementen políticas para controlar la inflación y estabilizar los precios de los alimentos, así como programas de subsidios o transferencias monetarias condicionadas que garanticen la seguridad alimentaria de la población más vulnerable.\",\n",
      "  \"La falta de acceso a servicios de salud mental es una problemática que afecta especialmente a las poblaciones en situación de pobreza. El estrés, la ansiedad y la depresión son comunes en estas comunidades, pero no hay recursos ni profesionales disponibles para atender estas necesidades. Es crucial que se integre la salud mental en la oferta de servicios de salud pública, garantizando el acceso a terapias y acompañamiento para quienes lo necesitan, sin estigmatización.\",\n",
      "  \"La economía informal, aunque permite la subsistencia de muchas familias, carece de protecciones y estabilidad. Los trabajadores no tienen seguridad social, vacaciones pagas ni un salario mínimo garantizado, lo que los deja en una situación de vulnerabilidad constante. Se necesita una política pública que fomente la formalización de estos negocios, ofreciendo incentivos, capacitación y un marco legal que proteja los derechos de los trabajadores informales.\",\n",
      "  \"La falta de acceso a la justicia para las personas de bajos recursos es una barrera para salir de la pobreza. A menudo, no pueden pagar un abogado o desconocen sus derechos, lo que los deja desprotegidos ante abusos o injusticias. Es fundamental que se fortalezca la oferta de servicios de asistencia legal gratuita, garantizando que todos los ciudadanos, sin importar su condición económica, tengan acceso a una justicia pronta y efectiva.\",\n",
      "  \"La inseguridad alimentaria en las ciudades es una preocupación creciente. Muchas familias no tienen acceso regular a alimentos frescos y nutritivos, dependiendo de la caridad o de alimentos procesados de bajo costo pero poco saludables. Se necesita impulsar programas de huertas urbanas, mercados campesinos y bancos de alimentos, así como subsidios para la compra de alimentos, para garantizar la seguridad alimentaria en los entornos urbanos y combatir la desnutrición.\",\n",
      "  \"La falta de redes de apoyo social y comunitario debilita la capacidad de las comunidades para enfrentar la pobreza. El individualismo y la desconfianza impiden la colaboración y la construcción de soluciones colectivas. Es fundamental que se promuevan iniciativas que fortalezcan el tejido social, fomentando la solidaridad, la participación ciudadana y la creación de espacios de encuentro y cooperación para construir comunidades más resilientes y unidas.\",\n",
      "  \"La falta de inversión en proyectos productivos en zonas rurales empobrecidas es una oportunidad perdida. Con el potencial agrícola y turístico de muchas regiones, se podrían generar empleos y riqueza si hubiera un apoyo decidido del gobierno y del sector privado. Es crucial que se diseñen estrategias de desarrollo territorial que identifiquen y potencien las vocaciones productivas de cada región, ofreciendo asistencia técnica, financiamiento y acceso a mercados para impulsar la economía local.\",\n",
      "  \"Los altos índices de embarazo adolescente en algunas comunidades son un factor que perpetúa la pobreza. Las jóvenes madres a menudo abandonan sus estudios y tienen dificultades para acceder a un empleo digno, lo que limita sus oportunidades y las de sus hijos. Es fundamental que se fortalezcan los programas de educación sexual y reproductiva, así como el acceso a métodos anticonceptivos, y se brinde apoyo integral a las madres adolescentes para que puedan continuar sus estudios y desarrollar su potencial.\",\n",
      "  \"La falta de acceso a servicios financieros básicos como cuentas de ahorro o microcréditos es una barrera para la inclusión económica de las poblaciones vulnerables. Esto limita su capacidad de ahorro, inversión y manejo de sus finanzas, manteniéndolos en la informalidad. Es crucial que las entidades financieras, con el apoyo del Estado, diseñen productos y servicios adaptados a las necesidades de estas poblaciones, promoviendo la educación financiera y la bancarización.\",\n",
      "  \"La precariedad en el acceso a la energía eléctrica en algunas zonas rurales y urbanas marginales es un problema grave. Muchas familias carecen de este servicio básico, lo que afecta su calidad de vida, su seguridad y sus oportunidades de desarrollo. Es fundamental que el gobierno impulse programas de electrificación rural y de mejora de la infraestructura eléctrica en barrios vulnerables, garantizando un acceso equitativo y asequible a la energía para todos los ciudadanos.\",\n",
      "  \"La falta de oportunidades para las personas con discapacidad en el mercado laboral las condena a la pobreza y a la dependencia. A menudo, enfrentan barreras físicas, actitudinales y de acceso a la capacitación, lo que les impide desarrollar su potencial. Es fundamental que se implementen políticas de inclusión laboral que garanticen un acceso equitativo a empleos dignos, adaptando los puestos de trabajo y promoviendo la sensibilización en las empresas.\",\n",
      "  \"La deforestación y la degradación ambiental en algunas regiones afectan los medios de vida de las comunidades que dependen de los recursos naturales. La pérdida de bosques y la contaminación del agua disminuyen la productividad agrícola y pesquera, empujando a las familias a la pobreza. Es crucial que se fortalezcan las políticas de protección ambiental, fomentando prácticas sostenibles y apoyando a las comunidades en la conservación de sus ecosistemas y recursos naturales.\",\n",
      "  \"La falta de acceso a agua potable y saneamiento básico en muchas comunidades rurales es una preocupación constante. Las personas se ven obligadas a consumir agua no tratada, lo que genera enfermedades y afecta su salud y productividad. Es fundamental que el gobierno invierta en infraestructura hídrica, construyendo acueductos y sistemas de saneamiento, y garantizando el acceso a agua segura y de calidad para todas las poblaciones, sin excepción.\",\n",
      "  \"La informalidad en la recolección de residuos y el reciclaje es una fuente de ingresos para muchas familias vulnerables, pero a menudo se realiza en condiciones precarias e insalubres. Estos trabajadores no tienen seguridad social ni equipos de protección, lo que pone en riesgo su salud. Es crucial que se implementen programas de formalización de los recicladores, dignificando su labor, ofreciéndoles capacitación y garantizando sus derechos laborales y su seguridad.\",\n",
      "  \"La falta de acceso a la justicia para las víctimas de violencia de género, especialmente en zonas rurales, perpetúa la impunidad y la vulnerabilidad de las mujeres. A menudo, no hay dónde denunciar, o los procesos son lentos y revictimizantes, lo que las deja desprotegidas. Es fundamental que se fortalezcan los mecanismos de denuncia y atención a las víctimas, garantizando un acceso rápido y seguro a la justicia y a los servicios de apoyo psicosocial.\",\n",
      "  \"La dependencia económica de un solo cultivo en algunas regiones agrícolas las hace vulnerables a las fluctuaciones del mercado y a los fenómenos climáticos, lo que empuja a los agricultores a la pobreza. Es fundamental que se impulse la diversificación productiva, fomentando la siembra de diferentes cultivos y la integración de actividades agroindustriales, para reducir los riesgos y generar ingresos más estables para las familias campesinas.\",\n",
      "  \"La falta de acceso a tierras productivas para las comunidades indígenas y afrodescendientes es una causa histórica de pobreza y exclusión. Sus territorios ancestrales han sido despojados o degradados, lo que limita sus medios de vida y su desarrollo cultural. Es fundamental que se implementen políticas de restitución de tierras y de titulación colectiva, garantizando el respeto a sus derechos territoriales y el apoyo a sus planes de vida y desarrollo sostenible.\",\n",
      "  \"La ausencia de oportunidades para la población joven en zonas urbanas marginales es un caldo de cultivo para la violencia y la delincuencia. Sin acceso a educación, empleo o espacios de recreación, muchos jóvenes caen en la desesperanza y son reclutados por grupos delictivos. Es crucial que se invierta en programas de prevención de la violencia, que ofrezcan alternativas de vida a los jóvenes, a través de la formación, el empleo y el fomento de actividades culturales y deportivas.\",\n",
      "  \"La dificultad para acceder a un transporte público eficiente y seguro es un obstáculo para que las personas de bajos ingresos lleguen a sus trabajos o a los centros de salud. El costo del pasaje o la falta de rutas adecuadas limitan su movilidad y sus oportunidades. Es fundamental que las administraciones municipales revisen y mejoren el sistema de transporte público, garantizando que sea accesible, seguro y eficiente para todos los ciudadanos, sin importar su estrato socioeconómico.\",\n",
      "  \"La falta de acceso a internet y a herramientas digitales en muchas comunidades rurales profundiza la brecha de la pobreza. Esto limita el acceso a la información, la educación en línea y las oportunidades de teletrabajo, dejando a estas poblaciones rezagadas. Es crucial que el gobierno impulse programas de conectividad rural, subsidie el acceso a internet y capacite a las comunidades en el uso de las tecnologías para reducir la brecha digital y fomentar el desarrollo.\",\n",
      "  \"La precariedad en las condiciones laborales de los trabajadores del campo, con jornadas extensas y salarios bajos, es una realidad que perpetúa la pobreza rural. Muchos jornaleros no tienen contrato, seguridad social ni prestaciones, lo que los deja en una situación de vulnerabilidad extrema. Es fundamental que las autoridades laborales fortalezcan la inspección y el control en el sector agrícola, garantizando el cumplimiento de los derechos laborales y la dignificación del trabajo rural.\",\n",
      "  \"La falta de oportunidades para los adultos mayores en el mercado laboral los condena a la pobreza y a la dependencia. Muchos de ellos tienen experiencia y ganas de trabajar, pero enfrentan discriminación por su edad. Es fundamental que se promuevan políticas de inclusión laboral para los adultos mayores, incentivando a las empresas a contratarlos y ofreciendo programas de capacitación que les permitan actualizar sus habilidades y mantenerse activos económicamente.\",\n",
      "  \"La dependencia de la minería ilegal en algunas regiones genera un ciclo de pobreza y violencia. Aunque ofrece ingresos rápidos, degrada el medio ambiente, fomenta la ilegalidad y no genera un desarrollo sostenible para las comunidades. Es crucial que el gobierno implemente estrategias de formalización de la minería responsable y diversificación económica en estas zonas, ofreciendo alternativas productivas que garanticen un futuro digno y sostenible para sus habitantes.\",\n",
      "  \"La falta de acceso a servicios bancarios y financieros en muchas zonas rurales es una barrera para el desarrollo económico. Los pequeños agricultores no pueden acceder a créditos para sus cultivos, ni a seguros para sus cosechas, lo que limita su capacidad de inversión y los expone a mayores riesgos. Es fundamental que las entidades financieras, con el apoyo del Estado, amplíen su cobertura, diseñando productos y servicios adaptados a las necesidades de estas comunidades.\",\n",
      "  \"La informalidad en la prestación de servicios de cuidado infantil en algunos barrios marginales es una preocupación. Muchas madres trabajadoras no tienen acceso a guarderías seguras y asequibles, lo que las obliga a dejar a sus hijos al cuidado de personas no calificadas o a depender de familiares. Es crucial que se fortalezcan los programas de atención integral a la primera infancia, garantizando el acceso a guarderías de calidad que permitan a las madres trabajar y a los niños desarrollarse plenamente.\",\n",
      "  \"La falta de participación de las comunidades en la definición de proyectos de desarrollo local es un problema. Las soluciones se diseñan desde arriba, sin tener en cuenta las necesidades y prioridades de la gente que vive la pobreza a diario. Es fundamental que se creen espacios de diálogo y consulta donde las comunidades puedan expresar sus ideas y prioridades, contribuyendo activamente a la construcción de soluciones más efectivas y sostenibles para combatir la pobreza.\",\n",
      "  \"La carencia de servicios de salud preventiva y de promoción de la salud en las zonas más vulnerables es un factor que agrava la pobreza. Las enfermedades prevenibles afectan la productividad de las personas y generan gastos catastróficos que empujan a las familias a la miseria. Es crucial que se fortalezcan los programas de atención primaria en salud, con énfasis en la prevención, la vacunación y la educación sanitaria, para mejorar la calidad de vida de estas comunidades.\",\n",
      "  \"La falta de un sistema de protección social robusto que incluya un seguro de desempleo digno deja a muchas familias en la indigencia ante la pérdida de trabajo. El miedo a perder el empleo es constante y la incertidumbre económica es abrumadora. Se necesita que el gobierno implemente un seguro de desempleo que cubra un porcentaje significativo del salario por un período razonable, brindando una red de seguridad que proteja a los trabajadores y sus familias en momentos de crisis.\",\n",
      "  \"La dependencia de los monocultivos en algunas regiones agrícolas las hace vulnerables a las plagas, las enfermedades y las fluctuaciones del mercado, lo que empuja a los agricultores a la pobreza. Es fundamental que se impulse la diversificación productiva, fomentando la siembra de diferentes cultivos y la integración de actividades agroindustriales, para reducir los riesgos y generar ingresos más estables para las familias campesinas y contribuir a la seguridad alimentaria regional.\",\n",
      "  \"La falta de una estrategia integral para la gestión de riesgos de desastres en comunidades vulnerables agrava el impacto de los fenómenos naturales, empujando a las familias a la pobreza extrema. Las inundaciones, los deslizamientos o las sequías destruyen viviendas y medios de vida, y la recuperación es lenta y difícil. Es crucial que se invierta en la prevención, la alerta temprana y la preparación de las comunidades, brindando apoyo para la reconstrucción y la adaptación al cambio climático.\",\n",
      "  \"La informalidad en el sector del transporte, con mototaxistas y bicitaxistas sin seguridad social ni regulaciones, es una preocupación. Aunque es una fuente de ingresos para muchos, los trabajadores están expuestos a riesgos y abusos, y los usuarios carecen de garantías. Se necesita una política pública que formalice estos servicios, ofreciendo capacitación, seguridad social y un marco legal que proteja tanto a los trabajadores como a los usuarios, dignificando su labor y mejorando la movilidad.\",\n",
      "  \"La falta de una política de vivienda digna para la población migrante en las ciudades es un problema creciente. Muchos migrantes viven en condiciones de hacinamiento e insalubridad, sin acceso a servicios básicos y expuestos a la explotación. Es fundamental que las autoridades municipales diseñen programas de vivienda de interés social que sean accesibles para esta población, garantizando el acceso a soluciones habitacionales seguras y con todos los servicios básicos.\",\n",
      "  \"La ausencia de un sistema de saneamiento básico adecuado en muchas zonas rurales y urbanas marginales es una preocupación constante. La falta de alcantarillado y el manejo inadecuado de las aguas residuales generan enfermedades y contaminan el medio ambiente. Es fundamental que el gobierno invierta en infraestructura de saneamiento, construyendo sistemas de alcantarillado y plantas de tratamiento, para mejorar la salud pública y proteger nuestros ecosistemas.\",\n",
      "  \"La falta de oportunidades para las madres cabeza de familia en el mercado laboral las condena a la pobreza y a la dependencia. A menudo, enfrentan dificultades para conciliar el trabajo con el cuidado de sus hijos, y son discriminadas por su condición. Es fundamental que se promuevan políticas de inclusión laboral para las madres cabeza de familia, incentivando a las empresas a contratarlas y ofreciendo programas de apoyo para el cuidado infantil, para que puedan desarrollar su potencial económico.\",\n",
      "  \"La desigualdad en el acceso a la propiedad de la tierra sigue siendo un problema estructural que perpetúa la pobreza rural. Grandes extensiones de tierra están en manos de unos pocos, mientras que los pequeños agricultores no tienen acceso a terrenos productivos. Es fundamental que se impulse una reforma agraria integral que garantice un acceso equitativo a la tierra, fomentando la producción local, la seguridad alimentaria y el desarrollo sostenible de las comunidades campesinas.\",\n",
      "  \"La falta de acceso a servicios veterinarios y de asistencia técnica para pequeños ganaderos y agricultores es una barrera para el desarrollo rural. Las enfermedades del ganado o las plagas en los cultivos pueden arruinar sus medios de vida, y no tienen cómo acceder a ayuda profesional. Es crucial que el gobierno fortalezca los programas de asistencia técnica y veterinaria, con brigadas móviles y subsidios, para proteger la producción y mejorar la calidad de vida de estas familias.\",\n",
      "  \"La informalidad en el comercio ambulante es una fuente de ingresos para muchas familias vulnerables, pero carece de protecciones y estabilidad. Los vendedores ambulantes no tienen seguridad social, acceso a créditos formales ni un lugar seguro para trabajar, lo que los expone a riesgos y abusos. Se necesita una política pública que formalice este sector, ofreciendo capacitación, seguridad social y un marco legal que dignifique su labor y mejore sus condiciones de trabajo.\",\n",
      "  \"La falta de oportunidades para las personas con discapacidad en el acceso a la educación y a la capacitación limita su desarrollo y las condena a la pobreza. A menudo, enfrentan barreras físicas y actitudinales en las instituciones educativas, y no hay programas adaptados a sus necesidades. Es fundamental que se implementen políticas de inclusión educativa que garanticen un acceso equitativo a la educación de calidad, adaptando las infraestructuras y ofreciendo apoyo especializado.\",\n",
      "  \"La dependencia de las remesas de los migrantes, aunque un alivio para muchas familias, no es una solución sostenible para la pobreza a largo plazo. La salida de jóvenes y adultos en edad productiva debilita el tejido social y económico de las comunidades de origen. Es crucial que el gobierno impulse programas de desarrollo local que generen oportunidades de empleo y emprendimiento en las regiones, para que las personas no se vean obligadas a migrar por necesidad.\",\n",
      "  \"La falta de infraestructura turística y de apoyo al emprendimiento en zonas con potencial turístico pero en situación de pobreza es una oportunidad desaprovechada. El turismo podría generar empleos y riqueza, pero se necesita inversión y capacitación para desarrollar el sector. Es fundamental que se diseñen estrategias de desarrollo turístico sostenible que involucren a las comunidades locales, ofreciendo asistencia técnica, financiamiento y acceso a mercados para impulsar la economía regional.\",\n",
      "  \"La ausencia de un sistema de alertas tempranas y de preparación ante desastres naturales en comunidades vulnerables agrava el impacto de los fenómenos climáticos, empujando a las familias a la pobreza extrema. Las inundaciones, los deslizamientos o las sequías destruyen viviendas y medios de vida, y la recuperación es lenta y difícil. Es crucial que se invierta en la prevención, la alerta temprana y la preparación de las comunidades, brindando apoyo para la reconstrucción y la adaptación al cambio climático.\",\n",
      "  \"La falta de acceso a mercados justos para los pequeños productores agrícolas los deja a merced de los intermediarios, que se llevan la mayor parte de las ganancias. Esto limita sus ingresos y perpetúa la pobreza rural. Es fundamental que el gobierno impulse programas de comercialización directa, mercados campesinos y cooperativas, para que los agricultores puedan vender sus productos a precios justos y acceder a nuevos mercados, mejorando sus condiciones de vida y fomentando la producción local.\",\n",
      "  \"La informalidad en la construcción, con trabajadores sin seguridad social ni condiciones laborales dignas, es una preocupación. Aunque genera empleo, los trabajadores están expuestos a riesgos y abusos, y carecen de garantías. Se necesita una política pública que formalice este sector, ofreciendo capacitación, seguridad social y un marco legal que proteja tanto a los trabajadores como a los usuarios, dignificando su labor y mejorando la calidad de las construcciones.\",\n",
      "  \"La falta de acceso a servicios legales y de mediación para la resolución de conflictos en comunidades vulnerables agrava la situación de pobreza. Los conflictos por tierras, herencias o deudas pueden escalar y generar violencia, afectando la estabilidad de las familias. Es fundamental que se fortalezca la oferta de servicios de asistencia legal gratuita y de mediación comunitaria, garantizando un acceso rápido y seguro a la justicia y a soluciones pacíficas para los conflictos.\",\n",
      "  \"La desigualdad en el acceso a los servicios públicos básicos como la energía eléctrica en zonas rurales es un reflejo de la pobreza. Muchas familias carecen de este servicio esencial, lo que limita su desarrollo y su calidad de vida. Es fundamental que el gobierno impulse programas de electrificación rural, con fuentes de energía renovable, garantizando un acceso equitativo y asequible a la energía para todas las poblaciones, sin excepción.\",\n",
      "  \"La falta de oportunidades para los jóvenes en zonas rurales empobrecidas los empuja a la migración hacia las ciudades o a la vinculación con grupos al margen de la ley. Sin acceso a educación de calidad ni a empleos dignos, muchos ven en estas opciones una salida a su situación de pobreza. Es crucial que se invierta en programas de desarrollo rural que generen oportunidades para los jóvenes, a través de la formación, el empleo y el fomento del emprendimiento local.\",\n",
      "  \"La precariedad en el acceso a la salud para las poblaciones indígenas y afrodescendientes es una preocupación. A menudo, enfrentan barreras culturales, geográficas y económicas para acceder a servicios de salud de calidad, lo que agrava sus condiciones de pobreza. Es fundamental que se fortalezcan los programas de salud con enfoque diferencial, respetando sus prácticas ancestrales y garantizando un acceso equitativo a servicios de salud culturalmente pertinentes.\",\n",
      "  \"La falta de acceso a la vivienda digna para los recicladores es una preocupación. Muchos de ellos viven en condiciones de hacinamiento e insalubridad, sin acceso a servicios básicos y expuestos a riesgos. Es fundamental que las autoridades municipales diseñen programas de vivienda de interés social que sean accesibles para esta población, garantizando el acceso a soluciones habitacionales seguras y con todos los servicios básicos, dignificando su labor y mejorando su calidad de vida.\",\n",
      "  \"La informalidad en la prestación de servicios de limpieza y mantenimiento, con trabajadores sin seguridad social ni condiciones laborales dignas, es una preocupación. Aunque genera empleo, los trabajadores están expuestos a riesgos y abusos, y carecen de garantías. Se necesita una política pública que formalice este sector, ofreciendo capacitación, seguridad social y un marco legal que proteja tanto a los trabajadores como a los usuarios, dignificando su labor y mejorando las condiciones laborales.\",\n",
      "  \"La falta de participación de las mujeres en la toma de decisiones económicas y políticas en las comunidades rurales agrava la pobreza. A menudo, las mujeres tienen un rol central en el hogar y en la producción agrícola, pero no tienen voz ni voto en las decisiones que afectan sus vidas. Es fundamental que se impulsen programas de empoderamiento femenino, promoviendo su liderazgo y participación en los espacios de decisión para construir comunidades más equitativas y prósperas.\",\n",
      "  \"La ausencia de un sistema de protección social integral que incluya seguros de cosechas para los pequeños agricultores es una preocupación. Las pérdidas por fenómenos climáticos o plagas pueden arruinar sus medios de vida, y no tienen cómo recuperarse. Es fundamental que el gobierno implemente un sistema de seguros agrícolas asequibles, que proteja a los agricultores de los riesgos y les permita reconstruir su producción después de una calamidad, garantizando la seguridad alimentaria y la estabilidad económica.\",\n",
      "  \"La falta de acceso a créditos y financiamiento para los emprendedores rurales es una barrera para el desarrollo económico. Muchas personas tienen ideas innovadoras y el deseo de crear su propio negocio, pero no tienen el capital inicial ni la posibilidad de acceder a préstamos bancarios. Es crucial que las entidades financieras, con el apoyo del Estado, diseñen líneas de crédito específicas para el emprendimiento rural, con requisitos flexibles y tasas accesibles, para impulsar la economía local.\",\n",
      "  \"La precariedad en el acceso a la energía eléctrica en zonas urbanas marginales es un problema grave. Muchas familias carecen de este servicio básico, lo que afecta su calidad de vida, su seguridad y sus oportunidades de desarrollo. Es fundamental que el gobierno impulse programas de electrificación y de mejora de la infraestructura eléctrica en barrios vulnerables, garantizando un acceso equitativo y asequible a la energía para todos los ciudadanos.\",\n",
      "  \"La falta de oportunidades para las personas con discapacidad en el acceso a la capacitación laboral limita su desarrollo y las condena a la pobreza. A menudo, enfrentan barreras para acceder a programas de formación que se adapten a sus necesidades y habilidades. Es fundamental que se implementen políticas de inclusión laboral que garanticen un acceso equitativo a la capacitación, adaptando los programas y ofreciendo apoyo especializado para su inserción en el mercado laboral.\",\n",
      "  \"La dependencia de la economía ilegal en algunas regiones genera un ciclo de pobreza y violencia. Aunque ofrece ingresos rápidos, degrada el medio ambiente, fomenta la ilegalidad y no genera un desarrollo sostenible para las comunidades. Es crucial que el gobierno implemente estrategias de diversificación económica en estas zonas, ofreciendo alternativas productivas que garanticen un futuro digno y sostenible para sus habitantes, rompiendo la dependencia de actividades ilícitas.\",\n",
      "  \"La falta de acceso a servicios bancarios básicos y a la educación financiera en muchas comunidades urbanas marginales es una barrera para la inclusión económica. Las personas no pueden acceder a créditos, ni realizar transacciones financieras de manera segura, lo que las obliga a depender de sistemas informales que a menudo son abusivos. Es crucial que las entidades financieras, con el apoyo del Estado, amplíen su cobertura, ofreciendo servicios adaptados a las necesidades de estas comunidades y fomentando la inclusión financiera.\",\n",
      "  \"La informalidad en la economía del cuidado, con trabajadoras del hogar sin seguridad social ni condiciones laborales dignas, es una preocupación. Aunque es una fuente de empleo para muchas mujeres, están expuestas a riesgos y abusos, y carecen de garantías. Se necesita una política pública que formalice este sector, ofreciendo capacitación, seguridad social y un marco legal que proteja tanto a las trabajadoras como a los empleadores, dignificando su labor y mejorando sus condiciones.\",\n",
      "  \"La falta de participación de los jóvenes en la toma de decisiones sobre políticas de desarrollo local es un problema. A menudo, las soluciones se diseñan desde arriba, sin tener en cuenta las necesidades y prioridades de la juventud que vive la pobreza a diario. Es fundamental que se creen espacios de diálogo y consulta donde los jóvenes puedan expresar sus ideas y prioridades, contribuyendo activamente a la construcción de soluciones más efectivas y sostenibles para combatir la pobreza.\",\n",
      "  \"La ausencia de un sistema de protección social que incluya un seguro de salud para los trabajadores informales es una preocupación. Una enfermedad grave puede empujar a estas familias a la pobreza extrema, ya que no tienen cómo acceder a servicios de salud de calidad ni a medicamentos. Es fundamental que el gobierno implemente un sistema de seguridad social flexible y asequible para los trabajadores informales, garantizando el acceso a servicios de salud y medicamentos esenciales.\",\n",
      "  \"La dependencia de un solo sector económico en algunas regiones las hace vulnerables a las crisis y a las fluctuaciones del mercado, lo que empuja a las comunidades a la pobreza. Es fundamental que se impulse la diversificación económica, fomentando la creación de nuevas industrias y servicios, para reducir los riesgos y generar oportunidades de empleo más estables para las familias, contribuyendo a la resiliencia económica de la región.\",\n",
      "  \"La falta de una estrategia integral para la gestión de residuos sólidos en comunidades vulnerables agrava los problemas de salud pública y degrada el medio ambiente. La acumulación de basura genera focos de infección y contamina el agua y el suelo, afectando la calidad de vida de las personas. Es crucial que se invierta en la implementación de sistemas de recolección, tratamiento y reciclaje de residuos, con la participación de la comunidad, para mejorar la salubridad y proteger el medio ambiente.\",\n",
      "  \"La informalidad en la venta de alimentos en la calle es una fuente de ingresos para muchas familias vulnerables, pero carece de regulaciones sanitarias y de protecciones para los trabajadores. Los alimentos pueden no ser seguros y los vendedores están expuestos a riesgos y abusos. Se necesita una política pública que formalice este sector, ofreciendo capacitación en manipulación de alimentos, seguridad social y un marco legal que dignifique su labor y garantice la seguridad alimentaria.\",\n",
      "  \"La falta de acceso a servicios legales y de asesoría para la constitución de empresas y emprendimientos en comunidades vulnerables es una barrera para el desarrollo económico. Muchas personas tienen ideas, pero no saben cómo formalizar sus negocios o acceder a financiamiento. Es fundamental que se fortalezca la oferta de servicios de asistencia legal gratuita y de asesoría empresarial, garantizando que todos los ciudadanos tengan acceso a la información y el acompañamiento para crear sus empresas.\",\n",
      "  \"La desigualdad en el acceso a la educación superior para los jóvenes de bajos ingresos es un factor que perpetúa la pobreza. A menudo, no pueden pagar la matrícula, los materiales o el transporte, lo que les impide acceder a una educación de calidad que les abra puertas al mercado laboral. Es fundamental que se amplíen las becas y los programas de apoyo económico para los estudiantes de bajos recursos, garantizando la igualdad de oportunidades en el acceso a la educación superior.\",\n",
      "  \"La falta de oportunidades para las personas mayores en el acceso a la capacitación laboral limita su desarrollo y las condena a la pobreza. Muchos de ellos tienen experiencia y ganas de aprender nuevas habilidades, pero enfrentan barreras para acceder a programas de formación que se adapten a sus necesidades. Es fundamental que se implementen políticas de inclusión laboral que garanticen un acceso equitativo a la capacitación, adaptando los programas y ofreciendo apoyo especializado.\",\n",
      "  \"La dependencia de la economía extractiva en algunas regiones genera un ciclo de pobreza y degradación ambiental. Aunque ofrece empleos, no genera un desarrollo sostenible para las comunidades y deja pasivos ambientales que afectan la salud y los medios de vida. Es crucial que el gobierno implemente estrategias de diversificación económica en estas zonas, ofreciendo alternativas productivas que garanticen un futuro digno y sostenible para sus habitantes, protegiendo el medio ambiente.\",\n",
      "  \"La falta de acceso a servicios bancarios básicos y a la educación financiera en muchas comunidades indígenas y afrodescendientes es una barrera para la inclusión económica. Las personas no pueden acceder a créditos, ni realizar transacciones financieras de manera segura, lo que las obliga a depender de sistemas informales que a menudo son abusivos. Es crucial que las entidades financieras, con el apoyo del Estado, amplíen su cobertura, ofreciendo servicios adaptados a las necesidades de estas comunidades.\",\n",
      "  \"La informalidad en la economía del reciclaje, con trabajadores sin seguridad social ni condiciones laborales dignas, es una preocupación. Aunque es una fuente de empleo para muchos, están expuestos a riesgos y abusos, y carecen de garantías. Se necesita una política pública que formalice este sector, ofreciendo capacitación, seguridad social y un marco legal que proteja tanto a los trabajadores como a los usuarios, dignificando su labor y mejorando las condiciones laborales.\",\n",
      "  \"La falta de participación de las comunidades rurales en la definición de proyectos de desarrollo local es un problema. Las soluciones se diseñan desde arriba, sin tener en cuenta las necesidades y prioridades de la gente que vive la pobreza a diario. Es fundamental que se creen espacios de diálogo y consulta donde las comunidades puedan expresar sus ideas y prioridades, contribuyendo activamente a la construcción de soluciones más efectivas y sostenibles para combatir la pobreza.\",\n",
      "  \"La ausencia de un sistema de protección social que incluya un seguro de invalidez para los trabajadores informales es una preocupación. Una discapacidad puede empujar a estas familias a la pobreza extrema, ya que no tienen cómo acceder a servicios de rehabilitación ni a un ingreso mínimo. Es fundamental que el gobierno implemente un sistema de seguridad social flexible y asequible para los trabajadores informales, garantizando el acceso a servicios de rehabilitación y a un ingreso básico.\",\n",
      "  \"La dependencia de la producción agrícola a pequeña escala en algunas regiones, sin acceso a tecnología ni a mercados, genera un ciclo de pobreza. Los agricultores no pueden competir con la producción industrial y sus ingresos son insuficientes para cubrir sus necesidades básicas. Es fundamental que se impulse la modernización del campo, ofreciendo asistencia técnica, acceso a tecnología y financiamiento, para que los pequeños agricultores puedan ser más productivos y competitivos.\",\n",
      "  \"La falta de una estrategia integral para la prevención y atención de la violencia de género en comunidades vulnerables agrava la pobreza. La violencia intrafamiliar y sexual afecta la salud, la seguridad y la autonomía económica de las mujeres, limitando sus oportunidades. Es crucial que se invierta en programas de prevención, atención y empoderamiento de las mujeres, garantizando el acceso a servicios de apoyo psicosocial y legal, y promoviendo la igualdad de género.\",\n",
      "  \"La informalidad en la venta de productos artesanales, con artesanos sin seguridad social ni acceso a mercados justos, es una preocupación. Aunque es una fuente de ingresos para muchas comunidades, los artesanos están expuestos a riesgos y abusos, y carecen de garantías. Se necesita una política pública que formalice este sector, ofreciendo capacitación, seguridad social y un marco legal que dignifique su labor y mejore sus condiciones de trabajo.\",\n",
      "  \"La falta de acceso a servicios legales y de mediación para la resolución de conflictos laborales en comunidades vulnerables agrava la situación de pobreza. Los conflictos por salarios, despidos o condiciones laborales pueden escalar y generar violencia, afectando la estabilidad de las familias. Es fundamental que se fortalezca la oferta de servicios de asistencia legal gratuita y de mediación laboral, garantizando un acceso rápido y seguro a la justicia y a soluciones pacíficas para los conflictos.\",\n",
      "  \"La desigualdad en el acceso a la propiedad de la vivienda para las familias de bajos ingresos es un factor que perpetúa la pobreza. A menudo, no pueden pagar el arriendo, o viven en asentamientos informales sin seguridad jurídica. Es fundamental que se amplíen los programas de vivienda de interés social y los subsidios de arriendo, garantizando el acceso a una vivienda digna y segura para todas las familias, sin importar su condición económica.\",\n",
      "  \"La falta de oportunidades para las personas con discapacidad en el acceso a la recreación y el deporte limita su desarrollo y las condena a la exclusión. A menudo, enfrentan barreras físicas y actitudinales en los espacios públicos, y no hay programas adaptados a sus necesidades. Es fundamental que se implementen políticas de inclusión que garanticen un acceso equitativo a la recreación y el deporte, adaptando los espacios y ofreciendo programas especializados.\",\n",
      "  \"La dependencia de la ayuda humanitaria en algunas regiones es un reflejo de la pobreza extrema y la falta de desarrollo sostenible. Aunque es necesaria en momentos de crisis, no es una solución a largo plazo y puede generar dependencia. Es crucial que el gobierno impulse programas de desarrollo integral en estas zonas, que generen oportunidades de empleo y emprendimiento, para que las comunidades puedan ser autosuficientes y resilientes.\",\n",
      "  \"La falta de acceso a servicios bancarios básicos y a la educación financiera en muchas comunidades migrantes es una barrera para la inclusión económica. Las personas no pueden acceder a créditos, ni realizar transacciones financieras de manera segura, lo que las obliga a depender de sistemas informales que a menudo son abusivos. Es crucial que las entidades financieras, con el apoyo del Estado, amplíen su cobertura, ofreciendo servicios adaptados a las necesidades de estas comunidades y fomentando la inclusión financiera.\",\n",
      "  \"La informalidad en la economía del cuidado de personas mayores, con cuidadores sin seguridad social ni condiciones laborales dignas, es una preocupación. Aunque es una fuente de empleo para muchos, están expuestos a riesgos y abusos, y carecen de garantías. Se necesita una política pública que formalice este sector, ofreciendo capacitación, seguridad social y un marco legal que proteja tanto a los cuidadores como a las personas mayores, dignificando su labor y mejorando las condiciones.\",\n",
      "  \"La falta de participación de las organizaciones de la sociedad civil en la definición de políticas de desarrollo local es un problema. A menudo, las soluciones se diseñan desde arriba, sin tener en cuenta la experiencia y el conocimiento de las organizaciones que trabajan en el terreno. Es fundamental que se creen espacios de diálogo y consulta donde las organizaciones puedan expresar sus ideas y prioridades, contribuyendo activamente a la construcción de soluciones más efectivas y sostenibles.\",\n",
      "  \"La ausencia de un sistema de protección social que incluya un seguro de vejez para los trabajadores informales es una preocupación. Muchos de ellos llegan a la tercera edad sin una pensión, lo que los condena a la pobreza. Es fundamental que el gobierno implemente un sistema de seguridad social flexible y asequible para los trabajadores informales, garantizando el acceso a una pensión digna que les permita vivir con tranquilidad en su vejez.\",\n",
      "  \"La dependencia de la economía de subsistencia en algunas regiones, sin acceso a tecnología ni a mercados, genera un ciclo de pobreza. Las familias apenas producen lo suficiente para su propio consumo, y no tienen excedentes para generar ingresos. Es fundamental que se impulse la diversificación productiva, ofreciendo asistencia técnica, acceso a tecnología y financiamiento, para que las comunidades puedan generar excedentes y mejorar sus condiciones de vida.\",\n",
      "  \"La falta de una estrategia integral para la prevención y atención de la explotación sexual comercial de niños, niñas y adolescentes en comunidades vulnerables agrava la pobreza. Esta problemática afecta la salud, la seguridad y el desarrollo de los niños, limitando sus oportunidades. Es crucial que se invierta en programas de prevención, atención y protección de la infancia, garantizando el acceso a servicios de apoyo psicosocial y legal, y promoviendo la denuncia de estos delitos.\",\n",
      "  \"La informalidad en la venta de servicios de peluquería y belleza, con trabajadores sin seguridad social ni condiciones laborales dignas, es una preocupación. Aunque es una fuente de empleo para muchos, están expuestos a riesgos y abusos, y carecen de garantías. Se necesita una política pública que formalice este sector, ofreciendo capacitación, seguridad social y un marco legal que proteja tanto a los trabajadores como a los usuarios, dignificando su labor y mejorando las condiciones.\",\n",
      "  \"La falta de acceso a servicios legales y de asesoría para la regularización de la propiedad en comunidades vulnerables es una barrera para el desarrollo económico. Muchas familias viven en la incertidumbre sobre sus tierras o viviendas, lo que les impide acceder a créditos o invertir en mejoras. Es fundamental que se fortalezca la oferta de servicios de asistencia legal gratuita y de asesoría catastral, garantizando que todos los ciudadanos tengan acceso a la información y el acompañamiento para formalizar sus propiedades.\",\n",
      "  \"La desigualdad en el acceso a la educación básica y media para los niños de bajos ingresos es un factor que perpetúa la pobreza. A menudo, no tienen acceso a útiles escolares, uniformes o transporte, lo que les impide asistir a la escuela o rendir académicamente. Es fundamental que se amplíen los programas de apoyo escolar y los subsidios de transporte, garantizando el acceso a una educación de calidad para todos los niños, sin importar su condición económica.\",\n",
      "  \"La falta de oportunidades para las personas en situación de discapacidad en el acceso a la cultura y el arte limita su desarrollo y las condena a la exclusión. A menudo, enfrentan barreras físicas y actitudinales en los espacios culturales, y no hay programas adaptados a sus necesidades. Es fundamental que se implementen políticas de inclusión que garanticen un acceso equitativo a la cultura y el arte, adaptando los espacios y ofreciendo programas especializados.\",\n",
      "  \"La dependencia de los subsidios gubernamentales en algunas regiones es un reflejo de la pobreza extrema y la falta de desarrollo sostenible. Aunque son necesarios en momentos de crisis, no son una solución a largo plazo y pueden generar dependencia. Es crucial que el gobierno impulse programas de desarrollo integral en estas zonas, que generen oportunidades de empleo y emprendimiento, para que las comunidades puedan ser autosuficientes y resilientes.\",\n",
      "  \"La falta de acceso a servicios bancarios básicos y a la educación financiera en muchas comunidades rurales remotas es una barrera para la inclusión económica. Las personas no pueden acceder a créditos, ni realizar transacciones financieras de manera segura, lo que las obliga a depender de sistemas informales que a menudo son abusivos. Es crucial que las entidades financieras, con el apoyo del Estado, amplíen su cobertura, ofreciendo servicios adaptados a las necesidades de estas comunidades y fomentando la inclusión financiera.\",\n",
      "  \"La informalidad en la venta de productos agrícolas en la calle, con agricultores sin seguridad social ni acceso a mercados justos, es una preocupación. Aunque es una fuente de ingresos para muchos, los agricultores están expuestos a riesgos y abusos, y carecen de garantías. Se necesita una política pública que formalice este sector, ofreciendo capacitación, seguridad social y un marco legal que dignifique su labor y mejore sus condiciones de trabajo.\",\n",
      "  \"La falta de participación de los consejos comunitarios afrodescendientes en la definición de políticas de desarrollo local es un problema. A menudo, las soluciones se diseñan desde arriba, sin tener en cuenta la experiencia y el conocimiento de las comunidades que viven la pobreza a diario. Es fundamental que se creen espacios de diálogo y consulta donde los consejos comunitarios puedan expresar sus ideas y prioridades, contribuyendo activamente a la construcción de soluciones más efectivas y sostenibles.\",\n",
      "  \"La ausencia de un sistema de protección social que incluya un seguro de maternidad para las trabajadoras informales es una preocupación. Un embarazo puede empujar a estas familias a la pobreza extrema, ya que no tienen cómo acceder a servicios de salud prenatal ni a un ingreso mínimo durante la licencia. Es fundamental que el gobierno implemente un sistema de seguridad social flexible y asequible para las trabajadoras informales, garantizando el acceso a servicios de salud y a un ingreso básico durante la maternidad.\",\n",
      "  \"La dependencia de la pesca artesanal en algunas regiones, sin acceso a tecnología ni a mercados, genera un ciclo de pobreza. Los pescadores no pueden competir con la pesca industrial y sus ingresos son insuficientes para cubrir sus necesidades básicas. Es fundamental que se impulse la modernización del sector pesquero, ofreciendo asistencia técnica, acceso a tecnología y financiamiento, para que los pescadores artesanales puedan ser más productivos y competitivos.\",\n",
      "  \"La falta de una estrategia integral para la prevención y atención de la mendicidad infantil en comunidades vulnerables agrava la pobreza. Los niños se ven obligados a pedir limosna en las calles, abandonando la escuela y perdiendo su infancia. Es crucial que se invierta en programas de prevención, atención y protección de la infancia, garantizando el acceso a la educación y a programas de apoyo familiar que permitan a los padres generar ingresos suficientes para no depender de la mendicidad de sus hijos.\",\n",
      "  \"La informalidad en la venta de servicios de mensajería y domicilios, con trabajadores sin seguridad social ni condiciones laborales dignas, es una preocupación. Aunque es una fuente de empleo para muchos, están expuestos a riesgos y abusos, y carecen de garantías. Se necesita una política pública que formalice este sector, ofreciendo capacitación, seguridad social y un marco legal que proteja tanto a los trabajadores como a los usuarios, dignificando su labor y mejorando las condiciones.\",\n",
      "  \"La falta de acceso a servicios legales y de asesoría para la regularización de la situación migratoria en comunidades vulnerables es una barrera para el desarrollo económico. Muchos migrantes viven en la incertidumbre sobre su estatus legal, lo que les impide acceder a empleos formales o a servicios básicos. Es fundamental que se fortalezca la oferta de servicios de asistencia legal gratuita y de asesoría migratoria, garantizando que todos los ciudadanos tengan acceso a la información y el acompañamiento para regularizar su situación.\",\n",
      "  \"La desigualdad en el acceso a la salud preventiva y a la medicina familiar para las comunidades rurales es un factor que perpetúa la pobreza. A menudo, no tienen acceso a centros de salud cercanos, ni a profesionales que los atiendan de manera integral. Es fundamental que se amplíen los programas de atención primaria en salud y se fortalezca la presencia de médicos familiares en las zonas rurales, garantizando el acceso a una salud de calidad para todos los ciudadanos.\",\n",
      "  \"La falta de oportunidades para las personas en situación de calle en el acceso a la vivienda digna y a los servicios básicos las condena a la pobreza extrema. Viven en la intemperie, sin acceso a alimentos, higiene o seguridad. Es fundamental que se implementen programas de atención integral a las personas en situación de calle, que les ofrezcan un refugio seguro, alimentación, atención médica y acompañamiento psicosocial para su reintegración a la sociedad.\",\n",
      "  \"La dependencia de la economía de subsistencia en algunas comunidades indígenas y afrodescendientes, sin acceso a tecnología ni a mercados, genera un ciclo de pobreza. Las familias apenas producen lo suficiente para su propio consumo, y no tienen excedentes para generar ingresos. Es fundamental que se impulse la diversificación productiva, ofreciendo asistencia técnica, acceso a tecnología y financiamiento, para que las comunidades puedan generar excedentes y mejorar sus condiciones de vida.\",\n",
      "  \"La falta de acceso a servicios bancarios básicos y a la educación financiera en muchas comunidades indígenas es una barrera para la inclusión económica. Las personas no pueden acceder a créditos, ni realizar transacciones financieras de manera segura, lo que las obliga a depender de sistemas informales que a menudo son abusivos. Es crucial que las entidades financieras, con el apoyo del Estado, amplíen su cobertura, ofreciendo servicios adaptados a las necesidades de estas comunidades y fomentando la inclusión financiera.\",\n",
      "  \"La informalidad en la venta de servicios de reparación de calzado y ropa, con trabajadores sin seguridad social ni condiciones laborales dignas, es una preocupación. Aunque es una fuente de empleo para muchos, están expuestos a riesgos y abusos, y carecen de garantías. Se necesita una política pública que formalice este sector, ofreciendo capacitación, seguridad social y un marco legal que proteja tanto a los trabajadores como a los usuarios, dignificando su labor y mejorando las condiciones.\",\n",
      "  \"La falta de participación de las comunidades indígenas en la definición de políticas de desarrollo local es un problema. A menudo, las soluciones se diseñan desde arriba, sin tener en cuenta la experiencia y el conocimiento de las comunidades que viven la pobreza a diario. Es fundamental que se creen espacios de diálogo y consulta donde las comunidades indígenas puedan expresar sus ideas y prioridades, contribuyendo activamente a la construcción de soluciones más efectivas y sostenibles.\",\n",
      "  \"La ausencia de un sistema de protección social que incluya un seguro de orfandad para los hijos de trabajadores informales es una preocupación. La muerte de un padre o madre puede empujar a estas familias a la pobreza extrema, ya que no tienen cómo acceder a un ingreso mínimo. Es fundamental que el gobierno implemente un sistema de seguridad social flexible y asequible para los trabajadores informales, garantizando el acceso a un ingreso básico para los hijos en caso de orfandad.\",\n",
      "  \"La dependencia de la ganadería extensiva en algunas regiones, sin acceso a tecnología ni a mercados, genera un ciclo de pobreza y degradación ambiental. Los ganaderos no pueden competir con la producción industrial y sus ingresos son insuficientes para cubrir sus necesidades básicas. Es fundamental que se impulse la modernización de la ganadería, ofreciendo asistencia técnica, acceso a tecnología y financiamiento, para que los pequeños ganaderos puedan ser más productivos y sostenibles.\",\n",
      "  \"La falta de una estrategia integral para la prevención y atención de la trata de personas en comunidades vulnerables agrava la pobreza. Esta problemática afecta la salud, la seguridad y la autonomía de las personas, limitando sus oportunidades. Es crucial que se invierta en programas de prevención, atención y protección de las víctimas, garantizando el acceso a servicios de apoyo psicosocial y legal, y promoviendo la denuncia de estos delitos.\",\n",
      "  \"La informalidad en la venta de servicios de lavandería y planchado, con trabajadores sin seguridad social ni condiciones laborales dignas, es una preocupación. Aunque es una fuente de empleo para muchos, están expuestos a riesgos y abusos, y carecen de garantías. Se necesita una política pública que formalice este sector, ofreciendo capacitación, seguridad social y un marco legal que proteja tanto a los trabajadores como a los usuarios, dignificando su labor y mejorando las condiciones.\",\n",
      "  \"La falta de acceso a servicios legales y de asesoría para la protección de los derechos de los consumidores en comunidades vulnerables es una barrera para el desarrollo económico. Muchas personas son víctimas de abusos por parte de comerciantes o empresas, y no tienen cómo defender sus derechos. Es fundamental que se fortalezca la oferta de servicios de asistencia legal gratuita y de asesoría al consumidor, garantizando que todos los ciudadanos tengan acceso a la información y el acompañamiento para proteger sus derechos.\",\n",
      "  \"La desigualdad en el acceso a la nutrición y a los programas de alimentación escolar para los niños de bajos ingresos es un factor que perpetúa la pobreza. A menudo, no tienen acceso a una alimentación balanceada en sus hogares, y los programas escolares son insuficientes. Es fundamental que se amplíen los programas de alimentación escolar y se fortalezcan las campañas de educación nutricional, garantizando el acceso a una alimentación adecuada para todos los niños, sin importar su condición económica.\",\n",
      "  \"La falta de oportunidades para las personas en situación de discapacidad en el acceso a la participación política y ciudadana limita su desarrollo y las condena a la exclusión. A menudo, enfrentan barreras para ejercer sus derechos políticos y participar en la toma de decisiones. Es fundamental que se implementen políticas de inclusión que garanticen un acceso equitativo a la participación política y ciudadana, adaptando los procesos y ofreciendo apoyo especializado.\",\n",
      "  \"La dependencia de la economía del carbón en algunas regiones genera un ciclo de pobreza y degradación ambiental. Aunque ofrece empleos, no genera un desarrollo sostenible para las comunidades y deja pasivos ambientales que afectan la salud y los medios de vida. Es crucial que el gobierno impulse estrategias de diversificación económica en estas zonas, ofreciendo alternativas productivas que garanticen un futuro digno y sostenible para sus habitantes, protegiendo el medio ambiente.\",\n",
      "  \"La falta de acceso a servicios bancarios básicos y a la educación financiera en muchas comunidades afrodescendientes es una barrera para la inclusión económica. Las personas no pueden acceder a créditos, ni realizar transacciones financieras de manera segura, lo que las obliga a depender de sistemas informales que a menudo son abusivos. Es crucial que las entidades financieras, con el apoyo del Estado, amplíen su cobertura, ofreciendo servicios adaptados a las necesidades de estas comunidades y fomentando la inclusión financiera.\",\n",
      "  \"La informalidad en la venta de servicios de aseo y jardinería, con trabajadores sin seguridad social ni condiciones laborales dignas, es una preocupación. Aunque es una fuente de empleo para muchos, están expuestos a riesgos y abusos, y carecen de garantías. Se necesita una política pública que formalice este sector, ofreciendo capacitación, seguridad social y un marco legal que proteja tanto a los trabajadores como a los usuarios, dignificando su labor y mejorando las condiciones.\",\n",
      "  \"La falta de participación de las juntas de acción comunal en la definición de políticas de desarrollo local es un problema. A menudo, las soluciones se diseñan desde arriba, sin tener en cuenta la experiencia y el conocimiento de las comunidades que viven la pobreza a diario. Es fundamental que se creen espacios de diálogo y consulta donde las juntas de acción comunal puedan expresar sus ideas y prioridades, contribuyendo activamente a la construcción de soluciones más efectivas y sostenibles.\",\n",
      "  \"La ausencia de un sistema de protección social que incluya un seguro de viudez para las viudas de trabajadores informales es una preocupación. La muerte de un cónyuge puede empujar a estas familias a la pobreza extrema, ya que no tienen cómo acceder a un ingreso mínimo. Es fundamental que el gobierno implemente un sistema de seguridad social flexible y asequible para los trabajadores informales, garantizando el acceso a un ingreso básico para las viudas y sus hijos.\",\n",
      "  \"La dependencia de la agricultura de subsistencia en algunas regiones, sin acceso a tecnología ni a mercados, genera un ciclo de pobreza. Las familias apenas producen lo suficiente para su propio consumo, y no tienen excedentes para generar ingresos. Es fundamental que se impulse la diversificación productiva, ofreciendo asistencia técnica, acceso a tecnología y financiamiento, para que las comunidades puedan generar excedentes y mejorar sus condiciones de vida.\",\n",
      "  \"La falta de una estrategia integral para la prevención y atención del reclutamiento forzado de niños, niñas y adolescentes en comunidades vulnerables agrava la pobreza. Esta problemática afecta la salud, la seguridad y el desarrollo de los niños, limitando sus oportunidades. Es crucial que se invierta en programas de prevención, atención y protección de la infancia, garantizando el acceso a la educación y a programas de apoyo familiar que permitan a los padres generar ingresos suficientes.\",\n",
      "  \"La informalidad en la venta de servicios de seguridad privada, con trabajadores sin seguridad social ni condiciones laborales dignas, es una preocupación. Aunque es una fuente de empleo para muchos, están expuestos a riesgos y abusos, y carecen de garantías. Se necesita una política pública que formalice este sector, ofreciendo capacitación, seguridad social y un marco legal que proteja tanto a los trabajadores como a los usuarios, dignificando su labor y mejorando las condiciones.\",\n",
      "  \"La falta de acceso a servicios legales y de asesoría para la defensa de los derechos humanos en comunidades vulnerables es una barrera para el desarrollo económico. Muchas personas son víctimas de abusos por parte de agentes estatales o grupos armados, y no tienen cómo defender sus derechos. Es fundamental que se fortalezca la oferta de servicios de asistencia legal gratuita y de asesoría en derechos humanos, garantizando que todos los ciudadanos tengan acceso a la información y el acompañamiento para proteger sus derechos.\",\n",
      "  \"La desigualdad en el acceso a la vivienda digna para las comunidades indígenas y afrodescendientes es un factor que perpetúa la pobreza. A menudo, viven en condiciones precarias, sin acceso a servicios básicos y sin seguridad jurídica sobre sus propiedades. Es fundamental que se amplíen los programas de vivienda de interés social con enfoque diferencial, garantizando el acceso a una vivienda digna y segura para todas las familias, sin importar su condición étnica.\",\n",
      "  \"La falta de oportunidades para las personas en situación de discapacidad en el acceso a la justicia limita su desarrollo y las condena a la exclusión. A menudo, enfrentan barreras físicas y actitudinales en los juzgados, y no hay programas adaptados a sus necesidades. Es fundamental que se implementen políticas de inclusión que garanticen un acceso equitativo a la justicia, adaptando los procesos y ofreciendo apoyo especializado.\",\n",
      "  \"La dependencia de la economía del turismo de masas en algunas regiones genera un ciclo de pobreza y degradación ambiental. Aunque ofrece empleos, no genera un desarrollo sostenible para las comunidades y deja pasivos ambientales que afectan la salud y los medios de vida. Es crucial que el gobierno impulse estrategias de diversificación económica en estas zonas, ofreciendo alternativas productivas que garanticen un futuro digno y sostenible para sus habitantes, protegiendo el medio ambiente.\",\n",
      "  \"La falta de acceso a servicios bancarios básicos y a la educación financiera en muchas comunidades de población en situación de discapacidad es una barrera para la inclusión económica. Las personas no pueden acceder a créditos, ni realizar transacciones financieras de manera segura, lo que las obliga a depender de sistemas informales que a menudo son abusivos. Es crucial que las entidades financieras, con el apoyo del Estado, amplíen su cobertura, ofreciendo servicios adaptados a las necesidades de estas comunidades y fomentando la inclusión financiera.\",\n",
      "  \"La informalidad en la venta de servicios de mantenimiento y reparación de vehículos, con trabajadores sin seguridad social ni condiciones laborales dignas, es una preocupación. Aunque es una fuente de empleo para muchos, están expuestos a riesgos y abusos, y carecen de garantías. Se necesita una política pública que formalice este sector, ofreciendo capacitación, seguridad social y un marco legal que proteja tanto a los trabajadores como a los usuarios, dignificando su labor y mejorando las condiciones.\",\n",
      "  \"La falta de participación de los grupos de mujeres en la definición de políticas de desarrollo local es un problema. A menudo, las soluciones se diseñan desde arriba, sin tener en cuenta la experiencia y el conocimiento de las mujeres que viven la pobreza a diario. Es fundamental que se creen espacios de diálogo y consulta donde los grupos de mujeres puedan expresar sus ideas y prioridades, contribuyendo activamente a la construcción de soluciones más efectivas y sostenibles.\",\n",
      "  \"La ausencia de un sistema de protección social que incluya un seguro de desempleo para los jóvenes que terminan sus estudios es una preocupación. Muchos de ellos enfrentan dificultades para conseguir su primer empleo, lo que los empuja a la informalidad o a la migración. Es fundamental que el gobierno implemente un seguro de desempleo específico para jóvenes, que les brinde un ingreso mínimo mientras buscan su primer empleo, garantizando su estabilidad económica y su inserción laboral.\",\n",
      "  \"La dependencia de la economía del petróleo en algunas regiones genera un ciclo de pobreza y degradación ambiental. Aunque ofrece empleos, no genera un desarrollo sostenible para las comunidades y deja pasivos ambientales que afectan la salud y los medios de vida. Es crucial que el gobierno impulse estrategias de diversificación económica en estas zonas, ofreciendo alternativas productivas que garanticen un futuro digno y sostenible para sus habitantes, protegiendo el medio ambiente.\",\n",
      "  \"La falta de una estrategia integral para la prevención y atención del trabajo forzado en comunidades vulnerables agrava la pobreza. Esta problemática afecta la salud, la seguridad y la autonomía de las personas, limitando sus oportunidades. Es crucial que se invierta en programas de prevención, atención y protección de las víctimas, garantizando el acceso a servicios de apoyo psicosocial y legal, y promoviendo la denuncia de estos delitos.\",\n",
      "  \"La informalidad en la venta de servicios de belleza a domicilio, con trabajadores sin seguridad social ni condiciones laborales dignas, es una preocupación. Aunque es una fuente de empleo para muchos, están expuestos a riesgos y y carecen de garantías. Se necesita una política pública que formalice este sector, ofreciendo capacitación, seguridad social y un marco legal que proteja tanto a los trabajadores como a los usuarios, dignificando su labor y mejorando las condiciones.\",\n",
      "  \"La falta de acceso a servicios legales y de asesoría para la defensa de los derechos de los trabajadores informales en comunidades vulnerables es una barrera para el desarrollo económico. Muchas personas son víctimas de abusos laborales, y no tienen cómo defender sus derechos. Es fundamental que se fortalezca la oferta de servicios de asistencia legal gratuita y de asesoría laboral, garantizando que todos los ciudadanos tengan acceso a la información y el acompañamiento para proteger sus derechos.\",\n",
      "  \"La desigualdad en el acceso a la salud sexual y reproductiva para las mujeres de bajos ingresos es un factor que perpetúa la pobreza. A menudo, no tienen acceso a métodos anticonceptivos, a servicios de planificación familiar o a atención prenatal de calidad, lo que afecta su salud y su autonomía. Es fundamental que se amplíen los programas de salud sexual y reproductiva y se fortalezca la atención en las zonas vulnerables, garantizando el acceso a servicios de calidad para todas las mujeres.\",\n",
      "  \"La falta de oportunidades para las personas en situación de discapacidad en el acceso a la cultura y el arte limita su desarrollo y las condena a la exclusión. A menudo, enfrentan barreras físicas y actitudinales en los espacios culturales, y no hay programas adaptados a sus necesidades. Es fundamental que se implementen políticas de inclusión que garanticen un acceso equitativo a la cultura y el arte, adaptando los espacios y ofreciendo programas especializados.\",\n",
      "  \"La dependencia de la economía del café en algunas regiones genera un ciclo de pobreza y vulnerabilidad a las fluctuaciones del mercado. Aunque es un producto emblemático, los pequeños caficultores no siempre reciben precios justos y sus ingresos son inestables. Es crucial que el gobierno impulse estrategias de diversificación económica en estas zonas, ofreciendo alternativas productivas que garanticen un futuro digno y sostenible para sus habitantes, protegiendo el medio ambiente y la cultura cafetera.\",\n",
      "  \"La falta de acceso a servicios bancarios básicos y a la educación financiera en muchas comunidades de población LGTBIQ+ es una barrera para la inclusión económica. Las personas no pueden acceder a créditos, ni realizar transacciones financieras de manera segura, lo que las obliga a depender de sistemas informales que a menudo son abusivos. Es crucial que las entidades financieras, con el apoyo del Estado, amplíen su cobertura, ofreciendo servicios adaptados a las necesidades de estas comunidades y fomentando la inclusión financiera.\",\n",
      "  \"La informalidad en la venta de servicios de enseñanza y capacitación a domicilio, con trabajadores sin seguridad social ni condiciones laborales dignas, es una preocupación. Aunque es una fuente de empleo para muchos, están expuestos a riesgos y abusos, y carecen de garantías. Se necesita una política pública que formalice este sector, ofreciendo capacitación, seguridad social y un marco legal que proteja tanto a los trabajadores como a los usuarios, dignificando su labor y mejorando las condiciones.\",\n",
      "  \"La falta de participación de los jóvenes emprendedores en la definición de políticas de desarrollo local es un problema. A menudo, las soluciones se diseñan desde arriba, sin tener en cuenta la experiencia y el conocimiento de los jóvenes que buscan generar sus propios ingresos. Es fundamental que se creen espacios de diálogo y consulta donde los jóvenes emprendedores puedan expresar sus ideas y prioridades, contribuyendo activamente a la construcción de soluciones más efectivas y sostenibles.\",\n",
      "  \"La ausencia de un sistema de protección social que incluya un seguro de salud para las familias de los trabajadores informales es una preocupación. Una enfermedad grave de un familiar puede empujar a estas familias a la pobreza extrema, ya que no tienen cómo acceder a servicios de salud de calidad ni a medicamentos. Es fundamental que el gobierno implemente un sistema de seguridad social flexible y asequible para los trabajadores informales, garantizando el acceso a servicios de salud y medicamentos esenciales para toda la familia.\",\n",
      "  \"La dependencia de la economía del plátano en algunas regiones genera un ciclo de pobreza y vulnerabilidad a las fluctuaciones del mercado. Aunque es un producto importante, los pequeños platanicultores no siempre reciben precios justos y sus ingresos son inestables. Es crucial que el gobierno impulse estrategias de diversificación económica en estas zonas, ofreciendo alternativas productivas que garanticen un futuro digno y sostenible para sus habitantes, protegiendo el medio ambiente y la cultura platanera.\",\n",
      "  \"La falta de una estrategia integral para la prevención y atención de la mendicidad de adultos mayores en comunidades vulnerables agrava la pobreza. Los adultos mayores se ven obligados a pedir limosna en las calles, sin acceso a una pensión ni a servicios básicos. Es crucial que se invierta en programas de prevención, atención y protección de los adultos mayores, garantizando el acceso a una pensión digna y a programas de apoyo familiar que permitan a los hijos generar ingresos suficientes.\",\n",
      "  \"La informalidad en la venta de servicios de cuidado de niños a domicilio, con trabajadores sin seguridad social ni condiciones laborales dignas, es una preocupación. Aunque es una fuente de empleo para muchos, están expuestos a riesgos y abusos, y carecen de garantías. Se necesita una política pública que formalice este sector, ofreciendo capacitación, seguridad social y un marco legal que proteja tanto a los trabajadores como a los usuarios, dignificando su labor y mejorando las condiciones.\",\n",
      "  \"La falta de acceso a servicios legales y de asesoría para la defensa de los derechos de los niños, niñas y adolescentes en comunidades vulnerables es una barrera para el desarrollo económico. Muchos niños son víctimas de abusos, explotación o violencia, y no tienen cómo defender sus derechos. Es fundamental que se fortalezca la oferta de servicios de asistencia legal gratuita y de asesoría en derechos de la infancia, garantizando que todos los niños tengan acceso a la información y el acompañamiento para proteger sus derechos.\",\n",
      "  \"La desigualdad en el acceso a la infraestructura básica como el alumbrado público para las comunidades rurales es un factor que perpetúa la pobreza. La falta de luz en las noches afecta la seguridad, la educación y el desarrollo de las actividades productivas. Es fundamental que se amplíen los programas de electrificación rural y se fortalezca la instalación de alumbrado público en las zonas vulnerables, garantizando el acceso a una infraestructura digna para todos los ciudadanos.\",\n",
      "  \"La falta de oportunidades para las personas en situación de discapacidad en el acceso a la información y la comunicación limita su desarrollo y las condena a la exclusión. A menudo, enfrentan barreras para acceder a la información en formatos accesibles o a tecnologías de apoyo. Es fundamental que se implementen políticas de inclusión que garanticen un acceso equitativo a la información y la comunicación, adaptando los contenidos y ofreciendo tecnologías de apoyo.\",\n",
      "  \"La dependencia de la economía del banano en algunas regiones genera un ciclo de pobreza y vulnerabilidad a las fluctuaciones del mercado. Aunque es un producto importante, los pequeños bananeros no siempre reciben precios justos y sus ingresos son inestables. Es crucial que el gobierno impulse estrategias de diversificación económica en estas zonas, ofreciendo alternativas productivas que garanticen un futuro digno y sostenible para sus habitantes, protegiendo el medio ambiente y la cultura bananera.\",\n",
      "  \"La falta de acceso a servicios bancarios básicos y a la educación financiera en muchas comunidades de población afrodescendiente es una barrera para la inclusión económica. Las personas no pueden acceder a créditos, ni realizar transacciones financieras de manera segura, lo que las obliga a depender de sistemas informales que a menudo son abusivos. Es crucial que las entidades financieras, con el apoyo del Estado, amplíen su cobertura, ofreciendo servicios adaptados a las necesidades de estas comunidades y fomentando la inclusión financiera.\",\n",
      "  \"La informalidad en la venta de servicios de traducción e interpretación, con trabajadores sin seguridad social ni condiciones laborales dignas, es una preocupación. Aunque es una fuente de empleo para muchos, están expuestos a riesgos y abusos, y carecen de garantías. Se necesita una política pública que formalice este sector, ofreciendo capacitación, seguridad social y un marco legal que proteja tanto a los trabajadores como a los usuarios, dignificando su labor y mejorando las condiciones.\",\n",
      "  \"La falta de participación de los líderes comunitarios en la definición de políticas de desarrollo local es un problema. A menudo, las soluciones se diseñan desde arriba, sin tener en cuenta la experiencia y el conocimiento de los líderes que viven la pobreza a diario. Es fundamental que se creen espacios de diálogo y consulta donde los líderes comunitarios puedan expresar sus ideas y prioridades, contribuyendo activamente a la construcción de soluciones más efectivas y sostenibles.\",\n",
      "  \"La ausencia de un sistema de protección social que incluya un seguro de invalidez para las madres cabeza de familia es una preocupación. Una discapacidad puede empujar a estas familias a la pobreza extrema, ya que no tienen cómo acceder a servicios de rehabilitación ni a un ingreso mínimo. Es fundamental que el gobierno implemente un sistema de seguridad social flexible y asequible para las madres cabeza de familia, garantizando el acceso a servicios de rehabilitación y a un ingreso básico.\",\n",
      "  \"La dependencia de la economía del cacao en algunas regiones genera un ciclo de pobreza y vulnerabilidad a las fluctuaciones del mercado. Aunque es un producto importante, los pequeños cacaocultores no siempre reciben precios justos y sus ingresos son inestables. Es crucial que el gobierno impulse estrategias de diversificación económica en estas zonas, ofreciendo alternativas productivas que garanticen un futuro digno y sostenible para sus habitantes, protegiendo el medio ambiente y la cultura cacaotera.\",\n",
      "  \"La falta de una estrategia integral para la prevención y atención de la explotación sexual comercial de adultos en comunidades vulnerables agrava la pobreza. Esta problemática afecta la salud, la seguridad y la autonomía de las personas, limitando sus oportunidades. Es crucial que se invierta en programas de prevención, atención y protección de las víctimas, garantizando el acceso a servicios de apoyo psicosocial y legal, y promoviendo la denuncia de estos delitos.\",\n",
      "  \"La informalidad en la venta de servicios de fotografía y video, con trabajadores sin seguridad social ni condiciones laborales dignas, es una preocupación. Aunque es una fuente de empleo para muchos, están expuestos a riesgos y abusos, y carecen de garantías. Se necesita una política pública que formalice este sector, ofreciendo capacitación, seguridad social y un marco legal que proteja tanto a los trabajadores como a los usuarios, dignificando su labor y mejorando las condiciones.\",\n",
      "  \"La falta de acceso a servicios legales y de asesoría para la defensa de los derechos de los pueblos indígenas en comunidades vulnerables es una barrera para el desarrollo económico. Muchos pueblos indígenas son víctimas de despojo de tierras, discriminación o violencia, y no tienen cómo defender sus derechos. Es fundamental que se fortalezca la oferta de servicios de asistencia legal gratuita y de asesoría en derechos indígenas, garantizando que todos los pueblos indígenas tengan acceso a la información y el acompañamiento para proteger sus derechos.\",\n",
      "  \"La desigualdad en el acceso a la infraestructura básica como el alcantarillado para las comunidades rurales es un factor que perpetúa la pobreza. La falta de saneamiento básico afecta la salud, el medio ambiente y el desarrollo de las actividades productivas. Es fundamental que se amplíen los programas de saneamiento rural y se fortalezca la instalación de alcantarillado en las zonas vulnerables, garantizando el acceso a una infraestructura digna para todos los ciudadanos.\",\n",
      "  \"La falta de oportunidades para las personas en situación de discapacidad en el acceso a la vivienda digna limita su desarrollo y las condena a la exclusión. A menudo, enfrentan barreras físicas en las viviendas o no tienen acceso a programas de vivienda adaptados a sus necesidades. Es fundamental que se implementen políticas de inclusión que garanticen un acceso equitativo a la vivienda digna, adaptando las infraestructuras y ofreciendo programas especializados.\",\n",
      "  \"La dependencia de la economía del aguacate en algunas regiones genera un ciclo de pobreza y vulnerabilidad a las fluctuaciones del mercado. Aunque es un producto importante, los pequeños aguacateros no siempre reciben precios justos y sus ingresos son inestables. Es crucial que el gobierno impulse estrategias de diversificación económica en estas zonas, ofreciendo alternativas productivas que garanticen un futuro digno y sostenible para sus habitantes, protegiendo el medio ambiente y la cultura aguacatera.\",\n",
      "  \"La falta de acceso a servicios bancarios básicos y a la educación financiera en muchas comunidades de población rural es una barrera para la inclusión económica. Las personas no pueden acceder a créditos, ni realizar transacciones financieras de manera segura, lo que las obliga a depender de sistemas informales que a menudo son abusivos. Es crucial que las entidades financieras, con el apoyo del Estado, amplíen su cobertura, ofreciendo servicios adaptados a las necesidades de estas comunidades y fomentando la inclusión financiera.\",\n",
      "  \"La informalidad en la venta de servicios de diseño gráfico y web, con trabajadores sin seguridad social ni condiciones laborales dignas, es una preocupación. Aunque es una fuente de empleo para muchos, están expuestos a riesgos y abusos, y carecen de garantías. Se necesita una política pública que formalice este sector, ofreciendo capacitación, seguridad social y un marco legal que proteja tanto a los trabajadores como a los usuarios, dignificando su labor y mejorando las condiciones.\",\n",
      "  \"La falta de participación de las organizaciones de jóvenes en la definición de políticas de desarrollo local es un problema. A menudo, las soluciones se diseñan desde arriba, sin tener en cuenta la experiencia y el conocimiento de los jóvenes que viven la pobreza a diario. Es fundamental que se creen espacios de diálogo y consulta donde las organizaciones de jóvenes puedan expresar sus ideas y prioridades, contribuyendo activamente a la construcción de soluciones más efectivas y sostenibles.\",\n",
      "  \"La ausencia de un sistema de protección social que incluya un seguro de desempleo para las mujeres jóvenes es una preocupación. Muchas de ellas enfrentan dificultades para conseguir su primer empleo, lo que las empuja a la informalidad o a la migración. Es fundamental que el gobierno implemente un seguro de desempleo específico para mujeres jóvenes, que les brinde un ingreso mínimo mientras buscan su primer empleo, garantizando su estabilidad económica y su inserción laboral.\",\n",
      "  \"La dependencia de la economía del azúcar en algunas regiones genera un ciclo de pobreza y vulnerabilidad a las fluctuaciones del mercado. Aunque es un producto importante, los pequeños cañicultores no siempre reciben precios justos y sus ingresos son inestables. Es crucial que el gobierno impulse estrategias de diversificación económica en estas zonas, ofreciendo alternativas productivas que garanticen un futuro digno y sostenible para sus habitantes, protegiendo el medio ambiente y la cultura cañera.\",\n",
      "  \"La falta de una estrategia integral para la prevención y atención del embarazo infantil en comunidades vulnerables agrava la pobreza. Las niñas se ven obligadas a asumir responsabilidades adultas, abandonando la escuela y perdiendo su infancia. Es crucial que se invierta en programas de prevención, atención y protección de la infancia, garantizando el acceso a la educación y a programas de apoyo familiar que permitan a las niñas continuar sus estudios y desarrollarse plenamente.\",\n",
      "  \"La informalidad en la venta de servicios de contabilidad y asesoría tributaria, con trabajadores sin seguridad social ni condiciones laborales dignas, es una preocupación. Aunque es una fuente de empleo para muchos, están expuestos a riesgos y abusos, y carecen de garantías. Se necesita una política pública que formalice este sector, ofreciendo capacitación, seguridad social y un marco legal que proteja tanto a los trabajadores como a los usuarios, dignificando su labor y mejorando las condiciones.\",\n",
      "  \"La falta de acceso a servicios legales y de asesoría para la defensa de los derechos de los adultos mayores en comunidades vulnerables es una barrera para el desarrollo económico. Muchos adultos mayores son víctimas de abusos, abandono o discriminación, y no tienen cómo defender sus derechos. Es fundamental que se fortalezca la oferta de servicios de asistencia legal gratuita y de asesoría en derechos de los adultos mayores, garantizando que todos los adultos mayores tengan acceso a la información y el acompañamiento para proteger sus derechos.\",\n",
      "  \"La desigualdad en el acceso a la infraestructura básica como el agua potable para las comunidades indígenas es un factor que perpetúa la pobreza. La falta de agua segura afecta la salud, la higiene y el desarrollo de las actividades productivas. Es fundamental que se amplíen los programas de agua potable con enfoque diferencial y se fortalezca la instalación de acueductos en las zonas vulnerables, garantizando el acceso a una infraestructura digna para todos los ciudadanos.\",\n",
      "  \"La falta de oportunidades para las personas en situación de discapacidad en el acceso a la recreación y el deporte limita su desarrollo y las condena a la exclusión. A menudo, enfrentan barreras físicas y actitudinales en los espacios públicos, y no hay programas adaptados a sus necesidades. Es fundamental que se implementen políticas de inclusión que garanticen un acceso equitativo a la recreación y el deporte, adaptando los espacios y ofreciendo programas especializados.\",\n",
      "  \"La dependencia de la economía del arroz en algunas regiones genera un ciclo de pobreza y vulnerabilidad a las fluctuaciones del mercado. Aunque es un producto importante, los pequeños arroceros no siempre reciben precios justos y sus ingresos son inestables. Es crucial que el gobierno impulse estrategias de diversificación económica en estas zonas, ofreciendo alternativas productivas que garanticen un futuro digno y sostenible para sus habitantes, protegiendo el medio ambiente y la cultura arrocera.\",\n",
      "  \"La falta de acceso a servicios bancarios básicos y a la educación financiera en muchas comunidades de población indígena es una barrera para la inclusión económica. Las personas no pueden acceder a créditos, ni realizar transacciones financieras de manera segura, lo que las obliga a depender de sistemas informales que a menudo son abusivos. Es crucial que las entidades financieras, con el apoyo del Estado, amplíen su cobertura, ofreciendo servicios adaptados a las necesidades de estas comunidades y fomentando la inclusión financiera.\",\n",
      "  \"La informalidad en la venta de servicios de marketing digital y redes sociales, con trabajadores sin seguridad social ni condiciones laborales dignas, es una preocupación. Aunque es una fuente de empleo para muchos, están expuestos a riesgos y abusos, y carecen de garantías. Se necesita una política pública que formalice este sector, ofreciendo capacitación, seguridad social y un marco legal que proteja tanto a los trabajadores como a los usuarios, dignificando su labor y mejorando las condiciones.\",\n",
      "  \"La falta de participación de los grupos de adultos mayores en la definición de políticas de desarrollo local es un problema. A menudo, las soluciones se diseñan desde arriba, sin tener en cuenta la experiencia y el conocimiento de los adultos mayores que viven la pobreza a diario. Es fundamental que se creen espacios de diálogo y consulta donde los grupos de adultos mayores puedan expresar sus ideas y prioridades, contribuyendo activamente a la construcción de soluciones más efectivas y sostenibles.\",\n",
      "  \"La ausencia de un sistema de protección social que incluya un seguro de desempleo para los trabajadores migrantes es una preocupación. Muchos de ellos enfrentan dificultades para conseguir empleo, lo que los empuja a la informalidad o a la indigencia. Es fundamental que el gobierno implemente un seguro de desempleo específico para trabajadores migrantes, que les brinde un ingreso mínimo mientras buscan empleo, garantizando su estabilidad económica y su inserción laboral.\",\n",
      "  \"La dependencia de la economía de la papa en algunas regiones genera un ciclo de pobreza y vulnerabilidad a las fluctuaciones del mercado. Aunque es un producto importante, los pequeños paperos no siempre reciben precios justos y sus ingresos son inestables. Es crucial que el gobierno impulse estrategias de diversificación económica en estas zonas, ofreciendo alternativas productivas que garanticen un futuro digno y sostenible para sus habitantes, protegiendo el medio ambiente y la cultura papera.\",\n",
      "  \"La falta de una estrategia integral para la prevención y atención de la violencia intrafamiliar en comunidades vulnerables agrava la pobreza. Esta problemática afecta la salud, la seguridad y la autonomía de las personas, limitando sus oportunidades. Es crucial que se invierta en programas de prevención, atención y empoderamiento de las víctimas, garantizando el acceso a servicios de apoyo psicosocial y legal, y promoviendo la denuncia de estos delitos.\",\n",
      "  \"La informalidad en la venta de servicios de traducción e interpretación, con trabajadores sin seguridad social ni condiciones laborales dignas, es una preocupación. Aunque es una fuente de empleo para muchos, están expuestos a riesgos y abusos, y carecen de garantías. Se necesita una política pública que formalice este sector, ofreciendo capacitación, seguridad social y un marco legal que proteja tanto a los trabajadores como a los usuarios, dignificando su labor y mejorando las condiciones.\",\n",
      "  \"La falta de acceso a servicios legales y de asesoría para la defensa de los derechos de las mujeres en comunidades vulnerables es una barrera para el desarrollo económico. Muchas mujeres son víctimas de violencia de género, discriminación o abusos, y no tienen cómo defender sus derechos. Es fundamental que se fortalezca la oferta de servicios de asistencia legal gratuita y de asesoría en derechos de las mujeres, garantizando que todas las mujeres tengan acceso a la información y el acompañamiento para proteger sus derechos.\",\n",
      "  \"La desigualdad en el acceso a la infraestructura básica como la energía eléctrica para las comunidades indígenas es un factor que perpetúa la pobreza. La falta de luz en las noches afecta la seguridad, la educación y el desarrollo de las actividades productivas. Es fundamental que se amplíen los programas de electrificación rural con enfoque diferencial y se fortalezca la instalación de alumbrado público en las zonas vulnerables, garantizando el acceso a una infraestructura digna para todos los ciudadanos.\",\n",
      "  \"La falta de oportunidades para las personas en situación de discapacidad en el acceso a la participación política y ciudadana limita su desarrollo y las condena a la exclusión. A menudo, enfrentan barreras para ejercer sus derechos políticos y participar en la toma de decisiones. Es fundamental que se implementen políticas de inclusión que garanticen un acceso equitativo a la participación política y ciudadana, adaptando los procesos y ofreciendo apoyo especializado.\",\n",
      "  \"La dependencia de la economía del maíz en algunas regiones genera un ciclo de pobreza y vulnerabilidad a las fluctuaciones del mercado. Aunque es un producto importante, los pequeños maiceros no siempre reciben precios justos y sus ingresos son inestables. Es crucial que el gobierno impulse estrategias de diversificación económica en estas zonas, ofreciendo alternativas productivas que garanticen un futuro digno y sostenible para sus habitantes, protegiendo el medio ambiente y la cultura maicera.\",\n",
      "  \"La falta de acceso a servicios bancarios básicos y a la educación financiera en muchas comunidades de población LGTBIQ+ es una barrera para la inclusión económica. Las personas no pueden acceder a créditos, ni realizar transacciones financieras de manera segura, lo que las obliga a depender de sistemas informales que a menudo son abusivos. Es crucial que las entidades financieras, con el apoyo del Estado, amplíen su cobertura, ofreciendo servicios adaptados a las necesidades de estas comunidades y fomentando la inclusión financiera.\",\n",
      "  \"La informalidad en la venta de servicios de cuidado de personas mayores a domicilio, con trabajadores sin seguridad social ni condiciones laborales dignas, es una preocupación. Aunque es una fuente de empleo para muchos, están expuestos a riesgos y abusos, y carecen de garantías. Se necesita una política pública que formalice este sector, ofreciendo capacitación, seguridad social y un marco legal que proteja tanto a los trabajadores como a los usuarios, dignificando su labor y mejorando las condiciones.\",\n",
      "  \"La falta de participación de los grupos de mujeres indígenas en la definición de políticas de desarrollo local es un problema. A menudo, las soluciones se diseñan desde arriba, sin tener en cuenta la experiencia y el conocimiento de las mujeres indígenas que viven la pobreza a diario. Es fundamental que se creen espacios de diálogo y consulta donde los grupos de mujeres indígenas puedan expresar sus ideas y prioridades, contribuyendo activamente a la construcción de soluciones más efectivas y sostenibles.\",\n",
      "  \"La ausencia de un sistema de protección social que incluya un seguro de orfandad para los hijos de madres cabeza de familia es una preocupación. La muerte de una madre puede empujar a estas familias a la pobreza extrema, ya que no tienen cómo acceder a un ingreso mínimo. Es fundamental que el gobierno implemente un sistema de seguridad social flexible y asequible para las madres cabeza de familia, garantizando el acceso a un ingreso básico para los hijos en caso de orfandad.\",\n",
      "  \"La dependencia de la economía del frijol en algunas regiones genera un ciclo de pobreza y vulnerabilidad a las fluctuaciones del mercado. Aunque es un producto importante, los pequeños frijoleros no siempre reciben precios justos y sus ingresos son inestables. Es crucial que el gobierno impulse estrategias de diversificación económica en estas zonas, ofreciendo alternativas productivas que garanticen un futuro digno y sostenible para sus habitantes, protegiendo el medio ambiente y la cultura frijolera.\",\n",
      "  \"La falta de una estrategia integral para la prevención y atención de la violencia escolar en comunidades vulnerables agrava la pobreza. Esta problemática afecta el desarrollo de los niños y jóvenes, limitando sus oportunidades educativas y laborales. Es crucial que se invierta en programas de prevención, atención y mediación de la violencia escolar, garantizando el acceso a servicios de apoyo psicosocial y legal, y promoviendo la convivencia pacífica en las escuelas.\",\n",
      "  \"La informalidad en la venta de servicios de coaching y consultoría, con trabajadores sin seguridad social ni condiciones laborales dignas, es una preocupación. Aunque es una fuente de empleo para muchos, están expuestos a riesgos y abusos, y carecen de garantías. Se necesita una política pública que formalice este sector, ofreciendo capacitación, seguridad social y un marco legal que proteja tanto a los trabajadores como a los usuarios, dignificando su labor y mejorando las condiciones.\",\n",
      "  \"La falta de acceso a servicios legales y de asesoría para la defensa de los derechos de los trabajadores migrantes en comunidades vulnerables es una barrera para el desarrollo económico. Muchos trabajadores migrantes son víctimas de abusos laborales, discriminación o explotación, y no tienen cómo defender sus derechos. Es fundamental que se fortalezca la oferta de servicios de asistencia legal gratuita y de asesoría laboral, garantizando que todos los trabajadores migrantes tengan acceso a la información y el acompañamiento para proteger sus derechos.\",\n",
      "  \"La desigualdad en el acceso a la infraestructura básica como el transporte público para las comunidades rurales es un factor que perpetúa la pobreza. La falta de rutas adecuadas o el alto costo del pasaje limitan el acceso al trabajo, la educación y los servicios de salud. Es fundamental que se amplíen los programas de transporte público rural y se fortalezca la infraestructura vial en las zonas vulnerables, garantizando el acceso a una infraestructura digna para todos los ciudadanos.\",\n",
      "  \"La falta de oportunidades para las personas en situación de discapacidad en el acceso a la información y la comunicación limita su desarrollo y las condena a la exclusión. A menudo, enfrentan barreras para acceder a la información en formatos accesibles o a tecnologías de apoyo. Es fundamental que se implementen políticas de inclusión que garanticen un acceso equitativo a la información y la comunicación, adaptando los contenidos y ofreciendo tecnologías de apoyo.\",\n",
      "  \"La dependencia de la economía del cacao en algunas regiones genera un ciclo de pobreza y vulnerabilidad a las fluctuaciones del mercado. Aunque es un producto importante, los pequeños cacaocultores no siempre reciben precios justos y sus ingresos son inestables. Es crucial que el gobierno impulse estrategias de diversificación económica en estas zonas, ofreciendo alternativas productivas que garanticen un futuro digno y sostenible para sus habitantes, protegiendo el medio ambiente y la cultura cacaotera.\",\n",
      "  \"La falta de acceso a servicios bancarios básicos y a la educación financiera en muchas comunidades de población rural es una barrera para la inclusión económica. Las personas no pueden acceder a créditos, ni realizar transacciones financieras de manera segura, lo que las obliga a depender de sistemas informales que a menudo son abusivos. Es crucial que las entidades financieras, con el apoyo del Estado, amplíen su cobertura, ofreciendo servicios adaptados a las necesidades de estas comunidades y fomentando la inclusión financiera.\",\n",
      "  \"La informalidad en la venta de servicios de diseño gráfico y web, con trabajadores sin seguridad social ni condiciones laborales dignas, es una preocupación. Aunque es una fuente de empleo para muchos, están expuestos a riesgos y abusos, y carecen de garantías. Se necesita una política pública que formalice este sector, ofreciendo capacitación, seguridad social y un marco legal que proteja tanto a los trabajadores como a los usuarios, dignificando su labor y mejorando las condiciones.\",\n",
      "  \"La falta de participación de las organizaciones de jóvenes en la definición de políticas de desarrollo local es un problema. A menudo, las soluciones se diseñan desde arriba, sin tener en cuenta la experiencia y el conocimiento de los jóvenes que viven la pobreza a diario. Es fundamental que se creen espacios de diálogo y consulta donde las organizaciones de jóvenes puedan expresar sus ideas y prioridades, contribuyendo activamente a la construcción de soluciones más efectivas y sostenibles.\",\n",
      "  \"La ausencia de un sistema de protección social que incluya un seguro de desempleo para las mujeres jóvenes es una preocupación. Muchas de ellas enfrentan dificultades para conseguir su primer empleo, lo que las empuja a la informalidad o a la migración. Es fundamental que el gobierno implemente un seguro de desempleo específico para mujeres jóvenes, que les brinde un ingreso mínimo mientras buscan su primer empleo, garantizando su estabilidad económica y su inserción laboral.\",\n",
      "  \"La dependencia de la economía del café en algunas regiones genera un ciclo de pobreza y vulnerabilidad a las fluctuaciones del mercado. Aunque es un producto emblemático, los pequeños caficultores no siempre reciben precios justos y sus ingresos son inestables. Es crucial que el gobierno impulse estrategias de diversificación económica en estas zonas, ofreciendo alternativas productivas que garanticen un futuro digno y sostenible para sus habitantes, protegiendo el medio ambiente y la cultura cafetera.\",\n",
      "  \"La falta de una estrategia integral para la prevención y atención del embarazo infantil en comunidades vulnerables agrava la pobreza. Las niñas se ven obligadas a asumir responsabilidades adultas, abandonando la escuela y perdiendo su infancia. Es crucial que se invierta en programas de prevención, atención y protección de la infancia, garantizando el acceso a la educación y a programas de apoyo familiar que permitan a las niñas continuar sus estudios y desarrollarse plenamente.\",\n",
      "  \"La informalidad en la venta de servicios de contabilidad y asesoría tributaria, con trabajadores sin seguridad social ni condiciones laborales dignas, es una preocupación. Aunque es una fuente de empleo para muchos, están expuestos a riesgos y abusos, y carecen de garantías. Se necesita una política pública que formalice este sector, ofreciendo capacitación, seguridad social y un marco legal que proteja tanto a los trabajadores como a los usuarios, dignificando su labor y mejorando las condiciones.\",\n",
      "  \"La falta de acceso a servicios legales y de asesoría para la defensa de los derechos de los adultos mayores en comunidades vulnerables es una barrera para el desarrollo económico. Muchos adultos mayores son víctimas de abusos, abandono o discriminación, y no tienen cómo defender sus derechos. Es fundamental que se fortalezca la oferta de servicios de asistencia legal gratuita y de asesoría en derechos de los adultos mayores, garantizando que todos los adultos mayores tengan acceso a la información y el acompañamiento para proteger sus derechos.\",\n",
      "  \"La desigualdad en el acceso a la infraestructura básica como el agua potable para las comunidades indígenas es un factor que perpetúa la pobreza. La falta de agua segura afecta la salud, la higiene y el desarrollo de las actividades productivas. Es fundamental que se amplíen los programas de agua potable con enfoque diferencial y se fortalezca la instalación de acueductos en las zonas vulnerables, garantizando el acceso a una infraestructura digna para todos los ciudadanos.\",\n",
      "  \"La falta de oportunidades para las personas en situación de discapacidad en el acceso a la recreación y el deporte limita su desarrollo y las condena a la exclusión. A menudo, enfrentan barreras físicas y actitudinales en los espacios públicos, y no hay programas adaptados a sus necesidades. Es fundamental que se implementen políticas de inclusión que garanticen un acceso equitativo a la recreación y el deporte, adaptando los espacios y ofreciendo programas especializados.\",\n",
      "  \"La dependencia de la economía del arroz en algunas regiones genera un ciclo de pobreza y vulnerabilidad a las fluctuaciones del mercado. Aunque es un producto importante, los pequeños arroceros no siempre reciben precios justos y sus ingresos son inestables. Es crucial que el gobierno impulse estrategias de diversificación económica en estas zonas, ofreciendo alternativas productivas que garanticen un futuro digno y sostenible para sus habitantes, protegiendo el medio ambiente y la cultura arrocera.\",\n",
      "  \"La falta de acceso a servicios bancarios básicos y a la educación financiera en muchas comunidades de población indígena es una barrera para la inclusión económica. Las personas no pueden acceder a créditos, ni realizar transacciones financieras de manera segura, lo que las obliga a depender de sistemas informales que a menudo son abusivos. Es crucial que las entidades financieras, con el apoyo del Estado, amplíen su cobertura, ofreciendo servicios adaptados a las necesidades de estas comunidades y fomentando la inclusión financiera.\",\n",
      "  \"La informalidad en la venta de servicios de marketing digital y redes sociales, con trabajadores sin seguridad social ni condiciones laborales dignas, es una preocupación. Aunque es una fuente de empleo para muchos, están expuestos a riesgos y abusos, y carecen de garantías. Se necesita una política pública que formalice este sector, ofreciendo capacitación, seguridad social y un marco legal que proteja tanto a los trabajadores como a los usuarios, dignificando su labor y mejorando las condiciones.\",\n",
      "  \"La falta de participación de los grupos de adultos mayores en la definición de políticas de desarrollo local es un problema. A menudo, las soluciones se diseñan desde arriba, sin tener en cuenta la experiencia y el conocimiento de los adultos mayores que viven la pobreza a diario. Es fundamental que se creen espacios de diálogo y consulta donde los grupos de adultos mayores puedan expresar sus ideas y prioridades, contribuyendo activamente a la construcción de soluciones más efectivas y sostenibles.\",\n",
      "  \"La ausencia de un sistema de protección social que incluya un seguro de desempleo para los trabajadores migrantes es una preocupación. Muchos de ellos enfrentan dificultades para conseguir empleo, lo que los empuja a la informalidad o a la indigencia. Es fundamental que el gobierno implemente un seguro de desempleo específico para trabajadores migrantes, que les brinde un ingreso mínimo mientras buscan empleo, garantizando su estabilidad económica y su inserción laboral.\",\n",
      "  \"La dependencia de la economía de la papa en algunas regiones genera un ciclo de pobreza y vulnerabilidad a las fluctuaciones del mercado. Aunque es un producto importante, los pequeños paperos no siempre reciben precios justos y sus ingresos son inestables. Es crucial que el gobierno impulse estrategias de diversificación económica en estas zonas, ofreciendo alternativas productivas que garanticen un futuro digno y sostenible para sus habitantes, protegiendo el medio ambiente y la cultura papera.\",\n",
      "  \"La falta de una estrategia integral para la prevención y atención de la violencia intrafamiliar en comunidades vulnerables agrava la pobreza. Esta problemática afecta la salud, la seguridad y la autonomía de las personas, limitando sus oportunidades. Es crucial que se invierta en programas de prevención, atención y empoderamiento de las víctimas, garantizando el acceso a servicios de apoyo psicosocial y legal, y promoviendo la denuncia de estos delitos.\",\n",
      "  \"La informalidad en la venta de servicios de traducción e interpretación, con trabajadores sin seguridad social ni condiciones laborales dignas, es una preocupación. Aunque es una fuente de empleo para muchos, están expuestos a riesgos y abusos, y carecen de garantías. Se necesita una política pública que formalice este sector, ofreciendo capacitación, seguridad social y un marco legal que proteja tanto a los trabajadores como a los usuarios, dignificando su labor y mejorando las condiciones.\",\n",
      "  \"La falta de acceso a servicios legales y de asesoría para la defensa de los derechos de las mujeres en comunidades vulnerables es una barrera para el desarrollo económico. Muchas mujeres son víctimas de violencia de género, discriminación o abusos, y no tienen cómo defender sus derechos. Es fundamental que se fortalezca la oferta de servicios de asistencia legal gratuita y de asesoría en derechos de las mujeres, garantizando que todas las mujeres tengan acceso a la información y el acompañamiento para proteger sus derechos.\",\n",
      "  \"La desigualdad en el acceso a la infraestructura básica como la energía eléctrica para las comunidades indígenas es un factor que perpetúa la pobreza. La falta de luz en las noches afecta la seguridad, la educación y el desarrollo de las actividades productivas. Es fundamental que se amplíen los programas de electrificación rural con enfoque diferencial y se fortalezca la instalación de alumbrado público en las zonas vulnerables, garantizando el acceso a una infraestructura digna para todos los ciudadanos.\",\n",
      "  \"La falta de oportunidades para las personas en situación de discapacidad en el acceso a la participación política y ciudadana limita su desarrollo y las condena a la exclusión. A menudo, enfrentan barreras para ejercer sus derechos políticos y participar en la toma de decisiones. Es fundamental que se implementen políticas de inclusión que garanticen un acceso equitativo a la participación política y ciudadana, adaptando los procesos y ofreciendo apoyo especializado.\",\n",
      "  \"La dependencia de la economía del maíz en algunas regiones genera un ciclo de pobreza y vulnerabilidad a las fluctuaciones del mercado. Aunque es un producto importante, los pequeños maiceros no siempre reciben precios justos y sus ingresos son inestables. Es crucial que el gobierno impulse estrategias de diversificación económica en estas zonas, ofreciendo alternativas productivas que garanticen un futuro digno y sostenible para sus habitantes, protegiendo el medio ambiente y la cultura maicera.\",\n",
      "  \"La falta de acceso a servicios bancarios básicos y a la educación financiera en muchas comunidades de población LGTBIQ+ es una barrera para la inclusión económica. Las personas no pueden acceder a créditos, ni realizar transacciones financieras de manera segura, lo que las obliga a depender de sistemas informales que a menudo son abusivos. Es crucial que las entidades financieras, con el apoyo del Estado, amplíen su cobertura, ofreciendo servicios adaptados a las necesidades de estas comunidades y fomentando la inclusión financiera.\",\n",
      "  \"La informalidad en la venta de servicios de cuidado de personas mayores a domicilio, con trabajadores sin seguridad social ni condiciones laborales dignas, es una preocupación. Aunque es una fuente de empleo para muchos, están expuestos a riesgos y abusos, y carecen de garantías. Se necesita una política pública que formalice este sector, ofreciendo capacitación, seguridad social y un marco legal que proteja tanto a los trabajadores como a los usuarios, dignificando su labor y mejorando las condiciones.\",\n",
      "  \"La falta de participación de los grupos de mujeres indígenas en la definición de políticas de desarrollo local es un problema. A menudo, las soluciones se diseñan desde arriba, sin tener en cuenta la experiencia y el conocimiento de las mujeres indígenas que viven la pobreza a diario. Es fundamental que se creen espacios de diálogo y consulta donde los grupos de mujeres indígenas puedan expresar sus ideas y prioridades, contribuyendo activamente a la construcción de soluciones más efectivas y sostenibles.\",\n",
      "  \"La ausencia de un sistema de protección social que incluya un seguro de orfandad para los hijos de madres cabeza de familia es una preocupación. La muerte de una madre puede empujar a estas familias a la pobreza extrema, ya que no tienen cómo acceder a un ingreso mínimo. Es fundamental que el gobierno implemente un sistema de seguridad social flexible y asequible para las madres cabeza de familia, garantizando el acceso a un ingreso básico para los hijos en caso de orfandad.\",\n",
      "  \"La dependencia de la economía del frijol en algunas regiones genera un ciclo de pobreza y vulnerabilidad a las fluctuaciones del mercado. Aunque es un producto importante, los pequeños frijoleros no siempre reciben precios justos y sus ingresos son inestables. Es crucial que el gobierno impulse estrategias de diversificación económica en estas zonas, ofreciendo alternativas productivas que garanticen un futuro digno y sostenible para sus habitantes, protegiendo el medio ambiente y la cultura frijolera.\",\n",
      "  \"La falta de una estrategia integral para la prevención y atención de la violencia escolar en comunidades vulnerables agrava la pobreza. Esta problemática afecta el desarrollo de los niños y jóvenes, limitando sus oportunidades educativas y laborales. Es crucial que se invierta en programas de prevención, atención y mediación de la violencia escolar, garantizando el acceso a servicios de apoyo psicosocial y legal, y promoviendo la convivencia pacífica en las escuelas.\",\n",
      "  \"La informalidad en la venta de servicios de coaching y consultoría, con trabajadores sin seguridad social ni condiciones laborales dignas, es una preocupación. Aunque es una fuente de empleo para muchos, están expuestos a riesgos y abusos, y carecen de garantías. Se necesita una política pública que formalice este sector, ofreciendo capacitación, seguridad social y un marco legal que proteja tanto a los trabajadores como a los usuarios, dignificando su labor y mejorando las condiciones.\",\n",
      "  \"La falta de acceso a servicios legales y de asesoría para la defensa de los derechos de los trabajadores migrantes en comunidades vulnerables es una barrera para el desarrollo económico. Muchos trabajadores migrantes son víctimas de abusos laborales, discriminación o explotación, y no tienen cómo defender sus derechos. Es fundamental que se fortalezca la oferta de servicios de asistencia legal gratuita y de asesoría laboral, garantizando que todos los trabajadores migrantes tengan acceso a la información y el acompañamiento para proteger sus derechos.\",\n",
      "  \"La desigualdad en el acceso a la infraestructura básica como el transporte público para las comunidades rurales es un factor que perpetúa la pobreza. La falta de rutas adecuadas o el alto costo del pasaje limitan el acceso al trabajo, la educación y los servicios de salud. Es fundamental que se amplíen los programas de transporte público rural y se fortalezca la infraestructura vial en las zonas vulnerables, garantizando el acceso a una infraestructura digna para todos los ciudadanos.\",\n",
      "  \"La falta de oportunidades para las personas en situación de discapacidad en el acceso a la información y la comunicación limita su desarrollo y las condena a la exclusión. A menudo, enfrentan barreras para acceder a la información en formatos accesibles o a tecnologías de apoyo. Es fundamental que se implementen políticas de inclusión que garanticen un acceso equitativo a la información y la comunicación, adaptando los contenidos y ofreciendo tecnologías de apoyo.\",\n",
      "  \"La dependencia de la economía del cacao en algunas regiones genera un ciclo de pobreza y vulnerabilidad a las fluctuaciones del mercado. Aunque es un producto importante, los pequeños cacaocultores no siempre reciben precios justos y sus ingresos son inestables. Es crucial que el gobierno impulse estrategias de diversificación económica en estas zonas, ofreciendo alternativas productivas que garanticen un futuro digno y sostenible para sus habitantes, protegiendo el medio ambiente y la cultura cacaotera.\"\n",
      "]\n",
      "```\n"
     ]
    }
   ],
   "source": [
    "# Generamos otros 200\n",
    "response4 = client.models.generate_content(\n",
    "    model=\"gemini-2.5-flash\",\n",
    "    contents=prompt,\n",
    "    config=types.GenerateContentConfig(\n",
    "        system_instruction=\"Eres un generador de datos sintéticos.\",\n",
    "        temperature=0.8,\n",
    "        thinking_config=types.ThinkingConfig(thinking_budget=0)\n",
    "    )\n",
    ")\n",
    "\n",
    "print(response4.text)"
   ]
  },
  {
   "cell_type": "code",
   "execution_count": 90,
   "id": "4358751b",
   "metadata": {},
   "outputs": [
    {
     "data": {
      "text/plain": [
       "GenerateContentResponseUsageMetadata(\n",
       "  candidates_token_count=24581,\n",
       "  prompt_token_count=1214,\n",
       "  prompt_tokens_details=[\n",
       "    ModalityTokenCount(\n",
       "      modality=<MediaModality.TEXT: 'TEXT'>,\n",
       "      token_count=1214\n",
       "    ),\n",
       "  ],\n",
       "  total_token_count=25795\n",
       ")"
      ]
     },
     "metadata": {},
     "output_type": "display_data"
    }
   ],
   "source": [
    "display(response4.usage_metadata)"
   ]
  },
  {
   "cell_type": "code",
   "execution_count": 91,
   "id": "930a406b",
   "metadata": {},
   "outputs": [
    {
     "data": {
      "text/plain": [
       "['En mi vereda, la falta de oportunidades laborales dignas es un desafío constante. Muchos jóvenes terminan el colegio y no encuentran cómo seguir adelante, lo que los empuja a buscar el sustento en actividades informales que no garantizan estabilidad ni un futuro prometedor. Es fundamental que las autoridades locales y nacionales trabajen en conjunto para atraer inversión y generar empleos formales en nuestras comunidades rurales. La gente quiere trabajar, pero necesita las condiciones para hacerlo de manera decente y segura.',\n",
       " 'La situación de los pequeños agricultores en nuestra región es preocupante. Los precios de los insumos están por las nubes, y cuando llega el momento de vender nuestros productos, los intermediarios se llevan la mayor parte de las ganancias. Esto nos deja con muy poco margen para vivir y reinvertir en nuestras tierras. Necesitamos un apoyo más decidido del gobierno para asegurar precios justos para nuestros cultivos y facilitar el acceso a mercados directos, eliminando la cadena de intermediarios que nos explota.',\n",
       " 'En el barrio donde vivo, la pobreza se ve reflejada en la precariedad de las viviendas y la falta de servicios básicos. Muchas familias viven en condiciones insalubres, sin acceso a agua potable constante ni a un sistema de alcantarillado adecuado. Esto no solo afecta la dignidad de las personas, sino también su salud y bienestar. Es urgente que las administraciones municipales inviertan en infraestructura para garantizar condiciones de vida dignas para todos los ciudadanos, sin importar su estrato socioeconómico.',\n",
       " 'La informalidad laboral es un problema enorme en nuestra ciudad. Demasiadas personas, especialmente mujeres cabeza de familia, subsisten con trabajos esporádicos que no ofrecen seguridad social ni prestaciones. Esto las deja en una situación de vulnerabilidad extrema ante cualquier enfermedad o emergencia. Se necesita una política pública que fomente la formalización de estas actividades, brindando capacitación, acompañamiento y facilidades para que los emprendimientos informales puedan crecer y ofrecer condiciones dignas a sus trabajadores.',\n",
       " 'La falta de acceso a créditos blandos para pequeños emprendedores es una barrera significativa para salir de la pobreza. Muchas personas tienen ideas innovadoras y el deseo de crear su propio negocio, pero no tienen el capital inicial ni la posibilidad de acceder a préstamos bancarios por los altos requisitos y las tasas de interés. Es fundamental que las entidades financieras, con el apoyo del Estado, diseñen líneas de crédito específicas para la población vulnerable, con requisitos flexibles y tasas accesibles, para impulsar la economía local y la generación de empleo.',\n",
       " 'En algunas zonas rurales, la carencia de vías de acceso adecuadas dificulta el transporte de productos agrícolas y el acceso a servicios esenciales. Esto aísla a las comunidades y perpetúa la pobreza. Los campesinos no pueden sacar sus cosechas a los mercados urbanos de manera eficiente, lo que reduce sus ingresos y aumenta las pérdidas. Es imperativo que el gobierno invierta en la mejora de la infraestructura vial, priorizando estas zonas olvidadas, para integrar a estas comunidades a la economía nacional.',\n",
       " 'La situación de los adultos mayores en condiciones de pobreza es desgarradora. Muchos de ellos no tienen una pensión y dependen de la caridad o de la ayuda de sus hijos, quienes a menudo también luchan por sobrevivir. Se necesita ampliar la cobertura de programas de asistencia social para esta población vulnerable, garantizando un ingreso mínimo que les permita vivir con dignidad y acceder a servicios básicos como la salud. No podemos olvidar a quienes han construido nuestro país.',\n",
       " 'La desigualdad en el acceso a la tecnología es otro factor que profundiza la brecha de la pobreza. Mientras en las ciudades la conectividad es una realidad, en muchas zonas rurales el internet es un lujo inalcanzable. Esto limita el acceso a la información, la educación y las oportunidades laborales, dejando a estas comunidades rezagadas. Es crucial que se impulsen programas de conectividad universal, subsidiando el acceso a internet y dispositivos tecnológicos para las familias de bajos recursos.',\n",
       " 'La falta de un sistema de protección social robusto deja a muchas familias en la indigencia ante cualquier eventualidad. Una enfermedad grave, un despido inesperado o un desastre natural pueden empujar a la pobreza extrema a quienes ya viven al límite. Se necesita fortalecer y ampliar la cobertura de los programas de seguridad social, incluyendo seguros de desempleo y subsidios para la salud, para ofrecer una red de contención que proteja a los ciudadanos de las calamidades económicas.',\n",
       " 'La discriminación y la exclusión social son barreras invisibles pero muy reales que impiden a muchas personas salir de la pobreza. Grupos étnicos, personas con discapacidad o migrantes a menudo enfrentan dificultades adicionales para acceder a un empleo digno o a servicios básicos. Es fundamental que se implementen políticas de inclusión que garanticen la igualdad de oportunidades para todos, combatiendo los prejuicios y promoviendo el respeto a la diversidad en todos los ámbitos de la sociedad.',\n",
       " 'En mi municipio, la falta de vivienda digna es una preocupación constante. Muchas familias viven en asentamientos informales, expuestas a riesgos naturales y sin seguridad jurídica sobre sus propiedades. Es vital que las autoridades municipales diseñen programas de vivienda de interés social que sean accesibles para la población de bajos ingresos, ofreciendo soluciones habitacionales seguras y con todos los servicios básicos. Una vivienda digna es el pilar para el desarrollo de cualquier familia.',\n",
       " 'Los altos costos de los servicios públicos son una carga insostenible para las familias más vulnerables. Las facturas de luz, agua y gas consumen una parte significativa de sus ya escasos ingresos, obligándolos a elegir entre pagar los servicios o comprar alimentos. Se necesita una revisión de las tarifas y la implementación de subsidios más equitativos que realmente beneficien a quienes más lo necesitan, garantizando el acceso a estos servicios esenciales sin comprometer la seguridad alimentaria.',\n",
       " 'La desnutrición infantil sigue siendo una triste realidad en algunas comunidades, especialmente en zonas apartadas. La falta de acceso a alimentos nutritivos y asequibles afecta el desarrollo físico y cognitivo de nuestros niños, hipotecando su futuro. Es urgente que se fortalezcan los programas de seguridad alimentaria, con énfasis en la distribución de alimentos fortificados y el fomento de prácticas de agricultura sostenible a pequeña escala para asegurar la disponibilidad de alimentos frescos y saludables.',\n",
       " 'La violencia y la inseguridad en algunos barrios empujan a las familias a la pobreza. El miedo constante y la presencia de grupos al margen de la ley limitan las oportunidades de trabajo, el acceso a la educación y la inversión en la comunidad. Se necesita una estrategia integral de seguridad que no solo se enfoque en la represión, sino también en la inversión social, la generación de oportunidades y la reconstrucción del tejido social para devolver la tranquilidad y el progreso a estas zonas.',\n",
       " 'La falta de capacitación laboral pertinente es un obstáculo para que muchas personas accedan a empleos mejor remunerados. La oferta educativa no siempre se alinea con las demandas del mercado laboral, dejando a muchos jóvenes sin las habilidades necesarias para competir. Es crucial que se establezcan programas de formación técnica y tecnológica, en alianza con el sector productivo, que respondan a las necesidades actuales y futuras de la economía, facilitando la inserción laboral y el desarrollo de carreras.',\n",
       " 'La burocracia excesiva y la corrupción en algunas instituciones públicas dificultan el acceso de la población vulnerable a los programas de asistencia social. Los trámites son complejos, y a menudo se exige documentación que las personas no tienen, o se desvían los recursos que deberían llegar a quienes más lo necesitan. Se requiere una simplificación de los procesos y una mayor transparencia en la gestión de los recursos públicos, garantizando que la ayuda llegue de manera eficiente a sus beneficiarios.',\n",
       " 'El cambio climático está afectando duramente a nuestras comunidades rurales, especialmente a los agricultores de bajos recursos. Las sequías prolongadas o las inundaciones repentinas destruyen cosechas y ganado, empujando a las familias a la pobreza extrema. Es vital que el gobierno implemente programas de adaptación al cambio climático, ofreciendo apoyo técnico, semillas resistentes y seguros agrícolas asequibles para proteger los medios de vida de estas poblaciones vulnerables.',\n",
       " 'La falta de participación ciudadana en la toma de decisiones sobre políticas de desarrollo local es un problema. A menudo, las soluciones se diseñan desde los escritorios sin tener en cuenta las necesidades y realidades de la gente que vive la pobreza a diario. Es fundamental que se creen espacios de diálogo y consulta donde las comunidades puedan expresar sus ideas y prioridades, contribuyendo activamente a la construcción de soluciones más efectivas y sostenibles para combatir la pobreza.',\n",
       " 'La migración interna, impulsada por la falta de oportunidades en las zonas rurales, está generando cinturones de miseria en las grandes ciudades. Las personas llegan buscando un futuro mejor, pero a menudo se encuentran con la informalidad, la precariedad y la exclusión. Es necesario un enfoque integral que impulse el desarrollo rural, generando oportunidades en origen, y al mismo tiempo, que las ciudades preparen sus infraestructuras y servicios para acoger dignamente a los migrantes.',\n",
       " 'La explotación laboral, especialmente en sectores informales o en trabajos agrícolas, es una realidad que perpetúa la pobreza. Muchos trabajadores son sometidos a jornadas extenuantes por salarios ínfimos, sin ningún tipo de protección social. Es fundamental que las autoridades laborales fortalezcan la inspección y el control, sancionando a los empleadores abusivos y garantizando el cumplimiento de los derechos laborales para todos los trabajadores, sin excepción.',\n",
       " 'En mi comunidad, la falta de acceso a tierras productivas es una barrera para el desarrollo económico de muchas familias campesinas. Las tierras están concentradas en pocas manos, o son de difícil acceso para quienes quieren cultivarlas. Se necesita una política de acceso a la tierra más equitativa, que impulse la formalización de la propiedad y facilite el arrendamiento o la compra de terrenos para pequeños agricultores, promoviendo la producción local y la seguridad alimentaria.',\n",
       " 'La inequidad en la distribución de los recursos públicos es evidente en nuestro municipio. Mientras algunas zonas reciben inversiones significativas, otras, donde reside la población más vulnerable, son sistemáticamente olvidadas. Esto perpetúa la brecha de la pobreza y genera resentimiento. Es crucial que se implementen criterios de equidad y transparencia en la asignación del presupuesto, priorizando las necesidades de las comunidades más desfavorecidas para garantizar un desarrollo equilibrado.',\n",
       " 'La falta de un sistema de transporte público eficiente y asequible afecta el acceso al trabajo y a los servicios básicos de las personas de bajos recursos. Los costos de transporte pueden ser prohibitivos, o las rutas no cubren sus necesidades, limitando sus oportunidades. Es fundamental que las administraciones municipales inviertan en la mejora y expansión del transporte público, garantizando que sea accesible en términos de costo y cobertura para todos los ciudadanos.',\n",
       " 'La dependencia de las ayudas estatales, aunque necesarias en momentos de crisis, no es una solución sostenible para la pobreza a largo plazo. Se necesita una estrategia que vaya más allá de los subsidios, enfocándose en la generación de oportunidades y la autonomía económica de las familias. Es crucial que los programas de asistencia social estén articulados con iniciativas de capacitación, emprendimiento y acceso al empleo para romper el círculo de la dependencia.',\n",
       " 'La falta de oportunidades para las mujeres rurales es un factor clave en la perpetuación de la pobreza en estas zonas. A menudo, las mujeres tienen un rol central en el hogar y en la producción agrícola, pero no tienen acceso a la tierra, al crédito o a la capacitación. Es fundamental que se impulsen programas específicos para el empoderamiento económico de las mujeres rurales, reconociendo su invaluable contribución y brindándoles las herramientas para su desarrollo.',\n",
       " 'La ausencia de servicios bancarios en muchas zonas rurales es una barrera para el desarrollo económico. Las personas no pueden acceder a créditos, ni realizar transacciones financieras de manera segura, lo que las obliga a depender de sistemas informales que a menudo son abusivos. Se necesita que las entidades financieras, con el apoyo del Estado, amplíen su cobertura, ofreciendo servicios adaptados a las necesidades de estas comunidades y fomentando la inclusión financiera.',\n",
       " 'La persistencia del trabajo infantil en algunas regiones es una manifestación dolorosa de la pobreza extrema. Los niños se ven obligados a trabajar para contribuir al sustento familiar, abandonando la escuela y perdiendo su infancia. Es fundamental que se fortalezcan las políticas de protección a la infancia, garantizando el acceso a la educación y a programas de apoyo familiar que permitan a los padres generar ingresos suficientes para no depender del trabajo de sus hijos.',\n",
       " 'La falta de una pensión digna para muchos trabajadores informales es una preocupación creciente. Después de una vida de esfuerzo, estas personas llegan a la vejez sin un sustento económico, lo que los condena a la pobreza. Se necesita una reforma del sistema pensional que contemple la realidad de la informalidad laboral, diseñando mecanismos que permitan a estos trabajadores cotizar de manera flexible y asegurar una vejez digna, sin caer en la miseria.',\n",
       " 'La informalidad en la tenencia de la tierra en algunas zonas rurales genera inseguridad y limita las inversiones. Los campesinos no tienen certeza sobre sus propiedades, lo que les impide acceder a créditos o planificar a largo plazo. Es fundamental que se impulse un proceso de formalización de la propiedad de la tierra, brindando seguridad jurídica a los pequeños propietarios y facilitando el acceso a instrumentos financieros que les permitan desarrollar sus proyectos productivos.',\n",
       " 'La falta de oportunidades para los jóvenes en zonas vulnerables los empuja a la delincuencia y a la marginalidad. Sin acceso a educación de calidad ni a empleos dignos, muchos ven en las actividades ilícitas una salida a su situación de pobreza. Es crucial que se invierta en programas de prevención del delito, que ofrezcan alternativas de vida a los jóvenes, a través de la formación, el empleo y el fomento del deporte y la cultura como herramientas de transformación social.',\n",
       " 'La brecha salarial entre hombres y mujeres sigue siendo una realidad en muchos sectores, lo que profundiza la pobreza de los hogares encabezados por mujeres. A igual trabajo, las mujeres a menudo reciben un salario menor, lo que limita su capacidad de ahorro y su autonomía económica. Es fundamental que se implementen políticas que garanticen la igualdad salarial y promuevan la equidad de género en el ámbito laboral, reconociendo el valor del trabajo de las mujeres.',\n",
       " 'La falta de infraestructura básica en algunos barrios urbanos es un claro reflejo de la pobreza. Calles sin pavimentar, alumbrado público deficiente y ausencia de parques o espacios de recreación afectan la calidad de vida de los residentes. Es vital que las administraciones municipales inviertan en la mejora de estos servicios, transformando estos barrios en lugares dignos para vivir y fomentando el desarrollo social y económico de sus habitantes.',\n",
       " 'Los altos costos de la canasta básica familiar son un desafío para las familias de bajos ingresos. El dinero no alcanza para cubrir las necesidades alimentarias, lo que se traduce en desnutrición y problemas de salud. Es fundamental que se implementen políticas para controlar la inflación y estabilizar los precios de los alimentos, así como programas de subsidios o transferencias monetarias condicionadas que garanticen la seguridad alimentaria de la población más vulnerable.',\n",
       " 'La falta de acceso a servicios de salud mental es una problemática que afecta especialmente a las poblaciones en situación de pobreza. El estrés, la ansiedad y la depresión son comunes en estas comunidades, pero no hay recursos ni profesionales disponibles para atender estas necesidades. Es crucial que se integre la salud mental en la oferta de servicios de salud pública, garantizando el acceso a terapias y acompañamiento para quienes lo necesitan, sin estigmatización.',\n",
       " 'La economía informal, aunque permite la subsistencia de muchas familias, carece de protecciones y estabilidad. Los trabajadores no tienen seguridad social, vacaciones pagas ni un salario mínimo garantizado, lo que los deja en una situación de vulnerabilidad constante. Se necesita una política pública que fomente la formalización de estos negocios, ofreciendo incentivos, capacitación y un marco legal que proteja los derechos de los trabajadores informales.',\n",
       " 'La falta de acceso a la justicia para las personas de bajos recursos es una barrera para salir de la pobreza. A menudo, no pueden pagar un abogado o desconocen sus derechos, lo que los deja desprotegidos ante abusos o injusticias. Es fundamental que se fortalezca la oferta de servicios de asistencia legal gratuita, garantizando que todos los ciudadanos, sin importar su condición económica, tengan acceso a una justicia pronta y efectiva.',\n",
       " 'La inseguridad alimentaria en las ciudades es una preocupación creciente. Muchas familias no tienen acceso regular a alimentos frescos y nutritivos, dependiendo de la caridad o de alimentos procesados de bajo costo pero poco saludables. Se necesita impulsar programas de huertas urbanas, mercados campesinos y bancos de alimentos, así como subsidios para la compra de alimentos, para garantizar la seguridad alimentaria en los entornos urbanos y combatir la desnutrición.',\n",
       " 'La falta de redes de apoyo social y comunitario debilita la capacidad de las comunidades para enfrentar la pobreza. El individualismo y la desconfianza impiden la colaboración y la construcción de soluciones colectivas. Es fundamental que se promuevan iniciativas que fortalezcan el tejido social, fomentando la solidaridad, la participación ciudadana y la creación de espacios de encuentro y cooperación para construir comunidades más resilientes y unidas.',\n",
       " 'La falta de inversión en proyectos productivos en zonas rurales empobrecidas es una oportunidad perdida. Con el potencial agrícola y turístico de muchas regiones, se podrían generar empleos y riqueza si hubiera un apoyo decidido del gobierno y del sector privado. Es crucial que se diseñen estrategias de desarrollo territorial que identifiquen y potencien las vocaciones productivas de cada región, ofreciendo asistencia técnica, financiamiento y acceso a mercados para impulsar la economía local.',\n",
       " 'Los altos índices de embarazo adolescente en algunas comunidades son un factor que perpetúa la pobreza. Las jóvenes madres a menudo abandonan sus estudios y tienen dificultades para acceder a un empleo digno, lo que limita sus oportunidades y las de sus hijos. Es fundamental que se fortalezcan los programas de educación sexual y reproductiva, así como el acceso a métodos anticonceptivos, y se brinde apoyo integral a las madres adolescentes para que puedan continuar sus estudios y desarrollar su potencial.',\n",
       " 'La falta de acceso a servicios financieros básicos como cuentas de ahorro o microcréditos es una barrera para la inclusión económica de las poblaciones vulnerables. Esto limita su capacidad de ahorro, inversión y manejo de sus finanzas, manteniéndolos en la informalidad. Es crucial que las entidades financieras, con el apoyo del Estado, diseñen productos y servicios adaptados a las necesidades de estas poblaciones, promoviendo la educación financiera y la bancarización.',\n",
       " 'La precariedad en el acceso a la energía eléctrica en algunas zonas rurales y urbanas marginales es un problema grave. Muchas familias carecen de este servicio básico, lo que afecta su calidad de vida, su seguridad y sus oportunidades de desarrollo. Es fundamental que el gobierno impulse programas de electrificación rural y de mejora de la infraestructura eléctrica en barrios vulnerables, garantizando un acceso equitativo y asequible a la energía para todos los ciudadanos.',\n",
       " 'La falta de oportunidades para las personas con discapacidad en el mercado laboral las condena a la pobreza y a la dependencia. A menudo, enfrentan barreras físicas, actitudinales y de acceso a la capacitación, lo que les impide desarrollar su potencial. Es fundamental que se implementen políticas de inclusión laboral que garanticen un acceso equitativo a empleos dignos, adaptando los puestos de trabajo y promoviendo la sensibilización en las empresas.',\n",
       " 'La deforestación y la degradación ambiental en algunas regiones afectan los medios de vida de las comunidades que dependen de los recursos naturales. La pérdida de bosques y la contaminación del agua disminuyen la productividad agrícola y pesquera, empujando a las familias a la pobreza. Es crucial que se fortalezcan las políticas de protección ambiental, fomentando prácticas sostenibles y apoyando a las comunidades en la conservación de sus ecosistemas y recursos naturales.',\n",
       " 'La falta de acceso a agua potable y saneamiento básico en muchas comunidades rurales es una preocupación constante. Las personas se ven obligadas a consumir agua no tratada, lo que genera enfermedades y afecta su salud y productividad. Es fundamental que el gobierno invierta en infraestructura hídrica, construyendo acueductos y sistemas de saneamiento, y garantizando el acceso a agua segura y de calidad para todas las poblaciones, sin excepción.',\n",
       " 'La informalidad en la recolección de residuos y el reciclaje es una fuente de ingresos para muchas familias vulnerables, pero a menudo se realiza en condiciones precarias e insalubres. Estos trabajadores no tienen seguridad social ni equipos de protección, lo que pone en riesgo su salud. Es crucial que se implementen programas de formalización de los recicladores, dignificando su labor, ofreciéndoles capacitación y garantizando sus derechos laborales y su seguridad.',\n",
       " 'La falta de acceso a la justicia para las víctimas de violencia de género, especialmente en zonas rurales, perpetúa la impunidad y la vulnerabilidad de las mujeres. A menudo, no hay dónde denunciar, o los procesos son lentos y revictimizantes, lo que las deja desprotegidas. Es fundamental que se fortalezcan los mecanismos de denuncia y atención a las víctimas, garantizando un acceso rápido y seguro a la justicia y a los servicios de apoyo psicosocial.',\n",
       " 'La dependencia económica de un solo cultivo en algunas regiones agrícolas las hace vulnerables a las fluctuaciones del mercado y a los fenómenos climáticos, lo que empuja a los agricultores a la pobreza. Es fundamental que se impulse la diversificación productiva, fomentando la siembra de diferentes cultivos y la integración de actividades agroindustriales, para reducir los riesgos y generar ingresos más estables para las familias campesinas.',\n",
       " 'La falta de acceso a tierras productivas para las comunidades indígenas y afrodescendientes es una causa histórica de pobreza y exclusión. Sus territorios ancestrales han sido despojados o degradados, lo que limita sus medios de vida y su desarrollo cultural. Es fundamental que se implementen políticas de restitución de tierras y de titulación colectiva, garantizando el respeto a sus derechos territoriales y el apoyo a sus planes de vida y desarrollo sostenible.',\n",
       " 'La ausencia de oportunidades para la población joven en zonas urbanas marginales es un caldo de cultivo para la violencia y la delincuencia. Sin acceso a educación, empleo o espacios de recreación, muchos jóvenes caen en la desesperanza y son reclutados por grupos delictivos. Es crucial que se invierta en programas de prevención de la violencia, que ofrezcan alternativas de vida a los jóvenes, a través de la formación, el empleo y el fomento de actividades culturales y deportivas.',\n",
       " 'La dificultad para acceder a un transporte público eficiente y seguro es un obstáculo para que las personas de bajos ingresos lleguen a sus trabajos o a los centros de salud. El costo del pasaje o la falta de rutas adecuadas limitan su movilidad y sus oportunidades. Es fundamental que las administraciones municipales revisen y mejoren el sistema de transporte público, garantizando que sea accesible, seguro y eficiente para todos los ciudadanos, sin importar su estrato socioeconómico.',\n",
       " 'La falta de acceso a internet y a herramientas digitales en muchas comunidades rurales profundiza la brecha de la pobreza. Esto limita el acceso a la información, la educación en línea y las oportunidades de teletrabajo, dejando a estas poblaciones rezagadas. Es crucial que el gobierno impulse programas de conectividad rural, subsidie el acceso a internet y capacite a las comunidades en el uso de las tecnologías para reducir la brecha digital y fomentar el desarrollo.',\n",
       " 'La precariedad en las condiciones laborales de los trabajadores del campo, con jornadas extensas y salarios bajos, es una realidad que perpetúa la pobreza rural. Muchos jornaleros no tienen contrato, seguridad social ni prestaciones, lo que los deja en una situación de vulnerabilidad extrema. Es fundamental que las autoridades laborales fortalezcan la inspección y el control en el sector agrícola, garantizando el cumplimiento de los derechos laborales y la dignificación del trabajo rural.',\n",
       " 'La falta de oportunidades para los adultos mayores en el mercado laboral los condena a la pobreza y a la dependencia. Muchos de ellos tienen experiencia y ganas de trabajar, pero enfrentan discriminación por su edad. Es fundamental que se promuevan políticas de inclusión laboral para los adultos mayores, incentivando a las empresas a contratarlos y ofreciendo programas de capacitación que les permitan actualizar sus habilidades y mantenerse activos económicamente.',\n",
       " 'La dependencia de la minería ilegal en algunas regiones genera un ciclo de pobreza y violencia. Aunque ofrece ingresos rápidos, degrada el medio ambiente, fomenta la ilegalidad y no genera un desarrollo sostenible para las comunidades. Es crucial que el gobierno implemente estrategias de formalización de la minería responsable y diversificación económica en estas zonas, ofreciendo alternativas productivas que garanticen un futuro digno y sostenible para sus habitantes.',\n",
       " 'La falta de acceso a servicios bancarios y financieros en muchas zonas rurales es una barrera para el desarrollo económico. Los pequeños agricultores no pueden acceder a créditos para sus cultivos, ni a seguros para sus cosechas, lo que limita su capacidad de inversión y los expone a mayores riesgos. Es fundamental que las entidades financieras, con el apoyo del Estado, amplíen su cobertura, diseñando productos y servicios adaptados a las necesidades de estas comunidades.',\n",
       " 'La informalidad en la prestación de servicios de cuidado infantil en algunos barrios marginales es una preocupación. Muchas madres trabajadoras no tienen acceso a guarderías seguras y asequibles, lo que las obliga a dejar a sus hijos al cuidado de personas no calificadas o a depender de familiares. Es crucial que se fortalezcan los programas de atención integral a la primera infancia, garantizando el acceso a guarderías de calidad que permitan a las madres trabajar y a los niños desarrollarse plenamente.',\n",
       " 'La falta de participación de las comunidades en la definición de proyectos de desarrollo local es un problema. Las soluciones se diseñan desde arriba, sin tener en cuenta las necesidades y prioridades de la gente que vive la pobreza a diario. Es fundamental que se creen espacios de diálogo y consulta donde las comunidades puedan expresar sus ideas y prioridades, contribuyendo activamente a la construcción de soluciones más efectivas y sostenibles para combatir la pobreza.',\n",
       " 'La carencia de servicios de salud preventiva y de promoción de la salud en las zonas más vulnerables es un factor que agrava la pobreza. Las enfermedades prevenibles afectan la productividad de las personas y generan gastos catastróficos que empujan a las familias a la miseria. Es crucial que se fortalezcan los programas de atención primaria en salud, con énfasis en la prevención, la vacunación y la educación sanitaria, para mejorar la calidad de vida de estas comunidades.',\n",
       " 'La falta de un sistema de protección social robusto que incluya un seguro de desempleo digno deja a muchas familias en la indigencia ante la pérdida de trabajo. El miedo a perder el empleo es constante y la incertidumbre económica es abrumadora. Se necesita que el gobierno implemente un seguro de desempleo que cubra un porcentaje significativo del salario por un período razonable, brindando una red de seguridad que proteja a los trabajadores y sus familias en momentos de crisis.',\n",
       " 'La dependencia de los monocultivos en algunas regiones agrícolas las hace vulnerables a las plagas, las enfermedades y las fluctuaciones del mercado, lo que empuja a los agricultores a la pobreza. Es fundamental que se impulse la diversificación productiva, fomentando la siembra de diferentes cultivos y la integración de actividades agroindustriales, para reducir los riesgos y generar ingresos más estables para las familias campesinas y contribuir a la seguridad alimentaria regional.',\n",
       " 'La falta de una estrategia integral para la gestión de riesgos de desastres en comunidades vulnerables agrava el impacto de los fenómenos naturales, empujando a las familias a la pobreza extrema. Las inundaciones, los deslizamientos o las sequías destruyen viviendas y medios de vida, y la recuperación es lenta y difícil. Es crucial que se invierta en la prevención, la alerta temprana y la preparación de las comunidades, brindando apoyo para la reconstrucción y la adaptación al cambio climático.',\n",
       " 'La informalidad en el sector del transporte, con mototaxistas y bicitaxistas sin seguridad social ni regulaciones, es una preocupación. Aunque es una fuente de ingresos para muchos, los trabajadores están expuestos a riesgos y abusos, y los usuarios carecen de garantías. Se necesita una política pública que formalice estos servicios, ofreciendo capacitación, seguridad social y un marco legal que proteja tanto a los trabajadores como a los usuarios, dignificando su labor y mejorando la movilidad.',\n",
       " 'La falta de una política de vivienda digna para la población migrante en las ciudades es un problema creciente. Muchos migrantes viven en condiciones de hacinamiento e insalubridad, sin acceso a servicios básicos y expuestos a la explotación. Es fundamental que las autoridades municipales diseñen programas de vivienda de interés social que sean accesibles para esta población, garantizando el acceso a soluciones habitacionales seguras y con todos los servicios básicos.',\n",
       " 'La ausencia de un sistema de saneamiento básico adecuado en muchas zonas rurales y urbanas marginales es una preocupación constante. La falta de alcantarillado y el manejo inadecuado de las aguas residuales generan enfermedades y contaminan el medio ambiente. Es fundamental que el gobierno invierta en infraestructura de saneamiento, construyendo sistemas de alcantarillado y plantas de tratamiento, para mejorar la salud pública y proteger nuestros ecosistemas.',\n",
       " 'La falta de oportunidades para las madres cabeza de familia en el mercado laboral las condena a la pobreza y a la dependencia. A menudo, enfrentan dificultades para conciliar el trabajo con el cuidado de sus hijos, y son discriminadas por su condición. Es fundamental que se promuevan políticas de inclusión laboral para las madres cabeza de familia, incentivando a las empresas a contratarlas y ofreciendo programas de apoyo para el cuidado infantil, para que puedan desarrollar su potencial económico.',\n",
       " 'La desigualdad en el acceso a la propiedad de la tierra sigue siendo un problema estructural que perpetúa la pobreza rural. Grandes extensiones de tierra están en manos de unos pocos, mientras que los pequeños agricultores no tienen acceso a terrenos productivos. Es fundamental que se impulse una reforma agraria integral que garantice un acceso equitativo a la tierra, fomentando la producción local, la seguridad alimentaria y el desarrollo sostenible de las comunidades campesinas.',\n",
       " 'La falta de acceso a servicios veterinarios y de asistencia técnica para pequeños ganaderos y agricultores es una barrera para el desarrollo rural. Las enfermedades del ganado o las plagas en los cultivos pueden arruinar sus medios de vida, y no tienen cómo acceder a ayuda profesional. Es crucial que el gobierno fortalezca los programas de asistencia técnica y veterinaria, con brigadas móviles y subsidios, para proteger la producción y mejorar la calidad de vida de estas familias.',\n",
       " 'La informalidad en el comercio ambulante es una fuente de ingresos para muchas familias vulnerables, pero carece de protecciones y estabilidad. Los vendedores ambulantes no tienen seguridad social, acceso a créditos formales ni un lugar seguro para trabajar, lo que los expone a riesgos y abusos. Se necesita una política pública que formalice este sector, ofreciendo capacitación, seguridad social y un marco legal que dignifique su labor y mejore sus condiciones de trabajo.',\n",
       " 'La falta de oportunidades para las personas con discapacidad en el acceso a la educación y a la capacitación limita su desarrollo y las condena a la pobreza. A menudo, enfrentan barreras físicas y actitudinales en las instituciones educativas, y no hay programas adaptados a sus necesidades. Es fundamental que se implementen políticas de inclusión educativa que garanticen un acceso equitativo a la educación de calidad, adaptando las infraestructuras y ofreciendo apoyo especializado.',\n",
       " 'La dependencia de las remesas de los migrantes, aunque un alivio para muchas familias, no es una solución sostenible para la pobreza a largo plazo. La salida de jóvenes y adultos en edad productiva debilita el tejido social y económico de las comunidades de origen. Es crucial que el gobierno impulse programas de desarrollo local que generen oportunidades de empleo y emprendimiento en las regiones, para que las personas no se vean obligadas a migrar por necesidad.',\n",
       " 'La falta de infraestructura turística y de apoyo al emprendimiento en zonas con potencial turístico pero en situación de pobreza es una oportunidad desaprovechada. El turismo podría generar empleos y riqueza, pero se necesita inversión y capacitación para desarrollar el sector. Es fundamental que se diseñen estrategias de desarrollo turístico sostenible que involucren a las comunidades locales, ofreciendo asistencia técnica, financiamiento y acceso a mercados para impulsar la economía regional.',\n",
       " 'La ausencia de un sistema de alertas tempranas y de preparación ante desastres naturales en comunidades vulnerables agrava el impacto de los fenómenos climáticos, empujando a las familias a la pobreza extrema. Las inundaciones, los deslizamientos o las sequías destruyen viviendas y medios de vida, y la recuperación es lenta y difícil. Es crucial que se invierta en la prevención, la alerta temprana y la preparación de las comunidades, brindando apoyo para la reconstrucción y la adaptación al cambio climático.',\n",
       " 'La falta de acceso a mercados justos para los pequeños productores agrícolas los deja a merced de los intermediarios, que se llevan la mayor parte de las ganancias. Esto limita sus ingresos y perpetúa la pobreza rural. Es fundamental que el gobierno impulse programas de comercialización directa, mercados campesinos y cooperativas, para que los agricultores puedan vender sus productos a precios justos y acceder a nuevos mercados, mejorando sus condiciones de vida y fomentando la producción local.',\n",
       " 'La informalidad en la construcción, con trabajadores sin seguridad social ni condiciones laborales dignas, es una preocupación. Aunque genera empleo, los trabajadores están expuestos a riesgos y abusos, y carecen de garantías. Se necesita una política pública que formalice este sector, ofreciendo capacitación, seguridad social y un marco legal que proteja tanto a los trabajadores como a los usuarios, dignificando su labor y mejorando la calidad de las construcciones.',\n",
       " 'La falta de acceso a servicios legales y de mediación para la resolución de conflictos en comunidades vulnerables agrava la situación de pobreza. Los conflictos por tierras, herencias o deudas pueden escalar y generar violencia, afectando la estabilidad de las familias. Es fundamental que se fortalezca la oferta de servicios de asistencia legal gratuita y de mediación comunitaria, garantizando un acceso rápido y seguro a la justicia y a soluciones pacíficas para los conflictos.',\n",
       " 'La desigualdad en el acceso a los servicios públicos básicos como la energía eléctrica en zonas rurales es un reflejo de la pobreza. Muchas familias carecen de este servicio esencial, lo que limita su desarrollo y su calidad de vida. Es fundamental que el gobierno impulse programas de electrificación rural, con fuentes de energía renovable, garantizando un acceso equitativo y asequible a la energía para todas las poblaciones, sin excepción.',\n",
       " 'La falta de oportunidades para los jóvenes en zonas rurales empobrecidas los empuja a la migración hacia las ciudades o a la vinculación con grupos al margen de la ley. Sin acceso a educación de calidad ni a empleos dignos, muchos ven en estas opciones una salida a su situación de pobreza. Es crucial que se invierta en programas de desarrollo rural que generen oportunidades para los jóvenes, a través de la formación, el empleo y el fomento del emprendimiento local.',\n",
       " 'La precariedad en el acceso a la salud para las poblaciones indígenas y afrodescendientes es una preocupación. A menudo, enfrentan barreras culturales, geográficas y económicas para acceder a servicios de salud de calidad, lo que agrava sus condiciones de pobreza. Es fundamental que se fortalezcan los programas de salud con enfoque diferencial, respetando sus prácticas ancestrales y garantizando un acceso equitativo a servicios de salud culturalmente pertinentes.',\n",
       " 'La falta de acceso a la vivienda digna para los recicladores es una preocupación. Muchos de ellos viven en condiciones de hacinamiento e insalubridad, sin acceso a servicios básicos y expuestos a riesgos. Es fundamental que las autoridades municipales diseñen programas de vivienda de interés social que sean accesibles para esta población, garantizando el acceso a soluciones habitacionales seguras y con todos los servicios básicos, dignificando su labor y mejorando su calidad de vida.',\n",
       " 'La informalidad en la prestación de servicios de limpieza y mantenimiento, con trabajadores sin seguridad social ni condiciones laborales dignas, es una preocupación. Aunque genera empleo, los trabajadores están expuestos a riesgos y abusos, y carecen de garantías. Se necesita una política pública que formalice este sector, ofreciendo capacitación, seguridad social y un marco legal que proteja tanto a los trabajadores como a los usuarios, dignificando su labor y mejorando las condiciones laborales.',\n",
       " 'La falta de participación de las mujeres en la toma de decisiones económicas y políticas en las comunidades rurales agrava la pobreza. A menudo, las mujeres tienen un rol central en el hogar y en la producción agrícola, pero no tienen voz ni voto en las decisiones que afectan sus vidas. Es fundamental que se impulsen programas de empoderamiento femenino, promoviendo su liderazgo y participación en los espacios de decisión para construir comunidades más equitativas y prósperas.',\n",
       " 'La ausencia de un sistema de protección social integral que incluya seguros de cosechas para los pequeños agricultores es una preocupación. Las pérdidas por fenómenos climáticos o plagas pueden arruinar sus medios de vida, y no tienen cómo recuperarse. Es fundamental que el gobierno implemente un sistema de seguros agrícolas asequibles, que proteja a los agricultores de los riesgos y les permita reconstruir su producción después de una calamidad, garantizando la seguridad alimentaria y la estabilidad económica.',\n",
       " 'La falta de acceso a créditos y financiamiento para los emprendedores rurales es una barrera para el desarrollo económico. Muchas personas tienen ideas innovadoras y el deseo de crear su propio negocio, pero no tienen el capital inicial ni la posibilidad de acceder a préstamos bancarios. Es crucial que las entidades financieras, con el apoyo del Estado, diseñen líneas de crédito específicas para el emprendimiento rural, con requisitos flexibles y tasas accesibles, para impulsar la economía local.',\n",
       " 'La precariedad en el acceso a la energía eléctrica en zonas urbanas marginales es un problema grave. Muchas familias carecen de este servicio básico, lo que afecta su calidad de vida, su seguridad y sus oportunidades de desarrollo. Es fundamental que el gobierno impulse programas de electrificación y de mejora de la infraestructura eléctrica en barrios vulnerables, garantizando un acceso equitativo y asequible a la energía para todos los ciudadanos.',\n",
       " 'La falta de oportunidades para las personas con discapacidad en el acceso a la capacitación laboral limita su desarrollo y las condena a la pobreza. A menudo, enfrentan barreras para acceder a programas de formación que se adapten a sus necesidades y habilidades. Es fundamental que se implementen políticas de inclusión laboral que garanticen un acceso equitativo a la capacitación, adaptando los programas y ofreciendo apoyo especializado para su inserción en el mercado laboral.',\n",
       " 'La dependencia de la economía ilegal en algunas regiones genera un ciclo de pobreza y violencia. Aunque ofrece ingresos rápidos, degrada el medio ambiente, fomenta la ilegalidad y no genera un desarrollo sostenible para las comunidades. Es crucial que el gobierno implemente estrategias de diversificación económica en estas zonas, ofreciendo alternativas productivas que garanticen un futuro digno y sostenible para sus habitantes, rompiendo la dependencia de actividades ilícitas.',\n",
       " 'La falta de acceso a servicios bancarios básicos y a la educación financiera en muchas comunidades urbanas marginales es una barrera para la inclusión económica. Las personas no pueden acceder a créditos, ni realizar transacciones financieras de manera segura, lo que las obliga a depender de sistemas informales que a menudo son abusivos. Es crucial que las entidades financieras, con el apoyo del Estado, amplíen su cobertura, ofreciendo servicios adaptados a las necesidades de estas comunidades y fomentando la inclusión financiera.',\n",
       " 'La informalidad en la economía del cuidado, con trabajadoras del hogar sin seguridad social ni condiciones laborales dignas, es una preocupación. Aunque es una fuente de empleo para muchas mujeres, están expuestas a riesgos y abusos, y carecen de garantías. Se necesita una política pública que formalice este sector, ofreciendo capacitación, seguridad social y un marco legal que proteja tanto a las trabajadoras como a los empleadores, dignificando su labor y mejorando sus condiciones.',\n",
       " 'La falta de participación de los jóvenes en la toma de decisiones sobre políticas de desarrollo local es un problema. A menudo, las soluciones se diseñan desde arriba, sin tener en cuenta las necesidades y prioridades de la juventud que vive la pobreza a diario. Es fundamental que se creen espacios de diálogo y consulta donde los jóvenes puedan expresar sus ideas y prioridades, contribuyendo activamente a la construcción de soluciones más efectivas y sostenibles para combatir la pobreza.',\n",
       " 'La ausencia de un sistema de protección social que incluya un seguro de salud para los trabajadores informales es una preocupación. Una enfermedad grave puede empujar a estas familias a la pobreza extrema, ya que no tienen cómo acceder a servicios de salud de calidad ni a medicamentos. Es fundamental que el gobierno implemente un sistema de seguridad social flexible y asequible para los trabajadores informales, garantizando el acceso a servicios de salud y medicamentos esenciales.',\n",
       " 'La dependencia de un solo sector económico en algunas regiones las hace vulnerables a las crisis y a las fluctuaciones del mercado, lo que empuja a las comunidades a la pobreza. Es fundamental que se impulse la diversificación económica, fomentando la creación de nuevas industrias y servicios, para reducir los riesgos y generar oportunidades de empleo más estables para las familias, contribuyendo a la resiliencia económica de la región.',\n",
       " 'La falta de una estrategia integral para la gestión de residuos sólidos en comunidades vulnerables agrava los problemas de salud pública y degrada el medio ambiente. La acumulación de basura genera focos de infección y contamina el agua y el suelo, afectando la calidad de vida de las personas. Es crucial que se invierta en la implementación de sistemas de recolección, tratamiento y reciclaje de residuos, con la participación de la comunidad, para mejorar la salubridad y proteger el medio ambiente.',\n",
       " 'La informalidad en la venta de alimentos en la calle es una fuente de ingresos para muchas familias vulnerables, pero carece de regulaciones sanitarias y de protecciones para los trabajadores. Los alimentos pueden no ser seguros y los vendedores están expuestos a riesgos y abusos. Se necesita una política pública que formalice este sector, ofreciendo capacitación en manipulación de alimentos, seguridad social y un marco legal que dignifique su labor y garantice la seguridad alimentaria.',\n",
       " 'La falta de acceso a servicios legales y de asesoría para la constitución de empresas y emprendimientos en comunidades vulnerables es una barrera para el desarrollo económico. Muchas personas tienen ideas, pero no saben cómo formalizar sus negocios o acceder a financiamiento. Es fundamental que se fortalezca la oferta de servicios de asistencia legal gratuita y de asesoría empresarial, garantizando que todos los ciudadanos tengan acceso a la información y el acompañamiento para crear sus empresas.',\n",
       " 'La desigualdad en el acceso a la educación superior para los jóvenes de bajos ingresos es un factor que perpetúa la pobreza. A menudo, no pueden pagar la matrícula, los materiales o el transporte, lo que les impide acceder a una educación de calidad que les abra puertas al mercado laboral. Es fundamental que se amplíen las becas y los programas de apoyo económico para los estudiantes de bajos recursos, garantizando la igualdad de oportunidades en el acceso a la educación superior.',\n",
       " 'La falta de oportunidades para las personas mayores en el acceso a la capacitación laboral limita su desarrollo y las condena a la pobreza. Muchos de ellos tienen experiencia y ganas de aprender nuevas habilidades, pero enfrentan barreras para acceder a programas de formación que se adapten a sus necesidades. Es fundamental que se implementen políticas de inclusión laboral que garanticen un acceso equitativo a la capacitación, adaptando los programas y ofreciendo apoyo especializado.',\n",
       " 'La dependencia de la economía extractiva en algunas regiones genera un ciclo de pobreza y degradación ambiental. Aunque ofrece empleos, no genera un desarrollo sostenible para las comunidades y deja pasivos ambientales que afectan la salud y los medios de vida. Es crucial que el gobierno implemente estrategias de diversificación económica en estas zonas, ofreciendo alternativas productivas que garanticen un futuro digno y sostenible para sus habitantes, protegiendo el medio ambiente.',\n",
       " 'La falta de acceso a servicios bancarios básicos y a la educación financiera en muchas comunidades indígenas y afrodescendientes es una barrera para la inclusión económica. Las personas no pueden acceder a créditos, ni realizar transacciones financieras de manera segura, lo que las obliga a depender de sistemas informales que a menudo son abusivos. Es crucial que las entidades financieras, con el apoyo del Estado, amplíen su cobertura, ofreciendo servicios adaptados a las necesidades de estas comunidades.',\n",
       " 'La informalidad en la economía del reciclaje, con trabajadores sin seguridad social ni condiciones laborales dignas, es una preocupación. Aunque es una fuente de empleo para muchos, están expuestos a riesgos y abusos, y carecen de garantías. Se necesita una política pública que formalice este sector, ofreciendo capacitación, seguridad social y un marco legal que proteja tanto a los trabajadores como a los usuarios, dignificando su labor y mejorando las condiciones laborales.',\n",
       " 'La falta de participación de las comunidades rurales en la definición de proyectos de desarrollo local es un problema. Las soluciones se diseñan desde arriba, sin tener en cuenta las necesidades y prioridades de la gente que vive la pobreza a diario. Es fundamental que se creen espacios de diálogo y consulta donde las comunidades puedan expresar sus ideas y prioridades, contribuyendo activamente a la construcción de soluciones más efectivas y sostenibles para combatir la pobreza.',\n",
       " 'La ausencia de un sistema de protección social que incluya un seguro de invalidez para los trabajadores informales es una preocupación. Una discapacidad puede empujar a estas familias a la pobreza extrema, ya que no tienen cómo acceder a servicios de rehabilitación ni a un ingreso mínimo. Es fundamental que el gobierno implemente un sistema de seguridad social flexible y asequible para los trabajadores informales, garantizando el acceso a servicios de rehabilitación y a un ingreso básico.',\n",
       " 'La dependencia de la producción agrícola a pequeña escala en algunas regiones, sin acceso a tecnología ni a mercados, genera un ciclo de pobreza. Los agricultores no pueden competir con la producción industrial y sus ingresos son insuficientes para cubrir sus necesidades básicas. Es fundamental que se impulse la modernización del campo, ofreciendo asistencia técnica, acceso a tecnología y financiamiento, para que los pequeños agricultores puedan ser más productivos y competitivos.',\n",
       " 'La falta de una estrategia integral para la prevención y atención de la violencia de género en comunidades vulnerables agrava la pobreza. La violencia intrafamiliar y sexual afecta la salud, la seguridad y la autonomía económica de las mujeres, limitando sus oportunidades. Es crucial que se invierta en programas de prevención, atención y empoderamiento de las mujeres, garantizando el acceso a servicios de apoyo psicosocial y legal, y promoviendo la igualdad de género.',\n",
       " 'La informalidad en la venta de productos artesanales, con artesanos sin seguridad social ni acceso a mercados justos, es una preocupación. Aunque es una fuente de ingresos para muchas comunidades, los artesanos están expuestos a riesgos y abusos, y carecen de garantías. Se necesita una política pública que formalice este sector, ofreciendo capacitación, seguridad social y un marco legal que dignifique su labor y mejore sus condiciones de trabajo.',\n",
       " 'La falta de acceso a servicios legales y de mediación para la resolución de conflictos laborales en comunidades vulnerables agrava la situación de pobreza. Los conflictos por salarios, despidos o condiciones laborales pueden escalar y generar violencia, afectando la estabilidad de las familias. Es fundamental que se fortalezca la oferta de servicios de asistencia legal gratuita y de mediación laboral, garantizando un acceso rápido y seguro a la justicia y a soluciones pacíficas para los conflictos.',\n",
       " 'La desigualdad en el acceso a la propiedad de la vivienda para las familias de bajos ingresos es un factor que perpetúa la pobreza. A menudo, no pueden pagar el arriendo, o viven en asentamientos informales sin seguridad jurídica. Es fundamental que se amplíen los programas de vivienda de interés social y los subsidios de arriendo, garantizando el acceso a una vivienda digna y segura para todas las familias, sin importar su condición económica.',\n",
       " 'La falta de oportunidades para las personas con discapacidad en el acceso a la recreación y el deporte limita su desarrollo y las condena a la exclusión. A menudo, enfrentan barreras físicas y actitudinales en los espacios públicos, y no hay programas adaptados a sus necesidades. Es fundamental que se implementen políticas de inclusión que garanticen un acceso equitativo a la recreación y el deporte, adaptando los espacios y ofreciendo programas especializados.',\n",
       " 'La dependencia de la ayuda humanitaria en algunas regiones es un reflejo de la pobreza extrema y la falta de desarrollo sostenible. Aunque es necesaria en momentos de crisis, no es una solución a largo plazo y puede generar dependencia. Es crucial que el gobierno impulse programas de desarrollo integral en estas zonas, que generen oportunidades de empleo y emprendimiento, para que las comunidades puedan ser autosuficientes y resilientes.',\n",
       " 'La falta de acceso a servicios bancarios básicos y a la educación financiera en muchas comunidades migrantes es una barrera para la inclusión económica. Las personas no pueden acceder a créditos, ni realizar transacciones financieras de manera segura, lo que las obliga a depender de sistemas informales que a menudo son abusivos. Es crucial que las entidades financieras, con el apoyo del Estado, amplíen su cobertura, ofreciendo servicios adaptados a las necesidades de estas comunidades y fomentando la inclusión financiera.',\n",
       " 'La informalidad en la economía del cuidado de personas mayores, con cuidadores sin seguridad social ni condiciones laborales dignas, es una preocupación. Aunque es una fuente de empleo para muchos, están expuestos a riesgos y abusos, y carecen de garantías. Se necesita una política pública que formalice este sector, ofreciendo capacitación, seguridad social y un marco legal que proteja tanto a los cuidadores como a las personas mayores, dignificando su labor y mejorando las condiciones.',\n",
       " 'La falta de participación de las organizaciones de la sociedad civil en la definición de políticas de desarrollo local es un problema. A menudo, las soluciones se diseñan desde arriba, sin tener en cuenta la experiencia y el conocimiento de las organizaciones que trabajan en el terreno. Es fundamental que se creen espacios de diálogo y consulta donde las organizaciones puedan expresar sus ideas y prioridades, contribuyendo activamente a la construcción de soluciones más efectivas y sostenibles.',\n",
       " 'La ausencia de un sistema de protección social que incluya un seguro de vejez para los trabajadores informales es una preocupación. Muchos de ellos llegan a la tercera edad sin una pensión, lo que los condena a la pobreza. Es fundamental que el gobierno implemente un sistema de seguridad social flexible y asequible para los trabajadores informales, garantizando el acceso a una pensión digna que les permita vivir con tranquilidad en su vejez.',\n",
       " 'La dependencia de la economía de subsistencia en algunas regiones, sin acceso a tecnología ni a mercados, genera un ciclo de pobreza. Las familias apenas producen lo suficiente para su propio consumo, y no tienen excedentes para generar ingresos. Es fundamental que se impulse la diversificación productiva, ofreciendo asistencia técnica, acceso a tecnología y financiamiento, para que las comunidades puedan generar excedentes y mejorar sus condiciones de vida.',\n",
       " 'La falta de una estrategia integral para la prevención y atención de la explotación sexual comercial de niños, niñas y adolescentes en comunidades vulnerables agrava la pobreza. Esta problemática afecta la salud, la seguridad y el desarrollo de los niños, limitando sus oportunidades. Es crucial que se invierta en programas de prevención, atención y protección de la infancia, garantizando el acceso a servicios de apoyo psicosocial y legal, y promoviendo la denuncia de estos delitos.',\n",
       " 'La informalidad en la venta de servicios de peluquería y belleza, con trabajadores sin seguridad social ni condiciones laborales dignas, es una preocupación. Aunque es una fuente de empleo para muchos, están expuestos a riesgos y abusos, y carecen de garantías. Se necesita una política pública que formalice este sector, ofreciendo capacitación, seguridad social y un marco legal que proteja tanto a los trabajadores como a los usuarios, dignificando su labor y mejorando las condiciones.',\n",
       " 'La falta de acceso a servicios legales y de asesoría para la regularización de la propiedad en comunidades vulnerables es una barrera para el desarrollo económico. Muchas familias viven en la incertidumbre sobre sus tierras o viviendas, lo que les impide acceder a créditos o invertir en mejoras. Es fundamental que se fortalezca la oferta de servicios de asistencia legal gratuita y de asesoría catastral, garantizando que todos los ciudadanos tengan acceso a la información y el acompañamiento para formalizar sus propiedades.',\n",
       " 'La desigualdad en el acceso a la educación básica y media para los niños de bajos ingresos es un factor que perpetúa la pobreza. A menudo, no tienen acceso a útiles escolares, uniformes o transporte, lo que les impide asistir a la escuela o rendir académicamente. Es fundamental que se amplíen los programas de apoyo escolar y los subsidios de transporte, garantizando el acceso a una educación de calidad para todos los niños, sin importar su condición económica.',\n",
       " 'La falta de oportunidades para las personas en situación de discapacidad en el acceso a la cultura y el arte limita su desarrollo y las condena a la exclusión. A menudo, enfrentan barreras físicas y actitudinales en los espacios culturales, y no hay programas adaptados a sus necesidades. Es fundamental que se implementen políticas de inclusión que garanticen un acceso equitativo a la cultura y el arte, adaptando los espacios y ofreciendo programas especializados.',\n",
       " 'La dependencia de los subsidios gubernamentales en algunas regiones es un reflejo de la pobreza extrema y la falta de desarrollo sostenible. Aunque son necesarios en momentos de crisis, no son una solución a largo plazo y pueden generar dependencia. Es crucial que el gobierno impulse programas de desarrollo integral en estas zonas, que generen oportunidades de empleo y emprendimiento, para que las comunidades puedan ser autosuficientes y resilientes.',\n",
       " 'La falta de acceso a servicios bancarios básicos y a la educación financiera en muchas comunidades rurales remotas es una barrera para la inclusión económica. Las personas no pueden acceder a créditos, ni realizar transacciones financieras de manera segura, lo que las obliga a depender de sistemas informales que a menudo son abusivos. Es crucial que las entidades financieras, con el apoyo del Estado, amplíen su cobertura, ofreciendo servicios adaptados a las necesidades de estas comunidades y fomentando la inclusión financiera.',\n",
       " 'La informalidad en la venta de productos agrícolas en la calle, con agricultores sin seguridad social ni acceso a mercados justos, es una preocupación. Aunque es una fuente de ingresos para muchos, los agricultores están expuestos a riesgos y abusos, y carecen de garantías. Se necesita una política pública que formalice este sector, ofreciendo capacitación, seguridad social y un marco legal que dignifique su labor y mejore sus condiciones de trabajo.',\n",
       " 'La falta de participación de los consejos comunitarios afrodescendientes en la definición de políticas de desarrollo local es un problema. A menudo, las soluciones se diseñan desde arriba, sin tener en cuenta la experiencia y el conocimiento de las comunidades que viven la pobreza a diario. Es fundamental que se creen espacios de diálogo y consulta donde los consejos comunitarios puedan expresar sus ideas y prioridades, contribuyendo activamente a la construcción de soluciones más efectivas y sostenibles.',\n",
       " 'La ausencia de un sistema de protección social que incluya un seguro de maternidad para las trabajadoras informales es una preocupación. Un embarazo puede empujar a estas familias a la pobreza extrema, ya que no tienen cómo acceder a servicios de salud prenatal ni a un ingreso mínimo durante la licencia. Es fundamental que el gobierno implemente un sistema de seguridad social flexible y asequible para las trabajadoras informales, garantizando el acceso a servicios de salud y a un ingreso básico durante la maternidad.',\n",
       " 'La dependencia de la pesca artesanal en algunas regiones, sin acceso a tecnología ni a mercados, genera un ciclo de pobreza. Los pescadores no pueden competir con la pesca industrial y sus ingresos son insuficientes para cubrir sus necesidades básicas. Es fundamental que se impulse la modernización del sector pesquero, ofreciendo asistencia técnica, acceso a tecnología y financiamiento, para que los pescadores artesanales puedan ser más productivos y competitivos.',\n",
       " 'La falta de una estrategia integral para la prevención y atención de la mendicidad infantil en comunidades vulnerables agrava la pobreza. Los niños se ven obligados a pedir limosna en las calles, abandonando la escuela y perdiendo su infancia. Es crucial que se invierta en programas de prevención, atención y protección de la infancia, garantizando el acceso a la educación y a programas de apoyo familiar que permitan a los padres generar ingresos suficientes para no depender de la mendicidad de sus hijos.',\n",
       " 'La informalidad en la venta de servicios de mensajería y domicilios, con trabajadores sin seguridad social ni condiciones laborales dignas, es una preocupación. Aunque es una fuente de empleo para muchos, están expuestos a riesgos y abusos, y carecen de garantías. Se necesita una política pública que formalice este sector, ofreciendo capacitación, seguridad social y un marco legal que proteja tanto a los trabajadores como a los usuarios, dignificando su labor y mejorando las condiciones.',\n",
       " 'La falta de acceso a servicios legales y de asesoría para la regularización de la situación migratoria en comunidades vulnerables es una barrera para el desarrollo económico. Muchos migrantes viven en la incertidumbre sobre su estatus legal, lo que les impide acceder a empleos formales o a servicios básicos. Es fundamental que se fortalezca la oferta de servicios de asistencia legal gratuita y de asesoría migratoria, garantizando que todos los ciudadanos tengan acceso a la información y el acompañamiento para regularizar su situación.',\n",
       " 'La desigualdad en el acceso a la salud preventiva y a la medicina familiar para las comunidades rurales es un factor que perpetúa la pobreza. A menudo, no tienen acceso a centros de salud cercanos, ni a profesionales que los atiendan de manera integral. Es fundamental que se amplíen los programas de atención primaria en salud y se fortalezca la presencia de médicos familiares en las zonas rurales, garantizando el acceso a una salud de calidad para todos los ciudadanos.',\n",
       " 'La falta de oportunidades para las personas en situación de calle en el acceso a la vivienda digna y a los servicios básicos las condena a la pobreza extrema. Viven en la intemperie, sin acceso a alimentos, higiene o seguridad. Es fundamental que se implementen programas de atención integral a las personas en situación de calle, que les ofrezcan un refugio seguro, alimentación, atención médica y acompañamiento psicosocial para su reintegración a la sociedad.',\n",
       " 'La dependencia de la economía de subsistencia en algunas comunidades indígenas y afrodescendientes, sin acceso a tecnología ni a mercados, genera un ciclo de pobreza. Las familias apenas producen lo suficiente para su propio consumo, y no tienen excedentes para generar ingresos. Es fundamental que se impulse la diversificación productiva, ofreciendo asistencia técnica, acceso a tecnología y financiamiento, para que las comunidades puedan generar excedentes y mejorar sus condiciones de vida.',\n",
       " 'La falta de acceso a servicios bancarios básicos y a la educación financiera en muchas comunidades indígenas es una barrera para la inclusión económica. Las personas no pueden acceder a créditos, ni realizar transacciones financieras de manera segura, lo que las obliga a depender de sistemas informales que a menudo son abusivos. Es crucial que las entidades financieras, con el apoyo del Estado, amplíen su cobertura, ofreciendo servicios adaptados a las necesidades de estas comunidades y fomentando la inclusión financiera.',\n",
       " 'La informalidad en la venta de servicios de reparación de calzado y ropa, con trabajadores sin seguridad social ni condiciones laborales dignas, es una preocupación. Aunque es una fuente de empleo para muchos, están expuestos a riesgos y abusos, y carecen de garantías. Se necesita una política pública que formalice este sector, ofreciendo capacitación, seguridad social y un marco legal que proteja tanto a los trabajadores como a los usuarios, dignificando su labor y mejorando las condiciones.',\n",
       " 'La falta de participación de las comunidades indígenas en la definición de políticas de desarrollo local es un problema. A menudo, las soluciones se diseñan desde arriba, sin tener en cuenta la experiencia y el conocimiento de las comunidades que viven la pobreza a diario. Es fundamental que se creen espacios de diálogo y consulta donde las comunidades indígenas puedan expresar sus ideas y prioridades, contribuyendo activamente a la construcción de soluciones más efectivas y sostenibles.',\n",
       " 'La ausencia de un sistema de protección social que incluya un seguro de orfandad para los hijos de trabajadores informales es una preocupación. La muerte de un padre o madre puede empujar a estas familias a la pobreza extrema, ya que no tienen cómo acceder a un ingreso mínimo. Es fundamental que el gobierno implemente un sistema de seguridad social flexible y asequible para los trabajadores informales, garantizando el acceso a un ingreso básico para los hijos en caso de orfandad.',\n",
       " 'La dependencia de la ganadería extensiva en algunas regiones, sin acceso a tecnología ni a mercados, genera un ciclo de pobreza y degradación ambiental. Los ganaderos no pueden competir con la producción industrial y sus ingresos son insuficientes para cubrir sus necesidades básicas. Es fundamental que se impulse la modernización de la ganadería, ofreciendo asistencia técnica, acceso a tecnología y financiamiento, para que los pequeños ganaderos puedan ser más productivos y sostenibles.',\n",
       " 'La falta de una estrategia integral para la prevención y atención de la trata de personas en comunidades vulnerables agrava la pobreza. Esta problemática afecta la salud, la seguridad y la autonomía de las personas, limitando sus oportunidades. Es crucial que se invierta en programas de prevención, atención y protección de las víctimas, garantizando el acceso a servicios de apoyo psicosocial y legal, y promoviendo la denuncia de estos delitos.',\n",
       " 'La informalidad en la venta de servicios de lavandería y planchado, con trabajadores sin seguridad social ni condiciones laborales dignas, es una preocupación. Aunque es una fuente de empleo para muchos, están expuestos a riesgos y abusos, y carecen de garantías. Se necesita una política pública que formalice este sector, ofreciendo capacitación, seguridad social y un marco legal que proteja tanto a los trabajadores como a los usuarios, dignificando su labor y mejorando las condiciones.',\n",
       " 'La falta de acceso a servicios legales y de asesoría para la protección de los derechos de los consumidores en comunidades vulnerables es una barrera para el desarrollo económico. Muchas personas son víctimas de abusos por parte de comerciantes o empresas, y no tienen cómo defender sus derechos. Es fundamental que se fortalezca la oferta de servicios de asistencia legal gratuita y de asesoría al consumidor, garantizando que todos los ciudadanos tengan acceso a la información y el acompañamiento para proteger sus derechos.',\n",
       " 'La desigualdad en el acceso a la nutrición y a los programas de alimentación escolar para los niños de bajos ingresos es un factor que perpetúa la pobreza. A menudo, no tienen acceso a una alimentación balanceada en sus hogares, y los programas escolares son insuficientes. Es fundamental que se amplíen los programas de alimentación escolar y se fortalezcan las campañas de educación nutricional, garantizando el acceso a una alimentación adecuada para todos los niños, sin importar su condición económica.',\n",
       " 'La falta de oportunidades para las personas en situación de discapacidad en el acceso a la participación política y ciudadana limita su desarrollo y las condena a la exclusión. A menudo, enfrentan barreras para ejercer sus derechos políticos y participar en la toma de decisiones. Es fundamental que se implementen políticas de inclusión que garanticen un acceso equitativo a la participación política y ciudadana, adaptando los procesos y ofreciendo apoyo especializado.',\n",
       " 'La dependencia de la economía del carbón en algunas regiones genera un ciclo de pobreza y degradación ambiental. Aunque ofrece empleos, no genera un desarrollo sostenible para las comunidades y deja pasivos ambientales que afectan la salud y los medios de vida. Es crucial que el gobierno impulse estrategias de diversificación económica en estas zonas, ofreciendo alternativas productivas que garanticen un futuro digno y sostenible para sus habitantes, protegiendo el medio ambiente.',\n",
       " 'La falta de acceso a servicios bancarios básicos y a la educación financiera en muchas comunidades afrodescendientes es una barrera para la inclusión económica. Las personas no pueden acceder a créditos, ni realizar transacciones financieras de manera segura, lo que las obliga a depender de sistemas informales que a menudo son abusivos. Es crucial que las entidades financieras, con el apoyo del Estado, amplíen su cobertura, ofreciendo servicios adaptados a las necesidades de estas comunidades y fomentando la inclusión financiera.',\n",
       " 'La informalidad en la venta de servicios de aseo y jardinería, con trabajadores sin seguridad social ni condiciones laborales dignas, es una preocupación. Aunque es una fuente de empleo para muchos, están expuestos a riesgos y abusos, y carecen de garantías. Se necesita una política pública que formalice este sector, ofreciendo capacitación, seguridad social y un marco legal que proteja tanto a los trabajadores como a los usuarios, dignificando su labor y mejorando las condiciones.',\n",
       " 'La falta de participación de las juntas de acción comunal en la definición de políticas de desarrollo local es un problema. A menudo, las soluciones se diseñan desde arriba, sin tener en cuenta la experiencia y el conocimiento de las comunidades que viven la pobreza a diario. Es fundamental que se creen espacios de diálogo y consulta donde las juntas de acción comunal puedan expresar sus ideas y prioridades, contribuyendo activamente a la construcción de soluciones más efectivas y sostenibles.',\n",
       " 'La ausencia de un sistema de protección social que incluya un seguro de viudez para las viudas de trabajadores informales es una preocupación. La muerte de un cónyuge puede empujar a estas familias a la pobreza extrema, ya que no tienen cómo acceder a un ingreso mínimo. Es fundamental que el gobierno implemente un sistema de seguridad social flexible y asequible para los trabajadores informales, garantizando el acceso a un ingreso básico para las viudas y sus hijos.',\n",
       " 'La dependencia de la agricultura de subsistencia en algunas regiones, sin acceso a tecnología ni a mercados, genera un ciclo de pobreza. Las familias apenas producen lo suficiente para su propio consumo, y no tienen excedentes para generar ingresos. Es fundamental que se impulse la diversificación productiva, ofreciendo asistencia técnica, acceso a tecnología y financiamiento, para que las comunidades puedan generar excedentes y mejorar sus condiciones de vida.',\n",
       " 'La falta de una estrategia integral para la prevención y atención del reclutamiento forzado de niños, niñas y adolescentes en comunidades vulnerables agrava la pobreza. Esta problemática afecta la salud, la seguridad y el desarrollo de los niños, limitando sus oportunidades. Es crucial que se invierta en programas de prevención, atención y protección de la infancia, garantizando el acceso a la educación y a programas de apoyo familiar que permitan a los padres generar ingresos suficientes.',\n",
       " 'La informalidad en la venta de servicios de seguridad privada, con trabajadores sin seguridad social ni condiciones laborales dignas, es una preocupación. Aunque es una fuente de empleo para muchos, están expuestos a riesgos y abusos, y carecen de garantías. Se necesita una política pública que formalice este sector, ofreciendo capacitación, seguridad social y un marco legal que proteja tanto a los trabajadores como a los usuarios, dignificando su labor y mejorando las condiciones.',\n",
       " 'La falta de acceso a servicios legales y de asesoría para la defensa de los derechos humanos en comunidades vulnerables es una barrera para el desarrollo económico. Muchas personas son víctimas de abusos por parte de agentes estatales o grupos armados, y no tienen cómo defender sus derechos. Es fundamental que se fortalezca la oferta de servicios de asistencia legal gratuita y de asesoría en derechos humanos, garantizando que todos los ciudadanos tengan acceso a la información y el acompañamiento para proteger sus derechos.',\n",
       " 'La desigualdad en el acceso a la vivienda digna para las comunidades indígenas y afrodescendientes es un factor que perpetúa la pobreza. A menudo, viven en condiciones precarias, sin acceso a servicios básicos y sin seguridad jurídica sobre sus propiedades. Es fundamental que se amplíen los programas de vivienda de interés social con enfoque diferencial, garantizando el acceso a una vivienda digna y segura para todas las familias, sin importar su condición étnica.',\n",
       " 'La falta de oportunidades para las personas en situación de discapacidad en el acceso a la justicia limita su desarrollo y las condena a la exclusión. A menudo, enfrentan barreras físicas y actitudinales en los juzgados, y no hay programas adaptados a sus necesidades. Es fundamental que se implementen políticas de inclusión que garanticen un acceso equitativo a la justicia, adaptando los procesos y ofreciendo apoyo especializado.',\n",
       " 'La dependencia de la economía del turismo de masas en algunas regiones genera un ciclo de pobreza y degradación ambiental. Aunque ofrece empleos, no genera un desarrollo sostenible para las comunidades y deja pasivos ambientales que afectan la salud y los medios de vida. Es crucial que el gobierno impulse estrategias de diversificación económica en estas zonas, ofreciendo alternativas productivas que garanticen un futuro digno y sostenible para sus habitantes, protegiendo el medio ambiente.',\n",
       " 'La falta de acceso a servicios bancarios básicos y a la educación financiera en muchas comunidades de población en situación de discapacidad es una barrera para la inclusión económica. Las personas no pueden acceder a créditos, ni realizar transacciones financieras de manera segura, lo que las obliga a depender de sistemas informales que a menudo son abusivos. Es crucial que las entidades financieras, con el apoyo del Estado, amplíen su cobertura, ofreciendo servicios adaptados a las necesidades de estas comunidades y fomentando la inclusión financiera.',\n",
       " 'La informalidad en la venta de servicios de mantenimiento y reparación de vehículos, con trabajadores sin seguridad social ni condiciones laborales dignas, es una preocupación. Aunque es una fuente de empleo para muchos, están expuestos a riesgos y abusos, y carecen de garantías. Se necesita una política pública que formalice este sector, ofreciendo capacitación, seguridad social y un marco legal que proteja tanto a los trabajadores como a los usuarios, dignificando su labor y mejorando las condiciones.',\n",
       " 'La falta de participación de los grupos de mujeres en la definición de políticas de desarrollo local es un problema. A menudo, las soluciones se diseñan desde arriba, sin tener en cuenta la experiencia y el conocimiento de las mujeres que viven la pobreza a diario. Es fundamental que se creen espacios de diálogo y consulta donde los grupos de mujeres puedan expresar sus ideas y prioridades, contribuyendo activamente a la construcción de soluciones más efectivas y sostenibles.',\n",
       " 'La ausencia de un sistema de protección social que incluya un seguro de desempleo para los jóvenes que terminan sus estudios es una preocupación. Muchos de ellos enfrentan dificultades para conseguir su primer empleo, lo que los empuja a la informalidad o a la migración. Es fundamental que el gobierno implemente un seguro de desempleo específico para jóvenes, que les brinde un ingreso mínimo mientras buscan su primer empleo, garantizando su estabilidad económica y su inserción laboral.',\n",
       " 'La dependencia de la economía del petróleo en algunas regiones genera un ciclo de pobreza y degradación ambiental. Aunque ofrece empleos, no genera un desarrollo sostenible para las comunidades y deja pasivos ambientales que afectan la salud y los medios de vida. Es crucial que el gobierno impulse estrategias de diversificación económica en estas zonas, ofreciendo alternativas productivas que garanticen un futuro digno y sostenible para sus habitantes, protegiendo el medio ambiente.',\n",
       " 'La falta de una estrategia integral para la prevención y atención del trabajo forzado en comunidades vulnerables agrava la pobreza. Esta problemática afecta la salud, la seguridad y la autonomía de las personas, limitando sus oportunidades. Es crucial que se invierta en programas de prevención, atención y protección de las víctimas, garantizando el acceso a servicios de apoyo psicosocial y legal, y promoviendo la denuncia de estos delitos.',\n",
       " 'La informalidad en la venta de servicios de belleza a domicilio, con trabajadores sin seguridad social ni condiciones laborales dignas, es una preocupación. Aunque es una fuente de empleo para muchos, están expuestos a riesgos y y carecen de garantías. Se necesita una política pública que formalice este sector, ofreciendo capacitación, seguridad social y un marco legal que proteja tanto a los trabajadores como a los usuarios, dignificando su labor y mejorando las condiciones.',\n",
       " 'La falta de acceso a servicios legales y de asesoría para la defensa de los derechos de los trabajadores informales en comunidades vulnerables es una barrera para el desarrollo económico. Muchas personas son víctimas de abusos laborales, y no tienen cómo defender sus derechos. Es fundamental que se fortalezca la oferta de servicios de asistencia legal gratuita y de asesoría laboral, garantizando que todos los ciudadanos tengan acceso a la información y el acompañamiento para proteger sus derechos.',\n",
       " 'La desigualdad en el acceso a la salud sexual y reproductiva para las mujeres de bajos ingresos es un factor que perpetúa la pobreza. A menudo, no tienen acceso a métodos anticonceptivos, a servicios de planificación familiar o a atención prenatal de calidad, lo que afecta su salud y su autonomía. Es fundamental que se amplíen los programas de salud sexual y reproductiva y se fortalezca la atención en las zonas vulnerables, garantizando el acceso a servicios de calidad para todas las mujeres.',\n",
       " 'La falta de oportunidades para las personas en situación de discapacidad en el acceso a la cultura y el arte limita su desarrollo y las condena a la exclusión. A menudo, enfrentan barreras físicas y actitudinales en los espacios culturales, y no hay programas adaptados a sus necesidades. Es fundamental que se implementen políticas de inclusión que garanticen un acceso equitativo a la cultura y el arte, adaptando los espacios y ofreciendo programas especializados.',\n",
       " 'La dependencia de la economía del café en algunas regiones genera un ciclo de pobreza y vulnerabilidad a las fluctuaciones del mercado. Aunque es un producto emblemático, los pequeños caficultores no siempre reciben precios justos y sus ingresos son inestables. Es crucial que el gobierno impulse estrategias de diversificación económica en estas zonas, ofreciendo alternativas productivas que garanticen un futuro digno y sostenible para sus habitantes, protegiendo el medio ambiente y la cultura cafetera.',\n",
       " 'La falta de acceso a servicios bancarios básicos y a la educación financiera en muchas comunidades de población LGTBIQ+ es una barrera para la inclusión económica. Las personas no pueden acceder a créditos, ni realizar transacciones financieras de manera segura, lo que las obliga a depender de sistemas informales que a menudo son abusivos. Es crucial que las entidades financieras, con el apoyo del Estado, amplíen su cobertura, ofreciendo servicios adaptados a las necesidades de estas comunidades y fomentando la inclusión financiera.',\n",
       " 'La informalidad en la venta de servicios de enseñanza y capacitación a domicilio, con trabajadores sin seguridad social ni condiciones laborales dignas, es una preocupación. Aunque es una fuente de empleo para muchos, están expuestos a riesgos y abusos, y carecen de garantías. Se necesita una política pública que formalice este sector, ofreciendo capacitación, seguridad social y un marco legal que proteja tanto a los trabajadores como a los usuarios, dignificando su labor y mejorando las condiciones.',\n",
       " 'La falta de participación de los jóvenes emprendedores en la definición de políticas de desarrollo local es un problema. A menudo, las soluciones se diseñan desde arriba, sin tener en cuenta la experiencia y el conocimiento de los jóvenes que buscan generar sus propios ingresos. Es fundamental que se creen espacios de diálogo y consulta donde los jóvenes emprendedores puedan expresar sus ideas y prioridades, contribuyendo activamente a la construcción de soluciones más efectivas y sostenibles.',\n",
       " 'La ausencia de un sistema de protección social que incluya un seguro de salud para las familias de los trabajadores informales es una preocupación. Una enfermedad grave de un familiar puede empujar a estas familias a la pobreza extrema, ya que no tienen cómo acceder a servicios de salud de calidad ni a medicamentos. Es fundamental que el gobierno implemente un sistema de seguridad social flexible y asequible para los trabajadores informales, garantizando el acceso a servicios de salud y medicamentos esenciales para toda la familia.',\n",
       " 'La dependencia de la economía del plátano en algunas regiones genera un ciclo de pobreza y vulnerabilidad a las fluctuaciones del mercado. Aunque es un producto importante, los pequeños platanicultores no siempre reciben precios justos y sus ingresos son inestables. Es crucial que el gobierno impulse estrategias de diversificación económica en estas zonas, ofreciendo alternativas productivas que garanticen un futuro digno y sostenible para sus habitantes, protegiendo el medio ambiente y la cultura platanera.',\n",
       " 'La falta de una estrategia integral para la prevención y atención de la mendicidad de adultos mayores en comunidades vulnerables agrava la pobreza. Los adultos mayores se ven obligados a pedir limosna en las calles, sin acceso a una pensión ni a servicios básicos. Es crucial que se invierta en programas de prevención, atención y protección de los adultos mayores, garantizando el acceso a una pensión digna y a programas de apoyo familiar que permitan a los hijos generar ingresos suficientes.',\n",
       " 'La informalidad en la venta de servicios de cuidado de niños a domicilio, con trabajadores sin seguridad social ni condiciones laborales dignas, es una preocupación. Aunque es una fuente de empleo para muchos, están expuestos a riesgos y abusos, y carecen de garantías. Se necesita una política pública que formalice este sector, ofreciendo capacitación, seguridad social y un marco legal que proteja tanto a los trabajadores como a los usuarios, dignificando su labor y mejorando las condiciones.',\n",
       " 'La falta de acceso a servicios legales y de asesoría para la defensa de los derechos de los niños, niñas y adolescentes en comunidades vulnerables es una barrera para el desarrollo económico. Muchos niños son víctimas de abusos, explotación o violencia, y no tienen cómo defender sus derechos. Es fundamental que se fortalezca la oferta de servicios de asistencia legal gratuita y de asesoría en derechos de la infancia, garantizando que todos los niños tengan acceso a la información y el acompañamiento para proteger sus derechos.',\n",
       " 'La desigualdad en el acceso a la infraestructura básica como el alumbrado público para las comunidades rurales es un factor que perpetúa la pobreza. La falta de luz en las noches afecta la seguridad, la educación y el desarrollo de las actividades productivas. Es fundamental que se amplíen los programas de electrificación rural y se fortalezca la instalación de alumbrado público en las zonas vulnerables, garantizando el acceso a una infraestructura digna para todos los ciudadanos.',\n",
       " 'La falta de oportunidades para las personas en situación de discapacidad en el acceso a la información y la comunicación limita su desarrollo y las condena a la exclusión. A menudo, enfrentan barreras para acceder a la información en formatos accesibles o a tecnologías de apoyo. Es fundamental que se implementen políticas de inclusión que garanticen un acceso equitativo a la información y la comunicación, adaptando los contenidos y ofreciendo tecnologías de apoyo.',\n",
       " 'La dependencia de la economía del banano en algunas regiones genera un ciclo de pobreza y vulnerabilidad a las fluctuaciones del mercado. Aunque es un producto importante, los pequeños bananeros no siempre reciben precios justos y sus ingresos son inestables. Es crucial que el gobierno impulse estrategias de diversificación económica en estas zonas, ofreciendo alternativas productivas que garanticen un futuro digno y sostenible para sus habitantes, protegiendo el medio ambiente y la cultura bananera.',\n",
       " 'La falta de acceso a servicios bancarios básicos y a la educación financiera en muchas comunidades de población afrodescendiente es una barrera para la inclusión económica. Las personas no pueden acceder a créditos, ni realizar transacciones financieras de manera segura, lo que las obliga a depender de sistemas informales que a menudo son abusivos. Es crucial que las entidades financieras, con el apoyo del Estado, amplíen su cobertura, ofreciendo servicios adaptados a las necesidades de estas comunidades y fomentando la inclusión financiera.',\n",
       " 'La informalidad en la venta de servicios de traducción e interpretación, con trabajadores sin seguridad social ni condiciones laborales dignas, es una preocupación. Aunque es una fuente de empleo para muchos, están expuestos a riesgos y abusos, y carecen de garantías. Se necesita una política pública que formalice este sector, ofreciendo capacitación, seguridad social y un marco legal que proteja tanto a los trabajadores como a los usuarios, dignificando su labor y mejorando las condiciones.',\n",
       " 'La falta de participación de los líderes comunitarios en la definición de políticas de desarrollo local es un problema. A menudo, las soluciones se diseñan desde arriba, sin tener en cuenta la experiencia y el conocimiento de los líderes que viven la pobreza a diario. Es fundamental que se creen espacios de diálogo y consulta donde los líderes comunitarios puedan expresar sus ideas y prioridades, contribuyendo activamente a la construcción de soluciones más efectivas y sostenibles.',\n",
       " 'La ausencia de un sistema de protección social que incluya un seguro de invalidez para las madres cabeza de familia es una preocupación. Una discapacidad puede empujar a estas familias a la pobreza extrema, ya que no tienen cómo acceder a servicios de rehabilitación ni a un ingreso mínimo. Es fundamental que el gobierno implemente un sistema de seguridad social flexible y asequible para las madres cabeza de familia, garantizando el acceso a servicios de rehabilitación y a un ingreso básico.',\n",
       " 'La dependencia de la economía del cacao en algunas regiones genera un ciclo de pobreza y vulnerabilidad a las fluctuaciones del mercado. Aunque es un producto importante, los pequeños cacaocultores no siempre reciben precios justos y sus ingresos son inestables. Es crucial que el gobierno impulse estrategias de diversificación económica en estas zonas, ofreciendo alternativas productivas que garanticen un futuro digno y sostenible para sus habitantes, protegiendo el medio ambiente y la cultura cacaotera.',\n",
       " 'La falta de una estrategia integral para la prevención y atención de la explotación sexual comercial de adultos en comunidades vulnerables agrava la pobreza. Esta problemática afecta la salud, la seguridad y la autonomía de las personas, limitando sus oportunidades. Es crucial que se invierta en programas de prevención, atención y protección de las víctimas, garantizando el acceso a servicios de apoyo psicosocial y legal, y promoviendo la denuncia de estos delitos.',\n",
       " 'La informalidad en la venta de servicios de fotografía y video, con trabajadores sin seguridad social ni condiciones laborales dignas, es una preocupación. Aunque es una fuente de empleo para muchos, están expuestos a riesgos y abusos, y carecen de garantías. Se necesita una política pública que formalice este sector, ofreciendo capacitación, seguridad social y un marco legal que proteja tanto a los trabajadores como a los usuarios, dignificando su labor y mejorando las condiciones.',\n",
       " 'La falta de acceso a servicios legales y de asesoría para la defensa de los derechos de los pueblos indígenas en comunidades vulnerables es una barrera para el desarrollo económico. Muchos pueblos indígenas son víctimas de despojo de tierras, discriminación o violencia, y no tienen cómo defender sus derechos. Es fundamental que se fortalezca la oferta de servicios de asistencia legal gratuita y de asesoría en derechos indígenas, garantizando que todos los pueblos indígenas tengan acceso a la información y el acompañamiento para proteger sus derechos.',\n",
       " 'La desigualdad en el acceso a la infraestructura básica como el alcantarillado para las comunidades rurales es un factor que perpetúa la pobreza. La falta de saneamiento básico afecta la salud, el medio ambiente y el desarrollo de las actividades productivas. Es fundamental que se amplíen los programas de saneamiento rural y se fortalezca la instalación de alcantarillado en las zonas vulnerables, garantizando el acceso a una infraestructura digna para todos los ciudadanos.',\n",
       " 'La falta de oportunidades para las personas en situación de discapacidad en el acceso a la vivienda digna limita su desarrollo y las condena a la exclusión. A menudo, enfrentan barreras físicas en las viviendas o no tienen acceso a programas de vivienda adaptados a sus necesidades. Es fundamental que se implementen políticas de inclusión que garanticen un acceso equitativo a la vivienda digna, adaptando las infraestructuras y ofreciendo programas especializados.',\n",
       " 'La dependencia de la economía del aguacate en algunas regiones genera un ciclo de pobreza y vulnerabilidad a las fluctuaciones del mercado. Aunque es un producto importante, los pequeños aguacateros no siempre reciben precios justos y sus ingresos son inestables. Es crucial que el gobierno impulse estrategias de diversificación económica en estas zonas, ofreciendo alternativas productivas que garanticen un futuro digno y sostenible para sus habitantes, protegiendo el medio ambiente y la cultura aguacatera.',\n",
       " 'La falta de acceso a servicios bancarios básicos y a la educación financiera en muchas comunidades de población rural es una barrera para la inclusión económica. Las personas no pueden acceder a créditos, ni realizar transacciones financieras de manera segura, lo que las obliga a depender de sistemas informales que a menudo son abusivos. Es crucial que las entidades financieras, con el apoyo del Estado, amplíen su cobertura, ofreciendo servicios adaptados a las necesidades de estas comunidades y fomentando la inclusión financiera.',\n",
       " 'La informalidad en la venta de servicios de diseño gráfico y web, con trabajadores sin seguridad social ni condiciones laborales dignas, es una preocupación. Aunque es una fuente de empleo para muchos, están expuestos a riesgos y abusos, y carecen de garantías. Se necesita una política pública que formalice este sector, ofreciendo capacitación, seguridad social y un marco legal que proteja tanto a los trabajadores como a los usuarios, dignificando su labor y mejorando las condiciones.',\n",
       " 'La falta de participación de las organizaciones de jóvenes en la definición de políticas de desarrollo local es un problema. A menudo, las soluciones se diseñan desde arriba, sin tener en cuenta la experiencia y el conocimiento de los jóvenes que viven la pobreza a diario. Es fundamental que se creen espacios de diálogo y consulta donde las organizaciones de jóvenes puedan expresar sus ideas y prioridades, contribuyendo activamente a la construcción de soluciones más efectivas y sostenibles.',\n",
       " 'La ausencia de un sistema de protección social que incluya un seguro de desempleo para las mujeres jóvenes es una preocupación. Muchas de ellas enfrentan dificultades para conseguir su primer empleo, lo que las empuja a la informalidad o a la migración. Es fundamental que el gobierno implemente un seguro de desempleo específico para mujeres jóvenes, que les brinde un ingreso mínimo mientras buscan su primer empleo, garantizando su estabilidad económica y su inserción laboral.',\n",
       " 'La dependencia de la economía del azúcar en algunas regiones genera un ciclo de pobreza y vulnerabilidad a las fluctuaciones del mercado. Aunque es un producto importante, los pequeños cañicultores no siempre reciben precios justos y sus ingresos son inestables. Es crucial que el gobierno impulse estrategias de diversificación económica en estas zonas, ofreciendo alternativas productivas que garanticen un futuro digno y sostenible para sus habitantes, protegiendo el medio ambiente y la cultura cañera.',\n",
       " 'La falta de una estrategia integral para la prevención y atención del embarazo infantil en comunidades vulnerables agrava la pobreza. Las niñas se ven obligadas a asumir responsabilidades adultas, abandonando la escuela y perdiendo su infancia. Es crucial que se invierta en programas de prevención, atención y protección de la infancia, garantizando el acceso a la educación y a programas de apoyo familiar que permitan a las niñas continuar sus estudios y desarrollarse plenamente.',\n",
       " 'La informalidad en la venta de servicios de contabilidad y asesoría tributaria, con trabajadores sin seguridad social ni condiciones laborales dignas, es una preocupación. Aunque es una fuente de empleo para muchos, están expuestos a riesgos y abusos, y carecen de garantías. Se necesita una política pública que formalice este sector, ofreciendo capacitación, seguridad social y un marco legal que proteja tanto a los trabajadores como a los usuarios, dignificando su labor y mejorando las condiciones.',\n",
       " 'La falta de acceso a servicios legales y de asesoría para la defensa de los derechos de los adultos mayores en comunidades vulnerables es una barrera para el desarrollo económico. Muchos adultos mayores son víctimas de abusos, abandono o discriminación, y no tienen cómo defender sus derechos. Es fundamental que se fortalezca la oferta de servicios de asistencia legal gratuita y de asesoría en derechos de los adultos mayores, garantizando que todos los adultos mayores tengan acceso a la información y el acompañamiento para proteger sus derechos.',\n",
       " 'La desigualdad en el acceso a la infraestructura básica como el agua potable para las comunidades indígenas es un factor que perpetúa la pobreza. La falta de agua segura afecta la salud, la higiene y el desarrollo de las actividades productivas. Es fundamental que se amplíen los programas de agua potable con enfoque diferencial y se fortalezca la instalación de acueductos en las zonas vulnerables, garantizando el acceso a una infraestructura digna para todos los ciudadanos.',\n",
       " 'La falta de oportunidades para las personas en situación de discapacidad en el acceso a la recreación y el deporte limita su desarrollo y las condena a la exclusión. A menudo, enfrentan barreras físicas y actitudinales en los espacios públicos, y no hay programas adaptados a sus necesidades. Es fundamental que se implementen políticas de inclusión que garanticen un acceso equitativo a la recreación y el deporte, adaptando los espacios y ofreciendo programas especializados.',\n",
       " 'La dependencia de la economía del arroz en algunas regiones genera un ciclo de pobreza y vulnerabilidad a las fluctuaciones del mercado. Aunque es un producto importante, los pequeños arroceros no siempre reciben precios justos y sus ingresos son inestables. Es crucial que el gobierno impulse estrategias de diversificación económica en estas zonas, ofreciendo alternativas productivas que garanticen un futuro digno y sostenible para sus habitantes, protegiendo el medio ambiente y la cultura arrocera.',\n",
       " 'La falta de acceso a servicios bancarios básicos y a la educación financiera en muchas comunidades de población indígena es una barrera para la inclusión económica. Las personas no pueden acceder a créditos, ni realizar transacciones financieras de manera segura, lo que las obliga a depender de sistemas informales que a menudo son abusivos. Es crucial que las entidades financieras, con el apoyo del Estado, amplíen su cobertura, ofreciendo servicios adaptados a las necesidades de estas comunidades y fomentando la inclusión financiera.',\n",
       " 'La informalidad en la venta de servicios de marketing digital y redes sociales, con trabajadores sin seguridad social ni condiciones laborales dignas, es una preocupación. Aunque es una fuente de empleo para muchos, están expuestos a riesgos y abusos, y carecen de garantías. Se necesita una política pública que formalice este sector, ofreciendo capacitación, seguridad social y un marco legal que proteja tanto a los trabajadores como a los usuarios, dignificando su labor y mejorando las condiciones.',\n",
       " 'La falta de participación de los grupos de adultos mayores en la definición de políticas de desarrollo local es un problema. A menudo, las soluciones se diseñan desde arriba, sin tener en cuenta la experiencia y el conocimiento de los adultos mayores que viven la pobreza a diario. Es fundamental que se creen espacios de diálogo y consulta donde los grupos de adultos mayores puedan expresar sus ideas y prioridades, contribuyendo activamente a la construcción de soluciones más efectivas y sostenibles.',\n",
       " 'La ausencia de un sistema de protección social que incluya un seguro de desempleo para los trabajadores migrantes es una preocupación. Muchos de ellos enfrentan dificultades para conseguir empleo, lo que los empuja a la informalidad o a la indigencia. Es fundamental que el gobierno implemente un seguro de desempleo específico para trabajadores migrantes, que les brinde un ingreso mínimo mientras buscan empleo, garantizando su estabilidad económica y su inserción laboral.',\n",
       " 'La dependencia de la economía de la papa en algunas regiones genera un ciclo de pobreza y vulnerabilidad a las fluctuaciones del mercado. Aunque es un producto importante, los pequeños paperos no siempre reciben precios justos y sus ingresos son inestables. Es crucial que el gobierno impulse estrategias de diversificación económica en estas zonas, ofreciendo alternativas productivas que garanticen un futuro digno y sostenible para sus habitantes, protegiendo el medio ambiente y la cultura papera.',\n",
       " 'La falta de una estrategia integral para la prevención y atención de la violencia intrafamiliar en comunidades vulnerables agrava la pobreza. Esta problemática afecta la salud, la seguridad y la autonomía de las personas, limitando sus oportunidades. Es crucial que se invierta en programas de prevención, atención y empoderamiento de las víctimas, garantizando el acceso a servicios de apoyo psicosocial y legal, y promoviendo la denuncia de estos delitos.',\n",
       " 'La informalidad en la venta de servicios de traducción e interpretación, con trabajadores sin seguridad social ni condiciones laborales dignas, es una preocupación. Aunque es una fuente de empleo para muchos, están expuestos a riesgos y abusos, y carecen de garantías. Se necesita una política pública que formalice este sector, ofreciendo capacitación, seguridad social y un marco legal que proteja tanto a los trabajadores como a los usuarios, dignificando su labor y mejorando las condiciones.',\n",
       " 'La falta de acceso a servicios legales y de asesoría para la defensa de los derechos de las mujeres en comunidades vulnerables es una barrera para el desarrollo económico. Muchas mujeres son víctimas de violencia de género, discriminación o abusos, y no tienen cómo defender sus derechos. Es fundamental que se fortalezca la oferta de servicios de asistencia legal gratuita y de asesoría en derechos de las mujeres, garantizando que todas las mujeres tengan acceso a la información y el acompañamiento para proteger sus derechos.',\n",
       " 'La desigualdad en el acceso a la infraestructura básica como la energía eléctrica para las comunidades indígenas es un factor que perpetúa la pobreza. La falta de luz en las noches afecta la seguridad, la educación y el desarrollo de las actividades productivas. Es fundamental que se amplíen los programas de electrificación rural con enfoque diferencial y se fortalezca la instalación de alumbrado público en las zonas vulnerables, garantizando el acceso a una infraestructura digna para todos los ciudadanos.',\n",
       " 'La falta de oportunidades para las personas en situación de discapacidad en el acceso a la participación política y ciudadana limita su desarrollo y las condena a la exclusión. A menudo, enfrentan barreras para ejercer sus derechos políticos y participar en la toma de decisiones. Es fundamental que se implementen políticas de inclusión que garanticen un acceso equitativo a la participación política y ciudadana, adaptando los procesos y ofreciendo apoyo especializado.',\n",
       " 'La dependencia de la economía del maíz en algunas regiones genera un ciclo de pobreza y vulnerabilidad a las fluctuaciones del mercado. Aunque es un producto importante, los pequeños maiceros no siempre reciben precios justos y sus ingresos son inestables. Es crucial que el gobierno impulse estrategias de diversificación económica en estas zonas, ofreciendo alternativas productivas que garanticen un futuro digno y sostenible para sus habitantes, protegiendo el medio ambiente y la cultura maicera.',\n",
       " 'La falta de acceso a servicios bancarios básicos y a la educación financiera en muchas comunidades de población LGTBIQ+ es una barrera para la inclusión económica. Las personas no pueden acceder a créditos, ni realizar transacciones financieras de manera segura, lo que las obliga a depender de sistemas informales que a menudo son abusivos. Es crucial que las entidades financieras, con el apoyo del Estado, amplíen su cobertura, ofreciendo servicios adaptados a las necesidades de estas comunidades y fomentando la inclusión financiera.',\n",
       " 'La informalidad en la venta de servicios de cuidado de personas mayores a domicilio, con trabajadores sin seguridad social ni condiciones laborales dignas, es una preocupación. Aunque es una fuente de empleo para muchos, están expuestos a riesgos y abusos, y carecen de garantías. Se necesita una política pública que formalice este sector, ofreciendo capacitación, seguridad social y un marco legal que proteja tanto a los trabajadores como a los usuarios, dignificando su labor y mejorando las condiciones.',\n",
       " 'La falta de participación de los grupos de mujeres indígenas en la definición de políticas de desarrollo local es un problema. A menudo, las soluciones se diseñan desde arriba, sin tener en cuenta la experiencia y el conocimiento de las mujeres indígenas que viven la pobreza a diario. Es fundamental que se creen espacios de diálogo y consulta donde los grupos de mujeres indígenas puedan expresar sus ideas y prioridades, contribuyendo activamente a la construcción de soluciones más efectivas y sostenibles.',\n",
       " 'La ausencia de un sistema de protección social que incluya un seguro de orfandad para los hijos de madres cabeza de familia es una preocupación. La muerte de una madre puede empujar a estas familias a la pobreza extrema, ya que no tienen cómo acceder a un ingreso mínimo. Es fundamental que el gobierno implemente un sistema de seguridad social flexible y asequible para las madres cabeza de familia, garantizando el acceso a un ingreso básico para los hijos en caso de orfandad.',\n",
       " 'La dependencia de la economía del frijol en algunas regiones genera un ciclo de pobreza y vulnerabilidad a las fluctuaciones del mercado. Aunque es un producto importante, los pequeños frijoleros no siempre reciben precios justos y sus ingresos son inestables. Es crucial que el gobierno impulse estrategias de diversificación económica en estas zonas, ofreciendo alternativas productivas que garanticen un futuro digno y sostenible para sus habitantes, protegiendo el medio ambiente y la cultura frijolera.',\n",
       " 'La falta de una estrategia integral para la prevención y atención de la violencia escolar en comunidades vulnerables agrava la pobreza. Esta problemática afecta el desarrollo de los niños y jóvenes, limitando sus oportunidades educativas y laborales. Es crucial que se invierta en programas de prevención, atención y mediación de la violencia escolar, garantizando el acceso a servicios de apoyo psicosocial y legal, y promoviendo la convivencia pacífica en las escuelas.',\n",
       " 'La informalidad en la venta de servicios de coaching y consultoría, con trabajadores sin seguridad social ni condiciones laborales dignas, es una preocupación. Aunque es una fuente de empleo para muchos, están expuestos a riesgos y abusos, y carecen de garantías. Se necesita una política pública que formalice este sector, ofreciendo capacitación, seguridad social y un marco legal que proteja tanto a los trabajadores como a los usuarios, dignificando su labor y mejorando las condiciones.',\n",
       " 'La falta de acceso a servicios legales y de asesoría para la defensa de los derechos de los trabajadores migrantes en comunidades vulnerables es una barrera para el desarrollo económico. Muchos trabajadores migrantes son víctimas de abusos laborales, discriminación o explotación, y no tienen cómo defender sus derechos. Es fundamental que se fortalezca la oferta de servicios de asistencia legal gratuita y de asesoría laboral, garantizando que todos los trabajadores migrantes tengan acceso a la información y el acompañamiento para proteger sus derechos.',\n",
       " 'La desigualdad en el acceso a la infraestructura básica como el transporte público para las comunidades rurales es un factor que perpetúa la pobreza. La falta de rutas adecuadas o el alto costo del pasaje limitan el acceso al trabajo, la educación y los servicios de salud. Es fundamental que se amplíen los programas de transporte público rural y se fortalezca la infraestructura vial en las zonas vulnerables, garantizando el acceso a una infraestructura digna para todos los ciudadanos.',\n",
       " 'La falta de oportunidades para las personas en situación de discapacidad en el acceso a la información y la comunicación limita su desarrollo y las condena a la exclusión. A menudo, enfrentan barreras para acceder a la información en formatos accesibles o a tecnologías de apoyo. Es fundamental que se implementen políticas de inclusión que garanticen un acceso equitativo a la información y la comunicación, adaptando los contenidos y ofreciendo tecnologías de apoyo.',\n",
       " 'La dependencia de la economía del cacao en algunas regiones genera un ciclo de pobreza y vulnerabilidad a las fluctuaciones del mercado. Aunque es un producto importante, los pequeños cacaocultores no siempre reciben precios justos y sus ingresos son inestables. Es crucial que el gobierno impulse estrategias de diversificación económica en estas zonas, ofreciendo alternativas productivas que garanticen un futuro digno y sostenible para sus habitantes, protegiendo el medio ambiente y la cultura cacaotera.',\n",
       " 'La falta de acceso a servicios bancarios básicos y a la educación financiera en muchas comunidades de población rural es una barrera para la inclusión económica. Las personas no pueden acceder a créditos, ni realizar transacciones financieras de manera segura, lo que las obliga a depender de sistemas informales que a menudo son abusivos. Es crucial que las entidades financieras, con el apoyo del Estado, amplíen su cobertura, ofreciendo servicios adaptados a las necesidades de estas comunidades y fomentando la inclusión financiera.',\n",
       " 'La informalidad en la venta de servicios de diseño gráfico y web, con trabajadores sin seguridad social ni condiciones laborales dignas, es una preocupación. Aunque es una fuente de empleo para muchos, están expuestos a riesgos y abusos, y carecen de garantías. Se necesita una política pública que formalice este sector, ofreciendo capacitación, seguridad social y un marco legal que proteja tanto a los trabajadores como a los usuarios, dignificando su labor y mejorando las condiciones.',\n",
       " 'La falta de participación de las organizaciones de jóvenes en la definición de políticas de desarrollo local es un problema. A menudo, las soluciones se diseñan desde arriba, sin tener en cuenta la experiencia y el conocimiento de los jóvenes que viven la pobreza a diario. Es fundamental que se creen espacios de diálogo y consulta donde las organizaciones de jóvenes puedan expresar sus ideas y prioridades, contribuyendo activamente a la construcción de soluciones más efectivas y sostenibles.',\n",
       " 'La ausencia de un sistema de protección social que incluya un seguro de desempleo para las mujeres jóvenes es una preocupación. Muchas de ellas enfrentan dificultades para conseguir su primer empleo, lo que las empuja a la informalidad o a la migración. Es fundamental que el gobierno implemente un seguro de desempleo específico para mujeres jóvenes, que les brinde un ingreso mínimo mientras buscan su primer empleo, garantizando su estabilidad económica y su inserción laboral.',\n",
       " 'La dependencia de la economía del café en algunas regiones genera un ciclo de pobreza y vulnerabilidad a las fluctuaciones del mercado. Aunque es un producto emblemático, los pequeños caficultores no siempre reciben precios justos y sus ingresos son inestables. Es crucial que el gobierno impulse estrategias de diversificación económica en estas zonas, ofreciendo alternativas productivas que garanticen un futuro digno y sostenible para sus habitantes, protegiendo el medio ambiente y la cultura cafetera.',\n",
       " 'La falta de una estrategia integral para la prevención y atención del embarazo infantil en comunidades vulnerables agrava la pobreza. Las niñas se ven obligadas a asumir responsabilidades adultas, abandonando la escuela y perdiendo su infancia. Es crucial que se invierta en programas de prevención, atención y protección de la infancia, garantizando el acceso a la educación y a programas de apoyo familiar que permitan a las niñas continuar sus estudios y desarrollarse plenamente.',\n",
       " 'La informalidad en la venta de servicios de contabilidad y asesoría tributaria, con trabajadores sin seguridad social ni condiciones laborales dignas, es una preocupación. Aunque es una fuente de empleo para muchos, están expuestos a riesgos y abusos, y carecen de garantías. Se necesita una política pública que formalice este sector, ofreciendo capacitación, seguridad social y un marco legal que proteja tanto a los trabajadores como a los usuarios, dignificando su labor y mejorando las condiciones.',\n",
       " 'La falta de acceso a servicios legales y de asesoría para la defensa de los derechos de los adultos mayores en comunidades vulnerables es una barrera para el desarrollo económico. Muchos adultos mayores son víctimas de abusos, abandono o discriminación, y no tienen cómo defender sus derechos. Es fundamental que se fortalezca la oferta de servicios de asistencia legal gratuita y de asesoría en derechos de los adultos mayores, garantizando que todos los adultos mayores tengan acceso a la información y el acompañamiento para proteger sus derechos.',\n",
       " 'La desigualdad en el acceso a la infraestructura básica como el agua potable para las comunidades indígenas es un factor que perpetúa la pobreza. La falta de agua segura afecta la salud, la higiene y el desarrollo de las actividades productivas. Es fundamental que se amplíen los programas de agua potable con enfoque diferencial y se fortalezca la instalación de acueductos en las zonas vulnerables, garantizando el acceso a una infraestructura digna para todos los ciudadanos.',\n",
       " 'La falta de oportunidades para las personas en situación de discapacidad en el acceso a la recreación y el deporte limita su desarrollo y las condena a la exclusión. A menudo, enfrentan barreras físicas y actitudinales en los espacios públicos, y no hay programas adaptados a sus necesidades. Es fundamental que se implementen políticas de inclusión que garanticen un acceso equitativo a la recreación y el deporte, adaptando los espacios y ofreciendo programas especializados.',\n",
       " 'La dependencia de la economía del arroz en algunas regiones genera un ciclo de pobreza y vulnerabilidad a las fluctuaciones del mercado. Aunque es un producto importante, los pequeños arroceros no siempre reciben precios justos y sus ingresos son inestables. Es crucial que el gobierno impulse estrategias de diversificación económica en estas zonas, ofreciendo alternativas productivas que garanticen un futuro digno y sostenible para sus habitantes, protegiendo el medio ambiente y la cultura arrocera.',\n",
       " 'La falta de acceso a servicios bancarios básicos y a la educación financiera en muchas comunidades de población indígena es una barrera para la inclusión económica. Las personas no pueden acceder a créditos, ni realizar transacciones financieras de manera segura, lo que las obliga a depender de sistemas informales que a menudo son abusivos. Es crucial que las entidades financieras, con el apoyo del Estado, amplíen su cobertura, ofreciendo servicios adaptados a las necesidades de estas comunidades y fomentando la inclusión financiera.',\n",
       " 'La informalidad en la venta de servicios de marketing digital y redes sociales, con trabajadores sin seguridad social ni condiciones laborales dignas, es una preocupación. Aunque es una fuente de empleo para muchos, están expuestos a riesgos y abusos, y carecen de garantías. Se necesita una política pública que formalice este sector, ofreciendo capacitación, seguridad social y un marco legal que proteja tanto a los trabajadores como a los usuarios, dignificando su labor y mejorando las condiciones.',\n",
       " 'La falta de participación de los grupos de adultos mayores en la definición de políticas de desarrollo local es un problema. A menudo, las soluciones se diseñan desde arriba, sin tener en cuenta la experiencia y el conocimiento de los adultos mayores que viven la pobreza a diario. Es fundamental que se creen espacios de diálogo y consulta donde los grupos de adultos mayores puedan expresar sus ideas y prioridades, contribuyendo activamente a la construcción de soluciones más efectivas y sostenibles.',\n",
       " 'La ausencia de un sistema de protección social que incluya un seguro de desempleo para los trabajadores migrantes es una preocupación. Muchos de ellos enfrentan dificultades para conseguir empleo, lo que los empuja a la informalidad o a la indigencia. Es fundamental que el gobierno implemente un seguro de desempleo específico para trabajadores migrantes, que les brinde un ingreso mínimo mientras buscan empleo, garantizando su estabilidad económica y su inserción laboral.',\n",
       " 'La dependencia de la economía de la papa en algunas regiones genera un ciclo de pobreza y vulnerabilidad a las fluctuaciones del mercado. Aunque es un producto importante, los pequeños paperos no siempre reciben precios justos y sus ingresos son inestables. Es crucial que el gobierno impulse estrategias de diversificación económica en estas zonas, ofreciendo alternativas productivas que garanticen un futuro digno y sostenible para sus habitantes, protegiendo el medio ambiente y la cultura papera.',\n",
       " 'La falta de una estrategia integral para la prevención y atención de la violencia intrafamiliar en comunidades vulnerables agrava la pobreza. Esta problemática afecta la salud, la seguridad y la autonomía de las personas, limitando sus oportunidades. Es crucial que se invierta en programas de prevención, atención y empoderamiento de las víctimas, garantizando el acceso a servicios de apoyo psicosocial y legal, y promoviendo la denuncia de estos delitos.',\n",
       " 'La informalidad en la venta de servicios de traducción e interpretación, con trabajadores sin seguridad social ni condiciones laborales dignas, es una preocupación. Aunque es una fuente de empleo para muchos, están expuestos a riesgos y abusos, y carecen de garantías. Se necesita una política pública que formalice este sector, ofreciendo capacitación, seguridad social y un marco legal que proteja tanto a los trabajadores como a los usuarios, dignificando su labor y mejorando las condiciones.',\n",
       " 'La falta de acceso a servicios legales y de asesoría para la defensa de los derechos de las mujeres en comunidades vulnerables es una barrera para el desarrollo económico. Muchas mujeres son víctimas de violencia de género, discriminación o abusos, y no tienen cómo defender sus derechos. Es fundamental que se fortalezca la oferta de servicios de asistencia legal gratuita y de asesoría en derechos de las mujeres, garantizando que todas las mujeres tengan acceso a la información y el acompañamiento para proteger sus derechos.',\n",
       " 'La desigualdad en el acceso a la infraestructura básica como la energía eléctrica para las comunidades indígenas es un factor que perpetúa la pobreza. La falta de luz en las noches afecta la seguridad, la educación y el desarrollo de las actividades productivas. Es fundamental que se amplíen los programas de electrificación rural con enfoque diferencial y se fortalezca la instalación de alumbrado público en las zonas vulnerables, garantizando el acceso a una infraestructura digna para todos los ciudadanos.',\n",
       " 'La falta de oportunidades para las personas en situación de discapacidad en el acceso a la participación política y ciudadana limita su desarrollo y las condena a la exclusión. A menudo, enfrentan barreras para ejercer sus derechos políticos y participar en la toma de decisiones. Es fundamental que se implementen políticas de inclusión que garanticen un acceso equitativo a la participación política y ciudadana, adaptando los procesos y ofreciendo apoyo especializado.',\n",
       " 'La dependencia de la economía del maíz en algunas regiones genera un ciclo de pobreza y vulnerabilidad a las fluctuaciones del mercado. Aunque es un producto importante, los pequeños maiceros no siempre reciben precios justos y sus ingresos son inestables. Es crucial que el gobierno impulse estrategias de diversificación económica en estas zonas, ofreciendo alternativas productivas que garanticen un futuro digno y sostenible para sus habitantes, protegiendo el medio ambiente y la cultura maicera.',\n",
       " 'La falta de acceso a servicios bancarios básicos y a la educación financiera en muchas comunidades de población LGTBIQ+ es una barrera para la inclusión económica. Las personas no pueden acceder a créditos, ni realizar transacciones financieras de manera segura, lo que las obliga a depender de sistemas informales que a menudo son abusivos. Es crucial que las entidades financieras, con el apoyo del Estado, amplíen su cobertura, ofreciendo servicios adaptados a las necesidades de estas comunidades y fomentando la inclusión financiera.',\n",
       " 'La informalidad en la venta de servicios de cuidado de personas mayores a domicilio, con trabajadores sin seguridad social ni condiciones laborales dignas, es una preocupación. Aunque es una fuente de empleo para muchos, están expuestos a riesgos y abusos, y carecen de garantías. Se necesita una política pública que formalice este sector, ofreciendo capacitación, seguridad social y un marco legal que proteja tanto a los trabajadores como a los usuarios, dignificando su labor y mejorando las condiciones.',\n",
       " 'La falta de participación de los grupos de mujeres indígenas en la definición de políticas de desarrollo local es un problema. A menudo, las soluciones se diseñan desde arriba, sin tener en cuenta la experiencia y el conocimiento de las mujeres indígenas que viven la pobreza a diario. Es fundamental que se creen espacios de diálogo y consulta donde los grupos de mujeres indígenas puedan expresar sus ideas y prioridades, contribuyendo activamente a la construcción de soluciones más efectivas y sostenibles.',\n",
       " 'La ausencia de un sistema de protección social que incluya un seguro de orfandad para los hijos de madres cabeza de familia es una preocupación. La muerte de una madre puede empujar a estas familias a la pobreza extrema, ya que no tienen cómo acceder a un ingreso mínimo. Es fundamental que el gobierno implemente un sistema de seguridad social flexible y asequible para las madres cabeza de familia, garantizando el acceso a un ingreso básico para los hijos en caso de orfandad.',\n",
       " 'La dependencia de la economía del frijol en algunas regiones genera un ciclo de pobreza y vulnerabilidad a las fluctuaciones del mercado. Aunque es un producto importante, los pequeños frijoleros no siempre reciben precios justos y sus ingresos son inestables. Es crucial que el gobierno impulse estrategias de diversificación económica en estas zonas, ofreciendo alternativas productivas que garanticen un futuro digno y sostenible para sus habitantes, protegiendo el medio ambiente y la cultura frijolera.',\n",
       " 'La falta de una estrategia integral para la prevención y atención de la violencia escolar en comunidades vulnerables agrava la pobreza. Esta problemática afecta el desarrollo de los niños y jóvenes, limitando sus oportunidades educativas y laborales. Es crucial que se invierta en programas de prevención, atención y mediación de la violencia escolar, garantizando el acceso a servicios de apoyo psicosocial y legal, y promoviendo la convivencia pacífica en las escuelas.',\n",
       " 'La informalidad en la venta de servicios de coaching y consultoría, con trabajadores sin seguridad social ni condiciones laborales dignas, es una preocupación. Aunque es una fuente de empleo para muchos, están expuestos a riesgos y abusos, y carecen de garantías. Se necesita una política pública que formalice este sector, ofreciendo capacitación, seguridad social y un marco legal que proteja tanto a los trabajadores como a los usuarios, dignificando su labor y mejorando las condiciones.',\n",
       " 'La falta de acceso a servicios legales y de asesoría para la defensa de los derechos de los trabajadores migrantes en comunidades vulnerables es una barrera para el desarrollo económico. Muchos trabajadores migrantes son víctimas de abusos laborales, discriminación o explotación, y no tienen cómo defender sus derechos. Es fundamental que se fortalezca la oferta de servicios de asistencia legal gratuita y de asesoría laboral, garantizando que todos los trabajadores migrantes tengan acceso a la información y el acompañamiento para proteger sus derechos.',\n",
       " 'La desigualdad en el acceso a la infraestructura básica como el transporte público para las comunidades rurales es un factor que perpetúa la pobreza. La falta de rutas adecuadas o el alto costo del pasaje limitan el acceso al trabajo, la educación y los servicios de salud. Es fundamental que se amplíen los programas de transporte público rural y se fortalezca la infraestructura vial en las zonas vulnerables, garantizando el acceso a una infraestructura digna para todos los ciudadanos.',\n",
       " 'La falta de oportunidades para las personas en situación de discapacidad en el acceso a la información y la comunicación limita su desarrollo y las condena a la exclusión. A menudo, enfrentan barreras para acceder a la información en formatos accesibles o a tecnologías de apoyo. Es fundamental que se implementen políticas de inclusión que garanticen un acceso equitativo a la información y la comunicación, adaptando los contenidos y ofreciendo tecnologías de apoyo.',\n",
       " 'La dependencia de la economía del cacao en algunas regiones genera un ciclo de pobreza y vulnerabilidad a las fluctuaciones del mercado. Aunque es un producto importante, los pequeños cacaocultores no siempre reciben precios justos y sus ingresos son inestables. Es crucial que el gobierno impulse estrategias de diversificación económica en estas zonas, ofreciendo alternativas productivas que garanticen un futuro digno y sostenible para sus habitantes, protegiendo el medio ambiente y la cultura cacaotera.']"
      ]
     },
     "execution_count": 91,
     "metadata": {},
     "output_type": "execute_result"
    }
   ],
   "source": [
    "clean_s = re.sub(r\"^```json\\s*|\\s*```$\", \"\", response4.text.strip())\n",
    "lista3 = json.loads(clean_s)\n",
    "lista3"
   ]
  },
  {
   "cell_type": "code",
   "execution_count": 92,
   "id": "80685d65",
   "metadata": {},
   "outputs": [
    {
     "data": {
      "application/vnd.microsoft.datawrangler.viewer.v0+json": {
       "columns": [
        {
         "name": "index",
         "rawType": "int64",
         "type": "integer"
        },
        {
         "name": "textos",
         "rawType": "object",
         "type": "string"
        },
        {
         "name": "labels",
         "rawType": "int64",
         "type": "integer"
        }
       ],
       "ref": "9c86b504-624b-46c6-9e82-b8b2d6ca6bbc",
       "rows": [
        [
         "0",
         "En mi vereda, la falta de oportunidades laborales dignas es un desafío constante. Muchos jóvenes terminan el colegio y no encuentran cómo seguir adelante, lo que los empuja a buscar el sustento en actividades informales que no garantizan estabilidad ni un futuro prometedor. Es fundamental que las autoridades locales y nacionales trabajen en conjunto para atraer inversión y generar empleos formales en nuestras comunidades rurales. La gente quiere trabajar, pero necesita las condiciones para hacerlo de manera decente y segura.",
         "1"
        ],
        [
         "1",
         "La situación de los pequeños agricultores en nuestra región es preocupante. Los precios de los insumos están por las nubes, y cuando llega el momento de vender nuestros productos, los intermediarios se llevan la mayor parte de las ganancias. Esto nos deja con muy poco margen para vivir y reinvertir en nuestras tierras. Necesitamos un apoyo más decidido del gobierno para asegurar precios justos para nuestros cultivos y facilitar el acceso a mercados directos, eliminando la cadena de intermediarios que nos explota.",
         "1"
        ],
        [
         "2",
         "En el barrio donde vivo, la pobreza se ve reflejada en la precariedad de las viviendas y la falta de servicios básicos. Muchas familias viven en condiciones insalubres, sin acceso a agua potable constante ni a un sistema de alcantarillado adecuado. Esto no solo afecta la dignidad de las personas, sino también su salud y bienestar. Es urgente que las administraciones municipales inviertan en infraestructura para garantizar condiciones de vida dignas para todos los ciudadanos, sin importar su estrato socioeconómico.",
         "1"
        ],
        [
         "3",
         "La informalidad laboral es un problema enorme en nuestra ciudad. Demasiadas personas, especialmente mujeres cabeza de familia, subsisten con trabajos esporádicos que no ofrecen seguridad social ni prestaciones. Esto las deja en una situación de vulnerabilidad extrema ante cualquier enfermedad o emergencia. Se necesita una política pública que fomente la formalización de estas actividades, brindando capacitación, acompañamiento y facilidades para que los emprendimientos informales puedan crecer y ofrecer condiciones dignas a sus trabajadores.",
         "1"
        ],
        [
         "4",
         "La falta de acceso a créditos blandos para pequeños emprendedores es una barrera significativa para salir de la pobreza. Muchas personas tienen ideas innovadoras y el deseo de crear su propio negocio, pero no tienen el capital inicial ni la posibilidad de acceder a préstamos bancarios por los altos requisitos y las tasas de interés. Es fundamental que las entidades financieras, con el apoyo del Estado, diseñen líneas de crédito específicas para la población vulnerable, con requisitos flexibles y tasas accesibles, para impulsar la economía local y la generación de empleo.",
         "1"
        ],
        [
         "5",
         "En algunas zonas rurales, la carencia de vías de acceso adecuadas dificulta el transporte de productos agrícolas y el acceso a servicios esenciales. Esto aísla a las comunidades y perpetúa la pobreza. Los campesinos no pueden sacar sus cosechas a los mercados urbanos de manera eficiente, lo que reduce sus ingresos y aumenta las pérdidas. Es imperativo que el gobierno invierta en la mejora de la infraestructura vial, priorizando estas zonas olvidadas, para integrar a estas comunidades a la economía nacional.",
         "1"
        ],
        [
         "6",
         "La situación de los adultos mayores en condiciones de pobreza es desgarradora. Muchos de ellos no tienen una pensión y dependen de la caridad o de la ayuda de sus hijos, quienes a menudo también luchan por sobrevivir. Se necesita ampliar la cobertura de programas de asistencia social para esta población vulnerable, garantizando un ingreso mínimo que les permita vivir con dignidad y acceder a servicios básicos como la salud. No podemos olvidar a quienes han construido nuestro país.",
         "1"
        ],
        [
         "7",
         "La desigualdad en el acceso a la tecnología es otro factor que profundiza la brecha de la pobreza. Mientras en las ciudades la conectividad es una realidad, en muchas zonas rurales el internet es un lujo inalcanzable. Esto limita el acceso a la información, la educación y las oportunidades laborales, dejando a estas comunidades rezagadas. Es crucial que se impulsen programas de conectividad universal, subsidiando el acceso a internet y dispositivos tecnológicos para las familias de bajos recursos.",
         "1"
        ],
        [
         "8",
         "La falta de un sistema de protección social robusto deja a muchas familias en la indigencia ante cualquier eventualidad. Una enfermedad grave, un despido inesperado o un desastre natural pueden empujar a la pobreza extrema a quienes ya viven al límite. Se necesita fortalecer y ampliar la cobertura de los programas de seguridad social, incluyendo seguros de desempleo y subsidios para la salud, para ofrecer una red de contención que proteja a los ciudadanos de las calamidades económicas.",
         "1"
        ],
        [
         "9",
         "La discriminación y la exclusión social son barreras invisibles pero muy reales que impiden a muchas personas salir de la pobreza. Grupos étnicos, personas con discapacidad o migrantes a menudo enfrentan dificultades adicionales para acceder a un empleo digno o a servicios básicos. Es fundamental que se implementen políticas de inclusión que garanticen la igualdad de oportunidades para todos, combatiendo los prejuicios y promoviendo el respeto a la diversidad en todos los ámbitos de la sociedad.",
         "1"
        ],
        [
         "10",
         "En mi municipio, la falta de vivienda digna es una preocupación constante. Muchas familias viven en asentamientos informales, expuestas a riesgos naturales y sin seguridad jurídica sobre sus propiedades. Es vital que las autoridades municipales diseñen programas de vivienda de interés social que sean accesibles para la población de bajos ingresos, ofreciendo soluciones habitacionales seguras y con todos los servicios básicos. Una vivienda digna es el pilar para el desarrollo de cualquier familia.",
         "1"
        ],
        [
         "11",
         "Los altos costos de los servicios públicos son una carga insostenible para las familias más vulnerables. Las facturas de luz, agua y gas consumen una parte significativa de sus ya escasos ingresos, obligándolos a elegir entre pagar los servicios o comprar alimentos. Se necesita una revisión de las tarifas y la implementación de subsidios más equitativos que realmente beneficien a quienes más lo necesitan, garantizando el acceso a estos servicios esenciales sin comprometer la seguridad alimentaria.",
         "1"
        ],
        [
         "12",
         "La desnutrición infantil sigue siendo una triste realidad en algunas comunidades, especialmente en zonas apartadas. La falta de acceso a alimentos nutritivos y asequibles afecta el desarrollo físico y cognitivo de nuestros niños, hipotecando su futuro. Es urgente que se fortalezcan los programas de seguridad alimentaria, con énfasis en la distribución de alimentos fortificados y el fomento de prácticas de agricultura sostenible a pequeña escala para asegurar la disponibilidad de alimentos frescos y saludables.",
         "1"
        ],
        [
         "13",
         "La violencia y la inseguridad en algunos barrios empujan a las familias a la pobreza. El miedo constante y la presencia de grupos al margen de la ley limitan las oportunidades de trabajo, el acceso a la educación y la inversión en la comunidad. Se necesita una estrategia integral de seguridad que no solo se enfoque en la represión, sino también en la inversión social, la generación de oportunidades y la reconstrucción del tejido social para devolver la tranquilidad y el progreso a estas zonas.",
         "1"
        ],
        [
         "14",
         "La falta de capacitación laboral pertinente es un obstáculo para que muchas personas accedan a empleos mejor remunerados. La oferta educativa no siempre se alinea con las demandas del mercado laboral, dejando a muchos jóvenes sin las habilidades necesarias para competir. Es crucial que se establezcan programas de formación técnica y tecnológica, en alianza con el sector productivo, que respondan a las necesidades actuales y futuras de la economía, facilitando la inserción laboral y el desarrollo de carreras.",
         "1"
        ],
        [
         "15",
         "La burocracia excesiva y la corrupción en algunas instituciones públicas dificultan el acceso de la población vulnerable a los programas de asistencia social. Los trámites son complejos, y a menudo se exige documentación que las personas no tienen, o se desvían los recursos que deberían llegar a quienes más lo necesitan. Se requiere una simplificación de los procesos y una mayor transparencia en la gestión de los recursos públicos, garantizando que la ayuda llegue de manera eficiente a sus beneficiarios.",
         "1"
        ],
        [
         "16",
         "El cambio climático está afectando duramente a nuestras comunidades rurales, especialmente a los agricultores de bajos recursos. Las sequías prolongadas o las inundaciones repentinas destruyen cosechas y ganado, empujando a las familias a la pobreza extrema. Es vital que el gobierno implemente programas de adaptación al cambio climático, ofreciendo apoyo técnico, semillas resistentes y seguros agrícolas asequibles para proteger los medios de vida de estas poblaciones vulnerables.",
         "1"
        ],
        [
         "17",
         "La falta de participación ciudadana en la toma de decisiones sobre políticas de desarrollo local es un problema. A menudo, las soluciones se diseñan desde los escritorios sin tener en cuenta las necesidades y realidades de la gente que vive la pobreza a diario. Es fundamental que se creen espacios de diálogo y consulta donde las comunidades puedan expresar sus ideas y prioridades, contribuyendo activamente a la construcción de soluciones más efectivas y sostenibles para combatir la pobreza.",
         "1"
        ],
        [
         "18",
         "La migración interna, impulsada por la falta de oportunidades en las zonas rurales, está generando cinturones de miseria en las grandes ciudades. Las personas llegan buscando un futuro mejor, pero a menudo se encuentran con la informalidad, la precariedad y la exclusión. Es necesario un enfoque integral que impulse el desarrollo rural, generando oportunidades en origen, y al mismo tiempo, que las ciudades preparen sus infraestructuras y servicios para acoger dignamente a los migrantes.",
         "1"
        ],
        [
         "19",
         "La explotación laboral, especialmente en sectores informales o en trabajos agrícolas, es una realidad que perpetúa la pobreza. Muchos trabajadores son sometidos a jornadas extenuantes por salarios ínfimos, sin ningún tipo de protección social. Es fundamental que las autoridades laborales fortalezcan la inspección y el control, sancionando a los empleadores abusivos y garantizando el cumplimiento de los derechos laborales para todos los trabajadores, sin excepción.",
         "1"
        ],
        [
         "20",
         "En mi comunidad, la falta de acceso a tierras productivas es una barrera para el desarrollo económico de muchas familias campesinas. Las tierras están concentradas en pocas manos, o son de difícil acceso para quienes quieren cultivarlas. Se necesita una política de acceso a la tierra más equitativa, que impulse la formalización de la propiedad y facilite el arrendamiento o la compra de terrenos para pequeños agricultores, promoviendo la producción local y la seguridad alimentaria.",
         "1"
        ],
        [
         "21",
         "La inequidad en la distribución de los recursos públicos es evidente en nuestro municipio. Mientras algunas zonas reciben inversiones significativas, otras, donde reside la población más vulnerable, son sistemáticamente olvidadas. Esto perpetúa la brecha de la pobreza y genera resentimiento. Es crucial que se implementen criterios de equidad y transparencia en la asignación del presupuesto, priorizando las necesidades de las comunidades más desfavorecidas para garantizar un desarrollo equilibrado.",
         "1"
        ],
        [
         "22",
         "La falta de un sistema de transporte público eficiente y asequible afecta el acceso al trabajo y a los servicios básicos de las personas de bajos recursos. Los costos de transporte pueden ser prohibitivos, o las rutas no cubren sus necesidades, limitando sus oportunidades. Es fundamental que las administraciones municipales inviertan en la mejora y expansión del transporte público, garantizando que sea accesible en términos de costo y cobertura para todos los ciudadanos.",
         "1"
        ],
        [
         "23",
         "La dependencia de las ayudas estatales, aunque necesarias en momentos de crisis, no es una solución sostenible para la pobreza a largo plazo. Se necesita una estrategia que vaya más allá de los subsidios, enfocándose en la generación de oportunidades y la autonomía económica de las familias. Es crucial que los programas de asistencia social estén articulados con iniciativas de capacitación, emprendimiento y acceso al empleo para romper el círculo de la dependencia.",
         "1"
        ],
        [
         "24",
         "La falta de oportunidades para las mujeres rurales es un factor clave en la perpetuación de la pobreza en estas zonas. A menudo, las mujeres tienen un rol central en el hogar y en la producción agrícola, pero no tienen acceso a la tierra, al crédito o a la capacitación. Es fundamental que se impulsen programas específicos para el empoderamiento económico de las mujeres rurales, reconociendo su invaluable contribución y brindándoles las herramientas para su desarrollo.",
         "1"
        ],
        [
         "25",
         "La ausencia de servicios bancarios en muchas zonas rurales es una barrera para el desarrollo económico. Las personas no pueden acceder a créditos, ni realizar transacciones financieras de manera segura, lo que las obliga a depender de sistemas informales que a menudo son abusivos. Se necesita que las entidades financieras, con el apoyo del Estado, amplíen su cobertura, ofreciendo servicios adaptados a las necesidades de estas comunidades y fomentando la inclusión financiera.",
         "1"
        ],
        [
         "26",
         "La persistencia del trabajo infantil en algunas regiones es una manifestación dolorosa de la pobreza extrema. Los niños se ven obligados a trabajar para contribuir al sustento familiar, abandonando la escuela y perdiendo su infancia. Es fundamental que se fortalezcan las políticas de protección a la infancia, garantizando el acceso a la educación y a programas de apoyo familiar que permitan a los padres generar ingresos suficientes para no depender del trabajo de sus hijos.",
         "1"
        ],
        [
         "27",
         "La falta de una pensión digna para muchos trabajadores informales es una preocupación creciente. Después de una vida de esfuerzo, estas personas llegan a la vejez sin un sustento económico, lo que los condena a la pobreza. Se necesita una reforma del sistema pensional que contemple la realidad de la informalidad laboral, diseñando mecanismos que permitan a estos trabajadores cotizar de manera flexible y asegurar una vejez digna, sin caer en la miseria.",
         "1"
        ],
        [
         "28",
         "La informalidad en la tenencia de la tierra en algunas zonas rurales genera inseguridad y limita las inversiones. Los campesinos no tienen certeza sobre sus propiedades, lo que les impide acceder a créditos o planificar a largo plazo. Es fundamental que se impulse un proceso de formalización de la propiedad de la tierra, brindando seguridad jurídica a los pequeños propietarios y facilitando el acceso a instrumentos financieros que les permitan desarrollar sus proyectos productivos.",
         "1"
        ],
        [
         "29",
         "La falta de oportunidades para los jóvenes en zonas vulnerables los empuja a la delincuencia y a la marginalidad. Sin acceso a educación de calidad ni a empleos dignos, muchos ven en las actividades ilícitas una salida a su situación de pobreza. Es crucial que se invierta en programas de prevención del delito, que ofrezcan alternativas de vida a los jóvenes, a través de la formación, el empleo y el fomento del deporte y la cultura como herramientas de transformación social.",
         "1"
        ],
        [
         "30",
         "La brecha salarial entre hombres y mujeres sigue siendo una realidad en muchos sectores, lo que profundiza la pobreza de los hogares encabezados por mujeres. A igual trabajo, las mujeres a menudo reciben un salario menor, lo que limita su capacidad de ahorro y su autonomía económica. Es fundamental que se implementen políticas que garanticen la igualdad salarial y promuevan la equidad de género en el ámbito laboral, reconociendo el valor del trabajo de las mujeres.",
         "1"
        ],
        [
         "31",
         "La falta de infraestructura básica en algunos barrios urbanos es un claro reflejo de la pobreza. Calles sin pavimentar, alumbrado público deficiente y ausencia de parques o espacios de recreación afectan la calidad de vida de los residentes. Es vital que las administraciones municipales inviertan en la mejora de estos servicios, transformando estos barrios en lugares dignos para vivir y fomentando el desarrollo social y económico de sus habitantes.",
         "1"
        ],
        [
         "32",
         "Los altos costos de la canasta básica familiar son un desafío para las familias de bajos ingresos. El dinero no alcanza para cubrir las necesidades alimentarias, lo que se traduce en desnutrición y problemas de salud. Es fundamental que se implementen políticas para controlar la inflación y estabilizar los precios de los alimentos, así como programas de subsidios o transferencias monetarias condicionadas que garanticen la seguridad alimentaria de la población más vulnerable.",
         "1"
        ],
        [
         "33",
         "La falta de acceso a servicios de salud mental es una problemática que afecta especialmente a las poblaciones en situación de pobreza. El estrés, la ansiedad y la depresión son comunes en estas comunidades, pero no hay recursos ni profesionales disponibles para atender estas necesidades. Es crucial que se integre la salud mental en la oferta de servicios de salud pública, garantizando el acceso a terapias y acompañamiento para quienes lo necesitan, sin estigmatización.",
         "1"
        ],
        [
         "34",
         "La economía informal, aunque permite la subsistencia de muchas familias, carece de protecciones y estabilidad. Los trabajadores no tienen seguridad social, vacaciones pagas ni un salario mínimo garantizado, lo que los deja en una situación de vulnerabilidad constante. Se necesita una política pública que fomente la formalización de estos negocios, ofreciendo incentivos, capacitación y un marco legal que proteja los derechos de los trabajadores informales.",
         "1"
        ],
        [
         "35",
         "La falta de acceso a la justicia para las personas de bajos recursos es una barrera para salir de la pobreza. A menudo, no pueden pagar un abogado o desconocen sus derechos, lo que los deja desprotegidos ante abusos o injusticias. Es fundamental que se fortalezca la oferta de servicios de asistencia legal gratuita, garantizando que todos los ciudadanos, sin importar su condición económica, tengan acceso a una justicia pronta y efectiva.",
         "1"
        ],
        [
         "36",
         "La inseguridad alimentaria en las ciudades es una preocupación creciente. Muchas familias no tienen acceso regular a alimentos frescos y nutritivos, dependiendo de la caridad o de alimentos procesados de bajo costo pero poco saludables. Se necesita impulsar programas de huertas urbanas, mercados campesinos y bancos de alimentos, así como subsidios para la compra de alimentos, para garantizar la seguridad alimentaria en los entornos urbanos y combatir la desnutrición.",
         "1"
        ],
        [
         "37",
         "La falta de redes de apoyo social y comunitario debilita la capacidad de las comunidades para enfrentar la pobreza. El individualismo y la desconfianza impiden la colaboración y la construcción de soluciones colectivas. Es fundamental que se promuevan iniciativas que fortalezcan el tejido social, fomentando la solidaridad, la participación ciudadana y la creación de espacios de encuentro y cooperación para construir comunidades más resilientes y unidas.",
         "1"
        ],
        [
         "38",
         "La falta de inversión en proyectos productivos en zonas rurales empobrecidas es una oportunidad perdida. Con el potencial agrícola y turístico de muchas regiones, se podrían generar empleos y riqueza si hubiera un apoyo decidido del gobierno y del sector privado. Es crucial que se diseñen estrategias de desarrollo territorial que identifiquen y potencien las vocaciones productivas de cada región, ofreciendo asistencia técnica, financiamiento y acceso a mercados para impulsar la economía local.",
         "1"
        ],
        [
         "39",
         "Los altos índices de embarazo adolescente en algunas comunidades son un factor que perpetúa la pobreza. Las jóvenes madres a menudo abandonan sus estudios y tienen dificultades para acceder a un empleo digno, lo que limita sus oportunidades y las de sus hijos. Es fundamental que se fortalezcan los programas de educación sexual y reproductiva, así como el acceso a métodos anticonceptivos, y se brinde apoyo integral a las madres adolescentes para que puedan continuar sus estudios y desarrollar su potencial.",
         "1"
        ],
        [
         "40",
         "La falta de acceso a servicios financieros básicos como cuentas de ahorro o microcréditos es una barrera para la inclusión económica de las poblaciones vulnerables. Esto limita su capacidad de ahorro, inversión y manejo de sus finanzas, manteniéndolos en la informalidad. Es crucial que las entidades financieras, con el apoyo del Estado, diseñen productos y servicios adaptados a las necesidades de estas poblaciones, promoviendo la educación financiera y la bancarización.",
         "1"
        ],
        [
         "41",
         "La precariedad en el acceso a la energía eléctrica en algunas zonas rurales y urbanas marginales es un problema grave. Muchas familias carecen de este servicio básico, lo que afecta su calidad de vida, su seguridad y sus oportunidades de desarrollo. Es fundamental que el gobierno impulse programas de electrificación rural y de mejora de la infraestructura eléctrica en barrios vulnerables, garantizando un acceso equitativo y asequible a la energía para todos los ciudadanos.",
         "1"
        ],
        [
         "42",
         "La falta de oportunidades para las personas con discapacidad en el mercado laboral las condena a la pobreza y a la dependencia. A menudo, enfrentan barreras físicas, actitudinales y de acceso a la capacitación, lo que les impide desarrollar su potencial. Es fundamental que se implementen políticas de inclusión laboral que garanticen un acceso equitativo a empleos dignos, adaptando los puestos de trabajo y promoviendo la sensibilización en las empresas.",
         "1"
        ],
        [
         "43",
         "La deforestación y la degradación ambiental en algunas regiones afectan los medios de vida de las comunidades que dependen de los recursos naturales. La pérdida de bosques y la contaminación del agua disminuyen la productividad agrícola y pesquera, empujando a las familias a la pobreza. Es crucial que se fortalezcan las políticas de protección ambiental, fomentando prácticas sostenibles y apoyando a las comunidades en la conservación de sus ecosistemas y recursos naturales.",
         "1"
        ],
        [
         "44",
         "La falta de acceso a agua potable y saneamiento básico en muchas comunidades rurales es una preocupación constante. Las personas se ven obligadas a consumir agua no tratada, lo que genera enfermedades y afecta su salud y productividad. Es fundamental que el gobierno invierta en infraestructura hídrica, construyendo acueductos y sistemas de saneamiento, y garantizando el acceso a agua segura y de calidad para todas las poblaciones, sin excepción.",
         "1"
        ],
        [
         "45",
         "La informalidad en la recolección de residuos y el reciclaje es una fuente de ingresos para muchas familias vulnerables, pero a menudo se realiza en condiciones precarias e insalubres. Estos trabajadores no tienen seguridad social ni equipos de protección, lo que pone en riesgo su salud. Es crucial que se implementen programas de formalización de los recicladores, dignificando su labor, ofreciéndoles capacitación y garantizando sus derechos laborales y su seguridad.",
         "1"
        ],
        [
         "46",
         "La falta de acceso a la justicia para las víctimas de violencia de género, especialmente en zonas rurales, perpetúa la impunidad y la vulnerabilidad de las mujeres. A menudo, no hay dónde denunciar, o los procesos son lentos y revictimizantes, lo que las deja desprotegidas. Es fundamental que se fortalezcan los mecanismos de denuncia y atención a las víctimas, garantizando un acceso rápido y seguro a la justicia y a los servicios de apoyo psicosocial.",
         "1"
        ],
        [
         "47",
         "La dependencia económica de un solo cultivo en algunas regiones agrícolas las hace vulnerables a las fluctuaciones del mercado y a los fenómenos climáticos, lo que empuja a los agricultores a la pobreza. Es fundamental que se impulse la diversificación productiva, fomentando la siembra de diferentes cultivos y la integración de actividades agroindustriales, para reducir los riesgos y generar ingresos más estables para las familias campesinas.",
         "1"
        ],
        [
         "48",
         "La falta de acceso a tierras productivas para las comunidades indígenas y afrodescendientes es una causa histórica de pobreza y exclusión. Sus territorios ancestrales han sido despojados o degradados, lo que limita sus medios de vida y su desarrollo cultural. Es fundamental que se implementen políticas de restitución de tierras y de titulación colectiva, garantizando el respeto a sus derechos territoriales y el apoyo a sus planes de vida y desarrollo sostenible.",
         "1"
        ],
        [
         "49",
         "La ausencia de oportunidades para la población joven en zonas urbanas marginales es un caldo de cultivo para la violencia y la delincuencia. Sin acceso a educación, empleo o espacios de recreación, muchos jóvenes caen en la desesperanza y son reclutados por grupos delictivos. Es crucial que se invierta en programas de prevención de la violencia, que ofrezcan alternativas de vida a los jóvenes, a través de la formación, el empleo y el fomento de actividades culturales y deportivas.",
         "1"
        ]
       ],
       "shape": {
        "columns": 2,
        "rows": 252
       }
      },
      "text/html": [
       "<div>\n",
       "<style scoped>\n",
       "    .dataframe tbody tr th:only-of-type {\n",
       "        vertical-align: middle;\n",
       "    }\n",
       "\n",
       "    .dataframe tbody tr th {\n",
       "        vertical-align: top;\n",
       "    }\n",
       "\n",
       "    .dataframe thead th {\n",
       "        text-align: right;\n",
       "    }\n",
       "</style>\n",
       "<table border=\"1\" class=\"dataframe\">\n",
       "  <thead>\n",
       "    <tr style=\"text-align: right;\">\n",
       "      <th></th>\n",
       "      <th>textos</th>\n",
       "      <th>labels</th>\n",
       "    </tr>\n",
       "  </thead>\n",
       "  <tbody>\n",
       "    <tr>\n",
       "      <th>0</th>\n",
       "      <td>En mi vereda, la falta de oportunidades labora...</td>\n",
       "      <td>1</td>\n",
       "    </tr>\n",
       "    <tr>\n",
       "      <th>1</th>\n",
       "      <td>La situación de los pequeños agricultores en n...</td>\n",
       "      <td>1</td>\n",
       "    </tr>\n",
       "    <tr>\n",
       "      <th>2</th>\n",
       "      <td>En el barrio donde vivo, la pobreza se ve refl...</td>\n",
       "      <td>1</td>\n",
       "    </tr>\n",
       "    <tr>\n",
       "      <th>3</th>\n",
       "      <td>La informalidad laboral es un problema enorme ...</td>\n",
       "      <td>1</td>\n",
       "    </tr>\n",
       "    <tr>\n",
       "      <th>4</th>\n",
       "      <td>La falta de acceso a créditos blandos para peq...</td>\n",
       "      <td>1</td>\n",
       "    </tr>\n",
       "    <tr>\n",
       "      <th>...</th>\n",
       "      <td>...</td>\n",
       "      <td>...</td>\n",
       "    </tr>\n",
       "    <tr>\n",
       "      <th>247</th>\n",
       "      <td>La informalidad en la venta de servicios de co...</td>\n",
       "      <td>1</td>\n",
       "    </tr>\n",
       "    <tr>\n",
       "      <th>248</th>\n",
       "      <td>La falta de acceso a servicios legales y de as...</td>\n",
       "      <td>1</td>\n",
       "    </tr>\n",
       "    <tr>\n",
       "      <th>249</th>\n",
       "      <td>La desigualdad en el acceso a la infraestructu...</td>\n",
       "      <td>1</td>\n",
       "    </tr>\n",
       "    <tr>\n",
       "      <th>250</th>\n",
       "      <td>La falta de oportunidades para las personas en...</td>\n",
       "      <td>1</td>\n",
       "    </tr>\n",
       "    <tr>\n",
       "      <th>251</th>\n",
       "      <td>La dependencia de la economía del cacao en alg...</td>\n",
       "      <td>1</td>\n",
       "    </tr>\n",
       "  </tbody>\n",
       "</table>\n",
       "<p>252 rows × 2 columns</p>\n",
       "</div>"
      ],
      "text/plain": [
       "                                                textos  labels\n",
       "0    En mi vereda, la falta de oportunidades labora...       1\n",
       "1    La situación de los pequeños agricultores en n...       1\n",
       "2    En el barrio donde vivo, la pobreza se ve refl...       1\n",
       "3    La informalidad laboral es un problema enorme ...       1\n",
       "4    La falta de acceso a créditos blandos para peq...       1\n",
       "..                                                 ...     ...\n",
       "247  La informalidad en la venta de servicios de co...       1\n",
       "248  La falta de acceso a servicios legales y de as...       1\n",
       "249  La desigualdad en el acceso a la infraestructu...       1\n",
       "250  La falta de oportunidades para las personas en...       1\n",
       "251  La dependencia de la economía del cacao en alg...       1\n",
       "\n",
       "[252 rows x 2 columns]"
      ]
     },
     "execution_count": 92,
     "metadata": {},
     "output_type": "execute_result"
    }
   ],
   "source": [
    "df_generated3 = pd.DataFrame({\n",
    "    \"textos\": lista3,\n",
    "    \"labels\": 1  # valor fijo para toda la columna\n",
    "})\n",
    "df_generated3"
   ]
  },
  {
   "cell_type": "code",
   "execution_count": 113,
   "id": "96cbd908",
   "metadata": {},
   "outputs": [
    {
     "data": {
      "application/vnd.microsoft.datawrangler.viewer.v0+json": {
       "columns": [
        {
         "name": "index",
         "rawType": "int64",
         "type": "integer"
        },
        {
         "name": "textos",
         "rawType": "object",
         "type": "string"
        },
        {
         "name": "labels",
         "rawType": "int64",
         "type": "integer"
        }
       ],
       "ref": "eaf81d8f-2aa7-4ea2-b610-f89cae6d502e",
       "rows": [
        [
         "0",
         "Es preocupante ver cómo en nuestra vereda, la falta de oportunidades de empleo digno obliga a muchas familias a vivir con lo mínimo, sin acceso a servicios básicos. Las autoridades locales deben implementar programas que impulsen la economía rural y generen ingresos estables para los campesinos. La situación actual es insostenible y afecta directamente la calidad de vida de nuestros vecinos, perpetuando un ciclo de pobreza que parece no tener fin.",
         "1"
        ],
        [
         "1",
         "La informalidad laboral en mi barrio es rampante y deja a muchísimas personas sin seguridad social ni ingresos fijos, lo que agrava la pobreza. Es urgente que el gobierno municipal cree incentivos para la formalización y brinde apoyo a pequeños emprendedores. La falta de acceso a un empleo estable es una barrera enorme para salir adelante y construir un futuro digno para nuestras familias.",
         "1"
        ],
        [
         "2",
         "En el centro de la ciudad, hay demasiada gente viviendo en situación de calle, lo cual refleja una profunda desigualdad y falta de redes de apoyo. La alcaldía debería fortalecer los programas de atención integral a esta población, ofreciéndoles vivienda, alimentación y oportunidades de reintegración social. No podemos ignorar esta realidad que afecta la dignidad humana y el tejido social de nuestra comunidad.",
         "1"
        ],
        [
         "3",
         "Las madres cabeza de hogar en nuestra comuna luchan a diario para alimentar a sus hijos con salarios muy bajos o trabajos intermitentes, evidenciando una pobreza multidimensional. Necesitamos políticas públicas que les den prioridad en acceso a subsidios y capacitación laboral para que puedan mejorar sus ingresos. Es fundamental reconocer y apoyar el esfuerzo de estas mujeres que son el pilar de sus familias.",
         "1"
        ],
        [
         "4",
         "La falta de acceso a créditos blandos para pequeños agricultores en mi región limita su capacidad de inversión y los mantiene en la pobreza. El Banco Agrario y otras entidades deberían simplificar los trámites y ofrecer tasas de interés más justas. Un apoyo financiero adecuado podría transformar la productividad del campo y mejorar significativamente la calidad de vida de nuestros campesinos.",
         "1"
        ],
        [
         "5",
         "Observo con tristeza cómo la escasez de alimentos nutritivos a precios asequibles en los barrios más vulnerables de la capital afecta la salud de los niños. Es crucial que el gobierno local y las organizaciones implementen programas de seguridad alimentaria y huertas comunitarias. La malnutrición infantil es un problema grave que hipoteca el futuro de nuestra sociedad y debe ser abordado con urgencia.",
         "1"
        ],
        [
         "6",
         "La ausencia de infraestructura básica como agua potable y saneamiento en muchas zonas rurales profundiza la pobreza y la desigualdad. Es responsabilidad de las empresas de servicios públicos y el gobierno departamental llevar estas soluciones a todas las comunidades. Sin estos servicios esenciales, es imposible garantizar una vida digna y un desarrollo sostenible para nuestros campesinos.",
         "1"
        ],
        [
         "7",
         "El costo elevado del transporte público impacta severamente el presupuesto de las familias de bajos ingresos, quienes deben destinar gran parte de su sueldo a movilizarse. La administración municipal debería subsidiar una parte del pasaje o buscar alternativas más económicas. Esta carga económica dificulta el acceso a oportunidades laborales y educativas, perpetuando la pobreza en nuestros hogares.",
         "1"
        ],
        [
         "8",
         "La escasa oferta de vivienda digna y asequible obliga a muchas familias a vivir en condiciones precarias y hacinamiento en las periferias de la ciudad. El gobierno nacional y las constructoras deben priorizar proyectos de interés social con facilidades de pago. Es un derecho fundamental tener un techo seguro y adecuado, y la falta de este derecho condena a la pobreza a miles de ciudadanos.",
         "1"
        ],
        [
         "9",
         "La falta de oportunidades para los jóvenes en mi pueblo, especialmente los que no tienen acceso a educación superior, los condena a la pobreza y al desempleo. Las entidades educativas y el Sena deberían ampliar su oferta de programas técnicos y de formación para el trabajo. Invertir en la juventud es invertir en el futuro de nuestra comunidad y romper el ciclo de la pobreza.",
         "1"
        ],
        [
         "10",
         "La desigualdad en el acceso a la tierra en zonas rurales concentra la riqueza en pocas manos y empobrece a los pequeños productores. Es fundamental que las autoridades agrarias implementen políticas de reforma agraria y titulación de tierras. Una distribución más equitativa de la tierra permitiría a más familias campesinas generar ingresos y vivir dignamente de su trabajo.",
         "1"
        ],
        [
         "11",
         "La burocracia excesiva para acceder a programas sociales y subsidios desanima a las personas más necesitadas, quienes terminan sin recibir el apoyo vital. El Departamento de Prosperidad Social y las alcaldías deben simplificar los trámites y hacerlos más accesibles. La eficiencia en la entrega de estos apoyos es crucial para combatir la pobreza y llegar a quienes realmente lo necesitan.",
         "1"
        ],
        [
         "12",
         "La falta de acceso a servicios financieros inclusivos, como microcréditos para emprendedores, impide el crecimiento de pequeños negocios en mi comuna. Las cooperativas y bancos deberían ofrecer productos adaptados a las necesidades de esta población. Un mayor acceso a capital semilla podría transformar la economía local y sacar a muchas familias de la pobreza.",
         "1"
        ],
        [
         "13",
         "La discriminación laboral por edad o género es una barrera para la inclusión de grupos vulnerables, manteniéndolos en la pobreza. Las empresas y el Ministerio del Trabajo deben promover políticas de equidad y diversidad. Es inaceptable que el talento y la experiencia de muchas personas sean ignorados por prejuicios, lo cual agrava la pobreza en nuestra sociedad.",
         "1"
        ],
        [
         "14",
         "Los desastres naturales recurrentes en nuestra región, como las inundaciones, destruyen cultivos y viviendas, sumiendo a las comunidades rurales en la pobreza. Es urgente que la Unidad Nacional para la Gestión del Riesgo implemente planes de prevención y reconstrucción efectivos. La resiliencia de nuestras comunidades depende de un apoyo oportuno y sostenible para recuperarse de estas tragedias.",
         "1"
        ],
        [
         "15",
         "La ausencia de un salario mínimo vital que realmente cubra las necesidades básicas de una familia es un factor determinante de la pobreza en Colombia. El gobierno y los gremios deben revisar y ajustar este valor de manera justa y periódica. Es imperativo que el trabajo digno se traduzca en una vida digna para todos los ciudadanos.",
         "1"
        ],
        [
         "16",
         "La explotación laboral en algunos sectores informales, con jornadas extensas y pagos ínfimos, es una forma de esclavitud moderna que perpetúa la pobreza. El Ministerio del Trabajo y los sindicatos deben intensificar las inspecciones y sanciones. No podemos permitir que la necesidad de las personas sea aprovechada para su detrimento y para mantenerlos en la miseria.",
         "1"
        ],
        [
         "17",
         "La falta de programas de educación financiera para la población de bajos ingresos los hace vulnerables a deudas y estafas, profundizando su pobreza. Las entidades bancarias y el gobierno deberían ofrecer capacitaciones gratuitas y accesibles. Aprender a administrar el dinero es una herramienta poderosa para mejorar la calidad de vida y evitar caer en trampas financieras.",
         "1"
        ],
        [
         "18",
         "El abandono estatal de las comunidades indígenas y afrodescendientes en mi departamento se traduce en pobreza extrema y falta de oportunidades. El gobierno nacional debe cumplir sus compromisos de inversión y garantizar sus derechos ancestrales. Estas comunidades, ricas en cultura y conocimiento, merecen vivir con dignidad y acceder a los mismos servicios que el resto del país.",
         "1"
        ],
        [
         "19",
         "La corrupción en la administración de recursos públicos destinados a programas sociales desvía fondos que podrían aliviar la pobreza. La Contraloría y la Fiscalía deben ser más rigurosas en la vigilancia y sanción de estos actos. Cada peso robado es un golpe directo a las esperanzas de las personas más necesitadas y perpetúa la desigualdad.",
         "1"
        ],
        [
         "20",
         "La dificultad para acceder a un sistema de pensiones digno deja a muchos adultos mayores en la pobreza y la desprotección. Colpensiones y el gobierno deben buscar soluciones para ampliar la cobertura y garantizar una vejez tranquila. Nuestros mayores han trabajado toda su vida y merecen un retiro con dignidad, sin preocupaciones económicas.",
         "1"
        ],
        [
         "21",
         "La falta de oportunidades para personas con discapacidad los excluye del mercado laboral y los condena a la pobreza. Las empresas y el Estado deben implementar políticas de inclusión laboral y adaptación de espacios. Es un deber de la sociedad garantizar que todas las personas, sin importar sus capacidades, tengan la oportunidad de ser productivas y autónomas.",
         "1"
        ],
        [
         "22",
         "Los altos costos de los medicamentos y tratamientos médicos son una causa de empobrecimiento para muchas familias que enfrentan enfermedades crónicas. El Ministerio de Salud y las EPS deben asegurar el acceso a medicinas esenciales y reducir sus precios. La salud no debería ser un lujo, sino un derecho universal que no lleve a la ruina a nadie.",
         "1"
        ],
        [
         "23",
         "La carencia de espacios seguros y accesibles para la recreación y el deporte en barrios vulnerables afecta el bienestar y la salud mental, lo cual es un aspecto de la pobreza social. Las alcaldías deben invertir en la creación y mantenimiento de estos lugares. La recreación es fundamental para el desarrollo integral de las personas y para construir comunidades más fuertes.",
         "1"
        ],
        [
         "24",
         "El acceso limitado a tecnologías de la información y la comunicación (TIC) en zonas rurales y de bajos ingresos amplía la brecha digital y limita las oportunidades económicas. El Ministerio de Tecnologías de la Información y las Comunicaciones debe expandir la conectividad y ofrecer capacitaciones. La inclusión digital es clave para el desarrollo y para que nadie se quede atrás en la era actual.",
         "1"
        ],
        [
         "25",
         "La violencia intrafamiliar y el abuso de menores, además de ser crímenes atroces, generan un ciclo de pobreza y exclusión en las víctimas. Las instituciones de protección familiar y la Policía deben fortalecer sus mecanismos de denuncia y atención. Es fundamental romper estos ciclos de violencia para que las nuevas generaciones puedan crecer en un ambiente seguro y sin pobreza.",
         "1"
        ],
        [
         "26",
         "La falta de una política agraria integral que apoye la comercialización de productos campesinos los deja a merced de intermediarios, empobreciéndolos. El Ministerio de Agricultura y las asociaciones de productores deben crear canales de venta justos. Un comercio equitativo es esencial para que el trabajo del campo sea rentable y sostenible, y para que los campesinos no vivan en la pobreza.",
         "1"
        ],
        [
         "27",
         "Los programas de transferencia monetaria condicionada, aunque útiles, a menudo no son suficientes para sacar a las familias de la pobreza extrema, requiriendo un enfoque más integral. El gobierno debe revisar sus montos y complementarlos con capacitación y empleo. Es necesario un apoyo más robusto y duradero para que estas familias logren la autonomía económica y la dignidad.",
         "1"
        ],
        [
         "28",
         "La escasez de guarderías y centros de cuidado infantil asequibles dificulta la participación laboral de muchas madres, especialmente las de bajos ingresos. Las alcaldías y el ICBF deben ampliar la oferta de estos servicios. El cuidado infantil es una inversión social que permite a las mujeres trabajar y contribuir al ingreso familiar, rompiendo el ciclo de la pobreza.",
         "1"
        ],
        [
         "29",
         "El estigma social asociado a la pobreza y a los programas de asistencia desanima a muchas personas a buscar ayuda, perpetuando su situación. Es fundamental cambiar la narrativa y promover la empatía y la solidaridad en la sociedad. Debemos entender que la pobreza no es una elección, sino el resultado de múltiples factores, y que todos merecemos una oportunidad.",
         "1"
        ],
        [
         "30",
         "La deficiente calidad del sistema de salud en las zonas rurales, con pocos médicos y equipos, afecta directamente la productividad y empobrece a las familias. El Ministerio de Salud debe priorizar la inversión en infraestructura y personal médico en estas áreas. La salud es un pilar fundamental para el desarrollo y para que las comunidades rurales salgan de la pobreza.",
         "1"
        ],
        [
         "31",
         "La falta de acceso a una educación superior de calidad para jóvenes de bajos recursos limita sus oportunidades de ascenso social y los condena a la pobreza. El Icetex y las universidades deben ampliar las becas y los créditos condonables. La educación es la herramienta más poderosa para transformar vidas y romper el ciclo generacional de la pobreza.",
         "1"
        ],
        [
         "32",
         "La deforestación y la degradación ambiental en mi región afectan los medios de subsistencia de las comunidades, que dependen de los recursos naturales. Las corporaciones autónomas regionales y el Ministerio de Ambiente deben implementar programas de desarrollo sostenible. La protección del medio ambiente es crucial para garantizar la seguridad alimentaria y económica de estas poblaciones.",
         "1"
        ],
        [
         "33",
         "La carencia de títulos de propiedad de la tierra para muchos campesinos genera incertidumbre y dificulta el acceso a créditos y proyectos productivos. La Agencia Nacional de Tierras debe agilizar los procesos de formalización y titulación. La seguridad jurídica sobre la tierra es fundamental para que los campesinos inviertan y generen riqueza, superando la pobreza.",
         "1"
        ],
        [
         "34",
         "El alto costo de los servicios públicos domiciliarios (luz, agua, gas) en estratos bajos consume una parte considerable de sus ingresos, manteniendo a las familias en la pobreza. Las empresas de servicios y la Comisión de Regulación de Energía y Gas deben revisar las tarifas y subsidios. Es un derecho básico acceder a estos servicios sin que representen una carga insostenible.",
         "1"
        ],
        [
         "35",
         "La falta de inversión en vías terciarias en zonas rurales aísla a los productores, dificulta el transporte de sus productos y reduce sus ingresos, perpetuando la pobreza. El Invías y las gobernaciones deben priorizar la construcción y mantenimiento de estas carreteras. Una buena infraestructura es clave para la competitividad del campo y el bienestar de sus habitantes.",
         "1"
        ],
        [
         "36",
         "Los programas de emprendimiento a menudo no llegan a las poblaciones más vulnerables, que carecen de la capacitación y el capital inicial para iniciar un negocio. El Sena y las cámaras de comercio deben diseñar programas más inclusivos y con acompañamiento personalizado. Fomentar el autoempleo es una estrategia efectiva para combatir la pobreza y generar desarrollo local.",
         "1"
        ],
        [
         "37",
         "La presencia de minería ilegal en nuestra zona no solo destruye el medio ambiente, sino que también genera conflictos y empobrece a las comunidades locales, que quedan sin recursos. Las autoridades ambientales y de seguridad deben actuar con contundencia para erradicar esta actividad. Proteger nuestros recursos naturales es proteger el futuro y la dignidad de nuestras gentes.",
         "1"
        ],
        [
         "38",
         "La falta de acceso a un seguro de desempleo o a programas de reentrenamiento laboral deja a las personas sin sustento cuando pierden su trabajo, sumiéndolas en la pobreza. El gobierno y los gremios deben crear mecanismos de protección más robustos. Es fundamental brindar un colchón de seguridad para que la pérdida de un empleo no signifique la caída en la miseria.",
         "1"
        ],
        [
         "39",
         "La brecha salarial entre hombres y mujeres en trabajos similares contribuye a la pobreza femenina y a la desigualdad de género. El Ministerio del Trabajo y las empresas deben garantizar la igualdad de remuneración por igual trabajo. La justicia salarial es un paso fundamental para empoderar a las mujeres y reducir la pobreza en los hogares.",
         "1"
        ],
        [
         "40",
         "La falta de programas de reinserción social para personas desmovilizadas o exconvictas dificulta su reintegración y las condena a la pobreza y la reincidencia. El gobierno y las ONG deben fortalecer estos programas con oportunidades laborales y apoyo psicosocial. Brindar segundas oportunidades es clave para construir una sociedad más justa y segura, y reducir la pobreza.",
         "1"
        ],
        [
         "41",
         "El acaparamiento de tierras por parte de grandes empresas o individuos reduce la disponibilidad de terrenos para pequeños agricultores, limitando sus oportunidades y empobreciéndolos. Las autoridades agrarias deben regular el uso de la tierra y promover su distribución equitativa. Es esencial proteger a los pequeños productores y garantizar su acceso a la tierra para su sustento.",
         "1"
        ],
        [
         "42",
         "La falta de acceso a servicios bancarios básicos, como cuentas de ahorro o microcréditos, en zonas rurales, mantiene a la población en la informalidad y la pobreza. Los bancos y el gobierno deben expandir la bancarización y la educación financiera en estas áreas. La inclusión financiera es una herramienta poderosa para el desarrollo económico y la superación de la pobreza.",
         "1"
        ],
        [
         "43",
         "La ausencia de políticas públicas que fomenten la asociatividad entre pequeños productores los deja vulnerables frente a los grandes mercados, disminuyendo sus ganancias. El Ministerio de Agricultura y las Cámaras de Comercio deben apoyar la creación de cooperativas y asociaciones. La unión hace la fuerza y permite a los campesinos obtener mejores precios por sus productos.",
         "1"
        ],
        [
         "44",
         "La deficiente infraestructura de salud en mi municipio, con pocos centros de atención y especialistas, obliga a las familias a viajar lejos y gastar mucho, lo que agrava su pobreza. La Secretaría de Salud departamental debe invertir en la mejora de estos servicios. El acceso a la salud es un derecho que no debería ser una carga económica para nadie.",
         "1"
        ],
        [
         "45",
         "La falta de programas de apoyo psicológico y de salud mental accesibles en comunidades vulnerables agrava los problemas sociales y económicos. La Secretaría de Salud y las ONG deben expandir estos servicios. La salud mental es tan importante como la física para el bienestar general y para que las personas puedan salir de la pobreza.",
         "1"
        ],
        [
         "46",
         "El alto costo de los útiles escolares y la matrícula en colegios privados es una barrera para la educación de calidad de muchos niños, perpetuando la pobreza. El gobierno debe fortalecer la educación pública y ofrecer subsidios para materiales educativos. La educación es la base para el desarrollo y para romper el ciclo de la pobreza en las familias.",
         "1"
        ],
        [
         "47",
         "La informalidad en la venta ambulante, aunque genera ingresos, expone a los trabajadores a condiciones precarias y sin seguridad social. La alcaldía debe buscar estrategias para formalizar estas actividades y proteger a los vendedores. Es fundamental dignificar el trabajo y garantizar que todos tengan acceso a condiciones laborales justas, superando la pobreza.",
         "1"
        ],
        [
         "48",
         "La escasez de fuentes de empleo alternativas a la agricultura tradicional en mi región, hace que muchas familias dependan de cultivos de bajo rendimiento, manteniéndolas en la pobreza. Las agencias de desarrollo regional deben promover la diversificación económica. Es crucial generar nuevas oportunidades para que las comunidades rurales prosperen y mejoren su calidad de vida.",
         "1"
        ],
        [
         "49",
         "La falta de acceso a servicios de cuidado para adultos mayores en comunidades de bajos ingresos obliga a las familias a destinar tiempo y recursos, lo que afecta su productividad. El ICBF y las alcaldías deben crear más centros de atención y apoyo. Nuestros mayores merecen un cuidado digno y sus familias no deberían empobrecerse por ello.",
         "1"
        ]
       ],
       "shape": {
        "columns": 2,
        "rows": 741
       }
      },
      "text/html": [
       "<div>\n",
       "<style scoped>\n",
       "    .dataframe tbody tr th:only-of-type {\n",
       "        vertical-align: middle;\n",
       "    }\n",
       "\n",
       "    .dataframe tbody tr th {\n",
       "        vertical-align: top;\n",
       "    }\n",
       "\n",
       "    .dataframe thead th {\n",
       "        text-align: right;\n",
       "    }\n",
       "</style>\n",
       "<table border=\"1\" class=\"dataframe\">\n",
       "  <thead>\n",
       "    <tr style=\"text-align: right;\">\n",
       "      <th></th>\n",
       "      <th>textos</th>\n",
       "      <th>labels</th>\n",
       "    </tr>\n",
       "  </thead>\n",
       "  <tbody>\n",
       "    <tr>\n",
       "      <th>0</th>\n",
       "      <td>Es preocupante ver cómo en nuestra vereda, la ...</td>\n",
       "      <td>1</td>\n",
       "    </tr>\n",
       "    <tr>\n",
       "      <th>1</th>\n",
       "      <td>La informalidad laboral en mi barrio es rampan...</td>\n",
       "      <td>1</td>\n",
       "    </tr>\n",
       "    <tr>\n",
       "      <th>2</th>\n",
       "      <td>En el centro de la ciudad, hay demasiada gente...</td>\n",
       "      <td>1</td>\n",
       "    </tr>\n",
       "    <tr>\n",
       "      <th>3</th>\n",
       "      <td>Las madres cabeza de hogar en nuestra comuna l...</td>\n",
       "      <td>1</td>\n",
       "    </tr>\n",
       "    <tr>\n",
       "      <th>4</th>\n",
       "      <td>La falta de acceso a créditos blandos para peq...</td>\n",
       "      <td>1</td>\n",
       "    </tr>\n",
       "    <tr>\n",
       "      <th>...</th>\n",
       "      <td>...</td>\n",
       "      <td>...</td>\n",
       "    </tr>\n",
       "    <tr>\n",
       "      <th>736</th>\n",
       "      <td>La informalidad en la venta de servicios de co...</td>\n",
       "      <td>1</td>\n",
       "    </tr>\n",
       "    <tr>\n",
       "      <th>737</th>\n",
       "      <td>La falta de acceso a servicios legales y de as...</td>\n",
       "      <td>1</td>\n",
       "    </tr>\n",
       "    <tr>\n",
       "      <th>738</th>\n",
       "      <td>La desigualdad en el acceso a la infraestructu...</td>\n",
       "      <td>1</td>\n",
       "    </tr>\n",
       "    <tr>\n",
       "      <th>739</th>\n",
       "      <td>La falta de oportunidades para las personas en...</td>\n",
       "      <td>1</td>\n",
       "    </tr>\n",
       "    <tr>\n",
       "      <th>740</th>\n",
       "      <td>La dependencia de la economía del cacao en alg...</td>\n",
       "      <td>1</td>\n",
       "    </tr>\n",
       "  </tbody>\n",
       "</table>\n",
       "<p>741 rows × 2 columns</p>\n",
       "</div>"
      ],
      "text/plain": [
       "                                                textos  labels\n",
       "0    Es preocupante ver cómo en nuestra vereda, la ...       1\n",
       "1    La informalidad laboral en mi barrio es rampan...       1\n",
       "2    En el centro de la ciudad, hay demasiada gente...       1\n",
       "3    Las madres cabeza de hogar en nuestra comuna l...       1\n",
       "4    La falta de acceso a créditos blandos para peq...       1\n",
       "..                                                 ...     ...\n",
       "736  La informalidad en la venta de servicios de co...       1\n",
       "737  La falta de acceso a servicios legales y de as...       1\n",
       "738  La desigualdad en el acceso a la infraestructu...       1\n",
       "739  La falta de oportunidades para las personas en...       1\n",
       "740  La dependencia de la economía del cacao en alg...       1\n",
       "\n",
       "[741 rows x 2 columns]"
      ]
     },
     "execution_count": 113,
     "metadata": {},
     "output_type": "execute_result"
    }
   ],
   "source": [
    "df_generated = pd.concat([df_generated1, df_generated2, df_generated3], ignore_index=True)\n",
    "df_generated"
   ]
  },
  {
   "cell_type": "code",
   "execution_count": 114,
   "id": "968e0ce9",
   "metadata": {},
   "outputs": [
    {
     "name": "stdout",
     "output_type": "stream",
     "text": [
      "Hay 39 duplicados\n",
      "Duplicados eliminados\n",
      "Hay 191 textos cortos (< 300 caracteres)\n",
      "Textos cortos eliminados\n"
     ]
    }
   ],
   "source": [
    "df_generated_clean = utils.clean_df(df_generated)"
   ]
  },
  {
   "cell_type": "code",
   "execution_count": 115,
   "id": "f6312b58",
   "metadata": {},
   "outputs": [
    {
     "data": {
      "application/vnd.microsoft.datawrangler.viewer.v0+json": {
       "columns": [
        {
         "name": "index",
         "rawType": "int64",
         "type": "integer"
        },
        {
         "name": "textos",
         "rawType": "object",
         "type": "string"
        },
        {
         "name": "labels",
         "rawType": "int64",
         "type": "integer"
        }
       ],
       "ref": "53740131-a904-4ac7-8627-ed325c759128",
       "rows": [
        [
         "0",
         "preocup ver com vered falt oportun emple dign oblig much famili viv minim acces servici basic autor local deb implement program impuls econom rural gener ingres establ campesin situacion actual insosten afect direct calid vid vecin perpetu cicl pobrez parec ten fin",
         "1"
        ],
        [
         "1",
         "informal laboral barri rampant dej muchisim person segur social ingres fij agrav pobrez urgent gobiern municipal cre incent formaliz brind apoy pequeñ emprendedor falt acces emple establ barrer enorm sal adel constru futur dign famili",
         "1"
        ],
        [
         "2",
         "centr ciud demasi gent viv situacion call reflej profund desiguald falt red apoy alcald deb fortalec program atencion integral poblacion ofrec viviend aliment oportun reintegr social pod ignor realid afect dignid human tej social comun",
         "1"
        ],
        [
         "3",
         "madr cabez hog comun luch diari aliment hij salari baj trabaj intermitent evidenci pobrez multidimensional necesit polit public den priorid acces subsidi capacit laboral pued mejor ingres fundamental reconoc apoy esfuerz mujer pil famili",
         "1"
        ],
        [
         "4",
         "falt acces credit bland pequeñ agricultor region limit capac inversion mantien pobrez banc agrari entidad deb simplific tramit ofrec ta interes just apoy financier adecu podr transform product camp mejor signific calid vid campesin",
         "1"
        ],
        [
         "5",
         "observ tristez com escasez aliment nutrit preci asequ barri vulner capital afect salud niñ crucial gobiern local organiz implement program segur alimentari huert comunitari malnutricion infantil problem grav hipotec futur socied deb ser abord urgenci",
         "1"
        ],
        [
         "6",
         "ausenci infraestructur basic agu potabl saneamient much zon rural profundiz pobrez desiguald respons empres servici public gobiern departamental llev solucion tod comun servici esencial impos garantiz vid dign desarroll sosten campesin",
         "1"
        ],
        [
         "7",
         "cost elev transport public impact sever presupuest famili baj ingres deb destin gran part sueld moviliz administr municipal deb subsidi part pasaj busc altern econom carg econom dificult acces oportun laboral educ perpetu pobrez hogar",
         "1"
        ],
        [
         "8",
         "escas ofert viviend dign asequ oblig much famili viv condicion precari hacin periferi ciud gobiern nacional constructor deb prioriz proyect interes social facil pag derech fundamental ten tech segur adecu falt derech conden pobrez mil ciudadan",
         "1"
        ],
        [
         "9",
         "falt oportun joven puebl especial acces educ superior conden pobrez desemple entidad educ sen deb ampli ofert program tecnic formacion trabaj invert juventud invert futur comun romp cicl pobrez",
         "1"
        ],
        [
         "10",
         "desiguald acces tierr zon rural concentr riquez poc man empobrec pequeñ productor fundamental autor agrari implement polit reform agrari titul tierr distribu equit tierr permit famili campesin gener ingres viv dign trabaj",
         "1"
        ],
        [
         "11",
         "burocraci exces acced program social subsidi desanim person necesit termin recib apoy vital departament prosper social alcald deb simplific tramit hac acces eficient entreg apoy crucial combat pobrez lleg realment necesit",
         "1"
        ],
        [
         "12",
         "falt acces servici financier inclus microcredit emprendedor impid crecimient pequeñ negoci comun cooper banc deb ofrec product adapt neces poblacion mayor acces capital semill podr transform econom local sac much famili pobrez",
         "1"
        ],
        [
         "13",
         "discrimin laboral edad gener barrer inclusion grup vulner manten pobrez empres ministeri trabaj deb promov polit equid diver inacept talent experient much person ignor prejuici agrav pobrez socied",
         "1"
        ],
        [
         "14",
         "desastr natural recurrent region inund destru cultiv viviend sum comun rural pobrez urgent unid nacional gestion riesg implement plan prevencion reconstruccion efect resilient comun depend apoy oportun sosten recuper tragedi",
         "1"
        ],
        [
         "15",
         "ausenci salari minim vital realment cubr neces basic famili factor determin pobrez colombi gobiern gremi deb revis ajust valor maner just period imper trabaj dign traduzc vid dign ciudadan",
         "1"
        ],
        [
         "16",
         "explot laboral sector informal jorn extens pag infim form esclavitud modern perpetu pobrez ministeri trabaj sindicat deb intensific inspeccion sancion pod permit neces person aprovech detriment manten miseri",
         "1"
        ],
        [
         "17",
         "falt program educ financ poblacion baj ingres hac vulner deud estaf profundiz pobrez entidad bancari gobiern deb ofrec capacit gratuit acces aprend administr diner herramient poder mejor calid vid evit caer tramp financ",
         "1"
        ],
        [
         "18",
         "abandon estatal comun indigen afrodescendient departament traduc pobrez extrem falt oportun gobiern nacional deb cumpl compromis inversion garantiz derech ancestral comun ric cultur conoc merec viv dignid acced mism servici rest pais",
         "1"
        ],
        [
         "19",
         "corrupcion administr recurs public destin program social desv fond podr alivi pobrez contralor fiscal deb ser rigur vigil sancion actos cad pe rob golp direct esper person necesit perpetu desiguald",
         "1"
        ],
        [
         "20",
         "dificult acced sistem pension dign dej adult mayor pobrez desproteccion colpension gobiern deb busc solucion ampli cobertur garantiz vejez tranquil mayor trabaj tod vid merec retir dignid preocup econom",
         "1"
        ],
        [
         "21",
         "falt oportun person discapac exclu merc laboral conden pobrez empres deb implement polit inclusion laboral adapt espaci deb socied garantiz tod person import capac oportun ser product autonom",
         "1"
        ],
        [
         "22",
         "alto cost medicament tratamient medic caus empobrec much famili enfrent enfermedad cronic ministeri salud eps deb asegur acces medicin esencial reduc preci salud deb ser luj sin derech universal llev ruin nadi",
         "1"
        ],
        [
         "23",
         "carenci espaci segur acces recreacion deport barri vulner afect bienest salud mental aspect pobrez social alcald deb invert creacion manten lugar recreacion fundamental desarroll integral person constru comun fuert",
         "1"
        ],
        [
         "24",
         "acces limit tecnolog inform comun tic zon rural baj ingres ampli brech digital limit oportun econom ministeri tecnolog inform comun deb expand conect ofrec capacit inclusion digital clav desarroll nadi qued atras actual",
         "1"
        ],
        [
         "25",
         "violenci intrafamili abus menor ademas ser crimen atroc gener cicl pobrez exclusion victim institu proteccion famili polic deb fortalec mecan denunci atencion fundamental romp cicl violenci nuev gener pued crec ambient segur pobrez",
         "1"
        ],
        [
         "26",
         "falt polit agrari integral apoy comercializ product campesin dej merc intermediari empobrec ministeri agricultur asoci productor deb cre canal vent just comerci equit esencial trabaj camp rentabl sosten campesin viv pobrez",
         "1"
        ],
        [
         "27",
         "program transferent monetari condicion aunqu util menud suficient sac famili pobrez extrem requir enfoqu integral gobiern deb revis mont complement capacit emple necesari apoy robust durader famili logr autonom econom dignid",
         "1"
        ],
        [
         "28",
         "escasez guard centr cuid infantil asequ dificult particip laboral much madr especial baj ingres alcald icbf deb ampli ofert servici cuid infantil inversion social permit mujer trabaj contribu ingres famili romp cicl pobrez",
         "1"
        ],
        [
         "29",
         "estigm social asoci pobrez program asistent desanim much person busc ayud perpetu situacion fundamental cambi narrat promov empat solidar socied deb entend pobrez eleccion sin result multipl factor merec oportun",
         "1"
        ],
        [
         "30",
         "deficient calid sistem salud zon rural poc medic equip afect direct product empobrec famili ministeri salud deb prioriz inversion infraestructur personal medic are salud pil fundamental desarroll comun rural salg pobrez",
         "1"
        ],
        [
         "31",
         "falt acces educ superior calid joven baj recurs limit oportun ascens social conden pobrez icetex univers deb ampli bec credit condon educ herramient poder transform vid romp cicl generacional pobrez",
         "1"
        ],
        [
         "32",
         "deforest degrad ambiental region afect medi subsistent comun depend recurs natural corpor autonom regional ministeri ambient deb implement program desarroll sosten proteccion medi ambient crucial garantiz segur alimentari econom poblacion",
         "1"
        ],
        [
         "33",
         "carenci titul propied tierr campesin gener incertidumbr dificult acces credit proyect product agenci nacional tierr deb agiliz proces formaliz titul segur jurid tierr fundamental campesin inviert gener riquez super pobrez",
         "1"
        ],
        [
         "34",
         "alto cost servici public domiciliari luz agu gas estrat baj consum part consider ingres manten famili pobrez empres servici comision regul energ gas deb revis tarif subsidi derech basic acced servici represent carg insosten",
         "1"
        ],
        [
         "35",
         "falt inversion vias terciari zon rural aisl productor dificult transport product reduc ingres perpetu pobrez invi gobern deb prioriz construccion manten carreter buen infraestructur clav competit camp bienest habit",
         "1"
        ],
        [
         "36",
         "program emprend menud lleg poblacion vulner carec capacit capital inicial inici negoci sen cam comerci deb diseñ program inclus acompañ personaliz foment autoemple estrategi efect combat pobrez gener desarroll local",
         "1"
        ],
        [
         "37",
         "presenci min ilegal zon sol destru medi ambient sin gener conflict empobrec comun local qued recurs autor ambiental segur deb actu contundent erradic activ proteg recurs natural proteg futur dignid gent",
         "1"
        ],
        [
         "38",
         "falt acces segur desemple program reentren laboral dej person sustent pierd trabaj sum pobrez gobiern gremi deb cre mecan proteccion robust fundamental brind colchon segur perd emple signifiqu caid miseri",
         "1"
        ],
        [
         "39",
         "brech salarial hombr mujer trabaj similar contribu pobrez femenin desiguald gener ministeri trabaj empres deb garantiz iguald remuner igual trabaj justici salarial pa fundamental empoder mujer reduc pobrez hogar",
         "1"
        ],
        [
         "40",
         "falt program reinsercion social person desmoviliz exconvict dificult reintegr conden pobrez reincident gobiern ong deb fortalec program oportun laboral apoy psicosocial brind segund oportun clav constru socied just segur reduc pobrez",
         "1"
        ],
        [
         "41",
         "acapar tierr part grand empres individu reduc disponibil terren pequeñ agricultor limit oportun empobrec autor agrari deb regul uso tierr promov distribu equit esencial proteg pequeñ productor garantiz acces tierr sustent",
         "1"
        ],
        [
         "42",
         "falt acces servici bancari basic cuent ahorr microcredit zon rural mantien poblacion informal pobrez banc gobiern deb expand bancariz educ financ are inclusion financ herramient poder desarroll econom super pobrez",
         "1"
        ],
        [
         "43",
         "ausenci polit public foment asociat pequeñ productor dej vulner frent grand merc disminu gananci ministeri agricultur cam comerci deb apoy creacion cooper asoci union hac fuerz permit campesin obten mejor preci product",
         "1"
        ],
        [
         "44",
         "deficient infraestructur salud municipi poc centr atencion especial oblig famili viaj lej gast agrav pobrez secret salud departamental deb invert mejor servici acces salud derech deb ser carg econom nadi",
         "1"
        ],
        [
         "45",
         "falt program apoy psicolog salud mental acces comun vulner agrav problem social econom secret salud ong deb expand servici salud mental tan import fisic bienest general person pued sal pobrez",
         "1"
        ],
        [
         "46",
         "alto cost util escolar matricul colegi priv barrer educ calid niñ perpetu pobrez gobiern deb fortalec educ public ofrec subsidi material educ educ ba desarroll romp cicl pobrez famili",
         "1"
        ],
        [
         "47",
         "informal vent ambul aunqu gener ingres expon trabaj condicion precari segur social alcald deb busc estrategi formaliz activ proteg vendedor fundamental dignific trabaj garantiz acces condicion laboral just super pobrez",
         "1"
        ],
        [
         "48",
         "escasez fuent emple altern agricultur tradicional region hac much famili depend cultiv baj rendimient manten pobrez agenci desarroll regional deb promov diversif econom crucial gener nuev oportun comun rural prosper mejor calid vid",
         "1"
        ],
        [
         "49",
         "falt acces servici cuid adult mayor comun baj ingres oblig famili destin tiemp recurs afect product icbf alcald deb cre centr atencion apoy mayor merec cuid dign famili deb empobrec ello",
         "1"
        ]
       ],
       "shape": {
        "columns": 2,
        "rows": 511
       }
      },
      "text/html": [
       "<div>\n",
       "<style scoped>\n",
       "    .dataframe tbody tr th:only-of-type {\n",
       "        vertical-align: middle;\n",
       "    }\n",
       "\n",
       "    .dataframe tbody tr th {\n",
       "        vertical-align: top;\n",
       "    }\n",
       "\n",
       "    .dataframe thead th {\n",
       "        text-align: right;\n",
       "    }\n",
       "</style>\n",
       "<table border=\"1\" class=\"dataframe\">\n",
       "  <thead>\n",
       "    <tr style=\"text-align: right;\">\n",
       "      <th></th>\n",
       "      <th>textos</th>\n",
       "      <th>labels</th>\n",
       "    </tr>\n",
       "  </thead>\n",
       "  <tbody>\n",
       "    <tr>\n",
       "      <th>0</th>\n",
       "      <td>preocup ver com vered falt oportun emple dign ...</td>\n",
       "      <td>1</td>\n",
       "    </tr>\n",
       "    <tr>\n",
       "      <th>1</th>\n",
       "      <td>informal laboral barri rampant dej muchisim pe...</td>\n",
       "      <td>1</td>\n",
       "    </tr>\n",
       "    <tr>\n",
       "      <th>2</th>\n",
       "      <td>centr ciud demasi gent viv situacion call refl...</td>\n",
       "      <td>1</td>\n",
       "    </tr>\n",
       "    <tr>\n",
       "      <th>3</th>\n",
       "      <td>madr cabez hog comun luch diari aliment hij sa...</td>\n",
       "      <td>1</td>\n",
       "    </tr>\n",
       "    <tr>\n",
       "      <th>4</th>\n",
       "      <td>falt acces credit bland pequeñ agricultor regi...</td>\n",
       "      <td>1</td>\n",
       "    </tr>\n",
       "    <tr>\n",
       "      <th>...</th>\n",
       "      <td>...</td>\n",
       "      <td>...</td>\n",
       "    </tr>\n",
       "    <tr>\n",
       "      <th>701</th>\n",
       "      <td>dependent econom frijol region gener cicl pobr...</td>\n",
       "      <td>1</td>\n",
       "    </tr>\n",
       "    <tr>\n",
       "      <th>702</th>\n",
       "      <td>falt estrategi integral prevencion atencion vi...</td>\n",
       "      <td>1</td>\n",
       "    </tr>\n",
       "    <tr>\n",
       "      <th>703</th>\n",
       "      <td>informal vent servici coaching consultor traba...</td>\n",
       "      <td>1</td>\n",
       "    </tr>\n",
       "    <tr>\n",
       "      <th>704</th>\n",
       "      <td>falt acces servici legal asesor defens derech ...</td>\n",
       "      <td>1</td>\n",
       "    </tr>\n",
       "    <tr>\n",
       "      <th>705</th>\n",
       "      <td>desiguald acces infraestructur basic transport...</td>\n",
       "      <td>1</td>\n",
       "    </tr>\n",
       "  </tbody>\n",
       "</table>\n",
       "<p>511 rows × 2 columns</p>\n",
       "</div>"
      ],
      "text/plain": [
       "                                                textos  labels\n",
       "0    preocup ver com vered falt oportun emple dign ...       1\n",
       "1    informal laboral barri rampant dej muchisim pe...       1\n",
       "2    centr ciud demasi gent viv situacion call refl...       1\n",
       "3    madr cabez hog comun luch diari aliment hij sa...       1\n",
       "4    falt acces credit bland pequeñ agricultor regi...       1\n",
       "..                                                 ...     ...\n",
       "701  dependent econom frijol region gener cicl pobr...       1\n",
       "702  falt estrategi integral prevencion atencion vi...       1\n",
       "703  informal vent servici coaching consultor traba...       1\n",
       "704  falt acces servici legal asesor defens derech ...       1\n",
       "705  desiguald acces infraestructur basic transport...       1\n",
       "\n",
       "[511 rows x 2 columns]"
      ]
     },
     "execution_count": 115,
     "metadata": {},
     "output_type": "execute_result"
    }
   ],
   "source": [
    "df_generated_clean"
   ]
  },
  {
   "cell_type": "code",
   "execution_count": 116,
   "id": "e0f85c12",
   "metadata": {},
   "outputs": [
    {
     "data": {
      "application/vnd.microsoft.datawrangler.viewer.v0+json": {
       "columns": [
        {
         "name": "index",
         "rawType": "int64",
         "type": "integer"
        },
        {
         "name": "textos",
         "rawType": "object",
         "type": "string"
        },
        {
         "name": "labels",
         "rawType": "int64",
         "type": "integer"
        }
       ],
       "ref": "bc189733-77d9-4461-9ad7-fbbcbe63d637",
       "rows": [
        [
         "1",
         "informal laboral barri rampant dej muchisim person segur social ingres fij agrav pobrez urgent gobiern municipal cre incent formaliz brind apoy pequeñ emprendedor falt acces emple establ barrer enorm sal adel constru futur dign famili",
         "1"
        ],
        [
         "3",
         "madr cabez hog comun luch diari aliment hij salari baj trabaj intermitent evidenci pobrez multidimensional necesit polit public den priorid acces subsidi capacit laboral pued mejor ingres fundamental reconoc apoy esfuerz mujer pil famili",
         "1"
        ],
        [
         "4",
         "falt acces credit bland pequeñ agricultor region limit capac inversion mantien pobrez banc agrari entidad deb simplific tramit ofrec ta interes just apoy financier adecu podr transform product camp mejor signific calid vid campesin",
         "1"
        ],
        [
         "5",
         "observ tristez com escasez aliment nutrit preci asequ barri vulner capital afect salud niñ crucial gobiern local organiz implement program segur alimentari huert comunitari malnutricion infantil problem grav hipotec futur socied deb ser abord urgenci",
         "1"
        ],
        [
         "6",
         "ausenci infraestructur basic agu potabl saneamient much zon rural profundiz pobrez desiguald respons empres servici public gobiern departamental llev solucion tod comun servici esencial impos garantiz vid dign desarroll sosten campesin",
         "1"
        ],
        [
         "7",
         "cost elev transport public impact sever presupuest famili baj ingres deb destin gran part sueld moviliz administr municipal deb subsidi part pasaj busc altern econom carg econom dificult acces oportun laboral educ perpetu pobrez hogar",
         "1"
        ],
        [
         "8",
         "escas ofert viviend dign asequ oblig much famili viv condicion precari hacin periferi ciud gobiern nacional constructor deb prioriz proyect interes social facil pag derech fundamental ten tech segur adecu falt derech conden pobrez mil ciudadan",
         "1"
        ],
        [
         "10",
         "desiguald acces tierr zon rural concentr riquez poc man empobrec pequeñ productor fundamental autor agrari implement polit reform agrari titul tierr distribu equit tierr permit famili campesin gener ingres viv dign trabaj",
         "1"
        ],
        [
         "12",
         "falt acces servici financier inclus microcredit emprendedor impid crecimient pequeñ negoci comun cooper banc deb ofrec product adapt neces poblacion mayor acces capital semill podr transform econom local sac much famili pobrez",
         "1"
        ],
        [
         "13",
         "discrimin laboral edad gener barrer inclusion grup vulner manten pobrez empres ministeri trabaj deb promov polit equid diver inacept talent experient much person ignor prejuici agrav pobrez socied",
         "1"
        ],
        [
         "14",
         "desastr natural recurrent region inund destru cultiv viviend sum comun rural pobrez urgent unid nacional gestion riesg implement plan prevencion reconstruccion efect resilient comun depend apoy oportun sosten recuper tragedi",
         "1"
        ],
        [
         "15",
         "ausenci salari minim vital realment cubr neces basic famili factor determin pobrez colombi gobiern gremi deb revis ajust valor maner just period imper trabaj dign traduzc vid dign ciudadan",
         "1"
        ],
        [
         "16",
         "explot laboral sector informal jorn extens pag infim form esclavitud modern perpetu pobrez ministeri trabaj sindicat deb intensific inspeccion sancion pod permit neces person aprovech detriment manten miseri",
         "1"
        ],
        [
         "17",
         "falt program educ financ poblacion baj ingres hac vulner deud estaf profundiz pobrez entidad bancari gobiern deb ofrec capacit gratuit acces aprend administr diner herramient poder mejor calid vid evit caer tramp financ",
         "1"
        ],
        [
         "19",
         "corrupcion administr recurs public destin program social desv fond podr alivi pobrez contralor fiscal deb ser rigur vigil sancion actos cad pe rob golp direct esper person necesit perpetu desiguald",
         "1"
        ],
        [
         "20",
         "dificult acced sistem pension dign dej adult mayor pobrez desproteccion colpension gobiern deb busc solucion ampli cobertur garantiz vejez tranquil mayor trabaj tod vid merec retir dignid preocup econom",
         "1"
        ],
        [
         "21",
         "falt oportun person discapac exclu merc laboral conden pobrez empres deb implement polit inclusion laboral adapt espaci deb socied garantiz tod person import capac oportun ser product autonom",
         "1"
        ],
        [
         "23",
         "carenci espaci segur acces recreacion deport barri vulner afect bienest salud mental aspect pobrez social alcald deb invert creacion manten lugar recreacion fundamental desarroll integral person constru comun fuert",
         "1"
        ],
        [
         "24",
         "acces limit tecnolog inform comun tic zon rural baj ingres ampli brech digital limit oportun econom ministeri tecnolog inform comun deb expand conect ofrec capacit inclusion digital clav desarroll nadi qued atras actual",
         "1"
        ],
        [
         "25",
         "violenci intrafamili abus menor ademas ser crimen atroc gener cicl pobrez exclusion victim institu proteccion famili polic deb fortalec mecan denunci atencion fundamental romp cicl violenci nuev gener pued crec ambient segur pobrez",
         "1"
        ],
        [
         "26",
         "falt polit agrari integral apoy comercializ product campesin dej merc intermediari empobrec ministeri agricultur asoci productor deb cre canal vent just comerci equit esencial trabaj camp rentabl sosten campesin viv pobrez",
         "1"
        ],
        [
         "27",
         "program transferent monetari condicion aunqu util menud suficient sac famili pobrez extrem requir enfoqu integral gobiern deb revis mont complement capacit emple necesari apoy robust durader famili logr autonom econom dignid",
         "1"
        ],
        [
         "28",
         "escasez guard centr cuid infantil asequ dificult particip laboral much madr especial baj ingres alcald icbf deb ampli ofert servici cuid infantil inversion social permit mujer trabaj contribu ingres famili romp cicl pobrez",
         "1"
        ],
        [
         "29",
         "estigm social asoci pobrez program asistent desanim much person busc ayud perpetu situacion fundamental cambi narrat promov empat solidar socied deb entend pobrez eleccion sin result multipl factor merec oportun",
         "1"
        ],
        [
         "31",
         "falt acces educ superior calid joven baj recurs limit oportun ascens social conden pobrez icetex univers deb ampli bec credit condon educ herramient poder transform vid romp cicl generacional pobrez",
         "1"
        ],
        [
         "32",
         "deforest degrad ambiental region afect medi subsistent comun depend recurs natural corpor autonom regional ministeri ambient deb implement program desarroll sosten proteccion medi ambient crucial garantiz segur alimentari econom poblacion",
         "1"
        ],
        [
         "34",
         "alto cost servici public domiciliari luz agu gas estrat baj consum part consider ingres manten famili pobrez empres servici comision regul energ gas deb revis tarif subsidi derech basic acced servici represent carg insosten",
         "1"
        ],
        [
         "35",
         "falt inversion vias terciari zon rural aisl productor dificult transport product reduc ingres perpetu pobrez invi gobern deb prioriz construccion manten carreter buen infraestructur clav competit camp bienest habit",
         "1"
        ],
        [
         "36",
         "program emprend menud lleg poblacion vulner carec capacit capital inicial inici negoci sen cam comerci deb diseñ program inclus acompañ personaliz foment autoemple estrategi efect combat pobrez gener desarroll local",
         "1"
        ],
        [
         "37",
         "presenci min ilegal zon sol destru medi ambient sin gener conflict empobrec comun local qued recurs autor ambiental segur deb actu contundent erradic activ proteg recurs natural proteg futur dignid gent",
         "1"
        ],
        [
         "38",
         "falt acces segur desemple program reentren laboral dej person sustent pierd trabaj sum pobrez gobiern gremi deb cre mecan proteccion robust fundamental brind colchon segur perd emple signifiqu caid miseri",
         "1"
        ],
        [
         "40",
         "falt program reinsercion social person desmoviliz exconvict dificult reintegr conden pobrez reincident gobiern ong deb fortalec program oportun laboral apoy psicosocial brind segund oportun clav constru socied just segur reduc pobrez",
         "1"
        ],
        [
         "41",
         "acapar tierr part grand empres individu reduc disponibil terren pequeñ agricultor limit oportun empobrec autor agrari deb regul uso tierr promov distribu equit esencial proteg pequeñ productor garantiz acces tierr sustent",
         "1"
        ],
        [
         "42",
         "falt acces servici bancari basic cuent ahorr microcredit zon rural mantien poblacion informal pobrez banc gobiern deb expand bancariz educ financ are inclusion financ herramient poder desarroll econom super pobrez",
         "1"
        ],
        [
         "43",
         "ausenci polit public foment asociat pequeñ productor dej vulner frent grand merc disminu gananci ministeri agricultur cam comerci deb apoy creacion cooper asoci union hac fuerz permit campesin obten mejor preci product",
         "1"
        ],
        [
         "44",
         "deficient infraestructur salud municipi poc centr atencion especial oblig famili viaj lej gast agrav pobrez secret salud departamental deb invert mejor servici acces salud derech deb ser carg econom nadi",
         "1"
        ],
        [
         "45",
         "falt program apoy psicolog salud mental acces comun vulner agrav problem social econom secret salud ong deb expand servici salud mental tan import fisic bienest general person pued sal pobrez",
         "1"
        ],
        [
         "47",
         "informal vent ambul aunqu gener ingres expon trabaj condicion precari segur social alcald deb busc estrategi formaliz activ proteg vendedor fundamental dignific trabaj garantiz acces condicion laboral just super pobrez",
         "1"
        ],
        [
         "48",
         "escasez fuent emple altern agricultur tradicional region hac much famili depend cultiv baj rendimient manten pobrez agenci desarroll regional deb promov diversif econom crucial gener nuev oportun comun rural prosper mejor calid vid",
         "1"
        ],
        [
         "49",
         "falt acces servici cuid adult mayor comun baj ingres oblig famili destin tiemp recurs afect product icbf alcald deb cre centr atencion apoy mayor merec cuid dign famili deb empobrec ello",
         "1"
        ],
        [
         "50",
         "deficient gestion residu sol barri marginal gener problem salud medi ambient afect calid vid habit profundiz pobrez empres ase alcald deb invert infraestructur program reciclaj entorn limpi san derech fundamental ciudadan",
         "1"
        ],
        [
         "51",
         "falt acces internet calid zon rural limit acces educ virtual oportun laboral ampli brech desiguald ministeri tecnolog inform comun deb implement plan expansion cobertur conect herramient esencial desarroll super pobrez camp",
         "1"
        ],
        [
         "52",
         "criminal insegur barri sol gener mied sin ahuyent inversion oportun laboral perpetu pobrez polic alcald deb trabaj man comun fortalec segur entorn segur fundamental desarroll econom social cualqui comun",
         "1"
        ],
        [
         "53",
         "ausenci sistem transport public eficient acces afuer ciud dificult acces trabaj servici empobrec famili alcald empres transport deb mejor cobertur frecuenci transport dign factor clav movil social econom ciudadan",
         "1"
        ],
        [
         "54",
         "falt program reforest recuper suel degrad afect product agricol empobrec comun campesin corpor autonom regional ministeri ambient deb invert proyect proteg restaur ecosistem esencial garantiz segur alimentari bienest gener futur",
         "1"
        ],
        [
         "56",
         "falt acces agu potabl segur constant much vered oblig famili compr agu consum fuent contamin afect salud econom empres servici public alcald deb prioriz inversion acueduct rural agu derech fundamental escasez agrav pobrez",
         "1"
        ],
        [
         "57",
         "carenci program capacit emple sector emergent dej trabaj habil necesari acced mejor trabaj sen empres deb actualiz ofert educ formacion continu clav empleabil person pued mejor ingres sal pobrez",
         "1"
        ],
        [
         "58",
         "informal sector construccion baj salari segur laboral expon trabaj pobrez condicion riesg ministeri trabaj sindicat deb fiscaliz sector promov formaliz fundamental garantiz derech laboral segur trabaj import ofici",
         "1"
        ],
        [
         "59",
         "falt acces servici salud mental zon rural depresion ansied comun agrav situacion pobrez secret salud deb llev especial program atencion comun bienest emocional crucial person pued enfrent desafi vid prosper",
         "1"
        ],
        [
         "60",
         "escas apoy econom local pequeñ comerci frent grand caden empobrec emprendedor comun alcald deb implement polit foment consum local program apoy pymes fortalec comerci barri fundamental gener emple riquez comun",
         "1"
        ]
       ],
       "shape": {
        "columns": 2,
        "rows": 411
       }
      },
      "text/html": [
       "<div>\n",
       "<style scoped>\n",
       "    .dataframe tbody tr th:only-of-type {\n",
       "        vertical-align: middle;\n",
       "    }\n",
       "\n",
       "    .dataframe tbody tr th {\n",
       "        vertical-align: top;\n",
       "    }\n",
       "\n",
       "    .dataframe thead th {\n",
       "        text-align: right;\n",
       "    }\n",
       "</style>\n",
       "<table border=\"1\" class=\"dataframe\">\n",
       "  <thead>\n",
       "    <tr style=\"text-align: right;\">\n",
       "      <th></th>\n",
       "      <th>textos</th>\n",
       "      <th>labels</th>\n",
       "    </tr>\n",
       "  </thead>\n",
       "  <tbody>\n",
       "    <tr>\n",
       "      <th>1</th>\n",
       "      <td>informal laboral barri rampant dej muchisim pe...</td>\n",
       "      <td>1</td>\n",
       "    </tr>\n",
       "    <tr>\n",
       "      <th>3</th>\n",
       "      <td>madr cabez hog comun luch diari aliment hij sa...</td>\n",
       "      <td>1</td>\n",
       "    </tr>\n",
       "    <tr>\n",
       "      <th>4</th>\n",
       "      <td>falt acces credit bland pequeñ agricultor regi...</td>\n",
       "      <td>1</td>\n",
       "    </tr>\n",
       "    <tr>\n",
       "      <th>5</th>\n",
       "      <td>observ tristez com escasez aliment nutrit prec...</td>\n",
       "      <td>1</td>\n",
       "    </tr>\n",
       "    <tr>\n",
       "      <th>6</th>\n",
       "      <td>ausenci infraestructur basic agu potabl saneam...</td>\n",
       "      <td>1</td>\n",
       "    </tr>\n",
       "    <tr>\n",
       "      <th>...</th>\n",
       "      <td>...</td>\n",
       "      <td>...</td>\n",
       "    </tr>\n",
       "    <tr>\n",
       "      <th>698</th>\n",
       "      <td>informal vent servici cuid person mayor domici...</td>\n",
       "      <td>1</td>\n",
       "    </tr>\n",
       "    <tr>\n",
       "      <th>699</th>\n",
       "      <td>falt particip grup mujer indigen definicion po...</td>\n",
       "      <td>1</td>\n",
       "    </tr>\n",
       "    <tr>\n",
       "      <th>702</th>\n",
       "      <td>falt estrategi integral prevencion atencion vi...</td>\n",
       "      <td>1</td>\n",
       "    </tr>\n",
       "    <tr>\n",
       "      <th>703</th>\n",
       "      <td>informal vent servici coaching consultor traba...</td>\n",
       "      <td>1</td>\n",
       "    </tr>\n",
       "    <tr>\n",
       "      <th>705</th>\n",
       "      <td>desiguald acces infraestructur basic transport...</td>\n",
       "      <td>1</td>\n",
       "    </tr>\n",
       "  </tbody>\n",
       "</table>\n",
       "<p>411 rows × 2 columns</p>\n",
       "</div>"
      ],
      "text/plain": [
       "                                                textos  labels\n",
       "1    informal laboral barri rampant dej muchisim pe...       1\n",
       "3    madr cabez hog comun luch diari aliment hij sa...       1\n",
       "4    falt acces credit bland pequeñ agricultor regi...       1\n",
       "5    observ tristez com escasez aliment nutrit prec...       1\n",
       "6    ausenci infraestructur basic agu potabl saneam...       1\n",
       "..                                                 ...     ...\n",
       "698  informal vent servici cuid person mayor domici...       1\n",
       "699  falt particip grup mujer indigen definicion po...       1\n",
       "702  falt estrategi integral prevencion atencion vi...       1\n",
       "703  informal vent servici coaching consultor traba...       1\n",
       "705  desiguald acces infraestructur basic transport...       1\n",
       "\n",
       "[411 rows x 2 columns]"
      ]
     },
     "execution_count": 116,
     "metadata": {},
     "output_type": "execute_result"
    }
   ],
   "source": [
    "# Se eliminan 100 al azar para cumplir con añadir cerca de 400 registros nuevos\n",
    "df_generated_clean = df_generated_clean.drop(df_generated_clean.sample(100, random_state=42).index)\n",
    "df_generated_clean\n"
   ]
  },
  {
   "cell_type": "markdown",
   "id": "a0e1336b",
   "metadata": {},
   "source": [
    "## 2.4 Unir los datos originales de test con los sintéticos\n"
   ]
  },
  {
   "cell_type": "code",
   "execution_count": 123,
   "id": "6b1d3440",
   "metadata": {},
   "outputs": [
    {
     "data": {
      "application/vnd.microsoft.datawrangler.viewer.v0+json": {
       "columns": [
        {
         "name": "index",
         "rawType": "int64",
         "type": "integer"
        },
        {
         "name": "textos",
         "rawType": "object",
         "type": "string"
        },
        {
         "name": "labels",
         "rawType": "int64",
         "type": "integer"
        }
       ],
       "ref": "94811f44-273e-4670-a80f-44646076a6ec",
       "rows": [
        [
         "0",
         "podr involucr sistem acredit certific escuel capac administr presupuest gast oper part proces evalu escol medi inspeccion ver capitul otorg autonom deb entonc asoci monitore relev enfoc especial monitore result ver capitul deb exig desarroll plan desarroll escol vincul prioridad educ escuel intencion gast colabor comun escol",
         "4"
        ],
        [
         "1",
         "marc ahor establec enfoqu nacional acord integr educ financ años obligatori escolar fundacion año brind orient com pued estructur tem apoy progresion aprendizaj capac influ polit public ver vincul gobiern educ sid esencial desarroll marc original consult clav inform enfoqu nacional grup trabaj mceety desarroll marc inclu equip alt especializ expert educ tod jurisdiccion sector educ conoc bien panoram educ nacional jurisdiccional excelent red part interes form relacion product respetu",
         "4"
        ],
        [
         "2",
         "hogar inform val cuatr ole pued riesg entrar sal pobrez do tres ole rein unid do ole rest pais tabl anex muestr mism estim format grafic calcul ta medi crecimient ingres relat cad grup decil año ba cad period crecimient ingres niñ clar favor pobr crecimient relat porcentaj ingres alto decil pobr aunqu patron liger diferent cad cuatr period consider crecimient medi ingres decil pobr desaceler tiemp pa",
         "1"
        ],
        [
         "3",
         "esfuerz profesional segu form modern educ medic continu todav infanci podr mitig esfuerz impuls aun gananci calid servici atencion medic implement sistem seguimient localiz disposit medic rastre ubic cad disposit medic dec cad pacient result",
         "3"
        ],
        [
         "4",
         "ejempl umbral pobrez defin ingres medi pais millon person ue riesg caer pobrez mit tod person hogar baj ingres ue viv riesg persistent caer pobrez ademas calcul cad cinc person europ viv infraviviend viv hogar nadi trabaj comision comun europ dec ta pobrez elev registr unid rein unid gran bretañ irland nort irland itali greci",
         "1"
        ],
        [
         "5",
         "arroj luz detall imag pued ayud diseñ focaliz polit abord dañ asoci consum alcohol result analisis consum alcohol pais ocde present seccion anterior document analisis realiz ba dat consum alcohol nivel individual vari ole encuest nacional salud estil vid inclu identif tendenci larg tiemp consum general alcohol med consum alcohol peligr episod intens asi regresion analisis ba dispar social patron consum alcohol calcul indic concentr pais individual",
         "3"
        ],
        [
         "6",
         "medi sigl xx sistem educ expand enorm poblacion human nunc tan educ hoy econom emergent pais desarroll ampli ce sistem educ pues consider educ ingredient indispens moderniz progres hech benefici individu sociedad educ cad vez mayor sig siend impresion",
         "4"
        ],
        [
         "7",
         "mejor rendimient efect posit ta matricul asistent alumn graham berm niñ evalu empiez escuel result comunic padr pid padr realic activ aprendizaj hij dia cab seis me padr vuelv conoc result evalu niñ",
         "4"
        ],
        [
         "8",
         "deb inclu disponibil poblacion men movil ejempl profesional formacion salud mental acud centr atencion ancian psicolog visit ancian ca centr atencion obstant sistem salud mental japon va zag pais ocde japon suel consider igual cuant calid sistem sanitari sig predomin atencion hospitalari inform calid escas dese demand pacient situ centr prestacion cuid constru sistem salud mental modern alta calid centr pacient japon deb ser ambici dispuest tom decision dificil impuls cambi import signific dese pacient deb ser centr sistem salud mental pued contribu disponibil seri servici regim hospitaliz comun deb ser facil acces cerc nucle poblacion",
         "3"
        ],
        [
         "9",
         "parlament decid elabor plan accion salud mental lueg public libr blanc esper salud mental servici salud mental norueg libr blanc gobiern apertur comprension trastorn mental prestacion servici ministeri salud servici atencion norueg sigu establec debil brech signific sistem salud mental plan escal agreg gran cantid psicolog fuerz laboral salud mental ver cuadr",
         "3"
        ],
        [
         "10",
         "analiz continu proced realiz poc frecuenci kazajstan implic probabl acces desigual pacient deriv mayor probabil ser ingres lleg ambul autorreferent razon comun nieg admision pacient inclu aquell referent falt neces medic proced planific represent mayor part activ quirurg mayor hospital kazaj ingres planific ocup cam destin activ planific pued llev posterg atencion necesari convirt barrer acces si bien tiemp esper parec cort dad baj volum proced quirurg realiz compar deb hac cautel",
         "3"
        ],
        [
         "11",
         "version anterior document recib comentari anthony atkinson francois bourguignon matthew hammill johann jutting marc mir dercol martin ravallion autor agradec autor deud banc mundial disponibil line dat distribu ba dat povcalnet agradec especial shaohu chen proporcion dat subyacent direct autor dec primer presenci convergent incondicional pais gener pais pobr encabez chin indi crec rap econom avanz ocde rap crecimient mund desarroll reduc drastic pobrez extrem millon men person extrem pobr mund ahor mund camin logr met reduc mit numer person viv dol dia propus hac declar mileni",
         "1"
        ],
        [
         "12",
         "bien sol comercializ dentr are pequeñ pereceder cost transport program proteccion social gener ingres adicional gener demand bien servici produc local contribu circul virtuos crecimient ingres agricol rural agricol refuerz mutu grad impact depend disponibil recurs local inclu man obra pued suministr bien servici necesari satisfac demand adicional aument signific preci",
         "1"
        ],
        [
         "13",
         "mayor part esfuerz deb dirig subsan lagun dat atencion primari ejempl deb reforz recog dat variacion enfermedad cronic practic general enfermedad contribu desiguald dane carg morbil diabet depresion trat cad vez centr atencion primari veans capitul cuadr ello recopil dat atencion primari form adecu supervis result sanitari equit inform inici abord desigualdad existent excelent atencion person mayor priorid dinamarc seguimient dat result sanitari prestacion atencion sanitari grup poblacion edad contribu garantiz priorid",
         "3"
        ],
        [
         "14",
         "razon podr ser dad person pobr cerc umbral pobrez rent vitalici hipotec invers podr sac pobrez embarg cod moscarol et belgic dinamarc españ suiz pobrez reduc terci aunqu alemani sueci",
         "1"
        ],
        [
         "15",
         "lueg consider papel estrategi reduccion pobrez ampli complement principi etic implicit constitu termin evalu fuerz consens actual pobrez reduccion pobrez punt vist deb perspect etic describ ayud evalu institu just",
         "1"
        ],
        [
         "16",
         "vez estudi comienz comprend mism ser cultural vuelv recept acept cultur raz orig etnic estudi gay program etutor objet cre entorn futur maestr pud interrog propi cultur maner segur solidari inclus desafi atract carr experient interactu niñ multipl cultur entorn line result actitud posit cambi mayor particip maestr formacion cual comenz vision etnocentr termin vision etnorrel demostr empat cuid niñ diferent cultur",
         "4"
        ],
        [
         "17",
         "lad trabaj cuent propi disminu mantuv establ mayor pais enfoqu ba tar ejempl muestr proporcion emple trabaj tar rutinari tradicional compuest trabaj calif medi disminu mism tiemp gran aument particip emple abstract menor med trabaj manual rutinari maner simil enfoqu ba emple tom consider ocup particul dentr industri particul encuentr evident polariz laboral mostr patron form u cambi emple decil laboral mit pais",
         "1"
        ],
        [
         "18",
         "recaid recurrent posibl result cuy ca deb restablec modific tratamient secuel consecuent negat condicion pued persist afeccion agud cronic pued deterior caus discapac algun grad graved lev complet disminu vari domini funcion podr dej individu incapaz manej propi cuid rehabilit factibl busc opcion cuid larg plaz hc objet manten mejor calid vid reduc sufrimient limit deterior",
         "3"
        ],
        [
         "19",
         "establec model intervencion tres etap intervencion primari implic reform tod escuel distrit destin brind instruccion alta calid ambient escol foment asistent regul comport posit sugier pued hac equip maestr brind instruccion alta calid asegur plan estudi relev manteng estudi interes sugier cultur ambient aprendizaj personaliz orden fuert conexion famili correspond vari med prevent prevent vist dirig nivel educ preescol primari",
         "4"
        ],
        [
         "20",
         "separ estudi diferent program educ ocurr sol despues grad estudi pued optar continu decim grad mism escuel regul escuel academ ejempl louse gimnasi escuel vocacional separ diferent program educ equip revision visit escuel maestr psicolog brind estudi atencion individual form clas extracurricular recuper escuel estudi dijeron equip revision dificultad cualqui tem primer estrategi discut problem maestr",
         "4"
        ],
        [
         "21",
         "categor prim digit identific final asistent sanitari diver neces potencial consumidor asistent sanitari list reflej agreg utiliz mayor pais elabor perfil gast compar inclu part pro memori med pertinent nivel nacional pais interes hac seguimient continu categor prevencion salud public segun csa",
         "3"
        ],
        [
         "22",
         "decision certif negat conllev suspension licenci escuel inform certif contien list infraccion detect vec identif person respons dentr escuel aunqu inform centr infraccion normat suel conten seri recomend mejor practic pedagog centr",
         "4"
        ],
        [
         "23",
         "part probabl aument reflej crecient incident diabet asi mejor acces cuid dialisis obstant crecient numer pacient dialisis indic potencial reduccion carg enfermed mediant accion prevent eficac dirig reduc incident enfermed asi mejor gestion mism minimiz riesg complic grav esrf dependent dialisis mayor pais greci itali japon core pacient recib tratamient",
         "3"
        ],
        [
         "24",
         "embarg compar promedi internacional dobl maestr primari mexic particip program formal induccion si acces inclus ca profesor acces poc particip tutor mayor pais maestr primari recib apoy coleg",
         "4"
        ],
        [
         "25",
         "cur obligatori dentr grup materi matemat revis respond avanc tecnolog tailandi introduj nuev curricul educ basic inclu estandar estudi grad deb sab tic educ tecnolog comprend tic conten diseñ tecnolog tailandi ampli esfuerz integr tic educ mediant desarroll seri document estrategi cuatr años enmiend plan estudi educ basic",
         "4"
        ],
        [
         "26",
         "docent capac influ cad cap diseñ pedagog conviert tare complej potencial gratif vital import pod evalu evalu pedagog posicion autent lug pretend tod pedagog apunt mism objet relat anterior establec pedagog centr disciplin centr estudi fundamental logr proposit educ estudi com desarroll perici carg cognit destac enseñ explicit conoc habil aspect vital part educ",
         "4"
        ],
        [
         "27",
         "lin pobrez diferent pais larg tiemp ba moned nacional tailandi logr gran exit pobrez disminu principi dec period transicion econom central planific econom merc vari pais subregion asi nort central experiment alta incident pobrez",
         "1"
        ],
        [
         "28",
         "reform educ resalt aun papel orient afirm pod eleg conscient cur educ profesional estudi derech recib inform ampli complet cualqui asunt relacion escuel univers educ recient ministeri educ cre cuerp asesor escolar universitari encarg inform asesor estudi famili sistem educ univers oportun profesional diferent sector form part organ docent experiment recib formacion especializ",
         "4"
        ],
        [
         "29",
         "core subsidi hij cuid hog introduj hogar niñ menor años usan guard jardin infanci capitul l recuadr myanm promulg ley segur social aun implement tod disposicion pertinent embarg ocho pais tal pag respons empleador sujet regul codig laboral nacional lug legisl proteccion social",
         "1"
        ],
        [
         "30",
         "pais proces introduc tic hospital centr salud embarg mencion exist definicion internacional acord descripcion medicion establec salud indic establec cercan numer cam hospital cad habit",
         "3"
        ],
        [
         "31",
         "apreci plen papel pued desempeñ gobern reduccion pobrez import hac distincion polit public lad gobern polit public elabor implement dentr marc gobern ultim pued facilit proces formul polit pued dificult",
         "1"
        ],
        [
         "32",
         "com mejor pertinent calid educ com reforz diversific industri existent mejor capac absorcion econom ba pyme necesari equilibr gran atencion prest actual atraccion talent foment talent pais orig mejor acces nuev inmigr educ terciari",
         "4"
        ],
        [
         "33",
         "consej local educ asesor gobiern municipal departament educ asunt regional polit educ consolid red escol region alytus ejempl equip evalu reun represent consej local educ reun miembr represent profesor padr alumn centr enseñ general aunqu consej suel compuest miembr casi tod escuel impart plan estudi primari prim cicl secundari subordin municipi principal fundador escuel public",
         "4"
        ],
        [
         "34",
         "estandar min formacion docent garantiz acredit aprob program formacion docent part nztc proveedor formacion docent program aprob nztc deb demostr com permit estudi alcanc estandar docent gradu proveedor garantiz estudi cumpl estandar aptos ser maestr gradu program",
         "4"
        ],
        [
         "35",
         "requisit tom decision parraf ver arrib document trabaj banc mundial veas oms implement parraf context cab señal adquisicion conjunt medicament part vari pais desarroll general medi import atra interes productor farmaceut merc regional pued baj enfoqu pal zanahori ser utiliz gobi pais desarroll negoci esquem favor colabor titular patent farmaceut ver seccion",
         "3"
        ],
        [
         "36",
         "si inversion provision trastorn lev moder reduc ausent enfermed present veans subseccion anterior punt vist econom grand empres japones involucr promocion bienest prevencion enfermedad feder nacional sociedad segur salud llev cab activ intercambi inform concientiz realiz esfuerz ayud identific angusti mental emple brind consej com alent emple busc ayud angusti mental",
         "3"
        ],
        [
         "37",
         "mayor ta incident it registr bayankhongor ca domod sukhbaat khuvsgul govialtai tuv govisumb domogovi aimags ciud ulan bator morbil tricomoniasis elev aimags domod bayankhongor bulg sukhbaat ciud ulan bator superior medi nacional medi aimags incident infeccion vih aument lent mongoli",
         "3"
        ],
        [
         "38",
         "signif cantid total anual pued ser sustancial person baj ingres ademas igual mayor pais odontolog inclu paquet benefici atencion medic public sujet copag alto aunqu niñ adolescent años complet cubiert aument si bien sueci nivel baj gast catastrof deb utiliz servici salud person report problem accesibil financ casi person grup ingres baj report neces insatisfech examen dental compar promedi nacional eurostat eusilc",
         "3"
        ],
        [
         "39",
         "zon acces adecu servici salud pa hoy ebais present territori pais constitu ba sistem nacional salud not negat ebais sol ofrec cit mañan tempran tard limit acces atencion primari mayor medic trabaj ebais formacion especializ posgr atencion primari",
         "3"
        ],
        [
         "40",
         "incent sancion torn cumplimient directric adecu adapt condicion local pued ser apropi implic ningun perd atencion continu personaliz pacient dane valor razon pais pa practic individual practic pequeñ grup tres cuatr medic perd espiritu mism tiemp necesit apoy ampli calid segur benefici apoy par practic grup medic cabecer trabaj entorn practic grup men factibl trabaj zon rural",
         "3"
        ],
        [
         "41",
         "vincul dat registr inclu relat mortal gran potencial ampliacion uso registr electron normaliz vincul dat reduc carg supon personal atencion primari registr dat duplic multipl registr calid mejor normaliz racionaliz arquitectur inform apoy mejor calid coordin asistent sanitari inclu atencion primari deb ser priorid ademas abord cuestion practic conllev necesari liderazg cambi cultur atencion primari venc resistent recog dat promov potencial dat referent mejor calid apoy pacient",
         "3"
        ],
        [
         "42",
         "pregunt dif consider definicion deb alent pais alin cuestionari distribu cost gobi hogar pued ser eficient equit si exist restriccion creditici inclus si benefici titul universitari hac gast priv valg pen estudi pobr aun deb pod pag",
         "4"
        ],
        [
         "43",
         "compar enfoqu med pobrez infantil multidimensional document trabaj innocenti oficin investig unicef innocenti definicion medicion pobrez desiguald despues journal of international development uso indic privacion monetari analiz pobrez exclusion social leccion europ",
         "1"
        ],
        [
         "44",
         "contribu seminal arrow subray com fall generaliz merc asistent sanitari hac fuerz competit restriccion reduzc bienest lug aument obstant vari pais ocde reforz recient competent introduc eleccion regul proveedor menor med asegur reform ba presuncion competent unid buen marc regul mejor calid servici sanitari tiemp limit efect advers fuerz merc trab descrem cobertur select acces desigual servici dat recient abarc rein unid unid muestr competent hospital si va acompañ regul fuert eficaz pued reduc gast mejor calid atencion gaynor et primer evalu reform inici sueci objet aument eleccion medic atencion primari indic mejor acces atencion sanitari anel et panel pais ocde maisonneuv et",
         "3"
        ],
        [
         "45",
         "represent cad tres joven inmigr años lleg finlandi transcurs alto grad autonom escol junt falt dat vincul particip clas preparatori itinerari educ dificult evalu factor impuls mal result joven migrant deb realiz mayor esfuerz monitor herramient apoy integr emple result logr",
         "4"
        ],
        [
         "46",
         "embarg gran carg trabaj medic hac tiemp consult cort men diez minut medi tiemp suficient abord cuestion salud mental promocion salud aspect sistem atencion primari israel bien situ hac frent futur ret sanitari comun mayor pais desarroll inclu cambi advers factor determin salud obes habit vid perjudicial salud tabaqu envejec poblacion crecient carg enfermedad cronic fond dispon histori clinic electron hce complet atencion comunitari permit compart inform medic laboratori centr diagnost pacient",
         "3"
        ],
        [
         "47",
         "tal cur preparatori suel ser obligatori aunqu particip necesit realiz suel realiz trabaj profesion ca experient profesion condicion previ present exam field et represent mezcl reconoc aprendizaj previ adquisicion competent adicional aglutin exam cualif asoci",
         "4"
        ],
        [
         "48",
         "problem salud mental inclu part trabaj part ministeri alla division bienest salud mental ejempl polit emple prest atencion problem salud mental are emple apoy regres trabaj educ marc legal do herramient clav gobiern central promulg cambi line direccion polit trave ley analiz detall capitul mhlw indic direccion polit nacional asegur financi requer",
         "3"
        ],
        [
         "49",
         "joven sol educ secundari inferior oportun limit realiz potencial desarroll habil aprendizaj pued deb mal calid asistent educ brind escuel falt recurs inclu disponibil maestr capacit metod enseñ prest much men atencion calid enseñ aprendizaj experiment alumn recient enfoqu desplaz haci calid educ ofrec apoy transicion educ secundari terciari",
         "4"
        ]
       ],
       "shape": {
        "columns": 2,
        "rows": 2107
       }
      },
      "text/html": [
       "<div>\n",
       "<style scoped>\n",
       "    .dataframe tbody tr th:only-of-type {\n",
       "        vertical-align: middle;\n",
       "    }\n",
       "\n",
       "    .dataframe tbody tr th {\n",
       "        vertical-align: top;\n",
       "    }\n",
       "\n",
       "    .dataframe thead th {\n",
       "        text-align: right;\n",
       "    }\n",
       "</style>\n",
       "<table border=\"1\" class=\"dataframe\">\n",
       "  <thead>\n",
       "    <tr style=\"text-align: right;\">\n",
       "      <th></th>\n",
       "      <th>textos</th>\n",
       "      <th>labels</th>\n",
       "    </tr>\n",
       "  </thead>\n",
       "  <tbody>\n",
       "    <tr>\n",
       "      <th>0</th>\n",
       "      <td>podr involucr sistem acredit certific escuel c...</td>\n",
       "      <td>4</td>\n",
       "    </tr>\n",
       "    <tr>\n",
       "      <th>1</th>\n",
       "      <td>marc ahor establec enfoqu nacional acord integ...</td>\n",
       "      <td>4</td>\n",
       "    </tr>\n",
       "    <tr>\n",
       "      <th>2</th>\n",
       "      <td>hogar inform val cuatr ole pued riesg entrar s...</td>\n",
       "      <td>1</td>\n",
       "    </tr>\n",
       "    <tr>\n",
       "      <th>3</th>\n",
       "      <td>esfuerz profesional segu form modern educ medi...</td>\n",
       "      <td>3</td>\n",
       "    </tr>\n",
       "    <tr>\n",
       "      <th>4</th>\n",
       "      <td>ejempl umbral pobrez defin ingres medi pais mi...</td>\n",
       "      <td>1</td>\n",
       "    </tr>\n",
       "    <tr>\n",
       "      <th>...</th>\n",
       "      <td>...</td>\n",
       "      <td>...</td>\n",
       "    </tr>\n",
       "    <tr>\n",
       "      <th>2102</th>\n",
       "      <td>informal vent servici cuid person mayor domici...</td>\n",
       "      <td>1</td>\n",
       "    </tr>\n",
       "    <tr>\n",
       "      <th>2103</th>\n",
       "      <td>falt particip grup mujer indigen definicion po...</td>\n",
       "      <td>1</td>\n",
       "    </tr>\n",
       "    <tr>\n",
       "      <th>2104</th>\n",
       "      <td>falt estrategi integral prevencion atencion vi...</td>\n",
       "      <td>1</td>\n",
       "    </tr>\n",
       "    <tr>\n",
       "      <th>2105</th>\n",
       "      <td>informal vent servici coaching consultor traba...</td>\n",
       "      <td>1</td>\n",
       "    </tr>\n",
       "    <tr>\n",
       "      <th>2106</th>\n",
       "      <td>desiguald acces infraestructur basic transport...</td>\n",
       "      <td>1</td>\n",
       "    </tr>\n",
       "  </tbody>\n",
       "</table>\n",
       "<p>2107 rows × 2 columns</p>\n",
       "</div>"
      ],
      "text/plain": [
       "                                                 textos  labels\n",
       "0     podr involucr sistem acredit certific escuel c...       4\n",
       "1     marc ahor establec enfoqu nacional acord integ...       4\n",
       "2     hogar inform val cuatr ole pued riesg entrar s...       1\n",
       "3     esfuerz profesional segu form modern educ medi...       3\n",
       "4     ejempl umbral pobrez defin ingres medi pais mi...       1\n",
       "...                                                 ...     ...\n",
       "2102  informal vent servici cuid person mayor domici...       1\n",
       "2103  falt particip grup mujer indigen definicion po...       1\n",
       "2104  falt estrategi integral prevencion atencion vi...       1\n",
       "2105  informal vent servici coaching consultor traba...       1\n",
       "2106  desiguald acces infraestructur basic transport...       1\n",
       "\n",
       "[2107 rows x 2 columns]"
      ]
     },
     "execution_count": 123,
     "metadata": {},
     "output_type": "execute_result"
    }
   ],
   "source": [
    "df_total = pd.concat([train_original,df_generated_clean], ignore_index=True)\n",
    "df_total"
   ]
  },
  {
   "cell_type": "code",
   "execution_count": 125,
   "id": "af29c01a",
   "metadata": {},
   "outputs": [
    {
     "data": {
      "image/png": "[encoded data removed]",
      "text/plain": [
       "<Figure size 600x600 with 1 Axes>"
      ]
     },
     "metadata": {},
     "output_type": "display_data"
    }
   ],
   "source": [
    "\n",
    "label_counts = df_total['labels'].value_counts()\n",
    "label_counts.index = label_counts.index.map(lambda i: f\"ODS {i} - {dict_ods.get(i, 'Desconocido')}\")\n",
    "\n",
    "plt.figure(figsize=(6, 6))\n",
    "plt.pie(\n",
    "    label_counts,\n",
    "    labels=label_counts.index,\n",
    "    autopct=lambda p: f'{p:.1f}%\\n({int(p * sum(label_counts) / 100)})',\n",
    "    startangle=90,\n",
    "    colors=plt.cm.Set3.colors\n",
    ")\n",
    "\n",
    "plt.title(\"Distribución de opiniones por ODS\", fontsize=15)\n",
    "plt.axis(\"equal\")  # Mantiene el círculo perfecto\n",
    "plt.show()\n"
   ]
  },
  {
   "cell_type": "markdown",
   "id": "9b4adaa1",
   "metadata": {},
   "source": [
    "## 2.5 Re entrenar el modelo\n"
   ]
  },
  {
   "cell_type": "code",
   "execution_count": 126,
   "id": "eff954d6",
   "metadata": {},
   "outputs": [],
   "source": [
    "X_train = df_total['textos']\n",
    "y_train = df_total['labels']\n",
    "\n",
    "X_test = test_original['textos']\n",
    "y_test = test_original['labels']\n",
    "\n",
    "model = Pipeline([\n",
    "    ('vect', TfidfVectorizer(\n",
    "        # max_features=5000,       # puedes ajustar el número de palabras\n",
    "        # ngram_range=(1,2),       # usa unigramas y bigramas\n",
    "        # stop_words='spanish'     # elimina palabras comunes en español\n",
    "    )),\n",
    "    ('clf', LinearSVC(random_state=42, C=1, class_weight='balanced'))\n",
    "])\n",
    "\n",
    "new_model = model.fit(X_train , y_train)\n",
    "\n",
    "y_pred = model.predict(X_test)"
   ]
  },
  {
   "cell_type": "markdown",
   "id": "19da789f",
   "metadata": {},
   "source": [
    "## 2.6 Calcular métricas\n"
   ]
  },
  {
   "cell_type": "code",
   "execution_count": 127,
   "id": "17f60682",
   "metadata": {},
   "outputs": [
    {
     "name": "stdout",
     "output_type": "stream",
     "text": [
      "Accuracy: 0.9656593406593407\n",
      "Precision: 0.9657419424646314\n",
      "Recall: 0.9656593406593407\n",
      "F1-score: 0.965582501265719\n"
     ]
    }
   ],
   "source": [
    "print(\"Accuracy:\", accuracy_score(y_test, y_pred))\n",
    "print(\"Precision:\", precision_score(y_test, y_pred, average='weighted'))\n",
    "print(\"Recall:\", recall_score(y_test, y_pred, average='weighted'))\n",
    "print(\"F1-score:\", f1_score(y_test, y_pred, average='weighted'))"
   ]
  },
  {
   "cell_type": "markdown",
   "id": "d2e6e583",
   "metadata": {},
   "source": [
    "---\n",
    "\n",
    "# Fase 3: Evaluación comparativa:\n",
    "## 3.1 Calcular metricas del modelo re entrenado con los datos news\n"
   ]
  },
  {
   "cell_type": "code",
   "execution_count": 128,
   "id": "b23da667",
   "metadata": {},
   "outputs": [
    {
     "name": "stdout",
     "output_type": "stream",
     "text": [
      "Accuracy: 0.9292929292929293\n",
      "F1-macro: 0.9198071098358042\n",
      "Precision: 0.9226941226941228\n",
      "Recall: 0.917829457364341\n"
     ]
    }
   ],
   "source": [
    "X_new = df_new_clean['textos']\n",
    "y_new = df_new_clean['labels']\n",
    "\n",
    "y_new_pred = new_model.predict(X_new)\n",
    "\n",
    "print(\"Accuracy:\", accuracy_score(y_new, y_new_pred))\n",
    "print(\"F1-macro:\", f1_score(y_new, y_new_pred, average='macro'))\n",
    "print(\"Precision:\", precision_score(y_new, y_new_pred, average='macro'))\n",
    "print(\"Recall:\", recall_score(y_new, y_new_pred, average='macro'))"
   ]
  },
  {
   "cell_type": "markdown",
   "id": "be0dfb4f",
   "metadata": {},
   "source": [
    "## 3.2 Compar resultados"
   ]
  },
  {
   "cell_type": "markdown",
   "id": "c7249184",
   "metadata": {},
   "source": [
    "\n",
    "**Tabla 1: Comparativa de Rendimiento en el Conjunto de test**\n",
    "\n",
    "\n",
    "| Métrica | Modelo Original | Modelo Re-entrenado (con Aumentación) |\n",
    "| :--- | :---: | :---: |\n",
    "| F1-Score (Macro) | **1.000** | 0.9656 |\n",
    "| Accuracy |  | 0.9656 |\n",
    "| Precision (Macro) |  | 0.9657 |\n",
    "| Recall (Macro) |  | 0.9657 |\n",
    "\n",
    "\n",
    "**Tabla 2: Comparativa de Rendimiento en el Conjunto de PRUEBA (`Datos_etapa_2`)**\n",
    "\n",
    "Esta tabla muestra el rendimiento de cada modelo sobre el conjunto de prueba, que contiene datos nuevos y nunca antes vistos.\n",
    "\n",
    "| Métrica | Modelo Original | Modelo Re-entrenado (con Aumentación) |\n",
    "| :--- | :---: | :---: |\n",
    "| F1-Score (Macro) | 0.9233 | 0.9198 |\n",
    "| Accuracy | 0.9293 | 0.9293 |\n",
    "| Precision (Macro) | 0.9431 | 0.9227 |\n",
    "| Recall (Macro) | 0.9132 | 0.9178 |\n"
   ]
  }
 ],
 "metadata": {
  "kernelspec": {
   "display_name": "venv",
   "language": "python",
   "name": "python3"
  },
  "language_info": {
   "codemirror_mode": {
    "name": "ipython",
    "version": 3
   },
   "file_extension": ".py",
   "mimetype": "text/x-python",
   "name": "python",
   "nbconvert_exporter": "python",
   "pygments_lexer": "ipython3",
   "version": "3.12.10"
  }
 },
 "nbformat": 4,
 "nbformat_minor": 5
}
